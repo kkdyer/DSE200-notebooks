{
 "metadata": {
  "name": "",
  "signature": "sha256:89183e3b5a86dd2f93b72c3ba42125423f3efc623bda3c7f4b82fa87c962436b"
 },
 "nbformat": 3,
 "nbformat_minor": 0,
 "worksheets": [
  {
   "cells": [
    {
     "cell_type": "markdown",
     "metadata": {},
     "source": [
      "#Week 2 Exercises\n",
      "\n",
      "In this weeks exercises you will use Numpy/Scipy to impliment some numerical algorithms and then you will use Pandas to perform a rudamentary data analysis using the KDD 98 dataset.  Along the way you will use unix/basic python from the first week as well as git to save your work.\n",
      "\n",
      "As a first step we import the libraries we'll use later on.  This allows us to use numpy library calls by prefixing the call with np."
     ]
    },
    {
     "cell_type": "code",
     "collapsed": false,
     "input": [
      "%cd /home/dyerke/Documents/DSE/DSE200-notebooks/lecture_2_github_io_numpy_pandas/working"
     ],
     "language": "python",
     "metadata": {},
     "outputs": [
      {
       "output_type": "stream",
       "stream": "stdout",
       "text": [
        "/home/dyerke/Documents/DSE/DSE200-notebooks/lecture_2_github_io_numpy_pandas/working\n"
       ]
      }
     ],
     "prompt_number": 1
    },
    {
     "cell_type": "code",
     "collapsed": false,
     "input": [
      "#Import the libraries \n",
      "import numpy as np\n",
      "import scipy as sp\n",
      "import pandas as pd"
     ],
     "language": "python",
     "metadata": {},
     "outputs": [],
     "prompt_number": 2
    },
    {
     "cell_type": "markdown",
     "metadata": {},
     "source": [
      "##Matrix Manipulations\n",
      "Lets first create a matrix and perform some manipulations of it.\n",
      "\n",
      "Using numpy's matrix data structure, define the following matricies:\n",
      "\n",
      "$$A=\\left[ \\begin{array}{ccc} 3 & 5 & 9 \\\\ 3 & 3 & 4 \\\\ 5 & 9 & 17 \\end{array} \\right]$$\n",
      "\n",
      "$$B=\\left[ \\begin{array}{c} 2 \\\\ 1 \\\\ 4 \\end{array} \\right]$$\n",
      "\n",
      "After this solve the matrix equation:\n",
      "$$Ax = B$$"
     ]
    },
    {
     "cell_type": "code",
     "collapsed": false,
     "input": [
      "a= np.array([ [3, 5, 9], [3, 3, 4], [5, 9, 17] ])\n",
      "A= np.matrix(a)\n",
      "\n",
      "b= np.array([2., 1., 4.])\n",
      "B= np.matrix(b).transpose()\n",
      "\n",
      "x= A.I * B\n",
      "print \"x=\", x\n",
      "\n",
      "verify= A * x\n",
      "print verify\n",
      "print B"
     ],
     "language": "python",
     "metadata": {},
     "outputs": [
      {
       "output_type": "stream",
       "stream": "stdout",
       "text": [
        "x= [[ 1.]\n",
        " [-2.]\n",
        " [ 1.]]"
       ]
      },
      {
       "output_type": "stream",
       "stream": "stdout",
       "text": [
        "\n",
        "[[ 2.]\n",
        " [ 1.]\n",
        " [ 4.]]\n",
        "[[ 2.]\n",
        " [ 1.]\n",
        " [ 4.]]\n"
       ]
      }
     ],
     "prompt_number": 5
    },
    {
     "cell_type": "markdown",
     "metadata": {},
     "source": [
      "Now write three functions for matrix multiply $C=AB$ in each of the following styles:\n",
      "\n",
      "1. By using nested for loops to impliment the naive algorithm ($C_{ij}=\\sum_{k=0}^{m-1}A_{ik}B_{kj}$)\n",
      "2. Using numpy's built in martrix multiplication  \n",
      "3. Using Cython\n",
      "\n",
      "The three methods should have the same answer"
     ]
    },
    {
     "cell_type": "code",
     "collapsed": false,
     "input": [
      "import time\n",
      "\n",
      "#1 Nested For Loops\n",
      "def naive(A, B, r_duration=None):\n",
      "    if r_duration:\n",
      "        start= time.time()\n",
      "    a_shape= shape(A)\n",
      "    b_shape= shape(B)\n",
      "    if (a_shape[1] != b_shape[0]):\n",
      "        raise RuntimeError(\"Cannot execute matrix multiplication: \" + str(a_shape[1]) + \" != \" + str(b_shape[0]))\n",
      "    n= a_shape[0]\n",
      "    m= a_shape[1]\n",
      "    p= b_shape[1]\n",
      "    R= zeros( (n, p) )\n",
      "    for i in xrange(n):\n",
      "        for j in xrange(p):\n",
      "            for k in xrange(m):\n",
      "                R[i][j] += A[i][k] * B[k][j]\n",
      "    if r_duration:\n",
      "        end= time.time()\n",
      "        duration= (end - start) * 1000.\n",
      "        r_duration.value= duration\n",
      "    return (R, r_duration.value) if r_duration else R"
     ],
     "language": "python",
     "metadata": {},
     "outputs": [],
     "prompt_number": 6
    },
    {
     "cell_type": "code",
     "collapsed": false,
     "input": [
      "from multiprocessing import Value\n",
      "\n",
      "a= np.array([ [3, 5, 9], [3, 3, 4], [5, 9, 17] ])\n",
      "b= np.array([ [1], [-2], [1] ])\n",
      "R_naive= naive(a, b, Value('f', 99999.))\n",
      "print R_naive"
     ],
     "language": "python",
     "metadata": {},
     "outputs": [
      {
       "output_type": "stream",
       "stream": "stdout",
       "text": [
        "(array([[ 2.],\n",
        "       [ 1.],\n",
        "       [ 4.]]), 0.06794929504394531)\n"
       ]
      }
     ],
     "prompt_number": 7
    },
    {
     "cell_type": "code",
     "collapsed": false,
     "input": [
      "import time\n",
      "\n",
      "#2 numpy's built in matrix multiplication\n",
      "def numpy_multiply(A, B, r_duration=None):\n",
      "    if r_duration:\n",
      "        start= time.time()\n",
      "    R= A.dot(B)\n",
      "    if r_duration:\n",
      "        end= time.time()\n",
      "        duration= (end - start) * 1000.\n",
      "        r_duration.value= duration\n",
      "    return (R, r_duration.value) if r_duration else R"
     ],
     "language": "python",
     "metadata": {},
     "outputs": [],
     "prompt_number": 8
    },
    {
     "cell_type": "code",
     "collapsed": false,
     "input": [
      "from multiprocessing import Value\n",
      "\n",
      "a= np.array([ [3, 5, 9], [3, 3, 4], [5, 9, 17] ])\n",
      "b= np.array([ [1], [-2], [1] ])\n",
      "R_numpy= numpy_multiply(a, b, Value('f', 99999.))\n",
      "print R_numpy"
     ],
     "language": "python",
     "metadata": {},
     "outputs": [
      {
       "output_type": "stream",
       "stream": "stdout",
       "text": [
        "(array([[2],\n",
        "       [1],\n",
        "       [4]]), 0.12803077697753906)\n"
       ]
      }
     ],
     "prompt_number": 9
    },
    {
     "cell_type": "code",
     "collapsed": false,
     "input": [
      "%load_ext cythonmagic"
     ],
     "language": "python",
     "metadata": {},
     "outputs": [],
     "prompt_number": 10
    },
    {
     "cell_type": "code",
     "collapsed": false,
     "input": [
      "%%cython\n",
      "\n",
      "cimport numpy as np\n",
      "import numpy as np\n",
      "import time\n",
      "\n",
      "#3 cython matrix multiplication\n",
      "def cython_multiply(np.ndarray[np.int_t, ndim=2] a,\n",
      "                np.ndarray[np.int_t, ndim=2] b,\n",
      "                r_duration=None):\n",
      "    cdef double sum\n",
      "    cdef int i\n",
      "    cdef int j\n",
      "    cdef int k\n",
      "    cdef int n\n",
      "    cdef int m\n",
      "    cdef int p\n",
      "    cdef np.ndarray[np.int_t, ndim=2] R\n",
      "    \n",
      "    if r_duration:\n",
      "        start= time.time()\n",
      "        \n",
      "    if (a.shape[1] != b.shape[0]):\n",
      "        raise RuntimeError(\"Cannot execute matrix multiplication: \" + str(a.shape[1]) + \" != \" + str(b.shape[0]))\n",
      "    n= a.shape[0]\n",
      "    m= a.shape[1]\n",
      "    p= b.shape[1]\n",
      "    R= np.zeros([n, p], dtype=np.int)\n",
      "    for i in xrange(n):\n",
      "        for j in xrange(p):\n",
      "            for k in xrange(m):\n",
      "                R[i][j]= R[i][j] + a[i][k] * b[k][j]\n",
      "    if r_duration:\n",
      "        end= time.time()\n",
      "        duration= (end - start) * 1000.\n",
      "        r_duration.value= duration\n",
      "    return (R, r_duration.value) if r_duration else R"
     ],
     "language": "python",
     "metadata": {},
     "outputs": [],
     "prompt_number": 11
    },
    {
     "cell_type": "code",
     "collapsed": false,
     "input": [
      "from multiprocessing import Value\n",
      "\n",
      "a= np.array([ [3, 5, 9], [3, 3, 4], [5, 9, 17] ])\n",
      "b= np.array([ [1], [-2], [1] ])\n",
      "R_cython= cython_multiply(a, b, Value('f', 99999.))\n",
      "print R_cython"
     ],
     "language": "python",
     "metadata": {},
     "outputs": [
      {
       "output_type": "stream",
       "stream": "stdout",
       "text": [
        "(array([[2],\n",
        "       [1],\n",
        "       [4]]), 0.04506111145019531)\n"
       ]
      }
     ],
     "prompt_number": 12
    },
    {
     "cell_type": "markdown",
     "metadata": {},
     "source": [
      "Now we wish to evaluate the performance of these three methods.  Write a method that given three dmiensions (a,b,c) makes a random a x b and b x c matrix and computes the product using your three functions and reports the speed of each method.\n",
      "\n",
      "After this measure performance of each method for all $a,b,c \\in \\{10,100,1000,10000\\}$ and plot the results.  Is one method always the fastest?  Discuss why this is or is not the case."
     ]
    },
    {
     "cell_type": "code",
     "collapsed": false,
     "input": [
      "from multiprocessing import Process,Value\n",
      "import time\n",
      "\n",
      "def run_target_method(target_method, t_result, A, B):\n",
      "    # wait at most 30s\n",
      "    timeout= 30.0\n",
      "    #\n",
      "    p= Process(target=target_method, args=(A,B,t_result))\n",
      "    p.start()\n",
      "    p.join(timeout)\n",
      "    if p.is_alive():\n",
      "        p.terminate()\n",
      "    \n",
      "    \n",
      "def execute_matrix_multiplication(a, b, c):\n",
      "    A= np.random.randint(0, 100, (a, b))\n",
      "    B= np.random.randint(0, 100, (b, c))\n",
      "    \n",
      "    m_infinity= 99999.\n",
      "    tr_naive= Value('f', m_infinity)    \n",
      "    run_target_method(naive, tr_naive, A, B)\n",
      "\n",
      "    tr_numpy= Value('f', m_infinity)    \n",
      "    run_target_method(numpy_multiply, tr_numpy, A, B)\n",
      "    \n",
      "    tr_cython= Value('f', m_infinity)    \n",
      "    run_target_method(cython_multiply, tr_cython, A, B)\n",
      "    \n",
      "    return (tr_naive.value, tr_numpy.value, tr_cython.value)"
     ],
     "language": "python",
     "metadata": {},
     "outputs": [],
     "prompt_number": 13
    },
    {
     "cell_type": "code",
     "collapsed": false,
     "input": [
      "import time\n",
      "\n",
      "def measureExecuteMatrixMultiplication(experiment, k=100):\n",
      "    \"\"\" Measure the distribution of time executing Matrix Multiplication.\n",
      "    k = number of times that the experiment is repeated.\n",
      "    output:\n",
      "    Tuples of each Matrix Multiplication method\n",
      "    mean = the mean of T\n",
      "    std = the std of T\n",
      "    T = a list the contains the times of all k experiments\n",
      "    \"\"\"\n",
      "    values= experiment[1]\n",
      "    a= values[0]; b= values[1]; c= values[2]\n",
      "    print \"Executing {} samples using experiment with combination {}: values a={}, b={}, c={}\".format(k, experiment[0], a, b, c)\n",
      "    # initialize sum, time arrays\n",
      "    i_naive= 0; i_numpy= 1; i_cython= 2\n",
      "    naivesum=0; numpysum= 0; cythonsum=0\n",
      "    naivesum2=0; numpysum2= 0; cythonsum2=0\n",
      "    naiveT=np.zeros(k); numpyT= np.zeros(k); cythonT= np.zeros(k)\n",
      "    \n",
      "    for i in xrange(k):\n",
      "        print \"Performing execute_matrix_multiplication sample {}\".format(i + 1)\n",
      "        result= execute_matrix_multiplication(a,b,c)\n",
      "        print \"Aggregating results for sample {}\".format(i + 1)\n",
      "        # aggregate results\n",
      "        d= result[i_naive]\n",
      "        naiveT[i]= d\n",
      "        naivesum += d\n",
      "        naivesum2 += d*d\n",
      "        \n",
      "        d= result[i_numpy]\n",
      "        numpyT[i]= d\n",
      "        numpysum += d\n",
      "        numpysum2 += d*d\n",
      "        \n",
      "        d= result[i_cython]\n",
      "        cythonT[i]= d\n",
      "        cythonsum += d\n",
      "        cythonsum2 += d*d\n",
      "    \n",
      "    # return mean, variance, standard deviation for each method\n",
      "    naivemean= naivesum/k; naivevar= (naivesum2/k)-naivemean**2; naivestd= sqrt(naivevar)\n",
      "    naiveresult= (naivemean, naivestd, naiveT)\n",
      "    \n",
      "    numpymean= numpysum/k; numpyvar= (numpysum2/k)-numpymean**2; numpystd= sqrt(numpyvar)\n",
      "    numpyresult= (numpymean, numpystd, numpyT)\n",
      "    \n",
      "    cythonmean= cythonsum/k; cythonvar= (cythonsum2/k)-cythonmean**2; cythonstd= sqrt(cythonvar)\n",
      "    cythonresult= (cythonmean, cythonstd, cythonT)\n",
      "\n",
      "    return (naiveresult, numpyresult, cythonresult)"
     ],
     "language": "python",
     "metadata": {},
     "outputs": [],
     "prompt_number": 14
    },
    {
     "cell_type": "code",
     "collapsed": false,
     "input": [
      "a= 10; b= 10; c=10\n",
      "experiment= (('Combination {}= ({},{},{})'.format(0,a,b,c)), (a,b,c))\n",
      "R= measureExecuteMatrixMultiplication(experiment, 2)\n",
      "print \"\"\n",
      "print R"
     ],
     "language": "python",
     "metadata": {},
     "outputs": [
      {
       "output_type": "stream",
       "stream": "stdout",
       "text": [
        "Executing 2 samples using experiment with combination Combination 0= (10,10,10): values a=10, b=10, c=10\n",
        "Performing execute_matrix_multiplication sample 1\n"
       ]
      },
      {
       "output_type": "stream",
       "stream": "stdout",
       "text": [
        "Aggregating results for sample 1\n",
        "Performing execute_matrix_multiplication sample 2\n"
       ]
      },
      {
       "output_type": "stream",
       "stream": "stdout",
       "text": [
        "Aggregating results for sample 2\n",
        "\n",
        "((1.1289119720458984, 0.015020370483398438, array([ 1.14393234,  1.1138916 ])), (0.06699562072753906, 0.010967254638671875, array([ 0.05602837,  0.07796288])), (0.9500980377197266, 0.25701522827148438, array([ 1.20711327,  0.69308281])))\n"
       ]
      }
     ],
     "prompt_number": 14
    },
    {
     "cell_type": "code",
     "collapsed": false,
     "input": [
      "# Use PlotTime from 02_measuring_performance_of_memory_hierarchy.ipynb\n",
      "\n",
      "from matplotlib.backends.backend_pdf import PdfPages\n",
      "from scipy.special import erf,erfinv\n",
      "\n",
      "def PlotTime(m_i, Tsorted,Mean,Std,Color='b',LS='-',Legend=''):\n",
      "    \"\"\" plot distribution of times on a log-log scale\"\"\"\n",
      "    P=arange(1,0,-1.0/k)    # probability \n",
      "    loglog(Tsorted,P,color=Color,label=Legend,linestyle=LS)                 # plot log-log of 1-CDF \n",
      "    \n",
      "    grid()\n",
      "    loglog([Mean,Mean],[1,0.0001],color=Color,linestyle=LS)           # vert line at mean\n",
      "    Y=0.1**((m_i+1.)/2.)\n",
      "    loglog([Mean,min(Mean+Std,1)],[Y,Y],color=Color,linestyle=LS) # horiz line from mean to mean + std\n",
      "        \n",
      "    x=arange(Mean,Mean+Std*erfinv(1.0-1.0/len(Tsorted)),Std/100)  # normal distribution \n",
      "    loglog(x,1-erf((x-Mean)/Std),color=Color,linestyle=LS)"
     ],
     "language": "python",
     "metadata": {},
     "outputs": [],
     "prompt_number": 15
    },
    {
     "cell_type": "code",
     "collapsed": false,
     "input": [
      "# perform plot\n",
      "\n",
      "from matplotlib.backends.backend_pdf import PdfPages\n",
      "from scipy.special import erf,erfinv\n",
      "\n",
      "\n",
      "def doPlot(experiment, k=10):\n",
      "    i_naive= 0; i_numpy= 1; i_cython= 2\n",
      "    m_methods=[\"python\", \"numpy\", \"cython\"]\n",
      "    values= experiment[1]\n",
      "    Colors='rgb'\n",
      "\n",
      "    # create figure\n",
      "    pp = PdfPages('Figure_{}samp_{}_{}_{}.pdf'.format(k, values[0], values[1], values[2]))\n",
      "    figure(figsize=(6,4))\n",
      "    fig = matplotlib.pyplot.gcf()\n",
      "    fig.set_size_inches(18.5,10.5)\n",
      "\n",
      "    # do plot\n",
      "    R= measureExecuteMatrixMultiplication(experiment, k)\n",
      "\n",
      "    for m_i in [i_naive, i_numpy, i_cython]:\n",
      "        current_R= R[m_i]\n",
      "        mean= current_R[0]\n",
      "        std= current_R[1]\n",
      "        T= current_R[2]\n",
      "        PlotTime(m_i, sort(T),mean,std,Color=Colors[m_i],Legend=('{} method'.format(m_methods[m_i])))\n",
      "\n",
      "    grid()\n",
      "    legend(fontsize='medium')\n",
      "    xlabel('duration (ms)')\n",
      "    ylabel('1-CDF')\n",
      "    pp.savefig()\n",
      "    pp.close()\n",
      "    \n",
      "# Execute Matrix Multiplication k times\n",
      "# 0 -> naive\n",
      "# 1 -> numpy\n",
      "# 2 -> cython\n",
      "#\n",
      "# select combination\n",
      "# S= [10, 100, 1000, 10000]\n",
      "S= [10, 100]\n",
      "n= len(S) * 3\n",
      "i_random_matrix_combination= randint(0, n)\n",
      "experiments= []\n",
      "c_id= 0\n",
      "for a in S:\n",
      "    for b in S:\n",
      "        for c in S:\n",
      "            experiment= (('Combination {}= ({},{},{})'.format(c_id,a,b,c)), (a,b,c))\n",
      "            experiments.append(experiment)\n",
      "            c_id+=1\n",
      "k= 500\n",
      "experiment= experiments[i_random_matrix_combination]\n",
      "doPlot(experiment, k)"
     ],
     "language": "python",
     "metadata": {},
     "outputs": [
      {
       "output_type": "stream",
       "stream": "stdout",
       "text": [
        "Executing 500 samples using experiment with combination Combination 4= (100,10,10): values a=100, b=10, c=10\n",
        "Performing execute_matrix_multiplication sample 1\n"
       ]
      },
      {
       "output_type": "stream",
       "stream": "stdout",
       "text": [
        "Aggregating results for sample 1\n",
        "Performing execute_matrix_multiplication sample 2\n"
       ]
      },
      {
       "output_type": "stream",
       "stream": "stdout",
       "text": [
        "Aggregating results for sample 2\n",
        "Performing execute_matrix_multiplication sample 3\n"
       ]
      },
      {
       "output_type": "stream",
       "stream": "stdout",
       "text": [
        "Aggregating results for sample 3\n",
        "Performing execute_matrix_multiplication sample 4\n"
       ]
      },
      {
       "output_type": "stream",
       "stream": "stdout",
       "text": [
        "Aggregating results for sample 4\n",
        "Performing execute_matrix_multiplication sample 5\n"
       ]
      },
      {
       "output_type": "stream",
       "stream": "stdout",
       "text": [
        "Aggregating results for sample 5\n",
        "Performing execute_matrix_multiplication sample 6\n"
       ]
      },
      {
       "output_type": "stream",
       "stream": "stdout",
       "text": [
        "Aggregating results for sample 6\n",
        "Performing execute_matrix_multiplication sample 7\n"
       ]
      },
      {
       "output_type": "stream",
       "stream": "stdout",
       "text": [
        "Aggregating results for sample 7\n",
        "Performing execute_matrix_multiplication sample 8\n"
       ]
      },
      {
       "output_type": "stream",
       "stream": "stdout",
       "text": [
        "Aggregating results for sample 8\n",
        "Performing execute_matrix_multiplication sample 9\n"
       ]
      },
      {
       "output_type": "stream",
       "stream": "stdout",
       "text": [
        "Aggregating results for sample 9\n",
        "Performing execute_matrix_multiplication sample 10\n"
       ]
      },
      {
       "output_type": "stream",
       "stream": "stdout",
       "text": [
        "Aggregating results for sample 10\n",
        "Performing execute_matrix_multiplication sample 11\n"
       ]
      },
      {
       "output_type": "stream",
       "stream": "stdout",
       "text": [
        "Aggregating results for sample 11\n",
        "Performing execute_matrix_multiplication sample 12\n"
       ]
      },
      {
       "output_type": "stream",
       "stream": "stdout",
       "text": [
        "Aggregating results for sample 12\n",
        "Performing execute_matrix_multiplication sample 13\n"
       ]
      },
      {
       "output_type": "stream",
       "stream": "stdout",
       "text": [
        "Aggregating results for sample 13\n",
        "Performing execute_matrix_multiplication sample 14\n"
       ]
      },
      {
       "output_type": "stream",
       "stream": "stdout",
       "text": [
        "Aggregating results for sample 14\n",
        "Performing execute_matrix_multiplication sample 15\n"
       ]
      },
      {
       "output_type": "stream",
       "stream": "stdout",
       "text": [
        "Aggregating results for sample 15\n",
        "Performing execute_matrix_multiplication sample 16\n"
       ]
      },
      {
       "output_type": "stream",
       "stream": "stdout",
       "text": [
        "Aggregating results for sample 16\n",
        "Performing execute_matrix_multiplication sample 17\n"
       ]
      },
      {
       "output_type": "stream",
       "stream": "stdout",
       "text": [
        "Aggregating results for sample 17\n",
        "Performing execute_matrix_multiplication sample 18\n"
       ]
      },
      {
       "output_type": "stream",
       "stream": "stdout",
       "text": [
        "Aggregating results for sample 18\n",
        "Performing execute_matrix_multiplication sample 19\n"
       ]
      },
      {
       "output_type": "stream",
       "stream": "stdout",
       "text": [
        "Aggregating results for sample 19\n",
        "Performing execute_matrix_multiplication sample 20\n"
       ]
      },
      {
       "output_type": "stream",
       "stream": "stdout",
       "text": [
        "Aggregating results for sample 20\n",
        "Performing execute_matrix_multiplication sample 21\n"
       ]
      },
      {
       "output_type": "stream",
       "stream": "stdout",
       "text": [
        "Aggregating results for sample 21\n",
        "Performing execute_matrix_multiplication sample 22\n"
       ]
      },
      {
       "output_type": "stream",
       "stream": "stdout",
       "text": [
        "Aggregating results for sample 22\n",
        "Performing execute_matrix_multiplication sample 23\n"
       ]
      },
      {
       "output_type": "stream",
       "stream": "stdout",
       "text": [
        "Aggregating results for sample 23\n",
        "Performing execute_matrix_multiplication sample 24\n"
       ]
      },
      {
       "output_type": "stream",
       "stream": "stdout",
       "text": [
        "Aggregating results for sample 24\n",
        "Performing execute_matrix_multiplication sample 25\n"
       ]
      },
      {
       "output_type": "stream",
       "stream": "stdout",
       "text": [
        "Aggregating results for sample 25\n",
        "Performing execute_matrix_multiplication sample 26\n"
       ]
      },
      {
       "output_type": "stream",
       "stream": "stdout",
       "text": [
        "Aggregating results for sample 26\n",
        "Performing execute_matrix_multiplication sample 27\n"
       ]
      },
      {
       "output_type": "stream",
       "stream": "stdout",
       "text": [
        "Aggregating results for sample 27\n",
        "Performing execute_matrix_multiplication sample 28\n"
       ]
      },
      {
       "output_type": "stream",
       "stream": "stdout",
       "text": [
        "Aggregating results for sample 28\n",
        "Performing execute_matrix_multiplication sample 29\n"
       ]
      },
      {
       "output_type": "stream",
       "stream": "stdout",
       "text": [
        "Aggregating results for sample 29\n",
        "Performing execute_matrix_multiplication sample 30\n"
       ]
      },
      {
       "output_type": "stream",
       "stream": "stdout",
       "text": [
        "Aggregating results for sample 30\n",
        "Performing execute_matrix_multiplication sample 31\n"
       ]
      },
      {
       "output_type": "stream",
       "stream": "stdout",
       "text": [
        "Aggregating results for sample 31\n",
        "Performing execute_matrix_multiplication sample 32\n"
       ]
      },
      {
       "output_type": "stream",
       "stream": "stdout",
       "text": [
        "Aggregating results for sample 32\n",
        "Performing execute_matrix_multiplication sample 33\n"
       ]
      },
      {
       "output_type": "stream",
       "stream": "stdout",
       "text": [
        "Aggregating results for sample 33\n",
        "Performing execute_matrix_multiplication sample 34\n"
       ]
      },
      {
       "output_type": "stream",
       "stream": "stdout",
       "text": [
        "Aggregating results for sample 34\n",
        "Performing execute_matrix_multiplication sample 35\n"
       ]
      },
      {
       "output_type": "stream",
       "stream": "stdout",
       "text": [
        "Aggregating results for sample 35\n",
        "Performing execute_matrix_multiplication sample 36\n"
       ]
      },
      {
       "output_type": "stream",
       "stream": "stdout",
       "text": [
        "Aggregating results for sample 36\n",
        "Performing execute_matrix_multiplication sample 37\n"
       ]
      },
      {
       "output_type": "stream",
       "stream": "stdout",
       "text": [
        "Aggregating results for sample 37\n",
        "Performing execute_matrix_multiplication sample 38\n"
       ]
      },
      {
       "output_type": "stream",
       "stream": "stdout",
       "text": [
        "Aggregating results for sample 38\n",
        "Performing execute_matrix_multiplication sample 39\n"
       ]
      },
      {
       "output_type": "stream",
       "stream": "stdout",
       "text": [
        "Aggregating results for sample 39\n",
        "Performing execute_matrix_multiplication sample 40\n"
       ]
      },
      {
       "output_type": "stream",
       "stream": "stdout",
       "text": [
        "Aggregating results for sample 40\n",
        "Performing execute_matrix_multiplication sample 41\n"
       ]
      },
      {
       "output_type": "stream",
       "stream": "stdout",
       "text": [
        "Aggregating results for sample 41\n",
        "Performing execute_matrix_multiplication sample 42\n"
       ]
      },
      {
       "output_type": "stream",
       "stream": "stdout",
       "text": [
        "Aggregating results for sample 42\n",
        "Performing execute_matrix_multiplication sample 43\n"
       ]
      },
      {
       "output_type": "stream",
       "stream": "stdout",
       "text": [
        "Aggregating results for sample 43\n",
        "Performing execute_matrix_multiplication sample 44\n"
       ]
      },
      {
       "output_type": "stream",
       "stream": "stdout",
       "text": [
        "Aggregating results for sample 44\n",
        "Performing execute_matrix_multiplication sample 45\n"
       ]
      },
      {
       "output_type": "stream",
       "stream": "stdout",
       "text": [
        "Aggregating results for sample 45\n",
        "Performing execute_matrix_multiplication sample 46\n"
       ]
      },
      {
       "output_type": "stream",
       "stream": "stdout",
       "text": [
        "Aggregating results for sample 46\n",
        "Performing execute_matrix_multiplication sample 47\n"
       ]
      },
      {
       "output_type": "stream",
       "stream": "stdout",
       "text": [
        "Aggregating results for sample 47\n",
        "Performing execute_matrix_multiplication sample 48\n"
       ]
      },
      {
       "output_type": "stream",
       "stream": "stdout",
       "text": [
        "Aggregating results for sample 48\n",
        "Performing execute_matrix_multiplication sample 49\n"
       ]
      },
      {
       "output_type": "stream",
       "stream": "stdout",
       "text": [
        "Aggregating results for sample 49\n",
        "Performing execute_matrix_multiplication sample 50\n"
       ]
      },
      {
       "output_type": "stream",
       "stream": "stdout",
       "text": [
        "Aggregating results for sample 50\n",
        "Performing execute_matrix_multiplication sample 51\n"
       ]
      },
      {
       "output_type": "stream",
       "stream": "stdout",
       "text": [
        "Aggregating results for sample 51\n",
        "Performing execute_matrix_multiplication sample 52\n"
       ]
      },
      {
       "output_type": "stream",
       "stream": "stdout",
       "text": [
        "Aggregating results for sample 52\n",
        "Performing execute_matrix_multiplication sample 53\n"
       ]
      },
      {
       "output_type": "stream",
       "stream": "stdout",
       "text": [
        "Aggregating results for sample 53\n",
        "Performing execute_matrix_multiplication sample 54\n"
       ]
      },
      {
       "output_type": "stream",
       "stream": "stdout",
       "text": [
        "Aggregating results for sample 54\n",
        "Performing execute_matrix_multiplication sample 55\n"
       ]
      },
      {
       "output_type": "stream",
       "stream": "stdout",
       "text": [
        "Aggregating results for sample 55\n",
        "Performing execute_matrix_multiplication sample 56\n"
       ]
      },
      {
       "output_type": "stream",
       "stream": "stdout",
       "text": [
        "Aggregating results for sample 56\n",
        "Performing execute_matrix_multiplication sample 57\n"
       ]
      },
      {
       "output_type": "stream",
       "stream": "stdout",
       "text": [
        "Aggregating results for sample 57\n",
        "Performing execute_matrix_multiplication sample 58\n"
       ]
      },
      {
       "output_type": "stream",
       "stream": "stdout",
       "text": [
        "Aggregating results for sample 58\n",
        "Performing execute_matrix_multiplication sample 59\n"
       ]
      },
      {
       "output_type": "stream",
       "stream": "stdout",
       "text": [
        "Aggregating results for sample 59\n",
        "Performing execute_matrix_multiplication sample 60\n"
       ]
      },
      {
       "output_type": "stream",
       "stream": "stdout",
       "text": [
        "Aggregating results for sample 60\n",
        "Performing execute_matrix_multiplication sample 61\n"
       ]
      },
      {
       "output_type": "stream",
       "stream": "stdout",
       "text": [
        "Aggregating results for sample 61\n",
        "Performing execute_matrix_multiplication sample 62\n"
       ]
      },
      {
       "output_type": "stream",
       "stream": "stdout",
       "text": [
        "Aggregating results for sample 62\n",
        "Performing execute_matrix_multiplication sample 63\n"
       ]
      },
      {
       "output_type": "stream",
       "stream": "stdout",
       "text": [
        "Aggregating results for sample 63\n",
        "Performing execute_matrix_multiplication sample 64\n"
       ]
      },
      {
       "output_type": "stream",
       "stream": "stdout",
       "text": [
        "Aggregating results for sample 64\n",
        "Performing execute_matrix_multiplication sample 65\n"
       ]
      },
      {
       "output_type": "stream",
       "stream": "stdout",
       "text": [
        "Aggregating results for sample 65\n",
        "Performing execute_matrix_multiplication sample 66\n"
       ]
      },
      {
       "output_type": "stream",
       "stream": "stdout",
       "text": [
        "Aggregating results for sample 66\n",
        "Performing execute_matrix_multiplication sample 67\n"
       ]
      },
      {
       "output_type": "stream",
       "stream": "stdout",
       "text": [
        "Aggregating results for sample 67\n",
        "Performing execute_matrix_multiplication sample 68\n"
       ]
      },
      {
       "output_type": "stream",
       "stream": "stdout",
       "text": [
        "Aggregating results for sample 68\n",
        "Performing execute_matrix_multiplication sample 69\n"
       ]
      },
      {
       "output_type": "stream",
       "stream": "stdout",
       "text": [
        "Aggregating results for sample 69\n",
        "Performing execute_matrix_multiplication sample 70\n"
       ]
      },
      {
       "output_type": "stream",
       "stream": "stdout",
       "text": [
        "Aggregating results for sample 70\n",
        "Performing execute_matrix_multiplication sample 71\n"
       ]
      },
      {
       "output_type": "stream",
       "stream": "stdout",
       "text": [
        "Aggregating results for sample 71\n",
        "Performing execute_matrix_multiplication sample 72\n"
       ]
      },
      {
       "output_type": "stream",
       "stream": "stdout",
       "text": [
        "Aggregating results for sample 72\n",
        "Performing execute_matrix_multiplication sample 73\n"
       ]
      },
      {
       "output_type": "stream",
       "stream": "stdout",
       "text": [
        "Aggregating results for sample 73\n",
        "Performing execute_matrix_multiplication sample 74\n"
       ]
      },
      {
       "output_type": "stream",
       "stream": "stdout",
       "text": [
        "Aggregating results for sample 74\n",
        "Performing execute_matrix_multiplication sample 75\n"
       ]
      },
      {
       "output_type": "stream",
       "stream": "stdout",
       "text": [
        "Aggregating results for sample 75\n",
        "Performing execute_matrix_multiplication sample 76\n"
       ]
      },
      {
       "output_type": "stream",
       "stream": "stdout",
       "text": [
        "Aggregating results for sample 76\n",
        "Performing execute_matrix_multiplication sample 77\n"
       ]
      },
      {
       "output_type": "stream",
       "stream": "stdout",
       "text": [
        "Aggregating results for sample 77\n",
        "Performing execute_matrix_multiplication sample 78\n"
       ]
      },
      {
       "output_type": "stream",
       "stream": "stdout",
       "text": [
        "Aggregating results for sample 78\n",
        "Performing execute_matrix_multiplication sample 79\n"
       ]
      },
      {
       "output_type": "stream",
       "stream": "stdout",
       "text": [
        "Aggregating results for sample 79\n",
        "Performing execute_matrix_multiplication sample 80\n"
       ]
      },
      {
       "output_type": "stream",
       "stream": "stdout",
       "text": [
        "Aggregating results for sample 80\n",
        "Performing execute_matrix_multiplication sample 81\n"
       ]
      },
      {
       "output_type": "stream",
       "stream": "stdout",
       "text": [
        "Aggregating results for sample 81\n",
        "Performing execute_matrix_multiplication sample 82\n"
       ]
      },
      {
       "output_type": "stream",
       "stream": "stdout",
       "text": [
        "Aggregating results for sample 82\n",
        "Performing execute_matrix_multiplication sample 83\n"
       ]
      },
      {
       "output_type": "stream",
       "stream": "stdout",
       "text": [
        "Aggregating results for sample 83\n",
        "Performing execute_matrix_multiplication sample 84\n"
       ]
      },
      {
       "output_type": "stream",
       "stream": "stdout",
       "text": [
        "Aggregating results for sample 84\n",
        "Performing execute_matrix_multiplication sample 85\n"
       ]
      },
      {
       "output_type": "stream",
       "stream": "stdout",
       "text": [
        "Aggregating results for sample 85\n",
        "Performing execute_matrix_multiplication sample 86\n"
       ]
      },
      {
       "output_type": "stream",
       "stream": "stdout",
       "text": [
        "Aggregating results for sample 86\n",
        "Performing execute_matrix_multiplication sample 87\n"
       ]
      },
      {
       "output_type": "stream",
       "stream": "stdout",
       "text": [
        "Aggregating results for sample 87\n",
        "Performing execute_matrix_multiplication sample 88\n"
       ]
      },
      {
       "output_type": "stream",
       "stream": "stdout",
       "text": [
        "Aggregating results for sample 88\n",
        "Performing execute_matrix_multiplication sample 89\n"
       ]
      },
      {
       "output_type": "stream",
       "stream": "stdout",
       "text": [
        "Aggregating results for sample 89\n",
        "Performing execute_matrix_multiplication sample 90\n"
       ]
      },
      {
       "output_type": "stream",
       "stream": "stdout",
       "text": [
        "Aggregating results for sample 90\n",
        "Performing execute_matrix_multiplication sample 91\n"
       ]
      },
      {
       "output_type": "stream",
       "stream": "stdout",
       "text": [
        "Aggregating results for sample 91\n",
        "Performing execute_matrix_multiplication sample 92\n"
       ]
      },
      {
       "output_type": "stream",
       "stream": "stdout",
       "text": [
        "Aggregating results for sample 92\n",
        "Performing execute_matrix_multiplication sample 93\n"
       ]
      },
      {
       "output_type": "stream",
       "stream": "stdout",
       "text": [
        "Aggregating results for sample 93\n",
        "Performing execute_matrix_multiplication sample 94\n"
       ]
      },
      {
       "output_type": "stream",
       "stream": "stdout",
       "text": [
        "Aggregating results for sample 94\n",
        "Performing execute_matrix_multiplication sample 95\n"
       ]
      },
      {
       "output_type": "stream",
       "stream": "stdout",
       "text": [
        "Aggregating results for sample 95\n",
        "Performing execute_matrix_multiplication sample 96\n"
       ]
      },
      {
       "output_type": "stream",
       "stream": "stdout",
       "text": [
        "Aggregating results for sample 96\n",
        "Performing execute_matrix_multiplication sample 97\n"
       ]
      },
      {
       "output_type": "stream",
       "stream": "stdout",
       "text": [
        "Aggregating results for sample 97\n",
        "Performing execute_matrix_multiplication sample 98\n"
       ]
      },
      {
       "output_type": "stream",
       "stream": "stdout",
       "text": [
        "Aggregating results for sample 98\n",
        "Performing execute_matrix_multiplication sample 99\n"
       ]
      },
      {
       "output_type": "stream",
       "stream": "stdout",
       "text": [
        "Aggregating results for sample 99\n",
        "Performing execute_matrix_multiplication sample 100\n"
       ]
      },
      {
       "output_type": "stream",
       "stream": "stdout",
       "text": [
        "Aggregating results for sample 100\n",
        "Performing execute_matrix_multiplication sample 101\n"
       ]
      },
      {
       "output_type": "stream",
       "stream": "stdout",
       "text": [
        "Aggregating results for sample 101\n",
        "Performing execute_matrix_multiplication sample 102\n"
       ]
      },
      {
       "output_type": "stream",
       "stream": "stdout",
       "text": [
        "Aggregating results for sample 102\n",
        "Performing execute_matrix_multiplication sample 103\n"
       ]
      },
      {
       "output_type": "stream",
       "stream": "stdout",
       "text": [
        "Aggregating results for sample 103\n",
        "Performing execute_matrix_multiplication sample 104\n"
       ]
      },
      {
       "output_type": "stream",
       "stream": "stdout",
       "text": [
        "Aggregating results for sample 104\n",
        "Performing execute_matrix_multiplication sample 105\n"
       ]
      },
      {
       "output_type": "stream",
       "stream": "stdout",
       "text": [
        "Aggregating results for sample 105\n",
        "Performing execute_matrix_multiplication sample 106\n"
       ]
      },
      {
       "output_type": "stream",
       "stream": "stdout",
       "text": [
        "Aggregating results for sample 106\n",
        "Performing execute_matrix_multiplication sample 107\n"
       ]
      },
      {
       "output_type": "stream",
       "stream": "stdout",
       "text": [
        "Aggregating results for sample 107\n",
        "Performing execute_matrix_multiplication sample 108\n"
       ]
      },
      {
       "output_type": "stream",
       "stream": "stdout",
       "text": [
        "Aggregating results for sample 108\n",
        "Performing execute_matrix_multiplication sample 109\n"
       ]
      },
      {
       "output_type": "stream",
       "stream": "stdout",
       "text": [
        "Aggregating results for sample 109\n",
        "Performing execute_matrix_multiplication sample 110\n"
       ]
      },
      {
       "output_type": "stream",
       "stream": "stdout",
       "text": [
        "Aggregating results for sample 110\n",
        "Performing execute_matrix_multiplication sample 111\n"
       ]
      },
      {
       "output_type": "stream",
       "stream": "stdout",
       "text": [
        "Aggregating results for sample 111\n",
        "Performing execute_matrix_multiplication sample 112\n"
       ]
      },
      {
       "output_type": "stream",
       "stream": "stdout",
       "text": [
        "Aggregating results for sample 112\n",
        "Performing execute_matrix_multiplication sample 113\n"
       ]
      },
      {
       "output_type": "stream",
       "stream": "stdout",
       "text": [
        "Aggregating results for sample 113\n",
        "Performing execute_matrix_multiplication sample 114\n"
       ]
      },
      {
       "output_type": "stream",
       "stream": "stdout",
       "text": [
        "Aggregating results for sample 114\n",
        "Performing execute_matrix_multiplication sample 115\n"
       ]
      },
      {
       "output_type": "stream",
       "stream": "stdout",
       "text": [
        "Aggregating results for sample 115\n",
        "Performing execute_matrix_multiplication sample 116\n"
       ]
      },
      {
       "output_type": "stream",
       "stream": "stdout",
       "text": [
        "Aggregating results for sample 116\n",
        "Performing execute_matrix_multiplication sample 117\n"
       ]
      },
      {
       "output_type": "stream",
       "stream": "stdout",
       "text": [
        "Aggregating results for sample 117\n",
        "Performing execute_matrix_multiplication sample 118\n"
       ]
      },
      {
       "output_type": "stream",
       "stream": "stdout",
       "text": [
        "Aggregating results for sample 118\n",
        "Performing execute_matrix_multiplication sample 119\n"
       ]
      },
      {
       "output_type": "stream",
       "stream": "stdout",
       "text": [
        "Aggregating results for sample 119\n",
        "Performing execute_matrix_multiplication sample 120\n"
       ]
      },
      {
       "output_type": "stream",
       "stream": "stdout",
       "text": [
        "Aggregating results for sample 120\n",
        "Performing execute_matrix_multiplication sample 121\n"
       ]
      },
      {
       "output_type": "stream",
       "stream": "stdout",
       "text": [
        "Aggregating results for sample 121\n",
        "Performing execute_matrix_multiplication sample 122\n"
       ]
      },
      {
       "output_type": "stream",
       "stream": "stdout",
       "text": [
        "Aggregating results for sample 122\n",
        "Performing execute_matrix_multiplication sample 123\n"
       ]
      },
      {
       "output_type": "stream",
       "stream": "stdout",
       "text": [
        "Aggregating results for sample 123\n",
        "Performing execute_matrix_multiplication sample 124\n"
       ]
      },
      {
       "output_type": "stream",
       "stream": "stdout",
       "text": [
        "Aggregating results for sample 124\n",
        "Performing execute_matrix_multiplication sample 125\n"
       ]
      },
      {
       "output_type": "stream",
       "stream": "stdout",
       "text": [
        "Aggregating results for sample 125\n",
        "Performing execute_matrix_multiplication sample 126\n"
       ]
      },
      {
       "output_type": "stream",
       "stream": "stdout",
       "text": [
        "Aggregating results for sample 126\n",
        "Performing execute_matrix_multiplication sample 127\n"
       ]
      },
      {
       "output_type": "stream",
       "stream": "stdout",
       "text": [
        "Aggregating results for sample 127\n",
        "Performing execute_matrix_multiplication sample 128\n"
       ]
      },
      {
       "output_type": "stream",
       "stream": "stdout",
       "text": [
        "Aggregating results for sample 128\n",
        "Performing execute_matrix_multiplication sample 129\n"
       ]
      },
      {
       "output_type": "stream",
       "stream": "stdout",
       "text": [
        "Aggregating results for sample 129\n",
        "Performing execute_matrix_multiplication sample 130\n"
       ]
      },
      {
       "output_type": "stream",
       "stream": "stdout",
       "text": [
        "Aggregating results for sample 130\n",
        "Performing execute_matrix_multiplication sample 131\n"
       ]
      },
      {
       "output_type": "stream",
       "stream": "stdout",
       "text": [
        "Aggregating results for sample 131\n",
        "Performing execute_matrix_multiplication sample 132\n"
       ]
      },
      {
       "output_type": "stream",
       "stream": "stdout",
       "text": [
        "Aggregating results for sample 132\n",
        "Performing execute_matrix_multiplication sample 133\n"
       ]
      },
      {
       "output_type": "stream",
       "stream": "stdout",
       "text": [
        "Aggregating results for sample 133\n",
        "Performing execute_matrix_multiplication sample 134\n"
       ]
      },
      {
       "output_type": "stream",
       "stream": "stdout",
       "text": [
        "Aggregating results for sample 134\n",
        "Performing execute_matrix_multiplication sample 135\n"
       ]
      },
      {
       "output_type": "stream",
       "stream": "stdout",
       "text": [
        "Aggregating results for sample 135\n",
        "Performing execute_matrix_multiplication sample 136\n"
       ]
      },
      {
       "output_type": "stream",
       "stream": "stdout",
       "text": [
        "Aggregating results for sample 136\n",
        "Performing execute_matrix_multiplication sample 137\n"
       ]
      },
      {
       "output_type": "stream",
       "stream": "stdout",
       "text": [
        "Aggregating results for sample 137\n",
        "Performing execute_matrix_multiplication sample 138\n"
       ]
      },
      {
       "output_type": "stream",
       "stream": "stdout",
       "text": [
        "Aggregating results for sample 138\n",
        "Performing execute_matrix_multiplication sample 139\n"
       ]
      },
      {
       "output_type": "stream",
       "stream": "stdout",
       "text": [
        "Aggregating results for sample 139\n",
        "Performing execute_matrix_multiplication sample 140\n"
       ]
      },
      {
       "output_type": "stream",
       "stream": "stdout",
       "text": [
        "Aggregating results for sample 140\n",
        "Performing execute_matrix_multiplication sample 141\n"
       ]
      },
      {
       "output_type": "stream",
       "stream": "stdout",
       "text": [
        "Aggregating results for sample 141\n",
        "Performing execute_matrix_multiplication sample 142\n"
       ]
      },
      {
       "output_type": "stream",
       "stream": "stdout",
       "text": [
        "Aggregating results for sample 142\n",
        "Performing execute_matrix_multiplication sample 143\n"
       ]
      },
      {
       "output_type": "stream",
       "stream": "stdout",
       "text": [
        "Aggregating results for sample 143\n",
        "Performing execute_matrix_multiplication sample 144\n"
       ]
      },
      {
       "output_type": "stream",
       "stream": "stdout",
       "text": [
        "Aggregating results for sample 144\n",
        "Performing execute_matrix_multiplication sample 145\n"
       ]
      },
      {
       "output_type": "stream",
       "stream": "stdout",
       "text": [
        "Aggregating results for sample 145\n",
        "Performing execute_matrix_multiplication sample 146\n"
       ]
      },
      {
       "output_type": "stream",
       "stream": "stdout",
       "text": [
        "Aggregating results for sample 146\n",
        "Performing execute_matrix_multiplication sample 147\n"
       ]
      },
      {
       "output_type": "stream",
       "stream": "stdout",
       "text": [
        "Aggregating results for sample 147\n",
        "Performing execute_matrix_multiplication sample 148\n"
       ]
      },
      {
       "output_type": "stream",
       "stream": "stdout",
       "text": [
        "Aggregating results for sample 148\n",
        "Performing execute_matrix_multiplication sample 149\n"
       ]
      },
      {
       "output_type": "stream",
       "stream": "stdout",
       "text": [
        "Aggregating results for sample 149\n",
        "Performing execute_matrix_multiplication sample 150\n"
       ]
      },
      {
       "output_type": "stream",
       "stream": "stdout",
       "text": [
        "Aggregating results for sample 150\n",
        "Performing execute_matrix_multiplication sample 151\n"
       ]
      },
      {
       "output_type": "stream",
       "stream": "stdout",
       "text": [
        "Aggregating results for sample 151\n",
        "Performing execute_matrix_multiplication sample 152\n"
       ]
      },
      {
       "output_type": "stream",
       "stream": "stdout",
       "text": [
        "Aggregating results for sample 152\n",
        "Performing execute_matrix_multiplication sample 153\n"
       ]
      },
      {
       "output_type": "stream",
       "stream": "stdout",
       "text": [
        "Aggregating results for sample 153\n",
        "Performing execute_matrix_multiplication sample 154\n"
       ]
      },
      {
       "output_type": "stream",
       "stream": "stdout",
       "text": [
        "Aggregating results for sample 154\n",
        "Performing execute_matrix_multiplication sample 155\n"
       ]
      },
      {
       "output_type": "stream",
       "stream": "stdout",
       "text": [
        "Aggregating results for sample 155\n",
        "Performing execute_matrix_multiplication sample 156\n"
       ]
      },
      {
       "output_type": "stream",
       "stream": "stdout",
       "text": [
        "Aggregating results for sample 156\n",
        "Performing execute_matrix_multiplication sample 157\n"
       ]
      },
      {
       "output_type": "stream",
       "stream": "stdout",
       "text": [
        "Aggregating results for sample 157\n",
        "Performing execute_matrix_multiplication sample 158\n"
       ]
      },
      {
       "output_type": "stream",
       "stream": "stdout",
       "text": [
        "Aggregating results for sample 158\n",
        "Performing execute_matrix_multiplication sample 159\n"
       ]
      },
      {
       "output_type": "stream",
       "stream": "stdout",
       "text": [
        "Aggregating results for sample 159\n",
        "Performing execute_matrix_multiplication sample 160\n"
       ]
      },
      {
       "output_type": "stream",
       "stream": "stdout",
       "text": [
        "Aggregating results for sample 160\n",
        "Performing execute_matrix_multiplication sample 161\n"
       ]
      },
      {
       "output_type": "stream",
       "stream": "stdout",
       "text": [
        "Aggregating results for sample 161\n",
        "Performing execute_matrix_multiplication sample 162\n"
       ]
      },
      {
       "output_type": "stream",
       "stream": "stdout",
       "text": [
        "Aggregating results for sample 162\n",
        "Performing execute_matrix_multiplication sample 163\n"
       ]
      },
      {
       "output_type": "stream",
       "stream": "stdout",
       "text": [
        "Aggregating results for sample 163\n",
        "Performing execute_matrix_multiplication sample 164\n"
       ]
      },
      {
       "output_type": "stream",
       "stream": "stdout",
       "text": [
        "Aggregating results for sample 164\n",
        "Performing execute_matrix_multiplication sample 165\n"
       ]
      },
      {
       "output_type": "stream",
       "stream": "stdout",
       "text": [
        "Aggregating results for sample 165\n",
        "Performing execute_matrix_multiplication sample 166\n"
       ]
      },
      {
       "output_type": "stream",
       "stream": "stdout",
       "text": [
        "Aggregating results for sample 166\n",
        "Performing execute_matrix_multiplication sample 167\n"
       ]
      },
      {
       "output_type": "stream",
       "stream": "stdout",
       "text": [
        "Aggregating results for sample 167\n",
        "Performing execute_matrix_multiplication sample 168\n"
       ]
      },
      {
       "output_type": "stream",
       "stream": "stdout",
       "text": [
        "Aggregating results for sample 168\n",
        "Performing execute_matrix_multiplication sample 169\n"
       ]
      },
      {
       "output_type": "stream",
       "stream": "stdout",
       "text": [
        "Aggregating results for sample 169\n",
        "Performing execute_matrix_multiplication sample 170\n"
       ]
      },
      {
       "output_type": "stream",
       "stream": "stdout",
       "text": [
        "Aggregating results for sample 170\n",
        "Performing execute_matrix_multiplication sample 171\n"
       ]
      },
      {
       "output_type": "stream",
       "stream": "stdout",
       "text": [
        "Aggregating results for sample 171\n",
        "Performing execute_matrix_multiplication sample 172\n"
       ]
      },
      {
       "output_type": "stream",
       "stream": "stdout",
       "text": [
        "Aggregating results for sample 172\n",
        "Performing execute_matrix_multiplication sample 173\n"
       ]
      },
      {
       "output_type": "stream",
       "stream": "stdout",
       "text": [
        "Aggregating results for sample 173\n",
        "Performing execute_matrix_multiplication sample 174\n"
       ]
      },
      {
       "output_type": "stream",
       "stream": "stdout",
       "text": [
        "Aggregating results for sample 174\n",
        "Performing execute_matrix_multiplication sample 175\n"
       ]
      },
      {
       "output_type": "stream",
       "stream": "stdout",
       "text": [
        "Aggregating results for sample 175\n",
        "Performing execute_matrix_multiplication sample 176\n"
       ]
      },
      {
       "output_type": "stream",
       "stream": "stdout",
       "text": [
        "Aggregating results for sample 176\n",
        "Performing execute_matrix_multiplication sample 177\n"
       ]
      },
      {
       "output_type": "stream",
       "stream": "stdout",
       "text": [
        "Aggregating results for sample 177\n",
        "Performing execute_matrix_multiplication sample 178\n"
       ]
      },
      {
       "output_type": "stream",
       "stream": "stdout",
       "text": [
        "Aggregating results for sample 178\n",
        "Performing execute_matrix_multiplication sample 179\n"
       ]
      },
      {
       "output_type": "stream",
       "stream": "stdout",
       "text": [
        "Aggregating results for sample 179\n",
        "Performing execute_matrix_multiplication sample 180\n"
       ]
      },
      {
       "output_type": "stream",
       "stream": "stdout",
       "text": [
        "Aggregating results for sample 180\n",
        "Performing execute_matrix_multiplication sample 181\n"
       ]
      },
      {
       "output_type": "stream",
       "stream": "stdout",
       "text": [
        "Aggregating results for sample 181\n",
        "Performing execute_matrix_multiplication sample 182\n"
       ]
      },
      {
       "output_type": "stream",
       "stream": "stdout",
       "text": [
        "Aggregating results for sample 182\n",
        "Performing execute_matrix_multiplication sample 183\n"
       ]
      },
      {
       "output_type": "stream",
       "stream": "stdout",
       "text": [
        "Aggregating results for sample 183\n",
        "Performing execute_matrix_multiplication sample 184\n"
       ]
      },
      {
       "output_type": "stream",
       "stream": "stdout",
       "text": [
        "Aggregating results for sample 184\n",
        "Performing execute_matrix_multiplication sample 185\n"
       ]
      },
      {
       "output_type": "stream",
       "stream": "stdout",
       "text": [
        "Aggregating results for sample 185\n",
        "Performing execute_matrix_multiplication sample 186\n"
       ]
      },
      {
       "output_type": "stream",
       "stream": "stdout",
       "text": [
        "Aggregating results for sample 186\n",
        "Performing execute_matrix_multiplication sample 187\n"
       ]
      },
      {
       "output_type": "stream",
       "stream": "stdout",
       "text": [
        "Aggregating results for sample 187\n",
        "Performing execute_matrix_multiplication sample 188\n"
       ]
      },
      {
       "output_type": "stream",
       "stream": "stdout",
       "text": [
        "Aggregating results for sample 188\n",
        "Performing execute_matrix_multiplication sample 189\n"
       ]
      },
      {
       "output_type": "stream",
       "stream": "stdout",
       "text": [
        "Aggregating results for sample 189\n",
        "Performing execute_matrix_multiplication sample 190\n"
       ]
      },
      {
       "output_type": "stream",
       "stream": "stdout",
       "text": [
        "Aggregating results for sample 190\n",
        "Performing execute_matrix_multiplication sample 191\n"
       ]
      },
      {
       "output_type": "stream",
       "stream": "stdout",
       "text": [
        "Aggregating results for sample 191\n",
        "Performing execute_matrix_multiplication sample 192\n"
       ]
      },
      {
       "output_type": "stream",
       "stream": "stdout",
       "text": [
        "Aggregating results for sample 192\n",
        "Performing execute_matrix_multiplication sample 193\n"
       ]
      },
      {
       "output_type": "stream",
       "stream": "stdout",
       "text": [
        "Aggregating results for sample 193\n",
        "Performing execute_matrix_multiplication sample 194\n"
       ]
      },
      {
       "output_type": "stream",
       "stream": "stdout",
       "text": [
        "Aggregating results for sample 194\n",
        "Performing execute_matrix_multiplication sample 195\n"
       ]
      },
      {
       "output_type": "stream",
       "stream": "stdout",
       "text": [
        "Aggregating results for sample 195\n",
        "Performing execute_matrix_multiplication sample 196\n"
       ]
      },
      {
       "output_type": "stream",
       "stream": "stdout",
       "text": [
        "Aggregating results for sample 196\n",
        "Performing execute_matrix_multiplication sample 197\n"
       ]
      },
      {
       "output_type": "stream",
       "stream": "stdout",
       "text": [
        "Aggregating results for sample 197\n",
        "Performing execute_matrix_multiplication sample 198\n"
       ]
      },
      {
       "output_type": "stream",
       "stream": "stdout",
       "text": [
        "Aggregating results for sample 198\n",
        "Performing execute_matrix_multiplication sample 199\n"
       ]
      },
      {
       "output_type": "stream",
       "stream": "stdout",
       "text": [
        "Aggregating results for sample 199\n",
        "Performing execute_matrix_multiplication sample 200\n"
       ]
      },
      {
       "output_type": "stream",
       "stream": "stdout",
       "text": [
        "Aggregating results for sample 200\n",
        "Performing execute_matrix_multiplication sample 201\n"
       ]
      },
      {
       "output_type": "stream",
       "stream": "stdout",
       "text": [
        "Aggregating results for sample 201\n",
        "Performing execute_matrix_multiplication sample 202\n"
       ]
      },
      {
       "output_type": "stream",
       "stream": "stdout",
       "text": [
        "Aggregating results for sample 202\n",
        "Performing execute_matrix_multiplication sample 203\n"
       ]
      },
      {
       "output_type": "stream",
       "stream": "stdout",
       "text": [
        "Aggregating results for sample 203\n",
        "Performing execute_matrix_multiplication sample 204\n"
       ]
      },
      {
       "output_type": "stream",
       "stream": "stdout",
       "text": [
        "Aggregating results for sample 204\n",
        "Performing execute_matrix_multiplication sample 205\n"
       ]
      },
      {
       "output_type": "stream",
       "stream": "stdout",
       "text": [
        "Aggregating results for sample 205\n",
        "Performing execute_matrix_multiplication sample 206\n"
       ]
      },
      {
       "output_type": "stream",
       "stream": "stdout",
       "text": [
        "Aggregating results for sample 206\n",
        "Performing execute_matrix_multiplication sample 207\n"
       ]
      },
      {
       "output_type": "stream",
       "stream": "stdout",
       "text": [
        "Aggregating results for sample 207\n",
        "Performing execute_matrix_multiplication sample 208\n"
       ]
      },
      {
       "output_type": "stream",
       "stream": "stdout",
       "text": [
        "Aggregating results for sample 208\n",
        "Performing execute_matrix_multiplication sample 209\n"
       ]
      },
      {
       "output_type": "stream",
       "stream": "stdout",
       "text": [
        "Aggregating results for sample 209\n",
        "Performing execute_matrix_multiplication sample 210\n"
       ]
      },
      {
       "output_type": "stream",
       "stream": "stdout",
       "text": [
        "Aggregating results for sample 210\n",
        "Performing execute_matrix_multiplication sample 211\n"
       ]
      },
      {
       "output_type": "stream",
       "stream": "stdout",
       "text": [
        "Aggregating results for sample 211\n",
        "Performing execute_matrix_multiplication sample 212\n"
       ]
      },
      {
       "output_type": "stream",
       "stream": "stdout",
       "text": [
        "Aggregating results for sample 212\n",
        "Performing execute_matrix_multiplication sample 213\n"
       ]
      },
      {
       "output_type": "stream",
       "stream": "stdout",
       "text": [
        "Aggregating results for sample 213\n",
        "Performing execute_matrix_multiplication sample 214\n"
       ]
      },
      {
       "output_type": "stream",
       "stream": "stdout",
       "text": [
        "Aggregating results for sample 214\n",
        "Performing execute_matrix_multiplication sample 215\n"
       ]
      },
      {
       "output_type": "stream",
       "stream": "stdout",
       "text": [
        "Aggregating results for sample 215\n",
        "Performing execute_matrix_multiplication sample 216\n"
       ]
      },
      {
       "output_type": "stream",
       "stream": "stdout",
       "text": [
        "Aggregating results for sample 216\n",
        "Performing execute_matrix_multiplication sample 217\n"
       ]
      },
      {
       "output_type": "stream",
       "stream": "stdout",
       "text": [
        "Aggregating results for sample 217\n",
        "Performing execute_matrix_multiplication sample 218\n"
       ]
      },
      {
       "output_type": "stream",
       "stream": "stdout",
       "text": [
        "Aggregating results for sample 218\n",
        "Performing execute_matrix_multiplication sample 219\n"
       ]
      },
      {
       "output_type": "stream",
       "stream": "stdout",
       "text": [
        "Aggregating results for sample 219\n",
        "Performing execute_matrix_multiplication sample 220\n"
       ]
      },
      {
       "output_type": "stream",
       "stream": "stdout",
       "text": [
        "Aggregating results for sample 220\n",
        "Performing execute_matrix_multiplication sample 221\n"
       ]
      },
      {
       "output_type": "stream",
       "stream": "stdout",
       "text": [
        "Aggregating results for sample 221\n",
        "Performing execute_matrix_multiplication sample 222\n"
       ]
      },
      {
       "output_type": "stream",
       "stream": "stdout",
       "text": [
        "Aggregating results for sample 222\n",
        "Performing execute_matrix_multiplication sample 223\n"
       ]
      },
      {
       "output_type": "stream",
       "stream": "stdout",
       "text": [
        "Aggregating results for sample 223\n",
        "Performing execute_matrix_multiplication sample 224\n"
       ]
      },
      {
       "output_type": "stream",
       "stream": "stdout",
       "text": [
        "Aggregating results for sample 224\n",
        "Performing execute_matrix_multiplication sample 225\n"
       ]
      },
      {
       "output_type": "stream",
       "stream": "stdout",
       "text": [
        "Aggregating results for sample 225\n",
        "Performing execute_matrix_multiplication sample 226\n"
       ]
      },
      {
       "output_type": "stream",
       "stream": "stdout",
       "text": [
        "Aggregating results for sample 226\n",
        "Performing execute_matrix_multiplication sample 227\n"
       ]
      },
      {
       "output_type": "stream",
       "stream": "stdout",
       "text": [
        "Aggregating results for sample 227\n",
        "Performing execute_matrix_multiplication sample 228\n"
       ]
      },
      {
       "output_type": "stream",
       "stream": "stdout",
       "text": [
        "Aggregating results for sample 228\n",
        "Performing execute_matrix_multiplication sample 229\n"
       ]
      },
      {
       "output_type": "stream",
       "stream": "stdout",
       "text": [
        "Aggregating results for sample 229\n",
        "Performing execute_matrix_multiplication sample 230\n"
       ]
      },
      {
       "output_type": "stream",
       "stream": "stdout",
       "text": [
        "Aggregating results for sample 230\n",
        "Performing execute_matrix_multiplication sample 231\n"
       ]
      },
      {
       "output_type": "stream",
       "stream": "stdout",
       "text": [
        "Aggregating results for sample 231\n",
        "Performing execute_matrix_multiplication sample 232\n"
       ]
      },
      {
       "output_type": "stream",
       "stream": "stdout",
       "text": [
        "Aggregating results for sample 232\n",
        "Performing execute_matrix_multiplication sample 233\n"
       ]
      },
      {
       "output_type": "stream",
       "stream": "stdout",
       "text": [
        "Aggregating results for sample 233\n",
        "Performing execute_matrix_multiplication sample 234\n"
       ]
      },
      {
       "output_type": "stream",
       "stream": "stdout",
       "text": [
        "Aggregating results for sample 234\n",
        "Performing execute_matrix_multiplication sample 235\n"
       ]
      },
      {
       "output_type": "stream",
       "stream": "stdout",
       "text": [
        "Aggregating results for sample 235\n",
        "Performing execute_matrix_multiplication sample 236\n"
       ]
      },
      {
       "output_type": "stream",
       "stream": "stdout",
       "text": [
        "Aggregating results for sample 236\n",
        "Performing execute_matrix_multiplication sample 237\n"
       ]
      },
      {
       "output_type": "stream",
       "stream": "stdout",
       "text": [
        "Aggregating results for sample 237\n",
        "Performing execute_matrix_multiplication sample 238\n"
       ]
      },
      {
       "output_type": "stream",
       "stream": "stdout",
       "text": [
        "Aggregating results for sample 238\n",
        "Performing execute_matrix_multiplication sample 239\n"
       ]
      },
      {
       "output_type": "stream",
       "stream": "stdout",
       "text": [
        "Aggregating results for sample 239\n",
        "Performing execute_matrix_multiplication sample 240\n"
       ]
      },
      {
       "output_type": "stream",
       "stream": "stdout",
       "text": [
        "Aggregating results for sample 240\n",
        "Performing execute_matrix_multiplication sample 241\n"
       ]
      },
      {
       "output_type": "stream",
       "stream": "stdout",
       "text": [
        "Aggregating results for sample 241\n",
        "Performing execute_matrix_multiplication sample 242\n"
       ]
      },
      {
       "output_type": "stream",
       "stream": "stdout",
       "text": [
        "Aggregating results for sample 242\n",
        "Performing execute_matrix_multiplication sample 243\n"
       ]
      },
      {
       "output_type": "stream",
       "stream": "stdout",
       "text": [
        "Aggregating results for sample 243\n",
        "Performing execute_matrix_multiplication sample 244\n"
       ]
      },
      {
       "output_type": "stream",
       "stream": "stdout",
       "text": [
        "Aggregating results for sample 244\n",
        "Performing execute_matrix_multiplication sample 245\n"
       ]
      },
      {
       "output_type": "stream",
       "stream": "stdout",
       "text": [
        "Aggregating results for sample 245\n",
        "Performing execute_matrix_multiplication sample 246\n"
       ]
      },
      {
       "output_type": "stream",
       "stream": "stdout",
       "text": [
        "Aggregating results for sample 246\n",
        "Performing execute_matrix_multiplication sample 247\n"
       ]
      },
      {
       "output_type": "stream",
       "stream": "stdout",
       "text": [
        "Aggregating results for sample 247\n",
        "Performing execute_matrix_multiplication sample 248\n"
       ]
      },
      {
       "output_type": "stream",
       "stream": "stdout",
       "text": [
        "Aggregating results for sample 248\n",
        "Performing execute_matrix_multiplication sample 249\n"
       ]
      },
      {
       "output_type": "stream",
       "stream": "stdout",
       "text": [
        "Aggregating results for sample 249\n",
        "Performing execute_matrix_multiplication sample 250\n"
       ]
      },
      {
       "output_type": "stream",
       "stream": "stdout",
       "text": [
        "Aggregating results for sample 250\n",
        "Performing execute_matrix_multiplication sample 251\n"
       ]
      },
      {
       "output_type": "stream",
       "stream": "stdout",
       "text": [
        "Aggregating results for sample 251\n",
        "Performing execute_matrix_multiplication sample 252\n"
       ]
      },
      {
       "output_type": "stream",
       "stream": "stdout",
       "text": [
        "Aggregating results for sample 252\n",
        "Performing execute_matrix_multiplication sample 253\n"
       ]
      },
      {
       "output_type": "stream",
       "stream": "stdout",
       "text": [
        "Aggregating results for sample 253\n",
        "Performing execute_matrix_multiplication sample 254\n"
       ]
      },
      {
       "output_type": "stream",
       "stream": "stdout",
       "text": [
        "Aggregating results for sample 254\n",
        "Performing execute_matrix_multiplication sample 255\n"
       ]
      },
      {
       "output_type": "stream",
       "stream": "stdout",
       "text": [
        "Aggregating results for sample 255\n",
        "Performing execute_matrix_multiplication sample 256\n"
       ]
      },
      {
       "output_type": "stream",
       "stream": "stdout",
       "text": [
        "Aggregating results for sample 256\n",
        "Performing execute_matrix_multiplication sample 257\n"
       ]
      },
      {
       "output_type": "stream",
       "stream": "stdout",
       "text": [
        "Aggregating results for sample 257\n",
        "Performing execute_matrix_multiplication sample 258\n"
       ]
      },
      {
       "output_type": "stream",
       "stream": "stdout",
       "text": [
        "Aggregating results for sample 258\n",
        "Performing execute_matrix_multiplication sample 259\n"
       ]
      },
      {
       "output_type": "stream",
       "stream": "stdout",
       "text": [
        "Aggregating results for sample 259\n",
        "Performing execute_matrix_multiplication sample 260\n"
       ]
      },
      {
       "output_type": "stream",
       "stream": "stdout",
       "text": [
        "Aggregating results for sample 260\n",
        "Performing execute_matrix_multiplication sample 261\n"
       ]
      },
      {
       "output_type": "stream",
       "stream": "stdout",
       "text": [
        "Aggregating results for sample 261\n",
        "Performing execute_matrix_multiplication sample 262\n"
       ]
      },
      {
       "output_type": "stream",
       "stream": "stdout",
       "text": [
        "Aggregating results for sample 262\n",
        "Performing execute_matrix_multiplication sample 263\n"
       ]
      },
      {
       "output_type": "stream",
       "stream": "stdout",
       "text": [
        "Aggregating results for sample 263\n",
        "Performing execute_matrix_multiplication sample 264\n"
       ]
      },
      {
       "output_type": "stream",
       "stream": "stdout",
       "text": [
        "Aggregating results for sample 264\n",
        "Performing execute_matrix_multiplication sample 265\n"
       ]
      },
      {
       "output_type": "stream",
       "stream": "stdout",
       "text": [
        "Aggregating results for sample 265\n",
        "Performing execute_matrix_multiplication sample 266\n"
       ]
      },
      {
       "output_type": "stream",
       "stream": "stdout",
       "text": [
        "Aggregating results for sample 266\n",
        "Performing execute_matrix_multiplication sample 267\n"
       ]
      },
      {
       "output_type": "stream",
       "stream": "stdout",
       "text": [
        "Aggregating results for sample 267\n",
        "Performing execute_matrix_multiplication sample 268\n"
       ]
      },
      {
       "output_type": "stream",
       "stream": "stdout",
       "text": [
        "Aggregating results for sample 268\n",
        "Performing execute_matrix_multiplication sample 269\n"
       ]
      },
      {
       "output_type": "stream",
       "stream": "stdout",
       "text": [
        "Aggregating results for sample 269\n",
        "Performing execute_matrix_multiplication sample 270\n"
       ]
      },
      {
       "output_type": "stream",
       "stream": "stdout",
       "text": [
        "Aggregating results for sample 270\n",
        "Performing execute_matrix_multiplication sample 271\n"
       ]
      },
      {
       "output_type": "stream",
       "stream": "stdout",
       "text": [
        "Aggregating results for sample 271\n",
        "Performing execute_matrix_multiplication sample 272\n"
       ]
      },
      {
       "output_type": "stream",
       "stream": "stdout",
       "text": [
        "Aggregating results for sample 272\n",
        "Performing execute_matrix_multiplication sample 273\n"
       ]
      },
      {
       "output_type": "stream",
       "stream": "stdout",
       "text": [
        "Aggregating results for sample 273\n",
        "Performing execute_matrix_multiplication sample 274\n"
       ]
      },
      {
       "output_type": "stream",
       "stream": "stdout",
       "text": [
        "Aggregating results for sample 274\n",
        "Performing execute_matrix_multiplication sample 275\n"
       ]
      },
      {
       "output_type": "stream",
       "stream": "stdout",
       "text": [
        "Aggregating results for sample 275\n",
        "Performing execute_matrix_multiplication sample 276\n"
       ]
      },
      {
       "output_type": "stream",
       "stream": "stdout",
       "text": [
        "Aggregating results for sample 276\n",
        "Performing execute_matrix_multiplication sample 277\n"
       ]
      },
      {
       "output_type": "stream",
       "stream": "stdout",
       "text": [
        "Aggregating results for sample 277\n",
        "Performing execute_matrix_multiplication sample 278\n"
       ]
      },
      {
       "output_type": "stream",
       "stream": "stdout",
       "text": [
        "Aggregating results for sample 278\n",
        "Performing execute_matrix_multiplication sample 279\n"
       ]
      },
      {
       "output_type": "stream",
       "stream": "stdout",
       "text": [
        "Aggregating results for sample 279\n",
        "Performing execute_matrix_multiplication sample 280\n"
       ]
      },
      {
       "output_type": "stream",
       "stream": "stdout",
       "text": [
        "Aggregating results for sample 280\n",
        "Performing execute_matrix_multiplication sample 281\n"
       ]
      },
      {
       "output_type": "stream",
       "stream": "stdout",
       "text": [
        "Aggregating results for sample 281\n",
        "Performing execute_matrix_multiplication sample 282\n"
       ]
      },
      {
       "output_type": "stream",
       "stream": "stdout",
       "text": [
        "Aggregating results for sample 282\n",
        "Performing execute_matrix_multiplication sample 283\n"
       ]
      },
      {
       "output_type": "stream",
       "stream": "stdout",
       "text": [
        "Aggregating results for sample 283\n",
        "Performing execute_matrix_multiplication sample 284\n"
       ]
      },
      {
       "output_type": "stream",
       "stream": "stdout",
       "text": [
        "Aggregating results for sample 284\n",
        "Performing execute_matrix_multiplication sample 285\n"
       ]
      },
      {
       "output_type": "stream",
       "stream": "stdout",
       "text": [
        "Aggregating results for sample 285\n",
        "Performing execute_matrix_multiplication sample 286\n"
       ]
      },
      {
       "output_type": "stream",
       "stream": "stdout",
       "text": [
        "Aggregating results for sample 286\n",
        "Performing execute_matrix_multiplication sample 287\n"
       ]
      },
      {
       "output_type": "stream",
       "stream": "stdout",
       "text": [
        "Aggregating results for sample 287\n",
        "Performing execute_matrix_multiplication sample 288\n"
       ]
      },
      {
       "output_type": "stream",
       "stream": "stdout",
       "text": [
        "Aggregating results for sample 288\n",
        "Performing execute_matrix_multiplication sample 289\n"
       ]
      },
      {
       "output_type": "stream",
       "stream": "stdout",
       "text": [
        "Aggregating results for sample 289\n",
        "Performing execute_matrix_multiplication sample 290\n"
       ]
      },
      {
       "output_type": "stream",
       "stream": "stdout",
       "text": [
        "Aggregating results for sample 290\n",
        "Performing execute_matrix_multiplication sample 291\n"
       ]
      },
      {
       "output_type": "stream",
       "stream": "stdout",
       "text": [
        "Aggregating results for sample 291\n",
        "Performing execute_matrix_multiplication sample 292\n"
       ]
      },
      {
       "output_type": "stream",
       "stream": "stdout",
       "text": [
        "Aggregating results for sample 292\n",
        "Performing execute_matrix_multiplication sample 293\n"
       ]
      },
      {
       "output_type": "stream",
       "stream": "stdout",
       "text": [
        "Aggregating results for sample 293\n",
        "Performing execute_matrix_multiplication sample 294\n"
       ]
      },
      {
       "output_type": "stream",
       "stream": "stdout",
       "text": [
        "Aggregating results for sample 294\n",
        "Performing execute_matrix_multiplication sample 295\n"
       ]
      },
      {
       "output_type": "stream",
       "stream": "stdout",
       "text": [
        "Aggregating results for sample 295\n",
        "Performing execute_matrix_multiplication sample 296\n"
       ]
      },
      {
       "output_type": "stream",
       "stream": "stdout",
       "text": [
        "Aggregating results for sample 296\n",
        "Performing execute_matrix_multiplication sample 297\n"
       ]
      },
      {
       "output_type": "stream",
       "stream": "stdout",
       "text": [
        "Aggregating results for sample 297\n",
        "Performing execute_matrix_multiplication sample 298\n"
       ]
      },
      {
       "output_type": "stream",
       "stream": "stdout",
       "text": [
        "Aggregating results for sample 298\n",
        "Performing execute_matrix_multiplication sample 299\n"
       ]
      },
      {
       "output_type": "stream",
       "stream": "stdout",
       "text": [
        "Aggregating results for sample 299\n",
        "Performing execute_matrix_multiplication sample 300\n"
       ]
      },
      {
       "output_type": "stream",
       "stream": "stdout",
       "text": [
        "Aggregating results for sample 300\n",
        "Performing execute_matrix_multiplication sample 301\n"
       ]
      },
      {
       "output_type": "stream",
       "stream": "stdout",
       "text": [
        "Aggregating results for sample 301\n",
        "Performing execute_matrix_multiplication sample 302\n"
       ]
      },
      {
       "output_type": "stream",
       "stream": "stdout",
       "text": [
        "Aggregating results for sample 302\n",
        "Performing execute_matrix_multiplication sample 303\n"
       ]
      },
      {
       "output_type": "stream",
       "stream": "stdout",
       "text": [
        "Aggregating results for sample 303\n",
        "Performing execute_matrix_multiplication sample 304\n"
       ]
      },
      {
       "output_type": "stream",
       "stream": "stdout",
       "text": [
        "Aggregating results for sample 304\n",
        "Performing execute_matrix_multiplication sample 305\n"
       ]
      },
      {
       "output_type": "stream",
       "stream": "stdout",
       "text": [
        "Aggregating results for sample 305\n",
        "Performing execute_matrix_multiplication sample 306\n"
       ]
      },
      {
       "output_type": "stream",
       "stream": "stdout",
       "text": [
        "Aggregating results for sample 306\n",
        "Performing execute_matrix_multiplication sample 307\n"
       ]
      },
      {
       "output_type": "stream",
       "stream": "stdout",
       "text": [
        "Aggregating results for sample 307\n",
        "Performing execute_matrix_multiplication sample 308\n"
       ]
      },
      {
       "output_type": "stream",
       "stream": "stdout",
       "text": [
        "Aggregating results for sample 308\n",
        "Performing execute_matrix_multiplication sample 309\n"
       ]
      },
      {
       "output_type": "stream",
       "stream": "stdout",
       "text": [
        "Aggregating results for sample 309\n",
        "Performing execute_matrix_multiplication sample 310\n"
       ]
      },
      {
       "output_type": "stream",
       "stream": "stdout",
       "text": [
        "Aggregating results for sample 310\n",
        "Performing execute_matrix_multiplication sample 311\n"
       ]
      },
      {
       "output_type": "stream",
       "stream": "stdout",
       "text": [
        "Aggregating results for sample 311\n",
        "Performing execute_matrix_multiplication sample 312\n"
       ]
      },
      {
       "output_type": "stream",
       "stream": "stdout",
       "text": [
        "Aggregating results for sample 312\n",
        "Performing execute_matrix_multiplication sample 313\n"
       ]
      },
      {
       "output_type": "stream",
       "stream": "stdout",
       "text": [
        "Aggregating results for sample 313\n",
        "Performing execute_matrix_multiplication sample 314\n"
       ]
      },
      {
       "output_type": "stream",
       "stream": "stdout",
       "text": [
        "Aggregating results for sample 314\n",
        "Performing execute_matrix_multiplication sample 315\n"
       ]
      },
      {
       "output_type": "stream",
       "stream": "stdout",
       "text": [
        "Aggregating results for sample 315\n",
        "Performing execute_matrix_multiplication sample 316\n"
       ]
      },
      {
       "output_type": "stream",
       "stream": "stdout",
       "text": [
        "Aggregating results for sample 316\n",
        "Performing execute_matrix_multiplication sample 317\n"
       ]
      },
      {
       "output_type": "stream",
       "stream": "stdout",
       "text": [
        "Aggregating results for sample 317\n",
        "Performing execute_matrix_multiplication sample 318\n"
       ]
      },
      {
       "output_type": "stream",
       "stream": "stdout",
       "text": [
        "Aggregating results for sample 318\n",
        "Performing execute_matrix_multiplication sample 319\n"
       ]
      },
      {
       "output_type": "stream",
       "stream": "stdout",
       "text": [
        "Aggregating results for sample 319\n",
        "Performing execute_matrix_multiplication sample 320\n"
       ]
      },
      {
       "output_type": "stream",
       "stream": "stdout",
       "text": [
        "Aggregating results for sample 320\n",
        "Performing execute_matrix_multiplication sample 321\n"
       ]
      },
      {
       "output_type": "stream",
       "stream": "stdout",
       "text": [
        "Aggregating results for sample 321\n",
        "Performing execute_matrix_multiplication sample 322\n"
       ]
      },
      {
       "output_type": "stream",
       "stream": "stdout",
       "text": [
        "Aggregating results for sample 322\n",
        "Performing execute_matrix_multiplication sample 323\n"
       ]
      },
      {
       "output_type": "stream",
       "stream": "stdout",
       "text": [
        "Aggregating results for sample 323\n",
        "Performing execute_matrix_multiplication sample 324\n"
       ]
      },
      {
       "output_type": "stream",
       "stream": "stdout",
       "text": [
        "Aggregating results for sample 324\n",
        "Performing execute_matrix_multiplication sample 325\n"
       ]
      },
      {
       "output_type": "stream",
       "stream": "stdout",
       "text": [
        "Aggregating results for sample 325\n",
        "Performing execute_matrix_multiplication sample 326\n"
       ]
      },
      {
       "output_type": "stream",
       "stream": "stdout",
       "text": [
        "Aggregating results for sample 326\n",
        "Performing execute_matrix_multiplication sample 327\n"
       ]
      },
      {
       "output_type": "stream",
       "stream": "stdout",
       "text": [
        "Aggregating results for sample 327\n",
        "Performing execute_matrix_multiplication sample 328\n"
       ]
      },
      {
       "output_type": "stream",
       "stream": "stdout",
       "text": [
        "Aggregating results for sample 328\n",
        "Performing execute_matrix_multiplication sample 329\n"
       ]
      },
      {
       "output_type": "stream",
       "stream": "stdout",
       "text": [
        "Aggregating results for sample 329\n",
        "Performing execute_matrix_multiplication sample 330\n"
       ]
      },
      {
       "output_type": "stream",
       "stream": "stdout",
       "text": [
        "Aggregating results for sample 330\n",
        "Performing execute_matrix_multiplication sample 331\n"
       ]
      },
      {
       "output_type": "stream",
       "stream": "stdout",
       "text": [
        "Aggregating results for sample 331\n",
        "Performing execute_matrix_multiplication sample 332\n"
       ]
      },
      {
       "output_type": "stream",
       "stream": "stdout",
       "text": [
        "Aggregating results for sample 332\n",
        "Performing execute_matrix_multiplication sample 333\n"
       ]
      },
      {
       "output_type": "stream",
       "stream": "stdout",
       "text": [
        "Aggregating results for sample 333\n",
        "Performing execute_matrix_multiplication sample 334\n"
       ]
      },
      {
       "output_type": "stream",
       "stream": "stdout",
       "text": [
        "Aggregating results for sample 334\n",
        "Performing execute_matrix_multiplication sample 335\n"
       ]
      },
      {
       "output_type": "stream",
       "stream": "stdout",
       "text": [
        "Aggregating results for sample 335\n",
        "Performing execute_matrix_multiplication sample 336\n"
       ]
      },
      {
       "output_type": "stream",
       "stream": "stdout",
       "text": [
        "Aggregating results for sample 336\n",
        "Performing execute_matrix_multiplication sample 337\n"
       ]
      },
      {
       "output_type": "stream",
       "stream": "stdout",
       "text": [
        "Aggregating results for sample 337\n",
        "Performing execute_matrix_multiplication sample 338\n"
       ]
      },
      {
       "output_type": "stream",
       "stream": "stdout",
       "text": [
        "Aggregating results for sample 338\n",
        "Performing execute_matrix_multiplication sample 339\n"
       ]
      },
      {
       "output_type": "stream",
       "stream": "stdout",
       "text": [
        "Aggregating results for sample 339\n",
        "Performing execute_matrix_multiplication sample 340\n"
       ]
      },
      {
       "output_type": "stream",
       "stream": "stdout",
       "text": [
        "Aggregating results for sample 340\n",
        "Performing execute_matrix_multiplication sample 341\n"
       ]
      },
      {
       "output_type": "stream",
       "stream": "stdout",
       "text": [
        "Aggregating results for sample 341\n",
        "Performing execute_matrix_multiplication sample 342\n"
       ]
      },
      {
       "output_type": "stream",
       "stream": "stdout",
       "text": [
        "Aggregating results for sample 342\n",
        "Performing execute_matrix_multiplication sample 343\n"
       ]
      },
      {
       "output_type": "stream",
       "stream": "stdout",
       "text": [
        "Aggregating results for sample 343\n",
        "Performing execute_matrix_multiplication sample 344\n"
       ]
      },
      {
       "output_type": "stream",
       "stream": "stdout",
       "text": [
        "Aggregating results for sample 344\n",
        "Performing execute_matrix_multiplication sample 345\n"
       ]
      },
      {
       "output_type": "stream",
       "stream": "stdout",
       "text": [
        "Aggregating results for sample 345\n",
        "Performing execute_matrix_multiplication sample 346\n"
       ]
      },
      {
       "output_type": "stream",
       "stream": "stdout",
       "text": [
        "Aggregating results for sample 346\n",
        "Performing execute_matrix_multiplication sample 347\n"
       ]
      },
      {
       "output_type": "stream",
       "stream": "stdout",
       "text": [
        "Aggregating results for sample 347\n",
        "Performing execute_matrix_multiplication sample 348\n"
       ]
      },
      {
       "output_type": "stream",
       "stream": "stdout",
       "text": [
        "Aggregating results for sample 348\n",
        "Performing execute_matrix_multiplication sample 349\n"
       ]
      },
      {
       "output_type": "stream",
       "stream": "stdout",
       "text": [
        "Aggregating results for sample 349\n",
        "Performing execute_matrix_multiplication sample 350\n"
       ]
      },
      {
       "output_type": "stream",
       "stream": "stdout",
       "text": [
        "Aggregating results for sample 350\n",
        "Performing execute_matrix_multiplication sample 351\n"
       ]
      },
      {
       "output_type": "stream",
       "stream": "stdout",
       "text": [
        "Aggregating results for sample 351\n",
        "Performing execute_matrix_multiplication sample 352\n"
       ]
      },
      {
       "output_type": "stream",
       "stream": "stdout",
       "text": [
        "Aggregating results for sample 352\n",
        "Performing execute_matrix_multiplication sample 353\n"
       ]
      },
      {
       "output_type": "stream",
       "stream": "stdout",
       "text": [
        "Aggregating results for sample 353\n",
        "Performing execute_matrix_multiplication sample 354\n"
       ]
      },
      {
       "output_type": "stream",
       "stream": "stdout",
       "text": [
        "Aggregating results for sample 354\n",
        "Performing execute_matrix_multiplication sample 355\n"
       ]
      },
      {
       "output_type": "stream",
       "stream": "stdout",
       "text": [
        "Aggregating results for sample 355\n",
        "Performing execute_matrix_multiplication sample 356\n"
       ]
      },
      {
       "output_type": "stream",
       "stream": "stdout",
       "text": [
        "Aggregating results for sample 356\n",
        "Performing execute_matrix_multiplication sample 357\n"
       ]
      },
      {
       "output_type": "stream",
       "stream": "stdout",
       "text": [
        "Aggregating results for sample 357\n",
        "Performing execute_matrix_multiplication sample 358\n"
       ]
      },
      {
       "output_type": "stream",
       "stream": "stdout",
       "text": [
        "Aggregating results for sample 358\n",
        "Performing execute_matrix_multiplication sample 359\n"
       ]
      },
      {
       "output_type": "stream",
       "stream": "stdout",
       "text": [
        "Aggregating results for sample 359\n",
        "Performing execute_matrix_multiplication sample 360\n"
       ]
      },
      {
       "output_type": "stream",
       "stream": "stdout",
       "text": [
        "Aggregating results for sample 360\n",
        "Performing execute_matrix_multiplication sample 361\n"
       ]
      },
      {
       "output_type": "stream",
       "stream": "stdout",
       "text": [
        "Aggregating results for sample 361\n",
        "Performing execute_matrix_multiplication sample 362\n"
       ]
      },
      {
       "output_type": "stream",
       "stream": "stdout",
       "text": [
        "Aggregating results for sample 362\n",
        "Performing execute_matrix_multiplication sample 363\n"
       ]
      },
      {
       "output_type": "stream",
       "stream": "stdout",
       "text": [
        "Aggregating results for sample 363\n",
        "Performing execute_matrix_multiplication sample 364\n"
       ]
      },
      {
       "output_type": "stream",
       "stream": "stdout",
       "text": [
        "Aggregating results for sample 364\n",
        "Performing execute_matrix_multiplication sample 365\n"
       ]
      },
      {
       "output_type": "stream",
       "stream": "stdout",
       "text": [
        "Aggregating results for sample 365\n",
        "Performing execute_matrix_multiplication sample 366\n"
       ]
      },
      {
       "output_type": "stream",
       "stream": "stdout",
       "text": [
        "Aggregating results for sample 366\n",
        "Performing execute_matrix_multiplication sample 367\n"
       ]
      },
      {
       "output_type": "stream",
       "stream": "stdout",
       "text": [
        "Aggregating results for sample 367\n",
        "Performing execute_matrix_multiplication sample 368\n"
       ]
      },
      {
       "output_type": "stream",
       "stream": "stdout",
       "text": [
        "Aggregating results for sample 368\n",
        "Performing execute_matrix_multiplication sample 369\n"
       ]
      },
      {
       "output_type": "stream",
       "stream": "stdout",
       "text": [
        "Aggregating results for sample 369\n",
        "Performing execute_matrix_multiplication sample 370\n"
       ]
      },
      {
       "output_type": "stream",
       "stream": "stdout",
       "text": [
        "Aggregating results for sample 370\n",
        "Performing execute_matrix_multiplication sample 371\n"
       ]
      },
      {
       "output_type": "stream",
       "stream": "stdout",
       "text": [
        "Aggregating results for sample 371\n",
        "Performing execute_matrix_multiplication sample 372\n"
       ]
      },
      {
       "output_type": "stream",
       "stream": "stdout",
       "text": [
        "Aggregating results for sample 372\n",
        "Performing execute_matrix_multiplication sample 373\n"
       ]
      },
      {
       "output_type": "stream",
       "stream": "stdout",
       "text": [
        "Aggregating results for sample 373\n",
        "Performing execute_matrix_multiplication sample 374\n"
       ]
      },
      {
       "output_type": "stream",
       "stream": "stdout",
       "text": [
        "Aggregating results for sample 374\n",
        "Performing execute_matrix_multiplication sample 375\n"
       ]
      },
      {
       "output_type": "stream",
       "stream": "stdout",
       "text": [
        "Aggregating results for sample 375\n",
        "Performing execute_matrix_multiplication sample 376\n"
       ]
      },
      {
       "output_type": "stream",
       "stream": "stdout",
       "text": [
        "Aggregating results for sample 376\n",
        "Performing execute_matrix_multiplication sample 377\n"
       ]
      },
      {
       "output_type": "stream",
       "stream": "stdout",
       "text": [
        "Aggregating results for sample 377\n",
        "Performing execute_matrix_multiplication sample 378\n"
       ]
      },
      {
       "output_type": "stream",
       "stream": "stdout",
       "text": [
        "Aggregating results for sample 378\n",
        "Performing execute_matrix_multiplication sample 379\n"
       ]
      },
      {
       "output_type": "stream",
       "stream": "stdout",
       "text": [
        "Aggregating results for sample 379\n",
        "Performing execute_matrix_multiplication sample 380\n"
       ]
      },
      {
       "output_type": "stream",
       "stream": "stdout",
       "text": [
        "Aggregating results for sample 380\n",
        "Performing execute_matrix_multiplication sample 381\n"
       ]
      },
      {
       "output_type": "stream",
       "stream": "stdout",
       "text": [
        "Aggregating results for sample 381\n",
        "Performing execute_matrix_multiplication sample 382\n"
       ]
      },
      {
       "output_type": "stream",
       "stream": "stdout",
       "text": [
        "Aggregating results for sample 382\n",
        "Performing execute_matrix_multiplication sample 383\n"
       ]
      },
      {
       "output_type": "stream",
       "stream": "stdout",
       "text": [
        "Aggregating results for sample 383\n",
        "Performing execute_matrix_multiplication sample 384\n"
       ]
      },
      {
       "output_type": "stream",
       "stream": "stdout",
       "text": [
        "Aggregating results for sample 384\n",
        "Performing execute_matrix_multiplication sample 385\n"
       ]
      },
      {
       "output_type": "stream",
       "stream": "stdout",
       "text": [
        "Aggregating results for sample 385\n",
        "Performing execute_matrix_multiplication sample 386\n"
       ]
      },
      {
       "output_type": "stream",
       "stream": "stdout",
       "text": [
        "Aggregating results for sample 386\n",
        "Performing execute_matrix_multiplication sample 387\n"
       ]
      },
      {
       "output_type": "stream",
       "stream": "stdout",
       "text": [
        "Aggregating results for sample 387\n",
        "Performing execute_matrix_multiplication sample 388\n"
       ]
      },
      {
       "output_type": "stream",
       "stream": "stdout",
       "text": [
        "Aggregating results for sample 388\n",
        "Performing execute_matrix_multiplication sample 389\n"
       ]
      },
      {
       "output_type": "stream",
       "stream": "stdout",
       "text": [
        "Aggregating results for sample 389\n",
        "Performing execute_matrix_multiplication sample 390\n"
       ]
      },
      {
       "output_type": "stream",
       "stream": "stdout",
       "text": [
        "Aggregating results for sample 390\n",
        "Performing execute_matrix_multiplication sample 391\n"
       ]
      },
      {
       "output_type": "stream",
       "stream": "stdout",
       "text": [
        "Aggregating results for sample 391\n",
        "Performing execute_matrix_multiplication sample 392\n"
       ]
      },
      {
       "output_type": "stream",
       "stream": "stdout",
       "text": [
        "Aggregating results for sample 392\n",
        "Performing execute_matrix_multiplication sample 393\n"
       ]
      },
      {
       "output_type": "stream",
       "stream": "stdout",
       "text": [
        "Aggregating results for sample 393\n",
        "Performing execute_matrix_multiplication sample 394\n"
       ]
      },
      {
       "output_type": "stream",
       "stream": "stdout",
       "text": [
        "Aggregating results for sample 394\n",
        "Performing execute_matrix_multiplication sample 395\n"
       ]
      },
      {
       "output_type": "stream",
       "stream": "stdout",
       "text": [
        "Aggregating results for sample 395\n",
        "Performing execute_matrix_multiplication sample 396\n"
       ]
      },
      {
       "output_type": "stream",
       "stream": "stdout",
       "text": [
        "Aggregating results for sample 396\n",
        "Performing execute_matrix_multiplication sample 397\n"
       ]
      },
      {
       "output_type": "stream",
       "stream": "stdout",
       "text": [
        "Aggregating results for sample 397\n",
        "Performing execute_matrix_multiplication sample 398\n"
       ]
      },
      {
       "output_type": "stream",
       "stream": "stdout",
       "text": [
        "Aggregating results for sample 398\n",
        "Performing execute_matrix_multiplication sample 399\n"
       ]
      },
      {
       "output_type": "stream",
       "stream": "stdout",
       "text": [
        "Aggregating results for sample 399\n",
        "Performing execute_matrix_multiplication sample 400\n"
       ]
      },
      {
       "output_type": "stream",
       "stream": "stdout",
       "text": [
        "Aggregating results for sample 400\n",
        "Performing execute_matrix_multiplication sample 401\n"
       ]
      },
      {
       "output_type": "stream",
       "stream": "stdout",
       "text": [
        "Aggregating results for sample 401\n",
        "Performing execute_matrix_multiplication sample 402\n"
       ]
      },
      {
       "output_type": "stream",
       "stream": "stdout",
       "text": [
        "Aggregating results for sample 402\n",
        "Performing execute_matrix_multiplication sample 403\n"
       ]
      },
      {
       "output_type": "stream",
       "stream": "stdout",
       "text": [
        "Aggregating results for sample 403\n",
        "Performing execute_matrix_multiplication sample 404\n"
       ]
      },
      {
       "output_type": "stream",
       "stream": "stdout",
       "text": [
        "Aggregating results for sample 404\n",
        "Performing execute_matrix_multiplication sample 405\n"
       ]
      },
      {
       "output_type": "stream",
       "stream": "stdout",
       "text": [
        "Aggregating results for sample 405\n",
        "Performing execute_matrix_multiplication sample 406\n"
       ]
      },
      {
       "output_type": "stream",
       "stream": "stdout",
       "text": [
        "Aggregating results for sample 406\n",
        "Performing execute_matrix_multiplication sample 407\n"
       ]
      },
      {
       "output_type": "stream",
       "stream": "stdout",
       "text": [
        "Aggregating results for sample 407\n",
        "Performing execute_matrix_multiplication sample 408\n"
       ]
      },
      {
       "output_type": "stream",
       "stream": "stdout",
       "text": [
        "Aggregating results for sample 408\n",
        "Performing execute_matrix_multiplication sample 409\n"
       ]
      },
      {
       "output_type": "stream",
       "stream": "stdout",
       "text": [
        "Aggregating results for sample 409\n",
        "Performing execute_matrix_multiplication sample 410\n"
       ]
      },
      {
       "output_type": "stream",
       "stream": "stdout",
       "text": [
        "Aggregating results for sample 410\n",
        "Performing execute_matrix_multiplication sample 411\n"
       ]
      },
      {
       "output_type": "stream",
       "stream": "stdout",
       "text": [
        "Aggregating results for sample 411\n",
        "Performing execute_matrix_multiplication sample 412\n"
       ]
      },
      {
       "output_type": "stream",
       "stream": "stdout",
       "text": [
        "Aggregating results for sample 412\n",
        "Performing execute_matrix_multiplication sample 413\n"
       ]
      },
      {
       "output_type": "stream",
       "stream": "stdout",
       "text": [
        "Aggregating results for sample 413\n",
        "Performing execute_matrix_multiplication sample 414\n"
       ]
      },
      {
       "output_type": "stream",
       "stream": "stdout",
       "text": [
        "Aggregating results for sample 414\n",
        "Performing execute_matrix_multiplication sample 415\n"
       ]
      },
      {
       "output_type": "stream",
       "stream": "stdout",
       "text": [
        "Aggregating results for sample 415\n",
        "Performing execute_matrix_multiplication sample 416\n"
       ]
      },
      {
       "output_type": "stream",
       "stream": "stdout",
       "text": [
        "Aggregating results for sample 416\n",
        "Performing execute_matrix_multiplication sample 417\n"
       ]
      },
      {
       "output_type": "stream",
       "stream": "stdout",
       "text": [
        "Aggregating results for sample 417\n",
        "Performing execute_matrix_multiplication sample 418\n"
       ]
      },
      {
       "output_type": "stream",
       "stream": "stdout",
       "text": [
        "Aggregating results for sample 418\n",
        "Performing execute_matrix_multiplication sample 419\n"
       ]
      },
      {
       "output_type": "stream",
       "stream": "stdout",
       "text": [
        "Aggregating results for sample 419\n",
        "Performing execute_matrix_multiplication sample 420\n"
       ]
      },
      {
       "output_type": "stream",
       "stream": "stdout",
       "text": [
        "Aggregating results for sample 420\n",
        "Performing execute_matrix_multiplication sample 421\n"
       ]
      },
      {
       "output_type": "stream",
       "stream": "stdout",
       "text": [
        "Aggregating results for sample 421\n",
        "Performing execute_matrix_multiplication sample 422\n"
       ]
      },
      {
       "output_type": "stream",
       "stream": "stdout",
       "text": [
        "Aggregating results for sample 422\n",
        "Performing execute_matrix_multiplication sample 423\n"
       ]
      },
      {
       "output_type": "stream",
       "stream": "stdout",
       "text": [
        "Aggregating results for sample 423\n",
        "Performing execute_matrix_multiplication sample 424\n"
       ]
      },
      {
       "output_type": "stream",
       "stream": "stdout",
       "text": [
        "Aggregating results for sample 424\n",
        "Performing execute_matrix_multiplication sample 425\n"
       ]
      },
      {
       "output_type": "stream",
       "stream": "stdout",
       "text": [
        "Aggregating results for sample 425\n",
        "Performing execute_matrix_multiplication sample 426\n"
       ]
      },
      {
       "output_type": "stream",
       "stream": "stdout",
       "text": [
        "Aggregating results for sample 426\n",
        "Performing execute_matrix_multiplication sample 427\n"
       ]
      },
      {
       "output_type": "stream",
       "stream": "stdout",
       "text": [
        "Aggregating results for sample 427\n",
        "Performing execute_matrix_multiplication sample 428\n"
       ]
      },
      {
       "output_type": "stream",
       "stream": "stdout",
       "text": [
        "Aggregating results for sample 428\n",
        "Performing execute_matrix_multiplication sample 429\n"
       ]
      },
      {
       "output_type": "stream",
       "stream": "stdout",
       "text": [
        "Aggregating results for sample 429\n",
        "Performing execute_matrix_multiplication sample 430\n"
       ]
      },
      {
       "output_type": "stream",
       "stream": "stdout",
       "text": [
        "Aggregating results for sample 430\n",
        "Performing execute_matrix_multiplication sample 431\n"
       ]
      },
      {
       "output_type": "stream",
       "stream": "stdout",
       "text": [
        "Aggregating results for sample 431\n",
        "Performing execute_matrix_multiplication sample 432\n"
       ]
      },
      {
       "output_type": "stream",
       "stream": "stdout",
       "text": [
        "Aggregating results for sample 432\n",
        "Performing execute_matrix_multiplication sample 433\n"
       ]
      },
      {
       "output_type": "stream",
       "stream": "stdout",
       "text": [
        "Aggregating results for sample 433\n",
        "Performing execute_matrix_multiplication sample 434\n"
       ]
      },
      {
       "output_type": "stream",
       "stream": "stdout",
       "text": [
        "Aggregating results for sample 434\n",
        "Performing execute_matrix_multiplication sample 435\n"
       ]
      },
      {
       "output_type": "stream",
       "stream": "stdout",
       "text": [
        "Aggregating results for sample 435\n",
        "Performing execute_matrix_multiplication sample 436\n"
       ]
      },
      {
       "output_type": "stream",
       "stream": "stdout",
       "text": [
        "Aggregating results for sample 436\n",
        "Performing execute_matrix_multiplication sample 437\n"
       ]
      },
      {
       "output_type": "stream",
       "stream": "stdout",
       "text": [
        "Aggregating results for sample 437\n",
        "Performing execute_matrix_multiplication sample 438\n"
       ]
      },
      {
       "output_type": "stream",
       "stream": "stdout",
       "text": [
        "Aggregating results for sample 438\n",
        "Performing execute_matrix_multiplication sample 439\n"
       ]
      },
      {
       "output_type": "stream",
       "stream": "stdout",
       "text": [
        "Aggregating results for sample 439\n",
        "Performing execute_matrix_multiplication sample 440\n"
       ]
      },
      {
       "output_type": "stream",
       "stream": "stdout",
       "text": [
        "Aggregating results for sample 440\n",
        "Performing execute_matrix_multiplication sample 441\n"
       ]
      },
      {
       "output_type": "stream",
       "stream": "stdout",
       "text": [
        "Aggregating results for sample 441\n",
        "Performing execute_matrix_multiplication sample 442\n"
       ]
      },
      {
       "output_type": "stream",
       "stream": "stdout",
       "text": [
        "Aggregating results for sample 442\n",
        "Performing execute_matrix_multiplication sample 443\n"
       ]
      },
      {
       "output_type": "stream",
       "stream": "stdout",
       "text": [
        "Aggregating results for sample 443\n",
        "Performing execute_matrix_multiplication sample 444\n"
       ]
      },
      {
       "output_type": "stream",
       "stream": "stdout",
       "text": [
        "Aggregating results for sample 444\n",
        "Performing execute_matrix_multiplication sample 445\n"
       ]
      },
      {
       "output_type": "stream",
       "stream": "stdout",
       "text": [
        "Aggregating results for sample 445\n",
        "Performing execute_matrix_multiplication sample 446\n"
       ]
      },
      {
       "output_type": "stream",
       "stream": "stdout",
       "text": [
        "Aggregating results for sample 446\n",
        "Performing execute_matrix_multiplication sample 447\n"
       ]
      },
      {
       "output_type": "stream",
       "stream": "stdout",
       "text": [
        "Aggregating results for sample 447\n",
        "Performing execute_matrix_multiplication sample 448\n"
       ]
      },
      {
       "output_type": "stream",
       "stream": "stdout",
       "text": [
        "Aggregating results for sample 448\n",
        "Performing execute_matrix_multiplication sample 449\n"
       ]
      },
      {
       "output_type": "stream",
       "stream": "stdout",
       "text": [
        "Aggregating results for sample 449\n",
        "Performing execute_matrix_multiplication sample 450\n"
       ]
      },
      {
       "output_type": "stream",
       "stream": "stdout",
       "text": [
        "Aggregating results for sample 450\n",
        "Performing execute_matrix_multiplication sample 451\n"
       ]
      },
      {
       "output_type": "stream",
       "stream": "stdout",
       "text": [
        "Aggregating results for sample 451\n",
        "Performing execute_matrix_multiplication sample 452\n"
       ]
      },
      {
       "output_type": "stream",
       "stream": "stdout",
       "text": [
        "Aggregating results for sample 452\n",
        "Performing execute_matrix_multiplication sample 453\n"
       ]
      },
      {
       "output_type": "stream",
       "stream": "stdout",
       "text": [
        "Aggregating results for sample 453\n",
        "Performing execute_matrix_multiplication sample 454\n"
       ]
      },
      {
       "output_type": "stream",
       "stream": "stdout",
       "text": [
        "Aggregating results for sample 454\n",
        "Performing execute_matrix_multiplication sample 455\n"
       ]
      },
      {
       "output_type": "stream",
       "stream": "stdout",
       "text": [
        "Aggregating results for sample 455\n",
        "Performing execute_matrix_multiplication sample 456\n"
       ]
      },
      {
       "output_type": "stream",
       "stream": "stdout",
       "text": [
        "Aggregating results for sample 456\n",
        "Performing execute_matrix_multiplication sample 457\n"
       ]
      },
      {
       "output_type": "stream",
       "stream": "stdout",
       "text": [
        "Aggregating results for sample 457\n",
        "Performing execute_matrix_multiplication sample 458\n"
       ]
      },
      {
       "output_type": "stream",
       "stream": "stdout",
       "text": [
        "Aggregating results for sample 458\n",
        "Performing execute_matrix_multiplication sample 459\n"
       ]
      },
      {
       "output_type": "stream",
       "stream": "stdout",
       "text": [
        "Aggregating results for sample 459\n",
        "Performing execute_matrix_multiplication sample 460\n"
       ]
      },
      {
       "output_type": "stream",
       "stream": "stdout",
       "text": [
        "Aggregating results for sample 460\n",
        "Performing execute_matrix_multiplication sample 461\n"
       ]
      },
      {
       "output_type": "stream",
       "stream": "stdout",
       "text": [
        "Aggregating results for sample 461\n",
        "Performing execute_matrix_multiplication sample 462\n"
       ]
      },
      {
       "output_type": "stream",
       "stream": "stdout",
       "text": [
        "Aggregating results for sample 462\n",
        "Performing execute_matrix_multiplication sample 463\n"
       ]
      },
      {
       "output_type": "stream",
       "stream": "stdout",
       "text": [
        "Aggregating results for sample 463\n",
        "Performing execute_matrix_multiplication sample 464\n"
       ]
      },
      {
       "output_type": "stream",
       "stream": "stdout",
       "text": [
        "Aggregating results for sample 464\n",
        "Performing execute_matrix_multiplication sample 465\n"
       ]
      },
      {
       "output_type": "stream",
       "stream": "stdout",
       "text": [
        "Aggregating results for sample 465\n",
        "Performing execute_matrix_multiplication sample 466\n"
       ]
      },
      {
       "output_type": "stream",
       "stream": "stdout",
       "text": [
        "Aggregating results for sample 466\n",
        "Performing execute_matrix_multiplication sample 467\n"
       ]
      },
      {
       "output_type": "stream",
       "stream": "stdout",
       "text": [
        "Aggregating results for sample 467\n",
        "Performing execute_matrix_multiplication sample 468\n"
       ]
      },
      {
       "output_type": "stream",
       "stream": "stdout",
       "text": [
        "Aggregating results for sample 468\n",
        "Performing execute_matrix_multiplication sample 469\n"
       ]
      },
      {
       "output_type": "stream",
       "stream": "stdout",
       "text": [
        "Aggregating results for sample 469\n",
        "Performing execute_matrix_multiplication sample 470\n"
       ]
      },
      {
       "output_type": "stream",
       "stream": "stdout",
       "text": [
        "Aggregating results for sample 470\n",
        "Performing execute_matrix_multiplication sample 471\n"
       ]
      },
      {
       "output_type": "stream",
       "stream": "stdout",
       "text": [
        "Aggregating results for sample 471\n",
        "Performing execute_matrix_multiplication sample 472\n"
       ]
      },
      {
       "output_type": "stream",
       "stream": "stdout",
       "text": [
        "Aggregating results for sample 472\n",
        "Performing execute_matrix_multiplication sample 473\n"
       ]
      },
      {
       "output_type": "stream",
       "stream": "stdout",
       "text": [
        "Aggregating results for sample 473\n",
        "Performing execute_matrix_multiplication sample 474\n"
       ]
      },
      {
       "output_type": "stream",
       "stream": "stdout",
       "text": [
        "Aggregating results for sample 474\n",
        "Performing execute_matrix_multiplication sample 475\n"
       ]
      },
      {
       "output_type": "stream",
       "stream": "stdout",
       "text": [
        "Aggregating results for sample 475\n",
        "Performing execute_matrix_multiplication sample 476\n"
       ]
      },
      {
       "output_type": "stream",
       "stream": "stdout",
       "text": [
        "Aggregating results for sample 476\n",
        "Performing execute_matrix_multiplication sample 477\n"
       ]
      },
      {
       "output_type": "stream",
       "stream": "stdout",
       "text": [
        "Aggregating results for sample 477\n",
        "Performing execute_matrix_multiplication sample 478\n"
       ]
      },
      {
       "output_type": "stream",
       "stream": "stdout",
       "text": [
        "Aggregating results for sample 478\n",
        "Performing execute_matrix_multiplication sample 479\n"
       ]
      },
      {
       "output_type": "stream",
       "stream": "stdout",
       "text": [
        "Aggregating results for sample 479\n",
        "Performing execute_matrix_multiplication sample 480\n"
       ]
      },
      {
       "output_type": "stream",
       "stream": "stdout",
       "text": [
        "Aggregating results for sample 480\n",
        "Performing execute_matrix_multiplication sample 481\n"
       ]
      },
      {
       "output_type": "stream",
       "stream": "stdout",
       "text": [
        "Aggregating results for sample 481\n",
        "Performing execute_matrix_multiplication sample 482\n"
       ]
      },
      {
       "output_type": "stream",
       "stream": "stdout",
       "text": [
        "Aggregating results for sample 482\n",
        "Performing execute_matrix_multiplication sample 483\n"
       ]
      },
      {
       "output_type": "stream",
       "stream": "stdout",
       "text": [
        "Aggregating results for sample 483\n",
        "Performing execute_matrix_multiplication sample 484\n"
       ]
      },
      {
       "output_type": "stream",
       "stream": "stdout",
       "text": [
        "Aggregating results for sample 484\n",
        "Performing execute_matrix_multiplication sample 485\n"
       ]
      },
      {
       "output_type": "stream",
       "stream": "stdout",
       "text": [
        "Aggregating results for sample 485\n",
        "Performing execute_matrix_multiplication sample 486\n"
       ]
      },
      {
       "output_type": "stream",
       "stream": "stdout",
       "text": [
        "Aggregating results for sample 486\n",
        "Performing execute_matrix_multiplication sample 487\n"
       ]
      },
      {
       "output_type": "stream",
       "stream": "stdout",
       "text": [
        "Aggregating results for sample 487\n",
        "Performing execute_matrix_multiplication sample 488\n"
       ]
      },
      {
       "output_type": "stream",
       "stream": "stdout",
       "text": [
        "Aggregating results for sample 488\n",
        "Performing execute_matrix_multiplication sample 489\n"
       ]
      },
      {
       "output_type": "stream",
       "stream": "stdout",
       "text": [
        "Aggregating results for sample 489\n",
        "Performing execute_matrix_multiplication sample 490\n"
       ]
      },
      {
       "output_type": "stream",
       "stream": "stdout",
       "text": [
        "Aggregating results for sample 490\n",
        "Performing execute_matrix_multiplication sample 491\n"
       ]
      },
      {
       "output_type": "stream",
       "stream": "stdout",
       "text": [
        "Aggregating results for sample 491\n",
        "Performing execute_matrix_multiplication sample 492\n"
       ]
      },
      {
       "output_type": "stream",
       "stream": "stdout",
       "text": [
        "Aggregating results for sample 492\n",
        "Performing execute_matrix_multiplication sample 493\n"
       ]
      },
      {
       "output_type": "stream",
       "stream": "stdout",
       "text": [
        "Aggregating results for sample 493\n",
        "Performing execute_matrix_multiplication sample 494\n"
       ]
      },
      {
       "output_type": "stream",
       "stream": "stdout",
       "text": [
        "Aggregating results for sample 494\n",
        "Performing execute_matrix_multiplication sample 495\n"
       ]
      },
      {
       "output_type": "stream",
       "stream": "stdout",
       "text": [
        "Aggregating results for sample 495\n",
        "Performing execute_matrix_multiplication sample 496\n"
       ]
      },
      {
       "output_type": "stream",
       "stream": "stdout",
       "text": [
        "Aggregating results for sample 496\n",
        "Performing execute_matrix_multiplication sample 497\n"
       ]
      },
      {
       "output_type": "stream",
       "stream": "stdout",
       "text": [
        "Aggregating results for sample 497\n",
        "Performing execute_matrix_multiplication sample 498\n"
       ]
      },
      {
       "output_type": "stream",
       "stream": "stdout",
       "text": [
        "Aggregating results for sample 498\n",
        "Performing execute_matrix_multiplication sample 499\n"
       ]
      },
      {
       "output_type": "stream",
       "stream": "stdout",
       "text": [
        "Aggregating results for sample 499\n",
        "Performing execute_matrix_multiplication sample 500\n"
       ]
      },
      {
       "output_type": "stream",
       "stream": "stdout",
       "text": [
        "Aggregating results for sample 500\n"
       ]
      },
      {
       "metadata": {},
       "output_type": "display_data",
       "png": "[encoded data removed]",
       "text": [
        "<matplotlib.figure.Figure at 0x7f7a7b27fe90>"
       ]
      }
     ],
     "prompt_number": 17
    },
    {
     "cell_type": "markdown",
     "metadata": {},
     "source": [
      "**BONUS** Now repeat the past two problems but instead of computing the matrix product, compute a matrix's [determinant](http://en.wikipedia.org/wiki/Determinant).  Measure performance for matricies of various sizes and discuss the results.  Determinant may get impractical to calculate for not too huge of matricies, so no need to goto 1000x1000 matricies."
     ]
    },
    {
     "cell_type": "markdown",
     "metadata": {},
     "source": [
      "###IO Exercises\n",
      "\n",
      "Below is a map of various datatypes in python that you have come across and their corresponding JSON equivalents.\n",
      "\n",
      "$$Datatypes=\\left[ \\begin{array}{cc} JSON & Python3 \\\\ object & dictionary \\\\ array & list \\\\ string & string \\\\ integer\t& integer \\\\ real number & float \\\\ true & True \\\\ false & False \\\\ null & None  \\end{array} \\right]$$\n",
      "\n",
      "\n",
      "There are atleast two very important python datatypes missing in the above list. \n",
      "Can you find the same?  [list the two mising python datatypes in this markdown cell below]\n",
      "\n",
      "1. set\n",
      "2. tuple\n",
      "\n",
      "Now We can save the above map as a dictionary with Key-value pairs \n",
      "1. create a python dictionary named dataypes, having the above map as the Key-value pairs with Python datatypes as values and JSON equivalents as keys.\n",
      "2. Save it as a pickle called datatypes and gzip the same.\n",
      "3. Reload this pickle, and read the file contents and output the data in the following formatted way as given in this example - \"The JSON equivalent for the Python datatype Dictionary is Object\". Output similarly for the rest of the key-value pairs.\n",
      "4. Save this data as a JSON but using Python datatypes as keys and JSON equivalent as values this time. "
     ]
    },
    {
     "cell_type": "code",
     "collapsed": false,
     "input": [
      "#1\n",
      "datatypes= dict([ \n",
      "    (\"object\", \"dictionary\"), \n",
      "    (\"array\", \"list\"), \n",
      "    (\"string\", \"string\"), \n",
      "    (\"integer\", \"integer\"),\n",
      "    (\"realnumber\", \"float\"),\n",
      "    (\"true\", \"True\"),\n",
      "    (\"false\", \"False\"),\n",
      "    (\"null\", \"None\")\n",
      "])\n",
      "print datatypes"
     ],
     "language": "python",
     "metadata": {},
     "outputs": [
      {
       "output_type": "stream",
       "stream": "stdout",
       "text": [
        "{'false': 'False', 'string': 'string', 'object': 'dictionary', 'integer': 'integer', 'array': 'list', 'null': 'None', 'true': 'True', 'realnumber': 'float'}\n"
       ]
      }
     ],
     "prompt_number": 16
    },
    {
     "cell_type": "code",
     "collapsed": false,
     "input": [
      "#2\n",
      "import pickle\n",
      "import gzip\n",
      "\n",
      "pickle.dump(datatypes,gzip.open('pickle.pkl','wb'))\n",
      "!ls -ltr"
     ],
     "language": "python",
     "metadata": {},
     "outputs": [
      {
       "output_type": "stream",
       "stream": "stdout",
       "text": [
        "total 36\r\n",
        "-rw-rw-r-- 1 dyerke dyerke  156 Oct 25 21:50 json.json\r\n",
        "-rw-r--r-- 1 dyerke dyerke 3072 Oct 25 22:54 Datatype\r\n",
        "-rw-rw-r-- 1 dyerke dyerke  168 Oct 26 09:46 pickle.pkl\r\n"
       ]
      }
     ],
     "prompt_number": 17
    },
    {
     "cell_type": "code",
     "collapsed": false,
     "input": [
      "#3\n",
      "r_datatypes=pickle.load(gzip.open('pickle.pkl','rb'))\n",
      "\n",
      "for k, v in r_datatypes.iteritems():\n",
      "    print \"The JSON equivalent for the Python datatype {} is {}\".format(v, k)"
     ],
     "language": "python",
     "metadata": {},
     "outputs": [
      {
       "output_type": "stream",
       "stream": "stdout",
       "text": [
        "The JSON equivalent for the Python datatype False is false\n",
        "The JSON equivalent for the Python datatype string is string\n",
        "The JSON equivalent for the Python datatype dictionary is object\n",
        "The JSON equivalent for the Python datatype integer is integer\n",
        "The JSON equivalent for the Python datatype list is array\n",
        "The JSON equivalent for the Python datatype None is null\n",
        "The JSON equivalent for the Python datatype True is true\n",
        "The JSON equivalent for the Python datatype float is realnumber\n"
       ]
      }
     ],
     "prompt_number": 18
    },
    {
     "cell_type": "code",
     "collapsed": false,
     "input": [
      "#4\n",
      "import json\n",
      "\n",
      "r_datatypes=pickle.load(gzip.open('pickle.pkl','rb'))\n",
      "\n",
      "json_datatypes= {}\n",
      "for k, v in r_datatypes.iteritems():\n",
      "    json_datatypes[v]= k\n",
      "\n",
      "print json_datatypes\n",
      "json.dump(json_datatypes,open('json.json','wb'))\n",
      "\n",
      "!ls -ltr\n",
      "!cat json.json"
     ],
     "language": "python",
     "metadata": {},
     "outputs": [
      {
       "output_type": "stream",
       "stream": "stdout",
       "text": [
        "{'None': 'null', 'False': 'false', 'string': 'string', 'dictionary': 'object', 'float': 'realnumber', 'list': 'array', 'integer': 'integer', 'True': 'true'}\n",
        "total 36\r\n",
        "-rw-r--r-- 1 dyerke dyerke 3072 Oct 25 22:54 Datatype\r\n",
        "-rw-rw-r-- 1 dyerke dyerke  168 Oct 26 09:46 pickle.pkl\r\n",
        "-rw-rw-r-- 1 dyerke dyerke  156 Oct 26 09:46 json.json\r\n"
       ]
      },
      {
       "output_type": "stream",
       "stream": "stdout",
       "text": [
        "{\"None\": \"null\", \"False\": \"false\", \"string\": \"string\", \"dictionary\": \"object\", \"float\": \"realnumber\", \"list\": \"array\", \"integer\": \"integer\", \"True\": \"true\"}"
       ]
      }
     ],
     "prompt_number": 19
    },
    {
     "cell_type": "markdown",
     "metadata": {},
     "source": [
      "###SQL Exercises\n",
      "1. Create a database \"Datatype\", having a table \"datatypes\"\n",
      "2. Save the above datatype pickle in the table datatypes\n",
      "3. Create another table named \"missing_datatypes\"\n",
      "4. Add the 2 missing datatypes that you just wrote in the above markdown cell in the new sql table\n",
      "5. Write a SQL query to merge table mising_datatypes into table datatypes\n",
      "6. Write a SQL query to sort the merged table based on the values in python column and output the sorted table\n"
     ]
    },
    {
     "cell_type": "code",
     "collapsed": false,
     "input": [
      "import sqlite3"
     ],
     "language": "python",
     "metadata": {},
     "outputs": [],
     "prompt_number": 20
    },
    {
     "cell_type": "code",
     "collapsed": false,
     "input": [
      "!ls -ltr"
     ],
     "language": "python",
     "metadata": {},
     "outputs": [
      {
       "output_type": "stream",
       "stream": "stdout",
       "text": [
        "total 36\r\n",
        "-rw-r--r-- 1 dyerke dyerke 3072 Oct 25 22:54 Datatype\r\n",
        "-rw-rw-r-- 1 dyerke dyerke  168 Oct 26 09:46 pickle.pkl\r\n",
        "-rw-rw-r-- 1 dyerke dyerke  156 Oct 26 09:46 json.json\r\n"
       ]
      }
     ],
     "prompt_number": 21
    },
    {
     "cell_type": "code",
     "collapsed": false,
     "input": [
      "#1\n",
      "conn= None\n",
      "try:\n",
      "    conn= sqlite3.connect(\"Datatype\")\n",
      "    c= conn.cursor()\n",
      "    # drop and create table\n",
      "    c.execute(\"drop table if exists datatypes\")\n",
      "    c.execute(\"create table datatypes (jsondatatype text, pythondatatype text)\")\n",
      "    #\n",
      "    conn.commit()\n",
      "finally:\n",
      "    if conn is not None:\n",
      "        conn.close()"
     ],
     "language": "python",
     "metadata": {},
     "outputs": [],
     "prompt_number": 22
    },
    {
     "cell_type": "code",
     "collapsed": false,
     "input": [
      "#2\n",
      "conn= None\n",
      "try:\n",
      "    conn= sqlite3.connect(\"Datatype\")\n",
      "    c= conn.cursor()\n",
      "    # ensure clean table\n",
      "    c.execute(\"delete from datatypes\")\n",
      "    conn.commit()\n",
      "    # insert json and python datatypes in table\n",
      "    r_datatypes=pickle.load(gzip.open('pickle.pkl','rb'))\n",
      "    m_insert_parameters= []\n",
      "    for k, v in r_datatypes.iteritems():\n",
      "        m_insert_parameters.append((k,v))\n",
      "    c.executemany(\"insert into datatypes values (?,?)\", m_insert_parameters)\n",
      "    #\n",
      "    conn.commit()\n",
      "finally:\n",
      "    if conn is not None:\n",
      "        conn.close()\n",
      "\n",
      "# verify data exists exists\n",
      "conn= None\n",
      "try:\n",
      "    conn= sqlite3.connect(\"Datatype\")\n",
      "    c= conn.cursor()\n",
      "    # insert json and python datatypes in table\n",
      "    for row in c.execute(\"select * from datatypes\"):\n",
      "        print type(row), row\n",
      "    #\n",
      "    conn.commit()\n",
      "finally:\n",
      "    if conn is not None:\n",
      "        conn.close()"
     ],
     "language": "python",
     "metadata": {},
     "outputs": [
      {
       "output_type": "stream",
       "stream": "stdout",
       "text": [
        "<type 'tuple'> (u'false', u'False')\n",
        "<type 'tuple'> (u'string', u'string')\n",
        "<type 'tuple'> (u'object', u'dictionary')\n",
        "<type 'tuple'> (u'integer', u'integer')\n",
        "<type 'tuple'> (u'array', u'list')\n",
        "<type 'tuple'> (u'null', u'None')\n",
        "<type 'tuple'> (u'true', u'True')\n",
        "<type 'tuple'> (u'realnumber', u'float')\n"
       ]
      }
     ],
     "prompt_number": 23
    },
    {
     "cell_type": "code",
     "collapsed": false,
     "input": [
      "#3\n",
      "conn= None\n",
      "try:\n",
      "    conn= sqlite3.connect(\"Datatype\")\n",
      "    c= conn.cursor()\n",
      "    # drop and create table\n",
      "    c.execute(\"drop table if exists missing_datatypes\")\n",
      "    c.execute(\"create table missing_datatypes (jsondatatype text, pythondatatype text)\")\n",
      "    #\n",
      "    conn.commit()\n",
      "finally:\n",
      "    if conn is not None:\n",
      "        conn.close()"
     ],
     "language": "python",
     "metadata": {},
     "outputs": [],
     "prompt_number": 24
    },
    {
     "cell_type": "code",
     "collapsed": false,
     "input": [
      "#4\n",
      "m_missing_python_datatypes= [(\"set\",), (\"tuple\",)]\n",
      "\n",
      "conn= None\n",
      "try:\n",
      "    conn= sqlite3.connect(\"Datatype\")\n",
      "    c= conn.cursor()\n",
      "    # ensure clean table\n",
      "    c.execute(\"delete from missing_datatypes\")\n",
      "    conn.commit()\n",
      "    # insert python datatypes in table\n",
      "    c.executemany(\"insert into missing_datatypes (pythondatatype) values (?)\", m_missing_python_datatypes)\n",
      "    #\n",
      "    conn.commit()\n",
      "finally:\n",
      "    if conn is not None:\n",
      "        conn.close()\n",
      "\n",
      "# verify data exists exists\n",
      "conn= None\n",
      "try:\n",
      "    conn= sqlite3.connect(\"Datatype\")\n",
      "    c= conn.cursor()\n",
      "    # insert json and python datatypes in table\n",
      "    for row in c.execute(\"select * from missing_datatypes\"):\n",
      "        print type(row), row\n",
      "    #\n",
      "    conn.commit()\n",
      "finally:\n",
      "    if conn is not None:\n",
      "        conn.close()"
     ],
     "language": "python",
     "metadata": {},
     "outputs": [
      {
       "output_type": "stream",
       "stream": "stdout",
       "text": [
        "<type 'tuple'> (None, u'set')\n",
        "<type 'tuple'> (None, u'tuple')\n"
       ]
      }
     ],
     "prompt_number": 25
    },
    {
     "cell_type": "code",
     "collapsed": false,
     "input": [
      "#5\n",
      "conn= None\n",
      "try:\n",
      "    conn= sqlite3.connect(\"Datatype\")\n",
      "    c= conn.cursor()\n",
      "    # insert json and python datatypes in table\n",
      "    c.execute(\"\"\" \n",
      "        insert into datatypes (jsondatatype, pythondatatype)\n",
      "        select jsondatatype, pythondatatype\n",
      "        from missing_datatypes\n",
      "        where pythondatatype not in (\n",
      "            select pythondatatype\n",
      "            from datatypes\n",
      "        )\n",
      "    \"\"\")\n",
      "    #\n",
      "    conn.commit()\n",
      "finally:\n",
      "    if conn is not None:\n",
      "        conn.close()\n",
      "\n",
      "# verify merge occurred\n",
      "conn= None\n",
      "try:\n",
      "    conn= sqlite3.connect(\"Datatype\")\n",
      "    c= conn.cursor()\n",
      "    # insert json and python datatypes in table\n",
      "    for row in c.execute(\"select * from datatypes\"):\n",
      "        print type(row), row\n",
      "    #\n",
      "    conn.commit()\n",
      "finally:\n",
      "    if conn is not None:\n",
      "        conn.close()"
     ],
     "language": "python",
     "metadata": {},
     "outputs": [
      {
       "output_type": "stream",
       "stream": "stdout",
       "text": [
        "<type 'tuple'> (u'false', u'False')\n",
        "<type 'tuple'> (u'string', u'string')\n",
        "<type 'tuple'> (u'object', u'dictionary')\n",
        "<type 'tuple'> (u'integer', u'integer')\n",
        "<type 'tuple'> (u'array', u'list')\n",
        "<type 'tuple'> (u'null', u'None')\n",
        "<type 'tuple'> (u'true', u'True')\n",
        "<type 'tuple'> (u'realnumber', u'float')\n",
        "<type 'tuple'> (None, u'set')\n",
        "<type 'tuple'> (None, u'tuple')\n"
       ]
      }
     ],
     "prompt_number": 65
    },
    {
     "cell_type": "code",
     "collapsed": false,
     "input": [
      "#6\n",
      "# verify merge occurred\n",
      "conn= None\n",
      "try:\n",
      "    conn= sqlite3.connect(\"Datatype\")\n",
      "    c= conn.cursor()\n",
      "    # insert json and python datatypes in table\n",
      "    for row in c.execute(\"select * from datatypes order by pythondatatype\"):\n",
      "        print type(row), row\n",
      "    #\n",
      "    conn.commit()\n",
      "finally:\n",
      "    if conn is not None:\n",
      "        conn.close()"
     ],
     "language": "python",
     "metadata": {},
     "outputs": [
      {
       "output_type": "stream",
       "stream": "stdout",
       "text": [
        "<type 'tuple'> (u'false', u'False')\n",
        "<type 'tuple'> (u'null', u'None')\n",
        "<type 'tuple'> (u'true', u'True')\n",
        "<type 'tuple'> (u'object', u'dictionary')\n",
        "<type 'tuple'> (u'realnumber', u'float')\n",
        "<type 'tuple'> (u'integer', u'integer')\n",
        "<type 'tuple'> (u'array', u'list')\n",
        "<type 'tuple'> (u'string', u'string')\n"
       ]
      }
     ],
     "prompt_number": 26
    },
    {
     "cell_type": "markdown",
     "metadata": {},
     "source": [
      "##Regular Expression\n",
      "We have a file regex_test which has number of lines, each line containing one data element of various kinds (dates, numbers, phone numbers, etc).  Your task is to construct a python array containing all instances of each of the specified data types via python regular expressions.\n",
      "\n",
      "Here are the data types:\n",
      "\n",
      "1. Dates of one of these formats: mm/dd/yyyy, yyyymmdd, yyyy-mm-dd\n",
      "2. US phone numbers: 10 digits, area code can be surounded by () or seperated by one dash and some spaces, prefix/line number can be seperated by one dash and some spaces.  Example valid numbers are 123-456-7890, (123)   456 -7890, 1234567890, 123- 4567890, etc\n",
      "3. Raw decimal numbers (IE somthing that \"float(x)\" would not crash on). \n",
      "4. US Dollar amounts (\\$ddd.cc)\n",
      "5. Basic email addresses.  Should conform to http://en.wikipedia.org/wiki/Email_address but with only aphanumeric usernames/domains, only com, co.uk, edu, and ru tlds are used\n",
      "\n",
      "Please create a list of the valid elements for each of these types and report the number of valid elements of each type in a markdown field."
     ]
    },
    {
     "cell_type": "code",
     "collapsed": false,
     "input": [
      "import re"
     ],
     "language": "python",
     "metadata": {},
     "outputs": [],
     "prompt_number": 29
    },
    {
     "cell_type": "code",
     "collapsed": false,
     "input": [
      "#1\n",
      "def date_match(s):\n",
      "    patterns = []\n",
      "    # mm/dd/yyyy\n",
      "    patterns.append(re.compile(r'(\\A([0][0-9])|\\A([1][0-2]))/[0-3][0-9]'))\n",
      "    #patterns.append(re.compile(r'\\A([0][0-9])/'))\n",
      "    #patterns.append(re.compile(r'[0-9]{2}\\/[0-9]{2}\\/[0-9]{4}'))\n",
      "    #patterns.append(re.compile(r'\\b[0-9]{8}\\b'))\n",
      "    for pattern in patterns:\n",
      "        print \"checking pattern: \", pattern.pattern\n",
      "        match= re.search(pattern, s)\n",
      "        if match:\n",
      "            result= match.group()\n",
      "            print \"match found: \", result\n",
      "            return True\n",
      "        else:\n",
      "            print 'no match.'\n",
      "    return False\n",
      "\n",
      "Text = \"\"\"\n",
      "    15\n",
      "    27\n",
      "    12\n",
      "    09\n",
      "    89\n",
      "    97\n",
      "    09/07/2014\n",
      "    20140914\n",
      "    2014-09-07\n",
      "    10/07/2014\n",
      "    12/07/2014\n",
      "    12/37/2014\n",
      "    13/07/2014\n",
      "    HelloWorld\n",
      "    89/45/2014\n",
      "    1234567890\n",
      "    aword\n",
      "    \"\"\"\n",
      "for c in \"\\t \":\n",
      "    Text = Text.replace(c, \"\")\n",
      "s_arr = Text.split(\"\\n\");\n",
      "for s in s_arr:\n",
      "    if len(s) == 0:\n",
      "        continue;\n",
      "    print \"\\nprocessing\", s\n",
      "    date_match(s)"
     ],
     "language": "python",
     "metadata": {},
     "outputs": [
      {
       "output_type": "stream",
       "stream": "stdout",
       "text": [
        "\n",
        "processing 15\n",
        "checking pattern:  (\\A([0][0-9])|\\A([1][0-2]))/[0-3][0-9]\n",
        "no match.\n",
        "\n",
        "processing 27\n",
        "checking pattern:  (\\A([0][0-9])|\\A([1][0-2]))/[0-3][0-9]\n",
        "no match.\n",
        "\n",
        "processing 12\n",
        "checking pattern:  (\\A([0][0-9])|\\A([1][0-2]))/[0-3][0-9]\n",
        "no match.\n",
        "\n",
        "processing 09\n",
        "checking pattern:  (\\A([0][0-9])|\\A([1][0-2]))/[0-3][0-9]\n",
        "no match.\n",
        "\n",
        "processing 89\n",
        "checking pattern:  (\\A([0][0-9])|\\A([1][0-2]))/[0-3][0-9]\n",
        "no match.\n",
        "\n",
        "processing 97\n",
        "checking pattern:  (\\A([0][0-9])|\\A([1][0-2]))/[0-3][0-9]\n",
        "no match.\n",
        "\n",
        "processing 09/07/2014\n",
        "checking pattern:  (\\A([0][0-9])|\\A([1][0-2]))/[0-3][0-9]\n",
        "match found:  09/07\n",
        "\n",
        "processing 20140914\n",
        "checking pattern:  (\\A([0][0-9])|\\A([1][0-2]))/[0-3][0-9]\n",
        "no match.\n",
        "\n",
        "processing 2014-09-07\n",
        "checking pattern:  (\\A([0][0-9])|\\A([1][0-2]))/[0-3][0-9]\n",
        "no match.\n",
        "\n",
        "processing 10/07/2014\n",
        "checking pattern:  (\\A([0][0-9])|\\A([1][0-2]))/[0-3][0-9]\n",
        "match found:  10/07\n",
        "\n",
        "processing 12/07/2014\n",
        "checking pattern:  (\\A([0][0-9])|\\A([1][0-2]))/[0-3][0-9]\n",
        "match found:  12/07\n",
        "\n",
        "processing 12/37/2014\n",
        "checking pattern:  (\\A([0][0-9])|\\A([1][0-2]))/[0-3][0-9]\n",
        "match found:  12/37\n",
        "\n",
        "processing 13/07/2014\n",
        "checking pattern:  (\\A([0][0-9])|\\A([1][0-2]))/[0-3][0-9]\n",
        "no match.\n",
        "\n",
        "processing HelloWorld\n",
        "checking pattern:  (\\A([0][0-9])|\\A([1][0-2]))/[0-3][0-9]\n",
        "no match.\n",
        "\n",
        "processing 89/45/2014\n",
        "checking pattern:  (\\A([0][0-9])|\\A([1][0-2]))/[0-3][0-9]\n",
        "no match.\n",
        "\n",
        "processing 1234567890\n",
        "checking pattern:  (\\A([0][0-9])|\\A([1][0-2]))/[0-3][0-9]\n",
        "no match.\n",
        "\n",
        "processing aword\n",
        "checking pattern:  (\\A([0][0-9])|\\A([1][0-2]))/[0-3][0-9]\n",
        "no match.\n"
       ]
      }
     ],
     "prompt_number": 55
    },
    {
     "cell_type": "markdown",
     "metadata": {},
     "source": [
      "##Pandas Data Analysis\n",
      "Pandas gives us a nice set of tools to work with columnar data (similar to R's dataframe). \n",
      "To learn how to use this it makes the most sense to use a real data set.\n",
      "For this assignment we'll use the KDD Cup 1998 dataset, which can be sourced from http://kdd.ics.uci.edu/databases/kddcup98/kddcup98.html .\n",
      "\n",
      "\n",
      "###Acquiring Data\n",
      "First we pull the README file from the dataset into this notebook via the unix \"curl\" command.  Remember you can hide/minimize output cells via the button on the left of the output."
     ]
    },
    {
     "cell_type": "code",
     "collapsed": false,
     "input": [
      "!curl http://kdd.ics.uci.edu/databases/kddcup98/epsilon_mirror/readme"
     ],
     "language": "python",
     "metadata": {},
     "outputs": [
      {
       "output_type": "stream",
       "stream": "stdout",
       "text": [
        "+--------------------------------------------------------------------+\r",
        "\r\n",
        "| NOTE TO ALL DOWN-LOADERS                                           |\r",
        "\r\n",
        "+--------------------------------------------------------------------+\r",
        "\r\n",
        "\r",
        "\r\n",
        "The KDD-CUP-98 data set and the accompanying documentation are now \r",
        "\r\n",
        "available for general use with the following restrictions: \r",
        "\r\n",
        "\r",
        "\r\n",
        "  (1) The users of the data must notify \r",
        "\r\n",
        "\r",
        "\r\n",
        "\tIsmail Parsa\t(iparsa@epsilon.com) and\r",
        "\r\n",
        "\tKen Howes\t(khowes@epsilon.com) \r",
        "\r\n",
        "\r",
        "\r\n",
        "  in the event they produce results, visuals or tables, etc. from the \r",
        "\r\n",
        "  data and send a note that includes a summary of the final result. \r",
        "\r\n",
        "\r",
        "\r\n",
        "  (2) The authors of published and/or unpublished articles that use \r",
        "\r\n",
        "  the KDD-Cup-98 data set must also notify the individuals listed \r",
        "\r\n",
        "  above and send a copy of their published and/or unpublished work. \r",
        "\r\n",
        "\r",
        "\r\n",
        "  (3) If you intend to use this data set for training or educational\r",
        "\r\n",
        "  purposes, you must not reveal the name of the sponsor PVA \r",
        "\r\n",
        "  (Paralyzed Veterans of America) to the trainees or students. You \r",
        "\r\n",
        "  are allowed to say \"a national veterans organization\"...\r",
        "\r\n",
        "\r",
        "\r\n",
        "\r",
        "\r\n",
        "For more information regarding the KDD-Cup (including the list of the \r",
        "\r\n",
        "participants and the results), please visit the KDD-Cup-98 web page at\r",
        "\r\n",
        "\r",
        "\r\n",
        "\thttp://www.epsilon.com/new\r",
        "\r\n",
        "\r",
        "\r\n",
        "While there, scroll down to Data Mining Presentations where you will \r",
        "\r\n",
        "find the KDD-Cup-98 web page. \r",
        "\r\n",
        "\r",
        "\r\n",
        "\r",
        "\r\n",
        "Ismail Parsa \r",
        "\r\n",
        "Epsilon \r",
        "\r\n",
        "50 Cambridge Street \r",
        "\r\n",
        "Burlington MA 01803 USA \r",
        "\r\n",
        "\r",
        "\r\n",
        "TEL: (781) 685-6734 \r",
        "\r\n",
        "FAX: (781) 685-0806 \r",
        "\r\n",
        "\r",
        "\r\n",
        "+--------------------------------------------------------------------+\r",
        "\r\n",
        "| LISTING of the FILES (README FILE)                                 |\r",
        "\r\n",
        "+--------------------------------------------------------------------+\r",
        "\r\n",
        "\r",
        "\r\n",
        "File Naming Conventions: \r",
        "\r\n",
        "\r",
        "\r\n",
        "o cup98               : KDD-CUP-98 \r",
        "\r\n",
        "o      QUE            : QUEstionnaire \r",
        "\r\n",
        "o      DOC            : DOCumentation\r",
        "\r\n",
        "o      DIC            : DICtionary\r",
        "\r\n",
        "o      LRN            : LeaRNing data set \r",
        "\r\n",
        "o      VAL            : VALidation data set \r",
        "\r\n",
        "o      VALtargt       : TARGeT fields for VALidation data set\r",
        "\r\n",
        "o              .txt   : plain ascii text files\r",
        "\r\n",
        "o              .zip   : PKZIP compressed files\r",
        "\r\n",
        "o              .txt.Z : UNIX COMPRESSED files\r",
        "\r\n",
        "\r",
        "\r\n",
        "FILE NAME       DESCRIPTION\r",
        "\r\n",
        "--------------- ------------------------------------------------------\r",
        "\r\n",
        "\r",
        "\r\n",
        "README          This list, listing the files in the FTP server and \r",
        "\r\n",
        "                their contents.\r",
        "\r\n",
        "\r",
        "\r\n",
        "cup98NDA.txt    The Non-Disclosure Agreement. MUST BE SIGNED BY ALL \r",
        "\r\n",
        "                PARTICIPANTS AND MAILED BACK TO ISMAIL PARSA \r",
        "\r\n",
        "                <iparsa@epsilon.com> BEFORE DOWNLOADING THE DATA SETS.\r",
        "\r\n",
        "\r",
        "\r\n"
       ]
      },
      {
       "output_type": "stream",
       "stream": "stdout",
       "text": [
        "cup98DOC.txt    This file, an overview and pointer to more detailed \r",
        "\r\n",
        "                information about the competition\r",
        "\r\n",
        "\r",
        "\r\n",
        "cup98DIC.txt    Data dictionary to accompany the analysis data set. \r",
        "\r\n",
        "\r",
        "\r\n",
        "cup98QUE.txt    KDD-CUP questionnaire. PARTICIPANTS ARE REQUIRED TO\r",
        "\r\n",
        "                FILL-OUT THE QUESTIONNAIRE and turned in\r",
        "\r\n",
        "                with the results. \r",
        "\r\n",
        "\r",
        "\r\n",
        "cup98LRN.zip    PKZIP compressed raw LEARNING data set. \r",
        "\r\n",
        "                Internal name: cup98LRN.txt \r",
        "\r\n",
        "                File size: 36,468,735 bytes zipped. 117,167,952 bytes \r",
        "\r\n",
        "                unzipped.\r",
        "\r\n",
        "                Number of Records: 95412.\r",
        "\r\n",
        "                Number of Fields: 481.\r",
        "\r\n",
        "\r",
        "\r\n",
        "cup98VAL.zip    PKZIP compressed raw VALIDATION data set. \r",
        "\r\n",
        "                Internal name: cup98VAL.txt \r",
        "\r\n",
        "                File size: 36,763,018 bytes zipped. 117,943,347 bytes \r",
        "\r\n",
        "                unzipped.\r",
        "\r\n",
        "                Number of Records: 96367.\r",
        "\r\n",
        "                Number of Fields: 479.\r",
        "\r\n",
        " \r",
        "\r\n",
        "cup98LRN.txt.Z  UNIX COMPRESSed raw LEARNING data set. \r",
        "\r\n",
        "                Internal name: cup98LRN.txt \r",
        "\r\n",
        "                File size: 36,579,127 bytes compressed. 117,167,952 \r",
        "\r\n",
        "                bytes uncompressed.\r",
        "\r\n",
        "                Number of Records: 95412.\r",
        "\r\n",
        "                Number of Fields: 481.\r",
        "\r\n",
        "\r",
        "\r\n",
        "cup98VAL.txt.Z  UNIX COMPRESSed raw VALIDATION data set. \r",
        "\r\n",
        "                Internal name: cup98VAL.txt \r",
        "\r\n",
        "                File size: 36,903,761 bytes compressed. 117,943,347 \r",
        "\r\n",
        "                bytes uncompressed.\r",
        "\r\n",
        "                Number of Records: 96367.\r",
        "\r\n",
        "                Number of Fields: 479.\r",
        "\r\n"
       ]
      }
     ],
     "prompt_number": 3
    },
    {
     "cell_type": "markdown",
     "metadata": {},
     "source": [
      "As you can see this README describes several files which may be of use.  In particular there are two more documentation files (DOC and DIC) we should read to get an idea of the data format.  Bring these files into the notebook."
     ]
    },
    {
     "cell_type": "code",
     "collapsed": false,
     "input": [
      "!rm -rf cup98*\n",
      "!wget http://kdd.ics.uci.edu/databases/kddcup98/epsilon_mirror/cup98doc.txt\n",
      "!wget http://kdd.ics.uci.edu/databases/kddcup98/epsilon_mirror/cup98dic.txt\n",
      "!ls -ltr"
     ],
     "language": "python",
     "metadata": {},
     "outputs": [
      {
       "output_type": "stream",
       "stream": "stdout",
       "text": [
        "--2014-10-26 13:19:29--  http://kdd.ics.uci.edu/databases/kddcup98/epsilon_mirror/cup98doc.txt\r\n",
        "Resolving kdd.ics.uci.edu (kdd.ics.uci.edu)... 128.195.1.87\r\n",
        "Connecting to kdd.ics.uci.edu (kdd.ics.uci.edu)|128.195.1.87|:80... connected.\r\n",
        "HTTP request sent, awaiting response... 200 OK\r\n",
        "Length: 62956 (61K) [text/plain]\r\n",
        "Saving to: \u2018cup98doc.txt\u2019\r\n",
        "\r\n",
        "\r",
        " 0% [                                       ] 0           --.-K/s              "
       ]
      },
      {
       "output_type": "stream",
       "stream": "stdout",
       "text": [
        "\r",
        "100%[======================================>] 62,956      --.-K/s   in 0.07s   \r\n",
        "\r\n",
        "2014-10-26 13:19:29 (915 KB/s) - \u2018cup98doc.txt\u2019 saved [62956/62956]\r\n",
        "\r\n"
       ]
      },
      {
       "output_type": "stream",
       "stream": "stdout",
       "text": [
        "--2014-10-26 13:19:29--  http://kdd.ics.uci.edu/databases/kddcup98/epsilon_mirror/cup98dic.txt\r\n",
        "Resolving kdd.ics.uci.edu (kdd.ics.uci.edu)... 128.195.1.87\r\n",
        "Connecting to kdd.ics.uci.edu (kdd.ics.uci.edu)|128.195.1.87|:80... connected.\r\n",
        "HTTP request sent, awaiting response... "
       ]
      },
      {
       "output_type": "stream",
       "stream": "stdout",
       "text": [
        "200 OK\r\n",
        "Length: 56987 (56K) [text/plain]\r\n",
        "Saving to: \u2018cup98dic.txt\u2019\r\n",
        "\r\n",
        "\r",
        " 0% [                                       ] 0           --.-K/s              "
       ]
      },
      {
       "output_type": "stream",
       "stream": "stdout",
       "text": [
        "\r",
        "100%[======================================>] 56,987      --.-K/s   in 0.08s   \r\n",
        "\r\n",
        "2014-10-26 13:19:29 (698 KB/s) - \u2018cup98dic.txt\u2019 saved [56987/56987]\r\n",
        "\r\n"
       ]
      },
      {
       "output_type": "stream",
       "stream": "stdout",
       "text": [
        "total 172\r\n",
        "-rw-rw-r-- 1 dyerke dyerke 56987 Feb  5  1999 cup98dic.txt\r\n",
        "-rw-rw-r-- 1 dyerke dyerke 62956 Feb  5  1999 cup98doc.txt\r\n",
        "-rw-rw-r-- 1 dyerke dyerke   168 Oct 26 13:10 pickle.pkl\r\n",
        "-rw-rw-r-- 1 dyerke dyerke   156 Oct 26 13:10 json.json\r\n",
        "-rw-r--r-- 1 dyerke dyerke  3072 Oct 26 13:10 Datatype\r\n"
       ]
      }
     ],
     "prompt_number": 3
    },
    {
     "cell_type": "markdown",
     "metadata": {},
     "source": [
      "Now we wish to download the cup98lrn.zip file and unzip it into a new subdirectory called \"data\".  \n",
      "However, since this file is pretty big we don't want to store it on github.  \n",
      "Luckily git provides the [.gitignore](http://git-scm.com/docs/gitignore) file which allows us to specify files we don't want to put into our git repository.\n",
      "\n",
      "Please do the following steps:\n",
      "\n",
      "1. Add the directory \"data\" to the .gitignore file\n",
      "2. Commit the new .gitignore file\n",
      "3. Create a new directory \"data\"\n",
      "4. Download http://kdd.ics.uci.edu/databases/kddcup98/epsilon_mirror/cup98lrn.zip into the data directory\n",
      "5. Unzip the cup98lrn.zip (we will only be using the unzipped version, so feel free to remove the zip file)\n",
      "6. Run \"git status\" to show that the data directory is not an untracked file (this indicates it is ignored)\n",
      "\n",
      "**NOTE:** These steps only need to be run once, it is advised you comment all the lines out by putting a # at the start of each line after they have run.  This will save you time in the future when you have to rerun all cells/don't want to spend a few minutes downloading the data file."
     ]
    },
    {
     "cell_type": "code",
     "collapsed": false,
     "input": [
      "#1\n",
      "#!echo \"lecture_2_github_io_numpy_pandas/data\" >> /home/dyerke/Documents/DSE/DSE200-notebooks/.gitignore\n",
      "\n",
      "#2\n",
      "# git add -A\n",
      "# git commit -a -m \"update .gitignore\"\n",
      "# git push origin master\n",
      "\n",
      "#3\n",
      "!mkdir -p /home/dyerke/Documents/DSE/DSE200-notebooks/lecture_2_github_io_numpy_pandas/data\n",
      "%cd /home/dyerke/Documents/DSE/DSE200-notebooks/lecture_2_github_io_numpy_pandas/data\n",
      "\n",
      "#4\n",
      "#!wget http://kdd.ics.uci.edu/databases/kddcup98/epsilon_mirror/cup98lrn.zip\n",
      "\n",
      "#5\n",
      "#!unzip cup98lrn.zip\n",
      "!ls -ltrh\n",
      "\n",
      "#6\n",
      "!git status"
     ],
     "language": "python",
     "metadata": {},
     "outputs": [
      {
       "output_type": "stream",
       "stream": "stdout",
       "text": [
        "/home/dyerke/Documents/DSE/DSE200-notebooks/lecture_2_github_io_numpy_pandas/data\n",
        "total 259M\r\n",
        "-rw-rw-r-- 1 dyerke dyerke  35M Feb  5  1999 cup98lrn.zip\r\n",
        "-rw-rw-r-- 1 dyerke dyerke 6.0K Oct 26 20:43 last5lines\r\n",
        "-rw-rw-r-- 1 dyerke dyerke 112M Oct 26 21:14 cup98LRN.txt.bak\r\n",
        "-rw-rw-r-- 1 dyerke dyerke 3.0K Oct 26 22:09 line1\r\n",
        "-rw-rw-r-- 1 dyerke dyerke 112M Oct 29 19:26 cup98LRN.txt\r\n"
       ]
      },
      {
       "output_type": "stream",
       "stream": "stdout",
       "text": [
        "On branch master\r\n",
        "Your branch is up-to-date with 'origin/master'.\r\n",
        "\r\n",
        "Changes not staged for commit:\r\n",
        "  (use \"git add <file>...\" to update what will be committed)\r\n",
        "  (use \"git checkout -- <file>...\" to discard changes in working directory)\r\n",
        "\r\n",
        "\t\u001b[31mmodified:   ../../HW_Pandas/04 - Lesson.ipynb\u001b[m\r\n",
        "\t\u001b[31mmodified:   ../10_exercises.ipynb\u001b[m\r\n",
        "\r\n",
        "Untracked files:\r\n",
        "  (use \"git add <file>...\" to include in what will be committed)\r\n",
        "\r\n",
        "\t\u001b[31m../.10_exercises2.ipynb.swp\u001b[m\r\n",
        "\t\u001b[31m../10_exercises2.ipynb\u001b[m\r\n",
        "\r\n",
        "no changes added to commit (use \"git add\" and/or \"git commit -a\")\r\n"
       ]
      }
     ],
     "prompt_number": 4
    },
    {
     "cell_type": "markdown",
     "metadata": {},
     "source": [
      "Now perform some basic sanity checks on the data.  Using a combination of unix/basic python answer the following questions:\n",
      "\n",
      "1. How many lines are there?  \n",
      "2. Is the file character seperated or fixed width format?\n",
      "3. Is there a header?  If so how many fields are in it?\n",
      "4. Do all rows have the same number of fields as the header?\n",
      "5. Does anyhting in 1-4 disagree with the readme file or indicate erroneous data?"
     ]
    },
    {
     "cell_type": "code",
     "collapsed": false,
     "input": [
      "#1\n",
      "line_count= !wc -l cup98LRN.txt | cut -d' ' -f 1\n",
      "line_count= int(line_count[0])\n",
      "print line_count"
     ],
     "language": "python",
     "metadata": {},
     "outputs": [
      {
       "output_type": "stream",
       "stream": "stdout",
       "text": [
        "95413\n"
       ]
      }
     ],
     "prompt_number": 4
    },
    {
     "cell_type": "code",
     "collapsed": false,
     "input": [
      "#2\n",
      "!tail -n 5 cup98LRN.txt > last5lines\n",
      "\n",
      "is_fixed_width= True\n",
      "m_wc= None\n",
      "with open(\"last5lines\") as f:\n",
      "    for line in f:\n",
      "        print \"processing line={}\".format(line)\n",
      "        t_wc= len(line)\n",
      "        if m_wc and m_wc != t_wc:\n",
      "            is_fixed_width= False\n",
      "            break\n",
      "        m_wc= t_wc\n",
      "\n",
      "m_message= \"File is fixed width format\" if is_fixed_width else \"File is not fixed width format\"\n",
      "print m_message"
     ],
     "language": "python",
     "metadata": {},
     "outputs": [
      {
       "output_type": "stream",
       "stream": "stdout",
       "text": [
        "processing line=9601,ASE,1,AK,99504, , ,0,0, , , , ,XXXX,C2,27,, , , , , , ,,,M,,0,,,,,,,,,,,,,,, ,14,36,47,11,7,8,13, , , ,, , , , , , , , , , , , , , , , , , , , , ,27380,7252,10037,99,0,0,50,50,78,10,6,4,5,0,0,0,1,1,0,0,3,1,0,2,28,35,38,29,38,41,30,45,37,18,16,31,25,15,8,3,1,20,18,31,18,13,7,3,5,20,32,48,28,10,4,58,15,3,24,195,271,54,38,8,32,24,14,0,0,0,988,1025,6,6,56,44,89,11,3,44,72,56,32,83,17,12,3,10,16,15,8,19,55,5,3,6,0,2,10,49,73,92,0,4,40,52,53,15,4,24,8,13,14,15,12,3,69,84,92,97,380,0,743,433,481,499,535,18807,11,13,13,21,22,13,4,2,2,9,11,11,21,24,16,4,2,2,9,6,70,6,63,37,27,76,15,2,2,0,0,0,5,2,1,2,18,20,2,69,81,89,73,83,69,69,57,61,94,7,15,16,5,10,21,0,3,11,1,11,2,3,3,1,4,6,4,7,3,3,17,7,5,3,1,9,8,7,14,7,8,13,6,59,7,0,136,2,7,28,33,8,15,8,3,26,2,19,8,8,15,2,20,35,5,48,15,11,25,1,5,1,9,0,0,4,1,1,1,0,0,1,1,0,4,26,92,3,2,4,95,60,19,3,14,0,7,32,78,91,9,6,5,86,1,12,0,0,1,93,7,98,99,98,16,4,4,3,9706,9606,9604,,9603,9601,9512,,,,,,,,,,,,,,,,,L1G,F1G,F1G, ,F1G,P1G,P1G, , , , , , , , , , , , , , , , ,6,9702,14,5,12,,,,,9602,,,,,,,,,,,,,,,,,,,,,,25,,,,,,,,,,,,,,,,,,25,1,0,25,9602,25,9602,25,9602,9602,,,25,184568,0,0,0,L,1,G,X,X,X,12,C\n",
        "\n",
        "processing line=9601,DCD,1,TX,77379, , ,5001,0, , , , ,XXXX,C1,24,48,E,H, , , ,M,1,7,M,9,1,0,0,1,0,0,0,0,0,0,0,0,0,0,0,3,0,31,43,19,4,1,0, , , ,, , , , , , , , , , , , , , , , , , , , , ,1254,322,361,96,0,4,51,49,91,3,0,2,6,1,0,1,0,0,0,0,5,0,0,1,30,40,40,28,41,43,39,33,42,25,9,19,43,17,7,4,2,10,16,35,23,16,9,2,7,10,20,70,52,25,6,73,4,2,20,307,346,89,88,1,1,0,0,0,0,0,1679,1723,3,3,88,12,97,3,0,63,89,85,60,96,4,2,1,1,7,5,1,28,58,5,2,2,0,18,71,88,91,97,5,1,77,82,75,20,4,1,0,10,7,1,0,5,16,26,44,79,3360,201,618,806,836,802,849,26538,8,9,7,6,11,29,13,2,15,10,0,8,2,13,35,16,3,13,8,5,61,7,83,17,36,80,4,4,4,0,0,0,6,5,3,3,25,32,10,61,73,88,56,87,52,48,43,99,0,0,18,31,0,13,17,0,1,2,4,6,0,3,5,1,8,8,9,3,7,9,13,9,6,0,0,4,7,13,3,4,1,0,4,78,12,0,160,1,6,12,24,7,36,14,9,35,5,32,7,0,0,0,21,31,8,43,5,19,15,1,12,1,14,0,0,4,0,0,1,0,0,0,1,0,2,51,94,3,0,2,99,84,29,4,7,2,55,90,94,94,6,0,0,82,2,16,0,0,0,69,31,67,99,97,18,5,3,2,9706,,,,,9601,9601,,,,,,,,,,,,,,,,,L1F, , , , ,P1F,P1F, , , , , , , , , , , , , , , , ,4,9702,10,3,8,,,,,9603,,,,,,,,,,,,,,,,,,,,,,20,,,,,,,,,,,,,,,,,,20,1,0,20,9603,20,9603,20,9603,9603,,,20,122706,0,0,1,L,1,F,X,X,X,2,A\n",
        "\n",
        "File is not fixed width format\n"
       ]
      }
     ],
     "prompt_number": 7
    },
    {
     "cell_type": "code",
     "collapsed": false,
     "input": [
      "#3\n",
      "!head -n 1 cup98LRN.txt > line1\n",
      "\n",
      "def get_fields(line):\n",
      "    for char in '-.,\\n\"\\'':\n",
      "        print \"Processing char\", char\n",
      "        s_arr= line.split(char)\n",
      "        if len(s_arr) > 1:\n",
      "            return (char, s_arr)\n",
      "    return None\n",
      "\n",
      "with open(\"line1\") as f:\n",
      "    for line in f:\n",
      "        print \"determining if line 1 is a header\".format(line)\n",
      "        r_fields= get_fields(line)\n",
      "        if r_fields:\n",
      "            print \"Found separator '{}', begin detection of header names\".format(r_fields[0])\n",
      "        header_fields= r_fields[1]\n",
      "        n= len(header_fields)\n",
      "        i= 0\n",
      "        for s in header_fields:\n",
      "            try:\n",
      "                int(s)\n",
      "            except:\n",
      "                # not a number increment error count\n",
      "                i+=1\n",
      "        \n",
      "        if i == n:\n",
      "            print \"1st row is a header as each field cannot be parsed as a Number\"\n",
      "            print \"Number of fields is {}\".format(n)"
     ],
     "language": "python",
     "metadata": {},
     "outputs": [
      {
       "output_type": "stream",
       "stream": "stdout",
       "text": [
        "determining if line 1 is a header\n",
        "Processing char -\n",
        "Processing char .\n",
        "Processing char ,\n",
        "Found separator ',', begin detection of header names\n",
        "1st row is header as each field cannot be parsed as a Number\n",
        "Number of fields is 481\n"
       ]
      }
     ],
     "prompt_number": 17
    },
    {
     "cell_type": "code",
     "collapsed": false,
     "input": [
      "#4\n",
      "!head -n 1 cup98LRN.txt > line1\n",
      "\n",
      "def get_field_count(line):\n",
      "    return len(line.split(','))\n",
      "\n",
      "def get_header_field_count():\n",
      "    with open(\"line1\") as f:\n",
      "        return get_field_count(f.readline())\n",
      "\n",
      "n= get_header_field_count()\n",
      "\n",
      "rows_same_number_of_fields= True\n",
      "with open(\"cup98LRN.txt\") as f:\n",
      "    for line in f:\n",
      "        l_count= get_field_count(line)\n",
      "        if l_count != n:\n",
      "            rows_same_number_of_fields= False\n",
      "            break\n",
      "\n",
      "m_message= \"All rows have same number of fields: {}\".format(n) if rows_same_number_of_fields else \"All rows do not have same number of fields: {}\".format(n)\n",
      "print m_message"
     ],
     "language": "python",
     "metadata": {},
     "outputs": [
      {
       "output_type": "stream",
       "stream": "stdout",
       "text": [
        "All rows have same number of fields: 481\n"
       ]
      }
     ],
     "prompt_number": 20
    },
    {
     "cell_type": "markdown",
     "metadata": {},
     "source": [
      "Give answers to questions 1-4 in this markdown cell:\n",
      "\n",
      "1. 95413\n",
      "2. File is not fixed width format\n",
      "3. 1st row is a header. Number of fields is 481\n",
      "4. All rows have same number of fields\n",
      "5. No, there is nothing in 1-4 that disagrees with the README or indicates erroneous data \n",
      "\n",
      "Now load the data file into a pandas data frame called \"learn\".  To save some time, we've loaded the data dictionary into col_types.  \n",
      "\n",
      "Finally split learn into two data frames, learn_y: the targets (two columns described in the documentation) and learn_x: the predictors (everything but the targets)"
     ]
    },
    {
     "cell_type": "code",
     "collapsed": false,
     "input": [
      "# clean source file\n",
      "!tr -d '\\000' < cup98LRN.txt > cup98LRN.txt_fixed\n",
      "!mv cup98LRN.txt_fixed cup98LRN.txt"
     ],
     "language": "python",
     "metadata": {},
     "outputs": [],
     "prompt_number": 5
    },
    {
     "cell_type": "code",
     "collapsed": false,
     "input": [
      "dict_file = open(\"/home/dyerke/Documents/DSE/DSE200-notebooks/lecture_2_github_io_numpy_pandas/dict.dat\")\n",
      "col_types = [ (x.split(\"\\t\")[0], x.strip().split(\"\\t\")[1]) for x in dict_file.readlines() ]\n",
      "\n",
      "dict_col_types= dict(col_types)"
     ],
     "language": "python",
     "metadata": {},
     "outputs": [],
     "prompt_number": 6
    },
    {
     "cell_type": "code",
     "collapsed": false,
     "input": [
      "#load the data file into a pandas data frame called \"learn\"\n",
      "\n",
      "from pandas import DataFrame, read_csv\n",
      "\n",
      "dict_file = open(\"/home/dyerke/Documents/DSE/DSE200-notebooks/lecture_2_github_io_numpy_pandas/dict.dat\")\n",
      "col_types = [ (x.split(\"\\t\")[0], x.strip().split(\"\\t\")[1]) for x in dict_file.readlines() ]\n",
      "\n",
      "learn= read_csv(\"cup98LRN.txt\", low_memory=False)"
     ],
     "language": "python",
     "metadata": {},
     "outputs": [],
     "prompt_number": 7
    },
    {
     "cell_type": "code",
     "collapsed": false,
     "input": [
      "# split learn into two data frames, learn_y: the targets (two columns described in the documentation) and learn_x: the predictors (everything but the targets)\n",
      "s_list= None\n",
      "with open(\"line1\") as f:\n",
      "    s= f.readline()\n",
      "    s = s.replace('\\n', '')\n",
      "    s_list= s.split(\",\")\n",
      "\n",
      "m_target_names= [\"TARGET_B\", \"TARGET_D\"]\n",
      "for t in m_target_names:\n",
      "    s_list.remove(t)\n",
      "    \n",
      "learn_y= learn[m_target_names]\n",
      "learn_x= learn[s_list]"
     ],
     "language": "python",
     "metadata": {},
     "outputs": [],
     "prompt_number": 12
    },
    {
     "cell_type": "markdown",
     "metadata": {},
     "source": [
      "###Summarizing Data\n",
      "Now that we have loaded data into the learn table, we wish to to summarize the data.  \n",
      "Write a function called summary which takes a pandas data frame and prints a summary of each column containing the following:\n",
      "\n",
      "If the column is numeric:\n",
      "\n",
      "1. Mean\n",
      "2. Standard Deviation\n",
      "3. Min/Max\n",
      "4. Number of missing values (NaN, Inf, NA)\n",
      "\n",
      "If the column is non alphabetical:\n",
      "\n",
      "1. Number of distinct values\n",
      "2. Number of missing values (NaN, INF, NA, blank/all spaces)\n",
      "3. The frequency of the 3 most common values and 3 least common values\n",
      "\n",
      "Format the output to be human readable.\n",
      "\n",
      "For example:\n",
      "> Field_1  \n",
      "> mean: 50  \n",
      "> std_dev: 25  \n",
      "> min: 0  \n",
      "> max: 100  \n",
      "> missing: 5\n",
      ">  \n",
      "> Field_2  \n",
      "> distinct_values: 100  \n",
      "> missing: 10  \n",
      ">  \n",
      "> 3 most common:  \n",
      ">   the: 1000  \n",
      ">   cat: 950  \n",
      ">   meows: 900  \n",
      ">  \n",
      "> 3 least common:  \n",
      ">   dogs: 5  \n",
      ">   lizards: 4  \n",
      ">   eggs: 1  "
     ]
    },
    {
     "cell_type": "code",
     "collapsed": false,
     "input": [
      "from pandas import *\n",
      "\n",
      "import logging\n",
      "import numpy as np\n",
      "import pandas as pd\n",
      "\n",
      "# create logger\n",
      "log = logging.getLogger('summary_logger')\n",
      "log.setLevel(logging.WARN)\n",
      "\n",
      "def summarize_non_numeric_column(s):\n",
      "    log.info(\"Summarizing non numeric column {}\".format(s.name))\n",
      "    #\n",
      "    m_counts= list(s.value_counts().iteritems())\n",
      "    is_null= isnull(s).nonzero()[0]\n",
      "    is_blank_space= s.str.contains(\"\\s\").nonzero()[0]\n",
      "    m_missing_count= len(is_null) + len(is_blank_space)\n",
      "    #\n",
      "    log.info(s.name)\n",
      "    log.info(\"distinct_values: {}\".format(len(m_counts)))\n",
      "    log.info(\"missing: {}\".format(m_missing_count))\n",
      "    log.info(\"3 most common:\")\n",
      "    i= 0\n",
      "    for m_entry in m_counts:\n",
      "        log.info(\"   {}:{}\".format(m_entry[0], m_entry[1]))\n",
      "        i+=1\n",
      "        if (i == 3):\n",
      "            break\n",
      "    log.info(\"3 least common:\")\n",
      "    i= 0\n",
      "    l_least_common= []\n",
      "    for m_entry in m_counts[::-1]:\n",
      "        l_least_common.append(m_entry)\n",
      "        i+=1\n",
      "        if (i == 3):\n",
      "            break\n",
      "    for m_entry in sorted(l_least_common, reverse=True, key= lambda x: x[1]):\n",
      "        log.info(\"   {}:{}\".format(m_entry[0], m_entry[1]))\n",
      "    return (False, s.name, m_counts, m_missing_count)\n",
      "\n",
      "def summarize_numeric_column(s):\n",
      "    log.info(\"Summarizing numeric column {}\".format(s.name))\n",
      "    m_mean= s.mean()\n",
      "    m_std= s.std()\n",
      "    m_min= s.min()\n",
      "    m_max= s.max()\n",
      "    is_inf= isinf(s).nonzero()[0]\n",
      "    is_null= isnull(s).nonzero()[0]\n",
      "    m_missing_count= len(is_inf) + len(is_null)\n",
      "    log.info(s.name)\n",
      "    log.info(\"mean: {}\".format(m_mean))\n",
      "    log.info(\"std_dev: {}\".format(m_std))\n",
      "    log.info(\"min: {}\".format(m_min))\n",
      "    log.info(\"max: {}\".format(m_max))\n",
      "    log.info(\"missing: {}\".format(m_missing_count))\n",
      "    return (True, s.name, m_mean, m_std, m_min, m_max, m_missing_count)\n",
      "\n",
      "def summarize_column(df, label):\n",
      "    if label not in dict_col_types:\n",
      "        raise RuntimeError(\"Unknown field: {}\".format(label))\n",
      "    m_type= dict_col_types[label]\n",
      "    m_series= df[label]\n",
      "    if m_type == \"Num\":\n",
      "        return summarize_numeric_column(m_series)\n",
      "    else:\n",
      "        return summarize_non_numeric_column(m_series)\n",
      "\n",
      "def summary(df):\n",
      "    column_idx= df.columns\n",
      "    result= {}\n",
      "    for c in column_idx:\n",
      "        result[c]= summarize_column(df, c)\n",
      "\n",
      "#summarize_column(learn_x, \"AGE\")\n",
      "#summarize_column(learn_x, \"GENDER\")\n",
      "summary(learn_y)\n",
      "summary(learn_x)"
     ],
     "language": "python",
     "metadata": {},
     "outputs": [],
     "prompt_number": 29
    },
    {
     "cell_type": "markdown",
     "metadata": {},
     "source": [
      "###Feature Engineering\n",
      "\n",
      "As you should have seen, there are a number of columns which are encoded as text.  To perform modeling we must convert these to somthing more numeric or throw them away.  There are a number of ways to do this which are useful in different situations.  For each of the following methods described, write a function that will take a data frame, the column you want to process, any other needed arguements and will return a data frame with the target column removed and new columns added for the described features.\n",
      "\n",
      "1. Hot 1 encoding: takes a column \"Field\" with n unique values and adds n new columns \"Field_x\" with x being each unique value of the field.  A record will have Field_x = 1 if Field = x in the original record.\n",
      "2. Risk table: If a record contains x in Field, replace x with the percent of all records containing x that are taged as positive.  IE if there are 100 records with the zip code 92110 10 of which are positive, replace 92110 in the zip field with 0.1.\n",
      "3. Regex contains: similar to hot one, but instead allow the user to specify some regex patterns x and set Field_x to 1 if the regex pattern x matches the value in Field.  An example usage might be to standardize occupations to student/employed/unemployed.\n",
      "4. Erase feature: remove the feature and don't add any features\n",
      "5. **BONUS:** One unique featureization idea of your choosing.  \n",
      "\n",
      "After this, apply one of your featurizers for each of the 75 non numeric columns.  Since there are so many columns you should use the summary statisitics to choose hot 1, risk table, or erase for most of them.  Come up with a basic heuristic to choose one of them (*Hint: you don't want to generate a ton of mostly constant features*).  Use the regex contains featureizer on at least 2 columns to extract some interesting meaning.  "
     ]
    },
    {
     "cell_type": "code",
     "collapsed": false,
     "input": [
      "#1 Hot 1 encoding\n",
      "import logging\n",
      "\n",
      "# create logger\n",
      "log = logging.getLogger('hot1_encoding_logger')\n",
      "log.setLevel(logging.DEBUG)\n",
      "\n",
      "def hot1_encoding(df, index):\n",
      "    log.info(\"\\nApplying Hot 1 encoding method to column {}\".format(index))\n",
      "    #\n",
      "    s= df[index]\n",
      "    new_df= df.copy()\n",
      "    #\n",
      "    m_unique= s.unique()\n",
      "    for uv in m_unique:\n",
      "        uv_mask= (df[index] == uv).astype(int)\n",
      "        new_field= \"Field_sourceCol_{}_value_{}\".format(index, uv)\n",
      "        new_df[new_field]= uv_mask\n",
      "    \n",
      "    del new_df[index]\n",
      "    return new_df\n",
      "\n",
      "new_df= hot1_encoding(learn_x, \"GENDER\")\n",
      "log.info(new_df)"
     ],
     "language": "python",
     "metadata": {},
     "outputs": [
      {
       "output_type": "stream",
       "stream": "stderr",
       "text": [
        "INFO:hot1_encoding_logger:\n",
        "Applying Hot 1 encoding method to column GENDER\n"
       ]
      },
      {
       "output_type": "stream",
       "stream": "stderr",
       "text": [
        "INFO:hot1_encoding_logger:       ODATEDW OSOURCE  TCODE STATE     ZIP MAILCODE PVASTATE   DOB NOEXCH  \\\n",
        "0         8901     GRI      0    IL   61081                    3712      0   \n",
        "1         9401     BOA      1    CA   91326                    5202      0   \n",
        "2         9001     AMH      1    NC   27017                       0      0   \n",
        "3         8701     BRY      0    CA   95953                    2801      0   \n",
        "4         8601              0    FL   33176                    2001      0   \n",
        "5         9401     CWR      0    AL   35603                       0      0   \n",
        "6         8701     DRK      0    IN   46755                    6001      0   \n",
        "7         9401     NWN      0    LA   70611                       0      0   \n",
        "8         8801     LIS      1    IA   51033                       0      0   \n",
        "9         9401     MSD      1    TN  37127-                    3211      0   \n",
        "10        9601     AGR      0    KS   67335                       0      0   \n",
        "11        9601     CSM      1    IN   46220                    2301      0   \n",
        "12        8901     ENQ      0    MN   56475                    2603      0   \n",
        "13        9201     HCC      1    LA   70791                       0      0   \n",
        "14        9301     USB      1    UT   84720                    2709      0   \n",
        "15        9401     FRC      1    CA   90056                       0      0   \n",
        "16        9401     RKB      0    MI   48067                    5401      0   \n",
        "17        8801     PCH      2    IL   62376                    5201      0   \n",
        "18        8601     AMB     28    FL   32810        B           3601      0   \n",
        "19        9501     L15      1    NC   27850                       0      0   \n",
        "20        8701     BBK      2    MN   55125                    3601      0   \n",
        "21        9601     L21      1    MI   49247                    1601      0   \n",
        "22        9401     SYN      0    FL   33983                       0      0   \n",
        "23        9301     L01      2    IL   60042                    2311      0   \n",
        "24        9501     MOP      0    MN   55044                    5201      0   \n",
        "25        9101     UCA      0    CA  93527-                    4307      0   \n",
        "26        9601     ESN      0    IL   60091                    5601      0   \n",
        "27        9201     L01      1    MO   64468                    1401      0   \n",
        "28        9101     IMP      0    TX   77381                    4809      0   \n",
        "29        9101     AVN      0    IL   62249                    6001      0   \n",
        "...        ...     ...    ...   ...     ...      ...      ...   ...    ...   \n",
        "95382     9501     MBC      1    KY   40299                    5601      0   \n",
        "95383     9101     HAN      2    SC   29108                       0      0   \n",
        "95384     9601     ADD      0    TX   78418                       0      0   \n",
        "95385     9401     IMA    980    IL   60629                       0      0   \n",
        "95386     8701     STR     28    CA   92870                    5101      0   \n",
        "95387     9401     HHH     28    GA   31904                    2801      0   \n",
        "95388     8801     DNA      0    AL   35023                       0      0   \n",
        "95389     9501     ARG      1    NM   87031                    4901      0   \n",
        "95390     9101     MCC      0    IL   62401                    2304      0   \n",
        "95391     8901     IMP      0    SC   29483        B           4802      0   \n",
        "95392     9501     MBC      1    CO   80480                       0      0   \n",
        "95393     9201     SSS      1    NC   27534                    2812      0   \n",
        "95394     9101     CNT      1    FL   32776                    2508      0   \n",
        "95395     8601     LIS      1    MO   65668                    2909      0   \n",
        "95396     9101     PBL      0    CA   94305                    1401      0   \n",
        "95397     8601     MBC      2    CO   80003                 P     0      0   \n",
        "95398     8601     STR      0    WI   53223                    1110      0   \n",
        "95399     8601     ROA      0    GA   30736                    5410      0   \n",
        "95400     8801     DNA      2    FL   33157                    1201      0   \n",
        "95401     9401     HHH     28    LA   70806                    2801      0   \n",
        "95402     9501     HOS      0    AL   35653                       0      0   \n",
        "95403     9001     LHJ      0    MN   55932                    4001      0   \n",
        "95404     9401     L02      2    KY  41701-                    4506      0   \n",
        "95405     9201     HHH     28    CA   92581                       0      0   \n",
        "95406     9001     LHJ      0    FL  32776-                    4803      0   \n",
        "95407     9601     ASE      1    AK   99504                       0      0   \n",
        "95408     9601     DCD      1    TX   77379                    5001      0   \n",
        "95409     9501     MBC      1    MI   48910                    3801      0   \n",
        "95410     8601     PRV      0    CA   91320                    4005      0   \n",
        "95411     8801     MCC      2    NC   28409                    1801      0   \n",
        "\n",
        "      RECINHSE   ...    MDMAUD_A CLUSTER2 GEOCODE2  \\\n",
        "0                ...           X       39        C   \n",
        "1                ...           X        1        A   \n",
        "2                ...           X       60        C   \n",
        "3                ...           X       41        C   \n",
        "4            X   ...           X       26        A   \n",
        "5                ...           X       16        C   \n",
        "6                ...           X       53        D   \n",
        "7                ...           X       38        C   \n",
        "8                ...           X       57        D   \n",
        "9                ...           X       34        B   \n",
        "10               ...           X       62        D   \n",
        "11               ...           X       23        B   \n",
        "12               ...           X       57        D   \n",
        "13           X   ...           X       38        B   \n",
        "14               ...           X       37        D   \n",
        "15               ...           X        7        A   \n",
        "16               ...           X       27        A   \n",
        "17               ...           X       56        C   \n",
        "18               ...           X       25        B   \n",
        "19               ...           X       61        C   \n",
        "20               ...           X        3        A   \n",
        "21               ...           X       44        C   \n",
        "22               ...           X       37        C   \n",
        "23               ...           X       17        A   \n",
        "24               ...           X        5        A   \n",
        "25               ...           X       42        B   \n",
        "26               ...           X        2        A   \n",
        "27               ...           X       16        D   \n",
        "28               ...           X       15        A   \n",
        "29               ...           X       52        A   \n",
        "...        ...   ...         ...      ...      ...   \n",
        "95382            ...           X       20        B   \n",
        "95383            ...           X       54        D   \n",
        "95384            ...           X       15        B   \n",
        "95385            ...           X       28        A   \n",
        "95386            ...           X        5        A   \n",
        "95387            ...           X       35        B   \n",
        "95388            ...           X       23        B   \n",
        "95389            ...           X       58        D   \n",
        "95390            ...           X       55        D   \n",
        "95391            ...           X       37        B   \n",
        "95392            ...           X       57        D   \n",
        "95393            ...           X       35        C   \n",
        "95394            ...           X       42        C   \n",
        "95395            ...           X       62        D   \n",
        "95396        X   ...           C        2        A   \n",
        "95397            ...           X       27        B   \n",
        "95398            ...           X        3        B   \n",
        "95399            ...           X       38        B   \n",
        "95400            ...           X        4        A   \n",
        "95401            ...           X       32        B   \n",
        "95402            ...           X       53        D   \n",
        "95403            ...           X       56        D   \n",
        "95404            ...           X       53        D   \n",
        "95405            ...           X       35        A   \n",
        "95406            ...           X       43        C   \n",
        "95407            ...           X       12        C   \n",
        "95408            ...           X        2        A   \n",
        "95409            ...           X       34        B   \n",
        "95410        X   ...           X       11        A   \n",
        "95411        X   ...           C       12        C   \n",
        "\n",
        "      Field_sourceCol_GENDER_value_F Field_sourceCol_GENDER_value_M  \\\n",
        "0                                  1                              0   \n",
        "1                                  0                              1   \n",
        "2                                  0                              1   \n",
        "3                                  1                              0   \n",
        "4                                  1                              0   \n",
        "5                                  0                              0   \n",
        "6                                  1                              0   \n",
        "7                                  1                              0   \n",
        "8                                  0                              1   \n",
        "9                                  0                              1   \n",
        "10                                 1                              0   \n",
        "11                                 0                              1   \n",
        "12                                 1                              0   \n",
        "13                                 0                              1   \n",
        "14                                 0                              1   \n",
        "15                                 0                              1   \n",
        "16                                 0                              1   \n",
        "17                                 1                              0   \n",
        "18                                 1                              0   \n",
        "19                                 0                              1   \n",
        "20                                 1                              0   \n",
        "21                                 0                              1   \n",
        "22                                 0                              0   \n",
        "23                                 1                              0   \n",
        "24                                 1                              0   \n",
        "25                                 0                              1   \n",
        "26                                 1                              0   \n",
        "27                                 0                              1   \n",
        "28                                 1                              0   \n",
        "29                                 1                              0   \n",
        "...                              ...                            ...   \n",
        "95382                              0                              1   \n",
        "95383                              0                              1   \n",
        "95384                              1                              0   \n",
        "95385                              0                              0   \n",
        "95386                              0                              0   \n",
        "95387                              1                              0   \n",
        "95388                              0                              0   \n",
        "95389                              0                              1   \n",
        "95390                              0                              1   \n",
        "95391                              0                              1   \n",
        "95392                              0                              1   \n",
        "95393                              0                              1   \n",
        "95394                              0                              1   \n",
        "95395                              0                              1   \n",
        "95396                              0                              0   \n",
        "95397                              1                              0   \n",
        "95398                              1                              0   \n",
        "95399                              1                              0   \n",
        "95400                              1                              0   \n",
        "95401                              1                              0   \n",
        "95402                              1                              0   \n",
        "95403                              1                              0   \n",
        "95404                              1                              0   \n",
        "95405                              1                              0   \n",
        "95406                              1                              0   \n",
        "95407                              0                              1   \n",
        "95408                              0                              1   \n",
        "95409                              0                              1   \n",
        "95410                              1                              0   \n",
        "95411                              1                              0   \n",
        "\n",
        "      Field_sourceCol_GENDER_value_   Field_sourceCol_GENDER_value_C  \\\n",
        "0                                  0                               0   \n",
        "1                                  0                               0   \n",
        "2                                  0                               0   \n",
        "3                                  0                               0   \n",
        "4                                  0                               0   \n",
        "5                                  1                               0   \n",
        "6                                  0                               0   \n",
        "7                                  0                               0   \n",
        "8                                  0                               0   \n",
        "9                                  0                               0   \n",
        "10                                 0                               0   \n",
        "11                                 0                               0   \n",
        "12                                 0                               0   \n",
        "13                                 0                               0   \n",
        "14                                 0                               0   \n",
        "15                                 0                               0   \n",
        "16                                 0                               0   \n",
        "17                                 0                               0   \n",
        "18                                 0                               0   \n",
        "19                                 0                               0   \n",
        "20                                 0                               0   \n",
        "21                                 0                               0   \n",
        "22                                 1                               0   \n",
        "23                                 0                               0   \n",
        "24                                 0                               0   \n",
        "25                                 0                               0   \n",
        "26                                 0                               0   \n",
        "27                                 0                               0   \n",
        "28                                 0                               0   \n",
        "29                                 0                               0   \n",
        "...                              ...                             ...   \n",
        "95382                              0                               0   \n",
        "95383                              0                               0   \n",
        "95384                              0                               0   \n",
        "95385                              1                               0   \n",
        "95386                              1                               0   \n",
        "95387                              0                               0   \n",
        "95388                              0                               0   \n",
        "95389                              0                               0   \n",
        "95390                              0                               0   \n",
        "95391                              0                               0   \n",
        "95392                              0                               0   \n",
        "95393                              0                               0   \n",
        "95394                              0                               0   \n",
        "95395                              0                               0   \n",
        "95396                              0                               0   \n",
        "95397                              0                               0   \n",
        "95398                              0                               0   \n",
        "95399                              0                               0   \n",
        "95400                              0                               0   \n",
        "95401                              0                               0   \n",
        "95402                              0                               0   \n",
        "95403                              0                               0   \n",
        "95404                              0                               0   \n",
        "95405                              0                               0   \n",
        "95406                              0                               0   \n",
        "95407                              0                               0   \n",
        "95408                              0                               0   \n",
        "95409                              0                               0   \n",
        "95410                              0                               0   \n",
        "95411                              0                               0   \n",
        "\n",
        "      Field_sourceCol_GENDER_value_U Field_sourceCol_GENDER_value_J  \\\n",
        "0                                  0                              0   \n",
        "1                                  0                              0   \n",
        "2                                  0                              0   \n",
        "3                                  0                              0   \n",
        "4                                  0                              0   \n",
        "5                                  0                              0   \n",
        "6                                  0                              0   \n",
        "7                                  0                              0   \n",
        "8                                  0                              0   \n",
        "9                                  0                              0   \n",
        "10                                 0                              0   \n",
        "11                                 0                              0   \n",
        "12                                 0                              0   \n",
        "13                                 0                              0   \n",
        "14                                 0                              0   \n",
        "15                                 0                              0   \n",
        "16                                 0                              0   \n",
        "17                                 0                              0   \n",
        "18                                 0                              0   \n",
        "19                                 0                              0   \n",
        "20                                 0                              0   \n",
        "21                                 0                              0   \n",
        "22                                 0                              0   \n",
        "23                                 0                              0   \n",
        "24                                 0                              0   \n",
        "25                                 0                              0   \n",
        "26                                 0                              0   \n",
        "27                                 0                              0   \n",
        "28                                 0                              0   \n",
        "29                                 0                              0   \n",
        "...                              ...                            ...   \n",
        "95382                              0                              0   \n",
        "95383                              0                              0   \n",
        "95384                              0                              0   \n",
        "95385                              0                              0   \n",
        "95386                              0                              0   \n",
        "95387                              0                              0   \n",
        "95388                              1                              0   \n",
        "95389                              0                              0   \n",
        "95390                              0                              0   \n",
        "95391                              0                              0   \n",
        "95392                              0                              0   \n",
        "95393                              0                              0   \n",
        "95394                              0                              0   \n",
        "95395                              0                              0   \n",
        "95396                              0                              0   \n",
        "95397                              0                              0   \n",
        "95398                              0                              0   \n",
        "95399                              0                              0   \n",
        "95400                              0                              0   \n",
        "95401                              0                              0   \n",
        "95402                              0                              0   \n",
        "95403                              0                              0   \n",
        "95404                              0                              0   \n",
        "95405                              0                              0   \n",
        "95406                              0                              0   \n",
        "95407                              0                              0   \n",
        "95408                              0                              0   \n",
        "95409                              0                              0   \n",
        "95410                              0                              0   \n",
        "95411                              0                              0   \n",
        "\n",
        "      Field_sourceCol_GENDER_value_A  \n",
        "0                                  0  \n",
        "1                                  0  \n",
        "2                                  0  \n",
        "3                                  0  \n",
        "4                                  0  \n",
        "5                                  0  \n",
        "6                                  0  \n",
        "7                                  0  \n",
        "8                                  0  \n",
        "9                                  0  \n",
        "10                                 0  \n",
        "11                                 0  \n",
        "12                                 0  \n",
        "13                                 0  \n",
        "14                                 0  \n",
        "15                                 0  \n",
        "16                                 0  \n",
        "17                                 0  \n",
        "18                                 0  \n",
        "19                                 0  \n",
        "20                                 0  \n",
        "21                                 0  \n",
        "22                                 0  \n",
        "23                                 0  \n",
        "24                                 0  \n",
        "25                                 0  \n",
        "26                                 0  \n",
        "27                                 0  \n",
        "28                                 0  \n",
        "29                                 0  \n",
        "...                              ...  \n",
        "95382                              0  \n",
        "95383                              0  \n",
        "95384                              0  \n",
        "95385                              0  \n",
        "95386                              0  \n",
        "95387                              0  \n",
        "95388                              0  \n",
        "95389                              0  \n",
        "95390                              0  \n",
        "95391                              0  \n",
        "95392                              0  \n",
        "95393                              0  \n",
        "95394                              0  \n",
        "95395                              0  \n",
        "95396                              1  \n",
        "95397                              0  \n",
        "95398                              0  \n",
        "95399                              0  \n",
        "95400                              0  \n",
        "95401                              0  \n",
        "95402                              0  \n",
        "95403                              0  \n",
        "95404                              0  \n",
        "95405                              0  \n",
        "95406                              0  \n",
        "95407                              0  \n",
        "95408                              0  \n",
        "95409                              0  \n",
        "95410                              0  \n",
        "95411                              0  \n",
        "\n",
        "[95412 rows x 485 columns]\n"
       ]
      }
     ],
     "prompt_number": 43
    },
    {
     "cell_type": "code",
     "collapsed": false,
     "input": [
      "#2 Risk table\n",
      "import logging\n",
      "\n",
      "# create logger\n",
      "log = logging.getLogger('risk_table_logger')\n",
      "log.setLevel(logging.DEBUG)\n",
      "\n",
      "def risk_table(df, index):\n",
      "    log.info(\"Applying Risk Table method to column {}\".format(index))\n",
      "    #\n",
      "    p_idx= \"TARGET_B\"\n",
      "    s= df[index]\n",
      "    ys= learn_y[p_idx]\n",
      "    m_dict= dict(s.value_counts().iteritems())\n",
      "    \n",
      "    # concat creates a copy, so no explicit call necessary\n",
      "    new_df= pd.concat([df, ys], axis=1)\n",
      "    new_s= new_df[index]\n",
      "    new_ys= new_df[p_idx]\n",
      "    n= s.size\n",
      "    \n",
      "    # aggregate positive indicators for each value\n",
      "    p_count_dict= {}\n",
      "    for i in xrange(n):\n",
      "        n_value= new_s[i]\n",
      "        p_ind= new_ys[i]\n",
      "        if n_value not in p_count_dict:\n",
      "            p_count_dict[n_value]= 0\n",
      "        if p_ind:\n",
      "            p_count_dict[n_value]+=1\n",
      "\n",
      "    # calculate new_value for each value using value counts and p_count_dict\n",
      "    new_value_dict= {}\n",
      "    for k,v in m_dict.iteritems():\n",
      "        r_pos= float(p_count_dict[k])\n",
      "        v_total= float(v)\n",
      "        new_value= round((r_pos / v_total), 6)\n",
      "        new_value_dict[k]= new_value\n",
      "\n",
      "    # set new_value in series for each particular value\n",
      "    for i in xrange(n):\n",
      "        old_value= new_s[i]\n",
      "        new_value= new_value_dict[old_value]\n",
      "        new_s[i]= new_value\n",
      "    \n",
      "    del new_df[p_idx]\n",
      "    return new_df\n",
      "\n",
      "#c_index= \"GENDER\"\n",
      "c_index= \"ZIP\"\n",
      "new_df= risk_table(learn_x, c_index)\n",
      "log.info(new_df[c_index])"
     ],
     "language": "python",
     "metadata": {},
     "outputs": [
      {
       "output_type": "stream",
       "stream": "stderr",
       "text": [
        "INFO:risk_table_logger:Applying Risk Table method to column ZIP\n"
       ]
      },
      {
       "output_type": "stream",
       "stream": "stderr",
       "text": [
        "INFO:risk_table_logger:0            0\n",
        "1     0.190476\n",
        "2            0\n",
        "3            0\n",
        "4     0.032258\n",
        "5            0\n",
        "6            0\n",
        "7            0\n",
        "8            0\n",
        "9            0\n",
        "10           0\n",
        "11           0\n",
        "12           0\n",
        "13    0.076923\n",
        "14         0.4\n",
        "...\n",
        "95397           0\n",
        "95398    0.095238\n",
        "95399           0\n",
        "95400    0.033333\n",
        "95401           0\n",
        "95402           0\n",
        "95403           1\n",
        "95404           0\n",
        "95405           0\n",
        "95406           0\n",
        "95407           0\n",
        "95408           0\n",
        "95409           0\n",
        "95410      0.0625\n",
        "95411    0.133333\n",
        "Name: ZIP, Length: 95412, dtype: object\n"
       ]
      }
     ],
     "prompt_number": 23
    },
    {
     "cell_type": "code",
     "collapsed": false,
     "input": [
      "#3 Regex contains\n",
      "import logging\n",
      "\n",
      "# create logger\n",
      "log = logging.getLogger('reg_ex_logger')\n",
      "log.setLevel(logging.DEBUG)\n",
      "\n",
      "def regex_contains(df, index, patterns):\n",
      "    log.info(\"\\nApplying regex contains method to column {}\".format(index))\n",
      "    #\n",
      "    s= df[index]\n",
      "    new_df= df.copy()\n",
      "    #\n",
      "    s_value_counts= s.value_counts()\n",
      "    i= 1\n",
      "    for pattern in patterns:\n",
      "        m_mask= (s.str.contains(pattern)).astype(int)\n",
      "        new_field= \"Field_sourceCol_{}_Re_{}\".format(index, i)\n",
      "        new_df[new_field]= m_mask\n",
      "        i+=1\n",
      "    del new_df[index]\n",
      "    \n",
      "    return new_df\n",
      "\n",
      "\n",
      "c_index= \"RFA_2\"\n",
      "patterns= [\"^L1\", \"^L2\"]\n",
      "new_df= regex_contains(learn_x, c_index, patterns)\n",
      "log.info(new_df)\n",
      "\n",
      "log.info(\"Original series from learn_x\")\n",
      "log.info(learn_x[c_index])"
     ],
     "language": "python",
     "metadata": {},
     "outputs": [
      {
       "output_type": "stream",
       "stream": "stderr",
       "text": [
        "INFO:reg_ex_logger:\n",
        "Applying regex contains method to column RFA_2\n"
       ]
      },
      {
       "output_type": "stream",
       "stream": "stderr",
       "text": [
        "INFO:reg_ex_logger:       ODATEDW OSOURCE  TCODE STATE     ZIP MAILCODE PVASTATE   DOB NOEXCH  \\\n",
        "0         8901     GRI      0    IL   61081                    3712      0   \n",
        "1         9401     BOA      1    CA   91326                    5202      0   \n",
        "2         9001     AMH      1    NC   27017                       0      0   \n",
        "3         8701     BRY      0    CA   95953                    2801      0   \n",
        "4         8601              0    FL   33176                    2001      0   \n",
        "5         9401     CWR      0    AL   35603                       0      0   \n",
        "6         8701     DRK      0    IN   46755                    6001      0   \n",
        "7         9401     NWN      0    LA   70611                       0      0   \n",
        "8         8801     LIS      1    IA   51033                       0      0   \n",
        "9         9401     MSD      1    TN  37127-                    3211      0   \n",
        "10        9601     AGR      0    KS   67335                       0      0   \n",
        "11        9601     CSM      1    IN   46220                    2301      0   \n",
        "12        8901     ENQ      0    MN   56475                    2603      0   \n",
        "13        9201     HCC      1    LA   70791                       0      0   \n",
        "14        9301     USB      1    UT   84720                    2709      0   \n",
        "15        9401     FRC      1    CA   90056                       0      0   \n",
        "16        9401     RKB      0    MI   48067                    5401      0   \n",
        "17        8801     PCH      2    IL   62376                    5201      0   \n",
        "18        8601     AMB     28    FL   32810        B           3601      0   \n",
        "19        9501     L15      1    NC   27850                       0      0   \n",
        "20        8701     BBK      2    MN   55125                    3601      0   \n",
        "21        9601     L21      1    MI   49247                    1601      0   \n",
        "22        9401     SYN      0    FL   33983                       0      0   \n",
        "23        9301     L01      2    IL   60042                    2311      0   \n",
        "24        9501     MOP      0    MN   55044                    5201      0   \n",
        "25        9101     UCA      0    CA  93527-                    4307      0   \n",
        "26        9601     ESN      0    IL   60091                    5601      0   \n",
        "27        9201     L01      1    MO   64468                    1401      0   \n",
        "28        9101     IMP      0    TX   77381                    4809      0   \n",
        "29        9101     AVN      0    IL   62249                    6001      0   \n",
        "...        ...     ...    ...   ...     ...      ...      ...   ...    ...   \n",
        "95382     9501     MBC      1    KY   40299                    5601      0   \n",
        "95383     9101     HAN      2    SC   29108                       0      0   \n",
        "95384     9601     ADD      0    TX   78418                       0      0   \n",
        "95385     9401     IMA    980    IL   60629                       0      0   \n",
        "95386     8701     STR     28    CA   92870                    5101      0   \n",
        "95387     9401     HHH     28    GA   31904                    2801      0   \n",
        "95388     8801     DNA      0    AL   35023                       0      0   \n",
        "95389     9501     ARG      1    NM   87031                    4901      0   \n",
        "95390     9101     MCC      0    IL   62401                    2304      0   \n",
        "95391     8901     IMP      0    SC   29483        B           4802      0   \n",
        "95392     9501     MBC      1    CO   80480                       0      0   \n",
        "95393     9201     SSS      1    NC   27534                    2812      0   \n",
        "95394     9101     CNT      1    FL   32776                    2508      0   \n",
        "95395     8601     LIS      1    MO   65668                    2909      0   \n",
        "95396     9101     PBL      0    CA   94305                    1401      0   \n",
        "95397     8601     MBC      2    CO   80003                 P     0      0   \n",
        "95398     8601     STR      0    WI   53223                    1110      0   \n",
        "95399     8601     ROA      0    GA   30736                    5410      0   \n",
        "95400     8801     DNA      2    FL   33157                    1201      0   \n",
        "95401     9401     HHH     28    LA   70806                    2801      0   \n",
        "95402     9501     HOS      0    AL   35653                       0      0   \n",
        "95403     9001     LHJ      0    MN   55932                    4001      0   \n",
        "95404     9401     L02      2    KY  41701-                    4506      0   \n",
        "95405     9201     HHH     28    CA   92581                       0      0   \n",
        "95406     9001     LHJ      0    FL  32776-                    4803      0   \n",
        "95407     9601     ASE      1    AK   99504                       0      0   \n",
        "95408     9601     DCD      1    TX   77379                    5001      0   \n",
        "95409     9501     MBC      1    MI   48910                    3801      0   \n",
        "95410     8601     PRV      0    CA   91320                    4005      0   \n",
        "95411     8801     MCC      2    NC   28409                    1801      0   \n",
        "\n",
        "      RECINHSE   ...    RFA_2R RFA_2F RFA_2A MDMAUD_R MDMAUD_F MDMAUD_A  \\\n",
        "0                ...         L      4      E        X        X        X   \n",
        "1                ...         L      2      G        X        X        X   \n",
        "2                ...         L      4      E        X        X        X   \n",
        "3                ...         L      4      E        X        X        X   \n",
        "4            X   ...         L      2      F        X        X        X   \n",
        "5                ...         L      1      F        X        X        X   \n",
        "6                ...         L      1      E        X        X        X   \n",
        "7                ...         L      3      E        X        X        X   \n",
        "8                ...         L      1      F        X        X        X   \n",
        "9                ...         L      1      F        X        X        X   \n",
        "10               ...         L      1      F        X        X        X   \n",
        "11               ...         L      2      F        X        X        X   \n",
        "12               ...         L      4      D        X        X        X   \n",
        "13           X   ...         L      1      G        X        X        X   \n",
        "14               ...         L      1      F        X        X        X   \n",
        "15               ...         L      1      F        X        X        X   \n",
        "16               ...         L      2      F        X        X        X   \n",
        "17               ...         L      1      G        X        X        X   \n",
        "18               ...         L      1      F        X        X        X   \n",
        "19               ...         L      1      F        X        X        X   \n",
        "20               ...         L      3      D        X        X        X   \n",
        "21               ...         L      1      G        X        X        X   \n",
        "22               ...         L      1      G        X        X        X   \n",
        "23               ...         L      2      E        X        X        X   \n",
        "24               ...         L      3      E        X        X        X   \n",
        "25               ...         L      2      F        X        X        X   \n",
        "26               ...         L      1      G        X        X        X   \n",
        "27               ...         L      3      E        X        X        X   \n",
        "28               ...         L      2      E        X        X        X   \n",
        "29               ...         L      3      E        X        X        X   \n",
        "...        ...   ...       ...    ...    ...      ...      ...      ...   \n",
        "95382            ...         L      3      E        X        X        X   \n",
        "95383            ...         L      3      E        X        X        X   \n",
        "95384            ...         L      1      F        X        X        X   \n",
        "95385            ...         L      1      F        X        X        X   \n",
        "95386            ...         L      1      G        X        X        X   \n",
        "95387            ...         L      4      D        X        X        X   \n",
        "95388            ...         L      1      F        X        X        X   \n",
        "95389            ...         L      1      F        X        X        X   \n",
        "95390            ...         L      1      F        X        X        X   \n",
        "95391            ...         L      2      G        X        X        X   \n",
        "95392            ...         L      1      G        X        X        X   \n",
        "95393            ...         L      3      F        X        X        X   \n",
        "95394            ...         L      1      F        X        X        X   \n",
        "95395            ...         L      1      F        X        X        X   \n",
        "95396        X   ...         L      3      G        L        2        C   \n",
        "95397            ...         L      2      G        X        X        X   \n",
        "95398            ...         L      3      G        X        X        X   \n",
        "95399            ...         L      3      G        X        X        X   \n",
        "95400            ...         L      1      F        X        X        X   \n",
        "95401            ...         L      1      F        X        X        X   \n",
        "95402            ...         L      3      E        X        X        X   \n",
        "95403            ...         L      1      F        X        X        X   \n",
        "95404            ...         L      4      E        X        X        X   \n",
        "95405            ...         L      1      G        X        X        X   \n",
        "95406            ...         L      4      D        X        X        X   \n",
        "95407            ...         L      1      G        X        X        X   \n",
        "95408            ...         L      1      F        X        X        X   \n",
        "95409            ...         L      3      E        X        X        X   \n",
        "95410        X   ...         L      4      F        X        X        X   \n",
        "95411        X   ...         L      1      G        C        1        C   \n",
        "\n",
        "       CLUSTER2 GEOCODE2 Field_Re_1_RFA_2 Field_Re_2_RFA_2  \n",
        "0            39        C                0                0  \n",
        "1             1        A                0                1  \n",
        "2            60        C                0                0  \n",
        "3            41        C                0                0  \n",
        "4            26        A                0                1  \n",
        "5            16        C                1                0  \n",
        "6            53        D                1                0  \n",
        "7            38        C                0                0  \n",
        "8            57        D                1                0  \n",
        "9            34        B                1                0  \n",
        "10           62        D                1                0  \n",
        "11           23        B                0                1  \n",
        "12           57        D                0                0  \n",
        "13           38        B                1                0  \n",
        "14           37        D                1                0  \n",
        "15            7        A                1                0  \n",
        "16           27        A                0                1  \n",
        "17           56        C                1                0  \n",
        "18           25        B                1                0  \n",
        "19           61        C                1                0  \n",
        "20            3        A                0                0  \n",
        "21           44        C                1                0  \n",
        "22           37        C                1                0  \n",
        "23           17        A                0                1  \n",
        "24            5        A                0                0  \n",
        "25           42        B                0                1  \n",
        "26            2        A                1                0  \n",
        "27           16        D                0                0  \n",
        "28           15        A                0                1  \n",
        "29           52        A                0                0  \n",
        "...         ...      ...              ...              ...  \n",
        "95382        20        B                0                0  \n",
        "95383        54        D                0                0  \n",
        "95384        15        B                1                0  \n",
        "95385        28        A                1                0  \n",
        "95386         5        A                1                0  \n",
        "95387        35        B                0                0  \n",
        "95388        23        B                1                0  \n",
        "95389        58        D                1                0  \n",
        "95390        55        D                1                0  \n",
        "95391        37        B                0                1  \n",
        "95392        57        D                1                0  \n",
        "95393        35        C                0                0  \n",
        "95394        42        C                1                0  \n",
        "95395        62        D                1                0  \n",
        "95396         2        A                0                0  \n",
        "95397        27        B                0                1  \n",
        "95398         3        B                0                0  \n",
        "95399        38        B                0                0  \n",
        "95400         4        A                1                0  \n",
        "95401        32        B                1                0  \n",
        "95402        53        D                0                0  \n",
        "95403        56        D                1                0  \n",
        "95404        53        D                0                0  \n",
        "95405        35        A                1                0  \n",
        "95406        43        C                0                0  \n",
        "95407        12        C                1                0  \n",
        "95408         2        A                1                0  \n",
        "95409        34        B                0                0  \n",
        "95410        11        A                0                0  \n",
        "95411        12        C                1                0  \n",
        "\n",
        "[95412 rows x 480 columns]\n"
       ]
      },
      {
       "output_type": "stream",
       "stream": "stderr",
       "text": [
        "INFO:reg_ex_logger:Original series from learn_x\n"
       ]
      },
      {
       "output_type": "stream",
       "stream": "stderr",
       "text": [
        "INFO:reg_ex_logger:0     L4E\n",
        "1     L2G\n",
        "2     L4E\n",
        "3     L4E\n",
        "4     L2F\n",
        "5     L1F\n",
        "6     L1E\n",
        "7     L3E\n",
        "8     L1F\n",
        "9     L1F\n",
        "10    L1F\n",
        "11    L2F\n",
        "12    L4D\n",
        "13    L1G\n",
        "14    L1F\n",
        "...\n",
        "95397    L2G\n",
        "95398    L3G\n",
        "95399    L3G\n",
        "95400    L1F\n",
        "95401    L1F\n",
        "95402    L3E\n",
        "95403    L1F\n",
        "95404    L4E\n",
        "95405    L1G\n",
        "95406    L4D\n",
        "95407    L1G\n",
        "95408    L1F\n",
        "95409    L3E\n",
        "95410    L4F\n",
        "95411    L1G\n",
        "Name: RFA_2, Length: 95412, dtype: object\n"
       ]
      }
     ],
     "prompt_number": 24
    },
    {
     "cell_type": "code",
     "collapsed": false,
     "input": [
      "#4 Erase feature\n",
      "import logging\n",
      "\n",
      "# create logger\n",
      "log = logging.getLogger('erase_logger')\n",
      "log.setLevel(logging.DEBUG)\n",
      "\n",
      "def erase_feature(df, index):\n",
      "    log.info(\"Applying erase feature method to column {}\".format(index))\n",
      "    #\n",
      "    new_df= df.copy()\n",
      "    #\n",
      "    del new_df[index]\n",
      "    return new_df\n",
      "\n",
      "\n",
      "c_index= \"RFA_2\"\n",
      "new_df= erase_feature(learn_x, c_index)\n",
      "try:\n",
      "    log.info(new_df[c_index])\n",
      "except:\n",
      "    log.info(\"{} is not in data frame\".format(c_index))\n",
      "\n",
      "log.info(\"Original series from learn_x\")\n",
      "log.info(learn_x[c_index])"
     ],
     "language": "python",
     "metadata": {},
     "outputs": [
      {
       "output_type": "stream",
       "stream": "stderr",
       "text": [
        "INFO:erase_logger:Applying erase feature method to column RFA_2\n"
       ]
      },
      {
       "output_type": "stream",
       "stream": "stderr",
       "text": [
        "INFO:erase_logger:RFA_2 is not in data frame\n"
       ]
      },
      {
       "output_type": "stream",
       "stream": "stderr",
       "text": [
        "INFO:erase_logger:Original series from learn_x\n"
       ]
      },
      {
       "output_type": "stream",
       "stream": "stderr",
       "text": [
        "INFO:erase_logger:0     L4E\n",
        "1     L2G\n",
        "2     L4E\n",
        "3     L4E\n",
        "4     L2F\n",
        "5     L1F\n",
        "6     L1E\n",
        "7     L3E\n",
        "8     L1F\n",
        "9     L1F\n",
        "10    L1F\n",
        "11    L2F\n",
        "12    L4D\n",
        "13    L1G\n",
        "14    L1F\n",
        "...\n",
        "95397    L2G\n",
        "95398    L3G\n",
        "95399    L3G\n",
        "95400    L1F\n",
        "95401    L1F\n",
        "95402    L3E\n",
        "95403    L1F\n",
        "95404    L4E\n",
        "95405    L1G\n",
        "95406    L4D\n",
        "95407    L1G\n",
        "95408    L1F\n",
        "95409    L3E\n",
        "95410    L4F\n",
        "95411    L1G\n",
        "Name: RFA_2, Length: 95412, dtype: object\n"
       ]
      }
     ],
     "prompt_number": 25
    },
    {
     "cell_type": "code",
     "collapsed": false,
     "input": [
      "# After this, apply one of your featurizers for each of the 75 non numeric columns. \n",
      "# Since there are so many columns you should use the summary statisitics to choose hot 1, risk table, or erase \n",
      "# for most of them. Come up with a basic heuristic to choose one of them\n",
      "import logging\n",
      "\n",
      "# create logger\n",
      "log = logging.getLogger('main_logger')\n",
      "log.setLevel(logging.WARN)\n",
      "\n",
      "total_rows= int(learn_y.count()[0])\n",
      "log.warn( \"total_rows= {}\".format(total_rows))\n",
      "\n",
      "def execute_featurizer(df, r_column):\n",
      "    m_index= r_column[1]\n",
      "    m_value_counts= r_column[2]\n",
      "    m_missing_count= r_column[3]\n",
      "    m_distinct_values= len(m_value_counts)\n",
      "    #\n",
      "    log.warn(\"Processing column: {}\".format(m_index))\n",
      "    # determine featurizer to execute\n",
      "    #\n",
      "    # check for erase first\n",
      "    f_erase_threshold= 0.5\n",
      "    f_erase= round(float(m_missing_count) / float(total_rows), 5)\n",
      "    if f_erase >= f_erase_threshold:\n",
      "        log.warn(\"Percentage of missing values {} is greater than threshold: {}. Executing erase featurizer.\".format(f_erase, f_erase_threshold))\n",
      "        return erase_feature(df, m_index)\n",
      "    \n",
      "    # check for regular expression\n",
      "    m_desired_regex= [(\"RFA_2\", \"^L1|^L2\"),(\"RFA_3\", \"^A1|^A2\")]\n",
      "    for m_tuple in m_desired_regex:\n",
      "        d_index= m_tuple[0]\n",
      "        if d_index == m_index:\n",
      "            d_regex= m_tuple[1]\n",
      "            log.warn(\"Executing regex contains featurizer using regular expression {}\".format(d_regex))\n",
      "            return regex_contains(df, m_index, d_regex)\n",
      "    \n",
      "    # check for hot1 encoding else risk table\n",
      "    m_unique_values_threshold= 10\n",
      "    if (m_distinct_values <= m_unique_values_threshold):\n",
      "        log.warn(\"Found {} unique values, which is less than threshold {}; executing hot1 encoding featurizer.\".format(m_distinct_values, m_unique_values_threshold))\n",
      "        return hot1_encoding(df, m_index)\n",
      "    else:\n",
      "        log.warn(\"Found {} unique values, which is greater than threshold {}; executing risk table featurizer.\".format(m_distinct_values, m_unique_values_threshold))\n",
      "        return risk_table(df, m_index)\n",
      "    \n",
      "    return df\n",
      "\n",
      "def select_featurizer(df, index):    \n",
      "    r_column= summarize_column(df, index)\n",
      "    is_text= not r_column[0]\n",
      "    if is_text:\n",
      "        return (1, execute_featurizer(df, r_column))\n",
      "    return (0, df)\n",
      "\n",
      "m_df= learn_x\n",
      "# m_df= select_featurizer(m_df, \"GENDER\")\n",
      "i= 0\n",
      "for c in m_df.columns:\n",
      "    m_result= select_featurizer(m_df, c)\n",
      "    i+= m_result[0]\n",
      "    m_df= m_result[1]\n",
      "\n",
      "log.warn(\"Performed {} featurizers\".format(i))\n",
      "\n",
      "m_df.info()"
     ],
     "language": "python",
     "metadata": {},
     "outputs": [
      {
       "output_type": "stream",
       "stream": "stderr",
       "text": [
        "WARNING:main_logger:total_rows= 95412\n"
       ]
      },
      {
       "output_type": "stream",
       "stream": "stderr",
       "text": [
        "WARNING:main_logger:Processing column: OSOURCE\n"
       ]
      },
      {
       "output_type": "stream",
       "stream": "stderr",
       "text": [
        "WARNING:main_logger:Found 896 unique values, which is greater than threshold 10; executing risk table featurizer.\n"
       ]
      },
      {
       "output_type": "stream",
       "stream": "stderr",
       "text": [
        "WARNING:main_logger:Processing column: STATE\n"
       ]
      },
      {
       "output_type": "stream",
       "stream": "stderr",
       "text": [
        "WARNING:main_logger:Found 57 unique values, which is greater than threshold 10; executing risk table featurizer.\n"
       ]
      },
      {
       "output_type": "stream",
       "stream": "stderr",
       "text": [
        "WARNING:main_logger:Processing column: ZIP\n"
       ]
      },
      {
       "output_type": "stream",
       "stream": "stderr",
       "text": [
        "WARNING:main_logger:Found 19938 unique values, which is greater than threshold 10; executing risk table featurizer.\n"
       ]
      },
      {
       "output_type": "stream",
       "stream": "stderr",
       "text": [
        "WARNING:main_logger:Processing column: MAILCODE\n"
       ]
      },
      {
       "output_type": "stream",
       "stream": "stderr",
       "text": [
        "WARNING:main_logger:Percentage of missing values 0.98534 is greater than threshold: 0.5. Executing erase featurizer.\n"
       ]
      },
      {
       "output_type": "stream",
       "stream": "stderr",
       "text": [
        "WARNING:main_logger:Processing column: PVASTATE\n"
       ]
      },
      {
       "output_type": "stream",
       "stream": "stderr",
       "text": [
        "WARNING:main_logger:Percentage of missing values 0.98472 is greater than threshold: 0.5. Executing erase featurizer.\n"
       ]
      },
      {
       "output_type": "stream",
       "stream": "stderr",
       "text": [
        "WARNING:main_logger:Processing column: NOEXCH\n"
       ]
      },
      {
       "output_type": "stream",
       "stream": "stderr",
       "text": [
        "WARNING:main_logger:Found 4 unique values, which is less than threshold 10; executing hot1 encoding featurizer.\n"
       ]
      },
      {
       "output_type": "stream",
       "stream": "stderr",
       "text": [
        "WARNING:main_logger:Processing column: RECINHSE\n"
       ]
      },
      {
       "output_type": "stream",
       "stream": "stderr",
       "text": [
        "WARNING:main_logger:Percentage of missing values 0.92975 is greater than threshold: 0.5. Executing erase featurizer.\n"
       ]
      },
      {
       "output_type": "stream",
       "stream": "stderr",
       "text": [
        "WARNING:main_logger:Processing column: RECP3\n"
       ]
      },
      {
       "output_type": "stream",
       "stream": "stderr",
       "text": [
        "WARNING:main_logger:Percentage of missing values 0.97886 is greater than threshold: 0.5. Executing erase featurizer.\n"
       ]
      },
      {
       "output_type": "stream",
       "stream": "stderr",
       "text": [
        "WARNING:main_logger:Processing column: RECPGVG\n"
       ]
      },
      {
       "output_type": "stream",
       "stream": "stderr",
       "text": [
        "WARNING:main_logger:Percentage of missing values 0.99881 is greater than threshold: 0.5. Executing erase featurizer.\n"
       ]
      },
      {
       "output_type": "stream",
       "stream": "stderr",
       "text": [
        "WARNING:main_logger:Processing column: RECSWEEP\n"
       ]
      },
      {
       "output_type": "stream",
       "stream": "stderr",
       "text": [
        "WARNING:main_logger:Percentage of missing values 0.98305 is greater than threshold: 0.5. Executing erase featurizer.\n"
       ]
      },
      {
       "output_type": "stream",
       "stream": "stderr",
       "text": [
        "WARNING:main_logger:Processing column: MDMAUD\n"
       ]
      },
      {
       "output_type": "stream",
       "stream": "stderr",
       "text": [
        "WARNING:main_logger:Found 28 unique values, which is greater than threshold 10; executing risk table featurizer.\n"
       ]
      },
      {
       "output_type": "stream",
       "stream": "stderr",
       "text": [
        "WARNING:main_logger:Processing column: DOMAIN\n"
       ]
      },
      {
       "output_type": "stream",
       "stream": "stderr",
       "text": [
        "WARNING:main_logger:Found 17 unique values, which is greater than threshold 10; executing risk table featurizer.\n"
       ]
      },
      {
       "output_type": "stream",
       "stream": "stderr",
       "text": [
        "WARNING:main_logger:Processing column: CLUSTER\n"
       ]
      },
      {
       "output_type": "stream",
       "stream": "stderr",
       "text": [
        "WARNING:main_logger:Found 54 unique values, which is greater than threshold 10; executing risk table featurizer.\n"
       ]
      },
      {
       "output_type": "stream",
       "stream": "stderr",
       "text": [
        "WARNING:main_logger:Processing column: AGEFLAG\n"
       ]
      },
      {
       "output_type": "stream",
       "stream": "stderr",
       "text": [
        "WARNING:main_logger:Found 3 unique values, which is less than threshold 10; executing hot1 encoding featurizer.\n"
       ]
      },
      {
       "output_type": "stream",
       "stream": "stderr",
       "text": [
        "WARNING:main_logger:Processing column: HOMEOWNR\n"
       ]
      },
      {
       "output_type": "stream",
       "stream": "stderr",
       "text": [
        "WARNING:main_logger:Found 3 unique values, which is less than threshold 10; executing hot1 encoding featurizer.\n"
       ]
      },
      {
       "output_type": "stream",
       "stream": "stderr",
       "text": [
        "WARNING:main_logger:Processing column: CHILD03\n"
       ]
      },
      {
       "output_type": "stream",
       "stream": "stderr",
       "text": [
        "WARNING:main_logger:Percentage of missing values 0.98799 is greater than threshold: 0.5. Executing erase featurizer.\n"
       ]
      },
      {
       "output_type": "stream",
       "stream": "stderr",
       "text": [
        "WARNING:main_logger:Processing column: CHILD07\n"
       ]
      },
      {
       "output_type": "stream",
       "stream": "stderr",
       "text": [
        "WARNING:main_logger:Percentage of missing values 0.98359 is greater than threshold: 0.5. Executing erase featurizer.\n"
       ]
      },
      {
       "output_type": "stream",
       "stream": "stderr",
       "text": [
        "WARNING:main_logger:Processing column: CHILD12\n"
       ]
      },
      {
       "output_type": "stream",
       "stream": "stderr",
       "text": [
        "WARNING:main_logger:Percentage of missing values 0.98102 is greater than threshold: 0.5. Executing erase featurizer.\n"
       ]
      },
      {
       "output_type": "stream",
       "stream": "stderr",
       "text": [
        "WARNING:main_logger:Processing column: CHILD18\n"
       ]
      },
      {
       "output_type": "stream",
       "stream": "stderr",
       "text": [
        "WARNING:main_logger:Percentage of missing values 0.97016 is greater than threshold: 0.5. Executing erase featurizer.\n"
       ]
      },
      {
       "output_type": "stream",
       "stream": "stderr",
       "text": [
        "WARNING:main_logger:Processing column: GENDER\n"
       ]
      },
      {
       "output_type": "stream",
       "stream": "stderr",
       "text": [
        "WARNING:main_logger:Found 7 unique values, which is less than threshold 10; executing hot1 encoding featurizer.\n"
       ]
      },
      {
       "output_type": "stream",
       "stream": "stderr",
       "text": [
        "WARNING:main_logger:Processing column: DATASRCE\n"
       ]
      },
      {
       "output_type": "stream",
       "stream": "stderr",
       "text": [
        "WARNING:main_logger:Found 4 unique values, which is less than threshold 10; executing hot1 encoding featurizer.\n"
       ]
      },
      {
       "output_type": "stream",
       "stream": "stderr",
       "text": [
        "WARNING:main_logger:Processing column: SOLP3\n"
       ]
      },
      {
       "output_type": "stream",
       "stream": "stderr",
       "text": [
        "WARNING:main_logger:Percentage of missing values 0.99811 is greater than threshold: 0.5. Executing erase featurizer.\n"
       ]
      },
      {
       "output_type": "stream",
       "stream": "stderr",
       "text": [
        "WARNING:main_logger:Processing column: SOLIH\n"
       ]
      },
      {
       "output_type": "stream",
       "stream": "stderr",
       "text": [
        "WARNING:main_logger:Percentage of missing values 0.93502 is greater than threshold: 0.5. Executing erase featurizer.\n"
       ]
      },
      {
       "output_type": "stream",
       "stream": "stderr",
       "text": [
        "WARNING:main_logger:Processing column: MAJOR\n"
       ]
      },
      {
       "output_type": "stream",
       "stream": "stderr",
       "text": [
        "WARNING:main_logger:Percentage of missing values 0.99692 is greater than threshold: 0.5. Executing erase featurizer.\n"
       ]
      },
      {
       "output_type": "stream",
       "stream": "stderr",
       "text": [
        "WARNING:main_logger:Processing column: GEOCODE\n"
       ]
      },
      {
       "output_type": "stream",
       "stream": "stderr",
       "text": [
        "WARNING:main_logger:Percentage of missing values 0.84023 is greater than threshold: 0.5. Executing erase featurizer.\n"
       ]
      },
      {
       "output_type": "stream",
       "stream": "stderr",
       "text": [
        "WARNING:main_logger:Processing column: COLLECT1\n"
       ]
      },
      {
       "output_type": "stream",
       "stream": "stderr",
       "text": [
        "WARNING:main_logger:Percentage of missing values 0.94548 is greater than threshold: 0.5. Executing erase featurizer.\n"
       ]
      },
      {
       "output_type": "stream",
       "stream": "stderr",
       "text": [
        "WARNING:main_logger:Processing column: VETERANS\n"
       ]
      },
      {
       "output_type": "stream",
       "stream": "stderr",
       "text": [
        "WARNING:main_logger:Percentage of missing values 0.89073 is greater than threshold: 0.5. Executing erase featurizer.\n"
       ]
      },
      {
       "output_type": "stream",
       "stream": "stderr",
       "text": [
        "WARNING:main_logger:Processing column: BIBLE\n"
       ]
      },
      {
       "output_type": "stream",
       "stream": "stderr",
       "text": [
        "WARNING:main_logger:Percentage of missing values 0.90702 is greater than threshold: 0.5. Executing erase featurizer.\n"
       ]
      },
      {
       "output_type": "stream",
       "stream": "stderr",
       "text": [
        "WARNING:main_logger:Processing column: CATLG\n"
       ]
      },
      {
       "output_type": "stream",
       "stream": "stderr",
       "text": [
        "WARNING:main_logger:Percentage of missing values 0.91757 is greater than threshold: 0.5. Executing erase featurizer.\n"
       ]
      },
      {
       "output_type": "stream",
       "stream": "stderr",
       "text": [
        "WARNING:main_logger:Processing column: HOMEE\n"
       ]
      },
      {
       "output_type": "stream",
       "stream": "stderr",
       "text": [
        "WARNING:main_logger:Percentage of missing values 0.9907 is greater than threshold: 0.5. Executing erase featurizer.\n"
       ]
      },
      {
       "output_type": "stream",
       "stream": "stderr",
       "text": [
        "WARNING:main_logger:Processing column: PETS\n"
       ]
      },
      {
       "output_type": "stream",
       "stream": "stderr",
       "text": [
        "WARNING:main_logger:Percentage of missing values 0.84985 is greater than threshold: 0.5. Executing erase featurizer.\n"
       ]
      },
      {
       "output_type": "stream",
       "stream": "stderr",
       "text": [
        "WARNING:main_logger:Processing column: CDPLAY\n"
       ]
      },
      {
       "output_type": "stream",
       "stream": "stderr",
       "text": [
        "WARNING:main_logger:Percentage of missing values 0.87157 is greater than threshold: 0.5. Executing erase featurizer.\n"
       ]
      },
      {
       "output_type": "stream",
       "stream": "stderr",
       "text": [
        "WARNING:main_logger:Processing column: STEREO\n"
       ]
      },
      {
       "output_type": "stream",
       "stream": "stderr",
       "text": [
        "WARNING:main_logger:Percentage of missing values 0.86591 is greater than threshold: 0.5. Executing erase featurizer.\n"
       ]
      },
      {
       "output_type": "stream",
       "stream": "stderr",
       "text": [
        "WARNING:main_logger:Processing column: PCOWNERS\n"
       ]
      },
      {
       "output_type": "stream",
       "stream": "stderr",
       "text": [
        "WARNING:main_logger:Percentage of missing values 0.89015 is greater than threshold: 0.5. Executing erase featurizer.\n"
       ]
      },
      {
       "output_type": "stream",
       "stream": "stderr",
       "text": [
        "WARNING:main_logger:Processing column: PHOTO\n"
       ]
      },
      {
       "output_type": "stream",
       "stream": "stderr",
       "text": [
        "WARNING:main_logger:Percentage of missing values 0.94984 is greater than threshold: 0.5. Executing erase featurizer.\n"
       ]
      },
      {
       "output_type": "stream",
       "stream": "stderr",
       "text": [
        "WARNING:main_logger:Processing column: CRAFTS\n"
       ]
      },
      {
       "output_type": "stream",
       "stream": "stderr",
       "text": [
        "WARNING:main_logger:Percentage of missing values 0.91431 is greater than threshold: 0.5. Executing erase featurizer.\n"
       ]
      },
      {
       "output_type": "stream",
       "stream": "stderr",
       "text": [
        "WARNING:main_logger:Processing column: FISHER\n"
       ]
      },
      {
       "output_type": "stream",
       "stream": "stderr",
       "text": [
        "WARNING:main_logger:Percentage of missing values 0.92527 is greater than threshold: 0.5. Executing erase featurizer.\n"
       ]
      },
      {
       "output_type": "stream",
       "stream": "stderr",
       "text": [
        "WARNING:main_logger:Processing column: GARDENIN\n"
       ]
      },
      {
       "output_type": "stream",
       "stream": "stderr",
       "text": [
        "WARNING:main_logger:Percentage of missing values 0.85954 is greater than threshold: 0.5. Executing erase featurizer.\n"
       ]
      },
      {
       "output_type": "stream",
       "stream": "stderr",
       "text": [
        "WARNING:main_logger:Processing column: BOATS\n"
       ]
      },
      {
       "output_type": "stream",
       "stream": "stderr",
       "text": [
        "WARNING:main_logger:Percentage of missing values 0.97874 is greater than threshold: 0.5. Executing erase featurizer.\n"
       ]
      },
      {
       "output_type": "stream",
       "stream": "stderr",
       "text": [
        "WARNING:main_logger:Processing column: WALKER\n"
       ]
      },
      {
       "output_type": "stream",
       "stream": "stderr",
       "text": [
        "WARNING:main_logger:Percentage of missing values 0.88994 is greater than threshold: 0.5. Executing erase featurizer.\n"
       ]
      },
      {
       "output_type": "stream",
       "stream": "stderr",
       "text": [
        "WARNING:main_logger:Processing column: KIDSTUFF\n"
       ]
      },
      {
       "output_type": "stream",
       "stream": "stderr",
       "text": [
        "WARNING:main_logger:Percentage of missing values 0.9839 is greater than threshold: 0.5. Executing erase featurizer.\n"
       ]
      },
      {
       "output_type": "stream",
       "stream": "stderr",
       "text": [
        "WARNING:main_logger:Processing column: CARDS\n"
       ]
      },
      {
       "output_type": "stream",
       "stream": "stderr",
       "text": [
        "WARNING:main_logger:Percentage of missing values 0.98909 is greater than threshold: 0.5. Executing erase featurizer.\n"
       ]
      },
      {
       "output_type": "stream",
       "stream": "stderr",
       "text": [
        "WARNING:main_logger:Processing column: PLATES\n"
       ]
      },
      {
       "output_type": "stream",
       "stream": "stderr",
       "text": [
        "WARNING:main_logger:Percentage of missing values 0.99413 is greater than threshold: 0.5. Executing erase featurizer.\n"
       ]
      },
      {
       "output_type": "stream",
       "stream": "stderr",
       "text": [
        "WARNING:main_logger:Processing column: LIFESRC\n"
       ]
      },
      {
       "output_type": "stream",
       "stream": "stderr",
       "text": [
        "WARNING:main_logger:Percentage of missing values 0.5663 is greater than threshold: 0.5. Executing erase featurizer.\n"
       ]
      },
      {
       "output_type": "stream",
       "stream": "stderr",
       "text": [
        "WARNING:main_logger:Processing column: PEPSTRFL\n"
       ]
      },
      {
       "output_type": "stream",
       "stream": "stderr",
       "text": [
        "WARNING:main_logger:Percentage of missing values 0.52554 is greater than threshold: 0.5. Executing erase featurizer.\n"
       ]
      },
      {
       "output_type": "stream",
       "stream": "stderr",
       "text": [
        "WARNING:main_logger:Processing column: RFA_2\n"
       ]
      },
      {
       "output_type": "stream",
       "stream": "stderr",
       "text": [
        "WARNING:main_logger:Executing regex contains featurizer using regular expression ^L1|^L2\n"
       ]
      },
      {
       "output_type": "stream",
       "stream": "stderr",
       "text": [
        "WARNING:main_logger:Processing column: RFA_3\n"
       ]
      },
      {
       "output_type": "stream",
       "stream": "stderr",
       "text": [
        "WARNING:main_logger:Executing regex contains featurizer using regular expression ^A1|^A2\n"
       ]
      },
      {
       "output_type": "stream",
       "stream": "stderr",
       "text": [
        "WARNING:main_logger:Processing column: RFA_4\n"
       ]
      },
      {
       "output_type": "stream",
       "stream": "stderr",
       "text": [
        "WARNING:main_logger:Found 64 unique values, which is greater than threshold 10; executing risk table featurizer.\n"
       ]
      },
      {
       "output_type": "stream",
       "stream": "stderr",
       "text": [
        "WARNING:main_logger:Processing column: RFA_5\n"
       ]
      },
      {
       "output_type": "stream",
       "stream": "stderr",
       "text": [
        "WARNING:main_logger:Found 41 unique values, which is greater than threshold 10; executing risk table featurizer.\n"
       ]
      },
      {
       "output_type": "stream",
       "stream": "stderr",
       "text": [
        "WARNING:main_logger:Processing column: RFA_6\n"
       ]
      },
      {
       "output_type": "stream",
       "stream": "stderr",
       "text": [
        "WARNING:main_logger:Found 109 unique values, which is greater than threshold 10; executing risk table featurizer.\n"
       ]
      },
      {
       "output_type": "stream",
       "stream": "stderr",
       "text": [
        "WARNING:main_logger:Processing column: RFA_7\n"
       ]
      },
      {
       "output_type": "stream",
       "stream": "stderr",
       "text": [
        "WARNING:main_logger:Found 106 unique values, which is greater than threshold 10; executing risk table featurizer.\n"
       ]
      },
      {
       "output_type": "stream",
       "stream": "stderr",
       "text": [
        "WARNING:main_logger:Processing column: RFA_8\n"
       ]
      },
      {
       "output_type": "stream",
       "stream": "stderr",
       "text": [
        "WARNING:main_logger:Found 109 unique values, which is greater than threshold 10; executing risk table featurizer.\n"
       ]
      },
      {
       "output_type": "stream",
       "stream": "stderr",
       "text": [
        "WARNING:main_logger:Processing column: RFA_9\n"
       ]
      },
      {
       "output_type": "stream",
       "stream": "stderr",
       "text": [
        "WARNING:main_logger:Found 107 unique values, which is greater than threshold 10; executing risk table featurizer.\n"
       ]
      },
      {
       "output_type": "stream",
       "stream": "stderr",
       "text": [
        "WARNING:main_logger:Processing column: RFA_10\n"
       ]
      },
      {
       "output_type": "stream",
       "stream": "stderr",
       "text": [
        "WARNING:main_logger:Found 94 unique values, which is greater than threshold 10; executing risk table featurizer.\n"
       ]
      },
      {
       "output_type": "stream",
       "stream": "stderr",
       "text": [
        "WARNING:main_logger:Processing column: RFA_11\n"
       ]
      },
      {
       "output_type": "stream",
       "stream": "stderr",
       "text": [
        "WARNING:main_logger:Found 101 unique values, which is greater than threshold 10; executing risk table featurizer.\n"
       ]
      },
      {
       "output_type": "stream",
       "stream": "stderr",
       "text": [
        "WARNING:main_logger:Processing column: RFA_12\n"
       ]
      },
      {
       "output_type": "stream",
       "stream": "stderr",
       "text": [
        "WARNING:main_logger:Found 107 unique values, which is greater than threshold 10; executing risk table featurizer.\n"
       ]
      },
      {
       "output_type": "stream",
       "stream": "stderr",
       "text": [
        "WARNING:main_logger:Processing column: RFA_13\n"
       ]
      },
      {
       "output_type": "stream",
       "stream": "stderr",
       "text": [
        "WARNING:main_logger:Found 87 unique values, which is greater than threshold 10; executing risk table featurizer.\n"
       ]
      },
      {
       "output_type": "stream",
       "stream": "stderr",
       "text": [
        "WARNING:main_logger:Processing column: RFA_14\n"
       ]
      },
      {
       "output_type": "stream",
       "stream": "stderr",
       "text": [
        "WARNING:main_logger:Found 95 unique values, which is greater than threshold 10; executing risk table featurizer.\n"
       ]
      },
      {
       "output_type": "stream",
       "stream": "stderr",
       "text": [
        "WARNING:main_logger:Processing column: RFA_15\n"
       ]
      },
      {
       "output_type": "stream",
       "stream": "stderr",
       "text": [
        "WARNING:main_logger:Percentage of missing values 0.68626 is greater than threshold: 0.5. Executing erase featurizer.\n"
       ]
      },
      {
       "output_type": "stream",
       "stream": "stderr",
       "text": [
        "WARNING:main_logger:Processing column: RFA_16\n"
       ]
      },
      {
       "output_type": "stream",
       "stream": "stderr",
       "text": [
        "WARNING:main_logger:Found 123 unique values, which is greater than threshold 10; executing risk table featurizer.\n"
       ]
      },
      {
       "output_type": "stream",
       "stream": "stderr",
       "text": [
        "WARNING:main_logger:Processing column: RFA_17\n"
       ]
      },
      {
       "output_type": "stream",
       "stream": "stderr",
       "text": [
        "WARNING:main_logger:Found 118 unique values, which is greater than threshold 10; executing risk table featurizer.\n"
       ]
      },
      {
       "output_type": "stream",
       "stream": "stderr",
       "text": [
        "WARNING:main_logger:Processing column: RFA_18\n"
       ]
      },
      {
       "output_type": "stream",
       "stream": "stderr",
       "text": [
        "WARNING:main_logger:Found 122 unique values, which is greater than threshold 10; executing risk table featurizer.\n"
       ]
      },
      {
       "output_type": "stream",
       "stream": "stderr",
       "text": [
        "WARNING:main_logger:Processing column: RFA_19\n"
       ]
      },
      {
       "output_type": "stream",
       "stream": "stderr",
       "text": [
        "WARNING:main_logger:Found 108 unique values, which is greater than threshold 10; executing risk table featurizer.\n"
       ]
      },
      {
       "output_type": "stream",
       "stream": "stderr",
       "text": [
        "WARNING:main_logger:Processing column: RFA_20\n"
       ]
      },
      {
       "output_type": "stream",
       "stream": "stderr",
       "text": [
        "WARNING:main_logger:Percentage of missing values 0.52614 is greater than threshold: 0.5. Executing erase featurizer.\n"
       ]
      },
      {
       "output_type": "stream",
       "stream": "stderr",
       "text": [
        "WARNING:main_logger:Processing column: RFA_21\n"
       ]
      },
      {
       "output_type": "stream",
       "stream": "stderr",
       "text": [
        "WARNING:main_logger:Found 102 unique values, which is greater than threshold 10; executing risk table featurizer.\n"
       ]
      },
      {
       "output_type": "stream",
       "stream": "stderr",
       "text": [
        "WARNING:main_logger:Processing column: RFA_22\n"
       ]
      },
      {
       "output_type": "stream",
       "stream": "stderr",
       "text": [
        "WARNING:main_logger:Found 117 unique values, which is greater than threshold 10; executing risk table featurizer.\n"
       ]
      },
      {
       "output_type": "stream",
       "stream": "stderr",
       "text": [
        "WARNING:main_logger:Processing column: RFA_23\n"
       ]
      },
      {
       "output_type": "stream",
       "stream": "stderr",
       "text": [
        "WARNING:main_logger:Percentage of missing values 0.5898 is greater than threshold: 0.5. Executing erase featurizer.\n"
       ]
      },
      {
       "output_type": "stream",
       "stream": "stderr",
       "text": [
        "WARNING:main_logger:Processing column: RFA_24\n"
       ]
      },
      {
       "output_type": "stream",
       "stream": "stderr",
       "text": [
        "WARNING:main_logger:Found 97 unique values, which is greater than threshold 10; executing risk table featurizer.\n"
       ]
      },
      {
       "output_type": "stream",
       "stream": "stderr",
       "text": [
        "WARNING:main_logger:Processing column: RFA_2R\n"
       ]
      },
      {
       "output_type": "stream",
       "stream": "stderr",
       "text": [
        "WARNING:main_logger:Found 1 unique values, which is less than threshold 10; executing hot1 encoding featurizer.\n"
       ]
      },
      {
       "output_type": "stream",
       "stream": "stderr",
       "text": [
        "WARNING:main_logger:Processing column: RFA_2F\n"
       ]
      },
      {
       "output_type": "stream",
       "stream": "stderr",
       "text": [
        "WARNING:main_logger:Percentage of missing values 1.0 is greater than threshold: 0.5. Executing erase featurizer.\n"
       ]
      },
      {
       "output_type": "stream",
       "stream": "stderr",
       "text": [
        "WARNING:main_logger:Processing column: RFA_2A\n"
       ]
      },
      {
       "output_type": "stream",
       "stream": "stderr",
       "text": [
        "WARNING:main_logger:Found 4 unique values, which is less than threshold 10; executing hot1 encoding featurizer.\n"
       ]
      },
      {
       "output_type": "stream",
       "stream": "stderr",
       "text": [
        "WARNING:main_logger:Processing column: MDMAUD_R\n"
       ]
      },
      {
       "output_type": "stream",
       "stream": "stderr",
       "text": [
        "WARNING:main_logger:Found 5 unique values, which is less than threshold 10; executing hot1 encoding featurizer.\n"
       ]
      },
      {
       "output_type": "stream",
       "stream": "stderr",
       "text": [
        "WARNING:main_logger:Processing column: MDMAUD_F\n"
       ]
      },
      {
       "output_type": "stream",
       "stream": "stderr",
       "text": [
        "WARNING:main_logger:Found 4 unique values, which is less than threshold 10; executing hot1 encoding featurizer.\n"
       ]
      },
      {
       "output_type": "stream",
       "stream": "stderr",
       "text": [
        "WARNING:main_logger:Processing column: MDMAUD_A\n"
       ]
      },
      {
       "output_type": "stream",
       "stream": "stderr",
       "text": [
        "WARNING:main_logger:Found 5 unique values, which is less than threshold 10; executing hot1 encoding featurizer.\n"
       ]
      },
      {
       "output_type": "stream",
       "stream": "stderr",
       "text": [
        "WARNING:main_logger:Processing column: GEOCODE2\n"
       ]
      },
      {
       "output_type": "stream",
       "stream": "stderr",
       "text": [
        "WARNING:main_logger:Found 5 unique values, which is less than threshold 10; executing hot1 encoding featurizer.\n"
       ]
      },
      {
       "output_type": "stream",
       "stream": "stderr",
       "text": [
        "WARNING:main_logger:Performed 75 featurizers\n"
       ]
      },
      {
       "output_type": "stream",
       "stream": "stdout",
       "text": [
        "<class 'pandas.core.frame.DataFrame'>\n",
        "Int64Index: 95412 entries, 0 to 95411\n",
        "Columns: 464 entries, ODATEDW to Field_nan\n",
        "dtypes: float64(96), int64(344), object(24)"
       ]
      }
     ],
     "prompt_number": 30
    },
    {
     "cell_type": "markdown",
     "metadata": {},
     "source": [
      "Now that learn_y contains *only* numeric columns, we wish to normalize all features so that they all have similar ranges of values.  To do this we apply the [Z-transform](http://en.wikipedia.org/wiki/Standard_score).  Apply this independently to all columns in the data set.  This is the whitening transofrm used by the PCA model in the iris notebook."
     ]
    },
    {
     "cell_type": "code",
     "collapsed": false,
     "input": [
      "for c in m_df.columns:\n",
      "    print \"Name= {}, Column Info={}\".format(c, m_df[c].describe())"
     ],
     "language": "python",
     "metadata": {},
     "outputs": [
      {
       "output_type": "stream",
       "stream": "stdout",
       "text": [
        "Name= ODATEDW, Column Info=count    95412.000000\n",
        "mean      9141.363256\n",
        "std        343.454752\n",
        "min       8306.000000\n",
        "25%       8801.000000\n",
        "50%       9201.000000\n",
        "75%       9501.000000\n",
        "max       9701.000000\n",
        "dtype: float64\n",
        "Name= OSOURCE, Column Info=count     95412.000000\n",
        "unique      210.000000\n",
        "top           0.050452\n",
        "freq       4539.000000\n",
        "dtype: float64\n",
        "Name= TCODE, Column Info=count    95412.000000\n",
        "mean        54.223117\n",
        "std        953.844476\n",
        "min          0.000000\n",
        "25%          0.000000\n",
        "50%          1.000000\n",
        "75%          2.000000\n",
        "max      72002.000000\n",
        "dtype: float64\n",
        "Name= STATE, Column Info=count     95412.000000\n",
        "unique       48.000000\n",
        "top           0.061062\n",
        "freq      17343.000000\n",
        "dtype: float64\n",
        "Name= ZIP, Column Info=count     95412\n",
        "unique      108\n",
        "top           0\n",
        "freq      54615\n",
        "dtype: float64"
       ]
      },
      {
       "output_type": "stream",
       "stream": "stdout",
       "text": [
        "\n",
        "Name= DOB, Column Info=count    95412.000000\n",
        "mean      2723.602933\n",
        "std       2132.241295\n",
        "min          0.000000\n",
        "25%        201.000000\n",
        "50%       2610.000000\n",
        "75%       4601.000000\n",
        "max       9710.000000\n",
        "dtype: float64\n",
        "Name= MDMAUD, Column Info=count     95412.000000\n",
        "unique       10.000000\n",
        "top           0.050758\n",
        "freq      95118.000000\n",
        "dtype: float64\n",
        "Name= DOMAIN, Column Info=count     95412.000000\n",
        "unique       17.000000\n",
        "top           0.045291\n",
        "freq      13623.000000\n",
        "dtype: float64\n",
        "Name= CLUSTER, Column Info=count     95412.00000\n",
        "unique       54.00000\n",
        "top           0.05906\n",
        "freq       3979.00000\n",
        "dtype: float64\n",
        "Name= AGE, Column Info=count    71747.000000\n",
        "mean        61.611649\n",
        "std         16.664199\n",
        "min          1.000000\n",
        "25%         48.000000\n",
        "50%         62.000000\n",
        "75%         75.000000\n",
        "max         98.000000\n",
        "dtype: float64"
       ]
      },
      {
       "output_type": "stream",
       "stream": "stdout",
       "text": [
        "\n",
        "Name= NUMCHLD, Column Info=count    12386.000000\n",
        "mean         1.527773\n",
        "std          0.806861\n",
        "min          1.000000\n",
        "25%          1.000000\n",
        "50%          1.000000\n",
        "75%          2.000000\n",
        "max          7.000000\n",
        "dtype: float64\n",
        "Name= INCOME, Column Info=count    74126.000000\n",
        "mean         3.886248\n",
        "std          1.854960\n",
        "min          1.000000\n",
        "25%          2.000000\n",
        "50%          4.000000\n",
        "75%          5.000000\n",
        "max          7.000000\n",
        "dtype: float64\n",
        "Name= WEALTH1, Column Info=count    50680.000000\n",
        "mean         5.345699\n",
        "std          2.742490\n",
        "min          0.000000\n",
        "25%          3.000000\n",
        "50%          6.000000\n",
        "75%          8.000000\n",
        "max          9.000000\n",
        "dtype: float64\n",
        "Name= HIT, Column Info=count    95412.000000\n",
        "mean         3.321438\n",
        "std          9.306899\n",
        "min          0.000000\n",
        "25%          0.000000\n",
        "50%          0.000000\n",
        "75%          3.000000\n",
        "max        241.000000\n",
        "dtype: float64\n",
        "Name= MBCRAFT, Column Info=count    42558.000000\n",
        "mean         0.152075\n",
        "std          0.470023\n",
        "min          0.000000\n",
        "25%          0.000000\n",
        "50%          0.000000\n",
        "75%          0.000000\n",
        "max          6.000000\n",
        "dtype: float64"
       ]
      },
      {
       "output_type": "stream",
       "stream": "stdout",
       "text": [
        "\n",
        "Name= MBGARDEN, Column Info=count    42558.000000\n",
        "mean         0.059166\n",
        "std          0.262078\n",
        "min          0.000000\n",
        "25%          0.000000\n",
        "50%          0.000000\n",
        "75%          0.000000\n",
        "max          4.000000\n",
        "dtype: float64\n",
        "Name= MBBOOKS, Column Info=count    42558.000000\n",
        "mean         1.116382\n",
        "std          1.669967\n",
        "min          0.000000\n",
        "25%          0.000000\n",
        "50%          0.000000\n",
        "75%          2.000000\n",
        "max          9.000000\n",
        "dtype: float64\n",
        "Name= MBCOLECT, Column Info=count    42498.000000\n",
        "mean         0.063932\n",
        "std          0.297344\n",
        "min          0.000000\n",
        "25%          0.000000\n",
        "50%          0.000000\n",
        "75%          0.000000\n",
        "max          6.000000\n",
        "dtype: float64\n",
        "Name= MAGFAML, Column Info=count    42558.000000\n",
        "mean         0.448329\n",
        "std          0.821010\n",
        "min          0.000000\n",
        "25%          0.000000\n",
        "50%          0.000000\n",
        "75%          1.000000\n",
        "max          9.000000\n",
        "dtype: float64"
       ]
      },
      {
       "output_type": "stream",
       "stream": "stdout",
       "text": [
        "\n",
        "Name= MAGFEM, Column Info=count    42558.000000\n",
        "mean         0.126322\n",
        "std          0.380916\n",
        "min          0.000000\n",
        "25%          0.000000\n",
        "50%          0.000000\n",
        "75%          0.000000\n",
        "max          5.000000\n",
        "dtype: float64\n",
        "Name= MAGMALE, Column Info=count    42558.000000\n",
        "mean         0.065722\n",
        "std          0.276398\n",
        "min          0.000000\n",
        "25%          0.000000\n",
        "50%          0.000000\n",
        "75%          0.000000\n",
        "max          4.000000\n",
        "dtype: float64\n",
        "Name= PUBGARDN, Column Info=count    42558.000000\n",
        "mean         0.141806\n",
        "std          0.490414\n",
        "min          0.000000\n",
        "25%          0.000000\n",
        "50%          0.000000\n",
        "75%          0.000000\n",
        "max          5.000000\n",
        "dtype: float64\n",
        "Name= PUBCULIN, Column Info=count    42558.000000\n",
        "mean         0.145237\n",
        "std          0.427822\n",
        "min          0.000000\n",
        "25%          0.000000\n",
        "50%          0.000000\n",
        "75%          0.000000\n",
        "max          6.000000\n",
        "dtype: float64\n",
        "Name= PUBHLTH, Column Info=count    42558.000000\n",
        "mean         0.714484\n",
        "std          1.249891\n",
        "min          0.000000\n",
        "25%          0.000000\n",
        "50%          0.000000\n",
        "75%          1.000000\n",
        "max          9.000000\n",
        "dtype: float64"
       ]
      },
      {
       "output_type": "stream",
       "stream": "stdout",
       "text": [
        "\n",
        "Name= PUBDOITY, Column Info=count    42558.000000\n",
        "mean         0.237723\n",
        "std          0.728572\n",
        "min          0.000000\n",
        "25%          0.000000\n",
        "50%          0.000000\n",
        "75%          0.000000\n",
        "max          8.000000\n",
        "dtype: float64\n",
        "Name= PUBNEWFN, Column Info=count    42558.000000\n",
        "mean         0.376239\n",
        "std          0.959573\n",
        "min          0.000000\n",
        "25%          0.000000\n",
        "50%          0.000000\n",
        "75%          0.000000\n",
        "max          9.000000\n",
        "dtype: float64\n",
        "Name= PUBPHOTO, Column Info=count    42558.000000\n",
        "mean         0.005874\n",
        "std          0.077942\n",
        "min          0.000000\n",
        "25%          0.000000\n",
        "50%          0.000000\n",
        "75%          0.000000\n",
        "max          2.000000\n",
        "dtype: float64\n",
        "Name= PUBOPP, Column Info=count    42558.000000\n",
        "mean         0.237558\n",
        "std          0.878639\n",
        "min          0.000000\n",
        "25%          0.000000\n",
        "50%          0.000000\n",
        "75%          0.000000\n",
        "max          9.000000\n",
        "dtype: float64\n",
        "Name= MALEMILI, Column Info=count    95412.000000\n",
        "mean         1.048443\n",
        "std          5.065522\n",
        "min          0.000000\n",
        "25%          0.000000\n",
        "50%          0.000000\n",
        "75%          0.000000\n",
        "max         99.000000\n",
        "dtype: float64"
       ]
      },
      {
       "output_type": "stream",
       "stream": "stdout",
       "text": [
        "\n",
        "Name= MALEVET, Column Info=count    95412.000000\n",
        "mean        30.445332\n",
        "std         11.470554\n",
        "min          0.000000\n",
        "25%         24.000000\n",
        "50%         31.000000\n",
        "75%         37.000000\n",
        "max         99.000000\n",
        "dtype: float64\n",
        "Name= VIETVETS, Column Info=count    95412.000000\n",
        "mean        29.702312\n",
        "std         15.097752\n",
        "min          0.000000\n",
        "25%         20.000000\n",
        "50%         29.000000\n",
        "75%         39.000000\n",
        "max         99.000000\n",
        "dtype: float64\n",
        "Name= WWIIVETS, Column Info=count    95412.000000\n",
        "mean        32.637719\n",
        "std         17.709065\n",
        "min          0.000000\n",
        "25%         21.000000\n",
        "50%         32.000000\n",
        "75%         43.000000\n",
        "max         99.000000\n",
        "dtype: float64\n",
        "Name= LOCALGOV, Column Info=count    95412.000000\n",
        "mean         6.842326\n",
        "std          4.391699\n",
        "min          0.000000\n",
        "25%          4.000000\n",
        "50%          6.000000\n",
        "75%          9.000000\n",
        "max         99.000000\n",
        "dtype: float64\n",
        "Name= STATEGOV, Column Info=count    95412.000000\n",
        "mean         4.568566\n",
        "std          5.126618\n",
        "min          0.000000\n",
        "25%          1.000000\n",
        "50%          3.000000\n",
        "75%          6.000000\n",
        "max         99.000000\n",
        "dtype: float64"
       ]
      },
      {
       "output_type": "stream",
       "stream": "stdout",
       "text": [
        "\n",
        "Name= FEDGOV, Column Info=count    95412.000000\n",
        "mean         3.110867\n",
        "std          4.155168\n",
        "min          0.000000\n",
        "25%          1.000000\n",
        "50%          2.000000\n",
        "75%          4.000000\n",
        "max         87.000000\n",
        "dtype: float64\n",
        "Name= WEALTH2, Column Info=count    51589.000000\n",
        "mean         4.954525\n",
        "std          2.802759\n",
        "min          0.000000\n",
        "25%          3.000000\n",
        "50%          5.000000\n",
        "75%          7.000000\n",
        "max          9.000000\n",
        "dtype: float64\n",
        "Name= POP901, Column Info=count    95412.000000\n",
        "mean      3255.880204\n",
        "std       5743.217266\n",
        "min          0.000000\n",
        "25%        990.000000\n",
        "50%       1565.000000\n",
        "75%       3091.000000\n",
        "max      98701.000000\n",
        "dtype: float64\n",
        "Name= POP902, Column Info=count    95412.000000\n",
        "mean       864.993083\n",
        "std       1458.103434\n",
        "min          0.000000\n",
        "25%        265.000000\n",
        "50%        421.000000\n",
        "75%        840.000000\n",
        "max      23766.000000\n",
        "dtype: float64\n",
        "Name= POP903, Column Info=count    95412.000000\n",
        "mean      1222.573460\n",
        "std       2123.096242\n",
        "min          0.000000\n",
        "25%        377.000000\n",
        "50%        585.000000\n",
        "75%       1165.000000\n",
        "max      35403.000000\n",
        "dtype: float64"
       ]
      },
      {
       "output_type": "stream",
       "stream": "stdout",
       "text": [
        "\n",
        "Name= POP90C1, Column Info=count    95412.000000\n",
        "mean        58.589653\n",
        "std         47.430774\n",
        "min          0.000000\n",
        "25%          0.000000\n",
        "50%         99.000000\n",
        "75%         99.000000\n",
        "max         99.000000\n",
        "dtype: float64\n",
        "Name= POP90C2, Column Info=count    95412.000000\n",
        "mean        13.622479\n",
        "std         31.222078\n",
        "min          0.000000\n",
        "25%          0.000000\n",
        "50%          0.000000\n",
        "75%          0.000000\n",
        "max         99.000000\n",
        "dtype: float64\n",
        "Name= POP90C3, Column Info=count    95412.000000\n",
        "mean        26.140527\n",
        "std         40.037855\n",
        "min          0.000000\n",
        "25%          0.000000\n",
        "50%          0.000000\n",
        "75%         52.000000\n",
        "max         99.000000\n",
        "dtype: float64\n",
        "Name= POP90C4, Column Info=count    95412.000000\n",
        "mean        48.211724\n",
        "std          5.565579\n",
        "min          0.000000\n",
        "25%         47.000000\n",
        "50%         49.000000\n",
        "75%         50.000000\n",
        "max         99.000000\n",
        "dtype: float64\n",
        "Name= POP90C5, Column Info=count    95412.000000\n",
        "mean        50.951390\n",
        "std          5.768361\n",
        "min          0.000000\n",
        "25%         50.000000\n",
        "50%         51.000000\n",
        "75%         53.000000\n",
        "max         99.000000\n",
        "dtype: float64\n",
        "Name= ETH1, Column Info=count    95412.000000\n",
        "mean        84.854505\n",
        "std         21.013875\n",
        "min          0.000000\n",
        "25%         82.000000\n",
        "50%         93.000000\n",
        "75%         98.000000\n",
        "max         99.000000\n",
        "dtype: float64"
       ]
      },
      {
       "output_type": "stream",
       "stream": "stdout",
       "text": [
        "\n",
        "Name= ETH2, Column Info=count    95412.000000\n",
        "mean         7.467405\n",
        "std         16.690771\n",
        "min          0.000000\n",
        "25%          0.000000\n",
        "50%          1.000000\n",
        "75%          6.000000\n",
        "max         99.000000\n",
        "dtype: float64\n",
        "Name= ETH3, Column Info=count    95412.000000\n",
        "mean         0.776904\n",
        "std          3.469319\n",
        "min          0.000000\n",
        "25%          0.000000\n",
        "50%          0.000000\n",
        "75%          1.000000\n",
        "max         99.000000\n",
        "dtype: float64\n",
        "Name= ETH4, Column Info=count    95412.000000\n",
        "mean         2.905704\n",
        "std          7.069759\n",
        "min          0.000000\n",
        "25%          0.000000\n",
        "50%          1.000000\n",
        "75%          3.000000\n",
        "max         99.000000\n",
        "dtype: float64\n",
        "Name= ETH5, Column Info=count    95412.000000\n",
        "mean         7.458077\n",
        "std         13.786061\n",
        "min          0.000000\n",
        "25%          1.000000\n",
        "50%          2.000000\n",
        "75%          7.000000\n",
        "max         99.000000\n",
        "dtype: float64\n",
        "Name= ETH6, Column Info=count    95412.000000\n",
        "mean         0.216011\n",
        "std          0.679275\n",
        "min          0.000000\n",
        "25%          0.000000\n",
        "50%          0.000000\n",
        "75%          0.000000\n",
        "max         22.000000\n",
        "dtype: float64\n",
        "Name= ETH7, Column Info=count    95412.000000\n",
        "mean         0.397350\n",
        "std          2.232166\n",
        "min          0.000000\n",
        "25%          0.000000\n",
        "50%          0.000000\n",
        "75%          0.000000\n",
        "max         72.000000\n",
        "dtype: float64"
       ]
      },
      {
       "output_type": "stream",
       "stream": "stdout",
       "text": [
        "\n",
        "Name= ETH8, Column Info=count    95412.000000\n",
        "mean         0.612806\n",
        "std          2.533743\n",
        "min          0.000000\n",
        "25%          0.000000\n",
        "50%          0.000000\n",
        "75%          0.000000\n",
        "max         99.000000\n",
        "dtype: float64\n",
        "Name= ETH9, Column Info=count    95412.000000\n",
        "mean         0.561491\n",
        "std          2.309205\n",
        "min          0.000000\n",
        "25%          0.000000\n",
        "50%          0.000000\n",
        "75%          0.000000\n",
        "max         67.000000\n",
        "dtype: float64\n",
        "Name= ETH10, Column Info=count    95412.000000\n",
        "mean         0.250587\n",
        "std          1.003530\n",
        "min          0.000000\n",
        "25%          0.000000\n",
        "50%          0.000000\n",
        "75%          0.000000\n",
        "max         46.000000\n",
        "dtype: float64\n",
        "Name= ETH11, Column Info=count    95412.000000\n",
        "mean         0.210309\n",
        "std          1.054121\n",
        "min          0.000000\n",
        "25%          0.000000\n",
        "50%          0.000000\n",
        "75%          0.000000\n",
        "max         47.000000\n",
        "dtype: float64\n",
        "Name= ETH12, Column Info=count    95412.000000\n",
        "mean         0.068388\n",
        "std          1.169671\n",
        "min          0.000000\n",
        "25%          0.000000\n",
        "50%          0.000000\n",
        "75%          0.000000\n",
        "max         72.000000\n",
        "dtype: float64\n",
        "Name= ETH13, Column Info=count    95412.000000\n",
        "mean         5.138169\n",
        "std         11.333534\n",
        "min          0.000000\n",
        "25%          0.000000\n",
        "50%          1.000000\n",
        "75%          4.000000\n",
        "max         97.000000\n",
        "dtype: float64"
       ]
      },
      {
       "output_type": "stream",
       "stream": "stdout",
       "text": [
        "\n",
        "Name= ETH14, Column Info=count    95412.000000\n",
        "mean         0.302478\n",
        "std          1.292820\n",
        "min          0.000000\n",
        "25%          0.000000\n",
        "50%          0.000000\n",
        "75%          0.000000\n",
        "max         57.000000\n",
        "dtype: float64\n",
        "Name= ETH15, Column Info=count    95412.000000\n",
        "mean         0.327433\n",
        "std          3.208650\n",
        "min          0.000000\n",
        "25%          0.000000\n",
        "50%          0.000000\n",
        "75%          0.000000\n",
        "max         81.000000\n",
        "dtype: float64\n",
        "Name= ETH16, Column Info=count    95412.000000\n",
        "mean         1.513615\n",
        "std          3.365285\n",
        "min          0.000000\n",
        "25%          0.000000\n",
        "50%          1.000000\n",
        "75%          2.000000\n",
        "max         86.000000\n",
        "dtype: float64\n",
        "Name= AGE901, Column Info=count    95412.000000\n",
        "mean        34.475276\n",
        "std          8.335618\n",
        "min          0.000000\n",
        "25%         30.000000\n",
        "50%         33.000000\n",
        "75%         37.000000\n",
        "max         84.000000\n",
        "dtype: float64\n",
        "Name= AGE902, Column Info=count    95412.000000\n",
        "mean        41.911321\n",
        "std          8.249671\n",
        "min          0.000000\n",
        "25%         38.000000\n",
        "50%         41.000000\n",
        "75%         45.000000\n",
        "max         84.000000\n",
        "dtype: float64"
       ]
      },
      {
       "output_type": "stream",
       "stream": "stdout",
       "text": [
        "\n",
        "Name= AGE903, Column Info=count    95412.000000\n",
        "mean        45.108645\n",
        "std          8.109103\n",
        "min          0.000000\n",
        "25%         41.000000\n",
        "50%         44.000000\n",
        "75%         48.000000\n",
        "max         84.000000\n",
        "dtype: float64\n",
        "Name= AGE904, Column Info=count    95412.000000\n",
        "mean        35.917379\n",
        "std          7.261215\n",
        "min          0.000000\n",
        "25%         32.000000\n",
        "50%         35.000000\n",
        "75%         39.000000\n",
        "max         84.000000\n",
        "dtype: float64\n",
        "Name= AGE905, Column Info=count    95412.000000\n",
        "mean        44.694231\n",
        "std          6.960006\n",
        "min          0.000000\n",
        "25%         42.000000\n",
        "50%         45.000000\n",
        "75%         48.000000\n",
        "max         84.000000\n",
        "dtype: float64\n",
        "Name= AGE906, Column Info=count    95412.000000\n",
        "mean        47.889437\n",
        "std          6.882698\n",
        "min          0.000000\n",
        "25%         45.000000\n",
        "50%         48.000000\n",
        "75%         51.000000\n",
        "max         84.000000\n",
        "dtype: float64"
       ]
      },
      {
       "output_type": "stream",
       "stream": "stdout",
       "text": [
        "\n",
        "Name= AGE907, Column Info=count    95412.000000\n",
        "mean        24.515092\n",
        "std          7.515298\n",
        "min          0.000000\n",
        "25%         21.000000\n",
        "50%         26.000000\n",
        "75%         29.000000\n",
        "max         75.000000\n",
        "dtype: float64\n",
        "Name= CHIL1, Column Info=count    95412.000000\n",
        "mean        39.592745\n",
        "std          8.232252\n",
        "min          0.000000\n",
        "25%         35.000000\n",
        "50%         39.000000\n",
        "75%         44.000000\n",
        "max         99.000000\n",
        "dtype: float64\n",
        "Name= CHIL2, Column Info=count    95412.000000\n",
        "mean        38.357638\n",
        "std          6.380545\n",
        "min          0.000000\n",
        "25%         36.000000\n",
        "50%         39.000000\n",
        "75%         42.000000\n",
        "max         99.000000\n",
        "dtype: float64\n",
        "Name= CHIL3, Column Info=count    95412.000000\n",
        "mean        21.014715\n",
        "std          5.827231\n",
        "min          0.000000\n",
        "25%         18.000000\n",
        "50%         21.000000\n",
        "75%         24.000000\n",
        "max         99.000000\n",
        "dtype: float64\n",
        "Name= AGEC1, Column Info=count    95412.000000\n",
        "mean        12.196873\n",
        "std          6.068227\n",
        "min          0.000000\n",
        "25%          9.000000\n",
        "50%         11.000000\n",
        "75%         14.000000\n",
        "max         99.000000\n",
        "dtype: float64"
       ]
      },
      {
       "output_type": "stream",
       "stream": "stdout",
       "text": [
        "\n",
        "Name= AGEC2, Column Info=count    95412.000000\n",
        "mean        22.189819\n",
        "std          7.787776\n",
        "min          0.000000\n",
        "25%         18.000000\n",
        "50%         22.000000\n",
        "75%         26.000000\n",
        "max         99.000000\n",
        "dtype: float64\n",
        "Name= AGEC3, Column Info=count    95412.000000\n",
        "mean        20.652979\n",
        "std          6.211045\n",
        "min          0.000000\n",
        "25%         17.000000\n",
        "50%         20.000000\n",
        "75%         24.000000\n",
        "max         99.000000\n",
        "dtype: float64\n",
        "Name= AGEC4, Column Info=count    95412.000000\n",
        "mean        14.057781\n",
        "std          4.316342\n",
        "min          0.000000\n",
        "25%         12.000000\n",
        "50%         14.000000\n",
        "75%         16.000000\n",
        "max         99.000000\n",
        "dtype: float64\n",
        "Name= AGEC5, Column Info=count    95412.000000\n",
        "mean        11.857785\n",
        "std          4.145509\n",
        "min          0.000000\n",
        "25%          9.000000\n",
        "50%         12.000000\n",
        "75%         14.000000\n",
        "max         99.000000\n",
        "dtype: float64\n",
        "Name= AGEC6, Column Info=count    95412.000000\n",
        "mean        10.543275\n",
        "std          6.003846\n",
        "min          0.000000\n",
        "25%          7.000000\n",
        "50%         10.000000\n",
        "75%         13.000000\n",
        "max         99.000000\n",
        "dtype: float64"
       ]
      },
      {
       "output_type": "stream",
       "stream": "stdout",
       "text": [
        "\n",
        "Name= AGEC7, Column Info=count    95412.000000\n",
        "mean         7.667966\n",
        "std          6.723718\n",
        "min          0.000000\n",
        "25%          3.000000\n",
        "50%          6.000000\n",
        "75%         10.000000\n",
        "max         99.000000\n",
        "dtype: float64\n",
        "Name= CHILC1, Column Info=count    95412.000000\n",
        "mean        16.175659\n",
        "std          5.120884\n",
        "min          0.000000\n",
        "25%         13.000000\n",
        "50%         16.000000\n",
        "75%         19.000000\n",
        "max         99.000000\n",
        "dtype: float64\n",
        "Name= CHILC2, Column Info=count    95412.000000\n",
        "mean        16.139427\n",
        "std          3.696610\n",
        "min          0.000000\n",
        "25%         14.000000\n",
        "50%         16.000000\n",
        "75%         18.000000\n",
        "max         99.000000\n",
        "dtype: float64\n",
        "Name= CHILC3, Column Info=count    95412.000000\n",
        "mean        31.634648\n",
        "std          5.384071\n",
        "min          0.000000\n",
        "25%         30.000000\n",
        "50%         32.000000\n",
        "75%         34.000000\n",
        "max         99.000000\n",
        "dtype: float64\n",
        "Name= CHILC4, Column Info=count    95412.000000\n",
        "mean        19.754171\n",
        "std          4.562136\n",
        "min          0.000000\n",
        "25%         18.000000\n",
        "50%         20.000000\n",
        "75%         22.000000\n",
        "max         99.000000\n",
        "dtype: float64"
       ]
      },
      {
       "output_type": "stream",
       "stream": "stdout",
       "text": [
        "\n",
        "Name= CHILC5, Column Info=count    95412.000000\n",
        "mean        15.256854\n",
        "std          5.642518\n",
        "min          0.000000\n",
        "25%         13.000000\n",
        "50%         15.000000\n",
        "75%         17.000000\n",
        "max         99.000000\n",
        "dtype: float64\n",
        "Name= HHAGE1, Column Info=count    95412.000000\n",
        "mean        24.603289\n",
        "std         13.090318\n",
        "min          0.000000\n",
        "25%         16.000000\n",
        "50%         23.000000\n",
        "75%         31.000000\n",
        "max         99.000000\n",
        "dtype: float64\n",
        "Name= HHAGE2, Column Info=count    95412.00000\n",
        "mean         9.37184\n",
        "std          7.44151\n",
        "min          0.00000\n",
        "25%          4.00000\n",
        "50%          8.00000\n",
        "75%         12.00000\n",
        "max         99.00000\n",
        "dtype: float64\n",
        "Name= HHAGE3, Column Info=count    95412.000000\n",
        "mean        22.308473\n",
        "std         12.963903\n",
        "min          0.000000\n",
        "25%         13.000000\n",
        "50%         21.000000\n",
        "75%         29.000000\n",
        "max         99.000000\n",
        "dtype: float64\n",
        "Name= HHN1, Column Info=count    95412.000000\n",
        "mean        22.821710\n",
        "std         11.769621\n",
        "min          0.000000\n",
        "25%         15.000000\n",
        "50%         21.000000\n",
        "75%         28.000000\n",
        "max         99.000000\n",
        "dtype: float64"
       ]
      },
      {
       "output_type": "stream",
       "stream": "stdout",
       "text": [
        "\n",
        "Name= HHN2, Column Info=count    95412.000000\n",
        "mean        33.630445\n",
        "std          8.232499\n",
        "min          0.000000\n",
        "25%         29.000000\n",
        "50%         33.000000\n",
        "75%         37.000000\n",
        "max         99.000000\n",
        "dtype: float64\n",
        "Name= HHN3, Column Info=count    95412.000000\n",
        "mean        42.697428\n",
        "std         14.538500\n",
        "min          0.000000\n",
        "25%         34.000000\n",
        "50%         44.000000\n",
        "75%         52.000000\n",
        "max         99.000000\n",
        "dtype: float64\n",
        "Name= HHN4, Column Info=count    95412.000000\n",
        "mean        25.615415\n",
        "std         11.059218\n",
        "min          0.000000\n",
        "25%         19.000000\n",
        "50%         26.000000\n",
        "75%         32.000000\n",
        "max         99.000000\n",
        "dtype: float64\n",
        "Name= HHN5, Column Info=count    95412.000000\n",
        "mean        10.471020\n",
        "std          6.382767\n",
        "min          0.000000\n",
        "25%          7.000000\n",
        "50%         10.000000\n",
        "75%         13.000000\n",
        "max         99.000000\n",
        "dtype: float64\n",
        "Name= HHN6, Column Info=count    95412.000000\n",
        "mean         3.896460\n",
        "std          3.793017\n",
        "min          0.000000\n",
        "25%          2.000000\n",
        "50%          3.000000\n",
        "75%          5.000000\n",
        "max         99.000000\n",
        "dtype: float64"
       ]
      },
      {
       "output_type": "stream",
       "stream": "stdout",
       "text": [
        "\n",
        "Name= MARR1, Column Info=count    95412.000000\n",
        "mean        58.100616\n",
        "std         12.967796\n",
        "min          0.000000\n",
        "25%         52.000000\n",
        "50%         61.000000\n",
        "75%         67.000000\n",
        "max         99.000000\n",
        "dtype: float64\n",
        "Name= MARR2, Column Info=count    95412.000000\n",
        "mean        10.693351\n",
        "std          4.523434\n",
        "min          0.000000\n",
        "25%          8.000000\n",
        "50%         10.000000\n",
        "75%         13.000000\n",
        "max         99.000000\n",
        "dtype: float64\n",
        "Name= MARR3, Column Info=count    95412.000000\n",
        "mean         7.424695\n",
        "std          4.887720\n",
        "min          0.000000\n",
        "25%          4.000000\n",
        "50%          6.000000\n",
        "75%          9.000000\n",
        "max         73.000000\n",
        "dtype: float64\n",
        "Name= MARR4, Column Info=count    95412.000000\n",
        "mean        22.948424\n",
        "std          8.882360\n",
        "min          0.000000\n",
        "25%         18.000000\n",
        "50%         21.000000\n",
        "75%         26.000000\n",
        "max         99.000000\n",
        "dtype: float64\n",
        "Name= HHP1, Column Info=count    95412.000000\n",
        "mean       185.271737\n",
        "std         50.041208\n",
        "min          0.000000\n",
        "25%        158.000000\n",
        "50%        182.000000\n",
        "75%        211.000000\n",
        "max        650.000000\n",
        "dtype: float64"
       ]
      },
      {
       "output_type": "stream",
       "stream": "stdout",
       "text": [
        "\n",
        "Name= HHP2, Column Info=count    95412.000000\n",
        "mean       259.684998\n",
        "std         49.901819\n",
        "min          0.000000\n",
        "25%        235.000000\n",
        "50%        262.000000\n",
        "75%        288.000000\n",
        "max        700.000000\n",
        "dtype: float64\n",
        "Name= DW1, Column Info=count    95412.000000\n",
        "mean        70.083532\n",
        "std         24.974639\n",
        "min          0.000000\n",
        "25%         58.000000\n",
        "50%         75.000000\n",
        "75%         90.000000\n",
        "max         99.000000\n",
        "dtype: float64\n",
        "Name= DW2, Column Info=count    95412.000000\n",
        "mean        66.036599\n",
        "std         26.353147\n",
        "min          0.000000\n",
        "25%         52.000000\n",
        "50%         72.000000\n",
        "75%         86.000000\n",
        "max         99.000000\n",
        "dtype: float64\n",
        "Name= DW3, Column Info=count    95412.000000\n",
        "mean         2.900862\n",
        "std          5.365286\n",
        "min          0.000000\n",
        "25%          0.000000\n",
        "50%          1.000000\n",
        "75%          3.000000\n",
        "max         99.000000\n",
        "dtype: float64"
       ]
      },
      {
       "output_type": "stream",
       "stream": "stdout",
       "text": [
        "\n",
        "Name= DW4, Column Info=count    95412.000000\n",
        "mean        19.480778\n",
        "std         23.854442\n",
        "min          0.000000\n",
        "25%          1.000000\n",
        "50%          9.000000\n",
        "75%         29.000000\n",
        "max         99.000000\n",
        "dtype: float64\n",
        "Name= DW5, Column Info=count    95412.000000\n",
        "mean        16.555402\n",
        "std         22.645535\n",
        "min          0.000000\n",
        "25%          0.000000\n",
        "50%          6.000000\n",
        "75%         24.000000\n",
        "max         99.000000\n",
        "dtype: float64\n",
        "Name= DW6, Column Info=count    95412.000000\n",
        "mean        13.102922\n",
        "std         20.457755\n",
        "min          0.000000\n",
        "25%          0.000000\n",
        "50%          3.000000\n",
        "75%         18.000000\n",
        "max         99.000000\n",
        "dtype: float64\n",
        "Name= DW7, Column Info=count    95412.000000\n",
        "mean         1.789848\n",
        "std          5.906878\n",
        "min          0.000000\n",
        "25%          0.000000\n",
        "50%          0.000000\n",
        "75%          1.000000\n",
        "max         99.000000\n",
        "dtype: float64"
       ]
      },
      {
       "output_type": "stream",
       "stream": "stdout",
       "text": [
        "\n",
        "Name= DW8, Column Info=count    95412.000000\n",
        "mean         1.160315\n",
        "std          4.254839\n",
        "min          0.000000\n",
        "25%          0.000000\n",
        "50%          0.000000\n",
        "75%          0.000000\n",
        "max         99.000000\n",
        "dtype: float64\n",
        "Name= DW9, Column Info=count    95412.000000\n",
        "mean         0.621201\n",
        "std          3.969514\n",
        "min          0.000000\n",
        "25%          0.000000\n",
        "50%          0.000000\n",
        "75%          0.000000\n",
        "max         99.000000\n",
        "dtype: float64\n",
        "Name= HV1, Column Info=count    95412.000000\n",
        "mean      1061.838238\n",
        "std        941.765892\n",
        "min          0.000000\n",
        "25%        513.000000\n",
        "50%        737.000000\n",
        "75%       1213.000000\n",
        "max       6000.000000\n",
        "dtype: float64\n",
        "Name= HV2, Column Info=count    95412.000000\n",
        "mean      1133.031086\n",
        "std        947.384618\n",
        "min          0.000000\n",
        "25%        555.000000\n",
        "50%        803.000000\n",
        "75%       1328.250000\n",
        "max       6000.000000\n",
        "dtype: float64"
       ]
      },
      {
       "output_type": "stream",
       "stream": "stdout",
       "text": [
        "\n",
        "Name= HV3, Column Info=count    95412.000000\n",
        "mean         4.224249\n",
        "std          2.307938\n",
        "min          0.000000\n",
        "25%          3.000000\n",
        "50%          4.000000\n",
        "75%          5.000000\n",
        "max         13.000000\n",
        "dtype: float64\n",
        "Name= HV4, Column Info=count    95412.000000\n",
        "mean         3.875886\n",
        "std          2.244389\n",
        "min          0.000000\n",
        "25%          2.000000\n",
        "50%          3.000000\n",
        "75%          5.000000\n",
        "max         13.000000\n",
        "dtype: float64\n",
        "Name= HU1, Column Info=count    95412.000000\n",
        "mean        69.696831\n",
        "std         21.717078\n",
        "min          0.000000\n",
        "25%         60.000000\n",
        "50%         76.000000\n",
        "75%         85.000000\n",
        "max         99.000000\n",
        "dtype: float64\n",
        "Name= HU2, Column Info=count    95412.000000\n",
        "mean        29.445772\n",
        "std         20.900124\n",
        "min          0.000000\n",
        "25%         14.000000\n",
        "50%         24.000000\n",
        "75%         40.000000\n",
        "max         99.000000\n",
        "dtype: float64"
       ]
      },
      {
       "output_type": "stream",
       "stream": "stdout",
       "text": [
        "\n",
        "Name= HU3, Column Info=count    95412.000000\n",
        "mean        89.966608\n",
        "std         12.955210\n",
        "min          0.000000\n",
        "25%         89.000000\n",
        "50%         94.000000\n",
        "75%         96.000000\n",
        "max         99.000000\n",
        "dtype: float64\n",
        "Name= HU4, Column Info=count    95412.000000\n",
        "mean         9.176477\n",
        "std          9.960745\n",
        "min          0.000000\n",
        "25%          3.000000\n",
        "50%          6.000000\n",
        "75%         11.000000\n",
        "max         99.000000\n",
        "dtype: float64\n",
        "Name= HU5, Column Info=count    95412.000000\n",
        "mean        13.737276\n",
        "std         20.981653\n",
        "min          0.000000\n",
        "25%          0.000000\n",
        "50%          5.000000\n",
        "75%         16.000000\n",
        "max         99.000000\n",
        "dtype: float64\n",
        "Name= HHD1, Column Info=count    95412.00000\n",
        "mean        35.65453\n",
        "std         13.03506\n",
        "min          0.00000\n",
        "25%         28.00000\n",
        "50%         36.00000\n",
        "75%         44.00000\n",
        "max         99.00000\n",
        "dtype: float64\n",
        "Name= HHD2, Column Info=count    95412.000000\n",
        "mean        71.503899\n",
        "std         15.136752\n",
        "min          0.000000\n",
        "25%         66.000000\n",
        "50%         75.000000\n",
        "75%         81.000000\n",
        "max         99.000000\n",
        "dtype: float64"
       ]
      },
      {
       "output_type": "stream",
       "stream": "stdout",
       "text": [
        "\n",
        "Name= HHD3, Column Info=count    95412.000000\n",
        "mean        58.755052\n",
        "std         16.239375\n",
        "min          0.000000\n",
        "25%         50.000000\n",
        "50%         61.000000\n",
        "75%         70.000000\n",
        "max         99.000000\n",
        "dtype: float64\n",
        "Name= HHD4, Column Info=count    95412.000000\n",
        "mean        27.780552\n",
        "std         11.941462\n",
        "min          0.000000\n",
        "25%         20.000000\n",
        "50%         28.000000\n",
        "75%         35.000000\n",
        "max         99.000000\n",
        "dtype: float64\n",
        "Name= HHD5, Column Info=count    95412.000000\n",
        "mean        81.925942\n",
        "std         14.106560\n",
        "min          0.000000\n",
        "25%         79.000000\n",
        "50%         86.000000\n",
        "75%         90.000000\n",
        "max         99.000000\n",
        "dtype: float64\n",
        "Name= HHD6, Column Info=count    95412.000000\n",
        "mean        17.236008\n",
        "std         12.031207\n",
        "min          0.000000\n",
        "25%         10.000000\n",
        "50%         14.000000\n",
        "75%         21.000000\n",
        "max         99.000000\n",
        "dtype: float64"
       ]
      },
      {
       "output_type": "stream",
       "stream": "stdout",
       "text": [
        "\n",
        "Name= HHD7, Column Info=count    95412.000000\n",
        "mean         7.873915\n",
        "std          5.297413\n",
        "min          0.000000\n",
        "25%          5.000000\n",
        "50%          7.000000\n",
        "75%         10.000000\n",
        "max         99.000000\n",
        "dtype: float64\n",
        "Name= HHD8, Column Info=count    95412.000000\n",
        "mean         1.623758\n",
        "std          1.123896\n",
        "min          0.000000\n",
        "25%          1.000000\n",
        "50%          1.000000\n",
        "75%          2.000000\n",
        "max         50.000000\n",
        "dtype: float64\n",
        "Name= HHD9, Column Info=count    95412.000000\n",
        "mean         6.247862\n",
        "std          4.683116\n",
        "min          0.000000\n",
        "25%          3.000000\n",
        "50%          5.000000\n",
        "75%          8.000000\n",
        "max         99.000000\n",
        "dtype: float64\n",
        "Name= HHD10, Column Info=count    95412.000000\n",
        "mean        13.609598\n",
        "std          7.103567\n",
        "min          0.000000\n",
        "25%          9.000000\n",
        "50%         12.000000\n",
        "75%         16.000000\n",
        "max         99.000000\n",
        "dtype: float64\n",
        "Name= HHD11, Column Info=count    95412.000000\n",
        "mean        18.910965\n",
        "std          9.355947\n",
        "min          0.000000\n",
        "25%         12.000000\n",
        "50%         18.000000\n",
        "75%         24.000000\n",
        "max         99.000000\n",
        "dtype: float64"
       ]
      },
      {
       "output_type": "stream",
       "stream": "stdout",
       "text": [
        "\n",
        "Name= HHD12, Column Info=count    95412.000000\n",
        "mean         4.822454\n",
        "std          4.122604\n",
        "min          0.000000\n",
        "25%          2.000000\n",
        "50%          4.000000\n",
        "75%          6.000000\n",
        "max         99.000000\n",
        "dtype: float64\n",
        "Name= ETHC1, Column Info=count    95412.000000\n",
        "mean        16.753396\n",
        "std          6.862205\n",
        "min          0.000000\n",
        "25%         13.000000\n",
        "50%         18.000000\n",
        "75%         22.000000\n",
        "max         75.000000\n",
        "dtype: float64\n",
        "Name= ETHC2, Column Info=count    95412.000000\n",
        "mean        50.786096\n",
        "std         14.523902\n",
        "min          0.000000\n",
        "25%         46.000000\n",
        "50%         55.000000\n",
        "75%         60.000000\n",
        "max         99.000000\n",
        "dtype: float64\n",
        "Name= ETHC3, Column Info=count    95412.000000\n",
        "mean        17.358173\n",
        "std         12.299282\n",
        "min          0.000000\n",
        "25%         10.000000\n",
        "50%         15.000000\n",
        "75%         22.000000\n",
        "max         99.000000\n",
        "dtype: float64\n",
        "Name= ETHC4, Column Info=count    95412.000000\n",
        "mean         1.963652\n",
        "std          4.547730\n",
        "min          0.000000\n",
        "25%          0.000000\n",
        "50%          0.000000\n",
        "75%          1.000000\n",
        "max         55.000000\n",
        "dtype: float64"
       ]
      },
      {
       "output_type": "stream",
       "stream": "stdout",
       "text": [
        "\n",
        "Name= ETHC5, Column Info=count    95412.000000\n",
        "mean         4.572538\n",
        "std         10.073091\n",
        "min          0.000000\n",
        "25%          0.000000\n",
        "50%          1.000000\n",
        "75%          4.000000\n",
        "max         99.000000\n",
        "dtype: float64\n",
        "Name= ETHC6, Column Info=count    95412.000000\n",
        "mean         0.836153\n",
        "std          2.919611\n",
        "min          0.000000\n",
        "25%          0.000000\n",
        "50%          0.000000\n",
        "75%          0.000000\n",
        "max         99.000000\n",
        "dtype: float64\n",
        "Name= HVP1, Column Info=count    95412.000000\n",
        "mean        13.587599\n",
        "std         26.623057\n",
        "min          0.000000\n",
        "25%          0.000000\n",
        "50%          1.000000\n",
        "75%          9.000000\n",
        "max         99.000000\n",
        "dtype: float64\n",
        "Name= HVP2, Column Info=count    95412.000000\n",
        "mean        21.049449\n",
        "std         31.897623\n",
        "min          0.000000\n",
        "25%          0.000000\n",
        "50%          3.000000\n",
        "75%         28.000000\n",
        "max         99.000000\n",
        "dtype: float64\n",
        "Name= HVP3, Column Info=count    95412.000000\n",
        "mean        35.105228\n",
        "std         36.644715\n",
        "min          0.000000\n",
        "25%          3.000000\n",
        "50%         17.000000\n",
        "75%         70.000000\n",
        "max         99.000000\n",
        "dtype: float64"
       ]
      },
      {
       "output_type": "stream",
       "stream": "stdout",
       "text": [
        "\n",
        "Name= HVP4, Column Info=count    95412.000000\n",
        "mean        51.174381\n",
        "std         36.745060\n",
        "min          0.000000\n",
        "25%         15.000000\n",
        "50%         48.000000\n",
        "75%         92.000000\n",
        "max         99.000000\n",
        "dtype: float64\n",
        "Name= HVP5, Column Info=count    95412.000000\n",
        "mean        73.906794\n",
        "std         29.596154\n",
        "min          0.000000\n",
        "25%         52.000000\n",
        "50%         89.000000\n",
        "75%         99.000000\n",
        "max         99.000000\n",
        "dtype: float64\n",
        "Name= HVP6, Column Info=count    95412.000000\n",
        "mean         6.446348\n",
        "std         18.064895\n",
        "min          0.000000\n",
        "25%          0.000000\n",
        "50%          0.000000\n",
        "75%          2.000000\n",
        "max         99.000000\n",
        "dtype: float64\n",
        "Name= HUR1, Column Info=count    95412.000000\n",
        "mean         4.854285\n",
        "std          7.545469\n",
        "min          0.000000\n",
        "25%          1.000000\n",
        "50%          2.000000\n",
        "75%          6.000000\n",
        "max         99.000000\n",
        "dtype: float64\n",
        "Name= HUR2, Column Info=count    95412.000000\n",
        "mean        45.748197\n",
        "std         21.438911\n",
        "min          0.000000\n",
        "25%         32.000000\n",
        "50%         44.000000\n",
        "75%         59.000000\n",
        "max         99.000000\n",
        "dtype: float64"
       ]
      },
      {
       "output_type": "stream",
       "stream": "stdout",
       "text": [
        "\n",
        "Name= RHP1, Column Info=count    95412.000000\n",
        "mean        52.935281\n",
        "std         10.734910\n",
        "min          0.000000\n",
        "25%         48.000000\n",
        "50%         52.000000\n",
        "75%         58.000000\n",
        "max         85.000000\n",
        "dtype: float64\n",
        "Name= RHP2, Column Info=count    95412.000000\n",
        "mean        53.769274\n",
        "std         10.414782\n",
        "min          0.000000\n",
        "25%         49.000000\n",
        "50%         54.000000\n",
        "75%         59.000000\n",
        "max         90.000000\n",
        "dtype: float64\n",
        "Name= RHP3, Column Info=count    95412.000000\n",
        "mean        14.136335\n",
        "std          2.559830\n",
        "min          0.000000\n",
        "25%         13.000000\n",
        "50%         14.000000\n",
        "75%         15.000000\n",
        "max         61.000000\n",
        "dtype: float64\n",
        "Name= RHP4, Column Info=count    95412.000000\n",
        "mean         4.392162\n",
        "std          1.182950\n",
        "min          0.000000\n",
        "25%          4.000000\n",
        "50%          4.000000\n",
        "75%          5.000000\n",
        "max         40.000000\n",
        "dtype: float64\n",
        "Name= HUPA1, Column Info=count    95412.000000\n",
        "mean        10.154299\n",
        "std         12.790334\n",
        "min          0.000000\n",
        "25%          1.000000\n",
        "50%          5.000000\n",
        "75%         15.000000\n",
        "max         99.000000\n",
        "dtype: float64"
       ]
      },
      {
       "output_type": "stream",
       "stream": "stdout",
       "text": [
        "\n",
        "Name= HUPA2, Column Info=count    95412.000000\n",
        "mean         9.313996\n",
        "std         17.109430\n",
        "min          0.000000\n",
        "25%          0.000000\n",
        "50%          1.000000\n",
        "75%         11.000000\n",
        "max         99.000000\n",
        "dtype: float64\n",
        "Name= HUPA3, Column Info=count    95412.000000\n",
        "mean         8.550864\n",
        "std         14.403382\n",
        "min          0.000000\n",
        "25%          0.000000\n",
        "50%          0.000000\n",
        "75%         13.000000\n",
        "max         99.000000\n",
        "dtype: float64\n",
        "Name= HUPA4, Column Info=count    95412.000000\n",
        "mean        11.158701\n",
        "std          7.795426\n",
        "min          0.000000\n",
        "25%          6.000000\n",
        "50%         10.000000\n",
        "75%         15.000000\n",
        "max         99.000000\n",
        "dtype: float64\n",
        "Name= HUPA5, Column Info=count    95412.000000\n",
        "mean         5.219878\n",
        "std          7.459755\n",
        "min          0.000000\n",
        "25%          0.000000\n",
        "50%          2.000000\n",
        "75%          7.000000\n",
        "max         99.000000\n",
        "dtype: float64\n",
        "Name= HUPA6, Column Info=count    95412.000000\n",
        "mean        11.005356\n",
        "std         17.808023\n",
        "min          0.000000\n",
        "25%          0.000000\n",
        "50%          2.000000\n",
        "75%         15.000000\n",
        "max         99.000000\n",
        "dtype: float64"
       ]
      },
      {
       "output_type": "stream",
       "stream": "stdout",
       "text": [
        "\n",
        "Name= HUPA7, Column Info=count    95412.000000\n",
        "mean         1.612606\n",
        "std          3.021739\n",
        "min          0.000000\n",
        "25%          0.000000\n",
        "50%          0.000000\n",
        "75%          2.000000\n",
        "max         99.000000\n",
        "dtype: float64\n",
        "Name= RP1, Column Info=count    95412.000000\n",
        "mean        29.141104\n",
        "std         32.195145\n",
        "min          0.000000\n",
        "25%          2.000000\n",
        "50%         14.000000\n",
        "75%         54.000000\n",
        "max         99.000000\n",
        "dtype: float64\n",
        "Name= RP2, Column Info=count    95412.000000\n",
        "mean        42.366379\n",
        "std         34.930840\n",
        "min          0.000000\n",
        "25%          7.000000\n",
        "50%         36.000000\n",
        "75%         77.000000\n",
        "max         99.000000\n",
        "dtype: float64\n",
        "Name= RP3, Column Info=count    95412.000000\n",
        "mean        59.681979\n",
        "std         32.893874\n",
        "min          0.000000\n",
        "25%         29.000000\n",
        "50%         68.000000\n",
        "75%         91.000000\n",
        "max         99.000000\n",
        "dtype: float64\n",
        "Name= RP4, Column Info=count    95412.000000\n",
        "mean        76.522565\n",
        "std         24.275852\n",
        "min          0.000000\n",
        "25%         64.000000\n",
        "50%         86.000000\n",
        "75%         95.000000\n",
        "max         99.000000\n",
        "dtype: float64"
       ]
      },
      {
       "output_type": "stream",
       "stream": "stdout",
       "text": [
        "\n",
        "Name= MSA, Column Info=count    95280.000000\n",
        "mean      3527.744102\n",
        "std       2863.904737\n",
        "min          0.000000\n",
        "25%        520.000000\n",
        "50%       3350.000000\n",
        "75%       5960.000000\n",
        "max       9360.000000\n",
        "dtype: float64\n",
        "Name= ADI, Column Info=count    95280.000000\n",
        "mean       187.356402\n",
        "std        137.019184\n",
        "min          0.000000\n",
        "25%         65.000000\n",
        "50%        175.000000\n",
        "75%        279.000000\n",
        "max        651.000000\n",
        "dtype: float64\n",
        "Name= DMA, Column Info=count    95280.000000\n",
        "mean       664.004072\n",
        "std        116.363600\n",
        "min          0.000000\n",
        "25%        561.000000\n",
        "50%        635.000000\n",
        "75%        801.000000\n",
        "max        881.000000\n",
        "dtype: float64\n",
        "Name= IC1, Column Info=count    95412.000000\n",
        "mean       340.056387\n",
        "std        162.883283\n",
        "min          0.000000\n",
        "25%        231.000000\n",
        "50%        310.000000\n",
        "75%        414.000000\n",
        "max       1500.000000\n",
        "dtype: float64\n",
        "Name= IC2, Column Info=count    95412.000000\n",
        "mean       387.027114\n",
        "std        173.614627\n",
        "min          0.000000\n",
        "25%        274.000000\n",
        "50%        355.000000\n",
        "75%        465.000000\n",
        "max       1500.000000\n",
        "dtype: float64"
       ]
      },
      {
       "output_type": "stream",
       "stream": "stdout",
       "text": [
        "\n",
        "Name= IC3, Column Info=count    95412.000000\n",
        "mean       387.418302\n",
        "std        161.270738\n",
        "min          0.000000\n",
        "25%        277.000000\n",
        "50%        354.000000\n",
        "75%        466.000000\n",
        "max       1500.000000\n",
        "dtype: float64\n",
        "Name= IC4, Column Info=count    95412.000000\n",
        "mean       430.792961\n",
        "std        171.643319\n",
        "min          0.000000\n",
        "25%        314.000000\n",
        "50%        397.000000\n",
        "75%        514.000000\n",
        "max       1500.000000\n",
        "dtype: float64\n",
        "Name= IC5, Column Info=count     95412.000000\n",
        "mean      15722.738230\n",
        "std        8563.646776\n",
        "min           0.000000\n",
        "25%       10788.000000\n",
        "50%       13727.500000\n",
        "75%       18169.000000\n",
        "max      174523.000000\n",
        "dtype: float64\n",
        "Name= IC6, Column Info=count    95412.000000\n",
        "mean        21.497935\n",
        "std         14.510598\n",
        "min          0.000000\n",
        "25%         10.000000\n",
        "50%         19.000000\n",
        "75%         31.000000\n",
        "max         99.000000\n",
        "dtype: float64\n",
        "Name= IC7, Column Info=count    95412.000000\n",
        "mean        16.907978\n",
        "std          7.959410\n",
        "min          0.000000\n",
        "25%         11.000000\n",
        "50%         17.000000\n",
        "75%         22.000000\n",
        "max         99.000000\n",
        "dtype: float64"
       ]
      },
      {
       "output_type": "stream",
       "stream": "stdout",
       "text": [
        "\n",
        "Name= IC8, Column Info=count    95412.000000\n",
        "mean        15.747380\n",
        "std          6.278437\n",
        "min          0.000000\n",
        "25%         12.000000\n",
        "50%         16.000000\n",
        "75%         20.000000\n",
        "max         99.000000\n",
        "dtype: float64\n",
        "Name= IC9, Column Info=count    95412.000000\n",
        "mean        18.337599\n",
        "std          7.438056\n",
        "min          0.000000\n",
        "25%         14.000000\n",
        "50%         18.000000\n",
        "75%         23.000000\n",
        "max         99.000000\n",
        "dtype: float64\n",
        "Name= IC10, Column Info=count    95412.000000\n",
        "mean        15.951463\n",
        "std          9.686003\n",
        "min          0.000000\n",
        "25%          8.000000\n",
        "50%         15.000000\n",
        "75%         22.000000\n",
        "max         99.000000\n",
        "dtype: float64\n",
        "Name= IC11, Column Info=count    95412.000000\n",
        "mean         5.586247\n",
        "std          5.835321\n",
        "min          0.000000\n",
        "25%          1.000000\n",
        "50%          4.000000\n",
        "75%          8.000000\n",
        "max         99.000000\n",
        "dtype: float64\n",
        "Name= IC12, Column Info=count    95412.000000\n",
        "mean         2.211892\n",
        "std          3.346289\n",
        "min          0.000000\n",
        "25%          0.000000\n",
        "50%          1.000000\n",
        "75%          3.000000\n",
        "max         50.000000\n",
        "dtype: float64"
       ]
      },
      {
       "output_type": "stream",
       "stream": "stdout",
       "text": [
        "\n",
        "Name= IC13, Column Info=count    95412.00000\n",
        "mean         0.93570\n",
        "std          1.92314\n",
        "min          0.00000\n",
        "25%          0.00000\n",
        "50%          0.00000\n",
        "75%          1.00000\n",
        "max         61.00000\n",
        "dtype: float64\n",
        "Name= IC14, Column Info=count    95412.000000\n",
        "mean         1.888588\n",
        "std          4.640740\n",
        "min          0.000000\n",
        "25%          0.000000\n",
        "50%          0.000000\n",
        "75%          2.000000\n",
        "max         99.000000\n",
        "dtype: float64\n",
        "Name= IC15, Column Info=count    95412.000000\n",
        "mean        14.795560\n",
        "std         12.341135\n",
        "min          0.000000\n",
        "25%          5.000000\n",
        "50%         12.000000\n",
        "75%         21.000000\n",
        "max         99.000000\n",
        "dtype: float64\n",
        "Name= IC16, Column Info=count    95412.000000\n",
        "mean        15.925492\n",
        "std          9.170850\n",
        "min          0.000000\n",
        "25%          9.000000\n",
        "50%         16.000000\n",
        "75%         22.000000\n",
        "max         99.000000\n",
        "dtype: float64\n",
        "Name= IC17, Column Info=count    95412.000000\n",
        "mean        16.433866\n",
        "std          7.640647\n",
        "min          0.000000\n",
        "25%         11.000000\n",
        "50%         17.000000\n",
        "75%         21.000000\n",
        "max         99.000000\n",
        "dtype: float64"
       ]
      },
      {
       "output_type": "stream",
       "stream": "stdout",
       "text": [
        "\n",
        "Name= IC18, Column Info=count    95412.000000\n",
        "mean        20.613246\n",
        "std          8.472725\n",
        "min          0.000000\n",
        "25%         15.000000\n",
        "50%         21.000000\n",
        "75%         26.000000\n",
        "max         99.000000\n",
        "dtype: float64\n",
        "Name= IC19, Column Info=count    95412.000000\n",
        "mean        18.665912\n",
        "std         10.644213\n",
        "min          0.000000\n",
        "25%         10.000000\n",
        "50%         18.000000\n",
        "75%         26.000000\n",
        "max         99.000000\n",
        "dtype: float64\n",
        "Name= IC20, Column Info=count    95412.000000\n",
        "mean         6.584413\n",
        "std          6.666176\n",
        "min          0.000000\n",
        "25%          2.000000\n",
        "50%          4.000000\n",
        "75%         10.000000\n",
        "max         99.000000\n",
        "dtype: float64\n",
        "Name= IC21, Column Info=count    95412.000000\n",
        "mean         2.602618\n",
        "std          3.907194\n",
        "min          0.000000\n",
        "25%          0.000000\n",
        "50%          1.000000\n",
        "75%          3.000000\n",
        "max         50.000000\n",
        "dtype: float64\n",
        "Name= IC22, Column Info=count    95412.000000\n",
        "mean         1.122699\n",
        "std          2.321726\n",
        "min          0.000000\n",
        "25%          0.000000\n",
        "50%          0.000000\n",
        "75%          1.000000\n",
        "max         99.000000\n",
        "dtype: float64"
       ]
      },
      {
       "output_type": "stream",
       "stream": "stdout",
       "text": [
        "\n",
        "Name= IC23, Column Info=count    95412.000000\n",
        "mean         2.281862\n",
        "std          5.531297\n",
        "min          0.000000\n",
        "25%          0.000000\n",
        "50%          0.000000\n",
        "75%          2.000000\n",
        "max         99.000000\n",
        "dtype: float64\n",
        "Name= HHAS1, Column Info=count    95412.000000\n",
        "mean        26.763353\n",
        "std         13.864884\n",
        "min          0.000000\n",
        "25%         17.000000\n",
        "50%         26.000000\n",
        "75%         34.000000\n",
        "max         99.000000\n",
        "dtype: float64\n",
        "Name= HHAS2, Column Info=count    95412.000000\n",
        "mean         6.102503\n",
        "std          6.215594\n",
        "min          0.000000\n",
        "25%          2.000000\n",
        "50%          4.000000\n",
        "75%          8.000000\n",
        "max         99.000000\n",
        "dtype: float64\n",
        "Name= HHAS3, Column Info=count    95412.000000\n",
        "mean        42.962971\n",
        "std         17.054347\n",
        "min          0.000000\n",
        "25%         31.000000\n",
        "50%         43.000000\n",
        "75%         55.000000\n",
        "max         99.000000\n",
        "dtype: float64\n",
        "Name= HHAS4, Column Info=count    95412.000000\n",
        "mean        10.740903\n",
        "std          9.967409\n",
        "min          0.000000\n",
        "25%          4.000000\n",
        "50%          8.000000\n",
        "75%         15.000000\n",
        "max         99.000000\n",
        "dtype: float64"
       ]
      },
      {
       "output_type": "stream",
       "stream": "stdout",
       "text": [
        "\n",
        "Name= MC1, Column Info=count    95412.000000\n",
        "mean        48.361978\n",
        "std         15.976535\n",
        "min          0.000000\n",
        "25%         38.000000\n",
        "50%         47.000000\n",
        "75%         58.000000\n",
        "max         99.000000\n",
        "dtype: float64\n",
        "Name= MC2, Column Info=count    95412.000000\n",
        "mean        50.746887\n",
        "std         16.044607\n",
        "min          0.000000\n",
        "25%         41.000000\n",
        "50%         53.000000\n",
        "75%         62.000000\n",
        "max         99.000000\n",
        "dtype: float64\n",
        "Name= MC3, Column Info=count    95412.000000\n",
        "mean        12.276181\n",
        "std         10.255140\n",
        "min          0.000000\n",
        "25%          5.000000\n",
        "50%         10.000000\n",
        "75%         17.000000\n",
        "max         99.000000\n",
        "dtype: float64\n",
        "Name= TPE1, Column Info=count    95412.000000\n",
        "mean        76.095596\n",
        "std         13.289659\n",
        "min          0.000000\n",
        "25%         72.000000\n",
        "50%         79.000000\n",
        "75%         84.000000\n",
        "max         99.000000\n",
        "dtype: float64\n",
        "Name= TPE2, Column Info=count    95412.000000\n",
        "mean        12.997495\n",
        "std          6.697763\n",
        "min          0.000000\n",
        "25%          9.000000\n",
        "50%         12.000000\n",
        "75%         17.000000\n",
        "max         99.000000\n",
        "dtype: float64"
       ]
      },
      {
       "output_type": "stream",
       "stream": "stdout",
       "text": [
        "\n",
        "Name= TPE3, Column Info=count    95412.000000\n",
        "mean         2.398923\n",
        "std          5.590967\n",
        "min          0.000000\n",
        "25%          0.000000\n",
        "50%          0.000000\n",
        "75%          2.000000\n",
        "max         99.000000\n",
        "dtype: float64\n",
        "Name= TPE4, Column Info=count    95412.000000\n",
        "mean         1.832421\n",
        "std          4.577517\n",
        "min          0.000000\n",
        "25%          0.000000\n",
        "50%          0.000000\n",
        "75%          2.000000\n",
        "max         99.000000\n",
        "dtype: float64\n",
        "Name= TPE5, Column Info=count    95412.000000\n",
        "mean         0.454807\n",
        "std          2.197905\n",
        "min          0.000000\n",
        "25%          0.000000\n",
        "50%          0.000000\n",
        "75%          0.000000\n",
        "max         71.000000\n",
        "dtype: float64\n",
        "Name= TPE6, Column Info=count    95412.000000\n",
        "mean         0.101895\n",
        "std          0.734757\n",
        "min          0.000000\n",
        "25%          0.000000\n",
        "50%          0.000000\n",
        "75%          0.000000\n",
        "max         47.000000\n",
        "dtype: float64\n",
        "Name= TPE7, Column Info=count    95412.000000\n",
        "mean         0.239047\n",
        "std          0.695512\n",
        "min          0.000000\n",
        "25%          0.000000\n",
        "50%          0.000000\n",
        "75%          0.000000\n",
        "max         25.000000\n",
        "dtype: float64\n",
        "Name= TPE8, Column Info=count    95412.000000\n",
        "mean         4.071333\n",
        "std          5.492788\n",
        "min          0.000000\n",
        "25%          1.000000\n",
        "50%          3.000000\n",
        "75%          5.000000\n",
        "max         99.000000\n",
        "dtype: float64"
       ]
      },
      {
       "output_type": "stream",
       "stream": "stdout",
       "text": [
        "\n",
        "Name= TPE9, Column Info=count    95412.000000\n",
        "mean         3.253962\n",
        "std          3.687820\n",
        "min          0.000000\n",
        "25%          1.000000\n",
        "50%          2.000000\n",
        "75%          4.000000\n",
        "max         99.000000\n",
        "dtype: float64\n",
        "Name= PEC1, Column Info=count    95412.000000\n",
        "mean         2.267587\n",
        "std          6.235675\n",
        "min          0.000000\n",
        "25%          0.000000\n",
        "50%          1.000000\n",
        "75%          2.000000\n",
        "max         99.000000\n",
        "dtype: float64\n",
        "Name= PEC2, Column Info=count    95412.000000\n",
        "mean        18.299847\n",
        "std         19.057580\n",
        "min          0.000000\n",
        "25%          4.000000\n",
        "50%         11.000000\n",
        "75%         27.000000\n",
        "max         99.000000\n",
        "dtype: float64\n",
        "Name= TPE10, Column Info=count    95412.000000\n",
        "mean        19.480380\n",
        "std          6.772797\n",
        "min          0.000000\n",
        "25%         15.000000\n",
        "50%         19.000000\n",
        "75%         23.000000\n",
        "max         90.000000\n",
        "dtype: float64\n",
        "Name= TPE11, Column Info=count    95412.000000\n",
        "mean        23.723672\n",
        "std          6.630090\n",
        "min          0.000000\n",
        "25%         19.000000\n",
        "50%         23.000000\n",
        "75%         28.000000\n",
        "max         76.000000\n",
        "dtype: float64\n",
        "Name= TPE12, Column Info=count    95412.000000\n",
        "mean         5.306324\n",
        "std          5.343132\n",
        "min          0.000000\n",
        "25%          2.000000\n",
        "50%          4.000000\n",
        "75%          7.000000\n",
        "max         99.000000\n",
        "dtype: float64"
       ]
      },
      {
       "output_type": "stream",
       "stream": "stdout",
       "text": [
        "\n",
        "Name= TPE13, Column Info=count    95412.000000\n",
        "mean        60.042007\n",
        "std         17.401412\n",
        "min          0.000000\n",
        "25%         50.000000\n",
        "50%         64.000000\n",
        "75%         73.000000\n",
        "max         99.000000\n",
        "dtype: float64\n",
        "Name= LFC1, Column Info=count    95412.000000\n",
        "mean        64.531600\n",
        "std         13.601579\n",
        "min          0.000000\n",
        "25%         59.000000\n",
        "50%         66.000000\n",
        "75%         73.000000\n",
        "max         99.000000\n",
        "dtype: float64\n",
        "Name= LFC2, Column Info=count    95412.000000\n",
        "mean        73.852681\n",
        "std         14.643406\n",
        "min          0.000000\n",
        "25%         69.000000\n",
        "50%         76.000000\n",
        "75%         83.000000\n",
        "max         99.000000\n",
        "dtype: float64\n",
        "Name= LFC3, Column Info=count    95412.000000\n",
        "mean        56.023833\n",
        "std         13.741904\n",
        "min          0.000000\n",
        "25%         49.000000\n",
        "50%         57.000000\n",
        "75%         65.000000\n",
        "max         99.000000\n",
        "dtype: float64\n",
        "Name= LFC4, Column Info=count    95412.000000\n",
        "mean        69.801985\n",
        "std         14.983118\n",
        "min          0.000000\n",
        "25%         63.000000\n",
        "50%         72.000000\n",
        "75%         79.000000\n",
        "max         99.000000\n",
        "dtype: float64"
       ]
      },
      {
       "output_type": "stream",
       "stream": "stdout",
       "text": [
        "\n",
        "Name= LFC5, Column Info=count    95412.000000\n",
        "mean        52.955299\n",
        "std         13.742309\n",
        "min          0.000000\n",
        "25%         45.000000\n",
        "50%         54.000000\n",
        "75%         62.000000\n",
        "max         99.000000\n",
        "dtype: float64\n",
        "Name= LFC6, Column Info=count    95412.000000\n",
        "mean        64.110793\n",
        "std         16.390041\n",
        "min          0.000000\n",
        "25%         57.000000\n",
        "50%         66.000000\n",
        "75%         74.000000\n",
        "max         99.000000\n",
        "dtype: float64\n",
        "Name= LFC7, Column Info=count    95412.000000\n",
        "mean        48.798568\n",
        "std         17.282413\n",
        "min          0.000000\n",
        "25%         40.000000\n",
        "50%         50.000000\n",
        "75%         60.000000\n",
        "max         99.000000\n",
        "dtype: float64\n",
        "Name= LFC8, Column Info=count    95412.000000\n",
        "mean        70.102419\n",
        "std         30.768153\n",
        "min          0.000000\n",
        "25%         55.000000\n",
        "50%         78.000000\n",
        "75%         99.000000\n",
        "max         99.000000\n",
        "dtype: float64\n",
        "Name= LFC9, Column Info=count    95412.000000\n",
        "mean        62.662768\n",
        "std         44.720850\n",
        "min          0.000000\n",
        "25%          0.000000\n",
        "50%         97.000000\n",
        "75%         99.000000\n",
        "max         99.000000\n",
        "dtype: float64"
       ]
      },
      {
       "output_type": "stream",
       "stream": "stdout",
       "text": [
        "\n",
        "Name= LFC10, Column Info=count    95412.000000\n",
        "mean         6.636377\n",
        "std          9.249520\n",
        "min          0.000000\n",
        "25%          0.000000\n",
        "50%          4.000000\n",
        "75%          9.000000\n",
        "max         99.000000\n",
        "dtype: float64\n",
        "Name= OCC1, Column Info=count    95412.000000\n",
        "mean        14.122762\n",
        "std          8.231474\n",
        "min          0.000000\n",
        "25%          8.000000\n",
        "50%         13.000000\n",
        "75%         18.000000\n",
        "max         99.000000\n",
        "dtype: float64\n",
        "Name= OCC2, Column Info=count    95412.000000\n",
        "mean        12.595942\n",
        "std          7.138636\n",
        "min          0.000000\n",
        "25%          8.000000\n",
        "50%         11.000000\n",
        "75%         17.000000\n",
        "max         99.000000\n",
        "dtype: float64\n",
        "Name= OCC3, Column Info=count    95412.000000\n",
        "mean         3.541054\n",
        "std          2.565171\n",
        "min          0.000000\n",
        "25%          2.000000\n",
        "50%          3.000000\n",
        "75%          5.000000\n",
        "max         99.000000\n",
        "dtype: float64\n",
        "Name= OCC4, Column Info=count    95412.000000\n",
        "mean        12.403063\n",
        "std          5.540146\n",
        "min          0.000000\n",
        "25%          9.000000\n",
        "50%         12.000000\n",
        "75%         15.000000\n",
        "max         99.000000\n",
        "dtype: float64"
       ]
      },
      {
       "output_type": "stream",
       "stream": "stdout",
       "text": [
        "\n",
        "Name= OCC5, Column Info=count    95412.000000\n",
        "mean        15.504989\n",
        "std          5.737145\n",
        "min          0.000000\n",
        "25%         12.000000\n",
        "50%         15.000000\n",
        "75%         19.000000\n",
        "max         99.000000\n",
        "dtype: float64\n",
        "Name= OCC6, Column Info=count    95412.000000\n",
        "mean         0.419109\n",
        "std          0.995007\n",
        "min          0.000000\n",
        "25%          0.000000\n",
        "50%          0.000000\n",
        "75%          1.000000\n",
        "max         43.000000\n",
        "dtype: float64\n",
        "Name= OCC7, Column Info=count    95412.000000\n",
        "mean         1.644709\n",
        "std          1.885284\n",
        "min          0.000000\n",
        "25%          0.000000\n",
        "50%          1.000000\n",
        "75%          2.000000\n",
        "max         55.000000\n",
        "dtype: float64\n",
        "Name= OCC8, Column Info=count    95412.000000\n",
        "mean        10.544669\n",
        "std          6.027546\n",
        "min          0.000000\n",
        "25%          7.000000\n",
        "50%         10.000000\n",
        "75%         13.000000\n",
        "max         99.000000\n",
        "dtype: float64\n",
        "Name= OCC9, Column Info=count    95412.000000\n",
        "mean         2.856286\n",
        "std          5.106797\n",
        "min          0.000000\n",
        "25%          0.000000\n",
        "50%          1.000000\n",
        "75%          3.000000\n",
        "max         99.000000\n",
        "dtype: float64\n",
        "Name= OCC10, Column Info=count    95412.000000\n",
        "mean        11.376452\n",
        "std          5.859178\n",
        "min          0.000000\n",
        "25%          7.000000\n",
        "50%         11.000000\n",
        "75%         15.000000\n",
        "max         99.000000\n",
        "dtype: float64"
       ]
      },
      {
       "output_type": "stream",
       "stream": "stdout",
       "text": [
        "\n",
        "Name= OCC11, Column Info=count    95412.000000\n",
        "mean         6.309227\n",
        "std          5.874676\n",
        "min          0.000000\n",
        "25%          2.000000\n",
        "50%          5.000000\n",
        "75%          9.000000\n",
        "max         99.000000\n",
        "dtype: float64\n",
        "Name= OCC12, Column Info=count    95412.000000\n",
        "mean         4.012242\n",
        "std          3.223159\n",
        "min          0.000000\n",
        "25%          2.000000\n",
        "50%          4.000000\n",
        "75%          6.000000\n",
        "max         99.000000\n",
        "dtype: float64\n",
        "Name= OCC13, Column Info=count    95412.000000\n",
        "mean         3.741877\n",
        "std          2.980044\n",
        "min          0.000000\n",
        "25%          2.000000\n",
        "50%          3.000000\n",
        "75%          5.000000\n",
        "max         99.000000\n",
        "dtype: float64\n",
        "Name= EIC1, Column Info=count    95412.000000\n",
        "mean         3.156804\n",
        "std          5.570751\n",
        "min          0.000000\n",
        "25%          0.000000\n",
        "50%          1.000000\n",
        "75%          4.000000\n",
        "max         99.000000\n",
        "dtype: float64\n",
        "Name= EIC2, Column Info=count    95412.000000\n",
        "mean         0.719176\n",
        "std          2.461053\n",
        "min          0.000000\n",
        "25%          0.000000\n",
        "50%          0.000000\n",
        "75%          0.000000\n",
        "max         65.000000\n",
        "dtype: float64\n",
        "Name= EIC3, Column Info=count    95412.000000\n",
        "mean         6.411646\n",
        "std          4.122365\n",
        "min          0.000000\n",
        "25%          4.000000\n",
        "50%          6.000000\n",
        "75%          8.000000\n",
        "max         99.000000\n",
        "dtype: float64"
       ]
      },
      {
       "output_type": "stream",
       "stream": "stdout",
       "text": [
        "\n",
        "Name= EIC4, Column Info=count    95412.000000\n",
        "mean        16.968442\n",
        "std         10.167102\n",
        "min          0.000000\n",
        "25%          9.000000\n",
        "50%         15.000000\n",
        "75%         23.000000\n",
        "max         99.000000\n",
        "dtype: float64\n",
        "Name= EIC5, Column Info=count    95412.000000\n",
        "mean         4.280468\n",
        "std          3.201798\n",
        "min          0.000000\n",
        "25%          2.000000\n",
        "50%          4.000000\n",
        "75%          6.000000\n",
        "max         99.000000\n",
        "dtype: float64\n",
        "Name= EIC6, Column Info=count    95412.000000\n",
        "mean         2.714805\n",
        "std          2.335400\n",
        "min          0.000000\n",
        "25%          1.000000\n",
        "50%          2.000000\n",
        "75%          4.000000\n",
        "max         64.000000\n",
        "dtype: float64\n",
        "Name= EIC7, Column Info=count    95412.000000\n",
        "mean         4.369230\n",
        "std          3.097412\n",
        "min          0.000000\n",
        "25%          2.000000\n",
        "50%          4.000000\n",
        "75%          6.000000\n",
        "max         99.000000\n",
        "dtype: float64\n",
        "Name= EIC8, Column Info=count    95412.000000\n",
        "mean        16.917882\n",
        "std          6.178759\n",
        "min          0.000000\n",
        "25%         13.000000\n",
        "50%         17.000000\n",
        "75%         20.000000\n",
        "max         99.000000\n",
        "dtype: float64"
       ]
      },
      {
       "output_type": "stream",
       "stream": "stdout",
       "text": [
        "\n",
        "Name= EIC9, Column Info=count    95412.000000\n",
        "mean         6.860730\n",
        "std          4.660567\n",
        "min          0.000000\n",
        "25%          4.000000\n",
        "50%          6.000000\n",
        "75%          9.000000\n",
        "max         99.000000\n",
        "dtype: float64\n",
        "Name= EIC10, Column Info=count    95412.000000\n",
        "mean         4.680638\n",
        "std          3.074098\n",
        "min          0.000000\n",
        "25%          3.000000\n",
        "50%          4.000000\n",
        "75%          6.000000\n",
        "max         99.000000\n",
        "dtype: float64\n",
        "Name= EIC11, Column Info=count    95412.000000\n",
        "mean         3.286411\n",
        "std          3.227265\n",
        "min          0.000000\n",
        "25%          2.000000\n",
        "50%          3.000000\n",
        "75%          4.000000\n",
        "max         99.000000\n",
        "dtype: float64\n",
        "Name= EIC12, Column Info=count    95412.000000\n",
        "mean         1.547415\n",
        "std          2.230989\n",
        "min          0.000000\n",
        "25%          0.000000\n",
        "50%          1.000000\n",
        "75%          2.000000\n",
        "max         67.000000\n",
        "dtype: float64\n",
        "Name= EIC13, Column Info=count    95412.000000\n",
        "mean         8.047625\n",
        "std          4.496399\n",
        "min          0.000000\n",
        "25%          5.000000\n",
        "50%          8.000000\n",
        "75%         10.000000\n",
        "max         99.000000\n",
        "dtype: float64"
       ]
      },
      {
       "output_type": "stream",
       "stream": "stdout",
       "text": [
        "\n",
        "Name= EIC14, Column Info=count    95412.000000\n",
        "mean         8.055653\n",
        "std          5.363320\n",
        "min          0.000000\n",
        "25%          5.000000\n",
        "50%          7.000000\n",
        "75%         10.000000\n",
        "max         99.000000\n",
        "dtype: float64\n",
        "Name= EIC15, Column Info=count    95412.000000\n",
        "mean         6.477938\n",
        "std          4.354419\n",
        "min          0.000000\n",
        "25%          4.000000\n",
        "50%          6.000000\n",
        "75%          8.000000\n",
        "max         99.000000\n",
        "dtype: float64\n",
        "Name= EIC16, Column Info=count    95412.000000\n",
        "mean         4.585262\n",
        "std          4.083389\n",
        "min          0.000000\n",
        "25%          2.000000\n",
        "50%          4.000000\n",
        "75%          6.000000\n",
        "max         99.000000\n",
        "dtype: float64\n",
        "Name= OEDC1, Column Info=count    95412.000000\n",
        "mean         7.008668\n",
        "std          4.267494\n",
        "min          0.000000\n",
        "25%          4.000000\n",
        "50%          6.000000\n",
        "75%          9.000000\n",
        "max         99.000000\n",
        "dtype: float64\n",
        "Name= OEDC2, Column Info=count    95412.000000\n",
        "mean         4.675408\n",
        "std          5.064888\n",
        "min          0.000000\n",
        "25%          2.000000\n",
        "50%          3.000000\n",
        "75%          6.000000\n",
        "max         99.000000\n",
        "dtype: float64"
       ]
      },
      {
       "output_type": "stream",
       "stream": "stdout",
       "text": [
        "\n",
        "Name= OEDC3, Column Info=count    95412.000000\n",
        "mean         3.187062\n",
        "std          4.161943\n",
        "min          0.000000\n",
        "25%          1.000000\n",
        "50%          2.000000\n",
        "75%          4.000000\n",
        "max         99.000000\n",
        "dtype: float64\n",
        "Name= OEDC4, Column Info=count    95412.000000\n",
        "mean         8.048537\n",
        "std          5.471748\n",
        "min          0.000000\n",
        "25%          4.000000\n",
        "50%          7.000000\n",
        "75%         10.000000\n",
        "max         99.000000\n",
        "dtype: float64\n",
        "Name= OEDC5, Column Info=count    95412.000000\n",
        "mean        69.567717\n",
        "std         12.300965\n",
        "min          0.000000\n",
        "25%         64.000000\n",
        "50%         71.000000\n",
        "75%         77.000000\n",
        "max         99.000000\n",
        "dtype: float64\n",
        "Name= OEDC6, Column Info=count    95412.000000\n",
        "mean         6.086299\n",
        "std          4.355084\n",
        "min          0.000000\n",
        "25%          3.000000\n",
        "50%          5.000000\n",
        "75%          8.000000\n",
        "max         99.000000\n",
        "dtype: float64\n",
        "Name= OEDC7, Column Info=count    95412.000000\n",
        "mean         0.497736\n",
        "std          1.035566\n",
        "min          0.000000\n",
        "25%          0.000000\n",
        "50%          0.000000\n",
        "75%          1.000000\n",
        "max         99.000000\n",
        "dtype: float64\n",
        "Name= EC1, Column Info=count    95412.000000\n",
        "mean       128.022534\n",
        "std         17.735576\n",
        "min          0.000000\n",
        "25%        120.000000\n",
        "50%        120.000000\n",
        "75%        140.000000\n",
        "max        170.000000\n",
        "dtype: float64"
       ]
      },
      {
       "output_type": "stream",
       "stream": "stdout",
       "text": [
        "\n",
        "Name= EC2, Column Info=count    95412.000000\n",
        "mean         8.770207\n",
        "std          8.278659\n",
        "min          0.000000\n",
        "25%          3.000000\n",
        "50%          6.000000\n",
        "75%         12.000000\n",
        "max         99.000000\n",
        "dtype: float64\n",
        "Name= EC3, Column Info=count    95412.000000\n",
        "mean        12.845963\n",
        "std          7.602447\n",
        "min          0.000000\n",
        "25%          7.000000\n",
        "50%         12.000000\n",
        "75%         18.000000\n",
        "max         99.000000\n",
        "dtype: float64\n",
        "Name= EC4, Column Info=count    95412.000000\n",
        "mean        28.725548\n",
        "std         10.258941\n",
        "min          0.000000\n",
        "25%         22.000000\n",
        "50%         29.000000\n",
        "75%         36.000000\n",
        "max         99.000000\n",
        "dtype: float64\n",
        "Name= EC5, Column Info=count    95412.000000\n",
        "mean        20.791337\n",
        "std          7.123331\n",
        "min          0.000000\n",
        "25%         16.000000\n",
        "50%         21.000000\n",
        "75%         25.000000\n",
        "max         99.000000\n",
        "dtype: float64\n",
        "Name= EC6, Column Info=count    95412.000000\n",
        "mean         6.544617\n",
        "std          3.397795\n",
        "min          0.000000\n",
        "25%          4.000000\n",
        "50%          6.000000\n",
        "75%          9.000000\n",
        "max         37.000000\n",
        "dtype: float64"
       ]
      },
      {
       "output_type": "stream",
       "stream": "stdout",
       "text": [
        "\n",
        "Name= EC7, Column Info=count    95412.000000\n",
        "mean        14.069824\n",
        "std          9.729814\n",
        "min          0.000000\n",
        "25%          7.000000\n",
        "50%         12.000000\n",
        "75%         20.000000\n",
        "max         99.000000\n",
        "dtype: float64\n",
        "Name= EC8, Column Info=count    95412.000000\n",
        "mean         7.366044\n",
        "std          7.057123\n",
        "min          0.000000\n",
        "25%          3.000000\n",
        "50%          5.000000\n",
        "75%         10.000000\n",
        "max         99.000000\n",
        "dtype: float64\n",
        "Name= SEC1, Column Info=count    95412.000000\n",
        "mean         3.726156\n",
        "std          3.829339\n",
        "min          0.000000\n",
        "25%          1.000000\n",
        "50%          3.000000\n",
        "75%          5.000000\n",
        "max         97.000000\n",
        "dtype: float64\n",
        "Name= SEC2, Column Info=count    95412.000000\n",
        "mean        22.092640\n",
        "std          7.745974\n",
        "min          0.000000\n",
        "25%         18.000000\n",
        "50%         22.000000\n",
        "75%         26.000000\n",
        "max         99.000000\n",
        "dtype: float64\n",
        "Name= SEC3, Column Info=count    95412.000000\n",
        "mean         1.883704\n",
        "std          1.362423\n",
        "min          0.000000\n",
        "25%          1.000000\n",
        "50%          2.000000\n",
        "75%          3.000000\n",
        "max         30.000000\n",
        "dtype: float64"
       ]
      },
      {
       "output_type": "stream",
       "stream": "stdout",
       "text": [
        "\n",
        "Name= SEC4, Column Info=count    95412.000000\n",
        "mean        17.130193\n",
        "std          6.372529\n",
        "min          0.000000\n",
        "25%         13.000000\n",
        "50%         18.000000\n",
        "75%         21.000000\n",
        "max         72.000000\n",
        "dtype: float64\n",
        "Name= SEC5, Column Info=count    95412.000000\n",
        "mean         6.808756\n",
        "std          5.668213\n",
        "min          0.000000\n",
        "25%          4.000000\n",
        "50%          6.000000\n",
        "75%          8.000000\n",
        "max         99.000000\n",
        "dtype: float64\n",
        "Name= AFC1, Column Info=count    95412.000000\n",
        "mean         0.596581\n",
        "std          3.169440\n",
        "min          0.000000\n",
        "25%          0.000000\n",
        "50%          0.000000\n",
        "75%          0.000000\n",
        "max         97.000000\n",
        "dtype: float64\n",
        "Name= AFC2, Column Info=count    95412.000000\n",
        "mean         1.061554\n",
        "std          4.903344\n",
        "min          0.000000\n",
        "25%          0.000000\n",
        "50%          0.000000\n",
        "75%          0.000000\n",
        "max         99.000000\n",
        "dtype: float64\n",
        "Name= AFC3, Column Info=count    95412.000000\n",
        "mean         0.145663\n",
        "std          1.066102\n",
        "min          0.000000\n",
        "25%          0.000000\n",
        "50%          0.000000\n",
        "75%          0.000000\n",
        "max         78.000000\n",
        "dtype: float64\n",
        "Name= AFC4, Column Info=count    95412.000000\n",
        "mean        15.574278\n",
        "std          5.270476\n",
        "min          0.000000\n",
        "25%         12.000000\n",
        "50%         15.000000\n",
        "75%         19.000000\n",
        "max         99.000000\n",
        "dtype: float64"
       ]
      },
      {
       "output_type": "stream",
       "stream": "stdout",
       "text": [
        "\n",
        "Name= AFC5, Column Info=count    95412.000000\n",
        "mean        31.269997\n",
        "std         10.475741\n",
        "min          0.000000\n",
        "25%         25.000000\n",
        "50%         31.000000\n",
        "75%         37.000000\n",
        "max         99.000000\n",
        "dtype: float64\n",
        "Name= AFC6, Column Info=count    95412.000000\n",
        "mean         1.280216\n",
        "std          1.640392\n",
        "min          0.000000\n",
        "25%          0.000000\n",
        "50%          1.000000\n",
        "75%          2.000000\n",
        "max         30.000000\n",
        "dtype: float64\n",
        "Name= VC1, Column Info=count    95412.000000\n",
        "mean        30.583889\n",
        "std         14.494101\n",
        "min          0.000000\n",
        "25%         21.000000\n",
        "50%         30.000000\n",
        "75%         39.000000\n",
        "max         99.000000\n",
        "dtype: float64\n",
        "Name= VC2, Column Info=count    95412.000000\n",
        "mean        17.921792\n",
        "std          9.729102\n",
        "min          0.000000\n",
        "25%         12.000000\n",
        "50%         17.000000\n",
        "75%         23.000000\n",
        "max         99.000000\n",
        "dtype: float64\n",
        "Name= VC3, Column Info=count    95412.000000\n",
        "mean        33.375613\n",
        "std         17.052016\n",
        "min          0.000000\n",
        "25%         22.000000\n",
        "50%         32.000000\n",
        "75%         43.000000\n",
        "max         99.000000\n",
        "dtype: float64"
       ]
      },
      {
       "output_type": "stream",
       "stream": "stdout",
       "text": [
        "\n",
        "Name= VC4, Column Info=count    95412.000000\n",
        "mean        11.314132\n",
        "std         10.713996\n",
        "min          0.000000\n",
        "25%          4.000000\n",
        "50%          9.000000\n",
        "75%         16.000000\n",
        "max         99.000000\n",
        "dtype: float64\n",
        "Name= ANC1, Column Info=count    95412.000000\n",
        "mean         0.719574\n",
        "std          2.294499\n",
        "min          0.000000\n",
        "25%          0.000000\n",
        "50%          0.000000\n",
        "75%          1.000000\n",
        "max         83.000000\n",
        "dtype: float64\n",
        "Name= ANC2, Column Info=count    95412.000000\n",
        "mean         5.471565\n",
        "std          4.268972\n",
        "min          0.000000\n",
        "25%          2.000000\n",
        "50%          5.000000\n",
        "75%          8.000000\n",
        "max         99.000000\n",
        "dtype: float64\n",
        "Name= ANC3, Column Info=count    95412.000000\n",
        "mean         0.865950\n",
        "std          1.360591\n",
        "min          0.000000\n",
        "25%          0.000000\n",
        "50%          1.000000\n",
        "75%          1.000000\n",
        "max         31.000000\n",
        "dtype: float64\n",
        "Name= ANC4, Column Info=count    95412.000000\n",
        "mean        10.169947\n",
        "std          8.273017\n",
        "min          0.000000\n",
        "25%          5.000000\n",
        "50%          8.000000\n",
        "75%         13.000000\n",
        "max         92.000000\n",
        "dtype: float64\n",
        "Name= ANC5, Column Info=count    95412.000000\n",
        "mean         0.190636\n",
        "std          0.707507\n",
        "min          0.000000\n",
        "25%          0.000000\n",
        "50%          0.000000\n",
        "75%          0.000000\n",
        "max         47.000000\n",
        "dtype: float64"
       ]
      },
      {
       "output_type": "stream",
       "stream": "stdout",
       "text": [
        "\n",
        "Name= ANC6, Column Info=count    95412.000000\n",
        "mean         0.177546\n",
        "std          0.533090\n",
        "min          0.000000\n",
        "25%          0.000000\n",
        "50%          0.000000\n",
        "75%          0.000000\n",
        "max         14.000000\n",
        "dtype: float64\n",
        "Name= ANC7, Column Info=count    95412.000000\n",
        "mean         4.850501\n",
        "std          3.321779\n",
        "min          0.000000\n",
        "25%          3.000000\n",
        "50%          4.000000\n",
        "75%          7.000000\n",
        "max         99.000000\n",
        "dtype: float64\n",
        "Name= ANC8, Column Info=count    95412.000000\n",
        "mean         1.807257\n",
        "std          2.503596\n",
        "min          0.000000\n",
        "25%          0.000000\n",
        "50%          1.000000\n",
        "75%          2.000000\n",
        "max         55.000000\n",
        "dtype: float64\n",
        "Name= ANC9, Column Info=count    95412.000000\n",
        "mean         0.775993\n",
        "std          2.139900\n",
        "min          0.000000\n",
        "25%          0.000000\n",
        "50%          0.000000\n",
        "75%          1.000000\n",
        "max         68.000000\n",
        "dtype: float64\n",
        "Name= ANC10, Column Info=count    95412.000000\n",
        "mean         1.333239\n",
        "std          2.882133\n",
        "min          0.000000\n",
        "25%          0.000000\n",
        "50%          1.000000\n",
        "75%          1.000000\n",
        "max         99.000000\n",
        "dtype: float64\n",
        "Name= ANC11, Column Info=count    95412.000000\n",
        "mean         0.167914\n",
        "std          0.866344\n",
        "min          0.000000\n",
        "25%          0.000000\n",
        "50%          0.000000\n",
        "75%          0.000000\n",
        "max         43.000000\n",
        "dtype: float64"
       ]
      },
      {
       "output_type": "stream",
       "stream": "stdout",
       "text": [
        "\n",
        "Name= ANC12, Column Info=count    95412.00000\n",
        "mean         0.39625\n",
        "std          1.42636\n",
        "min          0.00000\n",
        "25%          0.00000\n",
        "50%          0.00000\n",
        "75%          0.00000\n",
        "max         52.00000\n",
        "dtype: float64\n",
        "Name= ANC13, Column Info=count    95412.000000\n",
        "mean         0.726701\n",
        "std          0.977380\n",
        "min          0.000000\n",
        "25%          0.000000\n",
        "50%          1.000000\n",
        "75%          1.000000\n",
        "max         50.000000\n",
        "dtype: float64\n",
        "Name= ANC14, Column Info=count    95412.000000\n",
        "mean         0.726533\n",
        "std          1.263606\n",
        "min          0.000000\n",
        "25%          0.000000\n",
        "50%          0.000000\n",
        "75%          1.000000\n",
        "max         27.000000\n",
        "dtype: float64\n",
        "Name= ANC15, Column Info=count    95412.000000\n",
        "mean         0.078229\n",
        "std          0.388115\n",
        "min          0.000000\n",
        "25%          0.000000\n",
        "50%          0.000000\n",
        "75%          0.000000\n",
        "max         32.000000\n",
        "dtype: float64\n",
        "Name= POBC1, Column Info=count    95412.000000\n",
        "mean         6.625005\n",
        "std          9.646192\n",
        "min          0.000000\n",
        "25%          1.000000\n",
        "50%          3.000000\n",
        "75%          8.000000\n",
        "max         99.000000\n",
        "dtype: float64\n",
        "Name= POBC2, Column Info=count    95412.000000\n",
        "mean        57.032595\n",
        "std         21.780229\n",
        "min          0.000000\n",
        "25%         42.000000\n",
        "50%         59.000000\n",
        "75%         75.000000\n",
        "max         99.000000\n",
        "dtype: float64"
       ]
      },
      {
       "output_type": "stream",
       "stream": "stdout",
       "text": [
        "\n",
        "Name= LSC1, Column Info=count    95412.000000\n",
        "mean        87.762860\n",
        "std         16.630083\n",
        "min          0.000000\n",
        "25%         86.000000\n",
        "50%         94.000000\n",
        "75%         97.000000\n",
        "max         99.000000\n",
        "dtype: float64\n",
        "Name= LSC2, Column Info=count    95412.000000\n",
        "mean         5.985557\n",
        "std         12.043730\n",
        "min          0.000000\n",
        "25%          1.000000\n",
        "50%          2.000000\n",
        "75%          5.000000\n",
        "max         99.000000\n",
        "dtype: float64\n",
        "Name= LSC3, Column Info=count    95412.000000\n",
        "mean         1.873265\n",
        "std          4.890662\n",
        "min          0.000000\n",
        "25%          0.000000\n",
        "50%          0.000000\n",
        "75%          2.000000\n",
        "max         99.000000\n",
        "dtype: float64\n",
        "Name= LSC4, Column Info=count    95412.000000\n",
        "mean         3.454157\n",
        "std          4.503741\n",
        "min          0.000000\n",
        "25%          1.000000\n",
        "50%          2.000000\n",
        "75%          4.000000\n",
        "max         99.000000\n",
        "dtype: float64\n",
        "Name= VOC1, Column Info=count    95412.000000\n",
        "mean        91.780667\n",
        "std         12.522388\n",
        "min          0.000000\n",
        "25%         90.000000\n",
        "50%         95.000000\n",
        "75%         98.000000\n",
        "max         99.000000\n",
        "dtype: float64\n",
        "Name= VOC2, Column Info=count    95412.00000\n",
        "mean        60.37664\n",
        "std         18.80232\n",
        "min          0.00000\n",
        "25%         50.00000\n",
        "50%         62.00000\n",
        "75%         74.00000\n",
        "max         99.00000\n",
        "dtype: float64"
       ]
      },
      {
       "output_type": "stream",
       "stream": "stdout",
       "text": [
        "\n",
        "Name= VOC3, Column Info=count    95412.000000\n",
        "mean        20.014474\n",
        "std         10.851776\n",
        "min          0.000000\n",
        "25%         12.000000\n",
        "50%         19.000000\n",
        "75%         27.000000\n",
        "max         99.000000\n",
        "dtype: float64\n",
        "Name= HC1, Column Info=count    95412.000000\n",
        "mean         6.861747\n",
        "std          3.995041\n",
        "min          0.000000\n",
        "25%          4.000000\n",
        "50%          6.000000\n",
        "75%          9.000000\n",
        "max         31.000000\n",
        "dtype: float64\n",
        "Name= HC2, Column Info=count    95412.000000\n",
        "mean        23.875498\n",
        "std         12.532295\n",
        "min          0.000000\n",
        "25%         15.000000\n",
        "50%         21.000000\n",
        "75%         33.000000\n",
        "max         52.000000\n",
        "dtype: float64\n",
        "Name= HC3, Column Info=count    95412.000000\n",
        "mean         2.589800\n",
        "std          5.991168\n",
        "min          0.000000\n",
        "25%          0.000000\n",
        "50%          0.000000\n",
        "75%          3.000000\n",
        "max         99.000000\n",
        "dtype: float64\n",
        "Name= HC4, Column Info=count    95412.000000\n",
        "mean        12.409791\n",
        "std         17.004746\n",
        "min          0.000000\n",
        "25%          0.000000\n",
        "50%          6.000000\n",
        "75%         17.000000\n",
        "max         99.000000\n",
        "dtype: float64\n",
        "Name= HC5, Column Info=count    95412.000000\n",
        "mean        22.694776\n",
        "std         23.922161\n",
        "min          0.000000\n",
        "25%          3.000000\n",
        "50%         16.000000\n",
        "75%         34.000000\n",
        "max         99.000000\n",
        "dtype: float64"
       ]
      },
      {
       "output_type": "stream",
       "stream": "stdout",
       "text": [
        "\n",
        "Name= HC6, Column Info=count    95412.000000\n",
        "mean        46.023687\n",
        "std         32.037812\n",
        "min          0.000000\n",
        "25%         16.000000\n",
        "50%         46.000000\n",
        "75%         73.000000\n",
        "max         99.000000\n",
        "dtype: float64\n",
        "Name= HC7, Column Info=count    95412.000000\n",
        "mean        62.414539\n",
        "std         31.747018\n",
        "min          0.000000\n",
        "25%         38.000000\n",
        "50%         70.000000\n",
        "75%         91.000000\n",
        "max         99.000000\n",
        "dtype: float64\n",
        "Name= HC8, Column Info=count    95412.000000\n",
        "mean        36.133537\n",
        "std         31.241492\n",
        "min          0.000000\n",
        "25%          8.000000\n",
        "50%         29.000000\n",
        "75%         60.000000\n",
        "max         99.000000\n",
        "dtype: float64\n",
        "Name= HC9, Column Info=count    95412.000000\n",
        "mean         2.744896\n",
        "std          7.690676\n",
        "min          0.000000\n",
        "25%          0.000000\n",
        "50%          0.000000\n",
        "75%          1.000000\n",
        "max         90.000000\n",
        "dtype: float64\n",
        "Name= HC10, Column Info=count    95412.000000\n",
        "mean         1.316344\n",
        "std          3.410360\n",
        "min          0.000000\n",
        "25%          0.000000\n",
        "50%          0.000000\n",
        "75%          1.000000\n",
        "max         62.000000\n",
        "dtype: float64"
       ]
      },
      {
       "output_type": "stream",
       "stream": "stdout",
       "text": [
        "\n",
        "Name= HC11, Column Info=count    95412.000000\n",
        "mean        51.869817\n",
        "std         35.645567\n",
        "min          0.000000\n",
        "25%         14.000000\n",
        "50%         59.000000\n",
        "75%         86.000000\n",
        "max         99.000000\n",
        "dtype: float64\n",
        "Name= HC12, Column Info=count    95412.000000\n",
        "mean         6.878464\n",
        "std         12.068323\n",
        "min          0.000000\n",
        "25%          0.000000\n",
        "50%          1.000000\n",
        "75%          7.000000\n",
        "max         99.000000\n",
        "dtype: float64\n",
        "Name= HC13, Column Info=count    95412.000000\n",
        "mean        29.802006\n",
        "std         27.973123\n",
        "min          0.000000\n",
        "25%          7.000000\n",
        "50%         20.000000\n",
        "75%         45.000000\n",
        "max         99.000000\n",
        "dtype: float64\n",
        "Name= HC14, Column Info=count    95412.000000\n",
        "mean         4.558336\n",
        "std          9.664122\n",
        "min          0.000000\n",
        "25%          0.000000\n",
        "50%          0.000000\n",
        "75%          4.000000\n",
        "max         99.000000\n",
        "dtype: float64\n",
        "Name= HC15, Column Info=count    95412.000000\n",
        "mean         0.070966\n",
        "std          0.493626\n",
        "min          0.000000\n",
        "25%          0.000000\n",
        "50%          0.000000\n",
        "75%          0.000000\n",
        "max         30.000000\n",
        "dtype: float64"
       ]
      },
      {
       "output_type": "stream",
       "stream": "stdout",
       "text": [
        "\n",
        "Name= HC16, Column Info=count    95412.000000\n",
        "mean         5.298736\n",
        "std         10.403123\n",
        "min          0.000000\n",
        "25%          0.000000\n",
        "50%          1.000000\n",
        "75%          5.000000\n",
        "max         99.000000\n",
        "dtype: float64\n",
        "Name= HC17, Column Info=count    95412.000000\n",
        "mean        82.630497\n",
        "std         28.465300\n",
        "min          0.000000\n",
        "25%         79.000000\n",
        "50%         99.000000\n",
        "75%         99.000000\n",
        "max         99.000000\n",
        "dtype: float64\n",
        "Name= HC18, Column Info=count    95412.000000\n",
        "mean        15.152863\n",
        "std         26.704108\n",
        "min          0.000000\n",
        "25%          0.000000\n",
        "50%          1.000000\n",
        "75%         17.000000\n",
        "max         99.000000\n",
        "dtype: float64\n",
        "Name= HC19, Column Info=count    95412.000000\n",
        "mean        71.944567\n",
        "std         35.581058\n",
        "min          0.000000\n",
        "25%         45.000000\n",
        "50%         95.000000\n",
        "75%         99.000000\n",
        "max         99.000000\n",
        "dtype: float64\n",
        "Name= HC20, Column Info=count    95412.000000\n",
        "mean        97.561565\n",
        "std          9.626052\n",
        "min          0.000000\n",
        "25%         99.000000\n",
        "50%         99.000000\n",
        "75%         99.000000\n",
        "max         99.000000\n",
        "dtype: float64"
       ]
      },
      {
       "output_type": "stream",
       "stream": "stdout",
       "text": [
        "\n",
        "Name= HC21, Column Info=count    95412.000000\n",
        "mean        94.393881\n",
        "std         10.739670\n",
        "min          0.000000\n",
        "25%         93.000000\n",
        "50%         98.000000\n",
        "75%         99.000000\n",
        "max         99.000000\n",
        "dtype: float64\n",
        "Name= MHUC1, Column Info=count    95412.000000\n",
        "mean         8.112837\n",
        "std          3.530980\n",
        "min          0.000000\n",
        "25%          6.000000\n",
        "50%          8.000000\n",
        "75%          9.000000\n",
        "max         21.000000\n",
        "dtype: float64\n",
        "Name= MHUC2, Column Info=count    95412.000000\n",
        "mean         2.331552\n",
        "std          0.866869\n",
        "min          0.000000\n",
        "25%          2.000000\n",
        "50%          2.000000\n",
        "75%          3.000000\n",
        "max          5.000000\n",
        "dtype: float64\n",
        "Name= AC1, Column Info=count    95412.000000\n",
        "mean         5.825871\n",
        "std          2.870344\n",
        "min          0.000000\n",
        "25%          4.000000\n",
        "50%          6.000000\n",
        "75%          7.000000\n",
        "max         99.000000\n",
        "dtype: float64\n",
        "Name= AC2, Column Info=count    95412.000000\n",
        "mean         5.981334\n",
        "std          3.252165\n",
        "min          0.000000\n",
        "25%          4.000000\n",
        "50%          6.000000\n",
        "75%          8.000000\n",
        "max         99.000000\n",
        "dtype: float64"
       ]
      },
      {
       "output_type": "stream",
       "stream": "stdout",
       "text": [
        "\n",
        "Name= ADATE_2, Column Info=count    95412.000000\n",
        "mean      9705.999727\n",
        "std          0.023344\n",
        "min       9704.000000\n",
        "25%       9706.000000\n",
        "50%       9706.000000\n",
        "75%       9706.000000\n",
        "max       9706.000000\n",
        "dtype: float64\n",
        "Name= ADATE_3, Column Info=count    93462.000000\n",
        "mean      9605.999615\n",
        "std          0.027753\n",
        "min       9604.000000\n",
        "25%       9606.000000\n",
        "50%       9606.000000\n",
        "75%       9606.000000\n",
        "max       9606.000000\n",
        "dtype: float64\n",
        "Name= ADATE_4, Column Info=count    93221.000000\n",
        "mean      9604.015383\n",
        "std          0.955062\n",
        "min       9511.000000\n",
        "25%       9604.000000\n",
        "50%       9604.000000\n",
        "75%       9604.000000\n",
        "max       9609.000000\n",
        "dtype: float64\n",
        "Name= ADATE_5, Column Info=count    61822\n",
        "mean      9604\n",
        "std          0\n",
        "min       9604\n",
        "25%       9604\n",
        "50%       9604\n",
        "75%       9604\n",
        "max       9604\n",
        "dtype: float64\n",
        "Name= ADATE_6, Column Info=count    91855.000000\n",
        "mean      9602.998890\n",
        "std          0.047114\n",
        "min       9601.000000\n",
        "25%       9603.000000\n",
        "50%       9603.000000\n",
        "75%       9603.000000\n",
        "max       9603.000000\n",
        "dtype: float64\n",
        "Name= ADATE_7, Column Info=count    86538.000000\n",
        "mean      9601.818507\n",
        "std          3.354988\n",
        "min       9512.000000\n",
        "25%       9602.000000\n",
        "50%       9602.000000\n",
        "75%       9602.000000\n",
        "max       9602.000000\n",
        "dtype: float64"
       ]
      },
      {
       "output_type": "stream",
       "stream": "stdout",
       "text": [
        "\n",
        "Name= ADATE_8, Column Info=count    91901.000000\n",
        "mean      9594.791384\n",
        "std         22.674375\n",
        "min       9511.000000\n",
        "25%       9601.000000\n",
        "50%       9601.000000\n",
        "75%       9601.000000\n",
        "max       9605.000000\n",
        "dtype: float64\n",
        "Name= ADATE_9, Column Info=count    84167.000000\n",
        "mean      9510.927074\n",
        "std          0.362638\n",
        "min       9509.000000\n",
        "25%       9511.000000\n",
        "50%       9511.000000\n",
        "75%       9511.000000\n",
        "max       9511.000000\n",
        "dtype: float64\n",
        "Name= ADATE_10, Column Info=count    62664.000000\n",
        "mean      9510.081418\n",
        "std          0.273479\n",
        "min       9510.000000\n",
        "25%       9510.000000\n",
        "50%       9510.000000\n",
        "75%       9510.000000\n",
        "max       9511.000000\n",
        "dtype: float64\n",
        "Name= ADATE_11, Column Info=count    84990.000000\n",
        "mean      9509.786340\n",
        "std          0.516551\n",
        "min       9508.000000\n",
        "25%       9509.000000\n",
        "50%       9510.000000\n",
        "75%       9510.000000\n",
        "max       9511.000000\n",
        "dtype: float64\n",
        "Name= ADATE_12, Column Info=count    86489.000000\n",
        "mean      9508.436495\n",
        "std          0.513096\n",
        "min       9507.000000\n",
        "25%       9508.000000\n",
        "50%       9508.000000\n",
        "75%       9509.000000\n",
        "max       9510.000000\n",
        "dtype: float64"
       ]
      },
      {
       "output_type": "stream",
       "stream": "stdout",
       "text": [
        "\n",
        "Name= ADATE_13, Column Info=count    55193.000000\n",
        "mean      9506.971011\n",
        "std          0.360018\n",
        "min       9502.000000\n",
        "25%       9507.000000\n",
        "50%       9507.000000\n",
        "75%       9507.000000\n",
        "max       9507.000000\n",
        "dtype: float64\n",
        "Name= ADATE_14, Column Info=count    76545.000000\n",
        "mean      9505.995715\n",
        "std          0.092476\n",
        "min       9504.000000\n",
        "25%       9506.000000\n",
        "50%       9506.000000\n",
        "75%       9506.000000\n",
        "max       9506.000000\n",
        "dtype: float64\n",
        "Name= ADATE_15, Column Info=count    29935\n",
        "mean      9504\n",
        "std          0\n",
        "min       9504\n",
        "25%       9504\n",
        "50%       9504\n",
        "75%       9504\n",
        "max       9504\n",
        "dtype: float64\n",
        "Name= ADATE_16, Column Info=count    75048.000000\n",
        "mean      9503.018362\n",
        "std          0.146045\n",
        "min       9502.000000\n",
        "25%       9503.000000\n",
        "50%       9503.000000\n",
        "75%       9503.000000\n",
        "max       9504.000000\n",
        "dtype: float64\n",
        "Name= ADATE_17, Column Info=count    67762.000000\n",
        "mean      9501.920339\n",
        "std          0.271803\n",
        "min       9501.000000\n",
        "25%       9502.000000\n",
        "50%       9502.000000\n",
        "75%       9502.000000\n",
        "max       9503.000000\n",
        "dtype: float64"
       ]
      },
      {
       "output_type": "stream",
       "stream": "stdout",
       "text": [
        "\n",
        "Name= ADATE_18, Column Info=count    74149.000000\n",
        "mean      9464.210805\n",
        "std         43.832112\n",
        "min       9409.000000\n",
        "25%       9412.000000\n",
        "50%       9501.000000\n",
        "75%       9501.000000\n",
        "max       9508.000000\n",
        "dtype: float64\n",
        "Name= ADATE_19, Column Info=count    70932.000000\n",
        "mean      9410.955253\n",
        "std          0.293832\n",
        "min       9409.000000\n",
        "25%       9411.000000\n",
        "50%       9411.000000\n",
        "75%       9411.000000\n",
        "max       9411.000000\n",
        "dtype: float64\n",
        "Name= ADATE_20, Column Info=count    45212.000000\n",
        "mean      9411.000310\n",
        "std          0.017594\n",
        "min       9411.000000\n",
        "25%       9411.000000\n",
        "50%       9411.000000\n",
        "75%       9411.000000\n",
        "max       9412.000000\n",
        "dtype: float64\n",
        "Name= ADATE_21, Column Info=count    60200.000000\n",
        "mean      9409.927990\n",
        "std          0.258507\n",
        "min       9409.000000\n",
        "25%       9410.000000\n",
        "50%       9410.000000\n",
        "75%       9410.000000\n",
        "max       9410.000000\n",
        "dtype: float64\n",
        "Name= ADATE_22, Column Info=count    69764.000000\n",
        "mean      9410.041956\n",
        "std         10.344987\n",
        "min       9408.000000\n",
        "25%       9409.000000\n",
        "50%       9409.000000\n",
        "75%       9409.000000\n",
        "max       9506.000000\n",
        "dtype: float64"
       ]
      },
      {
       "output_type": "stream",
       "stream": "stdout",
       "text": [
        "\n",
        "Name= ADATE_23, Column Info=count    39142.000000\n",
        "mean      9406.940397\n",
        "std          2.252852\n",
        "min       9312.000000\n",
        "25%       9407.000000\n",
        "50%       9407.000000\n",
        "75%       9407.000000\n",
        "max       9407.000000\n",
        "dtype: float64\n",
        "Name= ADATE_24, Column Info=count    58439.000000\n",
        "mean      9405.995243\n",
        "std          0.068808\n",
        "min       9405.000000\n",
        "25%       9406.000000\n",
        "50%       9406.000000\n",
        "75%       9406.000000\n",
        "max       9406.000000\n",
        "dtype: float64\n",
        "Name= RFA_4, Column Info=count     95412.00000\n",
        "unique       56.00000\n",
        "top           0.04038\n",
        "freq      21818.00000\n",
        "dtype: float64\n",
        "Name= RFA_5, Column Info=count     95412.000000\n",
        "unique       37.000000\n",
        "top           0.044894\n",
        "freq      33590.000000\n",
        "dtype: float64\n",
        "Name= RFA_6, Column Info=count     95412.000000\n",
        "unique       88.000000\n",
        "top           0.042686\n",
        "freq      15696.000000\n",
        "dtype: float64"
       ]
      },
      {
       "output_type": "stream",
       "stream": "stdout",
       "text": [
        "\n",
        "Name= RFA_7, Column Info=count     95412.000000\n",
        "unique       81.000000\n",
        "top           0.040533\n",
        "freq      10954.000000\n",
        "dtype: float64\n",
        "Name= RFA_8, Column Info=count     95412.00000\n",
        "unique       87.00000\n",
        "top           0.04093\n",
        "freq      11312.00000\n",
        "dtype: float64\n",
        "Name= RFA_9, Column Info=count     95412.000000\n",
        "unique       86.000000\n",
        "top           0.036727\n",
        "freq      11245.000000\n",
        "dtype: float64\n",
        "Name= RFA_10, Column Info=count     95412.000000\n",
        "unique       70.000000\n",
        "top           0.049805\n",
        "freq      32748.000000\n",
        "dtype: float64\n",
        "Name= RFA_11, Column Info=count     95412.000000\n",
        "unique       90.000000\n",
        "top           0.045769\n",
        "freq      10422.000000\n",
        "dtype: float64"
       ]
      },
      {
       "output_type": "stream",
       "stream": "stdout",
       "text": [
        "\n",
        "Name= RFA_12, Column Info=count     95412.000000\n",
        "unique       95.000000\n",
        "top           0.039566\n",
        "freq       9857.000000\n",
        "dtype: float64\n",
        "Name= RFA_13, Column Info=count     95412.000000\n",
        "unique       62.000000\n",
        "top           0.047888\n",
        "freq      40219.000000\n",
        "dtype: float64\n",
        "Name= RFA_14, Column Info=count     95412.00000\n",
        "unique       84.00000\n",
        "top           0.03954\n",
        "freq      18867.00000\n",
        "dtype: float64\n",
        "Name= RFA_16, Column Info=count     95412.000000\n",
        "unique      101.000000\n",
        "top           0.041093\n",
        "freq      20417.000000\n",
        "dtype: float64\n",
        "Name= RFA_17, Column Info=count     95412.000000\n",
        "unique       99.000000\n",
        "top           0.049259\n",
        "freq      27650.000000\n",
        "dtype: float64"
       ]
      },
      {
       "output_type": "stream",
       "stream": "stdout",
       "text": [
        "\n",
        "Name= RFA_18, Column Info=count     95412.000000\n",
        "unique      105.000000\n",
        "top           0.044255\n",
        "freq      21263.000000\n",
        "dtype: float64\n",
        "Name= RFA_19, Column Info=count     95412.000000\n",
        "unique       95.000000\n",
        "top           0.043034\n",
        "freq      24492.000000\n",
        "dtype: float64\n",
        "Name= RFA_21, Column Info=count     95412.000000\n",
        "unique       91.000000\n",
        "top           0.050579\n",
        "freq      35212.000000\n",
        "dtype: float64\n",
        "Name= RFA_22, Column Info=count     95412.00000\n",
        "unique      100.00000\n",
        "top           0.04476\n",
        "freq      25648.00000\n",
        "dtype: float64\n",
        "Name= RFA_24, Column Info=count     95412.000000\n",
        "unique       78.000000\n",
        "top           0.045655\n",
        "freq      36973.000000\n",
        "dtype: float64"
       ]
      },
      {
       "output_type": "stream",
       "stream": "stdout",
       "text": [
        "\n",
        "Name= CARDPROM, Column Info=count    95412.000000\n",
        "mean        18.435144\n",
        "std          8.583794\n",
        "min          1.000000\n",
        "25%         11.000000\n",
        "50%         18.000000\n",
        "75%         25.000000\n",
        "max         61.000000\n",
        "dtype: float64\n",
        "Name= MAXADATE, Column Info=count    95412.000000\n",
        "mean      9701.631409\n",
        "std          5.752179\n",
        "min       9608.000000\n",
        "25%       9702.000000\n",
        "50%       9702.000000\n",
        "75%       9702.000000\n",
        "max       9702.000000\n",
        "dtype: float64\n",
        "Name= NUMPROM, Column Info=count    95412.000000\n",
        "mean        46.973347\n",
        "std         22.970378\n",
        "min          4.000000\n",
        "25%         27.000000\n",
        "50%         47.000000\n",
        "75%         64.000000\n",
        "max        195.000000\n",
        "dtype: float64\n",
        "Name= CARDPM12, Column Info=count    95412.000000\n",
        "mean         5.348939\n",
        "std          1.219785\n",
        "min          0.000000\n",
        "25%          5.000000\n",
        "50%          6.000000\n",
        "75%          6.000000\n",
        "max         19.000000\n",
        "dtype: float64\n",
        "Name= NUMPRM12, Column Info=count    95412.000000\n",
        "mean        12.856936\n",
        "std          4.544033\n",
        "min          1.000000\n",
        "25%         11.000000\n",
        "50%         12.000000\n",
        "75%         13.000000\n",
        "max         78.000000\n",
        "dtype: float64\n",
        "Name= RDATE_3, Column Info=count     242.000000\n",
        "mean     9623.615702\n",
        "std        44.066682\n",
        "min      9605.000000\n",
        "25%      9606.000000\n",
        "50%      9607.000000\n",
        "75%      9607.750000\n",
        "max      9806.000000\n",
        "dtype: float64"
       ]
      },
      {
       "output_type": "stream",
       "stream": "stdout",
       "text": [
        "\n",
        "Name= RDATE_4, Column Info=count     281.000000\n",
        "mean     9609.743772\n",
        "std        46.948359\n",
        "min      9510.000000\n",
        "25%      9604.000000\n",
        "50%      9605.000000\n",
        "75%      9607.000000\n",
        "max      9804.000000\n",
        "dtype: float64\n",
        "Name= RDATE_5, Column Info=count       9.000000\n",
        "mean     9659.555556\n",
        "std        71.795040\n",
        "min      9604.000000\n",
        "25%      9604.000000\n",
        "50%      9607.000000\n",
        "75%      9703.000000\n",
        "max      9803.000000\n",
        "dtype: float64\n",
        "Name= RDATE_6, Column Info=count     776.000000\n",
        "mean     9592.293814\n",
        "std        35.372324\n",
        "min      9510.000000\n",
        "25%      9603.000000\n",
        "50%      9603.000000\n",
        "75%      9603.000000\n",
        "max      9805.000000\n",
        "dtype: float64\n",
        "Name= RDATE_7, Column Info=count    8895.000000\n",
        "mean     9602.721641\n",
        "std         1.071997\n",
        "min      9512.000000\n",
        "25%      9602.000000\n",
        "50%      9603.000000\n",
        "75%      9603.000000\n",
        "max      9610.000000\n",
        "dtype: float64\n",
        "Name= RDATE_8, Column Info=count    21472.000000\n",
        "mean      9601.367083\n",
        "std          6.143263\n",
        "min       9511.000000\n",
        "25%       9601.000000\n",
        "50%       9602.000000\n",
        "75%       9602.000000\n",
        "max       9806.000000\n",
        "dtype: float64\n",
        "Name= RDATE_9, Column Info=count    16734.000000\n",
        "mean      9524.157404\n",
        "std         30.816246\n",
        "min       9509.000000\n",
        "25%       9512.000000\n",
        "50%       9512.000000\n",
        "75%       9512.000000\n",
        "max       9609.000000\n",
        "dtype: float64\n",
        "Name= RDATE_10, Column Info=count    10461.000000\n",
        "mean      9520.160979\n",
        "std         26.977753\n",
        "min       9510.000000\n",
        "25%       9511.000000\n",
        "50%       9511.000000\n",
        "75%       9512.000000\n",
        "max       9806.000000\n",
        "dtype: float64"
       ]
      },
      {
       "output_type": "stream",
       "stream": "stdout",
       "text": [
        "\n",
        "Name= RDATE_11, Column Info=count    14740.000000\n",
        "mean      9516.614383\n",
        "std         22.241832\n",
        "min       9509.000000\n",
        "25%       9510.000000\n",
        "50%       9511.000000\n",
        "75%       9511.000000\n",
        "max       9805.000000\n",
        "dtype: float64\n",
        "Name= RDATE_12, Column Info=count    25700.000000\n",
        "mean      9513.502412\n",
        "std         18.228371\n",
        "min       9509.000000\n",
        "25%       9509.000000\n",
        "50%       9509.000000\n",
        "75%       9510.000000\n",
        "max       9806.000000\n",
        "dtype: float64\n",
        "Name= RDATE_13, Column Info=count    12250.000000\n",
        "mean      9509.094041\n",
        "std          9.964725\n",
        "min       9502.000000\n",
        "25%       9508.000000\n",
        "50%       9508.000000\n",
        "75%       9508.000000\n",
        "max       9603.000000\n",
        "dtype: float64\n",
        "Name= RDATE_14, Column Info=count    23317.000000\n",
        "mean      9507.685894\n",
        "std          9.772418\n",
        "min       9406.000000\n",
        "25%       9506.000000\n",
        "50%       9506.000000\n",
        "75%       9507.000000\n",
        "max       9603.000000\n",
        "dtype: float64\n",
        "Name= RDATE_15, Column Info=count    7262.000000\n",
        "mean     9506.238089\n",
        "std         8.695077\n",
        "min      9412.000000\n",
        "25%      9505.000000\n",
        "50%      9505.000000\n",
        "75%      9506.000000\n",
        "max      9603.000000\n",
        "dtype: float64"
       ]
      },
      {
       "output_type": "stream",
       "stream": "stdout",
       "text": [
        "\n",
        "Name= RDATE_16, Column Info=count    26994.000000\n",
        "mean      9505.317885\n",
        "std         11.050507\n",
        "min       9411.000000\n",
        "25%       9504.000000\n",
        "50%       9504.000000\n",
        "75%       9505.000000\n",
        "max       9805.000000\n",
        "dtype: float64\n",
        "Name= RDATE_17, Column Info=count    9401.000000\n",
        "mean     9503.242953\n",
        "std         1.491005\n",
        "min      9502.000000\n",
        "25%      9502.000000\n",
        "50%      9503.000000\n",
        "75%      9503.000000\n",
        "max      9512.000000\n",
        "dtype: float64\n",
        "Name= RDATE_18, Column Info=count    19778.000000\n",
        "mean      9501.773385\n",
        "std          6.331947\n",
        "min       9412.000000\n",
        "25%       9501.000000\n",
        "50%       9501.000000\n",
        "75%       9502.000000\n",
        "max       9601.000000\n",
        "dtype: float64\n",
        "Name= RDATE_19, Column Info=count    15877.00000\n",
        "mean      9424.19311\n",
        "std         31.00336\n",
        "min       9409.00000\n",
        "25%       9412.00000\n",
        "50%       9412.00000\n",
        "75%       9412.00000\n",
        "max       9509.00000\n",
        "dtype: float64\n",
        "Name= RDATE_20, Column Info=count    7888.000000\n",
        "mean     9421.922541\n",
        "std        28.718833\n",
        "min      9411.000000\n",
        "25%      9411.000000\n",
        "50%      9412.000000\n",
        "75%      9412.000000\n",
        "max      9508.000000\n",
        "dtype: float64"
       ]
      },
      {
       "output_type": "stream",
       "stream": "stdout",
       "text": [
        "\n",
        "Name= RDATE_21, Column Info=count    9513.000000\n",
        "mean     9419.215284\n",
        "std        26.332494\n",
        "min      9409.000000\n",
        "25%      9411.000000\n",
        "50%      9411.000000\n",
        "75%      9411.000000\n",
        "max      9508.000000\n",
        "dtype: float64\n",
        "Name= RDATE_22, Column Info=count    20873.000000\n",
        "mean      9413.598429\n",
        "std         18.596155\n",
        "min       9409.000000\n",
        "25%       9409.000000\n",
        "50%       9409.000000\n",
        "75%       9410.000000\n",
        "max       9510.000000\n",
        "dtype: float64\n",
        "Name= RDATE_23, Column Info=count    7859.000000\n",
        "mean     9409.344955\n",
        "std        11.592402\n",
        "min      9309.000000\n",
        "25%      9408.000000\n",
        "50%      9408.000000\n",
        "75%      9408.000000\n",
        "max      9507.000000\n",
        "dtype: float64\n",
        "Name= RDATE_24, Column Info=count    17738.000000\n",
        "mean      9407.860751\n",
        "std         10.848795\n",
        "min       9309.000000\n",
        "25%       9406.000000\n",
        "50%       9407.000000\n",
        "75%       9407.000000\n",
        "max       9504.000000\n",
        "dtype: float64"
       ]
      },
      {
       "output_type": "stream",
       "stream": "stdout",
       "text": [
        "\n",
        "Name= RAMNT_3, Column Info=count    242.000000\n",
        "mean      12.221074\n",
        "std        9.153015\n",
        "min        2.000000\n",
        "25%        6.000000\n",
        "50%       10.000000\n",
        "75%       15.000000\n",
        "max       50.000000\n",
        "dtype: float64\n",
        "Name= RAMNT_4, Column Info=count    281.000000\n",
        "mean      14.540107\n",
        "std       14.548098\n",
        "min        1.000000\n",
        "25%        7.000000\n",
        "50%       10.000000\n",
        "75%       15.000000\n",
        "max      100.000000\n",
        "dtype: float64\n",
        "Name= RAMNT_5, Column Info=count     9.000000\n",
        "mean     17.000000\n",
        "std      14.908052\n",
        "min       4.000000\n",
        "25%       8.000000\n",
        "50%      12.000000\n",
        "75%      20.000000\n",
        "max      50.000000\n",
        "dtype: float64\n",
        "Name= RAMNT_6, Column Info=count    776.00000\n",
        "mean      14.35692\n",
        "std       10.06335\n",
        "min        1.00000\n",
        "25%        9.00000\n",
        "50%       12.00000\n",
        "75%       19.00000\n",
        "max      100.00000\n",
        "dtype: float64\n",
        "Name= RAMNT_7, Column Info=count    8895.000000\n",
        "mean       15.088435\n",
        "std        11.032013\n",
        "min         1.000000\n",
        "25%        10.000000\n",
        "50%        15.000000\n",
        "75%        20.000000\n",
        "max       250.000000\n",
        "dtype: float64\n",
        "Name= RAMNT_8, Column Info=count    21472.000000\n",
        "mean        15.673702\n",
        "std         12.153908\n",
        "min          1.000000\n",
        "25%         10.000000\n",
        "50%         15.000000\n",
        "75%         20.000000\n",
        "max        500.000000\n",
        "dtype: float64"
       ]
      },
      {
       "output_type": "stream",
       "stream": "stdout",
       "text": [
        "\n",
        "Name= RAMNT_9, Column Info=count    16734.000000\n",
        "mean        15.101013\n",
        "std         13.020388\n",
        "min          1.000000\n",
        "25%         10.000000\n",
        "50%         14.000000\n",
        "75%         20.000000\n",
        "max       1000.000000\n",
        "dtype: float64\n",
        "Name= RAMNT_10, Column Info=count    10461.000000\n",
        "mean        15.415070\n",
        "std         12.356341\n",
        "min          0.300000\n",
        "25%         10.000000\n",
        "50%         14.000000\n",
        "75%         20.000000\n",
        "max        500.000000\n",
        "dtype: float64\n",
        "Name= RAMNT_11, Column Info=count    14740.000000\n",
        "mean        14.562430\n",
        "std         10.703185\n",
        "min          1.000000\n",
        "25%          9.000000\n",
        "50%         12.000000\n",
        "75%         20.000000\n",
        "max        300.000000\n",
        "dtype: float64\n",
        "Name= RAMNT_12, Column Info=count    25700.000000\n",
        "mean        14.859901\n",
        "std         10.848680\n",
        "min          1.000000\n",
        "25%         10.000000\n",
        "50%         13.000000\n",
        "75%         20.000000\n",
        "max        300.000000\n",
        "dtype: float64"
       ]
      },
      {
       "output_type": "stream",
       "stream": "stdout",
       "text": [
        "\n",
        "Name= RAMNT_13, Column Info=count    12250.000000\n",
        "mean        13.480100\n",
        "std         10.828587\n",
        "min          0.100000\n",
        "25%          7.000000\n",
        "50%         10.000000\n",
        "75%         17.000000\n",
        "max        500.000000\n",
        "dtype: float64\n",
        "Name= RAMNT_14, Column Info=count    23317.000000\n",
        "mean        13.252321\n",
        "std          9.453886\n",
        "min          1.000000\n",
        "25%          7.000000\n",
        "50%         10.000000\n",
        "75%         16.000000\n",
        "max        200.000000\n",
        "dtype: float64\n",
        "Name= RAMNT_15, Column Info=count    7262.000000\n",
        "mean       13.347521\n",
        "std        11.043516\n",
        "min         1.000000\n",
        "25%         7.000000\n",
        "50%        10.000000\n",
        "75%        16.000000\n",
        "max       300.000000\n",
        "dtype: float64\n",
        "Name= RAMNT_16, Column Info=count    26994.000000\n",
        "mean        14.032142\n",
        "std         10.948453\n",
        "min          0.500000\n",
        "25%          8.000000\n",
        "50%         12.000000\n",
        "75%         17.000000\n",
        "max        500.000000\n",
        "dtype: float64\n",
        "Name= RAMNT_17, Column Info=count    9401.000000\n",
        "mean       12.754589\n",
        "std        10.979879\n",
        "min         1.000000\n",
        "25%         6.000000\n",
        "50%        10.000000\n",
        "75%        15.000000\n",
        "max       500.000000\n",
        "dtype: float64"
       ]
      },
      {
       "output_type": "stream",
       "stream": "stdout",
       "text": [
        "\n",
        "Name= RAMNT_18, Column Info=count    19778.000000\n",
        "mean        12.283269\n",
        "std         11.787762\n",
        "min          1.000000\n",
        "25%          6.000000\n",
        "50%         10.000000\n",
        "75%         15.000000\n",
        "max       1000.000000\n",
        "dtype: float64\n",
        "Name= RAMNT_19, Column Info=count    15877.000000\n",
        "mean        13.116019\n",
        "std         12.847063\n",
        "min          1.000000\n",
        "25%          8.000000\n",
        "50%         10.000000\n",
        "75%         15.000000\n",
        "max        970.000000\n",
        "dtype: float64\n",
        "Name= RAMNT_20, Column Info=count    7888.000000\n",
        "mean       14.262132\n",
        "std        10.161455\n",
        "min         0.500000\n",
        "25%         9.000000\n",
        "50%        12.000000\n",
        "75%        18.000000\n",
        "max       250.000000\n",
        "dtype: float64\n",
        "Name= RAMNT_21, Column Info=count    9513.000000\n",
        "mean       12.942051\n",
        "std        10.692959\n",
        "min         1.000000\n",
        "25%         7.000000\n",
        "50%        10.000000\n",
        "75%        15.000000\n",
        "max       300.000000\n",
        "dtype: float64\n",
        "Name= RAMNT_22, Column Info=count    20873.000000\n",
        "mean        12.266252\n",
        "std          9.179317\n",
        "min          0.290000\n",
        "25%          7.000000\n",
        "50%         10.000000\n",
        "75%         15.000000\n",
        "max        300.000000\n",
        "dtype: float64"
       ]
      },
      {
       "output_type": "stream",
       "stream": "stdout",
       "text": [
        "\n",
        "Name= RAMNT_23, Column Info=count    7859.000000\n",
        "mean       12.149945\n",
        "std         9.342705\n",
        "min         0.300000\n",
        "25%         6.000000\n",
        "50%        10.000000\n",
        "75%        15.000000\n",
        "max       200.000000\n",
        "dtype: float64\n",
        "Name= RAMNT_24, Column Info=count    17738.000000\n",
        "mean        11.364891\n",
        "std          8.708032\n",
        "min          1.000000\n",
        "25%          5.000000\n",
        "50%         10.000000\n",
        "75%         15.000000\n",
        "max        225.000000\n",
        "dtype: float64\n",
        "Name= RAMNTALL, Column Info=count    95412.000000\n",
        "mean       104.489351\n",
        "std        118.580367\n",
        "min         13.000000\n",
        "25%         40.000000\n",
        "50%         78.000000\n",
        "75%        131.000000\n",
        "max       9485.000000\n",
        "dtype: float64\n",
        "Name= NGIFTALL, Column Info=count    95412.000000\n",
        "mean         9.602031\n",
        "std          8.554342\n",
        "min          1.000000\n",
        "25%          3.000000\n",
        "50%          7.000000\n",
        "75%         13.000000\n",
        "max        237.000000\n",
        "dtype: float64"
       ]
      },
      {
       "output_type": "stream",
       "stream": "stdout",
       "text": [
        "\n",
        "Name= CARDGIFT, Column Info=count    95412.000000\n",
        "mean         5.058242\n",
        "std          4.526651\n",
        "min          0.000000\n",
        "25%          2.000000\n",
        "50%          4.000000\n",
        "75%          7.000000\n",
        "max         41.000000\n",
        "dtype: float64\n",
        "Name= MINRAMNT, Column Info=count    95412.000000\n",
        "mean         7.933656\n",
        "std          8.784231\n",
        "min          0.000000\n",
        "25%          3.000000\n",
        "50%          5.000000\n",
        "75%         10.000000\n",
        "max       1000.000000\n",
        "dtype: float64\n",
        "Name= MINRDATE, Column Info=count    95412.000000\n",
        "mean      9252.650998\n",
        "std        267.511838\n",
        "min       7506.000000\n",
        "25%       9101.000000\n",
        "50%       9309.000000\n",
        "75%       9504.000000\n",
        "max       9702.000000\n",
        "dtype: float64\n",
        "Name= MAXRAMNT, Column Info=count    95412.000000\n",
        "mean        19.999790\n",
        "std         25.067746\n",
        "min          5.000000\n",
        "25%         14.000000\n",
        "50%         17.000000\n",
        "75%         23.000000\n",
        "max       5000.000000\n",
        "dtype: float64"
       ]
      },
      {
       "output_type": "stream",
       "stream": "stdout",
       "text": [
        "\n",
        "Name= MAXRDATE, Column Info=count    95412.000000\n",
        "mean      9441.860426\n",
        "std        172.870471\n",
        "min       7510.000000\n",
        "25%       9409.000000\n",
        "50%       9506.000000\n",
        "75%       9512.000000\n",
        "max       9702.000000\n",
        "dtype: float64\n",
        "Name= LASTGIFT, Column Info=count    95412.000000\n",
        "mean        17.313127\n",
        "std         13.956630\n",
        "min          0.000000\n",
        "25%         10.000000\n",
        "50%         15.000000\n",
        "75%         20.000000\n",
        "max       1000.000000\n",
        "dtype: float64\n",
        "Name= LASTDATE, Column Info=count    95412.000000\n",
        "mean      9548.100365\n",
        "std         49.235664\n",
        "min       9503.000000\n",
        "25%       9509.000000\n",
        "50%       9512.000000\n",
        "75%       9602.000000\n",
        "max       9702.000000\n",
        "dtype: float64\n",
        "Name= FISTDATE, Column Info=count    95412.000000\n",
        "mean      9135.651648\n",
        "std        320.394019\n",
        "min          0.000000\n",
        "25%       8810.000000\n",
        "50%       9201.000000\n",
        "75%       9409.000000\n",
        "max       9603.000000\n",
        "dtype: float64"
       ]
      },
      {
       "output_type": "stream",
       "stream": "stdout",
       "text": [
        "\n",
        "Name= NEXTDATE, Column Info=count    85439.000000\n",
        "mean      9151.022917\n",
        "std        294.257260\n",
        "min       7211.000000\n",
        "25%       8903.000000\n",
        "50%       9204.000000\n",
        "75%       9409.000000\n",
        "max       9702.000000\n",
        "dtype: float64\n",
        "Name= TIMELAG, Column Info=count    85439.000000\n",
        "mean         8.093739\n",
        "std          8.213242\n",
        "min          0.000000\n",
        "25%          4.000000\n",
        "50%          6.000000\n",
        "75%         11.000000\n",
        "max       1088.000000\n",
        "dtype: float64\n",
        "Name= AVGGIFT, Column Info=count    95412.000000\n",
        "mean        13.347786\n",
        "std         10.769997\n",
        "min          1.285714\n",
        "25%          8.384615\n",
        "50%         11.636364\n",
        "75%         15.477955\n",
        "max       1000.000000\n",
        "dtype: float64\n",
        "Name= CONTROLN, Column Info=count     95412.000000\n",
        "mean      95778.176959\n",
        "std       55284.596094\n",
        "min           1.000000\n",
        "25%       47910.750000\n",
        "50%       95681.500000\n",
        "75%      143643.500000\n",
        "max      191779.000000\n",
        "dtype: float64"
       ]
      },
      {
       "output_type": "stream",
       "stream": "stdout",
       "text": [
        "\n",
        "Name= HPHONE_D, Column Info=count    95412.000000\n",
        "mean         0.500618\n",
        "std          0.500002\n",
        "min          0.000000\n",
        "25%          0.000000\n",
        "50%          1.000000\n",
        "75%          1.000000\n",
        "max          1.000000\n",
        "dtype: float64\n",
        "Name= CLUSTER2, Column Info=count    95280.000000\n",
        "mean        31.533711\n",
        "std         18.764614\n",
        "min          1.000000\n",
        "25%         15.000000\n",
        "50%         32.000000\n",
        "75%         49.000000\n",
        "max         62.000000\n",
        "dtype: float64\n",
        "Name= Field_0, Column Info=count    95412.000000\n",
        "mean         0.996573\n",
        "std          0.058443\n",
        "min          0.000000\n",
        "25%          1.000000\n",
        "50%          1.000000\n",
        "75%          1.000000\n",
        "max          1.000000\n",
        "dtype: float64\n",
        "Name= Field_1, Column Info=count    95412.000000\n",
        "mean         0.001960\n",
        "std          0.044228\n",
        "min          0.000000\n",
        "25%          0.000000\n",
        "50%          0.000000\n",
        "75%          0.000000\n",
        "max          1.000000\n",
        "dtype: float64"
       ]
      },
      {
       "output_type": "stream",
       "stream": "stdout",
       "text": [
        "\n",
        "Name= Field_X, Column Info=count    95412.000000\n",
        "mean         0.996919\n",
        "std          0.055425\n",
        "min          0.000000\n",
        "25%          1.000000\n",
        "50%          1.000000\n",
        "75%          1.000000\n",
        "max          1.000000\n",
        "dtype: float64\n",
        "Name= Field_ , Column Info=count    95412.000000\n",
        "mean         0.001960\n",
        "std          0.044228\n",
        "min          0.000000\n",
        "25%          0.000000\n",
        "50%          0.000000\n",
        "75%          0.000000\n",
        "max          1.000000\n",
        "dtype: float64\n",
        "Name= Field_E, Column Info=count    95412.000000\n",
        "mean         0.226795\n",
        "std          0.418761\n",
        "min          0.000000\n",
        "25%          0.000000\n",
        "50%          0.000000\n",
        "75%          0.000000\n",
        "max          1.000000\n",
        "dtype: float64\n",
        "Name= Field_I, Column Info=count    95412.000000\n",
        "mean         0.000524\n",
        "std          0.022886\n",
        "min          0.000000\n",
        "25%          0.000000\n",
        "50%          0.000000\n",
        "75%          0.000000\n",
        "max          1.000000\n",
        "dtype: float64\n",
        "Name= Field_H, Column Info=count    95412.000000\n",
        "mean         0.548715\n",
        "std          0.497624\n",
        "min          0.000000\n",
        "25%          0.000000\n",
        "50%          1.000000\n",
        "75%          1.000000\n",
        "max          1.000000\n",
        "dtype: float64"
       ]
      },
      {
       "output_type": "stream",
       "stream": "stdout",
       "text": [
        "\n",
        "Name= Field_U, Column Info=count    95412.000000\n",
        "mean         0.017975\n",
        "std          0.132860\n",
        "min          0.000000\n",
        "25%          0.000000\n",
        "50%          0.000000\n",
        "75%          0.000000\n",
        "max          1.000000\n",
        "dtype: float64\n",
        "Name= Field_F, Column Info=count    95412.000000\n",
        "mean         0.492223\n",
        "std          0.499942\n",
        "min          0.000000\n",
        "25%          0.000000\n",
        "50%          0.000000\n",
        "75%          1.000000\n",
        "max          1.000000\n",
        "dtype: float64\n",
        "Name= Field_M, Column Info=count    95412.000000\n",
        "mean         0.000178\n",
        "std          0.013347\n",
        "min          0.000000\n",
        "25%          0.000000\n",
        "50%          0.000000\n",
        "75%          0.000000\n",
        "max          1.000000\n",
        "dtype: float64\n",
        "Name= Field_C, Column Info=count    95412.000000\n",
        "mean         0.162705\n",
        "std          0.369098\n",
        "min          0.000000\n",
        "25%          0.000000\n",
        "50%          0.000000\n",
        "75%          0.000000\n",
        "max          1.000000\n",
        "dtype: float64\n",
        "Name= Field_J, Column Info=count    95412.000000\n",
        "mean         0.003826\n",
        "std          0.061733\n",
        "min          0.000000\n",
        "25%          0.000000\n",
        "50%          0.000000\n",
        "75%          0.000000\n",
        "max          1.000000\n",
        "dtype: float64"
       ]
      },
      {
       "output_type": "stream",
       "stream": "stdout",
       "text": [
        "\n",
        "Name= Field_A, Column Info=count    95412.000000\n",
        "mean         0.361422\n",
        "std          0.480415\n",
        "min          0.000000\n",
        "25%          0.000000\n",
        "50%          0.000000\n",
        "75%          1.000000\n",
        "max          1.000000\n",
        "dtype: float64\n",
        "Name= Field_3, Column Info=count    95412.000000\n",
        "mean         0.456431\n",
        "std          0.498101\n",
        "min          0.000000\n",
        "25%          0.000000\n",
        "50%          0.000000\n",
        "75%          1.000000\n",
        "max          1.000000\n",
        "dtype: float64\n",
        "Name= Field_2, Column Info=count    95412.000000\n",
        "mean         0.000912\n",
        "std          0.030183\n",
        "min          0.000000\n",
        "25%          0.000000\n",
        "50%          0.000000\n",
        "75%          0.000000\n",
        "max          1.000000\n",
        "dtype: float64\n",
        "Name= Field_Re_1_RFA_2, Column Info=count    95412\n",
        "mean         1\n",
        "std          0\n",
        "min          1\n",
        "25%          1\n",
        "50%          1\n",
        "75%          1\n",
        "max          1\n",
        "dtype: float64\n",
        "Name= Field_Re_2_RFA_2, Column Info=count    95412\n",
        "mean         1\n",
        "std          0\n",
        "min          1\n",
        "25%          1\n",
        "50%          1\n",
        "75%          1\n",
        "max          1\n",
        "dtype: float64"
       ]
      },
      {
       "output_type": "stream",
       "stream": "stdout",
       "text": [
        "\n",
        "Name= Field_Re_3_RFA_2, Column Info=count    95412.000000\n",
        "mean         0.499675\n",
        "std          0.500003\n",
        "min          0.000000\n",
        "25%          0.000000\n",
        "50%          0.000000\n",
        "75%          1.000000\n",
        "max          1.000000\n",
        "dtype: float64\n",
        "Name= Field_Re_4_RFA_2, Column Info=count    95412\n",
        "mean         1\n",
        "std          0\n",
        "min          1\n",
        "25%          1\n",
        "50%          1\n",
        "75%          1\n",
        "max          1\n",
        "dtype: float64\n",
        "Name= Field_Re_5_RFA_2, Column Info=count    95412\n",
        "mean         1\n",
        "std          0\n",
        "min          1\n",
        "25%          1\n",
        "50%          1\n",
        "75%          1\n",
        "max          1\n",
        "dtype: float64\n",
        "Name= Field_Re_6_RFA_2, Column Info=count    95412\n",
        "mean         1\n",
        "std          0\n",
        "min          1\n",
        "25%          1\n",
        "50%          1\n",
        "75%          1\n",
        "max          1\n",
        "dtype: float64\n",
        "Name= Field_Re_7_RFA_2, Column Info=count    95412.000000\n",
        "mean         0.215329\n",
        "std          0.411053\n",
        "min          0.000000\n",
        "25%          0.000000\n",
        "50%          0.000000\n",
        "75%          0.000000\n",
        "max          1.000000\n",
        "dtype: float64"
       ]
      },
      {
       "output_type": "stream",
       "stream": "stdout",
       "text": [
        "\n",
        "Name= Field_Re_1_RFA_3, Column Info=count    95412\n",
        "mean         1\n",
        "std          0\n",
        "min          1\n",
        "25%          1\n",
        "50%          1\n",
        "75%          1\n",
        "max          1\n",
        "dtype: float64\n",
        "Name= Field_Re_2_RFA_3, Column Info=count    95412.000000\n",
        "mean         0.624314\n",
        "std          0.484302\n",
        "min          0.000000\n",
        "25%          0.000000\n",
        "50%          1.000000\n",
        "75%          1.000000\n",
        "max          1.000000\n",
        "dtype: float64\n",
        "Name= Field_Re_3_RFA_3, Column Info=count    95412.000000\n",
        "mean         0.494183\n",
        "std          0.499969\n",
        "min          0.000000\n",
        "25%          0.000000\n",
        "50%          0.000000\n",
        "75%          1.000000\n",
        "max          1.000000\n",
        "dtype: float64\n",
        "Name= Field_Re_4_RFA_3, Column Info=count    95412\n",
        "mean         1\n",
        "std          0\n",
        "min          1\n",
        "25%          1\n",
        "50%          1\n",
        "75%          1\n",
        "max          1\n",
        "dtype: float64\n",
        "Name= Field_Re_5_RFA_3, Column Info=count    95412\n",
        "mean         1\n",
        "std          0\n",
        "min          1\n",
        "25%          1\n",
        "50%          1\n",
        "75%          1\n",
        "max          1\n",
        "dtype: float64"
       ]
      },
      {
       "output_type": "stream",
       "stream": "stdout",
       "text": [
        "\n",
        "Name= Field_Re_6_RFA_3, Column Info=count    95412.000000\n",
        "mean         0.624314\n",
        "std          0.484302\n",
        "min          0.000000\n",
        "25%          0.000000\n",
        "50%          1.000000\n",
        "75%          1.000000\n",
        "max          1.000000\n",
        "dtype: float64\n",
        "Name= Field_Re_7_RFA_3, Column Info=count    95412.000000\n",
        "mean         0.215990\n",
        "std          0.411509\n",
        "min          0.000000\n",
        "25%          0.000000\n",
        "50%          0.000000\n",
        "75%          0.000000\n",
        "max          1.000000\n",
        "dtype: float64\n",
        "Name= Field_L, Column Info=count    95412.000000\n",
        "mean         0.000241\n",
        "std          0.015524\n",
        "min          0.000000\n",
        "25%          0.000000\n",
        "50%          0.000000\n",
        "75%          0.000000\n",
        "max          1.000000\n",
        "dtype: float64\n",
        "Name= Field_G, Column Info=count    95412.000000\n",
        "mean         0.203297\n",
        "std          0.402454\n",
        "min          0.000000\n",
        "25%          0.000000\n",
        "50%          0.000000\n",
        "75%          0.000000\n",
        "max          1.000000\n",
        "dtype: float64"
       ]
      },
      {
       "output_type": "stream",
       "stream": "stdout",
       "text": [
        "\n",
        "Name= Field_D, Column Info=count    95412.000000\n",
        "mean         0.173773\n",
        "std          0.378916\n",
        "min          0.000000\n",
        "25%          0.000000\n",
        "50%          0.000000\n",
        "75%          0.000000\n",
        "max          1.000000\n",
        "dtype: float64\n",
        "Name= Field_5, Column Info=count    95412.000000\n",
        "mean         0.000210\n",
        "std          0.014477\n",
        "min          0.000000\n",
        "25%          0.000000\n",
        "50%          0.000000\n",
        "75%          0.000000\n",
        "max          1.000000\n",
        "dtype: float64\n",
        "Name= Field_T, Column Info=count    95412.000000\n",
        "mean         0.000052\n",
        "std          0.007239\n",
        "min          0.000000\n",
        "25%          0.000000\n",
        "50%          0.000000\n",
        "75%          0.000000\n",
        "max          1.000000\n",
        "dtype: float64\n",
        "Name= Field_B, Column Info=count    95412.000000\n",
        "mean         0.298757\n",
        "std          0.457715\n",
        "min          0.000000\n",
        "25%          0.000000\n",
        "50%          0.000000\n",
        "75%          1.000000\n",
        "max          1.000000\n",
        "dtype: float64\n",
        "Name= Field_nan, Column Info=count    95412\n",
        "mean         0\n",
        "std          0\n",
        "min          0\n",
        "25%          0\n",
        "50%          0\n",
        "75%          0\n",
        "max          0\n",
        "dtype: float64"
       ]
      },
      {
       "output_type": "stream",
       "stream": "stdout",
       "text": [
        "\n"
       ]
      }
     ],
     "prompt_number": 39
    },
    {
     "cell_type": "markdown",
     "metadata": {},
     "source": [
      "###Modeling\n",
      "\n",
      "Note that there are two labeles for this dataset: weather a person donated or not and how much they donated if they donated.  To accurately model this we would need more complicated techniques you will learn in later coursework.  However, for now we can do some exploratory analysis similar to the housing/iris notebooks we saw in class friday.\n",
      "\n",
      "Do the following steps:\n",
      "\n",
      "**Unsupervised Modeling**\n",
      "1. Use PCA to project the features onto a 2 dimensional subspace, join with the labels and plot each point using the doner/non doner to color points.  Do the labels look cleanly seperated in this 2 dimensional subspace?\n",
      "2. Cluster the raw features into 2 clusters.  Compute the percentage of donors in each cluster.  Do one of the clusters have a higher donor rate than the other?  Plot the two features which seem to seperate the clusters the most, coloring the points by the labels.\n",
      "\n",
      "**Supervised Modeling**\n",
      "1. Build a regression model on the set of known donors to predict the donation amount from all features.\n",
      "2. Compute the mean error and plot the true donation size vs predicted donation size.\n",
      "3. Print a list of features/weights for hte linear regression model sorted by absolute weight.  Do the highest weight features seem like things that would affect donation size?"
     ]
    }
   ],
   "metadata": {}
  }
 ]
}