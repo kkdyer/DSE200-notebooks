{
 "metadata": {
  "name": "",
  "signature": "sha256:98334b87a6712010ac5a3b283cab41363d83d42fcc5c9edb85236ac2a269dc31"
 },
 "nbformat": 3,
 "nbformat_minor": 0,
 "worksheets": [
  {
   "cells": [
    {
     "cell_type": "markdown",
     "metadata": {},
     "source": [
      "#Week 2 Exercises\n",
      "\n",
      "In this weeks exercises you will use Numpy/Scipy to impliment some numerical algorithms and then you will use Pandas to perform a rudamentary data analysis using the KDD 98 dataset.  Along the way you will use unix/basic python from the first week as well as git to save your work.\n",
      "\n",
      "As a first step we import the libraries we'll use later on.  This allows us to use numpy library calls by prefixing the call with np."
     ]
    },
    {
     "cell_type": "code",
     "collapsed": false,
     "input": [
      "%cd /home/dyerke/Documents/DSE/DSE200-notebooks/lecture_2_github_io_numpy_pandas/working"
     ],
     "language": "python",
     "metadata": {},
     "outputs": [
      {
       "output_type": "stream",
       "stream": "stdout",
       "text": [
        "/home/dyerke/Documents/DSE/DSE200-notebooks/lecture_2_github_io_numpy_pandas/working\n"
       ]
      }
     ],
     "prompt_number": 1
    },
    {
     "cell_type": "code",
     "collapsed": false,
     "input": [
      "#Import the libraries \n",
      "import numpy as np\n",
      "import scipy as sp\n",
      "import pandas as pd"
     ],
     "language": "python",
     "metadata": {},
     "outputs": [],
     "prompt_number": 2
    },
    {
     "cell_type": "markdown",
     "metadata": {},
     "source": [
      "##Matrix Manipulations\n",
      "Lets first create a matrix and perform some manipulations of it.\n",
      "\n",
      "Using numpy's matrix data structure, define the following matricies:\n",
      "\n",
      "$$A=\\left[ \\begin{array}{ccc} 3 & 5 & 9 \\\\ 3 & 3 & 4 \\\\ 5 & 9 & 17 \\end{array} \\right]$$\n",
      "\n",
      "$$B=\\left[ \\begin{array}{c} 2 \\\\ 1 \\\\ 4 \\end{array} \\right]$$\n",
      "\n",
      "After this solve the matrix equation:\n",
      "$$Ax = B$$"
     ]
    },
    {
     "cell_type": "code",
     "collapsed": false,
     "input": [
      "a= np.array([ [3, 5, 9], [3, 3, 4], [5, 9, 17] ])\n",
      "A= np.matrix(a)\n",
      "\n",
      "b= np.array([2., 1., 4.])\n",
      "B= np.matrix(b).transpose()\n",
      "\n",
      "x= A.I * B\n",
      "print \"x=\", x\n",
      "\n",
      "verify= A * x\n",
      "print verify\n",
      "print B"
     ],
     "language": "python",
     "metadata": {},
     "outputs": [
      {
       "output_type": "stream",
       "stream": "stdout",
       "text": [
        "x= [[ 1.]\n",
        " [-2.]\n",
        " [ 1.]]"
       ]
      },
      {
       "output_type": "stream",
       "stream": "stdout",
       "text": [
        "\n",
        "[[ 2.]\n",
        " [ 1.]\n",
        " [ 4.]]\n",
        "[[ 2.]\n",
        " [ 1.]\n",
        " [ 4.]]\n"
       ]
      }
     ],
     "prompt_number": 5
    },
    {
     "cell_type": "markdown",
     "metadata": {},
     "source": [
      "Now write three functions for matrix multiply $C=AB$ in each of the following styles:\n",
      "\n",
      "1. By using nested for loops to impliment the naive algorithm ($C_{ij}=\\sum_{k=0}^{m-1}A_{ik}B_{kj}$)\n",
      "2. Using numpy's built in martrix multiplication  \n",
      "3. Using Cython\n",
      "\n",
      "The three methods should have the same answer"
     ]
    },
    {
     "cell_type": "code",
     "collapsed": false,
     "input": [
      "import time\n",
      "\n",
      "#1 Nested For Loops\n",
      "def naive(A, B, r_duration=None):\n",
      "    if r_duration:\n",
      "        start= time.time()\n",
      "    a_shape= shape(A)\n",
      "    b_shape= shape(B)\n",
      "    if (a_shape[1] != b_shape[0]):\n",
      "        raise RuntimeError(\"Cannot execute matrix multiplication: \" + str(a_shape[1]) + \" != \" + str(b_shape[0]))\n",
      "    n= a_shape[0]\n",
      "    m= a_shape[1]\n",
      "    p= b_shape[1]\n",
      "    R= zeros( (n, p) )\n",
      "    for i in xrange(n):\n",
      "        for j in xrange(p):\n",
      "            for k in xrange(m):\n",
      "                R[i][j] += A[i][k] * B[k][j]\n",
      "    if r_duration:\n",
      "        end= time.time()\n",
      "        duration= (end - start) * 1000.\n",
      "        r_duration.value= duration\n",
      "    return (R, r_duration.value) if r_duration else R"
     ],
     "language": "python",
     "metadata": {},
     "outputs": [],
     "prompt_number": 6
    },
    {
     "cell_type": "code",
     "collapsed": false,
     "input": [
      "from multiprocessing import Value\n",
      "\n",
      "a= np.array([ [3, 5, 9], [3, 3, 4], [5, 9, 17] ])\n",
      "b= np.array([ [1], [-2], [1] ])\n",
      "R_naive= naive(a, b, Value('f', 99999.))\n",
      "print R_naive"
     ],
     "language": "python",
     "metadata": {},
     "outputs": [
      {
       "output_type": "stream",
       "stream": "stdout",
       "text": [
        "(array([[ 2.],\n",
        "       [ 1.],\n",
        "       [ 4.]]), 0.06794929504394531)\n"
       ]
      }
     ],
     "prompt_number": 7
    },
    {
     "cell_type": "code",
     "collapsed": false,
     "input": [
      "import time\n",
      "\n",
      "#2 numpy's built in matrix multiplication\n",
      "def numpy_multiply(A, B, r_duration=None):\n",
      "    if r_duration:\n",
      "        start= time.time()\n",
      "    R= A.dot(B)\n",
      "    if r_duration:\n",
      "        end= time.time()\n",
      "        duration= (end - start) * 1000.\n",
      "        r_duration.value= duration\n",
      "    return (R, r_duration.value) if r_duration else R"
     ],
     "language": "python",
     "metadata": {},
     "outputs": [],
     "prompt_number": 8
    },
    {
     "cell_type": "code",
     "collapsed": false,
     "input": [
      "from multiprocessing import Value\n",
      "\n",
      "a= np.array([ [3, 5, 9], [3, 3, 4], [5, 9, 17] ])\n",
      "b= np.array([ [1], [-2], [1] ])\n",
      "R_numpy= numpy_multiply(a, b, Value('f', 99999.))\n",
      "print R_numpy"
     ],
     "language": "python",
     "metadata": {},
     "outputs": [
      {
       "output_type": "stream",
       "stream": "stdout",
       "text": [
        "(array([[2],\n",
        "       [1],\n",
        "       [4]]), 0.12803077697753906)\n"
       ]
      }
     ],
     "prompt_number": 9
    },
    {
     "cell_type": "code",
     "collapsed": false,
     "input": [
      "%load_ext cythonmagic"
     ],
     "language": "python",
     "metadata": {},
     "outputs": [],
     "prompt_number": 10
    },
    {
     "cell_type": "code",
     "collapsed": false,
     "input": [
      "%%cython\n",
      "\n",
      "cimport numpy as np\n",
      "import numpy as np\n",
      "import time\n",
      "\n",
      "#3 cython matrix multiplication\n",
      "def cython_multiply(np.ndarray[np.int_t, ndim=2] a,\n",
      "                np.ndarray[np.int_t, ndim=2] b,\n",
      "                r_duration=None):\n",
      "    cdef double sum\n",
      "    cdef int i\n",
      "    cdef int j\n",
      "    cdef int k\n",
      "    cdef int n\n",
      "    cdef int m\n",
      "    cdef int p\n",
      "    cdef np.ndarray[np.int_t, ndim=2] R\n",
      "    \n",
      "    if r_duration:\n",
      "        start= time.time()\n",
      "        \n",
      "    if (a.shape[1] != b.shape[0]):\n",
      "        raise RuntimeError(\"Cannot execute matrix multiplication: \" + str(a.shape[1]) + \" != \" + str(b.shape[0]))\n",
      "    n= a.shape[0]\n",
      "    m= a.shape[1]\n",
      "    p= b.shape[1]\n",
      "    R= np.zeros([n, p], dtype=np.int)\n",
      "    for i in xrange(n):\n",
      "        for j in xrange(p):\n",
      "            for k in xrange(m):\n",
      "                R[i][j]= R[i][j] + a[i][k] * b[k][j]\n",
      "    if r_duration:\n",
      "        end= time.time()\n",
      "        duration= (end - start) * 1000.\n",
      "        r_duration.value= duration\n",
      "    return (R, r_duration.value) if r_duration else R"
     ],
     "language": "python",
     "metadata": {},
     "outputs": [],
     "prompt_number": 11
    },
    {
     "cell_type": "code",
     "collapsed": false,
     "input": [
      "from multiprocessing import Value\n",
      "\n",
      "a= np.array([ [3, 5, 9], [3, 3, 4], [5, 9, 17] ])\n",
      "b= np.array([ [1], [-2], [1] ])\n",
      "R_cython= cython_multiply(a, b, Value('f', 99999.))\n",
      "print R_cython"
     ],
     "language": "python",
     "metadata": {},
     "outputs": [
      {
       "output_type": "stream",
       "stream": "stdout",
       "text": [
        "(array([[2],\n",
        "       [1],\n",
        "       [4]]), 0.04506111145019531)\n"
       ]
      }
     ],
     "prompt_number": 12
    },
    {
     "cell_type": "markdown",
     "metadata": {},
     "source": [
      "Now we wish to evaluate the performance of these three methods.  Write a method that given three dmiensions (a,b,c) makes a random a x b and b x c matrix and computes the product using your three functions and reports the speed of each method.\n",
      "\n",
      "After this measure performance of each method for all $a,b,c \\in \\{10,100,1000,10000\\}$ and plot the results.  Is one method always the fastest?  Discuss why this is or is not the case."
     ]
    },
    {
     "cell_type": "code",
     "collapsed": false,
     "input": [
      "from multiprocessing import Process,Value\n",
      "import time\n",
      "\n",
      "def run_target_method(target_method, t_result, A, B):\n",
      "    # wait at most 30s\n",
      "    timeout= 30.0\n",
      "    #\n",
      "    p= Process(target=target_method, args=(A,B,t_result))\n",
      "    p.start()\n",
      "    p.join(timeout)\n",
      "    if p.is_alive():\n",
      "        p.terminate()\n",
      "    \n",
      "    \n",
      "def execute_matrix_multiplication(a, b, c):\n",
      "    A= np.random.randint(0, 100, (a, b))\n",
      "    B= np.random.randint(0, 100, (b, c))\n",
      "    \n",
      "    m_infinity= 99999.\n",
      "    tr_naive= Value('f', m_infinity)    \n",
      "    run_target_method(naive, tr_naive, A, B)\n",
      "\n",
      "    tr_numpy= Value('f', m_infinity)    \n",
      "    run_target_method(numpy_multiply, tr_numpy, A, B)\n",
      "    \n",
      "    tr_cython= Value('f', m_infinity)    \n",
      "    run_target_method(cython_multiply, tr_cython, A, B)\n",
      "    \n",
      "    return (tr_naive.value, tr_numpy.value, tr_cython.value)"
     ],
     "language": "python",
     "metadata": {},
     "outputs": [],
     "prompt_number": 13
    },
    {
     "cell_type": "code",
     "collapsed": false,
     "input": [
      "import time\n",
      "\n",
      "def measureExecuteMatrixMultiplication(experiment, k=100):\n",
      "    \"\"\" Measure the distribution of time executing Matrix Multiplication.\n",
      "    k = number of times that the experiment is repeated.\n",
      "    output:\n",
      "    Tuples of each Matrix Multiplication method\n",
      "    mean = the mean of T\n",
      "    std = the std of T\n",
      "    T = a list the contains the times of all k experiments\n",
      "    \"\"\"\n",
      "    values= experiment[1]\n",
      "    a= values[0]; b= values[1]; c= values[2]\n",
      "    print \"Executing {} samples using experiment with combination {}: values a={}, b={}, c={}\".format(k, experiment[0], a, b, c)\n",
      "    # initialize sum, time arrays\n",
      "    i_naive= 0; i_numpy= 1; i_cython= 2\n",
      "    naivesum=0; numpysum= 0; cythonsum=0\n",
      "    naivesum2=0; numpysum2= 0; cythonsum2=0\n",
      "    naiveT=np.zeros(k); numpyT= np.zeros(k); cythonT= np.zeros(k)\n",
      "    \n",
      "    for i in xrange(k):\n",
      "        print \"Performing execute_matrix_multiplication sample {}\".format(i + 1)\n",
      "        result= execute_matrix_multiplication(a,b,c)\n",
      "        print \"Aggregating results for sample {}\".format(i + 1)\n",
      "        # aggregate results\n",
      "        d= result[i_naive]\n",
      "        naiveT[i]= d\n",
      "        naivesum += d\n",
      "        naivesum2 += d*d\n",
      "        \n",
      "        d= result[i_numpy]\n",
      "        numpyT[i]= d\n",
      "        numpysum += d\n",
      "        numpysum2 += d*d\n",
      "        \n",
      "        d= result[i_cython]\n",
      "        cythonT[i]= d\n",
      "        cythonsum += d\n",
      "        cythonsum2 += d*d\n",
      "    \n",
      "    # return mean, variance, standard deviation for each method\n",
      "    naivemean= naivesum/k; naivevar= (naivesum2/k)-naivemean**2; naivestd= sqrt(naivevar)\n",
      "    naiveresult= (naivemean, naivestd, naiveT)\n",
      "    \n",
      "    numpymean= numpysum/k; numpyvar= (numpysum2/k)-numpymean**2; numpystd= sqrt(numpyvar)\n",
      "    numpyresult= (numpymean, numpystd, numpyT)\n",
      "    \n",
      "    cythonmean= cythonsum/k; cythonvar= (cythonsum2/k)-cythonmean**2; cythonstd= sqrt(cythonvar)\n",
      "    cythonresult= (cythonmean, cythonstd, cythonT)\n",
      "\n",
      "    return (naiveresult, numpyresult, cythonresult)"
     ],
     "language": "python",
     "metadata": {},
     "outputs": [],
     "prompt_number": 14
    },
    {
     "cell_type": "code",
     "collapsed": false,
     "input": [
      "a= 10; b= 10; c=10\n",
      "experiment= (('Combination {}= ({},{},{})'.format(0,a,b,c)), (a,b,c))\n",
      "R= measureExecuteMatrixMultiplication(experiment, 2)\n",
      "print \"\"\n",
      "print R"
     ],
     "language": "python",
     "metadata": {},
     "outputs": [
      {
       "output_type": "stream",
       "stream": "stdout",
       "text": [
        "Executing 2 samples using experiment with combination Combination 0= (10,10,10): values a=10, b=10, c=10\n",
        "Performing execute_matrix_multiplication sample 1\n"
       ]
      },
      {
       "output_type": "stream",
       "stream": "stdout",
       "text": [
        "Aggregating results for sample 1\n",
        "Performing execute_matrix_multiplication sample 2\n"
       ]
      },
      {
       "output_type": "stream",
       "stream": "stdout",
       "text": [
        "Aggregating results for sample 2\n",
        "\n",
        "((1.1289119720458984, 0.015020370483398438, array([ 1.14393234,  1.1138916 ])), (0.06699562072753906, 0.010967254638671875, array([ 0.05602837,  0.07796288])), (0.9500980377197266, 0.25701522827148438, array([ 1.20711327,  0.69308281])))\n"
       ]
      }
     ],
     "prompt_number": 14
    },
    {
     "cell_type": "code",
     "collapsed": false,
     "input": [
      "# Use PlotTime from 02_measuring_performance_of_memory_hierarchy.ipynb\n",
      "\n",
      "from matplotlib.backends.backend_pdf import PdfPages\n",
      "from scipy.special import erf,erfinv\n",
      "\n",
      "def PlotTime(m_i, Tsorted,Mean,Std,Color='b',LS='-',Legend=''):\n",
      "    \"\"\" plot distribution of times on a log-log scale\"\"\"\n",
      "    P=arange(1,0,-1.0/k)    # probability \n",
      "    loglog(Tsorted,P,color=Color,label=Legend,linestyle=LS)                 # plot log-log of 1-CDF \n",
      "    \n",
      "    grid()\n",
      "    loglog([Mean,Mean],[1,0.0001],color=Color,linestyle=LS)           # vert line at mean\n",
      "    Y=0.1**((m_i+1.)/2.)\n",
      "    loglog([Mean,min(Mean+Std,1)],[Y,Y],color=Color,linestyle=LS) # horiz line from mean to mean + std\n",
      "        \n",
      "    x=arange(Mean,Mean+Std*erfinv(1.0-1.0/len(Tsorted)),Std/100)  # normal distribution \n",
      "    loglog(x,1-erf((x-Mean)/Std),color=Color,linestyle=LS)"
     ],
     "language": "python",
     "metadata": {},
     "outputs": [],
     "prompt_number": 15
    },
    {
     "cell_type": "code",
     "collapsed": false,
     "input": [
      "# perform plot\n",
      "\n",
      "from matplotlib.backends.backend_pdf import PdfPages\n",
      "from scipy.special import erf,erfinv\n",
      "\n",
      "\n",
      "def doPlot(experiment, k=10):\n",
      "    i_naive= 0; i_numpy= 1; i_cython= 2\n",
      "    m_methods=[\"python\", \"numpy\", \"cython\"]\n",
      "    values= experiment[1]\n",
      "    Colors='rgb'\n",
      "\n",
      "    # create figure\n",
      "    pp = PdfPages('Figure_{}samp_{}_{}_{}.pdf'.format(k, values[0], values[1], values[2]))\n",
      "    figure(figsize=(6,4))\n",
      "    fig = matplotlib.pyplot.gcf()\n",
      "    fig.set_size_inches(18.5,10.5)\n",
      "\n",
      "    # do plot\n",
      "    R= measureExecuteMatrixMultiplication(experiment, k)\n",
      "\n",
      "    for m_i in [i_naive, i_numpy, i_cython]:\n",
      "        current_R= R[m_i]\n",
      "        mean= current_R[0]\n",
      "        std= current_R[1]\n",
      "        T= current_R[2]\n",
      "        PlotTime(m_i, sort(T),mean,std,Color=Colors[m_i],Legend=('{} method'.format(m_methods[m_i])))\n",
      "\n",
      "    grid()\n",
      "    legend(fontsize='medium')\n",
      "    xlabel('duration (ms)')\n",
      "    ylabel('1-CDF')\n",
      "    pp.savefig()\n",
      "    pp.close()\n",
      "    \n",
      "# Execute Matrix Multiplication k times\n",
      "# 0 -> naive\n",
      "# 1 -> numpy\n",
      "# 2 -> cython\n",
      "#\n",
      "# select combination\n",
      "# S= [10, 100, 1000, 10000]\n",
      "S= [10, 100]\n",
      "n= len(S) * 3\n",
      "i_random_matrix_combination= randint(0, n)\n",
      "experiments= []\n",
      "c_id= 0\n",
      "for a in S:\n",
      "    for b in S:\n",
      "        for c in S:\n",
      "            experiment= (('Combination {}= ({},{},{})'.format(c_id,a,b,c)), (a,b,c))\n",
      "            experiments.append(experiment)\n",
      "            c_id+=1\n",
      "k= 500\n",
      "experiment= experiments[i_random_matrix_combination]\n",
      "doPlot(experiment, k)"
     ],
     "language": "python",
     "metadata": {},
     "outputs": [
      {
       "output_type": "stream",
       "stream": "stdout",
       "text": [
        "Executing 500 samples using experiment with combination Combination 4= (100,10,10): values a=100, b=10, c=10\n",
        "Performing execute_matrix_multiplication sample 1\n"
       ]
      },
      {
       "output_type": "stream",
       "stream": "stdout",
       "text": [
        "Aggregating results for sample 1\n",
        "Performing execute_matrix_multiplication sample 2\n"
       ]
      },
      {
       "output_type": "stream",
       "stream": "stdout",
       "text": [
        "Aggregating results for sample 2\n",
        "Performing execute_matrix_multiplication sample 3\n"
       ]
      },
      {
       "output_type": "stream",
       "stream": "stdout",
       "text": [
        "Aggregating results for sample 3\n",
        "Performing execute_matrix_multiplication sample 4\n"
       ]
      },
      {
       "output_type": "stream",
       "stream": "stdout",
       "text": [
        "Aggregating results for sample 4\n",
        "Performing execute_matrix_multiplication sample 5\n"
       ]
      },
      {
       "output_type": "stream",
       "stream": "stdout",
       "text": [
        "Aggregating results for sample 5\n",
        "Performing execute_matrix_multiplication sample 6\n"
       ]
      },
      {
       "output_type": "stream",
       "stream": "stdout",
       "text": [
        "Aggregating results for sample 6\n",
        "Performing execute_matrix_multiplication sample 7\n"
       ]
      },
      {
       "output_type": "stream",
       "stream": "stdout",
       "text": [
        "Aggregating results for sample 7\n",
        "Performing execute_matrix_multiplication sample 8\n"
       ]
      },
      {
       "output_type": "stream",
       "stream": "stdout",
       "text": [
        "Aggregating results for sample 8\n",
        "Performing execute_matrix_multiplication sample 9\n"
       ]
      },
      {
       "output_type": "stream",
       "stream": "stdout",
       "text": [
        "Aggregating results for sample 9\n",
        "Performing execute_matrix_multiplication sample 10\n"
       ]
      },
      {
       "output_type": "stream",
       "stream": "stdout",
       "text": [
        "Aggregating results for sample 10\n",
        "Performing execute_matrix_multiplication sample 11\n"
       ]
      },
      {
       "output_type": "stream",
       "stream": "stdout",
       "text": [
        "Aggregating results for sample 11\n",
        "Performing execute_matrix_multiplication sample 12\n"
       ]
      },
      {
       "output_type": "stream",
       "stream": "stdout",
       "text": [
        "Aggregating results for sample 12\n",
        "Performing execute_matrix_multiplication sample 13\n"
       ]
      },
      {
       "output_type": "stream",
       "stream": "stdout",
       "text": [
        "Aggregating results for sample 13\n",
        "Performing execute_matrix_multiplication sample 14\n"
       ]
      },
      {
       "output_type": "stream",
       "stream": "stdout",
       "text": [
        "Aggregating results for sample 14\n",
        "Performing execute_matrix_multiplication sample 15\n"
       ]
      },
      {
       "output_type": "stream",
       "stream": "stdout",
       "text": [
        "Aggregating results for sample 15\n",
        "Performing execute_matrix_multiplication sample 16\n"
       ]
      },
      {
       "output_type": "stream",
       "stream": "stdout",
       "text": [
        "Aggregating results for sample 16\n",
        "Performing execute_matrix_multiplication sample 17\n"
       ]
      },
      {
       "output_type": "stream",
       "stream": "stdout",
       "text": [
        "Aggregating results for sample 17\n",
        "Performing execute_matrix_multiplication sample 18\n"
       ]
      },
      {
       "output_type": "stream",
       "stream": "stdout",
       "text": [
        "Aggregating results for sample 18\n",
        "Performing execute_matrix_multiplication sample 19\n"
       ]
      },
      {
       "output_type": "stream",
       "stream": "stdout",
       "text": [
        "Aggregating results for sample 19\n",
        "Performing execute_matrix_multiplication sample 20\n"
       ]
      },
      {
       "output_type": "stream",
       "stream": "stdout",
       "text": [
        "Aggregating results for sample 20\n",
        "Performing execute_matrix_multiplication sample 21\n"
       ]
      },
      {
       "output_type": "stream",
       "stream": "stdout",
       "text": [
        "Aggregating results for sample 21\n",
        "Performing execute_matrix_multiplication sample 22\n"
       ]
      },
      {
       "output_type": "stream",
       "stream": "stdout",
       "text": [
        "Aggregating results for sample 22\n",
        "Performing execute_matrix_multiplication sample 23\n"
       ]
      },
      {
       "output_type": "stream",
       "stream": "stdout",
       "text": [
        "Aggregating results for sample 23\n",
        "Performing execute_matrix_multiplication sample 24\n"
       ]
      },
      {
       "output_type": "stream",
       "stream": "stdout",
       "text": [
        "Aggregating results for sample 24\n",
        "Performing execute_matrix_multiplication sample 25\n"
       ]
      },
      {
       "output_type": "stream",
       "stream": "stdout",
       "text": [
        "Aggregating results for sample 25\n",
        "Performing execute_matrix_multiplication sample 26\n"
       ]
      },
      {
       "output_type": "stream",
       "stream": "stdout",
       "text": [
        "Aggregating results for sample 26\n",
        "Performing execute_matrix_multiplication sample 27\n"
       ]
      },
      {
       "output_type": "stream",
       "stream": "stdout",
       "text": [
        "Aggregating results for sample 27\n",
        "Performing execute_matrix_multiplication sample 28\n"
       ]
      },
      {
       "output_type": "stream",
       "stream": "stdout",
       "text": [
        "Aggregating results for sample 28\n",
        "Performing execute_matrix_multiplication sample 29\n"
       ]
      },
      {
       "output_type": "stream",
       "stream": "stdout",
       "text": [
        "Aggregating results for sample 29\n",
        "Performing execute_matrix_multiplication sample 30\n"
       ]
      },
      {
       "output_type": "stream",
       "stream": "stdout",
       "text": [
        "Aggregating results for sample 30\n",
        "Performing execute_matrix_multiplication sample 31\n"
       ]
      },
      {
       "output_type": "stream",
       "stream": "stdout",
       "text": [
        "Aggregating results for sample 31\n",
        "Performing execute_matrix_multiplication sample 32\n"
       ]
      },
      {
       "output_type": "stream",
       "stream": "stdout",
       "text": [
        "Aggregating results for sample 32\n",
        "Performing execute_matrix_multiplication sample 33\n"
       ]
      },
      {
       "output_type": "stream",
       "stream": "stdout",
       "text": [
        "Aggregating results for sample 33\n",
        "Performing execute_matrix_multiplication sample 34\n"
       ]
      },
      {
       "output_type": "stream",
       "stream": "stdout",
       "text": [
        "Aggregating results for sample 34\n",
        "Performing execute_matrix_multiplication sample 35\n"
       ]
      },
      {
       "output_type": "stream",
       "stream": "stdout",
       "text": [
        "Aggregating results for sample 35\n",
        "Performing execute_matrix_multiplication sample 36\n"
       ]
      },
      {
       "output_type": "stream",
       "stream": "stdout",
       "text": [
        "Aggregating results for sample 36\n",
        "Performing execute_matrix_multiplication sample 37\n"
       ]
      },
      {
       "output_type": "stream",
       "stream": "stdout",
       "text": [
        "Aggregating results for sample 37\n",
        "Performing execute_matrix_multiplication sample 38\n"
       ]
      },
      {
       "output_type": "stream",
       "stream": "stdout",
       "text": [
        "Aggregating results for sample 38\n",
        "Performing execute_matrix_multiplication sample 39\n"
       ]
      },
      {
       "output_type": "stream",
       "stream": "stdout",
       "text": [
        "Aggregating results for sample 39\n",
        "Performing execute_matrix_multiplication sample 40\n"
       ]
      },
      {
       "output_type": "stream",
       "stream": "stdout",
       "text": [
        "Aggregating results for sample 40\n",
        "Performing execute_matrix_multiplication sample 41\n"
       ]
      },
      {
       "output_type": "stream",
       "stream": "stdout",
       "text": [
        "Aggregating results for sample 41\n",
        "Performing execute_matrix_multiplication sample 42\n"
       ]
      },
      {
       "output_type": "stream",
       "stream": "stdout",
       "text": [
        "Aggregating results for sample 42\n",
        "Performing execute_matrix_multiplication sample 43\n"
       ]
      },
      {
       "output_type": "stream",
       "stream": "stdout",
       "text": [
        "Aggregating results for sample 43\n",
        "Performing execute_matrix_multiplication sample 44\n"
       ]
      },
      {
       "output_type": "stream",
       "stream": "stdout",
       "text": [
        "Aggregating results for sample 44\n",
        "Performing execute_matrix_multiplication sample 45\n"
       ]
      },
      {
       "output_type": "stream",
       "stream": "stdout",
       "text": [
        "Aggregating results for sample 45\n",
        "Performing execute_matrix_multiplication sample 46\n"
       ]
      },
      {
       "output_type": "stream",
       "stream": "stdout",
       "text": [
        "Aggregating results for sample 46\n",
        "Performing execute_matrix_multiplication sample 47\n"
       ]
      },
      {
       "output_type": "stream",
       "stream": "stdout",
       "text": [
        "Aggregating results for sample 47\n",
        "Performing execute_matrix_multiplication sample 48\n"
       ]
      },
      {
       "output_type": "stream",
       "stream": "stdout",
       "text": [
        "Aggregating results for sample 48\n",
        "Performing execute_matrix_multiplication sample 49\n"
       ]
      },
      {
       "output_type": "stream",
       "stream": "stdout",
       "text": [
        "Aggregating results for sample 49\n",
        "Performing execute_matrix_multiplication sample 50\n"
       ]
      },
      {
       "output_type": "stream",
       "stream": "stdout",
       "text": [
        "Aggregating results for sample 50\n",
        "Performing execute_matrix_multiplication sample 51\n"
       ]
      },
      {
       "output_type": "stream",
       "stream": "stdout",
       "text": [
        "Aggregating results for sample 51\n",
        "Performing execute_matrix_multiplication sample 52\n"
       ]
      },
      {
       "output_type": "stream",
       "stream": "stdout",
       "text": [
        "Aggregating results for sample 52\n",
        "Performing execute_matrix_multiplication sample 53\n"
       ]
      },
      {
       "output_type": "stream",
       "stream": "stdout",
       "text": [
        "Aggregating results for sample 53\n",
        "Performing execute_matrix_multiplication sample 54\n"
       ]
      },
      {
       "output_type": "stream",
       "stream": "stdout",
       "text": [
        "Aggregating results for sample 54\n",
        "Performing execute_matrix_multiplication sample 55\n"
       ]
      },
      {
       "output_type": "stream",
       "stream": "stdout",
       "text": [
        "Aggregating results for sample 55\n",
        "Performing execute_matrix_multiplication sample 56\n"
       ]
      },
      {
       "output_type": "stream",
       "stream": "stdout",
       "text": [
        "Aggregating results for sample 56\n",
        "Performing execute_matrix_multiplication sample 57\n"
       ]
      },
      {
       "output_type": "stream",
       "stream": "stdout",
       "text": [
        "Aggregating results for sample 57\n",
        "Performing execute_matrix_multiplication sample 58\n"
       ]
      },
      {
       "output_type": "stream",
       "stream": "stdout",
       "text": [
        "Aggregating results for sample 58\n",
        "Performing execute_matrix_multiplication sample 59\n"
       ]
      },
      {
       "output_type": "stream",
       "stream": "stdout",
       "text": [
        "Aggregating results for sample 59\n",
        "Performing execute_matrix_multiplication sample 60\n"
       ]
      },
      {
       "output_type": "stream",
       "stream": "stdout",
       "text": [
        "Aggregating results for sample 60\n",
        "Performing execute_matrix_multiplication sample 61\n"
       ]
      },
      {
       "output_type": "stream",
       "stream": "stdout",
       "text": [
        "Aggregating results for sample 61\n",
        "Performing execute_matrix_multiplication sample 62\n"
       ]
      },
      {
       "output_type": "stream",
       "stream": "stdout",
       "text": [
        "Aggregating results for sample 62\n",
        "Performing execute_matrix_multiplication sample 63\n"
       ]
      },
      {
       "output_type": "stream",
       "stream": "stdout",
       "text": [
        "Aggregating results for sample 63\n",
        "Performing execute_matrix_multiplication sample 64\n"
       ]
      },
      {
       "output_type": "stream",
       "stream": "stdout",
       "text": [
        "Aggregating results for sample 64\n",
        "Performing execute_matrix_multiplication sample 65\n"
       ]
      },
      {
       "output_type": "stream",
       "stream": "stdout",
       "text": [
        "Aggregating results for sample 65\n",
        "Performing execute_matrix_multiplication sample 66\n"
       ]
      },
      {
       "output_type": "stream",
       "stream": "stdout",
       "text": [
        "Aggregating results for sample 66\n",
        "Performing execute_matrix_multiplication sample 67\n"
       ]
      },
      {
       "output_type": "stream",
       "stream": "stdout",
       "text": [
        "Aggregating results for sample 67\n",
        "Performing execute_matrix_multiplication sample 68\n"
       ]
      },
      {
       "output_type": "stream",
       "stream": "stdout",
       "text": [
        "Aggregating results for sample 68\n",
        "Performing execute_matrix_multiplication sample 69\n"
       ]
      },
      {
       "output_type": "stream",
       "stream": "stdout",
       "text": [
        "Aggregating results for sample 69\n",
        "Performing execute_matrix_multiplication sample 70\n"
       ]
      },
      {
       "output_type": "stream",
       "stream": "stdout",
       "text": [
        "Aggregating results for sample 70\n",
        "Performing execute_matrix_multiplication sample 71\n"
       ]
      },
      {
       "output_type": "stream",
       "stream": "stdout",
       "text": [
        "Aggregating results for sample 71\n",
        "Performing execute_matrix_multiplication sample 72\n"
       ]
      },
      {
       "output_type": "stream",
       "stream": "stdout",
       "text": [
        "Aggregating results for sample 72\n",
        "Performing execute_matrix_multiplication sample 73\n"
       ]
      },
      {
       "output_type": "stream",
       "stream": "stdout",
       "text": [
        "Aggregating results for sample 73\n",
        "Performing execute_matrix_multiplication sample 74\n"
       ]
      },
      {
       "output_type": "stream",
       "stream": "stdout",
       "text": [
        "Aggregating results for sample 74\n",
        "Performing execute_matrix_multiplication sample 75\n"
       ]
      },
      {
       "output_type": "stream",
       "stream": "stdout",
       "text": [
        "Aggregating results for sample 75\n",
        "Performing execute_matrix_multiplication sample 76\n"
       ]
      },
      {
       "output_type": "stream",
       "stream": "stdout",
       "text": [
        "Aggregating results for sample 76\n",
        "Performing execute_matrix_multiplication sample 77\n"
       ]
      },
      {
       "output_type": "stream",
       "stream": "stdout",
       "text": [
        "Aggregating results for sample 77\n",
        "Performing execute_matrix_multiplication sample 78\n"
       ]
      },
      {
       "output_type": "stream",
       "stream": "stdout",
       "text": [
        "Aggregating results for sample 78\n",
        "Performing execute_matrix_multiplication sample 79\n"
       ]
      },
      {
       "output_type": "stream",
       "stream": "stdout",
       "text": [
        "Aggregating results for sample 79\n",
        "Performing execute_matrix_multiplication sample 80\n"
       ]
      },
      {
       "output_type": "stream",
       "stream": "stdout",
       "text": [
        "Aggregating results for sample 80\n",
        "Performing execute_matrix_multiplication sample 81\n"
       ]
      },
      {
       "output_type": "stream",
       "stream": "stdout",
       "text": [
        "Aggregating results for sample 81\n",
        "Performing execute_matrix_multiplication sample 82\n"
       ]
      },
      {
       "output_type": "stream",
       "stream": "stdout",
       "text": [
        "Aggregating results for sample 82\n",
        "Performing execute_matrix_multiplication sample 83\n"
       ]
      },
      {
       "output_type": "stream",
       "stream": "stdout",
       "text": [
        "Aggregating results for sample 83\n",
        "Performing execute_matrix_multiplication sample 84\n"
       ]
      },
      {
       "output_type": "stream",
       "stream": "stdout",
       "text": [
        "Aggregating results for sample 84\n",
        "Performing execute_matrix_multiplication sample 85\n"
       ]
      },
      {
       "output_type": "stream",
       "stream": "stdout",
       "text": [
        "Aggregating results for sample 85\n",
        "Performing execute_matrix_multiplication sample 86\n"
       ]
      },
      {
       "output_type": "stream",
       "stream": "stdout",
       "text": [
        "Aggregating results for sample 86\n",
        "Performing execute_matrix_multiplication sample 87\n"
       ]
      },
      {
       "output_type": "stream",
       "stream": "stdout",
       "text": [
        "Aggregating results for sample 87\n",
        "Performing execute_matrix_multiplication sample 88\n"
       ]
      },
      {
       "output_type": "stream",
       "stream": "stdout",
       "text": [
        "Aggregating results for sample 88\n",
        "Performing execute_matrix_multiplication sample 89\n"
       ]
      },
      {
       "output_type": "stream",
       "stream": "stdout",
       "text": [
        "Aggregating results for sample 89\n",
        "Performing execute_matrix_multiplication sample 90\n"
       ]
      },
      {
       "output_type": "stream",
       "stream": "stdout",
       "text": [
        "Aggregating results for sample 90\n",
        "Performing execute_matrix_multiplication sample 91\n"
       ]
      },
      {
       "output_type": "stream",
       "stream": "stdout",
       "text": [
        "Aggregating results for sample 91\n",
        "Performing execute_matrix_multiplication sample 92\n"
       ]
      },
      {
       "output_type": "stream",
       "stream": "stdout",
       "text": [
        "Aggregating results for sample 92\n",
        "Performing execute_matrix_multiplication sample 93\n"
       ]
      },
      {
       "output_type": "stream",
       "stream": "stdout",
       "text": [
        "Aggregating results for sample 93\n",
        "Performing execute_matrix_multiplication sample 94\n"
       ]
      },
      {
       "output_type": "stream",
       "stream": "stdout",
       "text": [
        "Aggregating results for sample 94\n",
        "Performing execute_matrix_multiplication sample 95\n"
       ]
      },
      {
       "output_type": "stream",
       "stream": "stdout",
       "text": [
        "Aggregating results for sample 95\n",
        "Performing execute_matrix_multiplication sample 96\n"
       ]
      },
      {
       "output_type": "stream",
       "stream": "stdout",
       "text": [
        "Aggregating results for sample 96\n",
        "Performing execute_matrix_multiplication sample 97\n"
       ]
      },
      {
       "output_type": "stream",
       "stream": "stdout",
       "text": [
        "Aggregating results for sample 97\n",
        "Performing execute_matrix_multiplication sample 98\n"
       ]
      },
      {
       "output_type": "stream",
       "stream": "stdout",
       "text": [
        "Aggregating results for sample 98\n",
        "Performing execute_matrix_multiplication sample 99\n"
       ]
      },
      {
       "output_type": "stream",
       "stream": "stdout",
       "text": [
        "Aggregating results for sample 99\n",
        "Performing execute_matrix_multiplication sample 100\n"
       ]
      },
      {
       "output_type": "stream",
       "stream": "stdout",
       "text": [
        "Aggregating results for sample 100\n",
        "Performing execute_matrix_multiplication sample 101\n"
       ]
      },
      {
       "output_type": "stream",
       "stream": "stdout",
       "text": [
        "Aggregating results for sample 101\n",
        "Performing execute_matrix_multiplication sample 102\n"
       ]
      },
      {
       "output_type": "stream",
       "stream": "stdout",
       "text": [
        "Aggregating results for sample 102\n",
        "Performing execute_matrix_multiplication sample 103\n"
       ]
      },
      {
       "output_type": "stream",
       "stream": "stdout",
       "text": [
        "Aggregating results for sample 103\n",
        "Performing execute_matrix_multiplication sample 104\n"
       ]
      },
      {
       "output_type": "stream",
       "stream": "stdout",
       "text": [
        "Aggregating results for sample 104\n",
        "Performing execute_matrix_multiplication sample 105\n"
       ]
      },
      {
       "output_type": "stream",
       "stream": "stdout",
       "text": [
        "Aggregating results for sample 105\n",
        "Performing execute_matrix_multiplication sample 106\n"
       ]
      },
      {
       "output_type": "stream",
       "stream": "stdout",
       "text": [
        "Aggregating results for sample 106\n",
        "Performing execute_matrix_multiplication sample 107\n"
       ]
      },
      {
       "output_type": "stream",
       "stream": "stdout",
       "text": [
        "Aggregating results for sample 107\n",
        "Performing execute_matrix_multiplication sample 108\n"
       ]
      },
      {
       "output_type": "stream",
       "stream": "stdout",
       "text": [
        "Aggregating results for sample 108\n",
        "Performing execute_matrix_multiplication sample 109\n"
       ]
      },
      {
       "output_type": "stream",
       "stream": "stdout",
       "text": [
        "Aggregating results for sample 109\n",
        "Performing execute_matrix_multiplication sample 110\n"
       ]
      },
      {
       "output_type": "stream",
       "stream": "stdout",
       "text": [
        "Aggregating results for sample 110\n",
        "Performing execute_matrix_multiplication sample 111\n"
       ]
      },
      {
       "output_type": "stream",
       "stream": "stdout",
       "text": [
        "Aggregating results for sample 111\n",
        "Performing execute_matrix_multiplication sample 112\n"
       ]
      },
      {
       "output_type": "stream",
       "stream": "stdout",
       "text": [
        "Aggregating results for sample 112\n",
        "Performing execute_matrix_multiplication sample 113\n"
       ]
      },
      {
       "output_type": "stream",
       "stream": "stdout",
       "text": [
        "Aggregating results for sample 113\n",
        "Performing execute_matrix_multiplication sample 114\n"
       ]
      },
      {
       "output_type": "stream",
       "stream": "stdout",
       "text": [
        "Aggregating results for sample 114\n",
        "Performing execute_matrix_multiplication sample 115\n"
       ]
      },
      {
       "output_type": "stream",
       "stream": "stdout",
       "text": [
        "Aggregating results for sample 115\n",
        "Performing execute_matrix_multiplication sample 116\n"
       ]
      },
      {
       "output_type": "stream",
       "stream": "stdout",
       "text": [
        "Aggregating results for sample 116\n",
        "Performing execute_matrix_multiplication sample 117\n"
       ]
      },
      {
       "output_type": "stream",
       "stream": "stdout",
       "text": [
        "Aggregating results for sample 117\n",
        "Performing execute_matrix_multiplication sample 118\n"
       ]
      },
      {
       "output_type": "stream",
       "stream": "stdout",
       "text": [
        "Aggregating results for sample 118\n",
        "Performing execute_matrix_multiplication sample 119\n"
       ]
      },
      {
       "output_type": "stream",
       "stream": "stdout",
       "text": [
        "Aggregating results for sample 119\n",
        "Performing execute_matrix_multiplication sample 120\n"
       ]
      },
      {
       "output_type": "stream",
       "stream": "stdout",
       "text": [
        "Aggregating results for sample 120\n",
        "Performing execute_matrix_multiplication sample 121\n"
       ]
      },
      {
       "output_type": "stream",
       "stream": "stdout",
       "text": [
        "Aggregating results for sample 121\n",
        "Performing execute_matrix_multiplication sample 122\n"
       ]
      },
      {
       "output_type": "stream",
       "stream": "stdout",
       "text": [
        "Aggregating results for sample 122\n",
        "Performing execute_matrix_multiplication sample 123\n"
       ]
      },
      {
       "output_type": "stream",
       "stream": "stdout",
       "text": [
        "Aggregating results for sample 123\n",
        "Performing execute_matrix_multiplication sample 124\n"
       ]
      },
      {
       "output_type": "stream",
       "stream": "stdout",
       "text": [
        "Aggregating results for sample 124\n",
        "Performing execute_matrix_multiplication sample 125\n"
       ]
      },
      {
       "output_type": "stream",
       "stream": "stdout",
       "text": [
        "Aggregating results for sample 125\n",
        "Performing execute_matrix_multiplication sample 126\n"
       ]
      },
      {
       "output_type": "stream",
       "stream": "stdout",
       "text": [
        "Aggregating results for sample 126\n",
        "Performing execute_matrix_multiplication sample 127\n"
       ]
      },
      {
       "output_type": "stream",
       "stream": "stdout",
       "text": [
        "Aggregating results for sample 127\n",
        "Performing execute_matrix_multiplication sample 128\n"
       ]
      },
      {
       "output_type": "stream",
       "stream": "stdout",
       "text": [
        "Aggregating results for sample 128\n",
        "Performing execute_matrix_multiplication sample 129\n"
       ]
      },
      {
       "output_type": "stream",
       "stream": "stdout",
       "text": [
        "Aggregating results for sample 129\n",
        "Performing execute_matrix_multiplication sample 130\n"
       ]
      },
      {
       "output_type": "stream",
       "stream": "stdout",
       "text": [
        "Aggregating results for sample 130\n",
        "Performing execute_matrix_multiplication sample 131\n"
       ]
      },
      {
       "output_type": "stream",
       "stream": "stdout",
       "text": [
        "Aggregating results for sample 131\n",
        "Performing execute_matrix_multiplication sample 132\n"
       ]
      },
      {
       "output_type": "stream",
       "stream": "stdout",
       "text": [
        "Aggregating results for sample 132\n",
        "Performing execute_matrix_multiplication sample 133\n"
       ]
      },
      {
       "output_type": "stream",
       "stream": "stdout",
       "text": [
        "Aggregating results for sample 133\n",
        "Performing execute_matrix_multiplication sample 134\n"
       ]
      },
      {
       "output_type": "stream",
       "stream": "stdout",
       "text": [
        "Aggregating results for sample 134\n",
        "Performing execute_matrix_multiplication sample 135\n"
       ]
      },
      {
       "output_type": "stream",
       "stream": "stdout",
       "text": [
        "Aggregating results for sample 135\n",
        "Performing execute_matrix_multiplication sample 136\n"
       ]
      },
      {
       "output_type": "stream",
       "stream": "stdout",
       "text": [
        "Aggregating results for sample 136\n",
        "Performing execute_matrix_multiplication sample 137\n"
       ]
      },
      {
       "output_type": "stream",
       "stream": "stdout",
       "text": [
        "Aggregating results for sample 137\n",
        "Performing execute_matrix_multiplication sample 138\n"
       ]
      },
      {
       "output_type": "stream",
       "stream": "stdout",
       "text": [
        "Aggregating results for sample 138\n",
        "Performing execute_matrix_multiplication sample 139\n"
       ]
      },
      {
       "output_type": "stream",
       "stream": "stdout",
       "text": [
        "Aggregating results for sample 139\n",
        "Performing execute_matrix_multiplication sample 140\n"
       ]
      },
      {
       "output_type": "stream",
       "stream": "stdout",
       "text": [
        "Aggregating results for sample 140\n",
        "Performing execute_matrix_multiplication sample 141\n"
       ]
      },
      {
       "output_type": "stream",
       "stream": "stdout",
       "text": [
        "Aggregating results for sample 141\n",
        "Performing execute_matrix_multiplication sample 142\n"
       ]
      },
      {
       "output_type": "stream",
       "stream": "stdout",
       "text": [
        "Aggregating results for sample 142\n",
        "Performing execute_matrix_multiplication sample 143\n"
       ]
      },
      {
       "output_type": "stream",
       "stream": "stdout",
       "text": [
        "Aggregating results for sample 143\n",
        "Performing execute_matrix_multiplication sample 144\n"
       ]
      },
      {
       "output_type": "stream",
       "stream": "stdout",
       "text": [
        "Aggregating results for sample 144\n",
        "Performing execute_matrix_multiplication sample 145\n"
       ]
      },
      {
       "output_type": "stream",
       "stream": "stdout",
       "text": [
        "Aggregating results for sample 145\n",
        "Performing execute_matrix_multiplication sample 146\n"
       ]
      },
      {
       "output_type": "stream",
       "stream": "stdout",
       "text": [
        "Aggregating results for sample 146\n",
        "Performing execute_matrix_multiplication sample 147\n"
       ]
      },
      {
       "output_type": "stream",
       "stream": "stdout",
       "text": [
        "Aggregating results for sample 147\n",
        "Performing execute_matrix_multiplication sample 148\n"
       ]
      },
      {
       "output_type": "stream",
       "stream": "stdout",
       "text": [
        "Aggregating results for sample 148\n",
        "Performing execute_matrix_multiplication sample 149\n"
       ]
      },
      {
       "output_type": "stream",
       "stream": "stdout",
       "text": [
        "Aggregating results for sample 149\n",
        "Performing execute_matrix_multiplication sample 150\n"
       ]
      },
      {
       "output_type": "stream",
       "stream": "stdout",
       "text": [
        "Aggregating results for sample 150\n",
        "Performing execute_matrix_multiplication sample 151\n"
       ]
      },
      {
       "output_type": "stream",
       "stream": "stdout",
       "text": [
        "Aggregating results for sample 151\n",
        "Performing execute_matrix_multiplication sample 152\n"
       ]
      },
      {
       "output_type": "stream",
       "stream": "stdout",
       "text": [
        "Aggregating results for sample 152\n",
        "Performing execute_matrix_multiplication sample 153\n"
       ]
      },
      {
       "output_type": "stream",
       "stream": "stdout",
       "text": [
        "Aggregating results for sample 153\n",
        "Performing execute_matrix_multiplication sample 154\n"
       ]
      },
      {
       "output_type": "stream",
       "stream": "stdout",
       "text": [
        "Aggregating results for sample 154\n",
        "Performing execute_matrix_multiplication sample 155\n"
       ]
      },
      {
       "output_type": "stream",
       "stream": "stdout",
       "text": [
        "Aggregating results for sample 155\n",
        "Performing execute_matrix_multiplication sample 156\n"
       ]
      },
      {
       "output_type": "stream",
       "stream": "stdout",
       "text": [
        "Aggregating results for sample 156\n",
        "Performing execute_matrix_multiplication sample 157\n"
       ]
      },
      {
       "output_type": "stream",
       "stream": "stdout",
       "text": [
        "Aggregating results for sample 157\n",
        "Performing execute_matrix_multiplication sample 158\n"
       ]
      },
      {
       "output_type": "stream",
       "stream": "stdout",
       "text": [
        "Aggregating results for sample 158\n",
        "Performing execute_matrix_multiplication sample 159\n"
       ]
      },
      {
       "output_type": "stream",
       "stream": "stdout",
       "text": [
        "Aggregating results for sample 159\n",
        "Performing execute_matrix_multiplication sample 160\n"
       ]
      },
      {
       "output_type": "stream",
       "stream": "stdout",
       "text": [
        "Aggregating results for sample 160\n",
        "Performing execute_matrix_multiplication sample 161\n"
       ]
      },
      {
       "output_type": "stream",
       "stream": "stdout",
       "text": [
        "Aggregating results for sample 161\n",
        "Performing execute_matrix_multiplication sample 162\n"
       ]
      },
      {
       "output_type": "stream",
       "stream": "stdout",
       "text": [
        "Aggregating results for sample 162\n",
        "Performing execute_matrix_multiplication sample 163\n"
       ]
      },
      {
       "output_type": "stream",
       "stream": "stdout",
       "text": [
        "Aggregating results for sample 163\n",
        "Performing execute_matrix_multiplication sample 164\n"
       ]
      },
      {
       "output_type": "stream",
       "stream": "stdout",
       "text": [
        "Aggregating results for sample 164\n",
        "Performing execute_matrix_multiplication sample 165\n"
       ]
      },
      {
       "output_type": "stream",
       "stream": "stdout",
       "text": [
        "Aggregating results for sample 165\n",
        "Performing execute_matrix_multiplication sample 166\n"
       ]
      },
      {
       "output_type": "stream",
       "stream": "stdout",
       "text": [
        "Aggregating results for sample 166\n",
        "Performing execute_matrix_multiplication sample 167\n"
       ]
      },
      {
       "output_type": "stream",
       "stream": "stdout",
       "text": [
        "Aggregating results for sample 167\n",
        "Performing execute_matrix_multiplication sample 168\n"
       ]
      },
      {
       "output_type": "stream",
       "stream": "stdout",
       "text": [
        "Aggregating results for sample 168\n",
        "Performing execute_matrix_multiplication sample 169\n"
       ]
      },
      {
       "output_type": "stream",
       "stream": "stdout",
       "text": [
        "Aggregating results for sample 169\n",
        "Performing execute_matrix_multiplication sample 170\n"
       ]
      },
      {
       "output_type": "stream",
       "stream": "stdout",
       "text": [
        "Aggregating results for sample 170\n",
        "Performing execute_matrix_multiplication sample 171\n"
       ]
      },
      {
       "output_type": "stream",
       "stream": "stdout",
       "text": [
        "Aggregating results for sample 171\n",
        "Performing execute_matrix_multiplication sample 172\n"
       ]
      },
      {
       "output_type": "stream",
       "stream": "stdout",
       "text": [
        "Aggregating results for sample 172\n",
        "Performing execute_matrix_multiplication sample 173\n"
       ]
      },
      {
       "output_type": "stream",
       "stream": "stdout",
       "text": [
        "Aggregating results for sample 173\n",
        "Performing execute_matrix_multiplication sample 174\n"
       ]
      },
      {
       "output_type": "stream",
       "stream": "stdout",
       "text": [
        "Aggregating results for sample 174\n",
        "Performing execute_matrix_multiplication sample 175\n"
       ]
      },
      {
       "output_type": "stream",
       "stream": "stdout",
       "text": [
        "Aggregating results for sample 175\n",
        "Performing execute_matrix_multiplication sample 176\n"
       ]
      },
      {
       "output_type": "stream",
       "stream": "stdout",
       "text": [
        "Aggregating results for sample 176\n",
        "Performing execute_matrix_multiplication sample 177\n"
       ]
      },
      {
       "output_type": "stream",
       "stream": "stdout",
       "text": [
        "Aggregating results for sample 177\n",
        "Performing execute_matrix_multiplication sample 178\n"
       ]
      },
      {
       "output_type": "stream",
       "stream": "stdout",
       "text": [
        "Aggregating results for sample 178\n",
        "Performing execute_matrix_multiplication sample 179\n"
       ]
      },
      {
       "output_type": "stream",
       "stream": "stdout",
       "text": [
        "Aggregating results for sample 179\n",
        "Performing execute_matrix_multiplication sample 180\n"
       ]
      },
      {
       "output_type": "stream",
       "stream": "stdout",
       "text": [
        "Aggregating results for sample 180\n",
        "Performing execute_matrix_multiplication sample 181\n"
       ]
      },
      {
       "output_type": "stream",
       "stream": "stdout",
       "text": [
        "Aggregating results for sample 181\n",
        "Performing execute_matrix_multiplication sample 182\n"
       ]
      },
      {
       "output_type": "stream",
       "stream": "stdout",
       "text": [
        "Aggregating results for sample 182\n",
        "Performing execute_matrix_multiplication sample 183\n"
       ]
      },
      {
       "output_type": "stream",
       "stream": "stdout",
       "text": [
        "Aggregating results for sample 183\n",
        "Performing execute_matrix_multiplication sample 184\n"
       ]
      },
      {
       "output_type": "stream",
       "stream": "stdout",
       "text": [
        "Aggregating results for sample 184\n",
        "Performing execute_matrix_multiplication sample 185\n"
       ]
      },
      {
       "output_type": "stream",
       "stream": "stdout",
       "text": [
        "Aggregating results for sample 185\n",
        "Performing execute_matrix_multiplication sample 186\n"
       ]
      },
      {
       "output_type": "stream",
       "stream": "stdout",
       "text": [
        "Aggregating results for sample 186\n",
        "Performing execute_matrix_multiplication sample 187\n"
       ]
      },
      {
       "output_type": "stream",
       "stream": "stdout",
       "text": [
        "Aggregating results for sample 187\n",
        "Performing execute_matrix_multiplication sample 188\n"
       ]
      },
      {
       "output_type": "stream",
       "stream": "stdout",
       "text": [
        "Aggregating results for sample 188\n",
        "Performing execute_matrix_multiplication sample 189\n"
       ]
      },
      {
       "output_type": "stream",
       "stream": "stdout",
       "text": [
        "Aggregating results for sample 189\n",
        "Performing execute_matrix_multiplication sample 190\n"
       ]
      },
      {
       "output_type": "stream",
       "stream": "stdout",
       "text": [
        "Aggregating results for sample 190\n",
        "Performing execute_matrix_multiplication sample 191\n"
       ]
      },
      {
       "output_type": "stream",
       "stream": "stdout",
       "text": [
        "Aggregating results for sample 191\n",
        "Performing execute_matrix_multiplication sample 192\n"
       ]
      },
      {
       "output_type": "stream",
       "stream": "stdout",
       "text": [
        "Aggregating results for sample 192\n",
        "Performing execute_matrix_multiplication sample 193\n"
       ]
      },
      {
       "output_type": "stream",
       "stream": "stdout",
       "text": [
        "Aggregating results for sample 193\n",
        "Performing execute_matrix_multiplication sample 194\n"
       ]
      },
      {
       "output_type": "stream",
       "stream": "stdout",
       "text": [
        "Aggregating results for sample 194\n",
        "Performing execute_matrix_multiplication sample 195\n"
       ]
      },
      {
       "output_type": "stream",
       "stream": "stdout",
       "text": [
        "Aggregating results for sample 195\n",
        "Performing execute_matrix_multiplication sample 196\n"
       ]
      },
      {
       "output_type": "stream",
       "stream": "stdout",
       "text": [
        "Aggregating results for sample 196\n",
        "Performing execute_matrix_multiplication sample 197\n"
       ]
      },
      {
       "output_type": "stream",
       "stream": "stdout",
       "text": [
        "Aggregating results for sample 197\n",
        "Performing execute_matrix_multiplication sample 198\n"
       ]
      },
      {
       "output_type": "stream",
       "stream": "stdout",
       "text": [
        "Aggregating results for sample 198\n",
        "Performing execute_matrix_multiplication sample 199\n"
       ]
      },
      {
       "output_type": "stream",
       "stream": "stdout",
       "text": [
        "Aggregating results for sample 199\n",
        "Performing execute_matrix_multiplication sample 200\n"
       ]
      },
      {
       "output_type": "stream",
       "stream": "stdout",
       "text": [
        "Aggregating results for sample 200\n",
        "Performing execute_matrix_multiplication sample 201\n"
       ]
      },
      {
       "output_type": "stream",
       "stream": "stdout",
       "text": [
        "Aggregating results for sample 201\n",
        "Performing execute_matrix_multiplication sample 202\n"
       ]
      },
      {
       "output_type": "stream",
       "stream": "stdout",
       "text": [
        "Aggregating results for sample 202\n",
        "Performing execute_matrix_multiplication sample 203\n"
       ]
      },
      {
       "output_type": "stream",
       "stream": "stdout",
       "text": [
        "Aggregating results for sample 203\n",
        "Performing execute_matrix_multiplication sample 204\n"
       ]
      },
      {
       "output_type": "stream",
       "stream": "stdout",
       "text": [
        "Aggregating results for sample 204\n",
        "Performing execute_matrix_multiplication sample 205\n"
       ]
      },
      {
       "output_type": "stream",
       "stream": "stdout",
       "text": [
        "Aggregating results for sample 205\n",
        "Performing execute_matrix_multiplication sample 206\n"
       ]
      },
      {
       "output_type": "stream",
       "stream": "stdout",
       "text": [
        "Aggregating results for sample 206\n",
        "Performing execute_matrix_multiplication sample 207\n"
       ]
      },
      {
       "output_type": "stream",
       "stream": "stdout",
       "text": [
        "Aggregating results for sample 207\n",
        "Performing execute_matrix_multiplication sample 208\n"
       ]
      },
      {
       "output_type": "stream",
       "stream": "stdout",
       "text": [
        "Aggregating results for sample 208\n",
        "Performing execute_matrix_multiplication sample 209\n"
       ]
      },
      {
       "output_type": "stream",
       "stream": "stdout",
       "text": [
        "Aggregating results for sample 209\n",
        "Performing execute_matrix_multiplication sample 210\n"
       ]
      },
      {
       "output_type": "stream",
       "stream": "stdout",
       "text": [
        "Aggregating results for sample 210\n",
        "Performing execute_matrix_multiplication sample 211\n"
       ]
      },
      {
       "output_type": "stream",
       "stream": "stdout",
       "text": [
        "Aggregating results for sample 211\n",
        "Performing execute_matrix_multiplication sample 212\n"
       ]
      },
      {
       "output_type": "stream",
       "stream": "stdout",
       "text": [
        "Aggregating results for sample 212\n",
        "Performing execute_matrix_multiplication sample 213\n"
       ]
      },
      {
       "output_type": "stream",
       "stream": "stdout",
       "text": [
        "Aggregating results for sample 213\n",
        "Performing execute_matrix_multiplication sample 214\n"
       ]
      },
      {
       "output_type": "stream",
       "stream": "stdout",
       "text": [
        "Aggregating results for sample 214\n",
        "Performing execute_matrix_multiplication sample 215\n"
       ]
      },
      {
       "output_type": "stream",
       "stream": "stdout",
       "text": [
        "Aggregating results for sample 215\n",
        "Performing execute_matrix_multiplication sample 216\n"
       ]
      },
      {
       "output_type": "stream",
       "stream": "stdout",
       "text": [
        "Aggregating results for sample 216\n",
        "Performing execute_matrix_multiplication sample 217\n"
       ]
      },
      {
       "output_type": "stream",
       "stream": "stdout",
       "text": [
        "Aggregating results for sample 217\n",
        "Performing execute_matrix_multiplication sample 218\n"
       ]
      },
      {
       "output_type": "stream",
       "stream": "stdout",
       "text": [
        "Aggregating results for sample 218\n",
        "Performing execute_matrix_multiplication sample 219\n"
       ]
      },
      {
       "output_type": "stream",
       "stream": "stdout",
       "text": [
        "Aggregating results for sample 219\n",
        "Performing execute_matrix_multiplication sample 220\n"
       ]
      },
      {
       "output_type": "stream",
       "stream": "stdout",
       "text": [
        "Aggregating results for sample 220\n",
        "Performing execute_matrix_multiplication sample 221\n"
       ]
      },
      {
       "output_type": "stream",
       "stream": "stdout",
       "text": [
        "Aggregating results for sample 221\n",
        "Performing execute_matrix_multiplication sample 222\n"
       ]
      },
      {
       "output_type": "stream",
       "stream": "stdout",
       "text": [
        "Aggregating results for sample 222\n",
        "Performing execute_matrix_multiplication sample 223\n"
       ]
      },
      {
       "output_type": "stream",
       "stream": "stdout",
       "text": [
        "Aggregating results for sample 223\n",
        "Performing execute_matrix_multiplication sample 224\n"
       ]
      },
      {
       "output_type": "stream",
       "stream": "stdout",
       "text": [
        "Aggregating results for sample 224\n",
        "Performing execute_matrix_multiplication sample 225\n"
       ]
      },
      {
       "output_type": "stream",
       "stream": "stdout",
       "text": [
        "Aggregating results for sample 225\n",
        "Performing execute_matrix_multiplication sample 226\n"
       ]
      },
      {
       "output_type": "stream",
       "stream": "stdout",
       "text": [
        "Aggregating results for sample 226\n",
        "Performing execute_matrix_multiplication sample 227\n"
       ]
      },
      {
       "output_type": "stream",
       "stream": "stdout",
       "text": [
        "Aggregating results for sample 227\n",
        "Performing execute_matrix_multiplication sample 228\n"
       ]
      },
      {
       "output_type": "stream",
       "stream": "stdout",
       "text": [
        "Aggregating results for sample 228\n",
        "Performing execute_matrix_multiplication sample 229\n"
       ]
      },
      {
       "output_type": "stream",
       "stream": "stdout",
       "text": [
        "Aggregating results for sample 229\n",
        "Performing execute_matrix_multiplication sample 230\n"
       ]
      },
      {
       "output_type": "stream",
       "stream": "stdout",
       "text": [
        "Aggregating results for sample 230\n",
        "Performing execute_matrix_multiplication sample 231\n"
       ]
      },
      {
       "output_type": "stream",
       "stream": "stdout",
       "text": [
        "Aggregating results for sample 231\n",
        "Performing execute_matrix_multiplication sample 232\n"
       ]
      },
      {
       "output_type": "stream",
       "stream": "stdout",
       "text": [
        "Aggregating results for sample 232\n",
        "Performing execute_matrix_multiplication sample 233\n"
       ]
      },
      {
       "output_type": "stream",
       "stream": "stdout",
       "text": [
        "Aggregating results for sample 233\n",
        "Performing execute_matrix_multiplication sample 234\n"
       ]
      },
      {
       "output_type": "stream",
       "stream": "stdout",
       "text": [
        "Aggregating results for sample 234\n",
        "Performing execute_matrix_multiplication sample 235\n"
       ]
      },
      {
       "output_type": "stream",
       "stream": "stdout",
       "text": [
        "Aggregating results for sample 235\n",
        "Performing execute_matrix_multiplication sample 236\n"
       ]
      },
      {
       "output_type": "stream",
       "stream": "stdout",
       "text": [
        "Aggregating results for sample 236\n",
        "Performing execute_matrix_multiplication sample 237\n"
       ]
      },
      {
       "output_type": "stream",
       "stream": "stdout",
       "text": [
        "Aggregating results for sample 237\n",
        "Performing execute_matrix_multiplication sample 238\n"
       ]
      },
      {
       "output_type": "stream",
       "stream": "stdout",
       "text": [
        "Aggregating results for sample 238\n",
        "Performing execute_matrix_multiplication sample 239\n"
       ]
      },
      {
       "output_type": "stream",
       "stream": "stdout",
       "text": [
        "Aggregating results for sample 239\n",
        "Performing execute_matrix_multiplication sample 240\n"
       ]
      },
      {
       "output_type": "stream",
       "stream": "stdout",
       "text": [
        "Aggregating results for sample 240\n",
        "Performing execute_matrix_multiplication sample 241\n"
       ]
      },
      {
       "output_type": "stream",
       "stream": "stdout",
       "text": [
        "Aggregating results for sample 241\n",
        "Performing execute_matrix_multiplication sample 242\n"
       ]
      },
      {
       "output_type": "stream",
       "stream": "stdout",
       "text": [
        "Aggregating results for sample 242\n",
        "Performing execute_matrix_multiplication sample 243\n"
       ]
      },
      {
       "output_type": "stream",
       "stream": "stdout",
       "text": [
        "Aggregating results for sample 243\n",
        "Performing execute_matrix_multiplication sample 244\n"
       ]
      },
      {
       "output_type": "stream",
       "stream": "stdout",
       "text": [
        "Aggregating results for sample 244\n",
        "Performing execute_matrix_multiplication sample 245\n"
       ]
      },
      {
       "output_type": "stream",
       "stream": "stdout",
       "text": [
        "Aggregating results for sample 245\n",
        "Performing execute_matrix_multiplication sample 246\n"
       ]
      },
      {
       "output_type": "stream",
       "stream": "stdout",
       "text": [
        "Aggregating results for sample 246\n",
        "Performing execute_matrix_multiplication sample 247\n"
       ]
      },
      {
       "output_type": "stream",
       "stream": "stdout",
       "text": [
        "Aggregating results for sample 247\n",
        "Performing execute_matrix_multiplication sample 248\n"
       ]
      },
      {
       "output_type": "stream",
       "stream": "stdout",
       "text": [
        "Aggregating results for sample 248\n",
        "Performing execute_matrix_multiplication sample 249\n"
       ]
      },
      {
       "output_type": "stream",
       "stream": "stdout",
       "text": [
        "Aggregating results for sample 249\n",
        "Performing execute_matrix_multiplication sample 250\n"
       ]
      },
      {
       "output_type": "stream",
       "stream": "stdout",
       "text": [
        "Aggregating results for sample 250\n",
        "Performing execute_matrix_multiplication sample 251\n"
       ]
      },
      {
       "output_type": "stream",
       "stream": "stdout",
       "text": [
        "Aggregating results for sample 251\n",
        "Performing execute_matrix_multiplication sample 252\n"
       ]
      },
      {
       "output_type": "stream",
       "stream": "stdout",
       "text": [
        "Aggregating results for sample 252\n",
        "Performing execute_matrix_multiplication sample 253\n"
       ]
      },
      {
       "output_type": "stream",
       "stream": "stdout",
       "text": [
        "Aggregating results for sample 253\n",
        "Performing execute_matrix_multiplication sample 254\n"
       ]
      },
      {
       "output_type": "stream",
       "stream": "stdout",
       "text": [
        "Aggregating results for sample 254\n",
        "Performing execute_matrix_multiplication sample 255\n"
       ]
      },
      {
       "output_type": "stream",
       "stream": "stdout",
       "text": [
        "Aggregating results for sample 255\n",
        "Performing execute_matrix_multiplication sample 256\n"
       ]
      },
      {
       "output_type": "stream",
       "stream": "stdout",
       "text": [
        "Aggregating results for sample 256\n",
        "Performing execute_matrix_multiplication sample 257\n"
       ]
      },
      {
       "output_type": "stream",
       "stream": "stdout",
       "text": [
        "Aggregating results for sample 257\n",
        "Performing execute_matrix_multiplication sample 258\n"
       ]
      },
      {
       "output_type": "stream",
       "stream": "stdout",
       "text": [
        "Aggregating results for sample 258\n",
        "Performing execute_matrix_multiplication sample 259\n"
       ]
      },
      {
       "output_type": "stream",
       "stream": "stdout",
       "text": [
        "Aggregating results for sample 259\n",
        "Performing execute_matrix_multiplication sample 260\n"
       ]
      },
      {
       "output_type": "stream",
       "stream": "stdout",
       "text": [
        "Aggregating results for sample 260\n",
        "Performing execute_matrix_multiplication sample 261\n"
       ]
      },
      {
       "output_type": "stream",
       "stream": "stdout",
       "text": [
        "Aggregating results for sample 261\n",
        "Performing execute_matrix_multiplication sample 262\n"
       ]
      },
      {
       "output_type": "stream",
       "stream": "stdout",
       "text": [
        "Aggregating results for sample 262\n",
        "Performing execute_matrix_multiplication sample 263\n"
       ]
      },
      {
       "output_type": "stream",
       "stream": "stdout",
       "text": [
        "Aggregating results for sample 263\n",
        "Performing execute_matrix_multiplication sample 264\n"
       ]
      },
      {
       "output_type": "stream",
       "stream": "stdout",
       "text": [
        "Aggregating results for sample 264\n",
        "Performing execute_matrix_multiplication sample 265\n"
       ]
      },
      {
       "output_type": "stream",
       "stream": "stdout",
       "text": [
        "Aggregating results for sample 265\n",
        "Performing execute_matrix_multiplication sample 266\n"
       ]
      },
      {
       "output_type": "stream",
       "stream": "stdout",
       "text": [
        "Aggregating results for sample 266\n",
        "Performing execute_matrix_multiplication sample 267\n"
       ]
      },
      {
       "output_type": "stream",
       "stream": "stdout",
       "text": [
        "Aggregating results for sample 267\n",
        "Performing execute_matrix_multiplication sample 268\n"
       ]
      },
      {
       "output_type": "stream",
       "stream": "stdout",
       "text": [
        "Aggregating results for sample 268\n",
        "Performing execute_matrix_multiplication sample 269\n"
       ]
      },
      {
       "output_type": "stream",
       "stream": "stdout",
       "text": [
        "Aggregating results for sample 269\n",
        "Performing execute_matrix_multiplication sample 270\n"
       ]
      },
      {
       "output_type": "stream",
       "stream": "stdout",
       "text": [
        "Aggregating results for sample 270\n",
        "Performing execute_matrix_multiplication sample 271\n"
       ]
      },
      {
       "output_type": "stream",
       "stream": "stdout",
       "text": [
        "Aggregating results for sample 271\n",
        "Performing execute_matrix_multiplication sample 272\n"
       ]
      },
      {
       "output_type": "stream",
       "stream": "stdout",
       "text": [
        "Aggregating results for sample 272\n",
        "Performing execute_matrix_multiplication sample 273\n"
       ]
      },
      {
       "output_type": "stream",
       "stream": "stdout",
       "text": [
        "Aggregating results for sample 273\n",
        "Performing execute_matrix_multiplication sample 274\n"
       ]
      },
      {
       "output_type": "stream",
       "stream": "stdout",
       "text": [
        "Aggregating results for sample 274\n",
        "Performing execute_matrix_multiplication sample 275\n"
       ]
      },
      {
       "output_type": "stream",
       "stream": "stdout",
       "text": [
        "Aggregating results for sample 275\n",
        "Performing execute_matrix_multiplication sample 276\n"
       ]
      },
      {
       "output_type": "stream",
       "stream": "stdout",
       "text": [
        "Aggregating results for sample 276\n",
        "Performing execute_matrix_multiplication sample 277\n"
       ]
      },
      {
       "output_type": "stream",
       "stream": "stdout",
       "text": [
        "Aggregating results for sample 277\n",
        "Performing execute_matrix_multiplication sample 278\n"
       ]
      },
      {
       "output_type": "stream",
       "stream": "stdout",
       "text": [
        "Aggregating results for sample 278\n",
        "Performing execute_matrix_multiplication sample 279\n"
       ]
      },
      {
       "output_type": "stream",
       "stream": "stdout",
       "text": [
        "Aggregating results for sample 279\n",
        "Performing execute_matrix_multiplication sample 280\n"
       ]
      },
      {
       "output_type": "stream",
       "stream": "stdout",
       "text": [
        "Aggregating results for sample 280\n",
        "Performing execute_matrix_multiplication sample 281\n"
       ]
      },
      {
       "output_type": "stream",
       "stream": "stdout",
       "text": [
        "Aggregating results for sample 281\n",
        "Performing execute_matrix_multiplication sample 282\n"
       ]
      },
      {
       "output_type": "stream",
       "stream": "stdout",
       "text": [
        "Aggregating results for sample 282\n",
        "Performing execute_matrix_multiplication sample 283\n"
       ]
      },
      {
       "output_type": "stream",
       "stream": "stdout",
       "text": [
        "Aggregating results for sample 283\n",
        "Performing execute_matrix_multiplication sample 284\n"
       ]
      },
      {
       "output_type": "stream",
       "stream": "stdout",
       "text": [
        "Aggregating results for sample 284\n",
        "Performing execute_matrix_multiplication sample 285\n"
       ]
      },
      {
       "output_type": "stream",
       "stream": "stdout",
       "text": [
        "Aggregating results for sample 285\n",
        "Performing execute_matrix_multiplication sample 286\n"
       ]
      },
      {
       "output_type": "stream",
       "stream": "stdout",
       "text": [
        "Aggregating results for sample 286\n",
        "Performing execute_matrix_multiplication sample 287\n"
       ]
      },
      {
       "output_type": "stream",
       "stream": "stdout",
       "text": [
        "Aggregating results for sample 287\n",
        "Performing execute_matrix_multiplication sample 288\n"
       ]
      },
      {
       "output_type": "stream",
       "stream": "stdout",
       "text": [
        "Aggregating results for sample 288\n",
        "Performing execute_matrix_multiplication sample 289\n"
       ]
      },
      {
       "output_type": "stream",
       "stream": "stdout",
       "text": [
        "Aggregating results for sample 289\n",
        "Performing execute_matrix_multiplication sample 290\n"
       ]
      },
      {
       "output_type": "stream",
       "stream": "stdout",
       "text": [
        "Aggregating results for sample 290\n",
        "Performing execute_matrix_multiplication sample 291\n"
       ]
      },
      {
       "output_type": "stream",
       "stream": "stdout",
       "text": [
        "Aggregating results for sample 291\n",
        "Performing execute_matrix_multiplication sample 292\n"
       ]
      },
      {
       "output_type": "stream",
       "stream": "stdout",
       "text": [
        "Aggregating results for sample 292\n",
        "Performing execute_matrix_multiplication sample 293\n"
       ]
      },
      {
       "output_type": "stream",
       "stream": "stdout",
       "text": [
        "Aggregating results for sample 293\n",
        "Performing execute_matrix_multiplication sample 294\n"
       ]
      },
      {
       "output_type": "stream",
       "stream": "stdout",
       "text": [
        "Aggregating results for sample 294\n",
        "Performing execute_matrix_multiplication sample 295\n"
       ]
      },
      {
       "output_type": "stream",
       "stream": "stdout",
       "text": [
        "Aggregating results for sample 295\n",
        "Performing execute_matrix_multiplication sample 296\n"
       ]
      },
      {
       "output_type": "stream",
       "stream": "stdout",
       "text": [
        "Aggregating results for sample 296\n",
        "Performing execute_matrix_multiplication sample 297\n"
       ]
      },
      {
       "output_type": "stream",
       "stream": "stdout",
       "text": [
        "Aggregating results for sample 297\n",
        "Performing execute_matrix_multiplication sample 298\n"
       ]
      },
      {
       "output_type": "stream",
       "stream": "stdout",
       "text": [
        "Aggregating results for sample 298\n",
        "Performing execute_matrix_multiplication sample 299\n"
       ]
      },
      {
       "output_type": "stream",
       "stream": "stdout",
       "text": [
        "Aggregating results for sample 299\n",
        "Performing execute_matrix_multiplication sample 300\n"
       ]
      },
      {
       "output_type": "stream",
       "stream": "stdout",
       "text": [
        "Aggregating results for sample 300\n",
        "Performing execute_matrix_multiplication sample 301\n"
       ]
      },
      {
       "output_type": "stream",
       "stream": "stdout",
       "text": [
        "Aggregating results for sample 301\n",
        "Performing execute_matrix_multiplication sample 302\n"
       ]
      },
      {
       "output_type": "stream",
       "stream": "stdout",
       "text": [
        "Aggregating results for sample 302\n",
        "Performing execute_matrix_multiplication sample 303\n"
       ]
      },
      {
       "output_type": "stream",
       "stream": "stdout",
       "text": [
        "Aggregating results for sample 303\n",
        "Performing execute_matrix_multiplication sample 304\n"
       ]
      },
      {
       "output_type": "stream",
       "stream": "stdout",
       "text": [
        "Aggregating results for sample 304\n",
        "Performing execute_matrix_multiplication sample 305\n"
       ]
      },
      {
       "output_type": "stream",
       "stream": "stdout",
       "text": [
        "Aggregating results for sample 305\n",
        "Performing execute_matrix_multiplication sample 306\n"
       ]
      },
      {
       "output_type": "stream",
       "stream": "stdout",
       "text": [
        "Aggregating results for sample 306\n",
        "Performing execute_matrix_multiplication sample 307\n"
       ]
      },
      {
       "output_type": "stream",
       "stream": "stdout",
       "text": [
        "Aggregating results for sample 307\n",
        "Performing execute_matrix_multiplication sample 308\n"
       ]
      },
      {
       "output_type": "stream",
       "stream": "stdout",
       "text": [
        "Aggregating results for sample 308\n",
        "Performing execute_matrix_multiplication sample 309\n"
       ]
      },
      {
       "output_type": "stream",
       "stream": "stdout",
       "text": [
        "Aggregating results for sample 309\n",
        "Performing execute_matrix_multiplication sample 310\n"
       ]
      },
      {
       "output_type": "stream",
       "stream": "stdout",
       "text": [
        "Aggregating results for sample 310\n",
        "Performing execute_matrix_multiplication sample 311\n"
       ]
      },
      {
       "output_type": "stream",
       "stream": "stdout",
       "text": [
        "Aggregating results for sample 311\n",
        "Performing execute_matrix_multiplication sample 312\n"
       ]
      },
      {
       "output_type": "stream",
       "stream": "stdout",
       "text": [
        "Aggregating results for sample 312\n",
        "Performing execute_matrix_multiplication sample 313\n"
       ]
      },
      {
       "output_type": "stream",
       "stream": "stdout",
       "text": [
        "Aggregating results for sample 313\n",
        "Performing execute_matrix_multiplication sample 314\n"
       ]
      },
      {
       "output_type": "stream",
       "stream": "stdout",
       "text": [
        "Aggregating results for sample 314\n",
        "Performing execute_matrix_multiplication sample 315\n"
       ]
      },
      {
       "output_type": "stream",
       "stream": "stdout",
       "text": [
        "Aggregating results for sample 315\n",
        "Performing execute_matrix_multiplication sample 316\n"
       ]
      },
      {
       "output_type": "stream",
       "stream": "stdout",
       "text": [
        "Aggregating results for sample 316\n",
        "Performing execute_matrix_multiplication sample 317\n"
       ]
      },
      {
       "output_type": "stream",
       "stream": "stdout",
       "text": [
        "Aggregating results for sample 317\n",
        "Performing execute_matrix_multiplication sample 318\n"
       ]
      },
      {
       "output_type": "stream",
       "stream": "stdout",
       "text": [
        "Aggregating results for sample 318\n",
        "Performing execute_matrix_multiplication sample 319\n"
       ]
      },
      {
       "output_type": "stream",
       "stream": "stdout",
       "text": [
        "Aggregating results for sample 319\n",
        "Performing execute_matrix_multiplication sample 320\n"
       ]
      },
      {
       "output_type": "stream",
       "stream": "stdout",
       "text": [
        "Aggregating results for sample 320\n",
        "Performing execute_matrix_multiplication sample 321\n"
       ]
      },
      {
       "output_type": "stream",
       "stream": "stdout",
       "text": [
        "Aggregating results for sample 321\n",
        "Performing execute_matrix_multiplication sample 322\n"
       ]
      },
      {
       "output_type": "stream",
       "stream": "stdout",
       "text": [
        "Aggregating results for sample 322\n",
        "Performing execute_matrix_multiplication sample 323\n"
       ]
      },
      {
       "output_type": "stream",
       "stream": "stdout",
       "text": [
        "Aggregating results for sample 323\n",
        "Performing execute_matrix_multiplication sample 324\n"
       ]
      },
      {
       "output_type": "stream",
       "stream": "stdout",
       "text": [
        "Aggregating results for sample 324\n",
        "Performing execute_matrix_multiplication sample 325\n"
       ]
      },
      {
       "output_type": "stream",
       "stream": "stdout",
       "text": [
        "Aggregating results for sample 325\n",
        "Performing execute_matrix_multiplication sample 326\n"
       ]
      },
      {
       "output_type": "stream",
       "stream": "stdout",
       "text": [
        "Aggregating results for sample 326\n",
        "Performing execute_matrix_multiplication sample 327\n"
       ]
      },
      {
       "output_type": "stream",
       "stream": "stdout",
       "text": [
        "Aggregating results for sample 327\n",
        "Performing execute_matrix_multiplication sample 328\n"
       ]
      },
      {
       "output_type": "stream",
       "stream": "stdout",
       "text": [
        "Aggregating results for sample 328\n",
        "Performing execute_matrix_multiplication sample 329\n"
       ]
      },
      {
       "output_type": "stream",
       "stream": "stdout",
       "text": [
        "Aggregating results for sample 329\n",
        "Performing execute_matrix_multiplication sample 330\n"
       ]
      },
      {
       "output_type": "stream",
       "stream": "stdout",
       "text": [
        "Aggregating results for sample 330\n",
        "Performing execute_matrix_multiplication sample 331\n"
       ]
      },
      {
       "output_type": "stream",
       "stream": "stdout",
       "text": [
        "Aggregating results for sample 331\n",
        "Performing execute_matrix_multiplication sample 332\n"
       ]
      },
      {
       "output_type": "stream",
       "stream": "stdout",
       "text": [
        "Aggregating results for sample 332\n",
        "Performing execute_matrix_multiplication sample 333\n"
       ]
      },
      {
       "output_type": "stream",
       "stream": "stdout",
       "text": [
        "Aggregating results for sample 333\n",
        "Performing execute_matrix_multiplication sample 334\n"
       ]
      },
      {
       "output_type": "stream",
       "stream": "stdout",
       "text": [
        "Aggregating results for sample 334\n",
        "Performing execute_matrix_multiplication sample 335\n"
       ]
      },
      {
       "output_type": "stream",
       "stream": "stdout",
       "text": [
        "Aggregating results for sample 335\n",
        "Performing execute_matrix_multiplication sample 336\n"
       ]
      },
      {
       "output_type": "stream",
       "stream": "stdout",
       "text": [
        "Aggregating results for sample 336\n",
        "Performing execute_matrix_multiplication sample 337\n"
       ]
      },
      {
       "output_type": "stream",
       "stream": "stdout",
       "text": [
        "Aggregating results for sample 337\n",
        "Performing execute_matrix_multiplication sample 338\n"
       ]
      },
      {
       "output_type": "stream",
       "stream": "stdout",
       "text": [
        "Aggregating results for sample 338\n",
        "Performing execute_matrix_multiplication sample 339\n"
       ]
      },
      {
       "output_type": "stream",
       "stream": "stdout",
       "text": [
        "Aggregating results for sample 339\n",
        "Performing execute_matrix_multiplication sample 340\n"
       ]
      },
      {
       "output_type": "stream",
       "stream": "stdout",
       "text": [
        "Aggregating results for sample 340\n",
        "Performing execute_matrix_multiplication sample 341\n"
       ]
      },
      {
       "output_type": "stream",
       "stream": "stdout",
       "text": [
        "Aggregating results for sample 341\n",
        "Performing execute_matrix_multiplication sample 342\n"
       ]
      },
      {
       "output_type": "stream",
       "stream": "stdout",
       "text": [
        "Aggregating results for sample 342\n",
        "Performing execute_matrix_multiplication sample 343\n"
       ]
      },
      {
       "output_type": "stream",
       "stream": "stdout",
       "text": [
        "Aggregating results for sample 343\n",
        "Performing execute_matrix_multiplication sample 344\n"
       ]
      },
      {
       "output_type": "stream",
       "stream": "stdout",
       "text": [
        "Aggregating results for sample 344\n",
        "Performing execute_matrix_multiplication sample 345\n"
       ]
      },
      {
       "output_type": "stream",
       "stream": "stdout",
       "text": [
        "Aggregating results for sample 345\n",
        "Performing execute_matrix_multiplication sample 346\n"
       ]
      },
      {
       "output_type": "stream",
       "stream": "stdout",
       "text": [
        "Aggregating results for sample 346\n",
        "Performing execute_matrix_multiplication sample 347\n"
       ]
      },
      {
       "output_type": "stream",
       "stream": "stdout",
       "text": [
        "Aggregating results for sample 347\n",
        "Performing execute_matrix_multiplication sample 348\n"
       ]
      },
      {
       "output_type": "stream",
       "stream": "stdout",
       "text": [
        "Aggregating results for sample 348\n",
        "Performing execute_matrix_multiplication sample 349\n"
       ]
      },
      {
       "output_type": "stream",
       "stream": "stdout",
       "text": [
        "Aggregating results for sample 349\n",
        "Performing execute_matrix_multiplication sample 350\n"
       ]
      },
      {
       "output_type": "stream",
       "stream": "stdout",
       "text": [
        "Aggregating results for sample 350\n",
        "Performing execute_matrix_multiplication sample 351\n"
       ]
      },
      {
       "output_type": "stream",
       "stream": "stdout",
       "text": [
        "Aggregating results for sample 351\n",
        "Performing execute_matrix_multiplication sample 352\n"
       ]
      },
      {
       "output_type": "stream",
       "stream": "stdout",
       "text": [
        "Aggregating results for sample 352\n",
        "Performing execute_matrix_multiplication sample 353\n"
       ]
      },
      {
       "output_type": "stream",
       "stream": "stdout",
       "text": [
        "Aggregating results for sample 353\n",
        "Performing execute_matrix_multiplication sample 354\n"
       ]
      },
      {
       "output_type": "stream",
       "stream": "stdout",
       "text": [
        "Aggregating results for sample 354\n",
        "Performing execute_matrix_multiplication sample 355\n"
       ]
      },
      {
       "output_type": "stream",
       "stream": "stdout",
       "text": [
        "Aggregating results for sample 355\n",
        "Performing execute_matrix_multiplication sample 356\n"
       ]
      },
      {
       "output_type": "stream",
       "stream": "stdout",
       "text": [
        "Aggregating results for sample 356\n",
        "Performing execute_matrix_multiplication sample 357\n"
       ]
      },
      {
       "output_type": "stream",
       "stream": "stdout",
       "text": [
        "Aggregating results for sample 357\n",
        "Performing execute_matrix_multiplication sample 358\n"
       ]
      },
      {
       "output_type": "stream",
       "stream": "stdout",
       "text": [
        "Aggregating results for sample 358\n",
        "Performing execute_matrix_multiplication sample 359\n"
       ]
      },
      {
       "output_type": "stream",
       "stream": "stdout",
       "text": [
        "Aggregating results for sample 359\n",
        "Performing execute_matrix_multiplication sample 360\n"
       ]
      },
      {
       "output_type": "stream",
       "stream": "stdout",
       "text": [
        "Aggregating results for sample 360\n",
        "Performing execute_matrix_multiplication sample 361\n"
       ]
      },
      {
       "output_type": "stream",
       "stream": "stdout",
       "text": [
        "Aggregating results for sample 361\n",
        "Performing execute_matrix_multiplication sample 362\n"
       ]
      },
      {
       "output_type": "stream",
       "stream": "stdout",
       "text": [
        "Aggregating results for sample 362\n",
        "Performing execute_matrix_multiplication sample 363\n"
       ]
      },
      {
       "output_type": "stream",
       "stream": "stdout",
       "text": [
        "Aggregating results for sample 363\n",
        "Performing execute_matrix_multiplication sample 364\n"
       ]
      },
      {
       "output_type": "stream",
       "stream": "stdout",
       "text": [
        "Aggregating results for sample 364\n",
        "Performing execute_matrix_multiplication sample 365\n"
       ]
      },
      {
       "output_type": "stream",
       "stream": "stdout",
       "text": [
        "Aggregating results for sample 365\n",
        "Performing execute_matrix_multiplication sample 366\n"
       ]
      },
      {
       "output_type": "stream",
       "stream": "stdout",
       "text": [
        "Aggregating results for sample 366\n",
        "Performing execute_matrix_multiplication sample 367\n"
       ]
      },
      {
       "output_type": "stream",
       "stream": "stdout",
       "text": [
        "Aggregating results for sample 367\n",
        "Performing execute_matrix_multiplication sample 368\n"
       ]
      },
      {
       "output_type": "stream",
       "stream": "stdout",
       "text": [
        "Aggregating results for sample 368\n",
        "Performing execute_matrix_multiplication sample 369\n"
       ]
      },
      {
       "output_type": "stream",
       "stream": "stdout",
       "text": [
        "Aggregating results for sample 369\n",
        "Performing execute_matrix_multiplication sample 370\n"
       ]
      },
      {
       "output_type": "stream",
       "stream": "stdout",
       "text": [
        "Aggregating results for sample 370\n",
        "Performing execute_matrix_multiplication sample 371\n"
       ]
      },
      {
       "output_type": "stream",
       "stream": "stdout",
       "text": [
        "Aggregating results for sample 371\n",
        "Performing execute_matrix_multiplication sample 372\n"
       ]
      },
      {
       "output_type": "stream",
       "stream": "stdout",
       "text": [
        "Aggregating results for sample 372\n",
        "Performing execute_matrix_multiplication sample 373\n"
       ]
      },
      {
       "output_type": "stream",
       "stream": "stdout",
       "text": [
        "Aggregating results for sample 373\n",
        "Performing execute_matrix_multiplication sample 374\n"
       ]
      },
      {
       "output_type": "stream",
       "stream": "stdout",
       "text": [
        "Aggregating results for sample 374\n",
        "Performing execute_matrix_multiplication sample 375\n"
       ]
      },
      {
       "output_type": "stream",
       "stream": "stdout",
       "text": [
        "Aggregating results for sample 375\n",
        "Performing execute_matrix_multiplication sample 376\n"
       ]
      },
      {
       "output_type": "stream",
       "stream": "stdout",
       "text": [
        "Aggregating results for sample 376\n",
        "Performing execute_matrix_multiplication sample 377\n"
       ]
      },
      {
       "output_type": "stream",
       "stream": "stdout",
       "text": [
        "Aggregating results for sample 377\n",
        "Performing execute_matrix_multiplication sample 378\n"
       ]
      },
      {
       "output_type": "stream",
       "stream": "stdout",
       "text": [
        "Aggregating results for sample 378\n",
        "Performing execute_matrix_multiplication sample 379\n"
       ]
      },
      {
       "output_type": "stream",
       "stream": "stdout",
       "text": [
        "Aggregating results for sample 379\n",
        "Performing execute_matrix_multiplication sample 380\n"
       ]
      },
      {
       "output_type": "stream",
       "stream": "stdout",
       "text": [
        "Aggregating results for sample 380\n",
        "Performing execute_matrix_multiplication sample 381\n"
       ]
      },
      {
       "output_type": "stream",
       "stream": "stdout",
       "text": [
        "Aggregating results for sample 381\n",
        "Performing execute_matrix_multiplication sample 382\n"
       ]
      },
      {
       "output_type": "stream",
       "stream": "stdout",
       "text": [
        "Aggregating results for sample 382\n",
        "Performing execute_matrix_multiplication sample 383\n"
       ]
      },
      {
       "output_type": "stream",
       "stream": "stdout",
       "text": [
        "Aggregating results for sample 383\n",
        "Performing execute_matrix_multiplication sample 384\n"
       ]
      },
      {
       "output_type": "stream",
       "stream": "stdout",
       "text": [
        "Aggregating results for sample 384\n",
        "Performing execute_matrix_multiplication sample 385\n"
       ]
      },
      {
       "output_type": "stream",
       "stream": "stdout",
       "text": [
        "Aggregating results for sample 385\n",
        "Performing execute_matrix_multiplication sample 386\n"
       ]
      },
      {
       "output_type": "stream",
       "stream": "stdout",
       "text": [
        "Aggregating results for sample 386\n",
        "Performing execute_matrix_multiplication sample 387\n"
       ]
      },
      {
       "output_type": "stream",
       "stream": "stdout",
       "text": [
        "Aggregating results for sample 387\n",
        "Performing execute_matrix_multiplication sample 388\n"
       ]
      },
      {
       "output_type": "stream",
       "stream": "stdout",
       "text": [
        "Aggregating results for sample 388\n",
        "Performing execute_matrix_multiplication sample 389\n"
       ]
      },
      {
       "output_type": "stream",
       "stream": "stdout",
       "text": [
        "Aggregating results for sample 389\n",
        "Performing execute_matrix_multiplication sample 390\n"
       ]
      },
      {
       "output_type": "stream",
       "stream": "stdout",
       "text": [
        "Aggregating results for sample 390\n",
        "Performing execute_matrix_multiplication sample 391\n"
       ]
      },
      {
       "output_type": "stream",
       "stream": "stdout",
       "text": [
        "Aggregating results for sample 391\n",
        "Performing execute_matrix_multiplication sample 392\n"
       ]
      },
      {
       "output_type": "stream",
       "stream": "stdout",
       "text": [
        "Aggregating results for sample 392\n",
        "Performing execute_matrix_multiplication sample 393\n"
       ]
      },
      {
       "output_type": "stream",
       "stream": "stdout",
       "text": [
        "Aggregating results for sample 393\n",
        "Performing execute_matrix_multiplication sample 394\n"
       ]
      },
      {
       "output_type": "stream",
       "stream": "stdout",
       "text": [
        "Aggregating results for sample 394\n",
        "Performing execute_matrix_multiplication sample 395\n"
       ]
      },
      {
       "output_type": "stream",
       "stream": "stdout",
       "text": [
        "Aggregating results for sample 395\n",
        "Performing execute_matrix_multiplication sample 396\n"
       ]
      },
      {
       "output_type": "stream",
       "stream": "stdout",
       "text": [
        "Aggregating results for sample 396\n",
        "Performing execute_matrix_multiplication sample 397\n"
       ]
      },
      {
       "output_type": "stream",
       "stream": "stdout",
       "text": [
        "Aggregating results for sample 397\n",
        "Performing execute_matrix_multiplication sample 398\n"
       ]
      },
      {
       "output_type": "stream",
       "stream": "stdout",
       "text": [
        "Aggregating results for sample 398\n",
        "Performing execute_matrix_multiplication sample 399\n"
       ]
      },
      {
       "output_type": "stream",
       "stream": "stdout",
       "text": [
        "Aggregating results for sample 399\n",
        "Performing execute_matrix_multiplication sample 400\n"
       ]
      },
      {
       "output_type": "stream",
       "stream": "stdout",
       "text": [
        "Aggregating results for sample 400\n",
        "Performing execute_matrix_multiplication sample 401\n"
       ]
      },
      {
       "output_type": "stream",
       "stream": "stdout",
       "text": [
        "Aggregating results for sample 401\n",
        "Performing execute_matrix_multiplication sample 402\n"
       ]
      },
      {
       "output_type": "stream",
       "stream": "stdout",
       "text": [
        "Aggregating results for sample 402\n",
        "Performing execute_matrix_multiplication sample 403\n"
       ]
      },
      {
       "output_type": "stream",
       "stream": "stdout",
       "text": [
        "Aggregating results for sample 403\n",
        "Performing execute_matrix_multiplication sample 404\n"
       ]
      },
      {
       "output_type": "stream",
       "stream": "stdout",
       "text": [
        "Aggregating results for sample 404\n",
        "Performing execute_matrix_multiplication sample 405\n"
       ]
      },
      {
       "output_type": "stream",
       "stream": "stdout",
       "text": [
        "Aggregating results for sample 405\n",
        "Performing execute_matrix_multiplication sample 406\n"
       ]
      },
      {
       "output_type": "stream",
       "stream": "stdout",
       "text": [
        "Aggregating results for sample 406\n",
        "Performing execute_matrix_multiplication sample 407\n"
       ]
      },
      {
       "output_type": "stream",
       "stream": "stdout",
       "text": [
        "Aggregating results for sample 407\n",
        "Performing execute_matrix_multiplication sample 408\n"
       ]
      },
      {
       "output_type": "stream",
       "stream": "stdout",
       "text": [
        "Aggregating results for sample 408\n",
        "Performing execute_matrix_multiplication sample 409\n"
       ]
      },
      {
       "output_type": "stream",
       "stream": "stdout",
       "text": [
        "Aggregating results for sample 409\n",
        "Performing execute_matrix_multiplication sample 410\n"
       ]
      },
      {
       "output_type": "stream",
       "stream": "stdout",
       "text": [
        "Aggregating results for sample 410\n",
        "Performing execute_matrix_multiplication sample 411\n"
       ]
      },
      {
       "output_type": "stream",
       "stream": "stdout",
       "text": [
        "Aggregating results for sample 411\n",
        "Performing execute_matrix_multiplication sample 412\n"
       ]
      },
      {
       "output_type": "stream",
       "stream": "stdout",
       "text": [
        "Aggregating results for sample 412\n",
        "Performing execute_matrix_multiplication sample 413\n"
       ]
      },
      {
       "output_type": "stream",
       "stream": "stdout",
       "text": [
        "Aggregating results for sample 413\n",
        "Performing execute_matrix_multiplication sample 414\n"
       ]
      },
      {
       "output_type": "stream",
       "stream": "stdout",
       "text": [
        "Aggregating results for sample 414\n",
        "Performing execute_matrix_multiplication sample 415\n"
       ]
      },
      {
       "output_type": "stream",
       "stream": "stdout",
       "text": [
        "Aggregating results for sample 415\n",
        "Performing execute_matrix_multiplication sample 416\n"
       ]
      },
      {
       "output_type": "stream",
       "stream": "stdout",
       "text": [
        "Aggregating results for sample 416\n",
        "Performing execute_matrix_multiplication sample 417\n"
       ]
      },
      {
       "output_type": "stream",
       "stream": "stdout",
       "text": [
        "Aggregating results for sample 417\n",
        "Performing execute_matrix_multiplication sample 418\n"
       ]
      },
      {
       "output_type": "stream",
       "stream": "stdout",
       "text": [
        "Aggregating results for sample 418\n",
        "Performing execute_matrix_multiplication sample 419\n"
       ]
      },
      {
       "output_type": "stream",
       "stream": "stdout",
       "text": [
        "Aggregating results for sample 419\n",
        "Performing execute_matrix_multiplication sample 420\n"
       ]
      },
      {
       "output_type": "stream",
       "stream": "stdout",
       "text": [
        "Aggregating results for sample 420\n",
        "Performing execute_matrix_multiplication sample 421\n"
       ]
      },
      {
       "output_type": "stream",
       "stream": "stdout",
       "text": [
        "Aggregating results for sample 421\n",
        "Performing execute_matrix_multiplication sample 422\n"
       ]
      },
      {
       "output_type": "stream",
       "stream": "stdout",
       "text": [
        "Aggregating results for sample 422\n",
        "Performing execute_matrix_multiplication sample 423\n"
       ]
      },
      {
       "output_type": "stream",
       "stream": "stdout",
       "text": [
        "Aggregating results for sample 423\n",
        "Performing execute_matrix_multiplication sample 424\n"
       ]
      },
      {
       "output_type": "stream",
       "stream": "stdout",
       "text": [
        "Aggregating results for sample 424\n",
        "Performing execute_matrix_multiplication sample 425\n"
       ]
      },
      {
       "output_type": "stream",
       "stream": "stdout",
       "text": [
        "Aggregating results for sample 425\n",
        "Performing execute_matrix_multiplication sample 426\n"
       ]
      },
      {
       "output_type": "stream",
       "stream": "stdout",
       "text": [
        "Aggregating results for sample 426\n",
        "Performing execute_matrix_multiplication sample 427\n"
       ]
      },
      {
       "output_type": "stream",
       "stream": "stdout",
       "text": [
        "Aggregating results for sample 427\n",
        "Performing execute_matrix_multiplication sample 428\n"
       ]
      },
      {
       "output_type": "stream",
       "stream": "stdout",
       "text": [
        "Aggregating results for sample 428\n",
        "Performing execute_matrix_multiplication sample 429\n"
       ]
      },
      {
       "output_type": "stream",
       "stream": "stdout",
       "text": [
        "Aggregating results for sample 429\n",
        "Performing execute_matrix_multiplication sample 430\n"
       ]
      },
      {
       "output_type": "stream",
       "stream": "stdout",
       "text": [
        "Aggregating results for sample 430\n",
        "Performing execute_matrix_multiplication sample 431\n"
       ]
      },
      {
       "output_type": "stream",
       "stream": "stdout",
       "text": [
        "Aggregating results for sample 431\n",
        "Performing execute_matrix_multiplication sample 432\n"
       ]
      },
      {
       "output_type": "stream",
       "stream": "stdout",
       "text": [
        "Aggregating results for sample 432\n",
        "Performing execute_matrix_multiplication sample 433\n"
       ]
      },
      {
       "output_type": "stream",
       "stream": "stdout",
       "text": [
        "Aggregating results for sample 433\n",
        "Performing execute_matrix_multiplication sample 434\n"
       ]
      },
      {
       "output_type": "stream",
       "stream": "stdout",
       "text": [
        "Aggregating results for sample 434\n",
        "Performing execute_matrix_multiplication sample 435\n"
       ]
      },
      {
       "output_type": "stream",
       "stream": "stdout",
       "text": [
        "Aggregating results for sample 435\n",
        "Performing execute_matrix_multiplication sample 436\n"
       ]
      },
      {
       "output_type": "stream",
       "stream": "stdout",
       "text": [
        "Aggregating results for sample 436\n",
        "Performing execute_matrix_multiplication sample 437\n"
       ]
      },
      {
       "output_type": "stream",
       "stream": "stdout",
       "text": [
        "Aggregating results for sample 437\n",
        "Performing execute_matrix_multiplication sample 438\n"
       ]
      },
      {
       "output_type": "stream",
       "stream": "stdout",
       "text": [
        "Aggregating results for sample 438\n",
        "Performing execute_matrix_multiplication sample 439\n"
       ]
      },
      {
       "output_type": "stream",
       "stream": "stdout",
       "text": [
        "Aggregating results for sample 439\n",
        "Performing execute_matrix_multiplication sample 440\n"
       ]
      },
      {
       "output_type": "stream",
       "stream": "stdout",
       "text": [
        "Aggregating results for sample 440\n",
        "Performing execute_matrix_multiplication sample 441\n"
       ]
      },
      {
       "output_type": "stream",
       "stream": "stdout",
       "text": [
        "Aggregating results for sample 441\n",
        "Performing execute_matrix_multiplication sample 442\n"
       ]
      },
      {
       "output_type": "stream",
       "stream": "stdout",
       "text": [
        "Aggregating results for sample 442\n",
        "Performing execute_matrix_multiplication sample 443\n"
       ]
      },
      {
       "output_type": "stream",
       "stream": "stdout",
       "text": [
        "Aggregating results for sample 443\n",
        "Performing execute_matrix_multiplication sample 444\n"
       ]
      },
      {
       "output_type": "stream",
       "stream": "stdout",
       "text": [
        "Aggregating results for sample 444\n",
        "Performing execute_matrix_multiplication sample 445\n"
       ]
      },
      {
       "output_type": "stream",
       "stream": "stdout",
       "text": [
        "Aggregating results for sample 445\n",
        "Performing execute_matrix_multiplication sample 446\n"
       ]
      },
      {
       "output_type": "stream",
       "stream": "stdout",
       "text": [
        "Aggregating results for sample 446\n",
        "Performing execute_matrix_multiplication sample 447\n"
       ]
      },
      {
       "output_type": "stream",
       "stream": "stdout",
       "text": [
        "Aggregating results for sample 447\n",
        "Performing execute_matrix_multiplication sample 448\n"
       ]
      },
      {
       "output_type": "stream",
       "stream": "stdout",
       "text": [
        "Aggregating results for sample 448\n",
        "Performing execute_matrix_multiplication sample 449\n"
       ]
      },
      {
       "output_type": "stream",
       "stream": "stdout",
       "text": [
        "Aggregating results for sample 449\n",
        "Performing execute_matrix_multiplication sample 450\n"
       ]
      },
      {
       "output_type": "stream",
       "stream": "stdout",
       "text": [
        "Aggregating results for sample 450\n",
        "Performing execute_matrix_multiplication sample 451\n"
       ]
      },
      {
       "output_type": "stream",
       "stream": "stdout",
       "text": [
        "Aggregating results for sample 451\n",
        "Performing execute_matrix_multiplication sample 452\n"
       ]
      },
      {
       "output_type": "stream",
       "stream": "stdout",
       "text": [
        "Aggregating results for sample 452\n",
        "Performing execute_matrix_multiplication sample 453\n"
       ]
      },
      {
       "output_type": "stream",
       "stream": "stdout",
       "text": [
        "Aggregating results for sample 453\n",
        "Performing execute_matrix_multiplication sample 454\n"
       ]
      },
      {
       "output_type": "stream",
       "stream": "stdout",
       "text": [
        "Aggregating results for sample 454\n",
        "Performing execute_matrix_multiplication sample 455\n"
       ]
      },
      {
       "output_type": "stream",
       "stream": "stdout",
       "text": [
        "Aggregating results for sample 455\n",
        "Performing execute_matrix_multiplication sample 456\n"
       ]
      },
      {
       "output_type": "stream",
       "stream": "stdout",
       "text": [
        "Aggregating results for sample 456\n",
        "Performing execute_matrix_multiplication sample 457\n"
       ]
      },
      {
       "output_type": "stream",
       "stream": "stdout",
       "text": [
        "Aggregating results for sample 457\n",
        "Performing execute_matrix_multiplication sample 458\n"
       ]
      },
      {
       "output_type": "stream",
       "stream": "stdout",
       "text": [
        "Aggregating results for sample 458\n",
        "Performing execute_matrix_multiplication sample 459\n"
       ]
      },
      {
       "output_type": "stream",
       "stream": "stdout",
       "text": [
        "Aggregating results for sample 459\n",
        "Performing execute_matrix_multiplication sample 460\n"
       ]
      },
      {
       "output_type": "stream",
       "stream": "stdout",
       "text": [
        "Aggregating results for sample 460\n",
        "Performing execute_matrix_multiplication sample 461\n"
       ]
      },
      {
       "output_type": "stream",
       "stream": "stdout",
       "text": [
        "Aggregating results for sample 461\n",
        "Performing execute_matrix_multiplication sample 462\n"
       ]
      },
      {
       "output_type": "stream",
       "stream": "stdout",
       "text": [
        "Aggregating results for sample 462\n",
        "Performing execute_matrix_multiplication sample 463\n"
       ]
      },
      {
       "output_type": "stream",
       "stream": "stdout",
       "text": [
        "Aggregating results for sample 463\n",
        "Performing execute_matrix_multiplication sample 464\n"
       ]
      },
      {
       "output_type": "stream",
       "stream": "stdout",
       "text": [
        "Aggregating results for sample 464\n",
        "Performing execute_matrix_multiplication sample 465\n"
       ]
      },
      {
       "output_type": "stream",
       "stream": "stdout",
       "text": [
        "Aggregating results for sample 465\n",
        "Performing execute_matrix_multiplication sample 466\n"
       ]
      },
      {
       "output_type": "stream",
       "stream": "stdout",
       "text": [
        "Aggregating results for sample 466\n",
        "Performing execute_matrix_multiplication sample 467\n"
       ]
      },
      {
       "output_type": "stream",
       "stream": "stdout",
       "text": [
        "Aggregating results for sample 467\n",
        "Performing execute_matrix_multiplication sample 468\n"
       ]
      },
      {
       "output_type": "stream",
       "stream": "stdout",
       "text": [
        "Aggregating results for sample 468\n",
        "Performing execute_matrix_multiplication sample 469\n"
       ]
      },
      {
       "output_type": "stream",
       "stream": "stdout",
       "text": [
        "Aggregating results for sample 469\n",
        "Performing execute_matrix_multiplication sample 470\n"
       ]
      },
      {
       "output_type": "stream",
       "stream": "stdout",
       "text": [
        "Aggregating results for sample 470\n",
        "Performing execute_matrix_multiplication sample 471\n"
       ]
      },
      {
       "output_type": "stream",
       "stream": "stdout",
       "text": [
        "Aggregating results for sample 471\n",
        "Performing execute_matrix_multiplication sample 472\n"
       ]
      },
      {
       "output_type": "stream",
       "stream": "stdout",
       "text": [
        "Aggregating results for sample 472\n",
        "Performing execute_matrix_multiplication sample 473\n"
       ]
      },
      {
       "output_type": "stream",
       "stream": "stdout",
       "text": [
        "Aggregating results for sample 473\n",
        "Performing execute_matrix_multiplication sample 474\n"
       ]
      },
      {
       "output_type": "stream",
       "stream": "stdout",
       "text": [
        "Aggregating results for sample 474\n",
        "Performing execute_matrix_multiplication sample 475\n"
       ]
      },
      {
       "output_type": "stream",
       "stream": "stdout",
       "text": [
        "Aggregating results for sample 475\n",
        "Performing execute_matrix_multiplication sample 476\n"
       ]
      },
      {
       "output_type": "stream",
       "stream": "stdout",
       "text": [
        "Aggregating results for sample 476\n",
        "Performing execute_matrix_multiplication sample 477\n"
       ]
      },
      {
       "output_type": "stream",
       "stream": "stdout",
       "text": [
        "Aggregating results for sample 477\n",
        "Performing execute_matrix_multiplication sample 478\n"
       ]
      },
      {
       "output_type": "stream",
       "stream": "stdout",
       "text": [
        "Aggregating results for sample 478\n",
        "Performing execute_matrix_multiplication sample 479\n"
       ]
      },
      {
       "output_type": "stream",
       "stream": "stdout",
       "text": [
        "Aggregating results for sample 479\n",
        "Performing execute_matrix_multiplication sample 480\n"
       ]
      },
      {
       "output_type": "stream",
       "stream": "stdout",
       "text": [
        "Aggregating results for sample 480\n",
        "Performing execute_matrix_multiplication sample 481\n"
       ]
      },
      {
       "output_type": "stream",
       "stream": "stdout",
       "text": [
        "Aggregating results for sample 481\n",
        "Performing execute_matrix_multiplication sample 482\n"
       ]
      },
      {
       "output_type": "stream",
       "stream": "stdout",
       "text": [
        "Aggregating results for sample 482\n",
        "Performing execute_matrix_multiplication sample 483\n"
       ]
      },
      {
       "output_type": "stream",
       "stream": "stdout",
       "text": [
        "Aggregating results for sample 483\n",
        "Performing execute_matrix_multiplication sample 484\n"
       ]
      },
      {
       "output_type": "stream",
       "stream": "stdout",
       "text": [
        "Aggregating results for sample 484\n",
        "Performing execute_matrix_multiplication sample 485\n"
       ]
      },
      {
       "output_type": "stream",
       "stream": "stdout",
       "text": [
        "Aggregating results for sample 485\n",
        "Performing execute_matrix_multiplication sample 486\n"
       ]
      },
      {
       "output_type": "stream",
       "stream": "stdout",
       "text": [
        "Aggregating results for sample 486\n",
        "Performing execute_matrix_multiplication sample 487\n"
       ]
      },
      {
       "output_type": "stream",
       "stream": "stdout",
       "text": [
        "Aggregating results for sample 487\n",
        "Performing execute_matrix_multiplication sample 488\n"
       ]
      },
      {
       "output_type": "stream",
       "stream": "stdout",
       "text": [
        "Aggregating results for sample 488\n",
        "Performing execute_matrix_multiplication sample 489\n"
       ]
      },
      {
       "output_type": "stream",
       "stream": "stdout",
       "text": [
        "Aggregating results for sample 489\n",
        "Performing execute_matrix_multiplication sample 490\n"
       ]
      },
      {
       "output_type": "stream",
       "stream": "stdout",
       "text": [
        "Aggregating results for sample 490\n",
        "Performing execute_matrix_multiplication sample 491\n"
       ]
      },
      {
       "output_type": "stream",
       "stream": "stdout",
       "text": [
        "Aggregating results for sample 491\n",
        "Performing execute_matrix_multiplication sample 492\n"
       ]
      },
      {
       "output_type": "stream",
       "stream": "stdout",
       "text": [
        "Aggregating results for sample 492\n",
        "Performing execute_matrix_multiplication sample 493\n"
       ]
      },
      {
       "output_type": "stream",
       "stream": "stdout",
       "text": [
        "Aggregating results for sample 493\n",
        "Performing execute_matrix_multiplication sample 494\n"
       ]
      },
      {
       "output_type": "stream",
       "stream": "stdout",
       "text": [
        "Aggregating results for sample 494\n",
        "Performing execute_matrix_multiplication sample 495\n"
       ]
      },
      {
       "output_type": "stream",
       "stream": "stdout",
       "text": [
        "Aggregating results for sample 495\n",
        "Performing execute_matrix_multiplication sample 496\n"
       ]
      },
      {
       "output_type": "stream",
       "stream": "stdout",
       "text": [
        "Aggregating results for sample 496\n",
        "Performing execute_matrix_multiplication sample 497\n"
       ]
      },
      {
       "output_type": "stream",
       "stream": "stdout",
       "text": [
        "Aggregating results for sample 497\n",
        "Performing execute_matrix_multiplication sample 498\n"
       ]
      },
      {
       "output_type": "stream",
       "stream": "stdout",
       "text": [
        "Aggregating results for sample 498\n",
        "Performing execute_matrix_multiplication sample 499\n"
       ]
      },
      {
       "output_type": "stream",
       "stream": "stdout",
       "text": [
        "Aggregating results for sample 499\n",
        "Performing execute_matrix_multiplication sample 500\n"
       ]
      },
      {
       "output_type": "stream",
       "stream": "stdout",
       "text": [
        "Aggregating results for sample 500\n"
       ]
      },
      {
       "metadata": {},
       "output_type": "display_data",
       "png": "[encoded data removed]",
       "text": [
        "<matplotlib.figure.Figure at 0x7f7a7b27fe90>"
       ]
      }
     ],
     "prompt_number": 17
    },
    {
     "cell_type": "markdown",
     "metadata": {},
     "source": [
      "**BONUS** Now repeat the past two problems but instead of computing the matrix product, compute a matrix's [determinant](http://en.wikipedia.org/wiki/Determinant).  Measure performance for matricies of various sizes and discuss the results.  Determinant may get impractical to calculate for not too huge of matricies, so no need to goto 1000x1000 matricies."
     ]
    },
    {
     "cell_type": "markdown",
     "metadata": {},
     "source": [
      "###IO Exercises\n",
      "\n",
      "Below is a map of various datatypes in python that you have come across and their corresponding JSON equivalents.\n",
      "\n",
      "$$Datatypes=\\left[ \\begin{array}{cc} JSON & Python3 \\\\ object & dictionary \\\\ array & list \\\\ string & string \\\\ integer\t& integer \\\\ real number & float \\\\ true & True \\\\ false & False \\\\ null & None  \\end{array} \\right]$$\n",
      "\n",
      "\n",
      "There are atleast two very important python datatypes missing in the above list. \n",
      "Can you find the same?  [list the two mising python datatypes in this markdown cell below]\n",
      "\n",
      "1. set\n",
      "2. tuple\n",
      "\n",
      "Now We can save the above map as a dictionary with Key-value pairs \n",
      "1. create a python dictionary named dataypes, having the above map as the Key-value pairs with Python datatypes as values and JSON equivalents as keys.\n",
      "2. Save it as a pickle called datatypes and gzip the same.\n",
      "3. Reload this pickle, and read the file contents and output the data in the following formatted way as given in this example - \"The JSON equivalent for the Python datatype Dictionary is Object\". Output similarly for the rest of the key-value pairs.\n",
      "4. Save this data as a JSON but using Python datatypes as keys and JSON equivalent as values this time. "
     ]
    },
    {
     "cell_type": "code",
     "collapsed": false,
     "input": [
      "#1\n",
      "datatypes= dict([ \n",
      "    (\"object\", \"dictionary\"), \n",
      "    (\"array\", \"list\"), \n",
      "    (\"string\", \"string\"), \n",
      "    (\"integer\", \"integer\"),\n",
      "    (\"realnumber\", \"float\"),\n",
      "    (\"true\", \"True\"),\n",
      "    (\"false\", \"False\"),\n",
      "    (\"null\", \"None\")\n",
      "])\n",
      "print datatypes"
     ],
     "language": "python",
     "metadata": {},
     "outputs": [
      {
       "output_type": "stream",
       "stream": "stdout",
       "text": [
        "{'false': 'False', 'string': 'string', 'object': 'dictionary', 'integer': 'integer', 'array': 'list', 'null': 'None', 'true': 'True', 'realnumber': 'float'}\n"
       ]
      }
     ],
     "prompt_number": 16
    },
    {
     "cell_type": "code",
     "collapsed": false,
     "input": [
      "#2\n",
      "import pickle\n",
      "import gzip\n",
      "\n",
      "pickle.dump(datatypes,gzip.open('pickle.pkl','wb'))\n",
      "!ls -ltr"
     ],
     "language": "python",
     "metadata": {},
     "outputs": [
      {
       "output_type": "stream",
       "stream": "stdout",
       "text": [
        "total 36\r\n",
        "-rw-rw-r-- 1 dyerke dyerke  156 Oct 25 21:50 json.json\r\n",
        "-rw-r--r-- 1 dyerke dyerke 3072 Oct 25 22:54 Datatype\r\n",
        "-rw-rw-r-- 1 dyerke dyerke  168 Oct 26 09:46 pickle.pkl\r\n"
       ]
      }
     ],
     "prompt_number": 17
    },
    {
     "cell_type": "code",
     "collapsed": false,
     "input": [
      "#3\n",
      "r_datatypes=pickle.load(gzip.open('pickle.pkl','rb'))\n",
      "\n",
      "for k, v in r_datatypes.iteritems():\n",
      "    print \"The JSON equivalent for the Python datatype {} is {}\".format(v, k)"
     ],
     "language": "python",
     "metadata": {},
     "outputs": [
      {
       "output_type": "stream",
       "stream": "stdout",
       "text": [
        "The JSON equivalent for the Python datatype False is false\n",
        "The JSON equivalent for the Python datatype string is string\n",
        "The JSON equivalent for the Python datatype dictionary is object\n",
        "The JSON equivalent for the Python datatype integer is integer\n",
        "The JSON equivalent for the Python datatype list is array\n",
        "The JSON equivalent for the Python datatype None is null\n",
        "The JSON equivalent for the Python datatype True is true\n",
        "The JSON equivalent for the Python datatype float is realnumber\n"
       ]
      }
     ],
     "prompt_number": 18
    },
    {
     "cell_type": "code",
     "collapsed": false,
     "input": [
      "#4\n",
      "import json\n",
      "\n",
      "r_datatypes=pickle.load(gzip.open('pickle.pkl','rb'))\n",
      "\n",
      "json_datatypes= {}\n",
      "for k, v in r_datatypes.iteritems():\n",
      "    json_datatypes[v]= k\n",
      "\n",
      "print json_datatypes\n",
      "json.dump(json_datatypes,open('json.json','wb'))\n",
      "\n",
      "!ls -ltr\n",
      "!cat json.json"
     ],
     "language": "python",
     "metadata": {},
     "outputs": [
      {
       "output_type": "stream",
       "stream": "stdout",
       "text": [
        "{'None': 'null', 'False': 'false', 'string': 'string', 'dictionary': 'object', 'float': 'realnumber', 'list': 'array', 'integer': 'integer', 'True': 'true'}\n",
        "total 36\r\n",
        "-rw-r--r-- 1 dyerke dyerke 3072 Oct 25 22:54 Datatype\r\n",
        "-rw-rw-r-- 1 dyerke dyerke  168 Oct 26 09:46 pickle.pkl\r\n",
        "-rw-rw-r-- 1 dyerke dyerke  156 Oct 26 09:46 json.json\r\n"
       ]
      },
      {
       "output_type": "stream",
       "stream": "stdout",
       "text": [
        "{\"None\": \"null\", \"False\": \"false\", \"string\": \"string\", \"dictionary\": \"object\", \"float\": \"realnumber\", \"list\": \"array\", \"integer\": \"integer\", \"True\": \"true\"}"
       ]
      }
     ],
     "prompt_number": 19
    },
    {
     "cell_type": "markdown",
     "metadata": {},
     "source": [
      "###SQL Exercises\n",
      "1. Create a database \"Datatype\", having a table \"datatypes\"\n",
      "2. Save the above datatype pickle in the table datatypes\n",
      "3. Create another table named \"missing_datatypes\"\n",
      "4. Add the 2 missing datatypes that you just wrote in the above markdown cell in the new sql table\n",
      "5. Write a SQL query to merge table mising_datatypes into table datatypes\n",
      "6. Write a SQL query to sort the merged table based on the values in python column and output the sorted table\n"
     ]
    },
    {
     "cell_type": "code",
     "collapsed": false,
     "input": [
      "import sqlite3"
     ],
     "language": "python",
     "metadata": {},
     "outputs": [],
     "prompt_number": 20
    },
    {
     "cell_type": "code",
     "collapsed": false,
     "input": [
      "!ls -ltr"
     ],
     "language": "python",
     "metadata": {},
     "outputs": [
      {
       "output_type": "stream",
       "stream": "stdout",
       "text": [
        "total 36\r\n",
        "-rw-r--r-- 1 dyerke dyerke 3072 Oct 25 22:54 Datatype\r\n",
        "-rw-rw-r-- 1 dyerke dyerke  168 Oct 26 09:46 pickle.pkl\r\n",
        "-rw-rw-r-- 1 dyerke dyerke  156 Oct 26 09:46 json.json\r\n"
       ]
      }
     ],
     "prompt_number": 21
    },
    {
     "cell_type": "code",
     "collapsed": false,
     "input": [
      "#1\n",
      "conn= None\n",
      "try:\n",
      "    conn= sqlite3.connect(\"Datatype\")\n",
      "    c= conn.cursor()\n",
      "    # drop and create table\n",
      "    c.execute(\"drop table if exists datatypes\")\n",
      "    c.execute(\"create table datatypes (jsondatatype text, pythondatatype text)\")\n",
      "    #\n",
      "    conn.commit()\n",
      "finally:\n",
      "    if conn is not None:\n",
      "        conn.close()"
     ],
     "language": "python",
     "metadata": {},
     "outputs": [],
     "prompt_number": 22
    },
    {
     "cell_type": "code",
     "collapsed": false,
     "input": [
      "#2\n",
      "conn= None\n",
      "try:\n",
      "    conn= sqlite3.connect(\"Datatype\")\n",
      "    c= conn.cursor()\n",
      "    # ensure clean table\n",
      "    c.execute(\"delete from datatypes\")\n",
      "    conn.commit()\n",
      "    # insert json and python datatypes in table\n",
      "    r_datatypes=pickle.load(gzip.open('pickle.pkl','rb'))\n",
      "    m_insert_parameters= []\n",
      "    for k, v in r_datatypes.iteritems():\n",
      "        m_insert_parameters.append((k,v))\n",
      "    c.executemany(\"insert into datatypes values (?,?)\", m_insert_parameters)\n",
      "    #\n",
      "    conn.commit()\n",
      "finally:\n",
      "    if conn is not None:\n",
      "        conn.close()\n",
      "\n",
      "# verify data exists exists\n",
      "conn= None\n",
      "try:\n",
      "    conn= sqlite3.connect(\"Datatype\")\n",
      "    c= conn.cursor()\n",
      "    # insert json and python datatypes in table\n",
      "    for row in c.execute(\"select * from datatypes\"):\n",
      "        print type(row), row\n",
      "    #\n",
      "    conn.commit()\n",
      "finally:\n",
      "    if conn is not None:\n",
      "        conn.close()"
     ],
     "language": "python",
     "metadata": {},
     "outputs": [
      {
       "output_type": "stream",
       "stream": "stdout",
       "text": [
        "<type 'tuple'> (u'false', u'False')\n",
        "<type 'tuple'> (u'string', u'string')\n",
        "<type 'tuple'> (u'object', u'dictionary')\n",
        "<type 'tuple'> (u'integer', u'integer')\n",
        "<type 'tuple'> (u'array', u'list')\n",
        "<type 'tuple'> (u'null', u'None')\n",
        "<type 'tuple'> (u'true', u'True')\n",
        "<type 'tuple'> (u'realnumber', u'float')\n"
       ]
      }
     ],
     "prompt_number": 23
    },
    {
     "cell_type": "code",
     "collapsed": false,
     "input": [
      "#3\n",
      "conn= None\n",
      "try:\n",
      "    conn= sqlite3.connect(\"Datatype\")\n",
      "    c= conn.cursor()\n",
      "    # drop and create table\n",
      "    c.execute(\"drop table if exists missing_datatypes\")\n",
      "    c.execute(\"create table missing_datatypes (jsondatatype text, pythondatatype text)\")\n",
      "    #\n",
      "    conn.commit()\n",
      "finally:\n",
      "    if conn is not None:\n",
      "        conn.close()"
     ],
     "language": "python",
     "metadata": {},
     "outputs": [],
     "prompt_number": 24
    },
    {
     "cell_type": "code",
     "collapsed": false,
     "input": [
      "#4\n",
      "m_missing_python_datatypes= [(\"set\",), (\"tuple\",)]\n",
      "\n",
      "conn= None\n",
      "try:\n",
      "    conn= sqlite3.connect(\"Datatype\")\n",
      "    c= conn.cursor()\n",
      "    # ensure clean table\n",
      "    c.execute(\"delete from missing_datatypes\")\n",
      "    conn.commit()\n",
      "    # insert python datatypes in table\n",
      "    c.executemany(\"insert into missing_datatypes (pythondatatype) values (?)\", m_missing_python_datatypes)\n",
      "    #\n",
      "    conn.commit()\n",
      "finally:\n",
      "    if conn is not None:\n",
      "        conn.close()\n",
      "\n",
      "# verify data exists exists\n",
      "conn= None\n",
      "try:\n",
      "    conn= sqlite3.connect(\"Datatype\")\n",
      "    c= conn.cursor()\n",
      "    # insert json and python datatypes in table\n",
      "    for row in c.execute(\"select * from missing_datatypes\"):\n",
      "        print type(row), row\n",
      "    #\n",
      "    conn.commit()\n",
      "finally:\n",
      "    if conn is not None:\n",
      "        conn.close()"
     ],
     "language": "python",
     "metadata": {},
     "outputs": [
      {
       "output_type": "stream",
       "stream": "stdout",
       "text": [
        "<type 'tuple'> (None, u'set')\n",
        "<type 'tuple'> (None, u'tuple')\n"
       ]
      }
     ],
     "prompt_number": 25
    },
    {
     "cell_type": "code",
     "collapsed": false,
     "input": [
      "#5\n",
      "conn= None\n",
      "try:\n",
      "    conn= sqlite3.connect(\"Datatype\")\n",
      "    c= conn.cursor()\n",
      "    # insert json and python datatypes in table\n",
      "    c.execute(\"\"\" \n",
      "        insert into datatypes (jsondatatype, pythondatatype)\n",
      "        select jsondatatype, pythondatatype\n",
      "        from missing_datatypes\n",
      "        where pythondatatype not in (\n",
      "            select pythondatatype\n",
      "            from datatypes\n",
      "        )\n",
      "    \"\"\")\n",
      "    #\n",
      "    conn.commit()\n",
      "finally:\n",
      "    if conn is not None:\n",
      "        conn.close()\n",
      "\n",
      "# verify merge occurred\n",
      "conn= None\n",
      "try:\n",
      "    conn= sqlite3.connect(\"Datatype\")\n",
      "    c= conn.cursor()\n",
      "    # insert json and python datatypes in table\n",
      "    for row in c.execute(\"select * from datatypes\"):\n",
      "        print type(row), row\n",
      "    #\n",
      "    conn.commit()\n",
      "finally:\n",
      "    if conn is not None:\n",
      "        conn.close()"
     ],
     "language": "python",
     "metadata": {},
     "outputs": [
      {
       "output_type": "stream",
       "stream": "stdout",
       "text": [
        "<type 'tuple'> (u'false', u'False')\n",
        "<type 'tuple'> (u'string', u'string')\n",
        "<type 'tuple'> (u'object', u'dictionary')\n",
        "<type 'tuple'> (u'integer', u'integer')\n",
        "<type 'tuple'> (u'array', u'list')\n",
        "<type 'tuple'> (u'null', u'None')\n",
        "<type 'tuple'> (u'true', u'True')\n",
        "<type 'tuple'> (u'realnumber', u'float')\n",
        "<type 'tuple'> (None, u'set')\n",
        "<type 'tuple'> (None, u'tuple')\n"
       ]
      }
     ],
     "prompt_number": 65
    },
    {
     "cell_type": "code",
     "collapsed": false,
     "input": [
      "#6\n",
      "# verify merge occurred\n",
      "conn= None\n",
      "try:\n",
      "    conn= sqlite3.connect(\"Datatype\")\n",
      "    c= conn.cursor()\n",
      "    # insert json and python datatypes in table\n",
      "    for row in c.execute(\"select * from datatypes order by pythondatatype\"):\n",
      "        print type(row), row\n",
      "    #\n",
      "    conn.commit()\n",
      "finally:\n",
      "    if conn is not None:\n",
      "        conn.close()"
     ],
     "language": "python",
     "metadata": {},
     "outputs": [
      {
       "output_type": "stream",
       "stream": "stdout",
       "text": [
        "<type 'tuple'> (u'false', u'False')\n",
        "<type 'tuple'> (u'null', u'None')\n",
        "<type 'tuple'> (u'true', u'True')\n",
        "<type 'tuple'> (u'object', u'dictionary')\n",
        "<type 'tuple'> (u'realnumber', u'float')\n",
        "<type 'tuple'> (u'integer', u'integer')\n",
        "<type 'tuple'> (u'array', u'list')\n",
        "<type 'tuple'> (u'string', u'string')\n"
       ]
      }
     ],
     "prompt_number": 26
    },
    {
     "cell_type": "markdown",
     "metadata": {},
     "source": [
      "##Regular Expression\n",
      "We have a file regex_test which has number of lines, each line containing one data element of various kinds (dates, numbers, phone numbers, etc).  Your task is to construct a python array containing all instances of each of the specified data types via python regular expressions.\n",
      "\n",
      "Here are the data types:\n",
      "\n",
      "1. Dates of one of these formats: mm/dd/yyyy, yyyymmdd, yyyy-mm-dd\n",
      "2. US phone numbers: 10 digits, area code can be surounded by () or seperated by one dash and some spaces, prefix/line number can be seperated by one dash and some spaces.  Example valid numbers are 123-456-7890, (123)   456 -7890, 1234567890, 123- 4567890, etc\n",
      "3. Raw decimal numbers (IE somthing that \"float(x)\" would not crash on). \n",
      "4. US Dollar amounts (\\$ddd.cc)\n",
      "5. Basic email addresses.  Should conform to http://en.wikipedia.org/wiki/Email_address but with only aphanumeric usernames/domains, only com, co.uk, edu, and ru tlds are used\n",
      "\n",
      "Please create a list of the valid elements for each of these types and report the number of valid elements of each type in a markdown field."
     ]
    },
    {
     "cell_type": "code",
     "collapsed": false,
     "input": [
      "import re"
     ],
     "language": "python",
     "metadata": {},
     "outputs": [],
     "prompt_number": 29
    },
    {
     "cell_type": "code",
     "collapsed": false,
     "input": [
      "#1\n",
      "def date_match(s):\n",
      "    patterns = []\n",
      "    # mm/dd/yyyy\n",
      "    patterns.append(re.compile(r'(\\A([0][0-9])|\\A([1][0-2]))/[0-3][0-9]'))\n",
      "    #patterns.append(re.compile(r'\\A([0][0-9])/'))\n",
      "    #patterns.append(re.compile(r'[0-9]{2}\\/[0-9]{2}\\/[0-9]{4}'))\n",
      "    #patterns.append(re.compile(r'\\b[0-9]{8}\\b'))\n",
      "    for pattern in patterns:\n",
      "        print \"checking pattern: \", pattern.pattern\n",
      "        match= re.search(pattern, s)\n",
      "        if match:\n",
      "            result= match.group()\n",
      "            print \"match found: \", result\n",
      "            return True\n",
      "        else:\n",
      "            print 'no match.'\n",
      "    return False\n",
      "\n",
      "Text = \"\"\"\n",
      "    15\n",
      "    27\n",
      "    12\n",
      "    09\n",
      "    89\n",
      "    97\n",
      "    09/07/2014\n",
      "    20140914\n",
      "    2014-09-07\n",
      "    10/07/2014\n",
      "    12/07/2014\n",
      "    12/37/2014\n",
      "    13/07/2014\n",
      "    HelloWorld\n",
      "    89/45/2014\n",
      "    1234567890\n",
      "    aword\n",
      "    \"\"\"\n",
      "for c in \"\\t \":\n",
      "    Text = Text.replace(c, \"\")\n",
      "s_arr = Text.split(\"\\n\");\n",
      "for s in s_arr:\n",
      "    if len(s) == 0:\n",
      "        continue;\n",
      "    print \"\\nprocessing\", s\n",
      "    date_match(s)"
     ],
     "language": "python",
     "metadata": {},
     "outputs": [
      {
       "output_type": "stream",
       "stream": "stdout",
       "text": [
        "\n",
        "processing 15\n",
        "checking pattern:  (\\A([0][0-9])|\\A([1][0-2]))/[0-3][0-9]\n",
        "no match.\n",
        "\n",
        "processing 27\n",
        "checking pattern:  (\\A([0][0-9])|\\A([1][0-2]))/[0-3][0-9]\n",
        "no match.\n",
        "\n",
        "processing 12\n",
        "checking pattern:  (\\A([0][0-9])|\\A([1][0-2]))/[0-3][0-9]\n",
        "no match.\n",
        "\n",
        "processing 09\n",
        "checking pattern:  (\\A([0][0-9])|\\A([1][0-2]))/[0-3][0-9]\n",
        "no match.\n",
        "\n",
        "processing 89\n",
        "checking pattern:  (\\A([0][0-9])|\\A([1][0-2]))/[0-3][0-9]\n",
        "no match.\n",
        "\n",
        "processing 97\n",
        "checking pattern:  (\\A([0][0-9])|\\A([1][0-2]))/[0-3][0-9]\n",
        "no match.\n",
        "\n",
        "processing 09/07/2014\n",
        "checking pattern:  (\\A([0][0-9])|\\A([1][0-2]))/[0-3][0-9]\n",
        "match found:  09/07\n",
        "\n",
        "processing 20140914\n",
        "checking pattern:  (\\A([0][0-9])|\\A([1][0-2]))/[0-3][0-9]\n",
        "no match.\n",
        "\n",
        "processing 2014-09-07\n",
        "checking pattern:  (\\A([0][0-9])|\\A([1][0-2]))/[0-3][0-9]\n",
        "no match.\n",
        "\n",
        "processing 10/07/2014\n",
        "checking pattern:  (\\A([0][0-9])|\\A([1][0-2]))/[0-3][0-9]\n",
        "match found:  10/07\n",
        "\n",
        "processing 12/07/2014\n",
        "checking pattern:  (\\A([0][0-9])|\\A([1][0-2]))/[0-3][0-9]\n",
        "match found:  12/07\n",
        "\n",
        "processing 12/37/2014\n",
        "checking pattern:  (\\A([0][0-9])|\\A([1][0-2]))/[0-3][0-9]\n",
        "match found:  12/37\n",
        "\n",
        "processing 13/07/2014\n",
        "checking pattern:  (\\A([0][0-9])|\\A([1][0-2]))/[0-3][0-9]\n",
        "no match.\n",
        "\n",
        "processing HelloWorld\n",
        "checking pattern:  (\\A([0][0-9])|\\A([1][0-2]))/[0-3][0-9]\n",
        "no match.\n",
        "\n",
        "processing 89/45/2014\n",
        "checking pattern:  (\\A([0][0-9])|\\A([1][0-2]))/[0-3][0-9]\n",
        "no match.\n",
        "\n",
        "processing 1234567890\n",
        "checking pattern:  (\\A([0][0-9])|\\A([1][0-2]))/[0-3][0-9]\n",
        "no match.\n",
        "\n",
        "processing aword\n",
        "checking pattern:  (\\A([0][0-9])|\\A([1][0-2]))/[0-3][0-9]\n",
        "no match.\n"
       ]
      }
     ],
     "prompt_number": 55
    },
    {
     "cell_type": "markdown",
     "metadata": {},
     "source": [
      "##Pandas Data Analysis\n",
      "Pandas gives us a nice set of tools to work with columnar data (similar to R's dataframe). \n",
      "To learn how to use this it makes the most sense to use a real data set.\n",
      "For this assignment we'll use the KDD Cup 1998 dataset, which can be sourced from http://kdd.ics.uci.edu/databases/kddcup98/kddcup98.html .\n",
      "\n",
      "\n",
      "###Acquiring Data\n",
      "First we pull the README file from the dataset into this notebook via the unix \"curl\" command.  Remember you can hide/minimize output cells via the button on the left of the output."
     ]
    },
    {
     "cell_type": "code",
     "collapsed": false,
     "input": [
      "!curl http://kdd.ics.uci.edu/databases/kddcup98/epsilon_mirror/readme"
     ],
     "language": "python",
     "metadata": {},
     "outputs": [
      {
       "output_type": "stream",
       "stream": "stdout",
       "text": [
        "+--------------------------------------------------------------------+\r",
        "\r\n",
        "| NOTE TO ALL DOWN-LOADERS                                           |\r",
        "\r\n",
        "+--------------------------------------------------------------------+\r",
        "\r\n",
        "\r",
        "\r\n",
        "The KDD-CUP-98 data set and the accompanying documentation are now \r",
        "\r\n",
        "available for general use with the following restrictions: \r",
        "\r\n",
        "\r",
        "\r\n",
        "  (1) The users of the data must notify \r",
        "\r\n",
        "\r",
        "\r\n",
        "\tIsmail Parsa\t(iparsa@epsilon.com) and\r",
        "\r\n",
        "\tKen Howes\t(khowes@epsilon.com) \r",
        "\r\n",
        "\r",
        "\r\n",
        "  in the event they produce results, visuals or tables, etc. from the \r",
        "\r\n",
        "  data and send a note that includes a summary of the final result. \r",
        "\r\n",
        "\r",
        "\r\n",
        "  (2) The authors of published and/or unpublished articles that use \r",
        "\r\n",
        "  the KDD-Cup-98 data set must also notify the individuals listed \r",
        "\r\n",
        "  above and send a copy of their published and/or unpublished work. \r",
        "\r\n",
        "\r",
        "\r\n",
        "  (3) If you intend to use this data set for training or educational\r",
        "\r\n",
        "  purposes, you must not reveal the name of the sponsor PVA \r",
        "\r\n",
        "  (Paralyzed Veterans of America) to the trainees or students. You \r",
        "\r\n",
        "  are allowed to say \"a national veterans organization\"...\r",
        "\r\n",
        "\r",
        "\r\n",
        "\r",
        "\r\n",
        "For more information regarding the KDD-Cup (including the list of the \r",
        "\r\n",
        "participants and the results), please visit the KDD-Cup-98 web page at\r",
        "\r\n",
        "\r",
        "\r\n",
        "\thttp://www.epsilon.com/new\r",
        "\r\n",
        "\r",
        "\r\n",
        "While there, scroll down to Data Mining Presentations where you will \r",
        "\r\n",
        "find the KDD-Cup-98 web page. \r",
        "\r\n",
        "\r",
        "\r\n",
        "\r",
        "\r\n",
        "Ismail Parsa \r",
        "\r\n",
        "Epsilon \r",
        "\r\n",
        "50 Cambridge Street \r",
        "\r\n",
        "Burlington MA 01803 USA \r",
        "\r\n",
        "\r",
        "\r\n",
        "TEL: (781) 685-6734 \r",
        "\r\n",
        "FAX: (781) 685-0806 \r",
        "\r\n",
        "\r",
        "\r\n",
        "+--------------------------------------------------------------------+\r",
        "\r\n",
        "| LISTING of the FILES (README FILE)                                 |\r",
        "\r\n",
        "+--------------------------------------------------------------------+\r",
        "\r\n",
        "\r",
        "\r\n",
        "File Naming Conventions: \r",
        "\r\n",
        "\r",
        "\r\n",
        "o cup98               : KDD-CUP-98 \r",
        "\r\n",
        "o      QUE            : QUEstionnaire \r",
        "\r\n",
        "o      DOC            : DOCumentation\r",
        "\r\n",
        "o      DIC            : DICtionary\r",
        "\r\n",
        "o      LRN            : LeaRNing data set \r",
        "\r\n",
        "o      VAL            : VALidation data set \r",
        "\r\n",
        "o      VALtargt       : TARGeT fields for VALidation data set\r",
        "\r\n",
        "o              .txt   : plain ascii text files\r",
        "\r\n",
        "o              .zip   : PKZIP compressed files\r",
        "\r\n",
        "o              .txt.Z : UNIX COMPRESSED files\r",
        "\r\n",
        "\r",
        "\r\n",
        "FILE NAME       DESCRIPTION\r",
        "\r\n",
        "--------------- ------------------------------------------------------\r",
        "\r\n",
        "\r",
        "\r\n",
        "README          This list, listing the files in the FTP server and \r",
        "\r\n",
        "                their contents.\r",
        "\r\n",
        "\r",
        "\r\n",
        "cup98NDA.txt    The Non-Disclosure Agreement. MUST BE SIGNED BY ALL \r",
        "\r\n",
        "                PARTICIPANTS AND MAILED BACK TO ISMAIL PARSA \r",
        "\r\n",
        "                <iparsa@epsilon.com> BEFORE DOWNLOADING THE DATA SETS.\r",
        "\r\n",
        "\r",
        "\r\n"
       ]
      },
      {
       "output_type": "stream",
       "stream": "stdout",
       "text": [
        "cup98DOC.txt    This file, an overview and pointer to more detailed \r",
        "\r\n",
        "                information about the competition\r",
        "\r\n",
        "\r",
        "\r\n",
        "cup98DIC.txt    Data dictionary to accompany the analysis data set. \r",
        "\r\n",
        "\r",
        "\r\n",
        "cup98QUE.txt    KDD-CUP questionnaire. PARTICIPANTS ARE REQUIRED TO\r",
        "\r\n",
        "                FILL-OUT THE QUESTIONNAIRE and turned in\r",
        "\r\n",
        "                with the results. \r",
        "\r\n",
        "\r",
        "\r\n",
        "cup98LRN.zip    PKZIP compressed raw LEARNING data set. \r",
        "\r\n",
        "                Internal name: cup98LRN.txt \r",
        "\r\n",
        "                File size: 36,468,735 bytes zipped. 117,167,952 bytes \r",
        "\r\n",
        "                unzipped.\r",
        "\r\n",
        "                Number of Records: 95412.\r",
        "\r\n",
        "                Number of Fields: 481.\r",
        "\r\n",
        "\r",
        "\r\n",
        "cup98VAL.zip    PKZIP compressed raw VALIDATION data set. \r",
        "\r\n",
        "                Internal name: cup98VAL.txt \r",
        "\r\n",
        "                File size: 36,763,018 bytes zipped. 117,943,347 bytes \r",
        "\r\n",
        "                unzipped.\r",
        "\r\n",
        "                Number of Records: 96367.\r",
        "\r\n",
        "                Number of Fields: 479.\r",
        "\r\n",
        " \r",
        "\r\n",
        "cup98LRN.txt.Z  UNIX COMPRESSed raw LEARNING data set. \r",
        "\r\n",
        "                Internal name: cup98LRN.txt \r",
        "\r\n",
        "                File size: 36,579,127 bytes compressed. 117,167,952 \r",
        "\r\n",
        "                bytes uncompressed.\r",
        "\r\n",
        "                Number of Records: 95412.\r",
        "\r\n",
        "                Number of Fields: 481.\r",
        "\r\n",
        "\r",
        "\r\n",
        "cup98VAL.txt.Z  UNIX COMPRESSed raw VALIDATION data set. \r",
        "\r\n",
        "                Internal name: cup98VAL.txt \r",
        "\r\n",
        "                File size: 36,903,761 bytes compressed. 117,943,347 \r",
        "\r\n",
        "                bytes uncompressed.\r",
        "\r\n",
        "                Number of Records: 96367.\r",
        "\r\n",
        "                Number of Fields: 479.\r",
        "\r\n"
       ]
      }
     ],
     "prompt_number": 3
    },
    {
     "cell_type": "markdown",
     "metadata": {},
     "source": [
      "As you can see this README describes several files which may be of use.  In particular there are two more documentation files (DOC and DIC) we should read to get an idea of the data format.  Bring these files into the notebook."
     ]
    },
    {
     "cell_type": "code",
     "collapsed": false,
     "input": [
      "!rm -rf cup98*\n",
      "!wget http://kdd.ics.uci.edu/databases/kddcup98/epsilon_mirror/cup98doc.txt\n",
      "!wget http://kdd.ics.uci.edu/databases/kddcup98/epsilon_mirror/cup98dic.txt\n",
      "!ls -ltr"
     ],
     "language": "python",
     "metadata": {},
     "outputs": [
      {
       "output_type": "stream",
       "stream": "stdout",
       "text": [
        "--2014-10-26 13:19:29--  http://kdd.ics.uci.edu/databases/kddcup98/epsilon_mirror/cup98doc.txt\r\n",
        "Resolving kdd.ics.uci.edu (kdd.ics.uci.edu)... 128.195.1.87\r\n",
        "Connecting to kdd.ics.uci.edu (kdd.ics.uci.edu)|128.195.1.87|:80... connected.\r\n",
        "HTTP request sent, awaiting response... 200 OK\r\n",
        "Length: 62956 (61K) [text/plain]\r\n",
        "Saving to: \u2018cup98doc.txt\u2019\r\n",
        "\r\n",
        "\r",
        " 0% [                                       ] 0           --.-K/s              "
       ]
      },
      {
       "output_type": "stream",
       "stream": "stdout",
       "text": [
        "\r",
        "100%[======================================>] 62,956      --.-K/s   in 0.07s   \r\n",
        "\r\n",
        "2014-10-26 13:19:29 (915 KB/s) - \u2018cup98doc.txt\u2019 saved [62956/62956]\r\n",
        "\r\n"
       ]
      },
      {
       "output_type": "stream",
       "stream": "stdout",
       "text": [
        "--2014-10-26 13:19:29--  http://kdd.ics.uci.edu/databases/kddcup98/epsilon_mirror/cup98dic.txt\r\n",
        "Resolving kdd.ics.uci.edu (kdd.ics.uci.edu)... 128.195.1.87\r\n",
        "Connecting to kdd.ics.uci.edu (kdd.ics.uci.edu)|128.195.1.87|:80... connected.\r\n",
        "HTTP request sent, awaiting response... "
       ]
      },
      {
       "output_type": "stream",
       "stream": "stdout",
       "text": [
        "200 OK\r\n",
        "Length: 56987 (56K) [text/plain]\r\n",
        "Saving to: \u2018cup98dic.txt\u2019\r\n",
        "\r\n",
        "\r",
        " 0% [                                       ] 0           --.-K/s              "
       ]
      },
      {
       "output_type": "stream",
       "stream": "stdout",
       "text": [
        "\r",
        "100%[======================================>] 56,987      --.-K/s   in 0.08s   \r\n",
        "\r\n",
        "2014-10-26 13:19:29 (698 KB/s) - \u2018cup98dic.txt\u2019 saved [56987/56987]\r\n",
        "\r\n"
       ]
      },
      {
       "output_type": "stream",
       "stream": "stdout",
       "text": [
        "total 172\r\n",
        "-rw-rw-r-- 1 dyerke dyerke 56987 Feb  5  1999 cup98dic.txt\r\n",
        "-rw-rw-r-- 1 dyerke dyerke 62956 Feb  5  1999 cup98doc.txt\r\n",
        "-rw-rw-r-- 1 dyerke dyerke   168 Oct 26 13:10 pickle.pkl\r\n",
        "-rw-rw-r-- 1 dyerke dyerke   156 Oct 26 13:10 json.json\r\n",
        "-rw-r--r-- 1 dyerke dyerke  3072 Oct 26 13:10 Datatype\r\n"
       ]
      }
     ],
     "prompt_number": 3
    },
    {
     "cell_type": "markdown",
     "metadata": {},
     "source": [
      "Now we wish to download the cup98lrn.zip file and unzip it into a new subdirectory called \"data\".  \n",
      "However, since this file is pretty big we don't want to store it on github.  \n",
      "Luckily git provides the [.gitignore](http://git-scm.com/docs/gitignore) file which allows us to specify files we don't want to put into our git repository.\n",
      "\n",
      "Please do the following steps:\n",
      "\n",
      "1. Add the directory \"data\" to the .gitignore file\n",
      "2. Commit the new .gitignore file\n",
      "3. Create a new directory \"data\"\n",
      "4. Download http://kdd.ics.uci.edu/databases/kddcup98/epsilon_mirror/cup98lrn.zip into the data directory\n",
      "5. Unzip the cup98lrn.zip (we will only be using the unzipped version, so feel free to remove the zip file)\n",
      "6. Run \"git status\" to show that the data directory is not an untracked file (this indicates it is ignored)\n",
      "\n",
      "**NOTE:** These steps only need to be run once, it is advised you comment all the lines out by putting a # at the start of each line after they have run.  This will save you time in the future when you have to rerun all cells/don't want to spend a few minutes downloading the data file."
     ]
    },
    {
     "cell_type": "code",
     "collapsed": false,
     "input": [
      "#1\n",
      "#!echo \"lecture_2_github_io_numpy_pandas/data\" >> /home/dyerke/Documents/DSE/DSE200-notebooks/.gitignore\n",
      "\n",
      "#2\n",
      "# git add -A\n",
      "# git commit -a -m \"update .gitignore\"\n",
      "# git push origin master\n",
      "\n",
      "#3\n",
      "!mkdir -p /home/dyerke/Documents/DSE/DSE200-notebooks/lecture_2_github_io_numpy_pandas/data\n",
      "%cd /home/dyerke/Documents/DSE/DSE200-notebooks/lecture_2_github_io_numpy_pandas/data\n",
      "\n",
      "#4\n",
      "#!wget http://kdd.ics.uci.edu/databases/kddcup98/epsilon_mirror/cup98lrn.zip\n",
      "\n",
      "#5\n",
      "#!unzip cup98lrn.zip\n",
      "!ls -ltrh\n",
      "\n",
      "#6\n",
      "!git status"
     ],
     "language": "python",
     "metadata": {},
     "outputs": [
      {
       "output_type": "stream",
       "stream": "stdout",
       "text": [
        "/home/dyerke/Documents/DSE/DSE200-notebooks/lecture_2_github_io_numpy_pandas/data\n",
        "total 259M\r\n",
        "-rw-rw-r-- 1 dyerke dyerke  35M Feb  5  1999 cup98lrn.zip\r\n",
        "-rw-rw-r-- 1 dyerke dyerke 6.0K Oct 26 20:43 last5lines\r\n",
        "-rw-rw-r-- 1 dyerke dyerke 112M Oct 26 21:14 cup98LRN.txt.bak\r\n",
        "-rw-rw-r-- 1 dyerke dyerke 3.0K Oct 26 22:09 line1\r\n",
        "-rw-rw-r-- 1 dyerke dyerke 112M Oct 30 00:38 cup98LRN.txt\r\n"
       ]
      },
      {
       "output_type": "stream",
       "stream": "stdout",
       "text": [
        "On branch master\r\n",
        "Your branch is up-to-date with 'origin/master'.\r\n",
        "\r\n",
        "Changes not staged for commit:\r\n",
        "  (use \"git add <file>...\" to update what will be committed)\r\n",
        "  (use \"git checkout -- <file>...\" to discard changes in working directory)\r\n",
        "\r\n",
        "\t\u001b[31mmodified:   ../10_exercises.ipynb\u001b[m\r\n",
        "\r\n",
        "no changes added to commit (use \"git add\" and/or \"git commit -a\")\r\n"
       ]
      }
     ],
     "prompt_number": 3
    },
    {
     "cell_type": "markdown",
     "metadata": {},
     "source": [
      "Now perform some basic sanity checks on the data.  Using a combination of unix/basic python answer the following questions:\n",
      "\n",
      "1. How many lines are there?  \n",
      "2. Is the file character seperated or fixed width format?\n",
      "3. Is there a header?  If so how many fields are in it?\n",
      "4. Do all rows have the same number of fields as the header?\n",
      "5. Does anyhting in 1-4 disagree with the readme file or indicate erroneous data?"
     ]
    },
    {
     "cell_type": "code",
     "collapsed": false,
     "input": [
      "#1\n",
      "line_count= !wc -l cup98LRN.txt | cut -d' ' -f 1\n",
      "line_count= int(line_count[0])\n",
      "print line_count"
     ],
     "language": "python",
     "metadata": {},
     "outputs": [
      {
       "output_type": "stream",
       "stream": "stdout",
       "text": [
        "95413\n"
       ]
      }
     ],
     "prompt_number": 4
    },
    {
     "cell_type": "code",
     "collapsed": false,
     "input": [
      "#2\n",
      "!tail -n 5 cup98LRN.txt > last5lines\n",
      "\n",
      "is_fixed_width= True\n",
      "m_wc= None\n",
      "with open(\"last5lines\") as f:\n",
      "    for line in f:\n",
      "        print \"processing line={}\".format(line)\n",
      "        t_wc= len(line)\n",
      "        if m_wc and m_wc != t_wc:\n",
      "            is_fixed_width= False\n",
      "            break\n",
      "        m_wc= t_wc\n",
      "\n",
      "m_message= \"File is fixed width format\" if is_fixed_width else \"File is not fixed width format\"\n",
      "print m_message"
     ],
     "language": "python",
     "metadata": {},
     "outputs": [
      {
       "output_type": "stream",
       "stream": "stdout",
       "text": [
        "processing line=9601,ASE,1,AK,99504, , ,0,0, , , , ,XXXX,C2,27,, , , , , , ,,,M,,0,,,,,,,,,,,,,,, ,14,36,47,11,7,8,13, , , ,, , , , , , , , , , , , , , , , , , , , , ,27380,7252,10037,99,0,0,50,50,78,10,6,4,5,0,0,0,1,1,0,0,3,1,0,2,28,35,38,29,38,41,30,45,37,18,16,31,25,15,8,3,1,20,18,31,18,13,7,3,5,20,32,48,28,10,4,58,15,3,24,195,271,54,38,8,32,24,14,0,0,0,988,1025,6,6,56,44,89,11,3,44,72,56,32,83,17,12,3,10,16,15,8,19,55,5,3,6,0,2,10,49,73,92,0,4,40,52,53,15,4,24,8,13,14,15,12,3,69,84,92,97,380,0,743,433,481,499,535,18807,11,13,13,21,22,13,4,2,2,9,11,11,21,24,16,4,2,2,9,6,70,6,63,37,27,76,15,2,2,0,0,0,5,2,1,2,18,20,2,69,81,89,73,83,69,69,57,61,94,7,15,16,5,10,21,0,3,11,1,11,2,3,3,1,4,6,4,7,3,3,17,7,5,3,1,9,8,7,14,7,8,13,6,59,7,0,136,2,7,28,33,8,15,8,3,26,2,19,8,8,15,2,20,35,5,48,15,11,25,1,5,1,9,0,0,4,1,1,1,0,0,1,1,0,4,26,92,3,2,4,95,60,19,3,14,0,7,32,78,91,9,6,5,86,1,12,0,0,1,93,7,98,99,98,16,4,4,3,9706,9606,9604,,9603,9601,9512,,,,,,,,,,,,,,,,,L1G,F1G,F1G, ,F1G,P1G,P1G, , , , , , , , , , , , , , , , ,6,9702,14,5,12,,,,,9602,,,,,,,,,,,,,,,,,,,,,,25,,,,,,,,,,,,,,,,,,25,1,0,25,9602,25,9602,25,9602,9602,,,25,184568,0,0,0,L,1,G,X,X,X,12,C\n",
        "\n",
        "processing line=9601,DCD,1,TX,77379, , ,5001,0, , , , ,XXXX,C1,24,48,E,H, , , ,M,1,7,M,9,1,0,0,1,0,0,0,0,0,0,0,0,0,0,0,3,0,31,43,19,4,1,0, , , ,, , , , , , , , , , , , , , , , , , , , , ,1254,322,361,96,0,4,51,49,91,3,0,2,6,1,0,1,0,0,0,0,5,0,0,1,30,40,40,28,41,43,39,33,42,25,9,19,43,17,7,4,2,10,16,35,23,16,9,2,7,10,20,70,52,25,6,73,4,2,20,307,346,89,88,1,1,0,0,0,0,0,1679,1723,3,3,88,12,97,3,0,63,89,85,60,96,4,2,1,1,7,5,1,28,58,5,2,2,0,18,71,88,91,97,5,1,77,82,75,20,4,1,0,10,7,1,0,5,16,26,44,79,3360,201,618,806,836,802,849,26538,8,9,7,6,11,29,13,2,15,10,0,8,2,13,35,16,3,13,8,5,61,7,83,17,36,80,4,4,4,0,0,0,6,5,3,3,25,32,10,61,73,88,56,87,52,48,43,99,0,0,18,31,0,13,17,0,1,2,4,6,0,3,5,1,8,8,9,3,7,9,13,9,6,0,0,4,7,13,3,4,1,0,4,78,12,0,160,1,6,12,24,7,36,14,9,35,5,32,7,0,0,0,21,31,8,43,5,19,15,1,12,1,14,0,0,4,0,0,1,0,0,0,1,0,2,51,94,3,0,2,99,84,29,4,7,2,55,90,94,94,6,0,0,82,2,16,0,0,0,69,31,67,99,97,18,5,3,2,9706,,,,,9601,9601,,,,,,,,,,,,,,,,,L1F, , , , ,P1F,P1F, , , , , , , , , , , , , , , , ,4,9702,10,3,8,,,,,9603,,,,,,,,,,,,,,,,,,,,,,20,,,,,,,,,,,,,,,,,,20,1,0,20,9603,20,9603,20,9603,9603,,,20,122706,0,0,1,L,1,F,X,X,X,2,A\n",
        "\n",
        "File is not fixed width format\n"
       ]
      }
     ],
     "prompt_number": 7
    },
    {
     "cell_type": "code",
     "collapsed": false,
     "input": [
      "#3\n",
      "!head -n 1 cup98LRN.txt > line1\n",
      "\n",
      "def get_fields(line):\n",
      "    for char in '-.,\\n\"\\'':\n",
      "        print \"Processing char\", char\n",
      "        s_arr= line.split(char)\n",
      "        if len(s_arr) > 1:\n",
      "            return (char, s_arr)\n",
      "    return None\n",
      "\n",
      "with open(\"line1\") as f:\n",
      "    for line in f:\n",
      "        print \"determining if line 1 is a header\".format(line)\n",
      "        r_fields= get_fields(line)\n",
      "        if r_fields:\n",
      "            print \"Found separator '{}', begin detection of header names\".format(r_fields[0])\n",
      "        header_fields= r_fields[1]\n",
      "        n= len(header_fields)\n",
      "        i= 0\n",
      "        for s in header_fields:\n",
      "            try:\n",
      "                int(s)\n",
      "            except:\n",
      "                # not a number increment error count\n",
      "                i+=1\n",
      "        \n",
      "        if i == n:\n",
      "            print \"1st row is a header as each field cannot be parsed as a Number\"\n",
      "            print \"Number of fields is {}\".format(n)"
     ],
     "language": "python",
     "metadata": {},
     "outputs": [
      {
       "output_type": "stream",
       "stream": "stdout",
       "text": [
        "determining if line 1 is a header\n",
        "Processing char -\n",
        "Processing char .\n",
        "Processing char ,\n",
        "Found separator ',', begin detection of header names\n",
        "1st row is header as each field cannot be parsed as a Number\n",
        "Number of fields is 481\n"
       ]
      }
     ],
     "prompt_number": 17
    },
    {
     "cell_type": "code",
     "collapsed": false,
     "input": [
      "#4\n",
      "!head -n 1 cup98LRN.txt > line1\n",
      "\n",
      "def get_field_count(line):\n",
      "    return len(line.split(','))\n",
      "\n",
      "def get_header_field_count():\n",
      "    with open(\"line1\") as f:\n",
      "        return get_field_count(f.readline())\n",
      "\n",
      "n= get_header_field_count()\n",
      "\n",
      "rows_same_number_of_fields= True\n",
      "with open(\"cup98LRN.txt\") as f:\n",
      "    for line in f:\n",
      "        l_count= get_field_count(line)\n",
      "        if l_count != n:\n",
      "            rows_same_number_of_fields= False\n",
      "            break\n",
      "\n",
      "m_message= \"All rows have same number of fields: {}\".format(n) if rows_same_number_of_fields else \"All rows do not have same number of fields: {}\".format(n)\n",
      "print m_message"
     ],
     "language": "python",
     "metadata": {},
     "outputs": [
      {
       "output_type": "stream",
       "stream": "stdout",
       "text": [
        "All rows have same number of fields: 481\n"
       ]
      }
     ],
     "prompt_number": 20
    },
    {
     "cell_type": "markdown",
     "metadata": {},
     "source": [
      "Give answers to questions 1-4 in this markdown cell:\n",
      "\n",
      "1. 95413\n",
      "2. File is not fixed width format\n",
      "3. 1st row is a header. Number of fields is 481\n",
      "4. All rows have same number of fields\n",
      "5. No, there is nothing in 1-4 that disagrees with the README or indicates erroneous data \n",
      "\n",
      "Now load the data file into a pandas data frame called \"learn\".  To save some time, we've loaded the data dictionary into col_types.  \n",
      "\n",
      "Finally split learn into two data frames, learn_y: the targets (two columns described in the documentation) and learn_x: the predictors (everything but the targets)"
     ]
    },
    {
     "cell_type": "code",
     "collapsed": false,
     "input": [
      "# clean source file\n",
      "!tr -d '\\000' < cup98LRN.txt > cup98LRN.txt_fixed\n",
      "!mv cup98LRN.txt_fixed cup98LRN.txt"
     ],
     "language": "python",
     "metadata": {},
     "outputs": [],
     "prompt_number": 4
    },
    {
     "cell_type": "code",
     "collapsed": false,
     "input": [
      "dict_file = open(\"/home/dyerke/Documents/DSE/DSE200-notebooks/lecture_2_github_io_numpy_pandas/dict.dat\")\n",
      "col_types = [ (x.split(\"\\t\")[0], x.strip().split(\"\\t\")[1]) for x in dict_file.readlines() ]\n",
      "\n",
      "dict_col_types= dict(col_types)"
     ],
     "language": "python",
     "metadata": {},
     "outputs": [],
     "prompt_number": 4
    },
    {
     "cell_type": "code",
     "collapsed": false,
     "input": [
      "#load the data file into a pandas data frame called \"learn\"\n",
      "\n",
      "from pandas import DataFrame, read_csv\n",
      "\n",
      "dict_file = open(\"/home/dyerke/Documents/DSE/DSE200-notebooks/lecture_2_github_io_numpy_pandas/dict.dat\")\n",
      "col_types = [ (x.split(\"\\t\")[0], x.strip().split(\"\\t\")[1]) for x in dict_file.readlines() ]\n",
      "\n",
      "learn= read_csv(\"cup98LRN.txt\", low_memory=False)"
     ],
     "language": "python",
     "metadata": {},
     "outputs": [],
     "prompt_number": 5
    },
    {
     "cell_type": "code",
     "collapsed": false,
     "input": [
      "# split learn into two data frames, learn_y: the targets (two columns described in the documentation) and learn_x: the predictors (everything but the targets)\n",
      "s_list= None\n",
      "with open(\"line1\") as f:\n",
      "    s= f.readline()\n",
      "    s = s.replace('\\n', '')\n",
      "    s_list= s.split(\",\")\n",
      "\n",
      "m_target_names= [\"TARGET_B\", \"TARGET_D\"]\n",
      "for t in m_target_names:\n",
      "    s_list.remove(t)\n",
      "    \n",
      "learn_y= learn[m_target_names]\n",
      "learn_x= learn[s_list]"
     ],
     "language": "python",
     "metadata": {},
     "outputs": [],
     "prompt_number": 6
    },
    {
     "cell_type": "markdown",
     "metadata": {},
     "source": [
      "###Summarizing Data\n",
      "Now that we have loaded data into the learn table, we wish to to summarize the data.  \n",
      "Write a function called summary which takes a pandas data frame and prints a summary of each column containing the following:\n",
      "\n",
      "If the column is numeric:\n",
      "\n",
      "1. Mean\n",
      "2. Standard Deviation\n",
      "3. Min/Max\n",
      "4. Number of missing values (NaN, Inf, NA)\n",
      "\n",
      "If the column is non alphabetical:\n",
      "\n",
      "1. Number of distinct values\n",
      "2. Number of missing values (NaN, INF, NA, blank/all spaces)\n",
      "3. The frequency of the 3 most common values and 3 least common values\n",
      "\n",
      "Format the output to be human readable.\n",
      "\n",
      "For example:\n",
      "> Field_1  \n",
      "> mean: 50  \n",
      "> std_dev: 25  \n",
      "> min: 0  \n",
      "> max: 100  \n",
      "> missing: 5\n",
      ">  \n",
      "> Field_2  \n",
      "> distinct_values: 100  \n",
      "> missing: 10  \n",
      ">  \n",
      "> 3 most common:  \n",
      ">   the: 1000  \n",
      ">   cat: 950  \n",
      ">   meows: 900  \n",
      ">  \n",
      "> 3 least common:  \n",
      ">   dogs: 5  \n",
      ">   lizards: 4  \n",
      ">   eggs: 1  "
     ]
    },
    {
     "cell_type": "code",
     "collapsed": false,
     "input": [
      "from pandas import *\n",
      "\n",
      "import logging\n",
      "import numpy as np\n",
      "import pandas as pd\n",
      "\n",
      "# create logger\n",
      "log = logging.getLogger('summary_logger')\n",
      "log.setLevel(logging.WARN)\n",
      "\n",
      "def summarize_non_numeric_column(s):\n",
      "    log.info(\"Summarizing non numeric column {}\".format(s.name))\n",
      "    #\n",
      "    m_counts= list(s.value_counts().iteritems())\n",
      "    is_null= isnull(s).nonzero()[0]\n",
      "    is_blank_space= s.str.contains(\"\\s\").nonzero()[0]\n",
      "    m_missing_count= len(is_null) + len(is_blank_space)\n",
      "    #\n",
      "    log.info(s.name)\n",
      "    log.info(\"distinct_values: {}\".format(len(m_counts)))\n",
      "    log.info(\"missing: {}\".format(m_missing_count))\n",
      "    log.info(\"3 most common:\")\n",
      "    i= 0\n",
      "    for m_entry in m_counts:\n",
      "        log.info(\"   {}:{}\".format(m_entry[0], m_entry[1]))\n",
      "        i+=1\n",
      "        if (i == 3):\n",
      "            break\n",
      "    log.info(\"3 least common:\")\n",
      "    i= 0\n",
      "    l_least_common= []\n",
      "    for m_entry in m_counts[::-1]:\n",
      "        l_least_common.append(m_entry)\n",
      "        i+=1\n",
      "        if (i == 3):\n",
      "            break\n",
      "    for m_entry in sorted(l_least_common, reverse=True, key= lambda x: x[1]):\n",
      "        log.info(\"   {}:{}\".format(m_entry[0], m_entry[1]))\n",
      "    return (False, s.name, m_counts, m_missing_count)\n",
      "\n",
      "def summarize_numeric_column(s):\n",
      "    log.info(\"Summarizing numeric column {}\".format(s.name))\n",
      "    m_mean= s.mean()\n",
      "    m_std= s.std()\n",
      "    m_min= s.min()\n",
      "    m_max= s.max()\n",
      "    is_inf= isinf(s).nonzero()[0]\n",
      "    is_null= isnull(s).nonzero()[0]\n",
      "    m_missing_count= len(is_inf) + len(is_null)\n",
      "    log.info(s.name)\n",
      "    log.info(\"mean: {}\".format(m_mean))\n",
      "    log.info(\"std_dev: {}\".format(m_std))\n",
      "    log.info(\"min: {}\".format(m_min))\n",
      "    log.info(\"max: {}\".format(m_max))\n",
      "    log.info(\"missing: {}\".format(m_missing_count))\n",
      "    return (True, s.name, m_mean, m_std, m_min, m_max, m_missing_count)\n",
      "\n",
      "def summarize_column(df, label):\n",
      "    if label not in dict_col_types:\n",
      "        raise RuntimeError(\"Unknown field: {}\".format(label))\n",
      "    m_type= dict_col_types[label]\n",
      "    m_series= df[label]\n",
      "    if m_type == \"Num\":\n",
      "        return summarize_numeric_column(m_series)\n",
      "    else:\n",
      "        return summarize_non_numeric_column(m_series)\n",
      "\n",
      "def summary(df):\n",
      "    column_idx= df.columns\n",
      "    result= {}\n",
      "    for c in column_idx:\n",
      "        result[c]= summarize_column(df, c)\n",
      "\n",
      "#summarize_column(learn_x, \"AGE\")\n",
      "#summarize_column(learn_x, \"GENDER\")\n",
      "summary(learn_y)\n",
      "summary(learn_x)"
     ],
     "language": "python",
     "metadata": {},
     "outputs": [],
     "prompt_number": 7
    },
    {
     "cell_type": "markdown",
     "metadata": {},
     "source": [
      "###Feature Engineering\n",
      "\n",
      "As you should have seen, there are a number of columns which are encoded as text.  To perform modeling we must convert these to somthing more numeric or throw them away.  There are a number of ways to do this which are useful in different situations.  For each of the following methods described, write a function that will take a data frame, the column you want to process, any other needed arguements and will return a data frame with the target column removed and new columns added for the described features.\n",
      "\n",
      "1. Hot 1 encoding: takes a column \"Field\" with n unique values and adds n new columns \"Field_x\" with x being each unique value of the field.  A record will have Field_x = 1 if Field = x in the original record.\n",
      "2. Risk table: If a record contains x in Field, replace x with the percent of all records containing x that are taged as positive.  IE if there are 100 records with the zip code 92110 10 of which are positive, replace 92110 in the zip field with 0.1.\n",
      "3. Regex contains: similar to hot one, but instead allow the user to specify some regex patterns x and set Field_x to 1 if the regex pattern x matches the value in Field.  An example usage might be to standardize occupations to student/employed/unemployed.\n",
      "4. Erase feature: remove the feature and don't add any features\n",
      "5. **BONUS:** One unique featureization idea of your choosing.  \n",
      "\n",
      "After this, apply one of your featurizers for each of the 75 non numeric columns.  Since there are so many columns you should use the summary statisitics to choose hot 1, risk table, or erase for most of them.  Come up with a basic heuristic to choose one of them (*Hint: you don't want to generate a ton of mostly constant features*).  Use the regex contains featureizer on at least 2 columns to extract some interesting meaning.  "
     ]
    },
    {
     "cell_type": "code",
     "collapsed": false,
     "input": [
      "#1 Hot 1 encoding\n",
      "import logging\n",
      "\n",
      "# create logger\n",
      "log = logging.getLogger('hot1_encoding_logger')\n",
      "log.setLevel(logging.DEBUG)\n",
      "\n",
      "def hot1_encoding(df, index):\n",
      "    log.info(\"\\nApplying Hot 1 encoding method to column {}\".format(index))\n",
      "    #\n",
      "    s= df[index]\n",
      "    new_df= df.copy()\n",
      "    #\n",
      "    m_value_counts= s.value_counts()\n",
      "    log.info(\"m_value_counts={}\".format(m_value_counts))\n",
      "    \n",
      "    for k,v in m_value_counts.iteritems():\n",
      "        uv_mask= (df[index] == k).astype(float)\n",
      "        new_field= \"Field_sourceCol_{}_value_{}\".format(index, k)\n",
      "        new_df[new_field]= uv_mask\n",
      "    \n",
      "    del new_df[index]\n",
      "    return new_df\n",
      "\n",
      "new_df= hot1_encoding(learn_x, \"GEOCODE2\")\n",
      "log.info(new_df)"
     ],
     "language": "python",
     "metadata": {},
     "outputs": [
      {
       "output_type": "stream",
       "stream": "stderr",
       "text": [
        "INFO:hot1_encoding_logger:\n",
        "Applying Hot 1 encoding method to column GEOCODE2\n"
       ]
      },
      {
       "output_type": "stream",
       "stream": "stderr",
       "text": [
        "INFO:hot1_encoding_logger:m_value_counts=A    34484\n",
        "B    28505\n",
        "D    16580\n",
        "C    15524\n",
        "       187\n",
        "dtype: int64\n"
       ]
      },
      {
       "output_type": "stream",
       "stream": "stderr",
       "text": [
        "INFO:hot1_encoding_logger:       ODATEDW OSOURCE  TCODE STATE     ZIP MAILCODE PVASTATE   DOB NOEXCH  \\\n",
        "0         8901     GRI      0    IL   61081                    3712      0   \n",
        "1         9401     BOA      1    CA   91326                    5202      0   \n",
        "2         9001     AMH      1    NC   27017                       0      0   \n",
        "3         8701     BRY      0    CA   95953                    2801      0   \n",
        "4         8601              0    FL   33176                    2001      0   \n",
        "5         9401     CWR      0    AL   35603                       0      0   \n",
        "6         8701     DRK      0    IN   46755                    6001      0   \n",
        "7         9401     NWN      0    LA   70611                       0      0   \n",
        "8         8801     LIS      1    IA   51033                       0      0   \n",
        "9         9401     MSD      1    TN  37127-                    3211      0   \n",
        "10        9601     AGR      0    KS   67335                       0      0   \n",
        "11        9601     CSM      1    IN   46220                    2301      0   \n",
        "12        8901     ENQ      0    MN   56475                    2603      0   \n",
        "13        9201     HCC      1    LA   70791                       0      0   \n",
        "14        9301     USB      1    UT   84720                    2709      0   \n",
        "15        9401     FRC      1    CA   90056                       0      0   \n",
        "16        9401     RKB      0    MI   48067                    5401      0   \n",
        "17        8801     PCH      2    IL   62376                    5201      0   \n",
        "18        8601     AMB     28    FL   32810        B           3601      0   \n",
        "19        9501     L15      1    NC   27850                       0      0   \n",
        "20        8701     BBK      2    MN   55125                    3601      0   \n",
        "21        9601     L21      1    MI   49247                    1601      0   \n",
        "22        9401     SYN      0    FL   33983                       0      0   \n",
        "23        9301     L01      2    IL   60042                    2311      0   \n",
        "24        9501     MOP      0    MN   55044                    5201      0   \n",
        "25        9101     UCA      0    CA  93527-                    4307      0   \n",
        "26        9601     ESN      0    IL   60091                    5601      0   \n",
        "27        9201     L01      1    MO   64468                    1401      0   \n",
        "28        9101     IMP      0    TX   77381                    4809      0   \n",
        "29        9101     AVN      0    IL   62249                    6001      0   \n",
        "...        ...     ...    ...   ...     ...      ...      ...   ...    ...   \n",
        "95382     9501     MBC      1    KY   40299                    5601      0   \n",
        "95383     9101     HAN      2    SC   29108                       0      0   \n",
        "95384     9601     ADD      0    TX   78418                       0      0   \n",
        "95385     9401     IMA    980    IL   60629                       0      0   \n",
        "95386     8701     STR     28    CA   92870                    5101      0   \n",
        "95387     9401     HHH     28    GA   31904                    2801      0   \n",
        "95388     8801     DNA      0    AL   35023                       0      0   \n",
        "95389     9501     ARG      1    NM   87031                    4901      0   \n",
        "95390     9101     MCC      0    IL   62401                    2304      0   \n",
        "95391     8901     IMP      0    SC   29483        B           4802      0   \n",
        "95392     9501     MBC      1    CO   80480                       0      0   \n",
        "95393     9201     SSS      1    NC   27534                    2812      0   \n",
        "95394     9101     CNT      1    FL   32776                    2508      0   \n",
        "95395     8601     LIS      1    MO   65668                    2909      0   \n",
        "95396     9101     PBL      0    CA   94305                    1401      0   \n",
        "95397     8601     MBC      2    CO   80003                 P     0      0   \n",
        "95398     8601     STR      0    WI   53223                    1110      0   \n",
        "95399     8601     ROA      0    GA   30736                    5410      0   \n",
        "95400     8801     DNA      2    FL   33157                    1201      0   \n",
        "95401     9401     HHH     28    LA   70806                    2801      0   \n",
        "95402     9501     HOS      0    AL   35653                       0      0   \n",
        "95403     9001     LHJ      0    MN   55932                    4001      0   \n",
        "95404     9401     L02      2    KY  41701-                    4506      0   \n",
        "95405     9201     HHH     28    CA   92581                       0      0   \n",
        "95406     9001     LHJ      0    FL  32776-                    4803      0   \n",
        "95407     9601     ASE      1    AK   99504                       0      0   \n",
        "95408     9601     DCD      1    TX   77379                    5001      0   \n",
        "95409     9501     MBC      1    MI   48910                    3801      0   \n",
        "95410     8601     PRV      0    CA   91320                    4005      0   \n",
        "95411     8801     MCC      2    NC   28409                    1801      0   \n",
        "\n",
        "      RECINHSE   ...    RFA_2A MDMAUD_R MDMAUD_F MDMAUD_A CLUSTER2  \\\n",
        "0                ...         E        X        X        X       39   \n",
        "1                ...         G        X        X        X        1   \n",
        "2                ...         E        X        X        X       60   \n",
        "3                ...         E        X        X        X       41   \n",
        "4            X   ...         F        X        X        X       26   \n",
        "5                ...         F        X        X        X       16   \n",
        "6                ...         E        X        X        X       53   \n",
        "7                ...         E        X        X        X       38   \n",
        "8                ...         F        X        X        X       57   \n",
        "9                ...         F        X        X        X       34   \n",
        "10               ...         F        X        X        X       62   \n",
        "11               ...         F        X        X        X       23   \n",
        "12               ...         D        X        X        X       57   \n",
        "13           X   ...         G        X        X        X       38   \n",
        "14               ...         F        X        X        X       37   \n",
        "15               ...         F        X        X        X        7   \n",
        "16               ...         F        X        X        X       27   \n",
        "17               ...         G        X        X        X       56   \n",
        "18               ...         F        X        X        X       25   \n",
        "19               ...         F        X        X        X       61   \n",
        "20               ...         D        X        X        X        3   \n",
        "21               ...         G        X        X        X       44   \n",
        "22               ...         G        X        X        X       37   \n",
        "23               ...         E        X        X        X       17   \n",
        "24               ...         E        X        X        X        5   \n",
        "25               ...         F        X        X        X       42   \n",
        "26               ...         G        X        X        X        2   \n",
        "27               ...         E        X        X        X       16   \n",
        "28               ...         E        X        X        X       15   \n",
        "29               ...         E        X        X        X       52   \n",
        "...        ...   ...       ...      ...      ...      ...      ...   \n",
        "95382            ...         E        X        X        X       20   \n",
        "95383            ...         E        X        X        X       54   \n",
        "95384            ...         F        X        X        X       15   \n",
        "95385            ...         F        X        X        X       28   \n",
        "95386            ...         G        X        X        X        5   \n",
        "95387            ...         D        X        X        X       35   \n",
        "95388            ...         F        X        X        X       23   \n",
        "95389            ...         F        X        X        X       58   \n",
        "95390            ...         F        X        X        X       55   \n",
        "95391            ...         G        X        X        X       37   \n",
        "95392            ...         G        X        X        X       57   \n",
        "95393            ...         F        X        X        X       35   \n",
        "95394            ...         F        X        X        X       42   \n",
        "95395            ...         F        X        X        X       62   \n",
        "95396        X   ...         G        L        2        C        2   \n",
        "95397            ...         G        X        X        X       27   \n",
        "95398            ...         G        X        X        X        3   \n",
        "95399            ...         G        X        X        X       38   \n",
        "95400            ...         F        X        X        X        4   \n",
        "95401            ...         F        X        X        X       32   \n",
        "95402            ...         E        X        X        X       53   \n",
        "95403            ...         F        X        X        X       56   \n",
        "95404            ...         E        X        X        X       53   \n",
        "95405            ...         G        X        X        X       35   \n",
        "95406            ...         D        X        X        X       43   \n",
        "95407            ...         G        X        X        X       12   \n",
        "95408            ...         F        X        X        X        2   \n",
        "95409            ...         E        X        X        X       34   \n",
        "95410        X   ...         F        X        X        X       11   \n",
        "95411        X   ...         G        C        1        C       12   \n",
        "\n",
        "      Field_sourceCol_GEOCODE2_value_A  Field_sourceCol_GEOCODE2_value_B  \\\n",
        "0                                    0                                 0   \n",
        "1                                    1                                 0   \n",
        "2                                    0                                 0   \n",
        "3                                    0                                 0   \n",
        "4                                    1                                 0   \n",
        "5                                    0                                 0   \n",
        "6                                    0                                 0   \n",
        "7                                    0                                 0   \n",
        "8                                    0                                 0   \n",
        "9                                    0                                 1   \n",
        "10                                   0                                 0   \n",
        "11                                   0                                 1   \n",
        "12                                   0                                 0   \n",
        "13                                   0                                 1   \n",
        "14                                   0                                 0   \n",
        "15                                   1                                 0   \n",
        "16                                   1                                 0   \n",
        "17                                   0                                 0   \n",
        "18                                   0                                 1   \n",
        "19                                   0                                 0   \n",
        "20                                   1                                 0   \n",
        "21                                   0                                 0   \n",
        "22                                   0                                 0   \n",
        "23                                   1                                 0   \n",
        "24                                   1                                 0   \n",
        "25                                   0                                 1   \n",
        "26                                   1                                 0   \n",
        "27                                   0                                 0   \n",
        "28                                   1                                 0   \n",
        "29                                   1                                 0   \n",
        "...                                ...                               ...   \n",
        "95382                                0                                 1   \n",
        "95383                                0                                 0   \n",
        "95384                                0                                 1   \n",
        "95385                                1                                 0   \n",
        "95386                                1                                 0   \n",
        "95387                                0                                 1   \n",
        "95388                                0                                 1   \n",
        "95389                                0                                 0   \n",
        "95390                                0                                 0   \n",
        "95391                                0                                 1   \n",
        "95392                                0                                 0   \n",
        "95393                                0                                 0   \n",
        "95394                                0                                 0   \n",
        "95395                                0                                 0   \n",
        "95396                                1                                 0   \n",
        "95397                                0                                 1   \n",
        "95398                                0                                 1   \n",
        "95399                                0                                 1   \n",
        "95400                                1                                 0   \n",
        "95401                                0                                 1   \n",
        "95402                                0                                 0   \n",
        "95403                                0                                 0   \n",
        "95404                                0                                 0   \n",
        "95405                                1                                 0   \n",
        "95406                                0                                 0   \n",
        "95407                                0                                 0   \n",
        "95408                                1                                 0   \n",
        "95409                                0                                 1   \n",
        "95410                                1                                 0   \n",
        "95411                                0                                 0   \n",
        "\n",
        "      Field_sourceCol_GEOCODE2_value_D Field_sourceCol_GEOCODE2_value_C  \\\n",
        "0                                    0                                1   \n",
        "1                                    0                                0   \n",
        "2                                    0                                1   \n",
        "3                                    0                                1   \n",
        "4                                    0                                0   \n",
        "5                                    0                                1   \n",
        "6                                    1                                0   \n",
        "7                                    0                                1   \n",
        "8                                    1                                0   \n",
        "9                                    0                                0   \n",
        "10                                   1                                0   \n",
        "11                                   0                                0   \n",
        "12                                   1                                0   \n",
        "13                                   0                                0   \n",
        "14                                   1                                0   \n",
        "15                                   0                                0   \n",
        "16                                   0                                0   \n",
        "17                                   0                                1   \n",
        "18                                   0                                0   \n",
        "19                                   0                                1   \n",
        "20                                   0                                0   \n",
        "21                                   0                                1   \n",
        "22                                   0                                1   \n",
        "23                                   0                                0   \n",
        "24                                   0                                0   \n",
        "25                                   0                                0   \n",
        "26                                   0                                0   \n",
        "27                                   1                                0   \n",
        "28                                   0                                0   \n",
        "29                                   0                                0   \n",
        "...                                ...                              ...   \n",
        "95382                                0                                0   \n",
        "95383                                1                                0   \n",
        "95384                                0                                0   \n",
        "95385                                0                                0   \n",
        "95386                                0                                0   \n",
        "95387                                0                                0   \n",
        "95388                                0                                0   \n",
        "95389                                1                                0   \n",
        "95390                                1                                0   \n",
        "95391                                0                                0   \n",
        "95392                                1                                0   \n",
        "95393                                0                                1   \n",
        "95394                                0                                1   \n",
        "95395                                1                                0   \n",
        "95396                                0                                0   \n",
        "95397                                0                                0   \n",
        "95398                                0                                0   \n",
        "95399                                0                                0   \n",
        "95400                                0                                0   \n",
        "95401                                0                                0   \n",
        "95402                                1                                0   \n",
        "95403                                1                                0   \n",
        "95404                                1                                0   \n",
        "95405                                0                                0   \n",
        "95406                                0                                1   \n",
        "95407                                0                                1   \n",
        "95408                                0                                0   \n",
        "95409                                0                                0   \n",
        "95410                                0                                0   \n",
        "95411                                0                                1   \n",
        "\n",
        "      Field_sourceCol_GEOCODE2_value_   \n",
        "0                                    0  \n",
        "1                                    0  \n",
        "2                                    0  \n",
        "3                                    0  \n",
        "4                                    0  \n",
        "5                                    0  \n",
        "6                                    0  \n",
        "7                                    0  \n",
        "8                                    0  \n",
        "9                                    0  \n",
        "10                                   0  \n",
        "11                                   0  \n",
        "12                                   0  \n",
        "13                                   0  \n",
        "14                                   0  \n",
        "15                                   0  \n",
        "16                                   0  \n",
        "17                                   0  \n",
        "18                                   0  \n",
        "19                                   0  \n",
        "20                                   0  \n",
        "21                                   0  \n",
        "22                                   0  \n",
        "23                                   0  \n",
        "24                                   0  \n",
        "25                                   0  \n",
        "26                                   0  \n",
        "27                                   0  \n",
        "28                                   0  \n",
        "29                                   0  \n",
        "...                                ...  \n",
        "95382                                0  \n",
        "95383                                0  \n",
        "95384                                0  \n",
        "95385                                0  \n",
        "95386                                0  \n",
        "95387                                0  \n",
        "95388                                0  \n",
        "95389                                0  \n",
        "95390                                0  \n",
        "95391                                0  \n",
        "95392                                0  \n",
        "95393                                0  \n",
        "95394                                0  \n",
        "95395                                0  \n",
        "95396                                0  \n",
        "95397                                0  \n",
        "95398                                0  \n",
        "95399                                0  \n",
        "95400                                0  \n",
        "95401                                0  \n",
        "95402                                0  \n",
        "95403                                0  \n",
        "95404                                0  \n",
        "95405                                0  \n",
        "95406                                0  \n",
        "95407                                0  \n",
        "95408                                0  \n",
        "95409                                0  \n",
        "95410                                0  \n",
        "95411                                0  \n",
        "\n",
        "[95412 rows x 483 columns]\n"
       ]
      }
     ],
     "prompt_number": 8
    },
    {
     "cell_type": "code",
     "collapsed": false,
     "input": [
      "#2 Risk table\n",
      "import logging\n",
      "\n",
      "# create logger\n",
      "log = logging.getLogger('risk_table_logger')\n",
      "log.setLevel(logging.DEBUG)\n",
      "\n",
      "def risk_table(df, index):\n",
      "    log.info(\"Applying Risk Table method to column {}\".format(index))\n",
      "    #\n",
      "    p_idx= \"TARGET_B\"\n",
      "    s= df[index]\n",
      "    ys= learn_y[p_idx]\n",
      "    m_dict= dict(s.value_counts().iteritems())\n",
      "    \n",
      "    # concat creates a copy, so no explicit call necessary\n",
      "    new_df= pd.concat([df, ys], axis=1)\n",
      "    new_s= new_df[index]\n",
      "    new_ys= new_df[p_idx]\n",
      "    n= s.size\n",
      "    \n",
      "    # aggregate positive indicators for each value\n",
      "    p_count_dict= {}\n",
      "    for i in xrange(n):\n",
      "        n_value= new_s[i]\n",
      "        p_ind= new_ys[i]\n",
      "        if n_value not in p_count_dict:\n",
      "            p_count_dict[n_value]= 0\n",
      "        if p_ind:\n",
      "            p_count_dict[n_value]+=1\n",
      "\n",
      "    # calculate new_value for each value using value counts and p_count_dict\n",
      "    new_value_dict= {}\n",
      "    for k,v in m_dict.iteritems():\n",
      "        r_pos= float(p_count_dict[k])\n",
      "        v_total= float(v)\n",
      "        new_value= round((r_pos / v_total), 6)\n",
      "        new_value_dict[k]= new_value\n",
      "\n",
      "    # set new_value in series for each particular value\n",
      "    for i in xrange(n):\n",
      "        old_value= new_s[i]\n",
      "        new_value= new_value_dict[old_value]\n",
      "        new_s[i]= new_value\n",
      "    \n",
      "    del new_df[p_idx]\n",
      "    return new_df\n",
      "\n",
      "#c_index= \"GENDER\"\n",
      "c_index= \"ZIP\"\n",
      "new_df= risk_table(learn_x, c_index)\n",
      "log.info(new_df[c_index])"
     ],
     "language": "python",
     "metadata": {},
     "outputs": [
      {
       "output_type": "stream",
       "stream": "stderr",
       "text": [
        "INFO:risk_table_logger:Applying Risk Table method to column ZIP\n"
       ]
      },
      {
       "output_type": "stream",
       "stream": "stderr",
       "text": [
        "INFO:risk_table_logger:0            0\n",
        "1     0.190476\n",
        "2            0\n",
        "3            0\n",
        "4     0.032258\n",
        "5            0\n",
        "6            0\n",
        "7            0\n",
        "8            0\n",
        "9            0\n",
        "10           0\n",
        "11           0\n",
        "12           0\n",
        "13    0.076923\n",
        "14         0.4\n",
        "...\n",
        "95397           0\n",
        "95398    0.095238\n",
        "95399           0\n",
        "95400    0.033333\n",
        "95401           0\n",
        "95402           0\n",
        "95403           1\n",
        "95404           0\n",
        "95405           0\n",
        "95406           0\n",
        "95407           0\n",
        "95408           0\n",
        "95409           0\n",
        "95410      0.0625\n",
        "95411    0.133333\n",
        "Name: ZIP, Length: 95412, dtype: object\n"
       ]
      }
     ],
     "prompt_number": 9
    },
    {
     "cell_type": "code",
     "collapsed": false,
     "input": [
      "#3 Regex contains\n",
      "import logging\n",
      "\n",
      "# create logger\n",
      "log = logging.getLogger('reg_ex_logger')\n",
      "log.setLevel(logging.DEBUG)\n",
      "\n",
      "def regex_contains(df, index, patterns):\n",
      "    log.info(\"\\nApplying regex contains method to column {}\".format(index))\n",
      "    #\n",
      "    s= df[index]\n",
      "    new_df= df.copy()\n",
      "    #\n",
      "    s_value_counts= s.value_counts()\n",
      "    i= 1\n",
      "    for pattern in patterns:\n",
      "        m_mask= (s.str.contains(pattern)).astype(float)\n",
      "        new_field= \"Field_sourceCol_{}_Re_{}\".format(index, i)\n",
      "        new_df[new_field]= m_mask\n",
      "        i+=1\n",
      "    del new_df[index]\n",
      "    \n",
      "    return new_df\n",
      "\n",
      "\n",
      "c_index= \"RFA_2\"\n",
      "patterns= [\"^L1\", \"^L2\"]\n",
      "new_df= regex_contains(learn_x, c_index, patterns)\n",
      "log.info(new_df)\n",
      "\n",
      "log.info(\"Original series from learn_x\")\n",
      "log.info(learn_x[c_index])"
     ],
     "language": "python",
     "metadata": {},
     "outputs": [
      {
       "output_type": "stream",
       "stream": "stderr",
       "text": [
        "INFO:reg_ex_logger:\n",
        "Applying regex contains method to column RFA_2\n"
       ]
      },
      {
       "output_type": "stream",
       "stream": "stderr",
       "text": [
        "INFO:reg_ex_logger:       ODATEDW OSOURCE  TCODE STATE     ZIP MAILCODE PVASTATE   DOB NOEXCH  \\\n",
        "0         8901     GRI      0    IL   61081                    3712      0   \n",
        "1         9401     BOA      1    CA   91326                    5202      0   \n",
        "2         9001     AMH      1    NC   27017                       0      0   \n",
        "3         8701     BRY      0    CA   95953                    2801      0   \n",
        "4         8601              0    FL   33176                    2001      0   \n",
        "5         9401     CWR      0    AL   35603                       0      0   \n",
        "6         8701     DRK      0    IN   46755                    6001      0   \n",
        "7         9401     NWN      0    LA   70611                       0      0   \n",
        "8         8801     LIS      1    IA   51033                       0      0   \n",
        "9         9401     MSD      1    TN  37127-                    3211      0   \n",
        "10        9601     AGR      0    KS   67335                       0      0   \n",
        "11        9601     CSM      1    IN   46220                    2301      0   \n",
        "12        8901     ENQ      0    MN   56475                    2603      0   \n",
        "13        9201     HCC      1    LA   70791                       0      0   \n",
        "14        9301     USB      1    UT   84720                    2709      0   \n",
        "15        9401     FRC      1    CA   90056                       0      0   \n",
        "16        9401     RKB      0    MI   48067                    5401      0   \n",
        "17        8801     PCH      2    IL   62376                    5201      0   \n",
        "18        8601     AMB     28    FL   32810        B           3601      0   \n",
        "19        9501     L15      1    NC   27850                       0      0   \n",
        "20        8701     BBK      2    MN   55125                    3601      0   \n",
        "21        9601     L21      1    MI   49247                    1601      0   \n",
        "22        9401     SYN      0    FL   33983                       0      0   \n",
        "23        9301     L01      2    IL   60042                    2311      0   \n",
        "24        9501     MOP      0    MN   55044                    5201      0   \n",
        "25        9101     UCA      0    CA  93527-                    4307      0   \n",
        "26        9601     ESN      0    IL   60091                    5601      0   \n",
        "27        9201     L01      1    MO   64468                    1401      0   \n",
        "28        9101     IMP      0    TX   77381                    4809      0   \n",
        "29        9101     AVN      0    IL   62249                    6001      0   \n",
        "...        ...     ...    ...   ...     ...      ...      ...   ...    ...   \n",
        "95382     9501     MBC      1    KY   40299                    5601      0   \n",
        "95383     9101     HAN      2    SC   29108                       0      0   \n",
        "95384     9601     ADD      0    TX   78418                       0      0   \n",
        "95385     9401     IMA    980    IL   60629                       0      0   \n",
        "95386     8701     STR     28    CA   92870                    5101      0   \n",
        "95387     9401     HHH     28    GA   31904                    2801      0   \n",
        "95388     8801     DNA      0    AL   35023                       0      0   \n",
        "95389     9501     ARG      1    NM   87031                    4901      0   \n",
        "95390     9101     MCC      0    IL   62401                    2304      0   \n",
        "95391     8901     IMP      0    SC   29483        B           4802      0   \n",
        "95392     9501     MBC      1    CO   80480                       0      0   \n",
        "95393     9201     SSS      1    NC   27534                    2812      0   \n",
        "95394     9101     CNT      1    FL   32776                    2508      0   \n",
        "95395     8601     LIS      1    MO   65668                    2909      0   \n",
        "95396     9101     PBL      0    CA   94305                    1401      0   \n",
        "95397     8601     MBC      2    CO   80003                 P     0      0   \n",
        "95398     8601     STR      0    WI   53223                    1110      0   \n",
        "95399     8601     ROA      0    GA   30736                    5410      0   \n",
        "95400     8801     DNA      2    FL   33157                    1201      0   \n",
        "95401     9401     HHH     28    LA   70806                    2801      0   \n",
        "95402     9501     HOS      0    AL   35653                       0      0   \n",
        "95403     9001     LHJ      0    MN   55932                    4001      0   \n",
        "95404     9401     L02      2    KY  41701-                    4506      0   \n",
        "95405     9201     HHH     28    CA   92581                       0      0   \n",
        "95406     9001     LHJ      0    FL  32776-                    4803      0   \n",
        "95407     9601     ASE      1    AK   99504                       0      0   \n",
        "95408     9601     DCD      1    TX   77379                    5001      0   \n",
        "95409     9501     MBC      1    MI   48910                    3801      0   \n",
        "95410     8601     PRV      0    CA   91320                    4005      0   \n",
        "95411     8801     MCC      2    NC   28409                    1801      0   \n",
        "\n",
        "      RECINHSE   ...    RFA_2R RFA_2F RFA_2A MDMAUD_R MDMAUD_F MDMAUD_A  \\\n",
        "0                ...         L      4      E        X        X        X   \n",
        "1                ...         L      2      G        X        X        X   \n",
        "2                ...         L      4      E        X        X        X   \n",
        "3                ...         L      4      E        X        X        X   \n",
        "4            X   ...         L      2      F        X        X        X   \n",
        "5                ...         L      1      F        X        X        X   \n",
        "6                ...         L      1      E        X        X        X   \n",
        "7                ...         L      3      E        X        X        X   \n",
        "8                ...         L      1      F        X        X        X   \n",
        "9                ...         L      1      F        X        X        X   \n",
        "10               ...         L      1      F        X        X        X   \n",
        "11               ...         L      2      F        X        X        X   \n",
        "12               ...         L      4      D        X        X        X   \n",
        "13           X   ...         L      1      G        X        X        X   \n",
        "14               ...         L      1      F        X        X        X   \n",
        "15               ...         L      1      F        X        X        X   \n",
        "16               ...         L      2      F        X        X        X   \n",
        "17               ...         L      1      G        X        X        X   \n",
        "18               ...         L      1      F        X        X        X   \n",
        "19               ...         L      1      F        X        X        X   \n",
        "20               ...         L      3      D        X        X        X   \n",
        "21               ...         L      1      G        X        X        X   \n",
        "22               ...         L      1      G        X        X        X   \n",
        "23               ...         L      2      E        X        X        X   \n",
        "24               ...         L      3      E        X        X        X   \n",
        "25               ...         L      2      F        X        X        X   \n",
        "26               ...         L      1      G        X        X        X   \n",
        "27               ...         L      3      E        X        X        X   \n",
        "28               ...         L      2      E        X        X        X   \n",
        "29               ...         L      3      E        X        X        X   \n",
        "...        ...   ...       ...    ...    ...      ...      ...      ...   \n",
        "95382            ...         L      3      E        X        X        X   \n",
        "95383            ...         L      3      E        X        X        X   \n",
        "95384            ...         L      1      F        X        X        X   \n",
        "95385            ...         L      1      F        X        X        X   \n",
        "95386            ...         L      1      G        X        X        X   \n",
        "95387            ...         L      4      D        X        X        X   \n",
        "95388            ...         L      1      F        X        X        X   \n",
        "95389            ...         L      1      F        X        X        X   \n",
        "95390            ...         L      1      F        X        X        X   \n",
        "95391            ...         L      2      G        X        X        X   \n",
        "95392            ...         L      1      G        X        X        X   \n",
        "95393            ...         L      3      F        X        X        X   \n",
        "95394            ...         L      1      F        X        X        X   \n",
        "95395            ...         L      1      F        X        X        X   \n",
        "95396        X   ...         L      3      G        L        2        C   \n",
        "95397            ...         L      2      G        X        X        X   \n",
        "95398            ...         L      3      G        X        X        X   \n",
        "95399            ...         L      3      G        X        X        X   \n",
        "95400            ...         L      1      F        X        X        X   \n",
        "95401            ...         L      1      F        X        X        X   \n",
        "95402            ...         L      3      E        X        X        X   \n",
        "95403            ...         L      1      F        X        X        X   \n",
        "95404            ...         L      4      E        X        X        X   \n",
        "95405            ...         L      1      G        X        X        X   \n",
        "95406            ...         L      4      D        X        X        X   \n",
        "95407            ...         L      1      G        X        X        X   \n",
        "95408            ...         L      1      F        X        X        X   \n",
        "95409            ...         L      3      E        X        X        X   \n",
        "95410        X   ...         L      4      F        X        X        X   \n",
        "95411        X   ...         L      1      G        C        1        C   \n",
        "\n",
        "       CLUSTER2 GEOCODE2 Field_sourceCol_RFA_2_Re_1 Field_sourceCol_RFA_2_Re_2  \n",
        "0            39        C                          0                          0  \n",
        "1             1        A                          0                          1  \n",
        "2            60        C                          0                          0  \n",
        "3            41        C                          0                          0  \n",
        "4            26        A                          0                          1  \n",
        "5            16        C                          1                          0  \n",
        "6            53        D                          1                          0  \n",
        "7            38        C                          0                          0  \n",
        "8            57        D                          1                          0  \n",
        "9            34        B                          1                          0  \n",
        "10           62        D                          1                          0  \n",
        "11           23        B                          0                          1  \n",
        "12           57        D                          0                          0  \n",
        "13           38        B                          1                          0  \n",
        "14           37        D                          1                          0  \n",
        "15            7        A                          1                          0  \n",
        "16           27        A                          0                          1  \n",
        "17           56        C                          1                          0  \n",
        "18           25        B                          1                          0  \n",
        "19           61        C                          1                          0  \n",
        "20            3        A                          0                          0  \n",
        "21           44        C                          1                          0  \n",
        "22           37        C                          1                          0  \n",
        "23           17        A                          0                          1  \n",
        "24            5        A                          0                          0  \n",
        "25           42        B                          0                          1  \n",
        "26            2        A                          1                          0  \n",
        "27           16        D                          0                          0  \n",
        "28           15        A                          0                          1  \n",
        "29           52        A                          0                          0  \n",
        "...         ...      ...                        ...                        ...  \n",
        "95382        20        B                          0                          0  \n",
        "95383        54        D                          0                          0  \n",
        "95384        15        B                          1                          0  \n",
        "95385        28        A                          1                          0  \n",
        "95386         5        A                          1                          0  \n",
        "95387        35        B                          0                          0  \n",
        "95388        23        B                          1                          0  \n",
        "95389        58        D                          1                          0  \n",
        "95390        55        D                          1                          0  \n",
        "95391        37        B                          0                          1  \n",
        "95392        57        D                          1                          0  \n",
        "95393        35        C                          0                          0  \n",
        "95394        42        C                          1                          0  \n",
        "95395        62        D                          1                          0  \n",
        "95396         2        A                          0                          0  \n",
        "95397        27        B                          0                          1  \n",
        "95398         3        B                          0                          0  \n",
        "95399        38        B                          0                          0  \n",
        "95400         4        A                          1                          0  \n",
        "95401        32        B                          1                          0  \n",
        "95402        53        D                          0                          0  \n",
        "95403        56        D                          1                          0  \n",
        "95404        53        D                          0                          0  \n",
        "95405        35        A                          1                          0  \n",
        "95406        43        C                          0                          0  \n",
        "95407        12        C                          1                          0  \n",
        "95408         2        A                          1                          0  \n",
        "95409        34        B                          0                          0  \n",
        "95410        11        A                          0                          0  \n",
        "95411        12        C                          1                          0  \n",
        "\n",
        "[95412 rows x 480 columns]\n"
       ]
      },
      {
       "output_type": "stream",
       "stream": "stderr",
       "text": [
        "INFO:reg_ex_logger:Original series from learn_x\n"
       ]
      },
      {
       "output_type": "stream",
       "stream": "stderr",
       "text": [
        "INFO:reg_ex_logger:0     L4E\n",
        "1     L2G\n",
        "2     L4E\n",
        "3     L4E\n",
        "4     L2F\n",
        "5     L1F\n",
        "6     L1E\n",
        "7     L3E\n",
        "8     L1F\n",
        "9     L1F\n",
        "10    L1F\n",
        "11    L2F\n",
        "12    L4D\n",
        "13    L1G\n",
        "14    L1F\n",
        "...\n",
        "95397    L2G\n",
        "95398    L3G\n",
        "95399    L3G\n",
        "95400    L1F\n",
        "95401    L1F\n",
        "95402    L3E\n",
        "95403    L1F\n",
        "95404    L4E\n",
        "95405    L1G\n",
        "95406    L4D\n",
        "95407    L1G\n",
        "95408    L1F\n",
        "95409    L3E\n",
        "95410    L4F\n",
        "95411    L1G\n",
        "Name: RFA_2, Length: 95412, dtype: object\n"
       ]
      }
     ],
     "prompt_number": 10
    },
    {
     "cell_type": "code",
     "collapsed": false,
     "input": [
      "#4 Erase feature\n",
      "import logging\n",
      "\n",
      "# create logger\n",
      "log = logging.getLogger('erase_logger')\n",
      "log.setLevel(logging.DEBUG)\n",
      "\n",
      "def erase_feature(df, index):\n",
      "    log.info(\"Applying erase feature method to column {}\".format(index))\n",
      "    #\n",
      "    new_df= df.copy()\n",
      "    #\n",
      "    del new_df[index]\n",
      "    return new_df\n",
      "\n",
      "\n",
      "c_index= \"RFA_2\"\n",
      "new_df= erase_feature(learn_x, c_index)\n",
      "try:\n",
      "    log.info(new_df[c_index])\n",
      "except:\n",
      "    log.info(\"{} is not in data frame\".format(c_index))\n",
      "\n",
      "log.info(\"Original series from learn_x\")\n",
      "log.info(learn_x[c_index])"
     ],
     "language": "python",
     "metadata": {},
     "outputs": [
      {
       "output_type": "stream",
       "stream": "stderr",
       "text": [
        "INFO:erase_logger:Applying erase feature method to column RFA_2\n"
       ]
      },
      {
       "output_type": "stream",
       "stream": "stderr",
       "text": [
        "INFO:erase_logger:RFA_2 is not in data frame\n"
       ]
      },
      {
       "output_type": "stream",
       "stream": "stderr",
       "text": [
        "INFO:erase_logger:Original series from learn_x\n"
       ]
      },
      {
       "output_type": "stream",
       "stream": "stderr",
       "text": [
        "INFO:erase_logger:0     L4E\n",
        "1     L2G\n",
        "2     L4E\n",
        "3     L4E\n",
        "4     L2F\n",
        "5     L1F\n",
        "6     L1E\n",
        "7     L3E\n",
        "8     L1F\n",
        "9     L1F\n",
        "10    L1F\n",
        "11    L2F\n",
        "12    L4D\n",
        "13    L1G\n",
        "14    L1F\n",
        "...\n",
        "95397    L2G\n",
        "95398    L3G\n",
        "95399    L3G\n",
        "95400    L1F\n",
        "95401    L1F\n",
        "95402    L3E\n",
        "95403    L1F\n",
        "95404    L4E\n",
        "95405    L1G\n",
        "95406    L4D\n",
        "95407    L1G\n",
        "95408    L1F\n",
        "95409    L3E\n",
        "95410    L4F\n",
        "95411    L1G\n",
        "Name: RFA_2, Length: 95412, dtype: object\n"
       ]
      }
     ],
     "prompt_number": 11
    },
    {
     "cell_type": "code",
     "collapsed": false,
     "input": [
      "# After this, apply one of your featurizers for each of the 75 non numeric columns. \n",
      "# Since there are so many columns you should use the summary statisitics to choose hot 1, risk table, or erase \n",
      "# for most of them. Come up with a basic heuristic to choose one of them\n",
      "import logging\n",
      "\n",
      "# create logger\n",
      "log = logging.getLogger('main_logger')\n",
      "log.setLevel(logging.WARN)\n",
      "\n",
      "total_rows= int(learn_y.count()[0])\n",
      "log.warn( \"total_rows= {}\".format(total_rows))\n",
      "\n",
      "def execute_featurizer(df, r_column):\n",
      "    m_index= r_column[1]\n",
      "    m_value_counts= r_column[2]\n",
      "    m_missing_count= r_column[3]\n",
      "    m_distinct_values= len(m_value_counts)\n",
      "    #\n",
      "    log.warn(\"Processing column: {}\".format(m_index))\n",
      "    # determine featurizer to execute\n",
      "    #\n",
      "    # check for erase first\n",
      "    f_erase_threshold= 0.5\n",
      "    f_erase= round(float(m_missing_count) / float(total_rows), 5)\n",
      "    if f_erase >= f_erase_threshold:\n",
      "        log.warn(\"Percentage of missing values {} is greater than threshold: {}. Executing erase featurizer.\".format(f_erase, f_erase_threshold))\n",
      "        return erase_feature(df, m_index)\n",
      "    \n",
      "    # check for regular expression\n",
      "    m_desired_regex= [(\"RFA_2\", \"^L1|^L2\"),(\"RFA_3\", \"^A1|^A2\")]\n",
      "    for m_tuple in m_desired_regex:\n",
      "        d_index= m_tuple[0]\n",
      "        if d_index == m_index:\n",
      "            d_regex= m_tuple[1]\n",
      "            log.warn(\"Executing regex contains featurizer using regular expression {}\".format(d_regex))\n",
      "            patterns= [d_regex]\n",
      "            return regex_contains(df, m_index, patterns)\n",
      "    \n",
      "    # check for hot1 encoding else risk table\n",
      "    m_unique_values_threshold= 10\n",
      "    if (m_distinct_values <= m_unique_values_threshold):\n",
      "        log.warn(\"Found {} unique values, which is less than threshold {}; executing hot1 encoding featurizer.\".format(m_distinct_values, m_unique_values_threshold))\n",
      "        return hot1_encoding(df, m_index)\n",
      "    else:\n",
      "        log.warn(\"Found {} unique values, which is greater than threshold {}; executing risk table featurizer.\".format(m_distinct_values, m_unique_values_threshold))\n",
      "        return risk_table(df, m_index)\n",
      "    \n",
      "    return df\n",
      "\n",
      "def select_featurizer(df, index):    \n",
      "    r_column= summarize_column(df, index)\n",
      "    is_text= not r_column[0]\n",
      "    if is_text:\n",
      "        return (1, execute_featurizer(df, r_column))\n",
      "    return (0, df)\n",
      "\n",
      "m_df= learn_x\n",
      "# m_df= select_featurizer(m_df, \"GENDER\")\n",
      "i= 0\n",
      "for c in m_df.columns:\n",
      "    m_result= select_featurizer(m_df, c)\n",
      "    i+= m_result[0]\n",
      "    m_df= m_result[1]\n",
      "\n",
      "log.warn(\"Performed {} featurizers\".format(i))\n",
      "\n",
      "m_df.info()"
     ],
     "language": "python",
     "metadata": {},
     "outputs": [
      {
       "output_type": "stream",
       "stream": "stderr",
       "text": [
        "WARNING:main_logger:total_rows= 95412\n"
       ]
      },
      {
       "output_type": "stream",
       "stream": "stderr",
       "text": [
        "WARNING:main_logger:Processing column: OSOURCE\n"
       ]
      },
      {
       "output_type": "stream",
       "stream": "stderr",
       "text": [
        "WARNING:main_logger:Found 896 unique values, which is greater than threshold 10; executing risk table featurizer.\n"
       ]
      },
      {
       "output_type": "stream",
       "stream": "stderr",
       "text": [
        "WARNING:main_logger:Processing column: STATE\n"
       ]
      },
      {
       "output_type": "stream",
       "stream": "stderr",
       "text": [
        "WARNING:main_logger:Found 57 unique values, which is greater than threshold 10; executing risk table featurizer.\n"
       ]
      },
      {
       "output_type": "stream",
       "stream": "stderr",
       "text": [
        "WARNING:main_logger:Processing column: ZIP\n"
       ]
      },
      {
       "output_type": "stream",
       "stream": "stderr",
       "text": [
        "WARNING:main_logger:Found 19938 unique values, which is greater than threshold 10; executing risk table featurizer.\n"
       ]
      },
      {
       "output_type": "stream",
       "stream": "stderr",
       "text": [
        "WARNING:main_logger:Processing column: MAILCODE\n"
       ]
      },
      {
       "output_type": "stream",
       "stream": "stderr",
       "text": [
        "WARNING:main_logger:Percentage of missing values 0.98534 is greater than threshold: 0.5. Executing erase featurizer.\n"
       ]
      },
      {
       "output_type": "stream",
       "stream": "stderr",
       "text": [
        "WARNING:main_logger:Processing column: PVASTATE\n"
       ]
      },
      {
       "output_type": "stream",
       "stream": "stderr",
       "text": [
        "WARNING:main_logger:Percentage of missing values 0.98472 is greater than threshold: 0.5. Executing erase featurizer.\n"
       ]
      },
      {
       "output_type": "stream",
       "stream": "stderr",
       "text": [
        "WARNING:main_logger:Processing column: NOEXCH\n"
       ]
      },
      {
       "output_type": "stream",
       "stream": "stderr",
       "text": [
        "WARNING:main_logger:Found 4 unique values, which is less than threshold 10; executing hot1 encoding featurizer.\n"
       ]
      },
      {
       "output_type": "stream",
       "stream": "stderr",
       "text": [
        "WARNING:main_logger:Processing column: RECINHSE\n"
       ]
      },
      {
       "output_type": "stream",
       "stream": "stderr",
       "text": [
        "WARNING:main_logger:Percentage of missing values 0.92975 is greater than threshold: 0.5. Executing erase featurizer.\n"
       ]
      },
      {
       "output_type": "stream",
       "stream": "stderr",
       "text": [
        "WARNING:main_logger:Processing column: RECP3\n"
       ]
      },
      {
       "output_type": "stream",
       "stream": "stderr",
       "text": [
        "WARNING:main_logger:Percentage of missing values 0.97886 is greater than threshold: 0.5. Executing erase featurizer.\n"
       ]
      },
      {
       "output_type": "stream",
       "stream": "stderr",
       "text": [
        "WARNING:main_logger:Processing column: RECPGVG\n"
       ]
      },
      {
       "output_type": "stream",
       "stream": "stderr",
       "text": [
        "WARNING:main_logger:Percentage of missing values 0.99881 is greater than threshold: 0.5. Executing erase featurizer.\n"
       ]
      },
      {
       "output_type": "stream",
       "stream": "stderr",
       "text": [
        "WARNING:main_logger:Processing column: RECSWEEP\n"
       ]
      },
      {
       "output_type": "stream",
       "stream": "stderr",
       "text": [
        "WARNING:main_logger:Percentage of missing values 0.98305 is greater than threshold: 0.5. Executing erase featurizer.\n"
       ]
      },
      {
       "output_type": "stream",
       "stream": "stderr",
       "text": [
        "WARNING:main_logger:Processing column: MDMAUD\n"
       ]
      },
      {
       "output_type": "stream",
       "stream": "stderr",
       "text": [
        "WARNING:main_logger:Found 28 unique values, which is greater than threshold 10; executing risk table featurizer.\n"
       ]
      },
      {
       "output_type": "stream",
       "stream": "stderr",
       "text": [
        "WARNING:main_logger:Processing column: DOMAIN\n"
       ]
      },
      {
       "output_type": "stream",
       "stream": "stderr",
       "text": [
        "WARNING:main_logger:Found 17 unique values, which is greater than threshold 10; executing risk table featurizer.\n"
       ]
      },
      {
       "output_type": "stream",
       "stream": "stderr",
       "text": [
        "WARNING:main_logger:Processing column: CLUSTER\n"
       ]
      },
      {
       "output_type": "stream",
       "stream": "stderr",
       "text": [
        "WARNING:main_logger:Found 54 unique values, which is greater than threshold 10; executing risk table featurizer.\n"
       ]
      },
      {
       "output_type": "stream",
       "stream": "stderr",
       "text": [
        "WARNING:main_logger:Processing column: AGEFLAG\n"
       ]
      },
      {
       "output_type": "stream",
       "stream": "stderr",
       "text": [
        "WARNING:main_logger:Found 3 unique values, which is less than threshold 10; executing hot1 encoding featurizer.\n"
       ]
      },
      {
       "output_type": "stream",
       "stream": "stderr",
       "text": [
        "WARNING:main_logger:Processing column: HOMEOWNR\n"
       ]
      },
      {
       "output_type": "stream",
       "stream": "stderr",
       "text": [
        "WARNING:main_logger:Found 3 unique values, which is less than threshold 10; executing hot1 encoding featurizer.\n"
       ]
      },
      {
       "output_type": "stream",
       "stream": "stderr",
       "text": [
        "WARNING:main_logger:Processing column: CHILD03\n"
       ]
      },
      {
       "output_type": "stream",
       "stream": "stderr",
       "text": [
        "WARNING:main_logger:Percentage of missing values 0.98799 is greater than threshold: 0.5. Executing erase featurizer.\n"
       ]
      },
      {
       "output_type": "stream",
       "stream": "stderr",
       "text": [
        "WARNING:main_logger:Processing column: CHILD07\n"
       ]
      },
      {
       "output_type": "stream",
       "stream": "stderr",
       "text": [
        "WARNING:main_logger:Percentage of missing values 0.98359 is greater than threshold: 0.5. Executing erase featurizer.\n"
       ]
      },
      {
       "output_type": "stream",
       "stream": "stderr",
       "text": [
        "WARNING:main_logger:Processing column: CHILD12\n"
       ]
      },
      {
       "output_type": "stream",
       "stream": "stderr",
       "text": [
        "WARNING:main_logger:Percentage of missing values 0.98102 is greater than threshold: 0.5. Executing erase featurizer.\n"
       ]
      },
      {
       "output_type": "stream",
       "stream": "stderr",
       "text": [
        "WARNING:main_logger:Processing column: CHILD18\n"
       ]
      },
      {
       "output_type": "stream",
       "stream": "stderr",
       "text": [
        "WARNING:main_logger:Percentage of missing values 0.97016 is greater than threshold: 0.5. Executing erase featurizer.\n"
       ]
      },
      {
       "output_type": "stream",
       "stream": "stderr",
       "text": [
        "WARNING:main_logger:Processing column: GENDER\n"
       ]
      },
      {
       "output_type": "stream",
       "stream": "stderr",
       "text": [
        "WARNING:main_logger:Found 7 unique values, which is less than threshold 10; executing hot1 encoding featurizer.\n"
       ]
      },
      {
       "output_type": "stream",
       "stream": "stderr",
       "text": [
        "WARNING:main_logger:Processing column: DATASRCE\n"
       ]
      },
      {
       "output_type": "stream",
       "stream": "stderr",
       "text": [
        "WARNING:main_logger:Found 4 unique values, which is less than threshold 10; executing hot1 encoding featurizer.\n"
       ]
      },
      {
       "output_type": "stream",
       "stream": "stderr",
       "text": [
        "WARNING:main_logger:Processing column: SOLP3\n"
       ]
      },
      {
       "output_type": "stream",
       "stream": "stderr",
       "text": [
        "WARNING:main_logger:Percentage of missing values 0.99811 is greater than threshold: 0.5. Executing erase featurizer.\n"
       ]
      },
      {
       "output_type": "stream",
       "stream": "stderr",
       "text": [
        "WARNING:main_logger:Processing column: SOLIH\n"
       ]
      },
      {
       "output_type": "stream",
       "stream": "stderr",
       "text": [
        "WARNING:main_logger:Percentage of missing values 0.93502 is greater than threshold: 0.5. Executing erase featurizer.\n"
       ]
      },
      {
       "output_type": "stream",
       "stream": "stderr",
       "text": [
        "WARNING:main_logger:Processing column: MAJOR\n"
       ]
      },
      {
       "output_type": "stream",
       "stream": "stderr",
       "text": [
        "WARNING:main_logger:Percentage of missing values 0.99692 is greater than threshold: 0.5. Executing erase featurizer.\n"
       ]
      },
      {
       "output_type": "stream",
       "stream": "stderr",
       "text": [
        "WARNING:main_logger:Processing column: GEOCODE\n"
       ]
      },
      {
       "output_type": "stream",
       "stream": "stderr",
       "text": [
        "WARNING:main_logger:Percentage of missing values 0.84023 is greater than threshold: 0.5. Executing erase featurizer.\n"
       ]
      },
      {
       "output_type": "stream",
       "stream": "stderr",
       "text": [
        "WARNING:main_logger:Processing column: COLLECT1\n"
       ]
      },
      {
       "output_type": "stream",
       "stream": "stderr",
       "text": [
        "WARNING:main_logger:Percentage of missing values 0.94548 is greater than threshold: 0.5. Executing erase featurizer.\n"
       ]
      },
      {
       "output_type": "stream",
       "stream": "stderr",
       "text": [
        "WARNING:main_logger:Processing column: VETERANS\n"
       ]
      },
      {
       "output_type": "stream",
       "stream": "stderr",
       "text": [
        "WARNING:main_logger:Percentage of missing values 0.89073 is greater than threshold: 0.5. Executing erase featurizer.\n"
       ]
      },
      {
       "output_type": "stream",
       "stream": "stderr",
       "text": [
        "WARNING:main_logger:Processing column: BIBLE\n"
       ]
      },
      {
       "output_type": "stream",
       "stream": "stderr",
       "text": [
        "WARNING:main_logger:Percentage of missing values 0.90702 is greater than threshold: 0.5. Executing erase featurizer.\n"
       ]
      },
      {
       "output_type": "stream",
       "stream": "stderr",
       "text": [
        "WARNING:main_logger:Processing column: CATLG\n"
       ]
      },
      {
       "output_type": "stream",
       "stream": "stderr",
       "text": [
        "WARNING:main_logger:Percentage of missing values 0.91757 is greater than threshold: 0.5. Executing erase featurizer.\n"
       ]
      },
      {
       "output_type": "stream",
       "stream": "stderr",
       "text": [
        "WARNING:main_logger:Processing column: HOMEE\n"
       ]
      },
      {
       "output_type": "stream",
       "stream": "stderr",
       "text": [
        "WARNING:main_logger:Percentage of missing values 0.9907 is greater than threshold: 0.5. Executing erase featurizer.\n"
       ]
      },
      {
       "output_type": "stream",
       "stream": "stderr",
       "text": [
        "WARNING:main_logger:Processing column: PETS\n"
       ]
      },
      {
       "output_type": "stream",
       "stream": "stderr",
       "text": [
        "WARNING:main_logger:Percentage of missing values 0.84985 is greater than threshold: 0.5. Executing erase featurizer.\n"
       ]
      },
      {
       "output_type": "stream",
       "stream": "stderr",
       "text": [
        "WARNING:main_logger:Processing column: CDPLAY\n"
       ]
      },
      {
       "output_type": "stream",
       "stream": "stderr",
       "text": [
        "WARNING:main_logger:Percentage of missing values 0.87157 is greater than threshold: 0.5. Executing erase featurizer.\n"
       ]
      },
      {
       "output_type": "stream",
       "stream": "stderr",
       "text": [
        "WARNING:main_logger:Processing column: STEREO\n"
       ]
      },
      {
       "output_type": "stream",
       "stream": "stderr",
       "text": [
        "WARNING:main_logger:Percentage of missing values 0.86591 is greater than threshold: 0.5. Executing erase featurizer.\n"
       ]
      },
      {
       "output_type": "stream",
       "stream": "stderr",
       "text": [
        "WARNING:main_logger:Processing column: PCOWNERS\n"
       ]
      },
      {
       "output_type": "stream",
       "stream": "stderr",
       "text": [
        "WARNING:main_logger:Percentage of missing values 0.89015 is greater than threshold: 0.5. Executing erase featurizer.\n"
       ]
      },
      {
       "output_type": "stream",
       "stream": "stderr",
       "text": [
        "WARNING:main_logger:Processing column: PHOTO\n"
       ]
      },
      {
       "output_type": "stream",
       "stream": "stderr",
       "text": [
        "WARNING:main_logger:Percentage of missing values 0.94984 is greater than threshold: 0.5. Executing erase featurizer.\n"
       ]
      },
      {
       "output_type": "stream",
       "stream": "stderr",
       "text": [
        "WARNING:main_logger:Processing column: CRAFTS\n"
       ]
      },
      {
       "output_type": "stream",
       "stream": "stderr",
       "text": [
        "WARNING:main_logger:Percentage of missing values 0.91431 is greater than threshold: 0.5. Executing erase featurizer.\n"
       ]
      },
      {
       "output_type": "stream",
       "stream": "stderr",
       "text": [
        "WARNING:main_logger:Processing column: FISHER\n"
       ]
      },
      {
       "output_type": "stream",
       "stream": "stderr",
       "text": [
        "WARNING:main_logger:Percentage of missing values 0.92527 is greater than threshold: 0.5. Executing erase featurizer.\n"
       ]
      },
      {
       "output_type": "stream",
       "stream": "stderr",
       "text": [
        "WARNING:main_logger:Processing column: GARDENIN\n"
       ]
      },
      {
       "output_type": "stream",
       "stream": "stderr",
       "text": [
        "WARNING:main_logger:Percentage of missing values 0.85954 is greater than threshold: 0.5. Executing erase featurizer.\n"
       ]
      },
      {
       "output_type": "stream",
       "stream": "stderr",
       "text": [
        "WARNING:main_logger:Processing column: BOATS\n"
       ]
      },
      {
       "output_type": "stream",
       "stream": "stderr",
       "text": [
        "WARNING:main_logger:Percentage of missing values 0.97874 is greater than threshold: 0.5. Executing erase featurizer.\n"
       ]
      },
      {
       "output_type": "stream",
       "stream": "stderr",
       "text": [
        "WARNING:main_logger:Processing column: WALKER\n"
       ]
      },
      {
       "output_type": "stream",
       "stream": "stderr",
       "text": [
        "WARNING:main_logger:Percentage of missing values 0.88994 is greater than threshold: 0.5. Executing erase featurizer.\n"
       ]
      },
      {
       "output_type": "stream",
       "stream": "stderr",
       "text": [
        "WARNING:main_logger:Processing column: KIDSTUFF\n"
       ]
      },
      {
       "output_type": "stream",
       "stream": "stderr",
       "text": [
        "WARNING:main_logger:Percentage of missing values 0.9839 is greater than threshold: 0.5. Executing erase featurizer.\n"
       ]
      },
      {
       "output_type": "stream",
       "stream": "stderr",
       "text": [
        "WARNING:main_logger:Processing column: CARDS\n"
       ]
      },
      {
       "output_type": "stream",
       "stream": "stderr",
       "text": [
        "WARNING:main_logger:Percentage of missing values 0.98909 is greater than threshold: 0.5. Executing erase featurizer.\n"
       ]
      },
      {
       "output_type": "stream",
       "stream": "stderr",
       "text": [
        "WARNING:main_logger:Processing column: PLATES\n"
       ]
      },
      {
       "output_type": "stream",
       "stream": "stderr",
       "text": [
        "WARNING:main_logger:Percentage of missing values 0.99413 is greater than threshold: 0.5. Executing erase featurizer.\n"
       ]
      },
      {
       "output_type": "stream",
       "stream": "stderr",
       "text": [
        "WARNING:main_logger:Processing column: LIFESRC\n"
       ]
      },
      {
       "output_type": "stream",
       "stream": "stderr",
       "text": [
        "WARNING:main_logger:Percentage of missing values 0.5663 is greater than threshold: 0.5. Executing erase featurizer.\n"
       ]
      },
      {
       "output_type": "stream",
       "stream": "stderr",
       "text": [
        "WARNING:main_logger:Processing column: PEPSTRFL\n"
       ]
      },
      {
       "output_type": "stream",
       "stream": "stderr",
       "text": [
        "WARNING:main_logger:Percentage of missing values 0.52554 is greater than threshold: 0.5. Executing erase featurizer.\n"
       ]
      },
      {
       "output_type": "stream",
       "stream": "stderr",
       "text": [
        "WARNING:main_logger:Processing column: RFA_2\n"
       ]
      },
      {
       "output_type": "stream",
       "stream": "stderr",
       "text": [
        "WARNING:main_logger:Executing regex contains featurizer using regular expression ^L1|^L2\n"
       ]
      },
      {
       "output_type": "stream",
       "stream": "stderr",
       "text": [
        "WARNING:main_logger:Processing column: RFA_3\n"
       ]
      },
      {
       "output_type": "stream",
       "stream": "stderr",
       "text": [
        "WARNING:main_logger:Executing regex contains featurizer using regular expression ^A1|^A2\n"
       ]
      },
      {
       "output_type": "stream",
       "stream": "stderr",
       "text": [
        "WARNING:main_logger:Processing column: RFA_4\n"
       ]
      },
      {
       "output_type": "stream",
       "stream": "stderr",
       "text": [
        "WARNING:main_logger:Found 64 unique values, which is greater than threshold 10; executing risk table featurizer.\n"
       ]
      },
      {
       "output_type": "stream",
       "stream": "stderr",
       "text": [
        "WARNING:main_logger:Processing column: RFA_5\n"
       ]
      },
      {
       "output_type": "stream",
       "stream": "stderr",
       "text": [
        "WARNING:main_logger:Found 41 unique values, which is greater than threshold 10; executing risk table featurizer.\n"
       ]
      },
      {
       "output_type": "stream",
       "stream": "stderr",
       "text": [
        "WARNING:main_logger:Processing column: RFA_6\n"
       ]
      },
      {
       "output_type": "stream",
       "stream": "stderr",
       "text": [
        "WARNING:main_logger:Found 109 unique values, which is greater than threshold 10; executing risk table featurizer.\n"
       ]
      },
      {
       "output_type": "stream",
       "stream": "stderr",
       "text": [
        "WARNING:main_logger:Processing column: RFA_7\n"
       ]
      },
      {
       "output_type": "stream",
       "stream": "stderr",
       "text": [
        "WARNING:main_logger:Found 106 unique values, which is greater than threshold 10; executing risk table featurizer.\n"
       ]
      },
      {
       "output_type": "stream",
       "stream": "stderr",
       "text": [
        "WARNING:main_logger:Processing column: RFA_8\n"
       ]
      },
      {
       "output_type": "stream",
       "stream": "stderr",
       "text": [
        "WARNING:main_logger:Found 109 unique values, which is greater than threshold 10; executing risk table featurizer.\n"
       ]
      },
      {
       "output_type": "stream",
       "stream": "stderr",
       "text": [
        "WARNING:main_logger:Processing column: RFA_9\n"
       ]
      },
      {
       "output_type": "stream",
       "stream": "stderr",
       "text": [
        "WARNING:main_logger:Found 107 unique values, which is greater than threshold 10; executing risk table featurizer.\n"
       ]
      },
      {
       "output_type": "stream",
       "stream": "stderr",
       "text": [
        "WARNING:main_logger:Processing column: RFA_10\n"
       ]
      },
      {
       "output_type": "stream",
       "stream": "stderr",
       "text": [
        "WARNING:main_logger:Found 94 unique values, which is greater than threshold 10; executing risk table featurizer.\n"
       ]
      },
      {
       "output_type": "stream",
       "stream": "stderr",
       "text": [
        "WARNING:main_logger:Processing column: RFA_11\n"
       ]
      },
      {
       "output_type": "stream",
       "stream": "stderr",
       "text": [
        "WARNING:main_logger:Found 101 unique values, which is greater than threshold 10; executing risk table featurizer.\n"
       ]
      },
      {
       "output_type": "stream",
       "stream": "stderr",
       "text": [
        "WARNING:main_logger:Processing column: RFA_12\n"
       ]
      },
      {
       "output_type": "stream",
       "stream": "stderr",
       "text": [
        "WARNING:main_logger:Found 107 unique values, which is greater than threshold 10; executing risk table featurizer.\n"
       ]
      },
      {
       "output_type": "stream",
       "stream": "stderr",
       "text": [
        "WARNING:main_logger:Processing column: RFA_13\n"
       ]
      },
      {
       "output_type": "stream",
       "stream": "stderr",
       "text": [
        "WARNING:main_logger:Found 87 unique values, which is greater than threshold 10; executing risk table featurizer.\n"
       ]
      },
      {
       "output_type": "stream",
       "stream": "stderr",
       "text": [
        "WARNING:main_logger:Processing column: RFA_14\n"
       ]
      },
      {
       "output_type": "stream",
       "stream": "stderr",
       "text": [
        "WARNING:main_logger:Found 95 unique values, which is greater than threshold 10; executing risk table featurizer.\n"
       ]
      },
      {
       "output_type": "stream",
       "stream": "stderr",
       "text": [
        "WARNING:main_logger:Processing column: RFA_15\n"
       ]
      },
      {
       "output_type": "stream",
       "stream": "stderr",
       "text": [
        "WARNING:main_logger:Percentage of missing values 0.68626 is greater than threshold: 0.5. Executing erase featurizer.\n"
       ]
      },
      {
       "output_type": "stream",
       "stream": "stderr",
       "text": [
        "WARNING:main_logger:Processing column: RFA_16\n"
       ]
      },
      {
       "output_type": "stream",
       "stream": "stderr",
       "text": [
        "WARNING:main_logger:Found 123 unique values, which is greater than threshold 10; executing risk table featurizer.\n"
       ]
      },
      {
       "output_type": "stream",
       "stream": "stderr",
       "text": [
        "WARNING:main_logger:Processing column: RFA_17\n"
       ]
      },
      {
       "output_type": "stream",
       "stream": "stderr",
       "text": [
        "WARNING:main_logger:Found 118 unique values, which is greater than threshold 10; executing risk table featurizer.\n"
       ]
      },
      {
       "output_type": "stream",
       "stream": "stderr",
       "text": [
        "WARNING:main_logger:Processing column: RFA_18\n"
       ]
      },
      {
       "output_type": "stream",
       "stream": "stderr",
       "text": [
        "WARNING:main_logger:Found 122 unique values, which is greater than threshold 10; executing risk table featurizer.\n"
       ]
      },
      {
       "output_type": "stream",
       "stream": "stderr",
       "text": [
        "WARNING:main_logger:Processing column: RFA_19\n"
       ]
      },
      {
       "output_type": "stream",
       "stream": "stderr",
       "text": [
        "WARNING:main_logger:Found 108 unique values, which is greater than threshold 10; executing risk table featurizer.\n"
       ]
      },
      {
       "output_type": "stream",
       "stream": "stderr",
       "text": [
        "WARNING:main_logger:Processing column: RFA_20\n"
       ]
      },
      {
       "output_type": "stream",
       "stream": "stderr",
       "text": [
        "WARNING:main_logger:Percentage of missing values 0.52614 is greater than threshold: 0.5. Executing erase featurizer.\n"
       ]
      },
      {
       "output_type": "stream",
       "stream": "stderr",
       "text": [
        "WARNING:main_logger:Processing column: RFA_21\n"
       ]
      },
      {
       "output_type": "stream",
       "stream": "stderr",
       "text": [
        "WARNING:main_logger:Found 102 unique values, which is greater than threshold 10; executing risk table featurizer.\n"
       ]
      },
      {
       "output_type": "stream",
       "stream": "stderr",
       "text": [
        "WARNING:main_logger:Processing column: RFA_22\n"
       ]
      },
      {
       "output_type": "stream",
       "stream": "stderr",
       "text": [
        "WARNING:main_logger:Found 117 unique values, which is greater than threshold 10; executing risk table featurizer.\n"
       ]
      },
      {
       "output_type": "stream",
       "stream": "stderr",
       "text": [
        "WARNING:main_logger:Processing column: RFA_23\n"
       ]
      },
      {
       "output_type": "stream",
       "stream": "stderr",
       "text": [
        "WARNING:main_logger:Percentage of missing values 0.5898 is greater than threshold: 0.5. Executing erase featurizer.\n"
       ]
      },
      {
       "output_type": "stream",
       "stream": "stderr",
       "text": [
        "WARNING:main_logger:Processing column: RFA_24\n"
       ]
      },
      {
       "output_type": "stream",
       "stream": "stderr",
       "text": [
        "WARNING:main_logger:Found 97 unique values, which is greater than threshold 10; executing risk table featurizer.\n"
       ]
      },
      {
       "output_type": "stream",
       "stream": "stderr",
       "text": [
        "WARNING:main_logger:Processing column: RFA_2R\n"
       ]
      },
      {
       "output_type": "stream",
       "stream": "stderr",
       "text": [
        "WARNING:main_logger:Found 1 unique values, which is less than threshold 10; executing hot1 encoding featurizer.\n"
       ]
      },
      {
       "output_type": "stream",
       "stream": "stderr",
       "text": [
        "WARNING:main_logger:Processing column: RFA_2F\n"
       ]
      },
      {
       "output_type": "stream",
       "stream": "stderr",
       "text": [
        "WARNING:main_logger:Percentage of missing values 1.0 is greater than threshold: 0.5. Executing erase featurizer.\n"
       ]
      },
      {
       "output_type": "stream",
       "stream": "stderr",
       "text": [
        "WARNING:main_logger:Processing column: RFA_2A\n"
       ]
      },
      {
       "output_type": "stream",
       "stream": "stderr",
       "text": [
        "WARNING:main_logger:Found 4 unique values, which is less than threshold 10; executing hot1 encoding featurizer.\n"
       ]
      },
      {
       "output_type": "stream",
       "stream": "stderr",
       "text": [
        "WARNING:main_logger:Processing column: MDMAUD_R\n"
       ]
      },
      {
       "output_type": "stream",
       "stream": "stderr",
       "text": [
        "WARNING:main_logger:Found 5 unique values, which is less than threshold 10; executing hot1 encoding featurizer.\n"
       ]
      },
      {
       "output_type": "stream",
       "stream": "stderr",
       "text": [
        "WARNING:main_logger:Processing column: MDMAUD_F\n"
       ]
      },
      {
       "output_type": "stream",
       "stream": "stderr",
       "text": [
        "WARNING:main_logger:Found 4 unique values, which is less than threshold 10; executing hot1 encoding featurizer.\n"
       ]
      },
      {
       "output_type": "stream",
       "stream": "stderr",
       "text": [
        "WARNING:main_logger:Processing column: MDMAUD_A\n"
       ]
      },
      {
       "output_type": "stream",
       "stream": "stderr",
       "text": [
        "WARNING:main_logger:Found 5 unique values, which is less than threshold 10; executing hot1 encoding featurizer.\n"
       ]
      },
      {
       "output_type": "stream",
       "stream": "stderr",
       "text": [
        "WARNING:main_logger:Processing column: GEOCODE2\n"
       ]
      },
      {
       "output_type": "stream",
       "stream": "stderr",
       "text": [
        "WARNING:main_logger:Found 5 unique values, which is less than threshold 10; executing hot1 encoding featurizer.\n"
       ]
      },
      {
       "output_type": "stream",
       "stream": "stderr",
       "text": [
        "WARNING:main_logger:Performed 75 featurizers\n"
       ]
      },
      {
       "output_type": "stream",
       "stream": "stdout",
       "text": [
        "<class 'pandas.core.frame.DataFrame'>\n",
        "Int64Index: 95412 entries, 0 to 95411\n",
        "Columns: 475 entries, ODATEDW to Field_sourceCol_GEOCODE2_value_ \n",
        "dtypes: float64(143), int64(308), object(24)"
       ]
      }
     ],
     "prompt_number": 12
    },
    {
     "cell_type": "markdown",
     "metadata": {},
     "source": [
      "Now that learn_y contains *only* numeric columns, we wish to normalize all features so that they all have similar ranges of values.  To do this we apply the [Z-transform](http://en.wikipedia.org/wiki/Standard_score).  Apply this independently to all columns in the data set.  This is the whitening transofrm used by the PCA model in the iris notebook."
     ]
    },
    {
     "cell_type": "code",
     "collapsed": false,
     "input": [
      "import logging\n",
      "\n",
      "# create logger\n",
      "log = logging.getLogger('zscore_logger')\n",
      "log.setLevel(logging.WARN)\n",
      "\n",
      "def z_score(df, index, inplace=True):\n",
      "    if not inplace:\n",
      "        df= df.copy()\n",
      "    c_series= df[index]\n",
      "    if c_series.dtype != np.float64:\n",
      "        c_series= c_series.astype(np.float64)\n",
      "        df[index]= c_series\n",
      "    #\n",
      "    c_mean= float(c_series.mean())\n",
      "    c_std= float(c_series.std())\n",
      "    #\n",
      "    log.warn(\"Before zscore => mean={}, std={}\".format(c_mean, c_std))\n",
      "    #\n",
      "    n= c_series.size\n",
      "    for i in xrange(n):\n",
      "        x= float(c_series[i])\n",
      "        zscore= round(((x - c_mean) / c_std), 6)\n",
      "        c_series.set_value(i,zscore)\n",
      "        #\n",
      "        log.debug(\"zscore\")\n",
      "        log.debug(zscore)\n",
      "        log.debug(\"c_series[{}]={}\".format(i, c_series.iat[i]))\n",
      "    #\n",
      "    c_mean= c_series.mean()\n",
      "    c_std= c_series.std()\n",
      "    #\n",
      "    log.warn(\"After zscore => mean= {}, std= {}\".format(c_mean, c_std))\n",
      "    \n",
      "    return df\n",
      "\n",
      "#we wish to normalize all features so that they all have similar ranges of values. \n",
      "#To do this we apply the Z-transform. Apply this independently to all columns in the data set.\n",
      "new_mdf= m_df.copy()\n",
      "\n",
      "#test_columns= [\"ODATEDW\", \"Field_sourceCol_HOMEOWNR_value_H\"]\n",
      "test_columns= new_mdf.columns\n",
      "for c in test_columns:\n",
      "    log.warn(\"\\nCalculating zscore for {}\".format(c))\n",
      "    z_score(new_mdf, c)"
     ],
     "language": "python",
     "metadata": {},
     "outputs": [
      {
       "output_type": "stream",
       "stream": "stderr",
       "text": [
        "WARNING:zscore_logger:\n",
        "Calculating zscore for ODATEDW\n"
       ]
      },
      {
       "output_type": "stream",
       "stream": "stderr",
       "text": [
        "WARNING:zscore_logger:Before zscore => mean=9141.36325619, std=343.45475236\n"
       ]
      },
      {
       "output_type": "stream",
       "stream": "stderr",
       "text": [
        "WARNING:zscore_logger:After zscore => mean= 4.41349096514e-08, std= 0.999999960519\n"
       ]
      },
      {
       "output_type": "stream",
       "stream": "stderr",
       "text": [
        "WARNING:zscore_logger:\n",
        "Calculating zscore for OSOURCE\n"
       ]
      },
      {
       "output_type": "stream",
       "stream": "stderr",
       "text": [
        "WARNING:zscore_logger:Before zscore => mean=0.0507588575756, std=0.0243524665983\n"
       ]
      },
      {
       "output_type": "stream",
       "stream": "stderr",
       "text": [
        "WARNING:zscore_logger:After zscore => mean= 7.54622060447e-10, std= 1.00000004202\n"
       ]
      },
      {
       "output_type": "stream",
       "stream": "stderr",
       "text": [
        "WARNING:zscore_logger:\n",
        "Calculating zscore for TCODE\n"
       ]
      },
      {
       "output_type": "stream",
       "stream": "stderr",
       "text": [
        "WARNING:zscore_logger:Before zscore => mean=54.2231165891, std=953.844475829\n"
       ]
      },
      {
       "output_type": "stream",
       "stream": "stderr",
       "text": [
        "WARNING:zscore_logger:After zscore => mean= -1.33903492219e-07, std= 1.00000000702\n"
       ]
      },
      {
       "output_type": "stream",
       "stream": "stderr",
       "text": [
        "WARNING:zscore_logger:\n",
        "Calculating zscore for STATE\n"
       ]
      },
      {
       "output_type": "stream",
       "stream": "stderr",
       "text": [
        "WARNING:zscore_logger:Before zscore => mean=0.0507587454723, std=0.00818223850259\n"
       ]
      },
      {
       "output_type": "stream",
       "stream": "stderr",
       "text": [
        "WARNING:zscore_logger:After zscore => mean= -1.73877499561e-08, std= 1.0000000123\n"
       ]
      },
      {
       "output_type": "stream",
       "stream": "stderr",
       "text": [
        "WARNING:zscore_logger:\n",
        "Calculating zscore for ZIP\n"
       ]
      },
      {
       "output_type": "stream",
       "stream": "stderr",
       "text": [
        "WARNING:zscore_logger:Before zscore => mean=0.050758834088, std=0.0990148205801\n"
       ]
      },
      {
       "output_type": "stream",
       "stream": "stderr",
       "text": [
        "WARNING:zscore_logger:After zscore => mean= -1.4496080157e-07, std= 1.00000005026\n"
       ]
      },
      {
       "output_type": "stream",
       "stream": "stderr",
       "text": [
        "WARNING:zscore_logger:\n",
        "Calculating zscore for DOB\n"
       ]
      },
      {
       "output_type": "stream",
       "stream": "stderr",
       "text": [
        "WARNING:zscore_logger:Before zscore => mean=2723.60293255, std=2132.24129477\n"
       ]
      },
      {
       "output_type": "stream",
       "stream": "stderr",
       "text": [
        "WARNING:zscore_logger:After zscore => mean= -8.3752567796e-08, std= 1.00000024523\n"
       ]
      },
      {
       "output_type": "stream",
       "stream": "stderr",
       "text": [
        "WARNING:zscore_logger:\n",
        "Calculating zscore for MDMAUD\n"
       ]
      },
      {
       "output_type": "stream",
       "stream": "stderr",
       "text": [
        "WARNING:zscore_logger:Before zscore => mean=0.0507588087976, std=0.00404249676171\n"
       ]
      },
      {
       "output_type": "stream",
       "stream": "stderr",
       "text": [
        "WARNING:zscore_logger:After zscore => mean= 7.26742967369e-08, std= 1.00000000061\n"
       ]
      },
      {
       "output_type": "stream",
       "stream": "stderr",
       "text": [
        "WARNING:zscore_logger:\n",
        "Calculating zscore for DOMAIN\n"
       ]
      },
      {
       "output_type": "stream",
       "stream": "stderr",
       "text": [
        "WARNING:zscore_logger:Before zscore => mean=0.0507587580179, std=0.0056991945\n"
       ]
      },
      {
       "output_type": "stream",
       "stream": "stderr",
       "text": [
        "WARNING:zscore_logger:After zscore => mean= -5.02033287177e-08, std= 0.999999969057\n"
       ]
      },
      {
       "output_type": "stream",
       "stream": "stderr",
       "text": [
        "WARNING:zscore_logger:\n",
        "Calculating zscore for CLUSTER\n"
       ]
      },
      {
       "output_type": "stream",
       "stream": "stderr",
       "text": [
        "WARNING:zscore_logger:Before zscore => mean=0.0507588633924, std=0.0077171324857\n"
       ]
      },
      {
       "output_type": "stream",
       "stream": "stderr",
       "text": [
        "WARNING:zscore_logger:After zscore => mean= -4.67656059945e-08, std= 0.999999962619\n"
       ]
      },
      {
       "output_type": "stream",
       "stream": "stderr",
       "text": [
        "WARNING:zscore_logger:\n",
        "Calculating zscore for AGE\n"
       ]
      },
      {
       "output_type": "stream",
       "stream": "stderr",
       "text": [
        "WARNING:zscore_logger:Before zscore => mean=61.6116492676, std=16.6641985857\n"
       ]
      },
      {
       "output_type": "stream",
       "stream": "stderr",
       "text": [
        "WARNING:zscore_logger:After zscore => mean= -5.04550712995e-09, std= 0.999999996625\n"
       ]
      },
      {
       "output_type": "stream",
       "stream": "stderr",
       "text": [
        "WARNING:zscore_logger:\n",
        "Calculating zscore for NUMCHLD\n"
       ]
      },
      {
       "output_type": "stream",
       "stream": "stderr",
       "text": [
        "WARNING:zscore_logger:Before zscore => mean=1.52777329243, std=0.806861270606\n"
       ]
      },
      {
       "output_type": "stream",
       "stream": "stderr",
       "text": [
        "WARNING:zscore_logger:After zscore => mean= -2.12094300003e-07, std= 1.00000017052\n"
       ]
      },
      {
       "output_type": "stream",
       "stream": "stderr",
       "text": [
        "WARNING:zscore_logger:\n",
        "Calculating zscore for INCOME\n"
       ]
      },
      {
       "output_type": "stream",
       "stream": "stderr",
       "text": [
        "WARNING:zscore_logger:Before zscore => mean=3.88624774033, std=1.85495950128\n"
       ]
      },
      {
       "output_type": "stream",
       "stream": "stderr",
       "text": [
        "WARNING:zscore_logger:After zscore => mean= 1.80233656323e-08, std= 0.999999995634\n"
       ]
      },
      {
       "output_type": "stream",
       "stream": "stderr",
       "text": [
        "WARNING:zscore_logger:\n",
        "Calculating zscore for WEALTH1\n"
       ]
      },
      {
       "output_type": "stream",
       "stream": "stderr",
       "text": [
        "WARNING:zscore_logger:Before zscore => mean=5.34569850039, std=2.74248950559\n"
       ]
      },
      {
       "output_type": "stream",
       "stream": "stderr",
       "text": [
        "WARNING:zscore_logger:After zscore => mean= 2.5828729292e-08, std= 1.00000003714\n"
       ]
      },
      {
       "output_type": "stream",
       "stream": "stderr",
       "text": [
        "WARNING:zscore_logger:\n",
        "Calculating zscore for HIT\n"
       ]
      },
      {
       "output_type": "stream",
       "stream": "stderr",
       "text": [
        "WARNING:zscore_logger:Before zscore => mean=3.32143755502, std=9.30689879016\n"
       ]
      },
      {
       "output_type": "stream",
       "stream": "stderr",
       "text": [
        "WARNING:zscore_logger:After zscore => mean= 3.25745189119e-08, std= 0.999999986757\n"
       ]
      },
      {
       "output_type": "stream",
       "stream": "stderr",
       "text": [
        "WARNING:zscore_logger:\n",
        "Calculating zscore for MBCRAFT\n"
       ]
      },
      {
       "output_type": "stream",
       "stream": "stderr",
       "text": [
        "WARNING:zscore_logger:Before zscore => mean=0.152074815546, std=0.470023259687\n"
       ]
      },
      {
       "output_type": "stream",
       "stream": "stderr",
       "text": [
        "WARNING:zscore_logger:After zscore => mean= 3.82959725562e-07, std= 0.999999873366\n"
       ]
      },
      {
       "output_type": "stream",
       "stream": "stderr",
       "text": [
        "WARNING:zscore_logger:\n",
        "Calculating zscore for MBGARDEN\n"
       ]
      },
      {
       "output_type": "stream",
       "stream": "stderr",
       "text": [
        "WARNING:zscore_logger:Before zscore => mean=0.0591663142065, std=0.262077859422\n"
       ]
      },
      {
       "output_type": "stream",
       "stream": "stderr",
       "text": [
        "WARNING:zscore_logger:After zscore => mean= -4.61534846576e-07, std= 1.00000000508\n"
       ]
      },
      {
       "output_type": "stream",
       "stream": "stderr",
       "text": [
        "WARNING:zscore_logger:\n",
        "Calculating zscore for MBBOOKS\n"
       ]
      },
      {
       "output_type": "stream",
       "stream": "stderr",
       "text": [
        "WARNING:zscore_logger:Before zscore => mean=1.11638234879, std=1.66996722171\n"
       ]
      },
      {
       "output_type": "stream",
       "stream": "stderr",
       "text": [
        "WARNING:zscore_logger:After zscore => mean= -1.08299262189e-07, std= 1.00000014199\n"
       ]
      },
      {
       "output_type": "stream",
       "stream": "stderr",
       "text": [
        "WARNING:zscore_logger:\n",
        "Calculating zscore for MBCOLECT\n"
       ]
      },
      {
       "output_type": "stream",
       "stream": "stderr",
       "text": [
        "WARNING:zscore_logger:Before zscore => mean=0.0639324203492, std=0.297343566524\n"
       ]
      },
      {
       "output_type": "stream",
       "stream": "stderr",
       "text": [
        "WARNING:zscore_logger:After zscore => mean= -4.6002164827e-08, std= 1.00000001404\n"
       ]
      },
      {
       "output_type": "stream",
       "stream": "stderr",
       "text": [
        "WARNING:zscore_logger:\n",
        "Calculating zscore for MAGFAML\n"
       ]
      },
      {
       "output_type": "stream",
       "stream": "stderr",
       "text": [
        "WARNING:zscore_logger:Before zscore => mean=0.448329338785, std=0.821010208771\n"
       ]
      },
      {
       "output_type": "stream",
       "stream": "stderr",
       "text": [
        "WARNING:zscore_logger:After zscore => mean= 2.04191926253e-07, std= 0.99999985456\n"
       ]
      },
      {
       "output_type": "stream",
       "stream": "stderr",
       "text": [
        "WARNING:zscore_logger:\n",
        "Calculating zscore for MAGFEM\n"
       ]
      },
      {
       "output_type": "stream",
       "stream": "stderr",
       "text": [
        "WARNING:zscore_logger:Before zscore => mean=0.126321725645, std=0.380916043617\n"
       ]
      },
      {
       "output_type": "stream",
       "stream": "stderr",
       "text": [
        "WARNING:zscore_logger:After zscore => mean= 1.24277456653e-07, std= 0.999999916826\n"
       ]
      },
      {
       "output_type": "stream",
       "stream": "stderr",
       "text": [
        "WARNING:zscore_logger:\n",
        "Calculating zscore for MAGMALE\n"
       ]
      },
      {
       "output_type": "stream",
       "stream": "stderr",
       "text": [
        "WARNING:zscore_logger:Before zscore => mean=0.0657220734057, std=0.276397871832\n"
       ]
      },
      {
       "output_type": "stream",
       "stream": "stderr",
       "text": [
        "WARNING:zscore_logger:After zscore => mean= -3.12914140689e-07, std= 1.00000003755\n"
       ]
      },
      {
       "output_type": "stream",
       "stream": "stderr",
       "text": [
        "WARNING:zscore_logger:\n",
        "Calculating zscore for PUBGARDN\n"
       ]
      },
      {
       "output_type": "stream",
       "stream": "stderr",
       "text": [
        "WARNING:zscore_logger:Before zscore => mean=0.141806475868, std=0.490413729235\n"
       ]
      },
      {
       "output_type": "stream",
       "stream": "stderr",
       "text": [
        "WARNING:zscore_logger:After zscore => mean= -1.55763898649e-07, std= 1.00000003593\n"
       ]
      },
      {
       "output_type": "stream",
       "stream": "stderr",
       "text": [
        "WARNING:zscore_logger:\n",
        "Calculating zscore for PUBCULIN\n"
       ]
      },
      {
       "output_type": "stream",
       "stream": "stderr",
       "text": [
        "WARNING:zscore_logger:Before zscore => mean=0.145237088209, std=0.427822303358\n"
       ]
      },
      {
       "output_type": "stream",
       "stream": "stderr",
       "text": [
        "WARNING:zscore_logger:After zscore => mean= -7.05155317585e-08, std= 0.999999980493\n"
       ]
      },
      {
       "output_type": "stream",
       "stream": "stderr",
       "text": [
        "WARNING:zscore_logger:\n",
        "Calculating zscore for PUBHLTH\n"
       ]
      },
      {
       "output_type": "stream",
       "stream": "stderr",
       "text": [
        "WARNING:zscore_logger:Before zscore => mean=0.714483763335, std=1.24989077426\n"
       ]
      },
      {
       "output_type": "stream",
       "stream": "stderr",
       "text": [
        "WARNING:zscore_logger:After zscore => mean= 2.10066262635e-08, std= 1.00000009274\n"
       ]
      },
      {
       "output_type": "stream",
       "stream": "stderr",
       "text": [
        "WARNING:zscore_logger:\n",
        "Calculating zscore for PUBDOITY\n"
       ]
      },
      {
       "output_type": "stream",
       "stream": "stderr",
       "text": [
        "WARNING:zscore_logger:Before zscore => mean=0.237722637342, std=0.728571584507\n"
       ]
      },
      {
       "output_type": "stream",
       "stream": "stderr",
       "text": [
        "WARNING:zscore_logger:After zscore => mean= -5.64876169201e-08, std= 1.00000006436\n"
       ]
      },
      {
       "output_type": "stream",
       "stream": "stderr",
       "text": [
        "WARNING:zscore_logger:\n",
        "Calculating zscore for PUBNEWFN\n"
       ]
      },
      {
       "output_type": "stream",
       "stream": "stderr",
       "text": [
        "WARNING:zscore_logger:Before zscore => mean=0.376239484938, std=0.959573053122\n"
       ]
      },
      {
       "output_type": "stream",
       "stream": "stderr",
       "text": [
        "WARNING:zscore_logger:After zscore => mean= -3.3991258991e-07, std= 1.00000019394\n"
       ]
      },
      {
       "output_type": "stream",
       "stream": "stderr",
       "text": [
        "WARNING:zscore_logger:\n",
        "Calculating zscore for PUBPHOTO\n"
       ]
      },
      {
       "output_type": "stream",
       "stream": "stderr",
       "text": [
        "WARNING:zscore_logger:Before zscore => mean=0.00587433620001, std=0.0779419307388\n"
       ]
      },
      {
       "output_type": "stream",
       "stream": "stderr",
       "text": [
        "WARNING:zscore_logger:After zscore => mean= 1.09521124116e-07, std= 0.999999962668\n"
       ]
      },
      {
       "output_type": "stream",
       "stream": "stderr",
       "text": [
        "WARNING:zscore_logger:\n",
        "Calculating zscore for PUBOPP\n"
       ]
      },
      {
       "output_type": "stream",
       "stream": "stderr",
       "text": [
        "WARNING:zscore_logger:Before zscore => mean=0.237558155928, std=0.878639090257\n"
       ]
      },
      {
       "output_type": "stream",
       "stream": "stderr",
       "text": [
        "WARNING:zscore_logger:After zscore => mean= -3.79294139741e-07, std= 1.00000010308\n"
       ]
      },
      {
       "output_type": "stream",
       "stream": "stderr",
       "text": [
        "WARNING:zscore_logger:\n",
        "Calculating zscore for MALEMILI\n"
       ]
      },
      {
       "output_type": "stream",
       "stream": "stderr",
       "text": [
        "WARNING:zscore_logger:Before zscore => mean=1.04844254391, std=5.06552230113\n"
       ]
      },
      {
       "output_type": "stream",
       "stream": "stderr",
       "text": [
        "WARNING:zscore_logger:After zscore => mean= 1.89598792596e-07, std= 0.999999982788\n"
       ]
      },
      {
       "output_type": "stream",
       "stream": "stderr",
       "text": [
        "WARNING:zscore_logger:\n",
        "Calculating zscore for MALEVET\n"
       ]
      },
      {
       "output_type": "stream",
       "stream": "stderr",
       "text": [
        "WARNING:zscore_logger:Before zscore => mean=30.4453318241, std=11.4705541079\n"
       ]
      },
      {
       "output_type": "stream",
       "stream": "stderr",
       "text": [
        "WARNING:zscore_logger:After zscore => mean= 4.93858215229e-08, std= 0.999999989543\n"
       ]
      },
      {
       "output_type": "stream",
       "stream": "stderr",
       "text": [
        "WARNING:zscore_logger:\n",
        "Calculating zscore for VIETVETS\n"
       ]
      },
      {
       "output_type": "stream",
       "stream": "stderr",
       "text": [
        "WARNING:zscore_logger:Before zscore => mean=29.7023120781, std=15.0977515114\n"
       ]
      },
      {
       "output_type": "stream",
       "stream": "stderr",
       "text": [
        "WARNING:zscore_logger:After zscore => mean= 6.91736883865e-10, std= 0.999999964942\n"
       ]
      },
      {
       "output_type": "stream",
       "stream": "stderr",
       "text": [
        "WARNING:zscore_logger:\n",
        "Calculating zscore for WWIIVETS\n"
       ]
      },
      {
       "output_type": "stream",
       "stream": "stderr",
       "text": [
        "WARNING:zscore_logger:Before zscore => mean=32.637718526, std=17.7090649594\n"
       ]
      },
      {
       "output_type": "stream",
       "stream": "stderr",
       "text": [
        "WARNING:zscore_logger:After zscore => mean= -5.135622287e-10, std= 0.999999982173\n"
       ]
      },
      {
       "output_type": "stream",
       "stream": "stderr",
       "text": [
        "WARNING:zscore_logger:\n",
        "Calculating zscore for LOCALGOV\n"
       ]
      },
      {
       "output_type": "stream",
       "stream": "stderr",
       "text": [
        "WARNING:zscore_logger:Before zscore => mean=6.84232591288, std=4.39169909026\n"
       ]
      },
      {
       "output_type": "stream",
       "stream": "stderr",
       "text": [
        "WARNING:zscore_logger:After zscore => mean= 6.21515113353e-09, std= 0.999999950101\n"
       ]
      },
      {
       "output_type": "stream",
       "stream": "stderr",
       "text": [
        "WARNING:zscore_logger:\n",
        "Calculating zscore for STATEGOV\n"
       ]
      },
      {
       "output_type": "stream",
       "stream": "stderr",
       "text": [
        "WARNING:zscore_logger:Before zscore => mean=4.56856579885, std=5.12661830887\n"
       ]
      },
      {
       "output_type": "stream",
       "stream": "stderr",
       "text": [
        "WARNING:zscore_logger:After zscore => mean= -2.05424894831e-09, std= 0.999999981512\n"
       ]
      },
      {
       "output_type": "stream",
       "stream": "stderr",
       "text": [
        "WARNING:zscore_logger:\n",
        "Calculating zscore for FEDGOV\n"
       ]
      },
      {
       "output_type": "stream",
       "stream": "stderr",
       "text": [
        "WARNING:zscore_logger:Before zscore => mean=3.11086655767, std=4.15516820204\n"
       ]
      },
      {
       "output_type": "stream",
       "stream": "stderr",
       "text": [
        "WARNING:zscore_logger:After zscore => mean= -5.13143000616e-08, std= 1.00000003365\n"
       ]
      },
      {
       "output_type": "stream",
       "stream": "stderr",
       "text": [
        "WARNING:zscore_logger:\n",
        "Calculating zscore for WEALTH2\n"
       ]
      },
      {
       "output_type": "stream",
       "stream": "stderr",
       "text": [
        "WARNING:zscore_logger:Before zscore => mean=4.95452518948, std=2.80275882076\n"
       ]
      },
      {
       "output_type": "stream",
       "stream": "stderr",
       "text": [
        "WARNING:zscore_logger:After zscore => mean= -5.31314815164e-08, std= 1.00000002018\n"
       ]
      },
      {
       "output_type": "stream",
       "stream": "stderr",
       "text": [
        "WARNING:zscore_logger:\n",
        "Calculating zscore for POP901\n"
       ]
      },
      {
       "output_type": "stream",
       "stream": "stderr",
       "text": [
        "WARNING:zscore_logger:Before zscore => mean=3255.88020375, std=5743.21726626\n"
       ]
      },
      {
       "output_type": "stream",
       "stream": "stderr",
       "text": [
        "WARNING:zscore_logger:After zscore => mean= -5.57581855435e-09, std= 1.00000000176\n"
       ]
      },
      {
       "output_type": "stream",
       "stream": "stderr",
       "text": [
        "WARNING:zscore_logger:\n",
        "Calculating zscore for POP902\n"
       ]
      },
      {
       "output_type": "stream",
       "stream": "stderr",
       "text": [
        "WARNING:zscore_logger:Before zscore => mean=864.993082631, std=1458.10343442\n"
       ]
      },
      {
       "output_type": "stream",
       "stream": "stderr",
       "text": [
        "WARNING:zscore_logger:After zscore => mean= -2.12761497616e-09, std= 1.00000000045\n"
       ]
      },
      {
       "output_type": "stream",
       "stream": "stderr",
       "text": [
        "WARNING:zscore_logger:\n",
        "Calculating zscore for POP903\n"
       ]
      },
      {
       "output_type": "stream",
       "stream": "stderr",
       "text": [
        "WARNING:zscore_logger:Before zscore => mean=1222.57346036, std=2123.0962418\n"
       ]
      },
      {
       "output_type": "stream",
       "stream": "stderr",
       "text": [
        "WARNING:zscore_logger:After zscore => mean= -5.95312958643e-09, std= 1.0000000025\n"
       ]
      },
      {
       "output_type": "stream",
       "stream": "stderr",
       "text": [
        "WARNING:zscore_logger:\n",
        "Calculating zscore for POP90C1\n"
       ]
      },
      {
       "output_type": "stream",
       "stream": "stderr",
       "text": [
        "WARNING:zscore_logger:Before zscore => mean=58.5896532931, std=47.4307737462\n"
       ]
      },
      {
       "output_type": "stream",
       "stream": "stderr",
       "text": [
        "WARNING:zscore_logger:After zscore => mean= -3.43877079862e-08, std= 1.00000023654\n"
       ]
      },
      {
       "output_type": "stream",
       "stream": "stderr",
       "text": [
        "WARNING:zscore_logger:\n",
        "Calculating zscore for POP90C2\n"
       ]
      },
      {
       "output_type": "stream",
       "stream": "stderr",
       "text": [
        "WARNING:zscore_logger:Before zscore => mean=13.6224793527, std=31.2220777909\n"
       ]
      },
      {
       "output_type": "stream",
       "stream": "stderr",
       "text": [
        "WARNING:zscore_logger:After zscore => mean= 1.47654383116e-07, std= 0.999999938826\n"
       ]
      },
      {
       "output_type": "stream",
       "stream": "stderr",
       "text": [
        "WARNING:zscore_logger:\n",
        "Calculating zscore for POP90C3\n"
       ]
      },
      {
       "output_type": "stream",
       "stream": "stderr",
       "text": [
        "WARNING:zscore_logger:Before zscore => mean=26.140527397, std=40.0378545304\n"
       ]
      },
      {
       "output_type": "stream",
       "stream": "stderr",
       "text": [
        "WARNING:zscore_logger:After zscore => mean= 2.42003102357e-07, std= 0.999999991244\n"
       ]
      },
      {
       "output_type": "stream",
       "stream": "stderr",
       "text": [
        "WARNING:zscore_logger:\n",
        "Calculating zscore for POP90C4\n"
       ]
      },
      {
       "output_type": "stream",
       "stream": "stderr",
       "text": [
        "WARNING:zscore_logger:Before zscore => mean=48.2117238922, std=5.56557933233\n"
       ]
      },
      {
       "output_type": "stream",
       "stream": "stderr",
       "text": [
        "WARNING:zscore_logger:After zscore => mean= 2.13180732027e-08, std= 1.00000001993\n"
       ]
      },
      {
       "output_type": "stream",
       "stream": "stderr",
       "text": [
        "WARNING:zscore_logger:\n",
        "Calculating zscore for POP90C5\n"
       ]
      },
      {
       "output_type": "stream",
       "stream": "stderr",
       "text": [
        "WARNING:zscore_logger:Before zscore => mean=50.9513897623, std=5.76836101535\n"
       ]
      },
      {
       "output_type": "stream",
       "stream": "stderr",
       "text": [
        "WARNING:zscore_logger:After zscore => mean= 1.09986165263e-07, std= 0.999999989541\n"
       ]
      },
      {
       "output_type": "stream",
       "stream": "stderr",
       "text": [
        "WARNING:zscore_logger:\n",
        "Calculating zscore for ETH1\n"
       ]
      },
      {
       "output_type": "stream",
       "stream": "stderr",
       "text": [
        "WARNING:zscore_logger:Before zscore => mean=84.8545046745, std=21.0138750263\n"
       ]
      },
      {
       "output_type": "stream",
       "stream": "stderr",
       "text": [
        "WARNING:zscore_logger:After zscore => mean= -3.2197207884e-08, std= 0.999999992231\n"
       ]
      },
      {
       "output_type": "stream",
       "stream": "stderr",
       "text": [
        "WARNING:zscore_logger:\n",
        "Calculating zscore for ETH2\n"
       ]
      },
      {
       "output_type": "stream",
       "stream": "stderr",
       "text": [
        "WARNING:zscore_logger:Before zscore => mean=7.46740451935, std=16.6907710059\n"
       ]
      },
      {
       "output_type": "stream",
       "stream": "stderr",
       "text": [
        "WARNING:zscore_logger:After zscore => mean= 1.86140108334e-08, std= 0.999999980369\n"
       ]
      },
      {
       "output_type": "stream",
       "stream": "stderr",
       "text": [
        "WARNING:zscore_logger:\n",
        "Calculating zscore for ETH3\n"
       ]
      },
      {
       "output_type": "stream",
       "stream": "stderr",
       "text": [
        "WARNING:zscore_logger:Before zscore => mean=0.776904372616, std=3.46931863456\n"
       ]
      },
      {
       "output_type": "stream",
       "stream": "stderr",
       "text": [
        "WARNING:zscore_logger:After zscore => mean= -2.86976480929e-07, std= 1.00000002831\n"
       ]
      },
      {
       "output_type": "stream",
       "stream": "stderr",
       "text": [
        "WARNING:zscore_logger:\n",
        "Calculating zscore for ETH4\n"
       ]
      },
      {
       "output_type": "stream",
       "stream": "stderr",
       "text": [
        "WARNING:zscore_logger:Before zscore => mean=2.90570368507, std=7.06975933541\n"
       ]
      },
      {
       "output_type": "stream",
       "stream": "stderr",
       "text": [
        "WARNING:zscore_logger:After zscore => mean= -1.52779524575e-07, std= 1.00000006993\n"
       ]
      },
      {
       "output_type": "stream",
       "stream": "stderr",
       "text": [
        "WARNING:zscore_logger:\n",
        "Calculating zscore for ETH5\n"
       ]
      },
      {
       "output_type": "stream",
       "stream": "stderr",
       "text": [
        "WARNING:zscore_logger:Before zscore => mean=7.45807655222, std=13.7860610398\n"
       ]
      },
      {
       "output_type": "stream",
       "stream": "stderr",
       "text": [
        "WARNING:zscore_logger:After zscore => mean= -1.86706074698e-07, std= 1.0000000936\n"
       ]
      },
      {
       "output_type": "stream",
       "stream": "stderr",
       "text": [
        "WARNING:zscore_logger:\n",
        "Calculating zscore for ETH6\n"
       ]
      },
      {
       "output_type": "stream",
       "stream": "stderr",
       "text": [
        "WARNING:zscore_logger:Before zscore => mean=0.216010564709, std=0.679275007383\n"
       ]
      },
      {
       "output_type": "stream",
       "stream": "stderr",
       "text": [
        "WARNING:zscore_logger:After zscore => mean= -3.23041126869e-07, std= 1.00000008808\n"
       ]
      },
      {
       "output_type": "stream",
       "stream": "stderr",
       "text": [
        "WARNING:zscore_logger:\n",
        "Calculating zscore for ETH7\n"
       ]
      },
      {
       "output_type": "stream",
       "stream": "stderr",
       "text": [
        "WARNING:zscore_logger:Before zscore => mean=0.3973504381, std=2.23216631942\n"
       ]
      },
      {
       "output_type": "stream",
       "stream": "stderr",
       "text": [
        "WARNING:zscore_logger:After zscore => mean= 7.16786148533e-08, std= 0.999999964869\n"
       ]
      },
      {
       "output_type": "stream",
       "stream": "stderr",
       "text": [
        "WARNING:zscore_logger:\n",
        "Calculating zscore for ETH8\n"
       ]
      },
      {
       "output_type": "stream",
       "stream": "stderr",
       "text": [
        "WARNING:zscore_logger:Before zscore => mean=0.612805517126, std=2.53374346193\n"
       ]
      },
      {
       "output_type": "stream",
       "stream": "stderr",
       "text": [
        "WARNING:zscore_logger:After zscore => mean= -2.16000083847e-07, std= 1.00000004495\n"
       ]
      },
      {
       "output_type": "stream",
       "stream": "stderr",
       "text": [
        "WARNING:zscore_logger:\n",
        "Calculating zscore for ETH9\n"
       ]
      },
      {
       "output_type": "stream",
       "stream": "stderr",
       "text": [
        "WARNING:zscore_logger:Before zscore => mean=0.561491217038, std=2.30920492894\n"
       ]
      },
      {
       "output_type": "stream",
       "stream": "stderr",
       "text": [
        "WARNING:zscore_logger:After zscore => mean= 3.60531170096e-07, std= 0.999999886906\n"
       ]
      },
      {
       "output_type": "stream",
       "stream": "stderr",
       "text": [
        "WARNING:zscore_logger:\n",
        "Calculating zscore for ETH10\n"
       ]
      },
      {
       "output_type": "stream",
       "stream": "stderr",
       "text": [
        "WARNING:zscore_logger:Before zscore => mean=0.250586928269, std=1.00352961652\n"
       ]
      },
      {
       "output_type": "stream",
       "stream": "stderr",
       "text": [
        "WARNING:zscore_logger:After zscore => mean= -3.96983607954e-07, std= 1.00000007938\n"
       ]
      },
      {
       "output_type": "stream",
       "stream": "stderr",
       "text": [
        "WARNING:zscore_logger:\n",
        "Calculating zscore for ETH11\n"
       ]
      },
      {
       "output_type": "stream",
       "stream": "stderr",
       "text": [
        "WARNING:zscore_logger:Before zscore => mean=0.21030897581, std=1.05412097974\n"
       ]
      },
      {
       "output_type": "stream",
       "stream": "stderr",
       "text": [
        "WARNING:zscore_logger:After zscore => mean= 1.69370729034e-07, std= 0.99999992535\n"
       ]
      },
      {
       "output_type": "stream",
       "stream": "stderr",
       "text": [
        "WARNING:zscore_logger:\n",
        "Calculating zscore for ETH12\n"
       ]
      },
      {
       "output_type": "stream",
       "stream": "stderr",
       "text": [
        "WARNING:zscore_logger:Before zscore => mean=0.0683876241982, std=1.16967142848\n"
       ]
      },
      {
       "output_type": "stream",
       "stream": "stderr",
       "text": [
        "WARNING:zscore_logger:After zscore => mean= 3.78453443989e-07, std= 0.999999977263\n"
       ]
      },
      {
       "output_type": "stream",
       "stream": "stderr",
       "text": [
        "WARNING:zscore_logger:\n",
        "Calculating zscore for ETH13\n"
       ]
      },
      {
       "output_type": "stream",
       "stream": "stderr",
       "text": [
        "WARNING:zscore_logger:Before zscore => mean=5.13816920304, std=11.333534301\n"
       ]
      },
      {
       "output_type": "stream",
       "stream": "stderr",
       "text": [
        "WARNING:zscore_logger:After zscore => mean= -2.02804678743e-08, std= 1.0000000136\n"
       ]
      },
      {
       "output_type": "stream",
       "stream": "stderr",
       "text": [
        "WARNING:zscore_logger:\n",
        "Calculating zscore for ETH14\n"
       ]
      },
      {
       "output_type": "stream",
       "stream": "stderr",
       "text": [
        "WARNING:zscore_logger:Before zscore => mean=0.302477675764, std=1.29282047896\n"
       ]
      },
      {
       "output_type": "stream",
       "stream": "stderr",
       "text": [
        "WARNING:zscore_logger:After zscore => mean= 1.89598792619e-07, std= 0.999999937534\n"
       ]
      },
      {
       "output_type": "stream",
       "stream": "stderr",
       "text": [
        "WARNING:zscore_logger:\n",
        "Calculating zscore for ETH15\n"
       ]
      },
      {
       "output_type": "stream",
       "stream": "stderr",
       "text": [
        "WARNING:zscore_logger:Before zscore => mean=0.327432608058, std=3.20864991187\n"
       ]
      },
      {
       "output_type": "stream",
       "stream": "stderr",
       "text": [
        "WARNING:zscore_logger:After zscore => mean= -1.26336309889e-07, std= 1.00000001881\n"
       ]
      },
      {
       "output_type": "stream",
       "stream": "stderr",
       "text": [
        "WARNING:zscore_logger:\n",
        "Calculating zscore for ETH16\n"
       ]
      },
      {
       "output_type": "stream",
       "stream": "stderr",
       "text": [
        "WARNING:zscore_logger:Before zscore => mean=1.51361463967, std=3.3652851297\n"
       ]
      },
      {
       "output_type": "stream",
       "stream": "stderr",
       "text": [
        "WARNING:zscore_logger:After zscore => mean= 1.19188362061e-07, std= 0.999999955493\n"
       ]
      },
      {
       "output_type": "stream",
       "stream": "stderr",
       "text": [
        "WARNING:zscore_logger:\n",
        "Calculating zscore for AGE901\n"
       ]
      },
      {
       "output_type": "stream",
       "stream": "stderr",
       "text": [
        "WARNING:zscore_logger:Before zscore => mean=34.4752756467, std=8.33561752816\n"
       ]
      },
      {
       "output_type": "stream",
       "stream": "stderr",
       "text": [
        "WARNING:zscore_logger:After zscore => mean= -2.20098111632e-10, std= 0.999999980741\n"
       ]
      },
      {
       "output_type": "stream",
       "stream": "stderr",
       "text": [
        "WARNING:zscore_logger:\n",
        "Calculating zscore for AGE902\n"
       ]
      },
      {
       "output_type": "stream",
       "stream": "stderr",
       "text": [
        "WARNING:zscore_logger:Before zscore => mean=41.9113214271, std=8.24967063879\n"
       ]
      },
      {
       "output_type": "stream",
       "stream": "stderr",
       "text": [
        "WARNING:zscore_logger:After zscore => mean= -7.02008133132e-08, std= 0.9999999327\n"
       ]
      },
      {
       "output_type": "stream",
       "stream": "stderr",
       "text": [
        "WARNING:zscore_logger:\n",
        "Calculating zscore for AGE903\n"
       ]
      },
      {
       "output_type": "stream",
       "stream": "stderr",
       "text": [
        "WARNING:zscore_logger:Before zscore => mean=45.1086446149, std=8.10910303046\n"
       ]
      },
      {
       "output_type": "stream",
       "stream": "stderr",
       "text": [
        "WARNING:zscore_logger:After zscore => mean= 6.6176162327e-08, std= 0.999999992709\n"
       ]
      },
      {
       "output_type": "stream",
       "stream": "stderr",
       "text": [
        "WARNING:zscore_logger:\n",
        "Calculating zscore for AGE904\n"
       ]
      },
      {
       "output_type": "stream",
       "stream": "stderr",
       "text": [
        "WARNING:zscore_logger:Before zscore => mean=35.9173793653, std=7.26121465019\n"
       ]
      },
      {
       "output_type": "stream",
       "stream": "stderr",
       "text": [
        "WARNING:zscore_logger:After zscore => mean= -3.39925795483e-07, std= 0.999999998432\n"
       ]
      },
      {
       "output_type": "stream",
       "stream": "stderr",
       "text": [
        "WARNING:zscore_logger:\n",
        "Calculating zscore for AGE905\n"
       ]
      },
      {
       "output_type": "stream",
       "stream": "stderr",
       "text": [
        "WARNING:zscore_logger:Before zscore => mean=44.6942313336, std=6.96000602906\n"
       ]
      },
      {
       "output_type": "stream",
       "stream": "stderr",
       "text": [
        "WARNING:zscore_logger:After zscore => mean= -1.63805391358e-07, std= 0.99999994504\n"
       ]
      },
      {
       "output_type": "stream",
       "stream": "stderr",
       "text": [
        "WARNING:zscore_logger:\n",
        "Calculating zscore for AGE906\n"
       ]
      },
      {
       "output_type": "stream",
       "stream": "stderr",
       "text": [
        "WARNING:zscore_logger:Before zscore => mean=47.8894373873, std=6.88269758757\n"
       ]
      },
      {
       "output_type": "stream",
       "stream": "stderr",
       "text": [
        "WARNING:zscore_logger:After zscore => mean= 1.6067161357e-08, std= 0.999999989277\n"
       ]
      },
      {
       "output_type": "stream",
       "stream": "stderr",
       "text": [
        "WARNING:zscore_logger:\n",
        "Calculating zscore for AGE907\n"
       ]
      },
      {
       "output_type": "stream",
       "stream": "stderr",
       "text": [
        "WARNING:zscore_logger:Before zscore => mean=24.5150924412, std=7.51529815745\n"
       ]
      },
      {
       "output_type": "stream",
       "stream": "stderr",
       "text": [
        "WARNING:zscore_logger:After zscore => mean= -1.39185846489e-08, std= 0.999999970721\n"
       ]
      },
      {
       "output_type": "stream",
       "stream": "stderr",
       "text": [
        "WARNING:zscore_logger:\n",
        "Calculating zscore for CHIL1\n"
       ]
      },
      {
       "output_type": "stream",
       "stream": "stderr",
       "text": [
        "WARNING:zscore_logger:Before zscore => mean=39.5927451474, std=8.2322516213\n"
       ]
      },
      {
       "output_type": "stream",
       "stream": "stderr",
       "text": [
        "WARNING:zscore_logger:After zscore => mean= 1.65492810149e-08, std= 0.999999962314\n"
       ]
      },
      {
       "output_type": "stream",
       "stream": "stderr",
       "text": [
        "WARNING:zscore_logger:\n",
        "Calculating zscore for CHIL2\n"
       ]
      },
      {
       "output_type": "stream",
       "stream": "stderr",
       "text": [
        "WARNING:zscore_logger:Before zscore => mean=38.3576384522, std=6.38054521287\n"
       ]
      },
      {
       "output_type": "stream",
       "stream": "stderr",
       "text": [
        "WARNING:zscore_logger:After zscore => mean= 5.57581851994e-09, std= 0.999999970795\n"
       ]
      },
      {
       "output_type": "stream",
       "stream": "stderr",
       "text": [
        "WARNING:zscore_logger:\n",
        "Calculating zscore for CHIL3\n"
       ]
      },
      {
       "output_type": "stream",
       "stream": "stderr",
       "text": [
        "WARNING:zscore_logger:Before zscore => mean=21.0147151302, std=5.82723114531\n"
       ]
      },
      {
       "output_type": "stream",
       "stream": "stderr",
       "text": [
        "WARNING:zscore_logger:After zscore => mean= -2.53636858328e-09, std= 1.00000001123\n"
       ]
      },
      {
       "output_type": "stream",
       "stream": "stderr",
       "text": [
        "WARNING:zscore_logger:\n",
        "Calculating zscore for AGEC1\n"
       ]
      },
      {
       "output_type": "stream",
       "stream": "stderr",
       "text": [
        "WARNING:zscore_logger:Before zscore => mean=12.1968725108, std=6.06822746659\n"
       ]
      },
      {
       "output_type": "stream",
       "stream": "stderr",
       "text": [
        "WARNING:zscore_logger:After zscore => mean= 3.54881985492e-08, std= 0.999999983645\n"
       ]
      },
      {
       "output_type": "stream",
       "stream": "stderr",
       "text": [
        "WARNING:zscore_logger:\n",
        "Calculating zscore for AGEC2\n"
       ]
      },
      {
       "output_type": "stream",
       "stream": "stderr",
       "text": [
        "WARNING:zscore_logger:Before zscore => mean=22.1898188907, std=7.78777602461\n"
       ]
      },
      {
       "output_type": "stream",
       "stream": "stderr",
       "text": [
        "WARNING:zscore_logger:After zscore => mean= 3.73118685243e-08, std= 1.00000000399\n"
       ]
      },
      {
       "output_type": "stream",
       "stream": "stderr",
       "text": [
        "WARNING:zscore_logger:\n",
        "Calculating zscore for AGEC3\n"
       ]
      },
      {
       "output_type": "stream",
       "stream": "stderr",
       "text": [
        "WARNING:zscore_logger:Before zscore => mean=20.652978661, std=6.21104529054\n"
       ]
      },
      {
       "output_type": "stream",
       "stream": "stderr",
       "text": [
        "WARNING:zscore_logger:After zscore => mean= 9.80170209135e-08, std= 1.00000003507\n"
       ]
      },
      {
       "output_type": "stream",
       "stream": "stderr",
       "text": [
        "WARNING:zscore_logger:\n",
        "Calculating zscore for AGEC4\n"
       ]
      },
      {
       "output_type": "stream",
       "stream": "stderr",
       "text": [
        "WARNING:zscore_logger:Before zscore => mean=14.0577809919, std=4.31634249342\n"
       ]
      },
      {
       "output_type": "stream",
       "stream": "stderr",
       "text": [
        "WARNING:zscore_logger:After zscore => mean= 5.34523963263e-10, std= 0.999999964695\n"
       ]
      },
      {
       "output_type": "stream",
       "stream": "stderr",
       "text": [
        "WARNING:zscore_logger:\n",
        "Calculating zscore for AGEC5\n"
       ]
      },
      {
       "output_type": "stream",
       "stream": "stderr",
       "text": [
        "WARNING:zscore_logger:Before zscore => mean=11.8577851843, std=4.14550885963\n"
       ]
      },
      {
       "output_type": "stream",
       "stream": "stderr",
       "text": [
        "WARNING:zscore_logger:After zscore => mean= 2.56466691539e-08, std= 1.00000000714\n"
       ]
      },
      {
       "output_type": "stream",
       "stream": "stderr",
       "text": [
        "WARNING:zscore_logger:\n",
        "Calculating zscore for AGEC6\n"
       ]
      },
      {
       "output_type": "stream",
       "stream": "stderr",
       "text": [
        "WARNING:zscore_logger:Before zscore => mean=10.543275479, std=6.00384555989\n"
       ]
      },
      {
       "output_type": "stream",
       "stream": "stderr",
       "text": [
        "WARNING:zscore_logger:After zscore => mean= -1.14241395043e-09, std= 0.999999997773\n"
       ]
      },
      {
       "output_type": "stream",
       "stream": "stderr",
       "text": [
        "WARNING:zscore_logger:\n",
        "Calculating zscore for AGEC7\n"
       ]
      },
      {
       "output_type": "stream",
       "stream": "stderr",
       "text": [
        "WARNING:zscore_logger:Before zscore => mean=7.66796629355, std=6.7237180552\n"
       ]
      },
      {
       "output_type": "stream",
       "stream": "stderr",
       "text": [
        "WARNING:zscore_logger:After zscore => mean= 2.52064729858e-08, std= 0.999999970699\n"
       ]
      },
      {
       "output_type": "stream",
       "stream": "stderr",
       "text": [
        "WARNING:zscore_logger:\n",
        "Calculating zscore for CHILC1\n"
       ]
      },
      {
       "output_type": "stream",
       "stream": "stderr",
       "text": [
        "WARNING:zscore_logger:Before zscore => mean=16.1756592462, std=5.12088408436\n"
       ]
      },
      {
       "output_type": "stream",
       "stream": "stderr",
       "text": [
        "WARNING:zscore_logger:After zscore => mean= -1.77650610029e-08, std= 1.00000000801\n"
       ]
      },
      {
       "output_type": "stream",
       "stream": "stderr",
       "text": [
        "WARNING:zscore_logger:\n",
        "Calculating zscore for CHILC2\n"
       ]
      },
      {
       "output_type": "stream",
       "stream": "stderr",
       "text": [
        "WARNING:zscore_logger:Before zscore => mean=16.1394269065, std=3.69660999679\n"
       ]
      },
      {
       "output_type": "stream",
       "stream": "stderr",
       "text": [
        "WARNING:zscore_logger:After zscore => mean= -7.11860143408e-08, std= 1.00000001432\n"
       ]
      },
      {
       "output_type": "stream",
       "stream": "stderr",
       "text": [
        "WARNING:zscore_logger:\n",
        "Calculating zscore for CHILC3\n"
       ]
      },
      {
       "output_type": "stream",
       "stream": "stderr",
       "text": [
        "WARNING:zscore_logger:Before zscore => mean=31.6346476334, std=5.38407107064\n"
       ]
      },
      {
       "output_type": "stream",
       "stream": "stderr",
       "text": [
        "WARNING:zscore_logger:After zscore => mean= -2.54475328017e-08, std= 0.999999926214\n"
       ]
      },
      {
       "output_type": "stream",
       "stream": "stderr",
       "text": [
        "WARNING:zscore_logger:\n",
        "Calculating zscore for CHILC4\n"
       ]
      },
      {
       "output_type": "stream",
       "stream": "stderr",
       "text": [
        "WARNING:zscore_logger:Before zscore => mean=19.7541713831, std=4.56213582547\n"
       ]
      },
      {
       "output_type": "stream",
       "stream": "stderr",
       "text": [
        "WARNING:zscore_logger:After zscore => mean= 1.60671613615e-08, std= 1.00000000842\n"
       ]
      },
      {
       "output_type": "stream",
       "stream": "stderr",
       "text": [
        "WARNING:zscore_logger:\n",
        "Calculating zscore for CHILC5\n"
       ]
      },
      {
       "output_type": "stream",
       "stream": "stderr",
       "text": [
        "WARNING:zscore_logger:Before zscore => mean=15.2568544837, std=5.64251795745\n"
       ]
      },
      {
       "output_type": "stream",
       "stream": "stderr",
       "text": [
        "WARNING:zscore_logger:After zscore => mean= 1.04599002213e-08, std= 0.99999999249\n"
       ]
      },
      {
       "output_type": "stream",
       "stream": "stderr",
       "text": [
        "WARNING:zscore_logger:\n",
        "Calculating zscore for HHAGE1\n"
       ]
      },
      {
       "output_type": "stream",
       "stream": "stderr",
       "text": [
        "WARNING:zscore_logger:Before zscore => mean=24.6032888945, std=13.0903176756\n"
       ]
      },
      {
       "output_type": "stream",
       "stream": "stderr",
       "text": [
        "WARNING:zscore_logger:After zscore => mean= -7.77679957683e-09, std= 0.99999996362\n"
       ]
      },
      {
       "output_type": "stream",
       "stream": "stderr",
       "text": [
        "WARNING:zscore_logger:\n",
        "Calculating zscore for HHAGE2\n"
       ]
      },
      {
       "output_type": "stream",
       "stream": "stderr",
       "text": [
        "WARNING:zscore_logger:Before zscore => mean=9.37184002012, std=7.44150967743\n"
       ]
      },
      {
       "output_type": "stream",
       "stream": "stderr",
       "text": [
        "WARNING:zscore_logger:After zscore => mean= 2.5227434701e-08, std= 0.99999999089\n"
       ]
      },
      {
       "output_type": "stream",
       "stream": "stderr",
       "text": [
        "WARNING:zscore_logger:\n",
        "Calculating zscore for HHAGE3\n"
       ]
      },
      {
       "output_type": "stream",
       "stream": "stderr",
       "text": [
        "WARNING:zscore_logger:Before zscore => mean=22.3084727288, std=12.9639034177\n"
       ]
      },
      {
       "output_type": "stream",
       "stream": "stderr",
       "text": [
        "WARNING:zscore_logger:After zscore => mean= 6.14178510099e-09, std= 0.999999997253\n"
       ]
      },
      {
       "output_type": "stream",
       "stream": "stderr",
       "text": [
        "WARNING:zscore_logger:\n",
        "Calculating zscore for HHN1\n"
       ]
      },
      {
       "output_type": "stream",
       "stream": "stderr",
       "text": [
        "WARNING:zscore_logger:Before zscore => mean=22.8217100574, std=11.7696213556\n"
       ]
      },
      {
       "output_type": "stream",
       "stream": "stderr",
       "text": [
        "WARNING:zscore_logger:After zscore => mean= -6.3545465984e-08, std= 0.999999990468\n"
       ]
      },
      {
       "output_type": "stream",
       "stream": "stderr",
       "text": [
        "WARNING:zscore_logger:\n",
        "Calculating zscore for HHN2\n"
       ]
      },
      {
       "output_type": "stream",
       "stream": "stderr",
       "text": [
        "WARNING:zscore_logger:Before zscore => mean=33.6304448078, std=8.23249936538\n"
       ]
      },
      {
       "output_type": "stream",
       "stream": "stderr",
       "text": [
        "WARNING:zscore_logger:After zscore => mean= 5.67014631341e-09, std= 1.00000000684\n"
       ]
      },
      {
       "output_type": "stream",
       "stream": "stderr",
       "text": [
        "WARNING:zscore_logger:\n",
        "Calculating zscore for HHN3\n"
       ]
      },
      {
       "output_type": "stream",
       "stream": "stderr",
       "text": [
        "WARNING:zscore_logger:Before zscore => mean=42.6974279965, std=14.5384998177\n"
       ]
      },
      {
       "output_type": "stream",
       "stream": "stderr",
       "text": [
        "WARNING:zscore_logger:After zscore => mean= 6.30947889081e-09, std= 1.0000000095\n"
       ]
      },
      {
       "output_type": "stream",
       "stream": "stderr",
       "text": [
        "WARNING:zscore_logger:\n",
        "Calculating zscore for HHN4\n"
       ]
      },
      {
       "output_type": "stream",
       "stream": "stderr",
       "text": [
        "WARNING:zscore_logger:Before zscore => mean=25.6154152518, std=11.0592177126\n"
       ]
      },
      {
       "output_type": "stream",
       "stream": "stderr",
       "text": [
        "WARNING:zscore_logger:After zscore => mean= -9.3698905901e-09, std= 1.00000001863\n"
       ]
      },
      {
       "output_type": "stream",
       "stream": "stderr",
       "text": [
        "WARNING:zscore_logger:\n",
        "Calculating zscore for HHN5\n"
       ]
      },
      {
       "output_type": "stream",
       "stream": "stderr",
       "text": [
        "WARNING:zscore_logger:Before zscore => mean=10.4710204167, std=6.38276697045\n"
       ]
      },
      {
       "output_type": "stream",
       "stream": "stderr",
       "text": [
        "WARNING:zscore_logger:After zscore => mean= -2.91053536297e-08, std= 1.00000001165\n"
       ]
      },
      {
       "output_type": "stream",
       "stream": "stderr",
       "text": [
        "WARNING:zscore_logger:\n",
        "Calculating zscore for HHN6\n"
       ]
      },
      {
       "output_type": "stream",
       "stream": "stderr",
       "text": [
        "WARNING:zscore_logger:Before zscore => mean=3.89645956483, std=3.79301723443\n"
       ]
      },
      {
       "output_type": "stream",
       "stream": "stderr",
       "text": [
        "WARNING:zscore_logger:After zscore => mean= 3.2522114616e-08, std= 0.999999961864\n"
       ]
      },
      {
       "output_type": "stream",
       "stream": "stderr",
       "text": [
        "WARNING:zscore_logger:\n",
        "Calculating zscore for MARR1\n"
       ]
      },
      {
       "output_type": "stream",
       "stream": "stderr",
       "text": [
        "WARNING:zscore_logger:Before zscore => mean=58.1006162747, std=12.9677960587\n"
       ]
      },
      {
       "output_type": "stream",
       "stream": "stderr",
       "text": [
        "WARNING:zscore_logger:After zscore => mean= -1.13088500458e-08, std= 0.999999992193\n"
       ]
      },
      {
       "output_type": "stream",
       "stream": "stderr",
       "text": [
        "WARNING:zscore_logger:\n",
        "Calculating zscore for MARR2\n"
       ]
      },
      {
       "output_type": "stream",
       "stream": "stderr",
       "text": [
        "WARNING:zscore_logger:Before zscore => mean=10.6933509412, std=4.52343419034\n"
       ]
      },
      {
       "output_type": "stream",
       "stream": "stderr",
       "text": [
        "WARNING:zscore_logger:After zscore => mean= -2.14490839716e-07, std= 1.00000011553\n"
       ]
      },
      {
       "output_type": "stream",
       "stream": "stderr",
       "text": [
        "WARNING:zscore_logger:\n",
        "Calculating zscore for MARR3\n"
       ]
      },
      {
       "output_type": "stream",
       "stream": "stderr",
       "text": [
        "WARNING:zscore_logger:Before zscore => mean=7.42469500692, std=4.88771954667\n"
       ]
      },
      {
       "output_type": "stream",
       "stream": "stderr",
       "text": [
        "WARNING:zscore_logger:After zscore => mean= 1.58156206871e-08, std= 1.00000000885\n"
       ]
      },
      {
       "output_type": "stream",
       "stream": "stderr",
       "text": [
        "WARNING:zscore_logger:\n",
        "Calculating zscore for MARR4\n"
       ]
      },
      {
       "output_type": "stream",
       "stream": "stderr",
       "text": [
        "WARNING:zscore_logger:Before zscore => mean=22.9484236784, std=8.88236028593\n"
       ]
      },
      {
       "output_type": "stream",
       "stream": "stderr",
       "text": [
        "WARNING:zscore_logger:After zscore => mean= 4.51725149905e-09, std= 0.999999996125\n"
       ]
      },
      {
       "output_type": "stream",
       "stream": "stderr",
       "text": [
        "WARNING:zscore_logger:\n",
        "Calculating zscore for HHP1\n"
       ]
      },
      {
       "output_type": "stream",
       "stream": "stderr",
       "text": [
        "WARNING:zscore_logger:Before zscore => mean=185.271737308, std=50.041208419\n"
       ]
      },
      {
       "output_type": "stream",
       "stream": "stderr",
       "text": [
        "WARNING:zscore_logger:After zscore => mean= 8.4999790338e-09, std= 0.999999990626\n"
       ]
      },
      {
       "output_type": "stream",
       "stream": "stderr",
       "text": [
        "WARNING:zscore_logger:\n",
        "Calculating zscore for HHP2\n"
       ]
      },
      {
       "output_type": "stream",
       "stream": "stderr",
       "text": [
        "WARNING:zscore_logger:Before zscore => mean=259.684997694, std=49.9018194862\n"
       ]
      },
      {
       "output_type": "stream",
       "stream": "stderr",
       "text": [
        "WARNING:zscore_logger:After zscore => mean= 5.40812476244e-09, std= 0.999999979718\n"
       ]
      },
      {
       "output_type": "stream",
       "stream": "stderr",
       "text": [
        "WARNING:zscore_logger:\n",
        "Calculating zscore for DW1\n"
       ]
      },
      {
       "output_type": "stream",
       "stream": "stderr",
       "text": [
        "WARNING:zscore_logger:Before zscore => mean=70.0835324697, std=24.9746393773\n"
       ]
      },
      {
       "output_type": "stream",
       "stream": "stderr",
       "text": [
        "WARNING:zscore_logger:After zscore => mean= -1.69580346342e-08, std= 0.999999975978\n"
       ]
      },
      {
       "output_type": "stream",
       "stream": "stderr",
       "text": [
        "WARNING:zscore_logger:\n",
        "Calculating zscore for DW2\n"
       ]
      },
      {
       "output_type": "stream",
       "stream": "stderr",
       "text": [
        "WARNING:zscore_logger:Before zscore => mean=66.0365991699, std=26.3531469174\n"
       ]
      },
      {
       "output_type": "stream",
       "stream": "stderr",
       "text": [
        "WARNING:zscore_logger:After zscore => mean= 1.27552089881e-08, std= 1.00000003394\n"
       ]
      },
      {
       "output_type": "stream",
       "stream": "stderr",
       "text": [
        "WARNING:zscore_logger:\n",
        "Calculating zscore for DW3\n"
       ]
      },
      {
       "output_type": "stream",
       "stream": "stderr",
       "text": [
        "WARNING:zscore_logger:Before zscore => mean=2.90086152685, std=5.36528616168\n"
       ]
      },
      {
       "output_type": "stream",
       "stream": "stderr",
       "text": [
        "WARNING:zscore_logger:After zscore => mean= 6.03907265271e-08, std= 0.999999961963\n"
       ]
      },
      {
       "output_type": "stream",
       "stream": "stderr",
       "text": [
        "WARNING:zscore_logger:\n",
        "Calculating zscore for DW4\n"
       ]
      },
      {
       "output_type": "stream",
       "stream": "stderr",
       "text": [
        "WARNING:zscore_logger:Before zscore => mean=19.4807780992, std=23.8544416287\n"
       ]
      },
      {
       "output_type": "stream",
       "stream": "stderr",
       "text": [
        "WARNING:zscore_logger:After zscore => mean= 3.91879428146e-08, std= 0.99999997854\n"
       ]
      },
      {
       "output_type": "stream",
       "stream": "stderr",
       "text": [
        "WARNING:zscore_logger:\n",
        "Calculating zscore for DW5\n"
       ]
      },
      {
       "output_type": "stream",
       "stream": "stderr",
       "text": [
        "WARNING:zscore_logger:Before zscore => mean=16.5554018362, std=22.6455347118\n"
       ]
      },
      {
       "output_type": "stream",
       "stream": "stderr",
       "text": [
        "WARNING:zscore_logger:After zscore => mean= 1.72095753093e-08, std= 0.999999988085\n"
       ]
      },
      {
       "output_type": "stream",
       "stream": "stderr",
       "text": [
        "WARNING:zscore_logger:\n",
        "Calculating zscore for DW6\n"
       ]
      },
      {
       "output_type": "stream",
       "stream": "stderr",
       "text": [
        "WARNING:zscore_logger:Before zscore => mean=13.1029220643, std=20.4577545969\n"
       ]
      },
      {
       "output_type": "stream",
       "stream": "stderr",
       "text": [
        "WARNING:zscore_logger:After zscore => mean= -6.93204209349e-08, std= 1.00000004804\n"
       ]
      },
      {
       "output_type": "stream",
       "stream": "stderr",
       "text": [
        "WARNING:zscore_logger:\n",
        "Calculating zscore for DW7\n"
       ]
      },
      {
       "output_type": "stream",
       "stream": "stderr",
       "text": [
        "WARNING:zscore_logger:Before zscore => mean=1.78984823712, std=5.9068782027\n"
       ]
      },
      {
       "output_type": "stream",
       "stream": "stderr",
       "text": [
        "WARNING:zscore_logger:After zscore => mean= -1.38913344221e-07, std= 1.00000003298\n"
       ]
      },
      {
       "output_type": "stream",
       "stream": "stderr",
       "text": [
        "WARNING:zscore_logger:\n",
        "Calculating zscore for DW8\n"
       ]
      },
      {
       "output_type": "stream",
       "stream": "stderr",
       "text": [
        "WARNING:zscore_logger:Before zscore => mean=1.16031526433, std=4.25483899819\n"
       ]
      },
      {
       "output_type": "stream",
       "stream": "stderr",
       "text": [
        "WARNING:zscore_logger:After zscore => mean= -9.68536452553e-08, std= 1.0000000238\n"
       ]
      },
      {
       "output_type": "stream",
       "stream": "stderr",
       "text": [
        "WARNING:zscore_logger:\n",
        "Calculating zscore for DW9\n"
       ]
      },
      {
       "output_type": "stream",
       "stream": "stderr",
       "text": [
        "WARNING:zscore_logger:Before zscore => mean=0.621200687545, std=3.96951447341\n"
       ]
      },
      {
       "output_type": "stream",
       "stream": "stderr",
       "text": [
        "WARNING:zscore_logger:After zscore => mean= -1.27415838685e-07, std= 1.0000000217\n"
       ]
      },
      {
       "output_type": "stream",
       "stream": "stderr",
       "text": [
        "WARNING:zscore_logger:\n",
        "Calculating zscore for HV1\n"
       ]
      },
      {
       "output_type": "stream",
       "stream": "stderr",
       "text": [
        "WARNING:zscore_logger:Before zscore => mean=1061.83823838, std=941.765892353\n"
       ]
      },
      {
       "output_type": "stream",
       "stream": "stderr",
       "text": [
        "WARNING:zscore_logger:After zscore => mean= -1.65597618583e-09, std= 1.00000000325\n"
       ]
      },
      {
       "output_type": "stream",
       "stream": "stderr",
       "text": [
        "WARNING:zscore_logger:\n",
        "Calculating zscore for HV2\n"
       ]
      },
      {
       "output_type": "stream",
       "stream": "stderr",
       "text": [
        "WARNING:zscore_logger:Before zscore => mean=1133.03108624, std=947.384617503\n"
       ]
      },
      {
       "output_type": "stream",
       "stream": "stderr",
       "text": [
        "WARNING:zscore_logger:After zscore => mean= -3.13377772141e-09, std= 1.00000000496\n"
       ]
      },
      {
       "output_type": "stream",
       "stream": "stderr",
       "text": [
        "WARNING:zscore_logger:\n",
        "Calculating zscore for HV3\n"
       ]
      },
      {
       "output_type": "stream",
       "stream": "stderr",
       "text": [
        "WARNING:zscore_logger:Before zscore => mean=4.2242485222, std=2.30793768895\n"
       ]
      },
      {
       "output_type": "stream",
       "stream": "stderr",
       "text": [
        "WARNING:zscore_logger:After zscore => mean= -7.92877206444e-08, std= 1.00000002791\n"
       ]
      },
      {
       "output_type": "stream",
       "stream": "stderr",
       "text": [
        "WARNING:zscore_logger:\n",
        "Calculating zscore for HV4\n"
       ]
      },
      {
       "output_type": "stream",
       "stream": "stderr",
       "text": [
        "WARNING:zscore_logger:Before zscore => mean=3.87588563283, std=2.24438929503\n"
       ]
      },
      {
       "output_type": "stream",
       "stream": "stderr",
       "text": [
        "WARNING:zscore_logger:After zscore => mean= -8.59011444898e-08, std= 0.99999999554\n"
       ]
      },
      {
       "output_type": "stream",
       "stream": "stderr",
       "text": [
        "WARNING:zscore_logger:\n",
        "Calculating zscore for HU1\n"
       ]
      },
      {
       "output_type": "stream",
       "stream": "stderr",
       "text": [
        "WARNING:zscore_logger:Before zscore => mean=69.6968305873, std=21.7170784061\n"
       ]
      },
      {
       "output_type": "stream",
       "stream": "stderr",
       "text": [
        "WARNING:zscore_logger:After zscore => mean= 4.98889028886e-09, std= 1.00000000999\n"
       ]
      },
      {
       "output_type": "stream",
       "stream": "stderr",
       "text": [
        "WARNING:zscore_logger:\n",
        "Calculating zscore for HU2\n"
       ]
      },
      {
       "output_type": "stream",
       "stream": "stderr",
       "text": [
        "WARNING:zscore_logger:Before zscore => mean=29.4457720203, std=20.9001237439\n"
       ]
      },
      {
       "output_type": "stream",
       "stream": "stderr",
       "text": [
        "WARNING:zscore_logger:After zscore => mean= 1.17280844997e-08, std= 1.00000000052\n"
       ]
      },
      {
       "output_type": "stream",
       "stream": "stderr",
       "text": [
        "WARNING:zscore_logger:\n",
        "Calculating zscore for HU3\n"
       ]
      },
      {
       "output_type": "stream",
       "stream": "stderr",
       "text": [
        "WARNING:zscore_logger:Before zscore => mean=89.9666079738, std=12.9552096484\n"
       ]
      },
      {
       "output_type": "stream",
       "stream": "stderr",
       "text": [
        "WARNING:zscore_logger:After zscore => mean= 1.63124135329e-07, std= 1.00000013302\n"
       ]
      },
      {
       "output_type": "stream",
       "stream": "stderr",
       "text": [
        "WARNING:zscore_logger:\n",
        "Calculating zscore for HU4\n"
       ]
      },
      {
       "output_type": "stream",
       "stream": "stderr",
       "text": [
        "WARNING:zscore_logger:Before zscore => mean=9.17647675345, std=9.96074533485\n"
       ]
      },
      {
       "output_type": "stream",
       "stream": "stderr",
       "text": [
        "WARNING:zscore_logger:After zscore => mean= -8.79868360461e-08, std= 1.00000005323\n"
       ]
      },
      {
       "output_type": "stream",
       "stream": "stderr",
       "text": [
        "WARNING:zscore_logger:\n",
        "Calculating zscore for HU5\n"
       ]
      },
      {
       "output_type": "stream",
       "stream": "stderr",
       "text": [
        "WARNING:zscore_logger:Before zscore => mean=13.7372762336, std=20.9816528558\n"
       ]
      },
      {
       "output_type": "stream",
       "stream": "stderr",
       "text": [
        "WARNING:zscore_logger:After zscore => mean= -1.78174657996e-10, std= 1.00000000015\n"
       ]
      },
      {
       "output_type": "stream",
       "stream": "stderr",
       "text": [
        "WARNING:zscore_logger:\n",
        "Calculating zscore for HHD1\n"
       ]
      },
      {
       "output_type": "stream",
       "stream": "stderr",
       "text": [
        "WARNING:zscore_logger:Before zscore => mean=35.6545298285, std=13.0350597915\n"
       ]
      },
      {
       "output_type": "stream",
       "stream": "stderr",
       "text": [
        "WARNING:zscore_logger:After zscore => mean= 1.29543453726e-08, std= 0.999999973995\n"
       ]
      },
      {
       "output_type": "stream",
       "stream": "stderr",
       "text": [
        "WARNING:zscore_logger:\n",
        "Calculating zscore for HHD2\n"
       ]
      },
      {
       "output_type": "stream",
       "stream": "stderr",
       "text": [
        "WARNING:zscore_logger:Before zscore => mean=71.5038988806, std=15.1367516212\n"
       ]
      },
      {
       "output_type": "stream",
       "stream": "stderr",
       "text": [
        "WARNING:zscore_logger:After zscore => mean= -1.69894772146e-08, std= 0.999999980356\n"
       ]
      },
      {
       "output_type": "stream",
       "stream": "stderr",
       "text": [
        "WARNING:zscore_logger:\n",
        "Calculating zscore for HHD3\n"
       ]
      },
      {
       "output_type": "stream",
       "stream": "stderr",
       "text": [
        "WARNING:zscore_logger:Before zscore => mean=58.7550517755, std=16.2393753122\n"
       ]
      },
      {
       "output_type": "stream",
       "stream": "stderr",
       "text": [
        "WARNING:zscore_logger:After zscore => mean= -6.43524925112e-09, std= 0.999999996679\n"
       ]
      },
      {
       "output_type": "stream",
       "stream": "stderr",
       "text": [
        "WARNING:zscore_logger:\n",
        "Calculating zscore for HHD4\n"
       ]
      },
      {
       "output_type": "stream",
       "stream": "stderr",
       "text": [
        "WARNING:zscore_logger:Before zscore => mean=27.7805517126, std=11.9414621343\n"
       ]
      },
      {
       "output_type": "stream",
       "stream": "stderr",
       "text": [
        "WARNING:zscore_logger:After zscore => mean= 1.26818429436e-09, std= 0.99999999029\n"
       ]
      },
      {
       "output_type": "stream",
       "stream": "stderr",
       "text": [
        "WARNING:zscore_logger:\n",
        "Calculating zscore for HHD5\n"
       ]
      },
      {
       "output_type": "stream",
       "stream": "stderr",
       "text": [
        "WARNING:zscore_logger:Before zscore => mean=81.9259422295, std=14.1065597846\n"
       ]
      },
      {
       "output_type": "stream",
       "stream": "stderr",
       "text": [
        "WARNING:zscore_logger:After zscore => mean= 1.07837588567e-07, std= 0.999999978185\n"
       ]
      },
      {
       "output_type": "stream",
       "stream": "stderr",
       "text": [
        "WARNING:zscore_logger:\n",
        "Calculating zscore for HHD6\n"
       ]
      },
      {
       "output_type": "stream",
       "stream": "stderr",
       "text": [
        "WARNING:zscore_logger:Before zscore => mean=17.2360080493, std=12.0312073774\n"
       ]
      },
      {
       "output_type": "stream",
       "stream": "stderr",
       "text": [
        "WARNING:zscore_logger:After zscore => mean= -2.09302812979e-08, std= 0.999999997722\n"
       ]
      },
      {
       "output_type": "stream",
       "stream": "stderr",
       "text": [
        "WARNING:zscore_logger:\n",
        "Calculating zscore for HHD7\n"
       ]
      },
      {
       "output_type": "stream",
       "stream": "stderr",
       "text": [
        "WARNING:zscore_logger:Before zscore => mean=7.87391523079, std=5.29741295173\n"
       ]
      },
      {
       "output_type": "stream",
       "stream": "stderr",
       "text": [
        "WARNING:zscore_logger:After zscore => mean= -8.0388211211e-09, std= 1.00000001889\n"
       ]
      },
      {
       "output_type": "stream",
       "stream": "stderr",
       "text": [
        "WARNING:zscore_logger:\n",
        "Calculating zscore for HHD8\n"
       ]
      },
      {
       "output_type": "stream",
       "stream": "stderr",
       "text": [
        "WARNING:zscore_logger:Before zscore => mean=1.62375801786, std=1.12389601439\n"
       ]
      },
      {
       "output_type": "stream",
       "stream": "stderr",
       "text": [
        "WARNING:zscore_logger:After zscore => mean= 1.81518048053e-07, std= 0.999999966749\n"
       ]
      },
      {
       "output_type": "stream",
       "stream": "stderr",
       "text": [
        "WARNING:zscore_logger:\n",
        "Calculating zscore for HHD9\n"
       ]
      },
      {
       "output_type": "stream",
       "stream": "stderr",
       "text": [
        "WARNING:zscore_logger:Before zscore => mean=6.24786190416, std=4.68311573895\n"
       ]
      },
      {
       "output_type": "stream",
       "stream": "stderr",
       "text": [
        "WARNING:zscore_logger:After zscore => mean= -1.44918878133e-07, std= 1.00000006415\n"
       ]
      },
      {
       "output_type": "stream",
       "stream": "stderr",
       "text": [
        "WARNING:zscore_logger:\n",
        "Calculating zscore for HHD10\n"
       ]
      },
      {
       "output_type": "stream",
       "stream": "stderr",
       "text": [
        "WARNING:zscore_logger:Before zscore => mean=13.6095983734, std=7.10356737264\n"
       ]
      },
      {
       "output_type": "stream",
       "stream": "stderr",
       "text": [
        "WARNING:zscore_logger:After zscore => mean= 5.40812476503e-08, std= 1.0000000375\n"
       ]
      },
      {
       "output_type": "stream",
       "stream": "stderr",
       "text": [
        "WARNING:zscore_logger:\n",
        "Calculating zscore for HHD11\n"
       ]
      },
      {
       "output_type": "stream",
       "stream": "stderr",
       "text": [
        "WARNING:zscore_logger:Before zscore => mean=18.9109650778, std=9.35594732156\n"
       ]
      },
      {
       "output_type": "stream",
       "stream": "stderr",
       "text": [
        "WARNING:zscore_logger:After zscore => mean= 1.66645704766e-08, std= 0.999999978876\n"
       ]
      },
      {
       "output_type": "stream",
       "stream": "stderr",
       "text": [
        "WARNING:zscore_logger:\n",
        "Calculating zscore for HHD12\n"
       ]
      },
      {
       "output_type": "stream",
       "stream": "stderr",
       "text": [
        "WARNING:zscore_logger:Before zscore => mean=4.82245419863, std=4.12260402383\n"
       ]
      },
      {
       "output_type": "stream",
       "stream": "stderr",
       "text": [
        "WARNING:zscore_logger:After zscore => mean= -5.26558504361e-08, std= 1.00000001202\n"
       ]
      },
      {
       "output_type": "stream",
       "stream": "stderr",
       "text": [
        "WARNING:zscore_logger:\n",
        "Calculating zscore for ETHC1\n"
       ]
      },
      {
       "output_type": "stream",
       "stream": "stderr",
       "text": [
        "WARNING:zscore_logger:Before zscore => mean=16.7533957993, std=6.86220519814\n"
       ]
      },
      {
       "output_type": "stream",
       "stream": "stderr",
       "text": [
        "WARNING:zscore_logger:After zscore => mean= 4.66398356567e-08, std= 0.99999998811\n"
       ]
      },
      {
       "output_type": "stream",
       "stream": "stderr",
       "text": [
        "WARNING:zscore_logger:\n",
        "Calculating zscore for ETHC2\n"
       ]
      },
      {
       "output_type": "stream",
       "stream": "stderr",
       "text": [
        "WARNING:zscore_logger:Before zscore => mean=50.7860960885, std=14.5239024612\n"
       ]
      },
      {
       "output_type": "stream",
       "stream": "stderr",
       "text": [
        "WARNING:zscore_logger:After zscore => mean= 1.32520018448e-07, std= 1.00000002755\n"
       ]
      },
      {
       "output_type": "stream",
       "stream": "stderr",
       "text": [
        "WARNING:zscore_logger:\n",
        "Calculating zscore for ETHC3\n"
       ]
      },
      {
       "output_type": "stream",
       "stream": "stderr",
       "text": [
        "WARNING:zscore_logger:Before zscore => mean=17.3581729761, std=12.2992823336\n"
       ]
      },
      {
       "output_type": "stream",
       "stream": "stderr",
       "text": [
        "WARNING:zscore_logger:After zscore => mean= 4.56965581215e-09, std= 0.999999991349\n"
       ]
      },
      {
       "output_type": "stream",
       "stream": "stderr",
       "text": [
        "WARNING:zscore_logger:\n",
        "Calculating zscore for ETHC4\n"
       ]
      },
      {
       "output_type": "stream",
       "stream": "stderr",
       "text": [
        "WARNING:zscore_logger:Before zscore => mean=1.96365237077, std=4.54773015246\n"
       ]
      },
      {
       "output_type": "stream",
       "stream": "stderr",
       "text": [
        "WARNING:zscore_logger:After zscore => mean= 2.28587599074e-07, std= 0.999999888891\n"
       ]
      },
      {
       "output_type": "stream",
       "stream": "stderr",
       "text": [
        "WARNING:zscore_logger:\n",
        "Calculating zscore for ETHC5\n"
       ]
      },
      {
       "output_type": "stream",
       "stream": "stderr",
       "text": [
        "WARNING:zscore_logger:Before zscore => mean=4.57253804553, std=10.073090762\n"
       ]
      },
      {
       "output_type": "stream",
       "stream": "stderr",
       "text": [
        "WARNING:zscore_logger:After zscore => mean= -9.8635391769e-08, std= 1.00000003755\n"
       ]
      },
      {
       "output_type": "stream",
       "stream": "stderr",
       "text": [
        "WARNING:zscore_logger:\n",
        "Calculating zscore for ETHC6\n"
       ]
      },
      {
       "output_type": "stream",
       "stream": "stderr",
       "text": [
        "WARNING:zscore_logger:Before zscore => mean=0.836152685197, std=2.91961092997\n"
       ]
      },
      {
       "output_type": "stream",
       "stream": "stderr",
       "text": [
        "WARNING:zscore_logger:After zscore => mean= -1.02115037966e-07, std= 1.00000004545\n"
       ]
      },
      {
       "output_type": "stream",
       "stream": "stderr",
       "text": [
        "WARNING:zscore_logger:\n",
        "Calculating zscore for HVP1\n"
       ]
      },
      {
       "output_type": "stream",
       "stream": "stderr",
       "text": [
        "WARNING:zscore_logger:Before zscore => mean=13.5875990441, std=26.6230567521\n"
       ]
      },
      {
       "output_type": "stream",
       "stream": "stderr",
       "text": [
        "WARNING:zscore_logger:After zscore => mean= -1.32237035173e-07, std= 1.00000008077\n"
       ]
      },
      {
       "output_type": "stream",
       "stream": "stderr",
       "text": [
        "WARNING:zscore_logger:\n",
        "Calculating zscore for HVP2\n"
       ]
      },
      {
       "output_type": "stream",
       "stream": "stderr",
       "text": [
        "WARNING:zscore_logger:Before zscore => mean=21.0494487067, std=31.897622635\n"
       ]
      },
      {
       "output_type": "stream",
       "stream": "stderr",
       "text": [
        "WARNING:zscore_logger:After zscore => mean= -1.20005869291e-07, std= 1.00000006436\n"
       ]
      },
      {
       "output_type": "stream",
       "stream": "stderr",
       "text": [
        "WARNING:zscore_logger:\n",
        "Calculating zscore for HVP3\n"
       ]
      },
      {
       "output_type": "stream",
       "stream": "stderr",
       "text": [
        "WARNING:zscore_logger:Before zscore => mean=35.1052278539, std=36.6447153167\n"
       ]
      },
      {
       "output_type": "stream",
       "stream": "stderr",
       "text": [
        "WARNING:zscore_logger:After zscore => mean= -6.84505093496e-08, std= 1.00000005684\n"
       ]
      },
      {
       "output_type": "stream",
       "stream": "stderr",
       "text": [
        "WARNING:zscore_logger:\n",
        "Calculating zscore for HVP4\n"
       ]
      },
      {
       "output_type": "stream",
       "stream": "stderr",
       "text": [
        "WARNING:zscore_logger:Before zscore => mean=51.1743805811, std=36.7450600599\n"
       ]
      },
      {
       "output_type": "stream",
       "stream": "stderr",
       "text": [
        "WARNING:zscore_logger:After zscore => mean= -3.15264327321e-08, std= 0.999999941845\n"
       ]
      },
      {
       "output_type": "stream",
       "stream": "stderr",
       "text": [
        "WARNING:zscore_logger:\n",
        "Calculating zscore for HVP5\n"
       ]
      },
      {
       "output_type": "stream",
       "stream": "stderr",
       "text": [
        "WARNING:zscore_logger:Before zscore => mean=73.9067936947, std=29.5961540756\n"
       ]
      },
      {
       "output_type": "stream",
       "stream": "stderr",
       "text": [
        "WARNING:zscore_logger:After zscore => mean= 6.57150043879e-08, std= 1.000000081\n"
       ]
      },
      {
       "output_type": "stream",
       "stream": "stderr",
       "text": [
        "WARNING:zscore_logger:\n",
        "Calculating zscore for HVP6\n"
       ]
      },
      {
       "output_type": "stream",
       "stream": "stderr",
       "text": [
        "WARNING:zscore_logger:Before zscore => mean=6.4463484677, std=18.0648954239\n"
       ]
      },
      {
       "output_type": "stream",
       "stream": "stderr",
       "text": [
        "WARNING:zscore_logger:After zscore => mean= -3.38951075348e-08, std= 1.00000000496\n"
       ]
      },
      {
       "output_type": "stream",
       "stream": "stderr",
       "text": [
        "WARNING:zscore_logger:\n",
        "Calculating zscore for HUR1\n"
       ]
      },
      {
       "output_type": "stream",
       "stream": "stderr",
       "text": [
        "WARNING:zscore_logger:Before zscore => mean=4.85428457636, std=7.54546863296\n"
       ]
      },
      {
       "output_type": "stream",
       "stream": "stderr",
       "text": [
        "WARNING:zscore_logger:After zscore => mean= -3.43353037124e-08, std= 1.00000004654\n"
       ]
      },
      {
       "output_type": "stream",
       "stream": "stderr",
       "text": [
        "WARNING:zscore_logger:\n",
        "Calculating zscore for HUR2\n"
       ]
      },
      {
       "output_type": "stream",
       "stream": "stderr",
       "text": [
        "WARNING:zscore_logger:Before zscore => mean=45.7481972917, std=21.4389112004\n"
       ]
      },
      {
       "output_type": "stream",
       "stream": "stderr",
       "text": [
        "WARNING:zscore_logger:After zscore => mean= -5.17754579932e-09, std= 0.999999995983\n"
       ]
      },
      {
       "output_type": "stream",
       "stream": "stderr",
       "text": [
        "WARNING:zscore_logger:\n",
        "Calculating zscore for RHP1\n"
       ]
      },
      {
       "output_type": "stream",
       "stream": "stderr",
       "text": [
        "WARNING:zscore_logger:Before zscore => mean=52.9352806775, std=10.7349102991\n"
       ]
      },
      {
       "output_type": "stream",
       "stream": "stderr",
       "text": [
        "WARNING:zscore_logger:After zscore => mean= 1.1938749843e-07, std= 0.999999897787\n"
       ]
      },
      {
       "output_type": "stream",
       "stream": "stderr",
       "text": [
        "WARNING:zscore_logger:\n",
        "Calculating zscore for RHP2\n"
       ]
      },
      {
       "output_type": "stream",
       "stream": "stderr",
       "text": [
        "WARNING:zscore_logger:Before zscore => mean=53.7692743051, std=10.4147823\n"
       ]
      },
      {
       "output_type": "stream",
       "stream": "stderr",
       "text": [
        "WARNING:zscore_logger:After zscore => mean= 1.4306376551e-08, std= 0.999999984433\n"
       ]
      },
      {
       "output_type": "stream",
       "stream": "stderr",
       "text": [
        "WARNING:zscore_logger:\n",
        "Calculating zscore for RHP3\n"
       ]
      },
      {
       "output_type": "stream",
       "stream": "stderr",
       "text": [
        "WARNING:zscore_logger:Before zscore => mean=14.1363350522, std=2.5598301372\n"
       ]
      },
      {
       "output_type": "stream",
       "stream": "stderr",
       "text": [
        "WARNING:zscore_logger:After zscore => mean= 2.05508741043e-07, std= 0.999999876969\n"
       ]
      },
      {
       "output_type": "stream",
       "stream": "stderr",
       "text": [
        "WARNING:zscore_logger:\n",
        "Calculating zscore for RHP4\n"
       ]
      },
      {
       "output_type": "stream",
       "stream": "stderr",
       "text": [
        "WARNING:zscore_logger:Before zscore => mean=4.39216241144, std=1.18295044723\n"
       ]
      },
      {
       "output_type": "stream",
       "stream": "stderr",
       "text": [
        "WARNING:zscore_logger:After zscore => mean= 1.39793736611e-07, std= 1.00000004872\n"
       ]
      },
      {
       "output_type": "stream",
       "stream": "stderr",
       "text": [
        "WARNING:zscore_logger:\n",
        "Calculating zscore for HUPA1\n"
       ]
      },
      {
       "output_type": "stream",
       "stream": "stderr",
       "text": [
        "WARNING:zscore_logger:Before zscore => mean=10.1542992496, std=12.7903342728\n"
       ]
      },
      {
       "output_type": "stream",
       "stream": "stderr",
       "text": [
        "WARNING:zscore_logger:After zscore => mean= -1.259799607e-08, std= 0.99999997915\n"
       ]
      },
      {
       "output_type": "stream",
       "stream": "stderr",
       "text": [
        "WARNING:zscore_logger:\n",
        "Calculating zscore for HUPA2\n"
       ]
      },
      {
       "output_type": "stream",
       "stream": "stderr",
       "text": [
        "WARNING:zscore_logger:Before zscore => mean=9.31399614304, std=17.1094301149\n"
       ]
      },
      {
       "output_type": "stream",
       "stream": "stderr",
       "text": [
        "WARNING:zscore_logger:After zscore => mean= -5.37144174827e-08, std= 1.00000001707\n"
       ]
      },
      {
       "output_type": "stream",
       "stream": "stderr",
       "text": [
        "WARNING:zscore_logger:\n",
        "Calculating zscore for HUPA3\n"
       ]
      },
      {
       "output_type": "stream",
       "stream": "stderr",
       "text": [
        "WARNING:zscore_logger:Before zscore => mean=8.55086362302, std=14.4033816083\n"
       ]
      },
      {
       "output_type": "stream",
       "stream": "stderr",
       "text": [
        "WARNING:zscore_logger:After zscore => mean= -1.88383012596e-07, std= 1.00000012138\n"
       ]
      },
      {
       "output_type": "stream",
       "stream": "stderr",
       "text": [
        "WARNING:zscore_logger:\n",
        "Calculating zscore for HUPA4\n"
       ]
      },
      {
       "output_type": "stream",
       "stream": "stderr",
       "text": [
        "WARNING:zscore_logger:Before zscore => mean=11.1587012116, std=7.79542580153\n"
       ]
      },
      {
       "output_type": "stream",
       "stream": "stderr",
       "text": [
        "WARNING:zscore_logger:After zscore => mean= 6.26755544231e-09, std= 0.999999982056\n"
       ]
      },
      {
       "output_type": "stream",
       "stream": "stderr",
       "text": [
        "WARNING:zscore_logger:\n",
        "Calculating zscore for HUPA5\n"
       ]
      },
      {
       "output_type": "stream",
       "stream": "stderr",
       "text": [
        "WARNING:zscore_logger:Before zscore => mean=5.21987800277, std=7.45975509232\n"
       ]
      },
      {
       "output_type": "stream",
       "stream": "stderr",
       "text": [
        "WARNING:zscore_logger:After zscore => mean= -1.78373789476e-07, std= 1.00000010266\n"
       ]
      },
      {
       "output_type": "stream",
       "stream": "stderr",
       "text": [
        "WARNING:zscore_logger:\n",
        "Calculating zscore for HUPA6\n"
       ]
      },
      {
       "output_type": "stream",
       "stream": "stderr",
       "text": [
        "WARNING:zscore_logger:Before zscore => mean=11.0053557205, std=17.8080229136\n"
       ]
      },
      {
       "output_type": "stream",
       "stream": "stderr",
       "text": [
        "WARNING:zscore_logger:After zscore => mean= -2.24290445662e-08, std= 1.00000001743\n"
       ]
      },
      {
       "output_type": "stream",
       "stream": "stderr",
       "text": [
        "WARNING:zscore_logger:\n",
        "Calculating zscore for HUPA7\n"
       ]
      },
      {
       "output_type": "stream",
       "stream": "stderr",
       "text": [
        "WARNING:zscore_logger:Before zscore => mean=1.61260638075, std=3.02173939706\n"
       ]
      },
      {
       "output_type": "stream",
       "stream": "stderr",
       "text": [
        "WARNING:zscore_logger:After zscore => mean= 1.31230872386e-07, std= 0.999999929409\n"
       ]
      },
      {
       "output_type": "stream",
       "stream": "stderr",
       "text": [
        "WARNING:zscore_logger:\n",
        "Calculating zscore for RP1\n"
       ]
      },
      {
       "output_type": "stream",
       "stream": "stderr",
       "text": [
        "WARNING:zscore_logger:Before zscore => mean=29.1411038444, std=32.1951448737\n"
       ]
      },
      {
       "output_type": "stream",
       "stream": "stderr",
       "text": [
        "WARNING:zscore_logger:After zscore => mean= -5.99295685951e-08, std= 1.00000006165\n"
       ]
      },
      {
       "output_type": "stream",
       "stream": "stderr",
       "text": [
        "WARNING:zscore_logger:\n",
        "Calculating zscore for RP2\n"
       ]
      },
      {
       "output_type": "stream",
       "stream": "stderr",
       "text": [
        "WARNING:zscore_logger:Before zscore => mean=42.366379491, std=34.9308402767\n"
       ]
      },
      {
       "output_type": "stream",
       "stream": "stderr",
       "text": [
        "WARNING:zscore_logger:After zscore => mean= -2.87930239384e-07, std= 1.00000009544\n"
       ]
      },
      {
       "output_type": "stream",
       "stream": "stderr",
       "text": [
        "WARNING:zscore_logger:\n",
        "Calculating zscore for RP3\n"
       ]
      },
      {
       "output_type": "stream",
       "stream": "stderr",
       "text": [
        "WARNING:zscore_logger:Before zscore => mean=59.681979206, std=32.8938737612\n"
       ]
      },
      {
       "output_type": "stream",
       "stream": "stderr",
       "text": [
        "WARNING:zscore_logger:After zscore => mean= -1.29857879497e-08, std= 0.999999981503\n"
       ]
      },
      {
       "output_type": "stream",
       "stream": "stderr",
       "text": [
        "WARNING:zscore_logger:\n",
        "Calculating zscore for RP4\n"
       ]
      },
      {
       "output_type": "stream",
       "stream": "stderr",
       "text": [
        "WARNING:zscore_logger:Before zscore => mean=76.5225652958, std=24.2758517956\n"
       ]
      },
      {
       "output_type": "stream",
       "stream": "stderr",
       "text": [
        "WARNING:zscore_logger:After zscore => mean= -8.22328428308e-08, std= 0.999999950415\n"
       ]
      },
      {
       "output_type": "stream",
       "stream": "stderr",
       "text": [
        "WARNING:zscore_logger:\n",
        "Calculating zscore for MSA\n"
       ]
      },
      {
       "output_type": "stream",
       "stream": "stderr",
       "text": [
        "WARNING:zscore_logger:Before zscore => mean=3527.7441016, std=2863.90473676\n"
       ]
      },
      {
       "output_type": "stream",
       "stream": "stderr",
       "text": [
        "WARNING:zscore_logger:After zscore => mean= 8.09298908546e-08, std= 0.999999916747\n"
       ]
      },
      {
       "output_type": "stream",
       "stream": "stderr",
       "text": [
        "WARNING:zscore_logger:\n",
        "Calculating zscore for ADI\n"
       ]
      },
      {
       "output_type": "stream",
       "stream": "stderr",
       "text": [
        "WARNING:zscore_logger:Before zscore => mean=187.356402183, std=137.019183892\n"
       ]
      },
      {
       "output_type": "stream",
       "stream": "stderr",
       "text": [
        "WARNING:zscore_logger:After zscore => mean= 3.86439966309e-08, std= 0.999999980161\n"
       ]
      },
      {
       "output_type": "stream",
       "stream": "stderr",
       "text": [
        "WARNING:zscore_logger:\n",
        "Calculating zscore for DMA\n"
       ]
      },
      {
       "output_type": "stream",
       "stream": "stderr",
       "text": [
        "WARNING:zscore_logger:Before zscore => mean=664.004072208, std=116.363600224\n"
       ]
      },
      {
       "output_type": "stream",
       "stream": "stderr",
       "text": [
        "WARNING:zscore_logger:After zscore => mean= 1.54911838787e-08, std= 1.00000006094\n"
       ]
      },
      {
       "output_type": "stream",
       "stream": "stderr",
       "text": [
        "WARNING:zscore_logger:\n",
        "Calculating zscore for IC1\n"
       ]
      },
      {
       "output_type": "stream",
       "stream": "stderr",
       "text": [
        "WARNING:zscore_logger:Before zscore => mean=340.056387037, std=162.883283122\n"
       ]
      },
      {
       "output_type": "stream",
       "stream": "stderr",
       "text": [
        "WARNING:zscore_logger:After zscore => mean= 6.54005785185e-09, std= 0.999999992994\n"
       ]
      },
      {
       "output_type": "stream",
       "stream": "stderr",
       "text": [
        "WARNING:zscore_logger:\n",
        "Calculating zscore for IC2\n"
       ]
      },
      {
       "output_type": "stream",
       "stream": "stderr",
       "text": [
        "WARNING:zscore_logger:Before zscore => mean=387.02711399, std=173.61462711\n"
       ]
      },
      {
       "output_type": "stream",
       "stream": "stderr",
       "text": [
        "WARNING:zscore_logger:After zscore => mean= -1.14241395028e-09, std= 0.999999997461\n"
       ]
      },
      {
       "output_type": "stream",
       "stream": "stderr",
       "text": [
        "WARNING:zscore_logger:\n",
        "Calculating zscore for IC3\n"
       ]
      },
      {
       "output_type": "stream",
       "stream": "stderr",
       "text": [
        "WARNING:zscore_logger:Before zscore => mean=387.418301681, std=161.270738006\n"
       ]
      },
      {
       "output_type": "stream",
       "stream": "stderr",
       "text": [
        "WARNING:zscore_logger:After zscore => mean= 1.77126567037e-09, std= 1.00000000035\n"
       ]
      },
      {
       "output_type": "stream",
       "stream": "stderr",
       "text": [
        "WARNING:zscore_logger:\n",
        "Calculating zscore for IC4\n"
       ]
      },
      {
       "output_type": "stream",
       "stream": "stderr",
       "text": [
        "WARNING:zscore_logger:Before zscore => mean=430.792961053, std=171.643318997\n"
       ]
      },
      {
       "output_type": "stream",
       "stream": "stderr",
       "text": [
        "WARNING:zscore_logger:After zscore => mean= -8.7200771423e-09, std= 1.00000000092\n"
       ]
      },
      {
       "output_type": "stream",
       "stream": "stderr",
       "text": [
        "WARNING:zscore_logger:\n",
        "Calculating zscore for IC5\n"
       ]
      },
      {
       "output_type": "stream",
       "stream": "stderr",
       "text": [
        "WARNING:zscore_logger:Before zscore => mean=15722.73823, std=8563.6467759\n"
       ]
      },
      {
       "output_type": "stream",
       "stream": "stderr",
       "text": [
        "WARNING:zscore_logger:After zscore => mean= 3.51108875127e-09, std= 0.999999995632\n"
       ]
      },
      {
       "output_type": "stream",
       "stream": "stderr",
       "text": [
        "WARNING:zscore_logger:\n",
        "Calculating zscore for IC6\n"
       ]
      },
      {
       "output_type": "stream",
       "stream": "stderr",
       "text": [
        "WARNING:zscore_logger:Before zscore => mean=21.4979352702, std=14.5105977542\n"
       ]
      },
      {
       "output_type": "stream",
       "stream": "stderr",
       "text": [
        "WARNING:zscore_logger:After zscore => mean= -8.3742086988e-09, std= 0.999999990923\n"
       ]
      },
      {
       "output_type": "stream",
       "stream": "stderr",
       "text": [
        "WARNING:zscore_logger:\n",
        "Calculating zscore for IC7\n"
       ]
      },
      {
       "output_type": "stream",
       "stream": "stderr",
       "text": [
        "WARNING:zscore_logger:Before zscore => mean=16.9079780321, std=7.9594103771\n"
       ]
      },
      {
       "output_type": "stream",
       "stream": "stderr",
       "text": [
        "WARNING:zscore_logger:After zscore => mean= 2.07101832104e-08, std= 1.00000000313\n"
       ]
      },
      {
       "output_type": "stream",
       "stream": "stderr",
       "text": [
        "WARNING:zscore_logger:\n",
        "Calculating zscore for IC8\n"
       ]
      },
      {
       "output_type": "stream",
       "stream": "stderr",
       "text": [
        "WARNING:zscore_logger:Before zscore => mean=15.7473797845, std=6.27843676589\n"
       ]
      },
      {
       "output_type": "stream",
       "stream": "stderr",
       "text": [
        "WARNING:zscore_logger:After zscore => mean= -1.57841780822e-08, std= 0.999999973538\n"
       ]
      },
      {
       "output_type": "stream",
       "stream": "stderr",
       "text": [
        "WARNING:zscore_logger:\n",
        "Calculating zscore for IC9\n"
       ]
      },
      {
       "output_type": "stream",
       "stream": "stderr",
       "text": [
        "WARNING:zscore_logger:Before zscore => mean=18.3375990441, std=7.43805588326\n"
       ]
      },
      {
       "output_type": "stream",
       "stream": "stderr",
       "text": [
        "WARNING:zscore_logger:After zscore => mean= 1.31220391588e-08, std= 0.999999991155\n"
       ]
      },
      {
       "output_type": "stream",
       "stream": "stderr",
       "text": [
        "WARNING:zscore_logger:\n",
        "Calculating zscore for IC10\n"
       ]
      },
      {
       "output_type": "stream",
       "stream": "stderr",
       "text": [
        "WARNING:zscore_logger:Before zscore => mean=15.9514631283, std=9.6860033343\n"
       ]
      },
      {
       "output_type": "stream",
       "stream": "stderr",
       "text": [
        "WARNING:zscore_logger:After zscore => mean= -6.08938079705e-09, std= 1.00000002859\n"
       ]
      },
      {
       "output_type": "stream",
       "stream": "stderr",
       "text": [
        "WARNING:zscore_logger:\n",
        "Calculating zscore for IC11\n"
       ]
      },
      {
       "output_type": "stream",
       "stream": "stderr",
       "text": [
        "WARNING:zscore_logger:Before zscore => mean=5.58624701295, std=5.83532105634\n"
       ]
      },
      {
       "output_type": "stream",
       "stream": "stderr",
       "text": [
        "WARNING:zscore_logger:After zscore => mean= -1.02817255606e-08, std= 1.00000001183\n"
       ]
      },
      {
       "output_type": "stream",
       "stream": "stderr",
       "text": [
        "WARNING:zscore_logger:\n",
        "Calculating zscore for IC12\n"
       ]
      },
      {
       "output_type": "stream",
       "stream": "stderr",
       "text": [
        "WARNING:zscore_logger:Before zscore => mean=2.21189158596, std=3.34628930825\n"
       ]
      },
      {
       "output_type": "stream",
       "stream": "stderr",
       "text": [
        "WARNING:zscore_logger:After zscore => mean= 1.59707374319e-07, std= 0.99999993828\n"
       ]
      },
      {
       "output_type": "stream",
       "stream": "stderr",
       "text": [
        "WARNING:zscore_logger:\n",
        "Calculating zscore for IC13\n"
       ]
      },
      {
       "output_type": "stream",
       "stream": "stderr",
       "text": [
        "WARNING:zscore_logger:Before zscore => mean=0.935699911961, std=1.92314010947\n"
       ]
      },
      {
       "output_type": "stream",
       "stream": "stderr",
       "text": [
        "WARNING:zscore_logger:After zscore => mean= 2.1768750275e-08, std= 1.00000004689\n"
       ]
      },
      {
       "output_type": "stream",
       "stream": "stderr",
       "text": [
        "WARNING:zscore_logger:\n",
        "Calculating zscore for IC14\n"
       ]
      },
      {
       "output_type": "stream",
       "stream": "stderr",
       "text": [
        "WARNING:zscore_logger:Before zscore => mean=1.88858843751, std=4.64073974121\n"
       ]
      },
      {
       "output_type": "stream",
       "stream": "stderr",
       "text": [
        "WARNING:zscore_logger:After zscore => mean= 1.65125979967e-07, std= 0.999999896962\n"
       ]
      },
      {
       "output_type": "stream",
       "stream": "stderr",
       "text": [
        "WARNING:zscore_logger:\n",
        "Calculating zscore for IC15\n"
       ]
      },
      {
       "output_type": "stream",
       "stream": "stderr",
       "text": [
        "WARNING:zscore_logger:Before zscore => mean=14.7955603069, std=12.3411350726\n"
       ]
      },
      {
       "output_type": "stream",
       "stream": "stderr",
       "text": [
        "WARNING:zscore_logger:After zscore => mean= -3.19456672129e-08, std= 1.00000002445\n"
       ]
      },
      {
       "output_type": "stream",
       "stream": "stderr",
       "text": [
        "WARNING:zscore_logger:\n",
        "Calculating zscore for IC16\n"
       ]
      },
      {
       "output_type": "stream",
       "stream": "stderr",
       "text": [
        "WARNING:zscore_logger:Before zscore => mean=15.9254915524, std=9.17084991459\n"
       ]
      },
      {
       "output_type": "stream",
       "stream": "stderr",
       "text": [
        "WARNING:zscore_logger:After zscore => mean= -9.64239299398e-09, std= 1.00000001449\n"
       ]
      },
      {
       "output_type": "stream",
       "stream": "stderr",
       "text": [
        "WARNING:zscore_logger:\n",
        "Calculating zscore for IC17\n"
       ]
      },
      {
       "output_type": "stream",
       "stream": "stderr",
       "text": [
        "WARNING:zscore_logger:Before zscore => mean=16.4338657611, std=7.64064734225\n"
       ]
      },
      {
       "output_type": "stream",
       "stream": "stderr",
       "text": [
        "WARNING:zscore_logger:After zscore => mean= -2.35085733533e-08, std= 1.00000007418\n"
       ]
      },
      {
       "output_type": "stream",
       "stream": "stderr",
       "text": [
        "WARNING:zscore_logger:\n",
        "Calculating zscore for IC18\n"
       ]
      },
      {
       "output_type": "stream",
       "stream": "stderr",
       "text": [
        "WARNING:zscore_logger:Before zscore => mean=20.6132457133, std=8.47272459599\n"
       ]
      },
      {
       "output_type": "stream",
       "stream": "stderr",
       "text": [
        "WARNING:zscore_logger:After zscore => mean= -1.86873768425e-08, std= 1.00000000533\n"
       ]
      },
      {
       "output_type": "stream",
       "stream": "stderr",
       "text": [
        "WARNING:zscore_logger:\n",
        "Calculating zscore for IC19\n"
       ]
      },
      {
       "output_type": "stream",
       "stream": "stderr",
       "text": [
        "WARNING:zscore_logger:Before zscore => mean=18.6659120446, std=10.6442129632\n"
       ]
      },
      {
       "output_type": "stream",
       "stream": "stderr",
       "text": [
        "WARNING:zscore_logger:After zscore => mean= -7.66151008082e-09, std= 1.00000003545\n"
       ]
      },
      {
       "output_type": "stream",
       "stream": "stderr",
       "text": [
        "WARNING:zscore_logger:\n",
        "Calculating zscore for IC20\n"
       ]
      },
      {
       "output_type": "stream",
       "stream": "stderr",
       "text": [
        "WARNING:zscore_logger:Before zscore => mean=6.58441286211, std=6.66617633561\n"
       ]
      },
      {
       "output_type": "stream",
       "stream": "stderr",
       "text": [
        "WARNING:zscore_logger:After zscore => mean= 2.63488869277e-08, std= 1.00000008428\n"
       ]
      },
      {
       "output_type": "stream",
       "stream": "stderr",
       "text": [
        "WARNING:zscore_logger:\n",
        "Calculating zscore for IC21\n"
       ]
      },
      {
       "output_type": "stream",
       "stream": "stderr",
       "text": [
        "WARNING:zscore_logger:Before zscore => mean=2.60261811931, std=3.9071942704\n"
       ]
      },
      {
       "output_type": "stream",
       "stream": "stderr",
       "text": [
        "WARNING:zscore_logger:After zscore => mean= 6.757011699e-08, std= 0.999999927372\n"
       ]
      },
      {
       "output_type": "stream",
       "stream": "stderr",
       "text": [
        "WARNING:zscore_logger:\n",
        "Calculating zscore for IC22\n"
       ]
      },
      {
       "output_type": "stream",
       "stream": "stderr",
       "text": [
        "WARNING:zscore_logger:Before zscore => mean=1.1226994508, std=2.32172598768\n"
       ]
      },
      {
       "output_type": "stream",
       "stream": "stderr",
       "text": [
        "WARNING:zscore_logger:After zscore => mean= 3.71944828736e-07, std= 0.999999897007\n"
       ]
      },
      {
       "output_type": "stream",
       "stream": "stderr",
       "text": [
        "WARNING:zscore_logger:\n",
        "Calculating zscore for IC23\n"
       ]
      },
      {
       "output_type": "stream",
       "stream": "stderr",
       "text": [
        "WARNING:zscore_logger:Before zscore => mean=2.28186182032, std=5.53129683519\n"
       ]
      },
      {
       "output_type": "stream",
       "stream": "stderr",
       "text": [
        "WARNING:zscore_logger:After zscore => mean= 2.68896994067e-07, std= 0.999999898562\n"
       ]
      },
      {
       "output_type": "stream",
       "stream": "stderr",
       "text": [
        "WARNING:zscore_logger:\n",
        "Calculating zscore for HHAS1\n"
       ]
      },
      {
       "output_type": "stream",
       "stream": "stderr",
       "text": [
        "WARNING:zscore_logger:Before zscore => mean=26.7633526181, std=13.8648837576\n"
       ]
      },
      {
       "output_type": "stream",
       "stream": "stderr",
       "text": [
        "WARNING:zscore_logger:After zscore => mean= -5.17754580468e-09, std= 0.999999983903\n"
       ]
      },
      {
       "output_type": "stream",
       "stream": "stderr",
       "text": [
        "WARNING:zscore_logger:\n",
        "Calculating zscore for HHAS2\n"
       ]
      },
      {
       "output_type": "stream",
       "stream": "stderr",
       "text": [
        "WARNING:zscore_logger:Before zscore => mean=6.10250282983, std=6.21559423245\n"
       ]
      },
      {
       "output_type": "stream",
       "stream": "stderr",
       "text": [
        "WARNING:zscore_logger:After zscore => mean= -7.51372992814e-08, std= 0.999999997207\n"
       ]
      },
      {
       "output_type": "stream",
       "stream": "stderr",
       "text": [
        "WARNING:zscore_logger:\n",
        "Calculating zscore for HHAS3\n"
       ]
      },
      {
       "output_type": "stream",
       "stream": "stderr",
       "text": [
        "WARNING:zscore_logger:Before zscore => mean=42.9629711147, std=17.054347343\n"
       ]
      },
      {
       "output_type": "stream",
       "stream": "stderr",
       "text": [
        "WARNING:zscore_logger:After zscore => mean= -3.11281599471e-09, std= 1.00000000505\n"
       ]
      },
      {
       "output_type": "stream",
       "stream": "stderr",
       "text": [
        "WARNING:zscore_logger:\n",
        "Calculating zscore for HHAS4\n"
       ]
      },
      {
       "output_type": "stream",
       "stream": "stderr",
       "text": [
        "WARNING:zscore_logger:Before zscore => mean=10.7409026118, std=9.96740863642\n"
       ]
      },
      {
       "output_type": "stream",
       "stream": "stderr",
       "text": [
        "WARNING:zscore_logger:After zscore => mean= 5.8420324483e-08, std= 0.999999830149\n"
       ]
      },
      {
       "output_type": "stream",
       "stream": "stderr",
       "text": [
        "WARNING:zscore_logger:\n",
        "Calculating zscore for MC1\n"
       ]
      },
      {
       "output_type": "stream",
       "stream": "stderr",
       "text": [
        "WARNING:zscore_logger:Before zscore => mean=48.361977529, std=15.9765353476\n"
       ]
      },
      {
       "output_type": "stream",
       "stream": "stderr",
       "text": [
        "WARNING:zscore_logger:After zscore => mean= -4.89456252924e-09, std= 1.00000000676\n"
       ]
      },
      {
       "output_type": "stream",
       "stream": "stderr",
       "text": [
        "WARNING:zscore_logger:\n",
        "Calculating zscore for MC2\n"
       ]
      },
      {
       "output_type": "stream",
       "stream": "stderr",
       "text": [
        "WARNING:zscore_logger:Before zscore => mean=50.746887184, std=16.0446068455\n"
       ]
      },
      {
       "output_type": "stream",
       "stream": "stderr",
       "text": [
        "WARNING:zscore_logger:After zscore => mean= -8.20651491114e-09, std= 1.00000000453\n"
       ]
      },
      {
       "output_type": "stream",
       "stream": "stderr",
       "text": [
        "WARNING:zscore_logger:\n",
        "Calculating zscore for MC3\n"
       ]
      },
      {
       "output_type": "stream",
       "stream": "stderr",
       "text": [
        "WARNING:zscore_logger:Before zscore => mean=12.2761811931, std=10.2551395831\n"
       ]
      },
      {
       "output_type": "stream",
       "stream": "stderr",
       "text": [
        "WARNING:zscore_logger:After zscore => mean= -1.39395463598e-09, std= 1.00000001508\n"
       ]
      },
      {
       "output_type": "stream",
       "stream": "stderr",
       "text": [
        "WARNING:zscore_logger:\n",
        "Calculating zscore for TPE1\n"
       ]
      },
      {
       "output_type": "stream",
       "stream": "stderr",
       "text": [
        "WARNING:zscore_logger:Before zscore => mean=76.0955959418, std=13.2896589359\n"
       ]
      },
      {
       "output_type": "stream",
       "stream": "stderr",
       "text": [
        "WARNING:zscore_logger:After zscore => mean= 3.92613088287e-08, std= 0.999999991279\n"
       ]
      },
      {
       "output_type": "stream",
       "stream": "stderr",
       "text": [
        "WARNING:zscore_logger:\n",
        "Calculating zscore for TPE2\n"
       ]
      },
      {
       "output_type": "stream",
       "stream": "stderr",
       "text": [
        "WARNING:zscore_logger:Before zscore => mean=12.997495074, std=6.69776312122\n"
       ]
      },
      {
       "output_type": "stream",
       "stream": "stderr",
       "text": [
        "WARNING:zscore_logger:After zscore => mean= 2.09617228264e-10, std= 1.0000000098\n"
       ]
      },
      {
       "output_type": "stream",
       "stream": "stderr",
       "text": [
        "WARNING:zscore_logger:\n",
        "Calculating zscore for TPE3\n"
       ]
      },
      {
       "output_type": "stream",
       "stream": "stderr",
       "text": [
        "WARNING:zscore_logger:Before zscore => mean=2.39892256739, std=5.59096714704\n"
       ]
      },
      {
       "output_type": "stream",
       "stream": "stderr",
       "text": [
        "WARNING:zscore_logger:After zscore => mean= 1.43734540721e-07, std= 0.999999961849\n"
       ]
      },
      {
       "output_type": "stream",
       "stream": "stderr",
       "text": [
        "WARNING:zscore_logger:\n",
        "Calculating zscore for TPE4\n"
       ]
      },
      {
       "output_type": "stream",
       "stream": "stderr",
       "text": [
        "WARNING:zscore_logger:Before zscore => mean=1.83242149834, std=4.57751671746\n"
       ]
      },
      {
       "output_type": "stream",
       "stream": "stderr",
       "text": [
        "WARNING:zscore_logger:After zscore => mean= 2.46195446951e-08, std= 0.999999970121\n"
       ]
      },
      {
       "output_type": "stream",
       "stream": "stderr",
       "text": [
        "WARNING:zscore_logger:\n",
        "Calculating zscore for TPE5\n"
       ]
      },
      {
       "output_type": "stream",
       "stream": "stderr",
       "text": [
        "WARNING:zscore_logger:Before zscore => mean=0.454806523288, std=2.1979049179\n"
       ]
      },
      {
       "output_type": "stream",
       "stream": "stderr",
       "text": [
        "WARNING:zscore_logger:After zscore => mean= 2.61120194515e-07, std= 0.999999941739\n"
       ]
      },
      {
       "output_type": "stream",
       "stream": "stderr",
       "text": [
        "WARNING:zscore_logger:\n",
        "Calculating zscore for TPE6\n"
       ]
      },
      {
       "output_type": "stream",
       "stream": "stderr",
       "text": [
        "WARNING:zscore_logger:Before zscore => mean=0.10189493984, std=0.734757328436\n"
       ]
      },
      {
       "output_type": "stream",
       "stream": "stderr",
       "text": [
        "WARNING:zscore_logger:After zscore => mean= 3.33165639535e-07, std= 0.999999941638\n"
       ]
      },
      {
       "output_type": "stream",
       "stream": "stderr",
       "text": [
        "WARNING:zscore_logger:\n",
        "Calculating zscore for TPE7\n"
       ]
      },
      {
       "output_type": "stream",
       "stream": "stderr",
       "text": [
        "WARNING:zscore_logger:Before zscore => mean=0.239047499266, std=0.695511843653\n"
       ]
      },
      {
       "output_type": "stream",
       "stream": "stderr",
       "text": [
        "WARNING:zscore_logger:After zscore => mean= 1.04033035636e-07, std= 0.999999975684\n"
       ]
      },
      {
       "output_type": "stream",
       "stream": "stderr",
       "text": [
        "WARNING:zscore_logger:\n",
        "Calculating zscore for TPE8\n"
       ]
      },
      {
       "output_type": "stream",
       "stream": "stderr",
       "text": [
        "WARNING:zscore_logger:Before zscore => mean=4.07133274641, std=5.49278794483\n"
       ]
      },
      {
       "output_type": "stream",
       "stream": "stderr",
       "text": [
        "WARNING:zscore_logger:After zscore => mean= 3.97539093515e-08, std= 0.99999992126\n"
       ]
      },
      {
       "output_type": "stream",
       "stream": "stderr",
       "text": [
        "WARNING:zscore_logger:\n",
        "Calculating zscore for TPE9\n"
       ]
      },
      {
       "output_type": "stream",
       "stream": "stderr",
       "text": [
        "WARNING:zscore_logger:Before zscore => mean=3.25396176582, std=3.68782013109\n"
       ]
      },
      {
       "output_type": "stream",
       "stream": "stderr",
       "text": [
        "WARNING:zscore_logger:After zscore => mean= -6.35454659867e-08, std= 1.00000006985\n"
       ]
      },
      {
       "output_type": "stream",
       "stream": "stderr",
       "text": [
        "WARNING:zscore_logger:\n",
        "Calculating zscore for PEC1\n"
       ]
      },
      {
       "output_type": "stream",
       "stream": "stderr",
       "text": [
        "WARNING:zscore_logger:Before zscore => mean=2.26758688635, std=6.23567500422\n"
       ]
      },
      {
       "output_type": "stream",
       "stream": "stderr",
       "text": [
        "WARNING:zscore_logger:After zscore => mean= 1.49478053083e-07, std= 0.999999936742\n"
       ]
      },
      {
       "output_type": "stream",
       "stream": "stderr",
       "text": [
        "WARNING:zscore_logger:\n",
        "Calculating zscore for PEC2\n"
       ]
      },
      {
       "output_type": "stream",
       "stream": "stderr",
       "text": [
        "WARNING:zscore_logger:Before zscore => mean=18.2998469794, std=19.0575800721\n"
       ]
      },
      {
       "output_type": "stream",
       "stream": "stderr",
       "text": [
        "WARNING:zscore_logger:After zscore => mean= -2.62964826243e-08, std= 1.00000001808\n"
       ]
      },
      {
       "output_type": "stream",
       "stream": "stderr",
       "text": [
        "WARNING:zscore_logger:\n",
        "Calculating zscore for TPE10\n"
       ]
      },
      {
       "output_type": "stream",
       "stream": "stderr",
       "text": [
        "WARNING:zscore_logger:Before zscore => mean=19.4803798264, std=6.77279650207\n"
       ]
      },
      {
       "output_type": "stream",
       "stream": "stderr",
       "text": [
        "WARNING:zscore_logger:After zscore => mean= 9.76711524907e-08, std= 1.00000000951\n"
       ]
      },
      {
       "output_type": "stream",
       "stream": "stderr",
       "text": [
        "WARNING:zscore_logger:\n",
        "Calculating zscore for TPE11\n"
       ]
      },
      {
       "output_type": "stream",
       "stream": "stderr",
       "text": [
        "WARNING:zscore_logger:Before zscore => mean=23.7236720748, std=6.63008997162\n"
       ]
      },
      {
       "output_type": "stream",
       "stream": "stderr",
       "text": [
        "WARNING:zscore_logger:After zscore => mean= -7.59443256673e-08, std= 0.999999985532\n"
       ]
      },
      {
       "output_type": "stream",
       "stream": "stderr",
       "text": [
        "WARNING:zscore_logger:\n",
        "Calculating zscore for TPE12\n"
       ]
      },
      {
       "output_type": "stream",
       "stream": "stderr",
       "text": [
        "WARNING:zscore_logger:Before zscore => mean=5.3063241521, std=5.3431317464\n"
       ]
      },
      {
       "output_type": "stream",
       "stream": "stderr",
       "text": [
        "WARNING:zscore_logger:After zscore => mean= -2.50492601227e-09, std= 0.999999987901\n"
       ]
      },
      {
       "output_type": "stream",
       "stream": "stderr",
       "text": [
        "WARNING:zscore_logger:\n",
        "Calculating zscore for TPE13\n"
       ]
      },
      {
       "output_type": "stream",
       "stream": "stderr",
       "text": [
        "WARNING:zscore_logger:Before zscore => mean=60.0420072947, std=17.401412246\n"
       ]
      },
      {
       "output_type": "stream",
       "stream": "stderr",
       "text": [
        "WARNING:zscore_logger:After zscore => mean= 1.73353456605e-08, std= 0.999999994451\n"
       ]
      },
      {
       "output_type": "stream",
       "stream": "stderr",
       "text": [
        "WARNING:zscore_logger:\n",
        "Calculating zscore for LFC1\n"
       ]
      },
      {
       "output_type": "stream",
       "stream": "stderr",
       "text": [
        "WARNING:zscore_logger:Before zscore => mean=64.5315997988, std=13.601578669\n"
       ]
      },
      {
       "output_type": "stream",
       "stream": "stderr",
       "text": [
        "WARNING:zscore_logger:After zscore => mean= -1.25141491615e-08, std= 0.999999997602\n"
       ]
      },
      {
       "output_type": "stream",
       "stream": "stderr",
       "text": [
        "WARNING:zscore_logger:\n",
        "Calculating zscore for LFC2\n"
       ]
      },
      {
       "output_type": "stream",
       "stream": "stderr",
       "text": [
        "WARNING:zscore_logger:Before zscore => mean=73.8526810045, std=14.6434058547\n"
       ]
      },
      {
       "output_type": "stream",
       "stream": "stderr",
       "text": [
        "WARNING:zscore_logger:After zscore => mean= 4.16090219907e-09, std= 1.00000002664\n"
       ]
      },
      {
       "output_type": "stream",
       "stream": "stderr",
       "text": [
        "WARNING:zscore_logger:\n",
        "Calculating zscore for LFC3\n"
       ]
      },
      {
       "output_type": "stream",
       "stream": "stderr",
       "text": [
        "WARNING:zscore_logger:Before zscore => mean=56.0238334801, std=13.7419038728\n"
       ]
      },
      {
       "output_type": "stream",
       "stream": "stderr",
       "text": [
        "WARNING:zscore_logger:After zscore => mean= 5.43956735744e-09, std= 0.999999989318\n"
       ]
      },
      {
       "output_type": "stream",
       "stream": "stderr",
       "text": [
        "WARNING:zscore_logger:\n",
        "Calculating zscore for LFC4\n"
       ]
      },
      {
       "output_type": "stream",
       "stream": "stderr",
       "text": [
        "WARNING:zscore_logger:Before zscore => mean=69.8019850753, std=14.9831178485\n"
       ]
      },
      {
       "output_type": "stream",
       "stream": "stderr",
       "text": [
        "WARNING:zscore_logger:After zscore => mean= -1.42539723164e-09, std= 0.999999997555\n"
       ]
      },
      {
       "output_type": "stream",
       "stream": "stderr",
       "text": [
        "WARNING:zscore_logger:\n",
        "Calculating zscore for LFC5\n"
       ]
      },
      {
       "output_type": "stream",
       "stream": "stderr",
       "text": [
        "WARNING:zscore_logger:Before zscore => mean=52.9552991238, std=13.7423090704\n"
       ]
      },
      {
       "output_type": "stream",
       "stream": "stderr",
       "text": [
        "WARNING:zscore_logger:After zscore => mean= 5.08950656065e-08, std= 1.00000001042\n"
       ]
      },
      {
       "output_type": "stream",
       "stream": "stderr",
       "text": [
        "WARNING:zscore_logger:\n",
        "Calculating zscore for LFC6\n"
       ]
      },
      {
       "output_type": "stream",
       "stream": "stderr",
       "text": [
        "WARNING:zscore_logger:Before zscore => mean=64.1107931916, std=16.39004109\n"
       ]
      },
      {
       "output_type": "stream",
       "stream": "stderr",
       "text": [
        "WARNING:zscore_logger:After zscore => mean= 7.32612250222e-09, std= 0.999999963565\n"
       ]
      },
      {
       "output_type": "stream",
       "stream": "stderr",
       "text": [
        "WARNING:zscore_logger:\n",
        "Calculating zscore for LFC7\n"
       ]
      },
      {
       "output_type": "stream",
       "stream": "stderr",
       "text": [
        "WARNING:zscore_logger:Before zscore => mean=48.7985683143, std=17.2824131669\n"
       ]
      },
      {
       "output_type": "stream",
       "stream": "stderr",
       "text": [
        "WARNING:zscore_logger:After zscore => mean= -2.94512220381e-09, std= 1.00000000386\n"
       ]
      },
      {
       "output_type": "stream",
       "stream": "stderr",
       "text": [
        "WARNING:zscore_logger:\n",
        "Calculating zscore for LFC8\n"
       ]
      },
      {
       "output_type": "stream",
       "stream": "stderr",
       "text": [
        "WARNING:zscore_logger:Before zscore => mean=70.1024189829, std=30.7681527081\n"
       ]
      },
      {
       "output_type": "stream",
       "stream": "stderr",
       "text": [
        "WARNING:zscore_logger:After zscore => mean= -4.5371651368e-08, std= 0.999999821336\n"
       ]
      },
      {
       "output_type": "stream",
       "stream": "stderr",
       "text": [
        "WARNING:zscore_logger:\n",
        "Calculating zscore for LFC9\n"
       ]
      },
      {
       "output_type": "stream",
       "stream": "stderr",
       "text": [
        "WARNING:zscore_logger:Before zscore => mean=62.662767786, std=44.7208501874\n"
       ]
      },
      {
       "output_type": "stream",
       "stream": "stderr",
       "text": [
        "WARNING:zscore_logger:After zscore => mean= -2.11640045273e-07, std= 0.999999798038\n"
       ]
      },
      {
       "output_type": "stream",
       "stream": "stderr",
       "text": [
        "WARNING:zscore_logger:\n",
        "Calculating zscore for LFC10\n"
       ]
      },
      {
       "output_type": "stream",
       "stream": "stderr",
       "text": [
        "WARNING:zscore_logger:Before zscore => mean=6.63637697564, std=9.24952000169\n"
       ]
      },
      {
       "output_type": "stream",
       "stream": "stderr",
       "text": [
        "WARNING:zscore_logger:After zscore => mean= 9.26822621831e-08, std= 0.999999940118\n"
       ]
      },
      {
       "output_type": "stream",
       "stream": "stderr",
       "text": [
        "WARNING:zscore_logger:\n",
        "Calculating zscore for OCC1\n"
       ]
      },
      {
       "output_type": "stream",
       "stream": "stderr",
       "text": [
        "WARNING:zscore_logger:Before zscore => mean=14.122762336, std=8.23147418467\n"
       ]
      },
      {
       "output_type": "stream",
       "stream": "stderr",
       "text": [
        "WARNING:zscore_logger:After zscore => mean= 1.40338741493e-08, std= 0.999999991209\n"
       ]
      },
      {
       "output_type": "stream",
       "stream": "stderr",
       "text": [
        "WARNING:zscore_logger:\n",
        "Calculating zscore for OCC2\n"
       ]
      },
      {
       "output_type": "stream",
       "stream": "stderr",
       "text": [
        "WARNING:zscore_logger:Before zscore => mean=12.5959418103, std=7.13863626676\n"
       ]
      },
      {
       "output_type": "stream",
       "stream": "stderr",
       "text": [
        "WARNING:zscore_logger:After zscore => mean= -5.03605416578e-08, std= 1.00000001409\n"
       ]
      },
      {
       "output_type": "stream",
       "stream": "stderr",
       "text": [
        "WARNING:zscore_logger:\n",
        "Calculating zscore for OCC3\n"
       ]
      },
      {
       "output_type": "stream",
       "stream": "stderr",
       "text": [
        "WARNING:zscore_logger:Before zscore => mean=3.54105353624, std=2.56517111572\n"
       ]
      },
      {
       "output_type": "stream",
       "stream": "stderr",
       "text": [
        "WARNING:zscore_logger:After zscore => mean= -4.23112396851e-08, std= 1.00000012444\n"
       ]
      },
      {
       "output_type": "stream",
       "stream": "stderr",
       "text": [
        "WARNING:zscore_logger:\n",
        "Calculating zscore for OCC4\n"
       ]
      },
      {
       "output_type": "stream",
       "stream": "stderr",
       "text": [
        "WARNING:zscore_logger:Before zscore => mean=12.4030625079, std=5.54014584017\n"
       ]
      },
      {
       "output_type": "stream",
       "stream": "stderr",
       "text": [
        "WARNING:zscore_logger:After zscore => mean= 5.04653502747e-08, std= 1.00000001692\n"
       ]
      },
      {
       "output_type": "stream",
       "stream": "stderr",
       "text": [
        "WARNING:zscore_logger:\n",
        "Calculating zscore for OCC5\n"
       ]
      },
      {
       "output_type": "stream",
       "stream": "stderr",
       "text": [
        "WARNING:zscore_logger:Before zscore => mean=15.5049888903, std=5.73714455943\n"
       ]
      },
      {
       "output_type": "stream",
       "stream": "stderr",
       "text": [
        "WARNING:zscore_logger:After zscore => mean= 1.75659246138e-08, std= 0.999999988937\n"
       ]
      },
      {
       "output_type": "stream",
       "stream": "stderr",
       "text": [
        "WARNING:zscore_logger:\n",
        "Calculating zscore for OCC6\n"
       ]
      },
      {
       "output_type": "stream",
       "stream": "stderr",
       "text": [
        "WARNING:zscore_logger:Before zscore => mean=0.4191087075, std=0.995007403697\n"
       ]
      },
      {
       "output_type": "stream",
       "stream": "stderr",
       "text": [
        "WARNING:zscore_logger:After zscore => mean= -2.46101119343e-07, std= 1.0000001312\n"
       ]
      },
      {
       "output_type": "stream",
       "stream": "stderr",
       "text": [
        "WARNING:zscore_logger:\n",
        "Calculating zscore for OCC7\n"
       ]
      },
      {
       "output_type": "stream",
       "stream": "stderr",
       "text": [
        "WARNING:zscore_logger:Before zscore => mean=1.64470926089, std=1.88528424021\n"
       ]
      },
      {
       "output_type": "stream",
       "stream": "stderr",
       "text": [
        "WARNING:zscore_logger:After zscore => mean= 2.64998113468e-07, std= 1.00000000783\n"
       ]
      },
      {
       "output_type": "stream",
       "stream": "stderr",
       "text": [
        "WARNING:zscore_logger:\n",
        "Calculating zscore for OCC8\n"
       ]
      },
      {
       "output_type": "stream",
       "stream": "stderr",
       "text": [
        "WARNING:zscore_logger:Before zscore => mean=10.5446694336, std=6.02754593552\n"
       ]
      },
      {
       "output_type": "stream",
       "stream": "stderr",
       "text": [
        "WARNING:zscore_logger:After zscore => mean= 3.82299920342e-07, std= 1.0000000072\n"
       ]
      },
      {
       "output_type": "stream",
       "stream": "stderr",
       "text": [
        "WARNING:zscore_logger:\n",
        "Calculating zscore for OCC9\n"
       ]
      },
      {
       "output_type": "stream",
       "stream": "stderr",
       "text": [
        "WARNING:zscore_logger:Before zscore => mean=2.856286421, std=5.10679709657\n"
       ]
      },
      {
       "output_type": "stream",
       "stream": "stderr",
       "text": [
        "WARNING:zscore_logger:After zscore => mean= -2.744937747e-08, std= 1.0000000383\n"
       ]
      },
      {
       "output_type": "stream",
       "stream": "stderr",
       "text": [
        "WARNING:zscore_logger:\n",
        "Calculating zscore for OCC10\n"
       ]
      },
      {
       "output_type": "stream",
       "stream": "stderr",
       "text": [
        "WARNING:zscore_logger:Before zscore => mean=11.3764515994, std=5.85917813031\n"
       ]
      },
      {
       "output_type": "stream",
       "stream": "stderr",
       "text": [
        "WARNING:zscore_logger:After zscore => mean= 3.19351863524e-08, std= 1.00000005591\n"
       ]
      },
      {
       "output_type": "stream",
       "stream": "stderr",
       "text": [
        "WARNING:zscore_logger:\n",
        "Calculating zscore for OCC11\n"
       ]
      },
      {
       "output_type": "stream",
       "stream": "stderr",
       "text": [
        "WARNING:zscore_logger:Before zscore => mean=6.30922735086, std=5.87467553527\n"
       ]
      },
      {
       "output_type": "stream",
       "stream": "stderr",
       "text": [
        "WARNING:zscore_logger:After zscore => mean= -2.14857669964e-08, std= 0.999999944348\n"
       ]
      },
      {
       "output_type": "stream",
       "stream": "stderr",
       "text": [
        "WARNING:zscore_logger:\n",
        "Calculating zscore for OCC12\n"
       ]
      },
      {
       "output_type": "stream",
       "stream": "stderr",
       "text": [
        "WARNING:zscore_logger:Before zscore => mean=4.01224164675, std=3.22315948721\n"
       ]
      },
      {
       "output_type": "stream",
       "stream": "stderr",
       "text": [
        "WARNING:zscore_logger:After zscore => mean= 3.85066867949e-08, std= 0.999999966612\n"
       ]
      },
      {
       "output_type": "stream",
       "stream": "stderr",
       "text": [
        "WARNING:zscore_logger:\n",
        "Calculating zscore for OCC13\n"
       ]
      },
      {
       "output_type": "stream",
       "stream": "stderr",
       "text": [
        "WARNING:zscore_logger:Before zscore => mean=3.74187733199, std=2.98004415786\n"
       ]
      },
      {
       "output_type": "stream",
       "stream": "stderr",
       "text": [
        "WARNING:zscore_logger:After zscore => mean= 1.6509453739e-07, std= 1.00000003502\n"
       ]
      },
      {
       "output_type": "stream",
       "stream": "stderr",
       "text": [
        "WARNING:zscore_logger:\n",
        "Calculating zscore for EIC1\n"
       ]
      },
      {
       "output_type": "stream",
       "stream": "stderr",
       "text": [
        "WARNING:zscore_logger:Before zscore => mean=3.15680417558, std=5.57075104067\n"
       ]
      },
      {
       "output_type": "stream",
       "stream": "stderr",
       "text": [
        "WARNING:zscore_logger:After zscore => mean= -2.32056764373e-07, std= 0.999999997929\n"
       ]
      },
      {
       "output_type": "stream",
       "stream": "stderr",
       "text": [
        "WARNING:zscore_logger:\n",
        "Calculating zscore for EIC2\n"
       ]
      },
      {
       "output_type": "stream",
       "stream": "stderr",
       "text": [
        "WARNING:zscore_logger:Before zscore => mean=0.719175785017, std=2.46105295975\n"
       ]
      },
      {
       "output_type": "stream",
       "stream": "stderr",
       "text": [
        "WARNING:zscore_logger:After zscore => mean= -2.03548819824e-07, std= 1.0000000322\n"
       ]
      },
      {
       "output_type": "stream",
       "stream": "stderr",
       "text": [
        "WARNING:zscore_logger:\n",
        "Calculating zscore for EIC3\n"
       ]
      },
      {
       "output_type": "stream",
       "stream": "stderr",
       "text": [
        "WARNING:zscore_logger:Before zscore => mean=6.41164633379, std=4.12236479042\n"
       ]
      },
      {
       "output_type": "stream",
       "stream": "stderr",
       "text": [
        "WARNING:zscore_logger:After zscore => mean= 4.04770888285e-08, std= 0.999999960995\n"
       ]
      },
      {
       "output_type": "stream",
       "stream": "stderr",
       "text": [
        "WARNING:zscore_logger:\n",
        "Calculating zscore for EIC4\n"
       ]
      },
      {
       "output_type": "stream",
       "stream": "stderr",
       "text": [
        "WARNING:zscore_logger:Before zscore => mean=16.9684421247, std=10.1671022226\n"
       ]
      },
      {
       "output_type": "stream",
       "stream": "stderr",
       "text": [
        "WARNING:zscore_logger:After zscore => mean= -1.40443550214e-09, std= 1.0000000009\n"
       ]
      },
      {
       "output_type": "stream",
       "stream": "stderr",
       "text": [
        "WARNING:zscore_logger:\n",
        "Calculating zscore for EIC5\n"
       ]
      },
      {
       "output_type": "stream",
       "stream": "stderr",
       "text": [
        "WARNING:zscore_logger:Before zscore => mean=4.28046786568, std=3.20179770213\n"
       ]
      },
      {
       "output_type": "stream",
       "stream": "stderr",
       "text": [
        "WARNING:zscore_logger:After zscore => mean= -9.4118140281e-09, std= 1.00000005055\n"
       ]
      },
      {
       "output_type": "stream",
       "stream": "stderr",
       "text": [
        "WARNING:zscore_logger:\n",
        "Calculating zscore for EIC6\n"
       ]
      },
      {
       "output_type": "stream",
       "stream": "stderr",
       "text": [
        "WARNING:zscore_logger:Before zscore => mean=2.71480526559, std=2.33540018758\n"
       ]
      },
      {
       "output_type": "stream",
       "stream": "stderr",
       "text": [
        "WARNING:zscore_logger:After zscore => mean= 2.34771307938e-09, std= 0.999999925712\n"
       ]
      },
      {
       "output_type": "stream",
       "stream": "stderr",
       "text": [
        "WARNING:zscore_logger:\n",
        "Calculating zscore for EIC7\n"
       ]
      },
      {
       "output_type": "stream",
       "stream": "stderr",
       "text": [
        "WARNING:zscore_logger:Before zscore => mean=4.3692302855, std=3.09741193905\n"
       ]
      },
      {
       "output_type": "stream",
       "stream": "stderr",
       "text": [
        "WARNING:zscore_logger:After zscore => mean= -4.64302182861e-09, std= 0.999999973146\n"
       ]
      },
      {
       "output_type": "stream",
       "stream": "stderr",
       "text": [
        "WARNING:zscore_logger:\n",
        "Calculating zscore for EIC8\n"
       ]
      },
      {
       "output_type": "stream",
       "stream": "stderr",
       "text": [
        "WARNING:zscore_logger:Before zscore => mean=16.9178824467, std=6.17875889149\n"
       ]
      },
      {
       "output_type": "stream",
       "stream": "stderr",
       "text": [
        "WARNING:zscore_logger:After zscore => mean= -2.40955016233e-08, std= 1.00000005407\n"
       ]
      },
      {
       "output_type": "stream",
       "stream": "stderr",
       "text": [
        "WARNING:zscore_logger:\n",
        "Calculating zscore for EIC9\n"
       ]
      },
      {
       "output_type": "stream",
       "stream": "stderr",
       "text": [
        "WARNING:zscore_logger:Before zscore => mean=6.86073030646, std=4.66056705435\n"
       ]
      },
      {
       "output_type": "stream",
       "stream": "stderr",
       "text": [
        "WARNING:zscore_logger:After zscore => mean= 4.988890302e-09, std= 1.00000002872\n"
       ]
      },
      {
       "output_type": "stream",
       "stream": "stderr",
       "text": [
        "WARNING:zscore_logger:\n",
        "Calculating zscore for EIC10\n"
       ]
      },
      {
       "output_type": "stream",
       "stream": "stderr",
       "text": [
        "WARNING:zscore_logger:Before zscore => mean=4.68063765564, std=3.07409845847\n"
       ]
      },
      {
       "output_type": "stream",
       "stream": "stderr",
       "text": [
        "WARNING:zscore_logger:After zscore => mean= 7.52525887768e-08, std= 0.999999983562\n"
       ]
      },
      {
       "output_type": "stream",
       "stream": "stderr",
       "text": [
        "WARNING:zscore_logger:\n",
        "Calculating zscore for EIC11\n"
       ]
      },
      {
       "output_type": "stream",
       "stream": "stderr",
       "text": [
        "WARNING:zscore_logger:Before zscore => mean=3.2864105144, std=3.22726476514\n"
       ]
      },
      {
       "output_type": "stream",
       "stream": "stderr",
       "text": [
        "WARNING:zscore_logger:After zscore => mean= 8.58906636524e-08, std= 1.00000002568\n"
       ]
      },
      {
       "output_type": "stream",
       "stream": "stderr",
       "text": [
        "WARNING:zscore_logger:\n",
        "Calculating zscore for EIC12\n"
       ]
      },
      {
       "output_type": "stream",
       "stream": "stderr",
       "text": [
        "WARNING:zscore_logger:Before zscore => mean=1.54741541944, std=2.23098943508\n"
       ]
      },
      {
       "output_type": "stream",
       "stream": "stderr",
       "text": [
        "WARNING:zscore_logger:After zscore => mean= -1.66813398771e-07, std= 1.00000012578\n"
       ]
      },
      {
       "output_type": "stream",
       "stream": "stderr",
       "text": [
        "WARNING:zscore_logger:\n",
        "Calculating zscore for EIC13\n"
       ]
      },
      {
       "output_type": "stream",
       "stream": "stderr",
       "text": [
        "WARNING:zscore_logger:Before zscore => mean=8.04762503668, std=4.49639874327\n"
       ]
      },
      {
       "output_type": "stream",
       "stream": "stderr",
       "text": [
        "WARNING:zscore_logger:After zscore => mean= 2.73864922751e-08, std= 0.999999961741\n"
       ]
      },
      {
       "output_type": "stream",
       "stream": "stderr",
       "text": [
        "WARNING:zscore_logger:\n",
        "Calculating zscore for EIC14\n"
       ]
      },
      {
       "output_type": "stream",
       "stream": "stderr",
       "text": [
        "WARNING:zscore_logger:Before zscore => mean=8.05565337693, std=5.36331985114\n"
       ]
      },
      {
       "output_type": "stream",
       "stream": "stderr",
       "text": [
        "WARNING:zscore_logger:After zscore => mean= 1.2577034318e-08, std= 0.999999972349\n"
       ]
      },
      {
       "output_type": "stream",
       "stream": "stderr",
       "text": [
        "WARNING:zscore_logger:\n",
        "Calculating zscore for EIC15\n"
       ]
      },
      {
       "output_type": "stream",
       "stream": "stderr",
       "text": [
        "WARNING:zscore_logger:Before zscore => mean=6.4779377856, std=4.35441893246\n"
       ]
      },
      {
       "output_type": "stream",
       "stream": "stderr",
       "text": [
        "WARNING:zscore_logger:After zscore => mean= 1.55431182712e-08, std= 1.00000003521\n"
       ]
      },
      {
       "output_type": "stream",
       "stream": "stderr",
       "text": [
        "WARNING:zscore_logger:\n",
        "Calculating zscore for EIC16\n"
       ]
      },
      {
       "output_type": "stream",
       "stream": "stderr",
       "text": [
        "WARNING:zscore_logger:Before zscore => mean=4.58526181193, std=4.08338914148\n"
       ]
      },
      {
       "output_type": "stream",
       "stream": "stderr",
       "text": [
        "WARNING:zscore_logger:After zscore => mean= 3.30147151269e-08, std= 0.999999993408\n"
       ]
      },
      {
       "output_type": "stream",
       "stream": "stderr",
       "text": [
        "WARNING:zscore_logger:\n",
        "Calculating zscore for OEDC1\n"
       ]
      },
      {
       "output_type": "stream",
       "stream": "stderr",
       "text": [
        "WARNING:zscore_logger:Before zscore => mean=7.00866767283, std=4.26749390724\n"
       ]
      },
      {
       "output_type": "stream",
       "stream": "stderr",
       "text": [
        "WARNING:zscore_logger:After zscore => mean= -2.25757766282e-08, std= 0.999999968891\n"
       ]
      },
      {
       "output_type": "stream",
       "stream": "stderr",
       "text": [
        "WARNING:zscore_logger:\n",
        "Calculating zscore for OEDC2\n"
       ]
      },
      {
       "output_type": "stream",
       "stream": "stderr",
       "text": [
        "WARNING:zscore_logger:Before zscore => mean=4.67540770553, std=5.06488837607\n"
       ]
      },
      {
       "output_type": "stream",
       "stream": "stderr",
       "text": [
        "WARNING:zscore_logger:After zscore => mean= -6.28851719069e-09, std= 1.00000000106\n"
       ]
      },
      {
       "output_type": "stream",
       "stream": "stderr",
       "text": [
        "WARNING:zscore_logger:\n",
        "Calculating zscore for OEDC3\n"
       ]
      },
      {
       "output_type": "stream",
       "stream": "stderr",
       "text": [
        "WARNING:zscore_logger:Before zscore => mean=3.18706242401, std=4.16194294552\n"
       ]
      },
      {
       "output_type": "stream",
       "stream": "stderr",
       "text": [
        "WARNING:zscore_logger:After zscore => mean= -4.2552299556e-09, std= 0.999999981789\n"
       ]
      },
      {
       "output_type": "stream",
       "stream": "stderr",
       "text": [
        "WARNING:zscore_logger:\n",
        "Calculating zscore for OEDC4\n"
       ]
      },
      {
       "output_type": "stream",
       "stream": "stderr",
       "text": [
        "WARNING:zscore_logger:Before zscore => mean=8.04853687167, std=5.4717483719\n"
       ]
      },
      {
       "output_type": "stream",
       "stream": "stderr",
       "text": [
        "WARNING:zscore_logger:After zscore => mean= 6.57988513067e-08, std= 0.999999901069\n"
       ]
      },
      {
       "output_type": "stream",
       "stream": "stderr",
       "text": [
        "WARNING:zscore_logger:\n",
        "Calculating zscore for OEDC5\n"
       ]
      },
      {
       "output_type": "stream",
       "stream": "stderr",
       "text": [
        "WARNING:zscore_logger:Before zscore => mean=69.567716849, std=12.3009651026\n"
       ]
      },
      {
       "output_type": "stream",
       "stream": "stderr",
       "text": [
        "WARNING:zscore_logger:After zscore => mean= 7.98641680137e-09, std= 0.999999998081\n"
       ]
      },
      {
       "output_type": "stream",
       "stream": "stderr",
       "text": [
        "WARNING:zscore_logger:\n",
        "Calculating zscore for OEDC6\n"
       ]
      },
      {
       "output_type": "stream",
       "stream": "stderr",
       "text": [
        "WARNING:zscore_logger:Before zscore => mean=6.08629941726, std=4.35508423121\n"
       ]
      },
      {
       "output_type": "stream",
       "stream": "stderr",
       "text": [
        "WARNING:zscore_logger:After zscore => mean= 3.67039785371e-08, std= 1.00000002994\n"
       ]
      },
      {
       "output_type": "stream",
       "stream": "stderr",
       "text": [
        "WARNING:zscore_logger:\n",
        "Calculating zscore for OEDC7\n"
       ]
      },
      {
       "output_type": "stream",
       "stream": "stderr",
       "text": [
        "WARNING:zscore_logger:Before zscore => mean=0.49773613382, std=1.03556623546\n"
       ]
      },
      {
       "output_type": "stream",
       "stream": "stderr",
       "text": [
        "WARNING:zscore_logger:After zscore => mean= -2.76831006567e-07, std= 1.00000017391\n"
       ]
      },
      {
       "output_type": "stream",
       "stream": "stderr",
       "text": [
        "WARNING:zscore_logger:\n",
        "Calculating zscore for EC1\n"
       ]
      },
      {
       "output_type": "stream",
       "stream": "stderr",
       "text": [
        "WARNING:zscore_logger:Before zscore => mean=128.022533853, std=17.7355762682\n"
       ]
      },
      {
       "output_type": "stream",
       "stream": "stderr",
       "text": [
        "WARNING:zscore_logger:After zscore => mean= 2.25191799767e-07, std= 1.00000002982\n"
       ]
      },
      {
       "output_type": "stream",
       "stream": "stderr",
       "text": [
        "WARNING:zscore_logger:\n",
        "Calculating zscore for EC2\n"
       ]
      },
      {
       "output_type": "stream",
       "stream": "stderr",
       "text": [
        "WARNING:zscore_logger:Before zscore => mean=8.77020710183, std=8.27865893986\n"
       ]
      },
      {
       "output_type": "stream",
       "stream": "stderr",
       "text": [
        "WARNING:zscore_logger:After zscore => mean= 1.17490462493e-08, std= 0.999999946576\n"
       ]
      },
      {
       "output_type": "stream",
       "stream": "stderr",
       "text": [
        "WARNING:zscore_logger:\n",
        "Calculating zscore for EC3\n"
       ]
      },
      {
       "output_type": "stream",
       "stream": "stderr",
       "text": [
        "WARNING:zscore_logger:Before zscore => mean=12.845962772, std=7.60244729548\n"
       ]
      },
      {
       "output_type": "stream",
       "stream": "stderr",
       "text": [
        "WARNING:zscore_logger:After zscore => mean= 3.32243323105e-09, std= 0.999999982265\n"
       ]
      },
      {
       "output_type": "stream",
       "stream": "stderr",
       "text": [
        "WARNING:zscore_logger:\n",
        "Calculating zscore for EC4\n"
       ]
      },
      {
       "output_type": "stream",
       "stream": "stderr",
       "text": [
        "WARNING:zscore_logger:Before zscore => mean=28.7255481491, std=10.2589407237\n"
       ]
      },
      {
       "output_type": "stream",
       "stream": "stderr",
       "text": [
        "WARNING:zscore_logger:After zscore => mean= -5.24043091066e-10, std= 1.00000000468\n"
       ]
      },
      {
       "output_type": "stream",
       "stream": "stderr",
       "text": [
        "WARNING:zscore_logger:\n",
        "Calculating zscore for EC5\n"
       ]
      },
      {
       "output_type": "stream",
       "stream": "stderr",
       "text": [
        "WARNING:zscore_logger:Before zscore => mean=20.7913365195, std=7.12333143389\n"
       ]
      },
      {
       "output_type": "stream",
       "stream": "stderr",
       "text": [
        "WARNING:zscore_logger:After zscore => mean= -7.78832851166e-08, std= 1.00000000466\n"
       ]
      },
      {
       "output_type": "stream",
       "stream": "stderr",
       "text": [
        "WARNING:zscore_logger:\n",
        "Calculating zscore for EC6\n"
       ]
      },
      {
       "output_type": "stream",
       "stream": "stderr",
       "text": [
        "WARNING:zscore_logger:Before zscore => mean=6.5446170293, std=3.39779505236\n"
       ]
      },
      {
       "output_type": "stream",
       "stream": "stderr",
       "text": [
        "WARNING:zscore_logger:After zscore => mean= 1.75942229483e-07, std= 0.999999951746\n"
       ]
      },
      {
       "output_type": "stream",
       "stream": "stderr",
       "text": [
        "WARNING:zscore_logger:\n",
        "Calculating zscore for EC7\n"
       ]
      },
      {
       "output_type": "stream",
       "stream": "stderr",
       "text": [
        "WARNING:zscore_logger:Before zscore => mean=14.0698235023, std=9.72981406273\n"
       ]
      },
      {
       "output_type": "stream",
       "stream": "stderr",
       "text": [
        "WARNING:zscore_logger:After zscore => mean= 1.77965035899e-08, std= 0.999999991148\n"
       ]
      },
      {
       "output_type": "stream",
       "stream": "stderr",
       "text": [
        "WARNING:zscore_logger:\n",
        "Calculating zscore for EC8\n"
       ]
      },
      {
       "output_type": "stream",
       "stream": "stderr",
       "text": [
        "WARNING:zscore_logger:Before zscore => mean=7.36604410347, std=7.05712322597\n"
       ]
      },
      {
       "output_type": "stream",
       "stream": "stderr",
       "text": [
        "WARNING:zscore_logger:After zscore => mean= -5.46576950348e-08, std= 1.0000000071\n"
       ]
      },
      {
       "output_type": "stream",
       "stream": "stderr",
       "text": [
        "WARNING:zscore_logger:\n",
        "Calculating zscore for SEC1\n"
       ]
      },
      {
       "output_type": "stream",
       "stream": "stderr",
       "text": [
        "WARNING:zscore_logger:Before zscore => mean=3.72615603907, std=3.829338502\n"
       ]
      },
      {
       "output_type": "stream",
       "stream": "stderr",
       "text": [
        "WARNING:zscore_logger:After zscore => mean= -3.8014086282e-08, std= 0.999999983609\n"
       ]
      },
      {
       "output_type": "stream",
       "stream": "stderr",
       "text": [
        "WARNING:zscore_logger:\n",
        "Calculating zscore for SEC2\n"
       ]
      },
      {
       "output_type": "stream",
       "stream": "stderr",
       "text": [
        "WARNING:zscore_logger:Before zscore => mean=22.0926403387, std=7.74597356072\n"
       ]
      },
      {
       "output_type": "stream",
       "stream": "stderr",
       "text": [
        "WARNING:zscore_logger:After zscore => mean= 1.03676686373e-07, std= 0.999999967771\n"
       ]
      },
      {
       "output_type": "stream",
       "stream": "stderr",
       "text": [
        "WARNING:zscore_logger:\n",
        "Calculating zscore for SEC3\n"
       ]
      },
      {
       "output_type": "stream",
       "stream": "stderr",
       "text": [
        "WARNING:zscore_logger:Before zscore => mean=1.88370435585, std=1.36242309947\n"
       ]
      },
      {
       "output_type": "stream",
       "stream": "stderr",
       "text": [
        "WARNING:zscore_logger:After zscore => mean= -5.93845637715e-08, std= 0.999999964168\n"
       ]
      },
      {
       "output_type": "stream",
       "stream": "stderr",
       "text": [
        "WARNING:zscore_logger:\n",
        "Calculating zscore for SEC4\n"
       ]
      },
      {
       "output_type": "stream",
       "stream": "stderr",
       "text": [
        "WARNING:zscore_logger:Before zscore => mean=17.1301932671, std=6.37252853307\n"
       ]
      },
      {
       "output_type": "stream",
       "stream": "stderr",
       "text": [
        "WARNING:zscore_logger:After zscore => mean= 2.13914392089e-08, std= 1.00000000663\n"
       ]
      },
      {
       "output_type": "stream",
       "stream": "stderr",
       "text": [
        "WARNING:zscore_logger:\n",
        "Calculating zscore for SEC5\n"
       ]
      },
      {
       "output_type": "stream",
       "stream": "stderr",
       "text": [
        "WARNING:zscore_logger:Before zscore => mean=6.80875571207, std=5.66821283981\n"
       ]
      },
      {
       "output_type": "stream",
       "stream": "stderr",
       "text": [
        "WARNING:zscore_logger:After zscore => mean= -2.37496331761e-08, std= 0.999999997403\n"
       ]
      },
      {
       "output_type": "stream",
       "stream": "stderr",
       "text": [
        "WARNING:zscore_logger:\n",
        "Calculating zscore for AFC1\n"
       ]
      },
      {
       "output_type": "stream",
       "stream": "stderr",
       "text": [
        "WARNING:zscore_logger:Before zscore => mean=0.596581142833, std=3.1694402053\n"
       ]
      },
      {
       "output_type": "stream",
       "stream": "stderr",
       "text": [
        "WARNING:zscore_logger:After zscore => mean= 1.4895400997e-07, std= 0.999999969272\n"
       ]
      },
      {
       "output_type": "stream",
       "stream": "stderr",
       "text": [
        "WARNING:zscore_logger:\n",
        "Calculating zscore for AFC2\n"
       ]
      },
      {
       "output_type": "stream",
       "stream": "stderr",
       "text": [
        "WARNING:zscore_logger:Before zscore => mean=1.06155410221, std=4.9033435542\n"
       ]
      },
      {
       "output_type": "stream",
       "stream": "stderr",
       "text": [
        "WARNING:zscore_logger:After zscore => mean= 1.33945415915e-08, std= 1.00000000049\n"
       ]
      },
      {
       "output_type": "stream",
       "stream": "stderr",
       "text": [
        "WARNING:zscore_logger:\n",
        "Calculating zscore for AFC3\n"
       ]
      },
      {
       "output_type": "stream",
       "stream": "stderr",
       "text": [
        "WARNING:zscore_logger:Before zscore => mean=0.145663019327, std=1.06610182103\n"
       ]
      },
      {
       "output_type": "stream",
       "stream": "stderr",
       "text": [
        "WARNING:zscore_logger:After zscore => mean= 3.99153146374e-07, std= 0.999999937487\n"
       ]
      },
      {
       "output_type": "stream",
       "stream": "stderr",
       "text": [
        "WARNING:zscore_logger:\n",
        "Calculating zscore for AFC4\n"
       ]
      },
      {
       "output_type": "stream",
       "stream": "stderr",
       "text": [
        "WARNING:zscore_logger:Before zscore => mean=15.5742778686, std=5.27047572997\n"
       ]
      },
      {
       "output_type": "stream",
       "stream": "stderr",
       "text": [
        "WARNING:zscore_logger:After zscore => mean= 2.6977738651e-08, std= 0.999999956373\n"
       ]
      },
      {
       "output_type": "stream",
       "stream": "stderr",
       "text": [
        "WARNING:zscore_logger:\n",
        "Calculating zscore for AFC5\n"
       ]
      },
      {
       "output_type": "stream",
       "stream": "stderr",
       "text": [
        "WARNING:zscore_logger:Before zscore => mean=31.2699974846, std=10.4757413902\n"
       ]
      },
      {
       "output_type": "stream",
       "stream": "stderr",
       "text": [
        "WARNING:zscore_logger:After zscore => mean= -6.35140234921e-09, std= 1.00000001219\n"
       ]
      },
      {
       "output_type": "stream",
       "stream": "stderr",
       "text": [
        "WARNING:zscore_logger:\n",
        "Calculating zscore for AFC6\n"
       ]
      },
      {
       "output_type": "stream",
       "stream": "stderr",
       "text": [
        "WARNING:zscore_logger:Before zscore => mean=1.28021632499, std=1.64039206526\n"
       ]
      },
      {
       "output_type": "stream",
       "stream": "stderr",
       "text": [
        "WARNING:zscore_logger:After zscore => mean= 5.91644656452e-08, std= 0.999999989107\n"
       ]
      },
      {
       "output_type": "stream",
       "stream": "stderr",
       "text": [
        "WARNING:zscore_logger:\n",
        "Calculating zscore for VC1\n"
       ]
      },
      {
       "output_type": "stream",
       "stream": "stderr",
       "text": [
        "WARNING:zscore_logger:Before zscore => mean=30.583888819, std=14.4941008333\n"
       ]
      },
      {
       "output_type": "stream",
       "stream": "stderr",
       "text": [
        "WARNING:zscore_logger:After zscore => mean= 3.09185427552e-09, std= 0.999999987206\n"
       ]
      },
      {
       "output_type": "stream",
       "stream": "stderr",
       "text": [
        "WARNING:zscore_logger:\n",
        "Calculating zscore for VC2\n"
       ]
      },
      {
       "output_type": "stream",
       "stream": "stderr",
       "text": [
        "WARNING:zscore_logger:Before zscore => mean=17.9217918082, std=9.72910177727\n"
       ]
      },
      {
       "output_type": "stream",
       "stream": "stderr",
       "text": [
        "WARNING:zscore_logger:After zscore => mean= -3.12329685696e-09, std= 1.00000002316\n"
       ]
      },
      {
       "output_type": "stream",
       "stream": "stderr",
       "text": [
        "WARNING:zscore_logger:\n",
        "Calculating zscore for VC3\n"
       ]
      },
      {
       "output_type": "stream",
       "stream": "stderr",
       "text": [
        "WARNING:zscore_logger:Before zscore => mean=33.3756131304, std=17.0520163303\n"
       ]
      },
      {
       "output_type": "stream",
       "stream": "stderr",
       "text": [
        "WARNING:zscore_logger:After zscore => mean= 4.96059195907e-08, std= 0.999999976809\n"
       ]
      },
      {
       "output_type": "stream",
       "stream": "stderr",
       "text": [
        "WARNING:zscore_logger:\n",
        "Calculating zscore for VC4\n"
       ]
      },
      {
       "output_type": "stream",
       "stream": "stderr",
       "text": [
        "WARNING:zscore_logger:Before zscore => mean=11.3141323942, std=10.7139958902\n"
       ]
      },
      {
       "output_type": "stream",
       "stream": "stderr",
       "text": [
        "WARNING:zscore_logger:After zscore => mean= 6.9802540486e-09, std= 0.999999957482\n"
       ]
      },
      {
       "output_type": "stream",
       "stream": "stderr",
       "text": [
        "WARNING:zscore_logger:\n",
        "Calculating zscore for ANC1\n"
       ]
      },
      {
       "output_type": "stream",
       "stream": "stderr",
       "text": [
        "WARNING:zscore_logger:Before zscore => mean=0.719574057771, std=2.29449941898\n"
       ]
      },
      {
       "output_type": "stream",
       "stream": "stderr",
       "text": [
        "WARNING:zscore_logger:After zscore => mean= 3.14079989963e-07, std= 0.999999964594\n"
       ]
      },
      {
       "output_type": "stream",
       "stream": "stderr",
       "text": [
        "WARNING:zscore_logger:\n",
        "Calculating zscore for ANC2\n"
       ]
      },
      {
       "output_type": "stream",
       "stream": "stderr",
       "text": [
        "WARNING:zscore_logger:Before zscore => mean=5.47156542154, std=4.26897219503\n"
       ]
      },
      {
       "output_type": "stream",
       "stream": "stderr",
       "text": [
        "WARNING:zscore_logger:After zscore => mean= -5.79591667611e-09, std= 1.00000001387\n"
       ]
      },
      {
       "output_type": "stream",
       "stream": "stderr",
       "text": [
        "WARNING:zscore_logger:\n",
        "Calculating zscore for ANC3\n"
       ]
      },
      {
       "output_type": "stream",
       "stream": "stderr",
       "text": [
        "WARNING:zscore_logger:Before zscore => mean=0.86594977571, std=1.36059062876\n"
       ]
      },
      {
       "output_type": "stream",
       "stream": "stderr",
       "text": [
        "WARNING:zscore_logger:After zscore => mean= 2.73613381951e-07, std= 0.999999832444\n"
       ]
      },
      {
       "output_type": "stream",
       "stream": "stderr",
       "text": [
        "WARNING:zscore_logger:\n",
        "Calculating zscore for ANC4\n"
       ]
      },
      {
       "output_type": "stream",
       "stream": "stderr",
       "text": [
        "WARNING:zscore_logger:Before zscore => mean=10.1699471765, std=8.27301721201\n"
       ]
      },
      {
       "output_type": "stream",
       "stream": "stderr",
       "text": [
        "WARNING:zscore_logger:After zscore => mean= -2.01232548842e-09, std= 0.999999995053\n"
       ]
      },
      {
       "output_type": "stream",
       "stream": "stderr",
       "text": [
        "WARNING:zscore_logger:\n",
        "Calculating zscore for ANC5\n"
       ]
      },
      {
       "output_type": "stream",
       "stream": "stderr",
       "text": [
        "WARNING:zscore_logger:Before zscore => mean=0.190636397937, std=0.707506978805\n"
       ]
      },
      {
       "output_type": "stream",
       "stream": "stderr",
       "text": [
        "WARNING:zscore_logger:After zscore => mean= 1.12029933294e-07, std= 1.00000002165\n"
       ]
      },
      {
       "output_type": "stream",
       "stream": "stderr",
       "text": [
        "WARNING:zscore_logger:\n",
        "Calculating zscore for ANC6\n"
       ]
      },
      {
       "output_type": "stream",
       "stream": "stderr",
       "text": [
        "WARNING:zscore_logger:Before zscore => mean=0.177545801367, std=0.533090039731\n"
       ]
      },
      {
       "output_type": "stream",
       "stream": "stderr",
       "text": [
        "WARNING:zscore_logger:After zscore => mean= 2.18337316025e-07, std= 0.999999840818\n"
       ]
      },
      {
       "output_type": "stream",
       "stream": "stderr",
       "text": [
        "WARNING:zscore_logger:\n",
        "Calculating zscore for ANC7\n"
       ]
      },
      {
       "output_type": "stream",
       "stream": "stderr",
       "text": [
        "WARNING:zscore_logger:Before zscore => mean=4.8505009852, std=3.32177898348\n"
       ]
      },
      {
       "output_type": "stream",
       "stream": "stderr",
       "text": [
        "WARNING:zscore_logger:After zscore => mean= 3.69555191702e-08, std= 0.999999984495\n"
       ]
      },
      {
       "output_type": "stream",
       "stream": "stderr",
       "text": [
        "WARNING:zscore_logger:\n",
        "Calculating zscore for ANC8\n"
       ]
      },
      {
       "output_type": "stream",
       "stream": "stderr",
       "text": [
        "WARNING:zscore_logger:Before zscore => mean=1.80725694881, std=2.50359596175\n"
       ]
      },
      {
       "output_type": "stream",
       "stream": "stderr",
       "text": [
        "WARNING:zscore_logger:After zscore => mean= 6.03907265203e-08, std= 0.999999856105\n"
       ]
      },
      {
       "output_type": "stream",
       "stream": "stderr",
       "text": [
        "WARNING:zscore_logger:\n",
        "Calculating zscore for ANC9\n"
       ]
      },
      {
       "output_type": "stream",
       "stream": "stderr",
       "text": [
        "WARNING:zscore_logger:Before zscore => mean=0.775992537626, std=2.13989977436\n"
       ]
      },
      {
       "output_type": "stream",
       "stream": "stderr",
       "text": [
        "WARNING:zscore_logger:After zscore => mean= 1.46753028936e-07, std= 0.999999911419\n"
       ]
      },
      {
       "output_type": "stream",
       "stream": "stderr",
       "text": [
        "WARNING:zscore_logger:\n",
        "Calculating zscore for ANC10\n"
       ]
      },
      {
       "output_type": "stream",
       "stream": "stderr",
       "text": [
        "WARNING:zscore_logger:Before zscore => mean=1.33323900558, std=2.88213301118\n"
       ]
      },
      {
       "output_type": "stream",
       "stream": "stderr",
       "text": [
        "WARNING:zscore_logger:After zscore => mean= -1.01507147992e-07, std= 1.00000007154\n"
       ]
      },
      {
       "output_type": "stream",
       "stream": "stderr",
       "text": [
        "WARNING:zscore_logger:\n",
        "Calculating zscore for ANC11\n"
       ]
      },
      {
       "output_type": "stream",
       "stream": "stderr",
       "text": [
        "WARNING:zscore_logger:Before zscore => mean=0.167913889238, std=0.866343647568\n"
       ]
      },
      {
       "output_type": "stream",
       "stream": "stderr",
       "text": [
        "WARNING:zscore_logger:After zscore => mean= 1.40548358715e-08, std= 0.999999979599\n"
       ]
      },
      {
       "output_type": "stream",
       "stream": "stderr",
       "text": [
        "WARNING:zscore_logger:\n",
        "Calculating zscore for ANC12\n"
       ]
      },
      {
       "output_type": "stream",
       "stream": "stderr",
       "text": [
        "WARNING:zscore_logger:Before zscore => mean=0.396249947596, std=1.42636009864\n"
       ]
      },
      {
       "output_type": "stream",
       "stream": "stderr",
       "text": [
        "WARNING:zscore_logger:After zscore => mean= -4.97316899398e-08, std= 0.999999979064\n"
       ]
      },
      {
       "output_type": "stream",
       "stream": "stderr",
       "text": [
        "WARNING:zscore_logger:\n",
        "Calculating zscore for ANC13\n"
       ]
      },
      {
       "output_type": "stream",
       "stream": "stderr",
       "text": [
        "WARNING:zscore_logger:Before zscore => mean=0.726701043894, std=0.977380169692\n"
       ]
      },
      {
       "output_type": "stream",
       "stream": "stderr",
       "text": [
        "WARNING:zscore_logger:After zscore => mean= 1.35926298582e-07, std= 0.999999859221\n"
       ]
      },
      {
       "output_type": "stream",
       "stream": "stderr",
       "text": [
        "WARNING:zscore_logger:\n",
        "Calculating zscore for ANC14\n"
       ]
      },
      {
       "output_type": "stream",
       "stream": "stderr",
       "text": [
        "WARNING:zscore_logger:Before zscore => mean=0.726533350103, std=1.26360580389\n"
       ]
      },
      {
       "output_type": "stream",
       "stream": "stderr",
       "text": [
        "WARNING:zscore_logger:After zscore => mean= 3.21961598083e-07, std= 0.99999994533\n"
       ]
      },
      {
       "output_type": "stream",
       "stream": "stderr",
       "text": [
        "WARNING:zscore_logger:\n",
        "Calculating zscore for ANC15\n"
       ]
      },
      {
       "output_type": "stream",
       "stream": "stderr",
       "text": [
        "WARNING:zscore_logger:Before zscore => mean=0.0782291535656, std=0.388115381771\n"
       ]
      },
      {
       "output_type": "stream",
       "stream": "stderr",
       "text": [
        "WARNING:zscore_logger:After zscore => mean= -3.7438686955e-07, std= 1.00000010211\n"
       ]
      },
      {
       "output_type": "stream",
       "stream": "stderr",
       "text": [
        "WARNING:zscore_logger:\n",
        "Calculating zscore for POBC1\n"
       ]
      },
      {
       "output_type": "stream",
       "stream": "stderr",
       "text": [
        "WARNING:zscore_logger:Before zscore => mean=6.62500524043, std=9.64619200307\n"
       ]
      },
      {
       "output_type": "stream",
       "stream": "stderr",
       "text": [
        "WARNING:zscore_logger:After zscore => mean= 1.28076133093e-08, std= 0.999999979707\n"
       ]
      },
      {
       "output_type": "stream",
       "stream": "stderr",
       "text": [
        "WARNING:zscore_logger:\n",
        "Calculating zscore for POBC2\n"
       ]
      },
      {
       "output_type": "stream",
       "stream": "stderr",
       "text": [
        "WARNING:zscore_logger:Before zscore => mean=57.0325954807, std=21.7802288708\n"
       ]
      },
      {
       "output_type": "stream",
       "stream": "stderr",
       "text": [
        "WARNING:zscore_logger:After zscore => mean= -3.68716723257e-08, std= 1.00000000572\n"
       ]
      },
      {
       "output_type": "stream",
       "stream": "stderr",
       "text": [
        "WARNING:zscore_logger:\n",
        "Calculating zscore for LSC1\n"
       ]
      },
      {
       "output_type": "stream",
       "stream": "stderr",
       "text": [
        "WARNING:zscore_logger:Before zscore => mean=87.7628600176, std=16.6300832189\n"
       ]
      },
      {
       "output_type": "stream",
       "stream": "stderr",
       "text": [
        "WARNING:zscore_logger:After zscore => mean= 3.08808116378e-07, std= 1.00000011044\n"
       ]
      },
      {
       "output_type": "stream",
       "stream": "stderr",
       "text": [
        "WARNING:zscore_logger:\n",
        "Calculating zscore for LSC2\n"
       ]
      },
      {
       "output_type": "stream",
       "stream": "stderr",
       "text": [
        "WARNING:zscore_logger:Before zscore => mean=5.98555737224, std=12.043729952\n"
       ]
      },
      {
       "output_type": "stream",
       "stream": "stderr",
       "text": [
        "WARNING:zscore_logger:After zscore => mean= -5.0716890961e-08, std= 1.00000000985\n"
       ]
      },
      {
       "output_type": "stream",
       "stream": "stderr",
       "text": [
        "WARNING:zscore_logger:\n",
        "Calculating zscore for LSC3\n"
       ]
      },
      {
       "output_type": "stream",
       "stream": "stderr",
       "text": [
        "WARNING:zscore_logger:Before zscore => mean=1.87326541735, std=4.89066241292\n"
       ]
      },
      {
       "output_type": "stream",
       "stream": "stderr",
       "text": [
        "WARNING:zscore_logger:After zscore => mean= -2.83507315657e-08, std= 1.00000001438\n"
       ]
      },
      {
       "output_type": "stream",
       "stream": "stderr",
       "text": [
        "WARNING:zscore_logger:\n",
        "Calculating zscore for LSC4\n"
       ]
      },
      {
       "output_type": "stream",
       "stream": "stderr",
       "text": [
        "WARNING:zscore_logger:Before zscore => mean=3.45415670985, std=4.50374100373\n"
       ]
      },
      {
       "output_type": "stream",
       "stream": "stderr",
       "text": [
        "WARNING:zscore_logger:After zscore => mean= -9.38037144215e-08, std= 1.00000003465\n"
       ]
      },
      {
       "output_type": "stream",
       "stream": "stderr",
       "text": [
        "WARNING:zscore_logger:\n",
        "Calculating zscore for VOC1\n"
       ]
      },
      {
       "output_type": "stream",
       "stream": "stderr",
       "text": [
        "WARNING:zscore_logger:Before zscore => mean=91.7806670021, std=12.5223875436\n"
       ]
      },
      {
       "output_type": "stream",
       "stream": "stderr",
       "text": [
        "WARNING:zscore_logger:After zscore => mean= -1.62799228621e-07, std= 0.999999995614\n"
       ]
      },
      {
       "output_type": "stream",
       "stream": "stderr",
       "text": [
        "WARNING:zscore_logger:\n",
        "Calculating zscore for VOC2\n"
       ]
      },
      {
       "output_type": "stream",
       "stream": "stderr",
       "text": [
        "WARNING:zscore_logger:Before zscore => mean=60.3766402549, std=18.802319947\n"
       ]
      },
      {
       "output_type": "stream",
       "stream": "stderr",
       "text": [
        "WARNING:zscore_logger:After zscore => mean= -9.01354127143e-09, std= 0.999999985443\n"
       ]
      },
      {
       "output_type": "stream",
       "stream": "stderr",
       "text": [
        "WARNING:zscore_logger:\n",
        "Calculating zscore for VOC3\n"
       ]
      },
      {
       "output_type": "stream",
       "stream": "stderr",
       "text": [
        "WARNING:zscore_logger:Before zscore => mean=20.0144740703, std=10.8517760962\n"
       ]
      },
      {
       "output_type": "stream",
       "stream": "stderr",
       "text": [
        "WARNING:zscore_logger:After zscore => mean= 1.58994675765e-08, std= 0.999999985684\n"
       ]
      },
      {
       "output_type": "stream",
       "stream": "stderr",
       "text": [
        "WARNING:zscore_logger:\n",
        "Calculating zscore for HC1\n"
       ]
      },
      {
       "output_type": "stream",
       "stream": "stderr",
       "text": [
        "WARNING:zscore_logger:Before zscore => mean=6.86174695007, std=3.99504113497\n"
       ]
      },
      {
       "output_type": "stream",
       "stream": "stderr",
       "text": [
        "WARNING:zscore_logger:After zscore => mean= 1.63187020501e-08, std= 0.999999948091\n"
       ]
      },
      {
       "output_type": "stream",
       "stream": "stderr",
       "text": [
        "WARNING:zscore_logger:\n",
        "Calculating zscore for HC2\n"
       ]
      },
      {
       "output_type": "stream",
       "stream": "stderr",
       "text": [
        "WARNING:zscore_logger:Before zscore => mean=23.8754978409, std=12.5322947166\n"
       ]
      },
      {
       "output_type": "stream",
       "stream": "stderr",
       "text": [
        "WARNING:zscore_logger:After zscore => mean= 9.09738817498e-09, std= 0.999999963173\n"
       ]
      },
      {
       "output_type": "stream",
       "stream": "stderr",
       "text": [
        "WARNING:zscore_logger:\n",
        "Calculating zscore for HC3\n"
       ]
      },
      {
       "output_type": "stream",
       "stream": "stderr",
       "text": [
        "WARNING:zscore_logger:Before zscore => mean=2.58980002515, std=5.9911681665\n"
       ]
      },
      {
       "output_type": "stream",
       "stream": "stderr",
       "text": [
        "WARNING:zscore_logger:After zscore => mean= -1.90552551021e-07, std= 1.0000000876\n"
       ]
      },
      {
       "output_type": "stream",
       "stream": "stderr",
       "text": [
        "WARNING:zscore_logger:\n",
        "Calculating zscore for HC4\n"
       ]
      },
      {
       "output_type": "stream",
       "stream": "stderr",
       "text": [
        "WARNING:zscore_logger:Before zscore => mean=12.4097912212, std=17.0047458531\n"
       ]
      },
      {
       "output_type": "stream",
       "stream": "stderr",
       "text": [
        "WARNING:zscore_logger:After zscore => mean= -3.72489833587e-08, std= 1.0000000135\n"
       ]
      },
      {
       "output_type": "stream",
       "stream": "stderr",
       "text": [
        "WARNING:zscore_logger:\n",
        "Calculating zscore for HC5\n"
       ]
      },
      {
       "output_type": "stream",
       "stream": "stderr",
       "text": [
        "WARNING:zscore_logger:Before zscore => mean=22.6947763384, std=23.9221607016\n"
       ]
      },
      {
       "output_type": "stream",
       "stream": "stderr",
       "text": [
        "WARNING:zscore_logger:After zscore => mean= -7.15633253726e-08, std= 1.00000008181\n"
       ]
      },
      {
       "output_type": "stream",
       "stream": "stderr",
       "text": [
        "WARNING:zscore_logger:\n",
        "Calculating zscore for HC6\n"
       ]
      },
      {
       "output_type": "stream",
       "stream": "stderr",
       "text": [
        "WARNING:zscore_logger:Before zscore => mean=46.023686748, std=32.0378117526\n"
       ]
      },
      {
       "output_type": "stream",
       "stream": "stderr",
       "text": [
        "WARNING:zscore_logger:After zscore => mean= -1.66226470368e-08, std= 1.00000004369\n"
       ]
      },
      {
       "output_type": "stream",
       "stream": "stderr",
       "text": [
        "WARNING:zscore_logger:\n",
        "Calculating zscore for HC7\n"
       ]
      },
      {
       "output_type": "stream",
       "stream": "stderr",
       "text": [
        "WARNING:zscore_logger:Before zscore => mean=62.4145390517, std=31.7470181413\n"
       ]
      },
      {
       "output_type": "stream",
       "stream": "stderr",
       "text": [
        "WARNING:zscore_logger:After zscore => mean= -3.25954806452e-08, std= 1.0000000053\n"
       ]
      },
      {
       "output_type": "stream",
       "stream": "stderr",
       "text": [
        "WARNING:zscore_logger:\n",
        "Calculating zscore for HC8\n"
       ]
      },
      {
       "output_type": "stream",
       "stream": "stderr",
       "text": [
        "WARNING:zscore_logger:Before zscore => mean=36.1335366621, std=31.2414921367\n"
       ]
      },
      {
       "output_type": "stream",
       "stream": "stderr",
       "text": [
        "WARNING:zscore_logger:After zscore => mean= 5.7938204834e-08, std= 1.00000001375\n"
       ]
      },
      {
       "output_type": "stream",
       "stream": "stderr",
       "text": [
        "WARNING:zscore_logger:\n",
        "Calculating zscore for HC9\n"
       ]
      },
      {
       "output_type": "stream",
       "stream": "stderr",
       "text": [
        "WARNING:zscore_logger:Before zscore => mean=2.74489582023, std=7.69067620909\n"
       ]
      },
      {
       "output_type": "stream",
       "stream": "stderr",
       "text": [
        "WARNING:zscore_logger:After zscore => mean= 1.02544753288e-07, std= 0.999999962688\n"
       ]
      },
      {
       "output_type": "stream",
       "stream": "stderr",
       "text": [
        "WARNING:zscore_logger:\n",
        "Calculating zscore for HC10\n"
       ]
      },
      {
       "output_type": "stream",
       "stream": "stderr",
       "text": [
        "WARNING:zscore_logger:Before zscore => mean=1.31634385612, std=3.41035981382\n"
       ]
      },
      {
       "output_type": "stream",
       "stream": "stderr",
       "text": [
        "WARNING:zscore_logger:After zscore => mean= -9.37093866792e-08, std= 1.00000004014\n"
       ]
      },
      {
       "output_type": "stream",
       "stream": "stderr",
       "text": [
        "WARNING:zscore_logger:\n",
        "Calculating zscore for HC11\n"
       ]
      },
      {
       "output_type": "stream",
       "stream": "stderr",
       "text": [
        "WARNING:zscore_logger:Before zscore => mean=51.8698172138, std=35.6455673394\n"
       ]
      },
      {
       "output_type": "stream",
       "stream": "stderr",
       "text": [
        "WARNING:zscore_logger:After zscore => mean= -7.88894478654e-08, std= 0.999999984789\n"
       ]
      },
      {
       "output_type": "stream",
       "stream": "stderr",
       "text": [
        "WARNING:zscore_logger:\n",
        "Calculating zscore for HC12\n"
       ]
      },
      {
       "output_type": "stream",
       "stream": "stderr",
       "text": [
        "WARNING:zscore_logger:Before zscore => mean=6.87846392487, std=12.0683233943\n"
       ]
      },
      {
       "output_type": "stream",
       "stream": "stderr",
       "text": [
        "WARNING:zscore_logger:After zscore => mean= 1.9159015625e-08, std= 0.999999982271\n"
       ]
      },
      {
       "output_type": "stream",
       "stream": "stderr",
       "text": [
        "WARNING:zscore_logger:\n",
        "Calculating zscore for HC13\n"
       ]
      },
      {
       "output_type": "stream",
       "stream": "stderr",
       "text": [
        "WARNING:zscore_logger:Before zscore => mean=29.802006037, std=27.9731226281\n"
       ]
      },
      {
       "output_type": "stream",
       "stream": "stderr",
       "text": [
        "WARNING:zscore_logger:After zscore => mean= -1.02922064294e-08, std= 0.999999959878\n"
       ]
      },
      {
       "output_type": "stream",
       "stream": "stderr",
       "text": [
        "WARNING:zscore_logger:\n",
        "Calculating zscore for HC14\n"
       ]
      },
      {
       "output_type": "stream",
       "stream": "stderr",
       "text": [
        "WARNING:zscore_logger:Before zscore => mean=4.55833647759, std=9.66412184644\n"
       ]
      },
      {
       "output_type": "stream",
       "stream": "stderr",
       "text": [
        "WARNING:zscore_logger:After zscore => mean= 8.3521988845e-08, std= 0.999999951594\n"
       ]
      },
      {
       "output_type": "stream",
       "stream": "stderr",
       "text": [
        "WARNING:zscore_logger:\n",
        "Calculating zscore for HC15\n"
       ]
      },
      {
       "output_type": "stream",
       "stream": "stderr",
       "text": [
        "WARNING:zscore_logger:Before zscore => mean=0.070965916237, std=0.493626139593\n"
       ]
      },
      {
       "output_type": "stream",
       "stream": "stderr",
       "text": [
        "WARNING:zscore_logger:After zscore => mean= -4.80316941273e-07, std= 1.00000006078\n"
       ]
      },
      {
       "output_type": "stream",
       "stream": "stderr",
       "text": [
        "WARNING:zscore_logger:\n",
        "Calculating zscore for HC16\n"
       ]
      },
      {
       "output_type": "stream",
       "stream": "stderr",
       "text": [
        "WARNING:zscore_logger:Before zscore => mean=5.29873600805, std=10.4031228444\n"
       ]
      },
      {
       "output_type": "stream",
       "stream": "stderr",
       "text": [
        "WARNING:zscore_logger:After zscore => mean= -3.59598373594e-08, std= 1.00000004284\n"
       ]
      },
      {
       "output_type": "stream",
       "stream": "stderr",
       "text": [
        "WARNING:zscore_logger:\n",
        "Calculating zscore for HC17\n"
       ]
      },
      {
       "output_type": "stream",
       "stream": "stderr",
       "text": [
        "WARNING:zscore_logger:Before zscore => mean=82.6304972121, std=28.4652996249\n"
       ]
      },
      {
       "output_type": "stream",
       "stream": "stderr",
       "text": [
        "WARNING:zscore_logger:After zscore => mean= 1.44887435574e-07, std= 1.00000009544\n"
       ]
      },
      {
       "output_type": "stream",
       "stream": "stderr",
       "text": [
        "WARNING:zscore_logger:\n",
        "Calculating zscore for HC18\n"
       ]
      },
      {
       "output_type": "stream",
       "stream": "stderr",
       "text": [
        "WARNING:zscore_logger:Before zscore => mean=15.1528633715, std=26.7041076161\n"
       ]
      },
      {
       "output_type": "stream",
       "stream": "stderr",
       "text": [
        "WARNING:zscore_logger:After zscore => mean= -1.44866473825e-07, std= 1.00000007692\n"
       ]
      },
      {
       "output_type": "stream",
       "stream": "stderr",
       "text": [
        "WARNING:zscore_logger:\n",
        "Calculating zscore for HC19\n"
       ]
      },
      {
       "output_type": "stream",
       "stream": "stderr",
       "text": [
        "WARNING:zscore_logger:Before zscore => mean=71.9445667212, std=35.5810577955\n"
       ]
      },
      {
       "output_type": "stream",
       "stream": "stderr",
       "text": [
        "WARNING:zscore_logger:After zscore => mean= 1.098079906e-07, std= 1.00000011554\n"
       ]
      },
      {
       "output_type": "stream",
       "stream": "stderr",
       "text": [
        "WARNING:zscore_logger:\n",
        "Calculating zscore for HC20\n"
       ]
      },
      {
       "output_type": "stream",
       "stream": "stderr",
       "text": [
        "WARNING:zscore_logger:Before zscore => mean=97.5615645831, std=9.62605223083\n"
       ]
      },
      {
       "output_type": "stream",
       "stream": "stderr",
       "text": [
        "WARNING:zscore_logger:After zscore => mean= -3.81754915524e-07, std= 0.999999896132\n"
       ]
      },
      {
       "output_type": "stream",
       "stream": "stderr",
       "text": [
        "WARNING:zscore_logger:\n",
        "Calculating zscore for HC21\n"
       ]
      },
      {
       "output_type": "stream",
       "stream": "stderr",
       "text": [
        "WARNING:zscore_logger:Before zscore => mean=94.3938812728, std=10.7396704807\n"
       ]
      },
      {
       "output_type": "stream",
       "stream": "stderr",
       "text": [
        "WARNING:zscore_logger:After zscore => mean= -7.76107827064e-08, std= 0.999999999074\n"
       ]
      },
      {
       "output_type": "stream",
       "stream": "stderr",
       "text": [
        "WARNING:zscore_logger:\n",
        "Calculating zscore for MHUC1\n"
       ]
      },
      {
       "output_type": "stream",
       "stream": "stderr",
       "text": [
        "WARNING:zscore_logger:Before zscore => mean=8.11283695971, std=3.53098006847\n"
       ]
      },
      {
       "output_type": "stream",
       "stream": "stderr",
       "text": [
        "WARNING:zscore_logger:After zscore => mean= 2.42946379553e-08, std= 1.00000003247\n"
       ]
      },
      {
       "output_type": "stream",
       "stream": "stderr",
       "text": [
        "WARNING:zscore_logger:\n",
        "Calculating zscore for MHUC2\n"
       ]
      },
      {
       "output_type": "stream",
       "stream": "stderr",
       "text": [
        "WARNING:zscore_logger:Before zscore => mean=2.3315515868, std=0.86686881427\n"
       ]
      },
      {
       "output_type": "stream",
       "stream": "stderr",
       "text": [
        "WARNING:zscore_logger:After zscore => mean= 2.84848865991e-07, std= 0.99999992616\n"
       ]
      },
      {
       "output_type": "stream",
       "stream": "stderr",
       "text": [
        "WARNING:zscore_logger:\n",
        "Calculating zscore for AC1\n"
       ]
      },
      {
       "output_type": "stream",
       "stream": "stderr",
       "text": [
        "WARNING:zscore_logger:Before zscore => mean=5.82587095963, std=2.87034354026\n"
       ]
      },
      {
       "output_type": "stream",
       "stream": "stderr",
       "text": [
        "WARNING:zscore_logger:After zscore => mean= 6.98444640143e-08, std= 1.00000001572\n"
       ]
      },
      {
       "output_type": "stream",
       "stream": "stderr",
       "text": [
        "WARNING:zscore_logger:\n",
        "Calculating zscore for AC2\n"
       ]
      },
      {
       "output_type": "stream",
       "stream": "stderr",
       "text": [
        "WARNING:zscore_logger:Before zscore => mean=5.98133358487, std=3.25216491799\n"
       ]
      },
      {
       "output_type": "stream",
       "stream": "stderr",
       "text": [
        "WARNING:zscore_logger:After zscore => mean= 6.27069970228e-08, std= 1.00000003535\n"
       ]
      },
      {
       "output_type": "stream",
       "stream": "stderr",
       "text": [
        "WARNING:zscore_logger:\n",
        "Calculating zscore for ADATE_2\n"
       ]
      },
      {
       "output_type": "stream",
       "stream": "stderr",
       "text": [
        "WARNING:zscore_logger:Before zscore => mean=9705.9997275, std=0.0233437068775\n"
       ]
      },
      {
       "output_type": "stream",
       "stream": "stderr",
       "text": [
        "WARNING:zscore_logger:After zscore => mean= -4.84834192764e-07, std= 1.00000698685\n"
       ]
      },
      {
       "output_type": "stream",
       "stream": "stderr",
       "text": [
        "WARNING:zscore_logger:\n",
        "Calculating zscore for ADATE_3\n"
       ]
      },
      {
       "output_type": "stream",
       "stream": "stderr",
       "text": [
        "WARNING:zscore_logger:Before zscore => mean=9605.99961482, std=0.0277529912706\n"
       ]
      },
      {
       "output_type": "stream",
       "stream": "stderr",
       "text": [
        "WARNING:zscore_logger:After zscore => mean= 1.73974449555e-08, std= 0.999998647414\n"
       ]
      },
      {
       "output_type": "stream",
       "stream": "stderr",
       "text": [
        "WARNING:zscore_logger:\n",
        "Calculating zscore for ADATE_4\n"
       ]
      },
      {
       "output_type": "stream",
       "stream": "stderr",
       "text": [
        "WARNING:zscore_logger:Before zscore => mean=9604.0153828, std=0.955061609455\n"
       ]
      },
      {
       "output_type": "stream",
       "stream": "stderr",
       "text": [
        "WARNING:zscore_logger:After zscore => mean= -3.9164995012e-07, std= 1.0000000147\n"
       ]
      },
      {
       "output_type": "stream",
       "stream": "stderr",
       "text": [
        "WARNING:zscore_logger:\n",
        "Calculating zscore for ADATE_5\n"
       ]
      },
      {
       "output_type": "stream",
       "stream": "stderr",
       "text": [
        "WARNING:zscore_logger:Before zscore => mean=9604.0, std=0.0\n"
       ]
      },
      {
       "ename": "ZeroDivisionError",
       "evalue": "float division by zero",
       "output_type": "pyerr",
       "traceback": [
        "\u001b[1;31m---------------------------------------------------------------------------\u001b[0m\n\u001b[1;31mZeroDivisionError\u001b[0m                         Traceback (most recent call last)",
        "\u001b[1;32m<ipython-input-18-74a1092efacf>\u001b[0m in \u001b[0;36m<module>\u001b[1;34m()\u001b[0m\n\u001b[0;32m     46\u001b[0m \u001b[1;32mfor\u001b[0m \u001b[0mc\u001b[0m \u001b[1;32min\u001b[0m \u001b[0mtest_columns\u001b[0m\u001b[1;33m:\u001b[0m\u001b[1;33m\u001b[0m\u001b[0m\n\u001b[0;32m     47\u001b[0m     \u001b[0mlog\u001b[0m\u001b[1;33m.\u001b[0m\u001b[0mwarn\u001b[0m\u001b[1;33m(\u001b[0m\u001b[1;34m\"\\nCalculating zscore for {}\"\u001b[0m\u001b[1;33m.\u001b[0m\u001b[0mformat\u001b[0m\u001b[1;33m(\u001b[0m\u001b[0mc\u001b[0m\u001b[1;33m)\u001b[0m\u001b[1;33m)\u001b[0m\u001b[1;33m\u001b[0m\u001b[0m\n\u001b[1;32m---> 48\u001b[1;33m     \u001b[0mz_score\u001b[0m\u001b[1;33m(\u001b[0m\u001b[0mnew_mdf\u001b[0m\u001b[1;33m,\u001b[0m \u001b[0mc\u001b[0m\u001b[1;33m)\u001b[0m\u001b[1;33m\u001b[0m\u001b[0m\n\u001b[0m",
        "\u001b[1;32m<ipython-input-18-74a1092efacf>\u001b[0m in \u001b[0;36mz_score\u001b[1;34m(df, index, inplace)\u001b[0m\n\u001b[0;32m     24\u001b[0m     \u001b[1;32mfor\u001b[0m \u001b[0mi\u001b[0m \u001b[1;32min\u001b[0m \u001b[0mxrange\u001b[0m\u001b[1;33m(\u001b[0m\u001b[0mn\u001b[0m\u001b[1;33m)\u001b[0m\u001b[1;33m:\u001b[0m\u001b[1;33m\u001b[0m\u001b[0m\n\u001b[0;32m     25\u001b[0m         \u001b[0mx\u001b[0m\u001b[1;33m=\u001b[0m \u001b[0mfloat\u001b[0m\u001b[1;33m(\u001b[0m\u001b[0mc_series\u001b[0m\u001b[1;33m[\u001b[0m\u001b[0mi\u001b[0m\u001b[1;33m]\u001b[0m\u001b[1;33m)\u001b[0m\u001b[1;33m\u001b[0m\u001b[0m\n\u001b[1;32m---> 26\u001b[1;33m         \u001b[0mzscore\u001b[0m\u001b[1;33m=\u001b[0m \u001b[0mround\u001b[0m\u001b[1;33m(\u001b[0m\u001b[1;33m(\u001b[0m\u001b[1;33m(\u001b[0m\u001b[0mx\u001b[0m \u001b[1;33m-\u001b[0m \u001b[0mc_mean\u001b[0m\u001b[1;33m)\u001b[0m \u001b[1;33m/\u001b[0m \u001b[0mc_std\u001b[0m\u001b[1;33m)\u001b[0m\u001b[1;33m,\u001b[0m \u001b[1;36m6\u001b[0m\u001b[1;33m)\u001b[0m\u001b[1;33m\u001b[0m\u001b[0m\n\u001b[0m\u001b[0;32m     27\u001b[0m         \u001b[0mc_series\u001b[0m\u001b[1;33m.\u001b[0m\u001b[0mset_value\u001b[0m\u001b[1;33m(\u001b[0m\u001b[0mi\u001b[0m\u001b[1;33m,\u001b[0m\u001b[0mzscore\u001b[0m\u001b[1;33m)\u001b[0m\u001b[1;33m\u001b[0m\u001b[0m\n\u001b[0;32m     28\u001b[0m         \u001b[1;31m#\u001b[0m\u001b[1;33m\u001b[0m\u001b[1;33m\u001b[0m\u001b[0m\n",
        "\u001b[1;31mZeroDivisionError\u001b[0m: float division by zero"
       ]
      }
     ],
     "prompt_number": 18
    },
    {
     "cell_type": "markdown",
     "metadata": {},
     "source": [
      "###Modeling\n",
      "\n",
      "Note that there are two labeles for this dataset: weather a person donated or not and how much they donated if they donated.  To accurately model this we would need more complicated techniques you will learn in later coursework.  However, for now we can do some exploratory analysis similar to the housing/iris notebooks we saw in class friday.\n",
      "\n",
      "Do the following steps:\n",
      "\n",
      "**Unsupervised Modeling**\n",
      "1. Use PCA to project the features onto a 2 dimensional subspace, join with the labels and plot each point using the doner/non doner to color points.  Do the labels look cleanly seperated in this 2 dimensional subspace?\n",
      "2. Cluster the raw features into 2 clusters.  Compute the percentage of donors in each cluster.  Do one of the clusters have a higher donor rate than the other?  Plot the two features which seem to seperate the clusters the most, coloring the points by the labels.\n",
      "\n",
      "**Supervised Modeling**\n",
      "1. Build a regression model on the set of known donors to predict the donation amount from all features.\n",
      "2. Compute the mean error and plot the true donation size vs predicted donation size.\n",
      "3. Print a list of features/weights for hte linear regression model sorted by absolute weight.  Do the highest weight features seem like things that would affect donation size?"
     ]
    }
   ],
   "metadata": {}
  }
 ]
}