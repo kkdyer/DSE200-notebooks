{
 "metadata": {
  "name": "",
  "signature": "sha256:878cf7f760db0a4c01d7017e669baaf321409e0f9794649ef52c66bfea02d7a6"
 },
 "nbformat": 3,
 "nbformat_minor": 0,
 "worksheets": [
  {
   "cells": [
    {
     "cell_type": "markdown",
     "metadata": {},
     "source": [
      "#Week 2 Exercises\n",
      "\n",
      "In this weeks exercises you will use Numpy/Scipy to impliment some numerical algorithms and then you will use Pandas to perform a rudamentary data analysis using the KDD 98 dataset.  Along the way you will use unix/basic python from the first week as well as git to save your work.\n",
      "\n",
      "As a first step we import the libraries we'll use later on.  This allows us to use numpy library calls by prefixing the call with np."
     ]
    },
    {
     "cell_type": "code",
     "collapsed": false,
     "input": [
      "%cd /home/dyerke/Documents/DSE/DSE200-notebooks/lecture_2_github_io_numpy_pandas/working"
     ],
     "language": "python",
     "metadata": {},
     "outputs": [
      {
       "output_type": "stream",
       "stream": "stdout",
       "text": [
        "/home/dyerke/Documents/DSE/DSE200-notebooks/lecture_2_github_io_numpy_pandas/working\n"
       ]
      }
     ],
     "prompt_number": 2
    },
    {
     "cell_type": "code",
     "collapsed": false,
     "input": [
      "#Import the libraries \n",
      "import numpy as np\n",
      "import scipy as sp\n",
      "import pandas as pd"
     ],
     "language": "python",
     "metadata": {},
     "outputs": [],
     "prompt_number": 4
    },
    {
     "cell_type": "markdown",
     "metadata": {},
     "source": [
      "##Matrix Manipulations\n",
      "Lets first create a matrix and perform some manipulations of it.\n",
      "\n",
      "Using numpy's matrix data structure, define the following matricies:\n",
      "\n",
      "$$A=\\left[ \\begin{array}{ccc} 3 & 5 & 9 \\\\ 3 & 3 & 4 \\\\ 5 & 9 & 17 \\end{array} \\right]$$\n",
      "\n",
      "$$B=\\left[ \\begin{array}{c} 2 \\\\ 1 \\\\ 4 \\end{array} \\right]$$\n",
      "\n",
      "After this solve the matrix equation:\n",
      "$$Ax = B$$"
     ]
    },
    {
     "cell_type": "code",
     "collapsed": false,
     "input": [
      "a= np.array([ [3, 5, 9], [3, 3, 4], [5, 9, 17] ])\n",
      "A= np.matrix(a)\n",
      "\n",
      "b= np.array([2., 1., 4.])\n",
      "B= np.matrix(b).transpose()\n",
      "\n",
      "x= A.I * B\n",
      "print \"x=\", x\n",
      "\n",
      "verify= A * x\n",
      "print verify\n",
      "print B"
     ],
     "language": "python",
     "metadata": {},
     "outputs": [
      {
       "output_type": "stream",
       "stream": "stdout",
       "text": [
        "x= [[ 1.]\n",
        " [-2.]\n",
        " [ 1.]]"
       ]
      },
      {
       "output_type": "stream",
       "stream": "stdout",
       "text": [
        "\n",
        "[[ 2.]\n",
        " [ 1.]\n",
        " [ 4.]]\n",
        "[[ 2.]\n",
        " [ 1.]\n",
        " [ 4.]]\n"
       ]
      }
     ],
     "prompt_number": 5
    },
    {
     "cell_type": "markdown",
     "metadata": {},
     "source": [
      "Now write three functions for matrix multiply $C=AB$ in each of the following styles:\n",
      "\n",
      "1. By using nested for loops to impliment the naive algorithm ($C_{ij}=\\sum_{k=0}^{m-1}A_{ik}B_{kj}$)\n",
      "2. Using numpy's built in martrix multiplication  \n",
      "3. Using Cython\n",
      "\n",
      "The three methods should have the same answer"
     ]
    },
    {
     "cell_type": "code",
     "collapsed": false,
     "input": [
      "import time\n",
      "\n",
      "#1 Nested For Loops\n",
      "def naive(A, B, r_duration=None):\n",
      "    if r_duration:\n",
      "        start= time.time()\n",
      "    a_shape= shape(A)\n",
      "    b_shape= shape(B)\n",
      "    if (a_shape[1] != b_shape[0]):\n",
      "        raise RuntimeError(\"Cannot execute matrix multiplication: \" + str(a_shape[1]) + \" != \" + str(b_shape[0]))\n",
      "    n= a_shape[0]\n",
      "    m= a_shape[1]\n",
      "    p= b_shape[1]\n",
      "    R= zeros( (n, p) )\n",
      "    for i in xrange(n):\n",
      "        for j in xrange(p):\n",
      "            for k in xrange(m):\n",
      "                R[i][j] += A[i][k] * B[k][j]\n",
      "    if r_duration:\n",
      "        end= time.time()\n",
      "        duration= (end - start) * 1000.\n",
      "        r_duration.value= duration\n",
      "    return (R, r_duration.value) if r_duration else R"
     ],
     "language": "python",
     "metadata": {},
     "outputs": [],
     "prompt_number": 6
    },
    {
     "cell_type": "code",
     "collapsed": false,
     "input": [
      "from multiprocessing import Value\n",
      "\n",
      "a= np.array([ [3, 5, 9], [3, 3, 4], [5, 9, 17] ])\n",
      "b= np.array([ [1], [-2], [1] ])\n",
      "R_naive= naive(a, b, Value('f', 99999.))\n",
      "print R_naive"
     ],
     "language": "python",
     "metadata": {},
     "outputs": [
      {
       "output_type": "stream",
       "stream": "stdout",
       "text": [
        "(array([[ 2.],\n",
        "       [ 1.],\n",
        "       [ 4.]]), 0.06794929504394531)\n"
       ]
      }
     ],
     "prompt_number": 7
    },
    {
     "cell_type": "code",
     "collapsed": false,
     "input": [
      "import time\n",
      "\n",
      "#2 numpy's built in matrix multiplication\n",
      "def numpy_multiply(A, B, r_duration=None):\n",
      "    if r_duration:\n",
      "        start= time.time()\n",
      "    R= A.dot(B)\n",
      "    if r_duration:\n",
      "        end= time.time()\n",
      "        duration= (end - start) * 1000.\n",
      "        r_duration.value= duration\n",
      "    return (R, r_duration.value) if r_duration else R"
     ],
     "language": "python",
     "metadata": {},
     "outputs": [],
     "prompt_number": 8
    },
    {
     "cell_type": "code",
     "collapsed": false,
     "input": [
      "from multiprocessing import Value\n",
      "\n",
      "a= np.array([ [3, 5, 9], [3, 3, 4], [5, 9, 17] ])\n",
      "b= np.array([ [1], [-2], [1] ])\n",
      "R_numpy= numpy_multiply(a, b, Value('f', 99999.))\n",
      "print R_numpy"
     ],
     "language": "python",
     "metadata": {},
     "outputs": [
      {
       "output_type": "stream",
       "stream": "stdout",
       "text": [
        "(array([[2],\n",
        "       [1],\n",
        "       [4]]), 0.12803077697753906)\n"
       ]
      }
     ],
     "prompt_number": 9
    },
    {
     "cell_type": "code",
     "collapsed": false,
     "input": [
      "%load_ext cythonmagic"
     ],
     "language": "python",
     "metadata": {},
     "outputs": [],
     "prompt_number": 10
    },
    {
     "cell_type": "code",
     "collapsed": false,
     "input": [
      "%%cython\n",
      "\n",
      "cimport numpy as np\n",
      "import numpy as np\n",
      "import time\n",
      "\n",
      "#3 cython matrix multiplication\n",
      "def cython_multiply(np.ndarray[np.int_t, ndim=2] a,\n",
      "                np.ndarray[np.int_t, ndim=2] b,\n",
      "                r_duration=None):\n",
      "    cdef double sum\n",
      "    cdef int i\n",
      "    cdef int j\n",
      "    cdef int k\n",
      "    cdef int n\n",
      "    cdef int m\n",
      "    cdef int p\n",
      "    cdef np.ndarray[np.int_t, ndim=2] R\n",
      "    \n",
      "    if r_duration:\n",
      "        start= time.time()\n",
      "        \n",
      "    if (a.shape[1] != b.shape[0]):\n",
      "        raise RuntimeError(\"Cannot execute matrix multiplication: \" + str(a.shape[1]) + \" != \" + str(b.shape[0]))\n",
      "    n= a.shape[0]\n",
      "    m= a.shape[1]\n",
      "    p= b.shape[1]\n",
      "    R= np.zeros([n, p], dtype=np.int)\n",
      "    for i in xrange(n):\n",
      "        for j in xrange(p):\n",
      "            for k in xrange(m):\n",
      "                R[i][j]= R[i][j] + a[i][k] * b[k][j]\n",
      "    if r_duration:\n",
      "        end= time.time()\n",
      "        duration= (end - start) * 1000.\n",
      "        r_duration.value= duration\n",
      "    return (R, r_duration.value) if r_duration else R"
     ],
     "language": "python",
     "metadata": {},
     "outputs": [],
     "prompt_number": 11
    },
    {
     "cell_type": "code",
     "collapsed": false,
     "input": [
      "from multiprocessing import Value\n",
      "\n",
      "a= np.array([ [3, 5, 9], [3, 3, 4], [5, 9, 17] ])\n",
      "b= np.array([ [1], [-2], [1] ])\n",
      "R_cython= cython_multiply(a, b, Value('f', 99999.))\n",
      "print R_cython"
     ],
     "language": "python",
     "metadata": {},
     "outputs": [
      {
       "output_type": "stream",
       "stream": "stdout",
       "text": [
        "(array([[2],\n",
        "       [1],\n",
        "       [4]]), 0.04506111145019531)\n"
       ]
      }
     ],
     "prompt_number": 12
    },
    {
     "cell_type": "markdown",
     "metadata": {},
     "source": [
      "Now we wish to evaluate the performance of these three methods.  Write a method that given three dmiensions (a,b,c) makes a random a x b and b x c matrix and computes the product using your three functions and reports the speed of each method.\n",
      "\n",
      "After this measure performance of each method for all $a,b,c \\in \\{10,100,1000,10000\\}$ and plot the results.  Is one method always the fastest?  Discuss why this is or is not the case."
     ]
    },
    {
     "cell_type": "code",
     "collapsed": false,
     "input": [
      "from multiprocessing import Process,Value\n",
      "import time\n",
      "\n",
      "def run_target_method(target_method, t_result, A, B):\n",
      "    # wait at most 30s\n",
      "    timeout= 30.0\n",
      "    #\n",
      "    p= Process(target=target_method, args=(A,B,t_result))\n",
      "    p.start()\n",
      "    p.join(timeout)\n",
      "    if p.is_alive():\n",
      "        p.terminate()\n",
      "    \n",
      "    \n",
      "def execute_matrix_multiplication(a, b, c):\n",
      "    A= np.random.randint(0, 100, (a, b))\n",
      "    B= np.random.randint(0, 100, (b, c))\n",
      "    \n",
      "    m_infinity= 99999.\n",
      "    tr_naive= Value('f', m_infinity)    \n",
      "    run_target_method(naive, tr_naive, A, B)\n",
      "\n",
      "    tr_numpy= Value('f', m_infinity)    \n",
      "    run_target_method(numpy_multiply, tr_numpy, A, B)\n",
      "    \n",
      "    tr_cython= Value('f', m_infinity)    \n",
      "    run_target_method(cython_multiply, tr_cython, A, B)\n",
      "    \n",
      "    return (tr_naive.value, tr_numpy.value, tr_cython.value)"
     ],
     "language": "python",
     "metadata": {},
     "outputs": [],
     "prompt_number": 13
    },
    {
     "cell_type": "code",
     "collapsed": false,
     "input": [
      "import time\n",
      "\n",
      "def measureExecuteMatrixMultiplication(experiment, k=100):\n",
      "    \"\"\" Measure the distribution of time executing Matrix Multiplication.\n",
      "    k = number of times that the experiment is repeated.\n",
      "    output:\n",
      "    Tuples of each Matrix Multiplication method\n",
      "    mean = the mean of T\n",
      "    std = the std of T\n",
      "    T = a list the contains the times of all k experiments\n",
      "    \"\"\"\n",
      "    values= experiment[1]\n",
      "    a= values[0]; b= values[1]; c= values[2]\n",
      "    print \"Executing {} samples using experiment with combination {}: values a={}, b={}, c={}\".format(k, experiment[0], a, b, c)\n",
      "    # initialize sum, time arrays\n",
      "    i_naive= 0; i_numpy= 1; i_cython= 2\n",
      "    naivesum=0; numpysum= 0; cythonsum=0\n",
      "    naivesum2=0; numpysum2= 0; cythonsum2=0\n",
      "    naiveT=np.zeros(k); numpyT= np.zeros(k); cythonT= np.zeros(k)\n",
      "    \n",
      "    for i in xrange(k):\n",
      "        print \"Performing execute_matrix_multiplication sample {}\".format(i + 1)\n",
      "        result= execute_matrix_multiplication(a,b,c)\n",
      "        print \"Aggregating results for sample {}\".format(i + 1)\n",
      "        # aggregate results\n",
      "        d= result[i_naive]\n",
      "        naiveT[i]= d\n",
      "        naivesum += d\n",
      "        naivesum2 += d*d\n",
      "        \n",
      "        d= result[i_numpy]\n",
      "        numpyT[i]= d\n",
      "        numpysum += d\n",
      "        numpysum2 += d*d\n",
      "        \n",
      "        d= result[i_cython]\n",
      "        cythonT[i]= d\n",
      "        cythonsum += d\n",
      "        cythonsum2 += d*d\n",
      "    \n",
      "    # return mean, variance, standard deviation for each method\n",
      "    naivemean= naivesum/k; naivevar= (naivesum2/k)-naivemean**2; naivestd= sqrt(naivevar)\n",
      "    naiveresult= (naivemean, naivestd, naiveT)\n",
      "    \n",
      "    numpymean= numpysum/k; numpyvar= (numpysum2/k)-numpymean**2; numpystd= sqrt(numpyvar)\n",
      "    numpyresult= (numpymean, numpystd, numpyT)\n",
      "    \n",
      "    cythonmean= cythonsum/k; cythonvar= (cythonsum2/k)-cythonmean**2; cythonstd= sqrt(cythonvar)\n",
      "    cythonresult= (cythonmean, cythonstd, cythonT)\n",
      "\n",
      "    return (naiveresult, numpyresult, cythonresult)"
     ],
     "language": "python",
     "metadata": {},
     "outputs": [],
     "prompt_number": 14
    },
    {
     "cell_type": "code",
     "collapsed": false,
     "input": [
      "a= 10; b= 10; c=10\n",
      "experiment= (('Combination {}= ({},{},{})'.format(0,a,b,c)), (a,b,c))\n",
      "R= measureExecuteMatrixMultiplication(experiment, 2)\n",
      "print \"\"\n",
      "print R"
     ],
     "language": "python",
     "metadata": {},
     "outputs": [
      {
       "output_type": "stream",
       "stream": "stdout",
       "text": [
        "Executing 2 samples using experiment with combination Combination 0= (10,10,10): values a=10, b=10, c=10\n",
        "Performing execute_matrix_multiplication sample 1\n"
       ]
      },
      {
       "output_type": "stream",
       "stream": "stdout",
       "text": [
        "Aggregating results for sample 1\n",
        "Performing execute_matrix_multiplication sample 2\n"
       ]
      },
      {
       "output_type": "stream",
       "stream": "stdout",
       "text": [
        "Aggregating results for sample 2\n",
        "\n",
        "((1.1289119720458984, 0.015020370483398438, array([ 1.14393234,  1.1138916 ])), (0.06699562072753906, 0.010967254638671875, array([ 0.05602837,  0.07796288])), (0.9500980377197266, 0.25701522827148438, array([ 1.20711327,  0.69308281])))\n"
       ]
      }
     ],
     "prompt_number": 14
    },
    {
     "cell_type": "code",
     "collapsed": false,
     "input": [
      "# Use PlotTime from 02_measuring_performance_of_memory_hierarchy.ipynb\n",
      "\n",
      "from matplotlib.backends.backend_pdf import PdfPages\n",
      "from scipy.special import erf,erfinv\n",
      "\n",
      "def PlotTime(m_i, Tsorted,Mean,Std,Color='b',LS='-',Legend=''):\n",
      "    \"\"\" plot distribution of times on a log-log scale\"\"\"\n",
      "    P=arange(1,0,-1.0/k)    # probability \n",
      "    loglog(Tsorted,P,color=Color,label=Legend,linestyle=LS)                 # plot log-log of 1-CDF \n",
      "    \n",
      "    grid()\n",
      "    loglog([Mean,Mean],[1,0.0001],color=Color,linestyle=LS)           # vert line at mean\n",
      "    Y=0.1**((m_i+1.)/2.)\n",
      "    loglog([Mean,min(Mean+Std,1)],[Y,Y],color=Color,linestyle=LS) # horiz line from mean to mean + std\n",
      "        \n",
      "    x=arange(Mean,Mean+Std*erfinv(1.0-1.0/len(Tsorted)),Std/100)  # normal distribution \n",
      "    loglog(x,1-erf((x-Mean)/Std),color=Color,linestyle=LS)"
     ],
     "language": "python",
     "metadata": {},
     "outputs": [],
     "prompt_number": 15
    },
    {
     "cell_type": "code",
     "collapsed": false,
     "input": [
      "# perform plot\n",
      "\n",
      "from matplotlib.backends.backend_pdf import PdfPages\n",
      "from scipy.special import erf,erfinv\n",
      "\n",
      "\n",
      "def doPlot(experiment, k=10):\n",
      "    i_naive= 0; i_numpy= 1; i_cython= 2\n",
      "    m_methods=[\"python\", \"numpy\", \"cython\"]\n",
      "    values= experiment[1]\n",
      "    Colors='rgb'\n",
      "\n",
      "    # create figure\n",
      "    pp = PdfPages('Figure_{}samp_{}_{}_{}.pdf'.format(k, values[0], values[1], values[2]))\n",
      "    figure(figsize=(6,4))\n",
      "    fig = matplotlib.pyplot.gcf()\n",
      "    fig.set_size_inches(18.5,10.5)\n",
      "\n",
      "    # do plot\n",
      "    R= measureExecuteMatrixMultiplication(experiment, k)\n",
      "\n",
      "    for m_i in [i_naive, i_numpy, i_cython]:\n",
      "        current_R= R[m_i]\n",
      "        mean= current_R[0]\n",
      "        std= current_R[1]\n",
      "        T= current_R[2]\n",
      "        PlotTime(m_i, sort(T),mean,std,Color=Colors[m_i],Legend=('{} method'.format(m_methods[m_i])))\n",
      "\n",
      "    grid()\n",
      "    legend(fontsize='medium')\n",
      "    xlabel('duration (ms)')\n",
      "    ylabel('1-CDF')\n",
      "    pp.savefig()\n",
      "    pp.close()\n",
      "    \n",
      "# Execute Matrix Multiplication k times\n",
      "# 0 -> naive\n",
      "# 1 -> numpy\n",
      "# 2 -> cython\n",
      "#\n",
      "# select combination\n",
      "# S= [10, 100, 1000, 10000]\n",
      "S= [10, 100]\n",
      "n= len(S) * 3\n",
      "i_random_matrix_combination= randint(0, n)\n",
      "experiments= []\n",
      "c_id= 0\n",
      "for a in S:\n",
      "    for b in S:\n",
      "        for c in S:\n",
      "            experiment= (('Combination {}= ({},{},{})'.format(c_id,a,b,c)), (a,b,c))\n",
      "            experiments.append(experiment)\n",
      "            c_id+=1\n",
      "k= 500\n",
      "experiment= experiments[i_random_matrix_combination]\n",
      "doPlot(experiment, k)"
     ],
     "language": "python",
     "metadata": {},
     "outputs": [
      {
       "output_type": "stream",
       "stream": "stdout",
       "text": [
        "Executing 500 samples using experiment with combination Combination 4= (100,10,10): values a=100, b=10, c=10\n",
        "Performing execute_matrix_multiplication sample 1\n"
       ]
      },
      {
       "output_type": "stream",
       "stream": "stdout",
       "text": [
        "Aggregating results for sample 1\n",
        "Performing execute_matrix_multiplication sample 2\n"
       ]
      },
      {
       "output_type": "stream",
       "stream": "stdout",
       "text": [
        "Aggregating results for sample 2\n",
        "Performing execute_matrix_multiplication sample 3\n"
       ]
      },
      {
       "output_type": "stream",
       "stream": "stdout",
       "text": [
        "Aggregating results for sample 3\n",
        "Performing execute_matrix_multiplication sample 4\n"
       ]
      },
      {
       "output_type": "stream",
       "stream": "stdout",
       "text": [
        "Aggregating results for sample 4\n",
        "Performing execute_matrix_multiplication sample 5\n"
       ]
      },
      {
       "output_type": "stream",
       "stream": "stdout",
       "text": [
        "Aggregating results for sample 5\n",
        "Performing execute_matrix_multiplication sample 6\n"
       ]
      },
      {
       "output_type": "stream",
       "stream": "stdout",
       "text": [
        "Aggregating results for sample 6\n",
        "Performing execute_matrix_multiplication sample 7\n"
       ]
      },
      {
       "output_type": "stream",
       "stream": "stdout",
       "text": [
        "Aggregating results for sample 7\n",
        "Performing execute_matrix_multiplication sample 8\n"
       ]
      },
      {
       "output_type": "stream",
       "stream": "stdout",
       "text": [
        "Aggregating results for sample 8\n",
        "Performing execute_matrix_multiplication sample 9\n"
       ]
      },
      {
       "output_type": "stream",
       "stream": "stdout",
       "text": [
        "Aggregating results for sample 9\n",
        "Performing execute_matrix_multiplication sample 10\n"
       ]
      },
      {
       "output_type": "stream",
       "stream": "stdout",
       "text": [
        "Aggregating results for sample 10\n",
        "Performing execute_matrix_multiplication sample 11\n"
       ]
      },
      {
       "output_type": "stream",
       "stream": "stdout",
       "text": [
        "Aggregating results for sample 11\n",
        "Performing execute_matrix_multiplication sample 12\n"
       ]
      },
      {
       "output_type": "stream",
       "stream": "stdout",
       "text": [
        "Aggregating results for sample 12\n",
        "Performing execute_matrix_multiplication sample 13\n"
       ]
      },
      {
       "output_type": "stream",
       "stream": "stdout",
       "text": [
        "Aggregating results for sample 13\n",
        "Performing execute_matrix_multiplication sample 14\n"
       ]
      },
      {
       "output_type": "stream",
       "stream": "stdout",
       "text": [
        "Aggregating results for sample 14\n",
        "Performing execute_matrix_multiplication sample 15\n"
       ]
      },
      {
       "output_type": "stream",
       "stream": "stdout",
       "text": [
        "Aggregating results for sample 15\n",
        "Performing execute_matrix_multiplication sample 16\n"
       ]
      },
      {
       "output_type": "stream",
       "stream": "stdout",
       "text": [
        "Aggregating results for sample 16\n",
        "Performing execute_matrix_multiplication sample 17\n"
       ]
      },
      {
       "output_type": "stream",
       "stream": "stdout",
       "text": [
        "Aggregating results for sample 17\n",
        "Performing execute_matrix_multiplication sample 18\n"
       ]
      },
      {
       "output_type": "stream",
       "stream": "stdout",
       "text": [
        "Aggregating results for sample 18\n",
        "Performing execute_matrix_multiplication sample 19\n"
       ]
      },
      {
       "output_type": "stream",
       "stream": "stdout",
       "text": [
        "Aggregating results for sample 19\n",
        "Performing execute_matrix_multiplication sample 20\n"
       ]
      },
      {
       "output_type": "stream",
       "stream": "stdout",
       "text": [
        "Aggregating results for sample 20\n",
        "Performing execute_matrix_multiplication sample 21\n"
       ]
      },
      {
       "output_type": "stream",
       "stream": "stdout",
       "text": [
        "Aggregating results for sample 21\n",
        "Performing execute_matrix_multiplication sample 22\n"
       ]
      },
      {
       "output_type": "stream",
       "stream": "stdout",
       "text": [
        "Aggregating results for sample 22\n",
        "Performing execute_matrix_multiplication sample 23\n"
       ]
      },
      {
       "output_type": "stream",
       "stream": "stdout",
       "text": [
        "Aggregating results for sample 23\n",
        "Performing execute_matrix_multiplication sample 24\n"
       ]
      },
      {
       "output_type": "stream",
       "stream": "stdout",
       "text": [
        "Aggregating results for sample 24\n",
        "Performing execute_matrix_multiplication sample 25\n"
       ]
      },
      {
       "output_type": "stream",
       "stream": "stdout",
       "text": [
        "Aggregating results for sample 25\n",
        "Performing execute_matrix_multiplication sample 26\n"
       ]
      },
      {
       "output_type": "stream",
       "stream": "stdout",
       "text": [
        "Aggregating results for sample 26\n",
        "Performing execute_matrix_multiplication sample 27\n"
       ]
      },
      {
       "output_type": "stream",
       "stream": "stdout",
       "text": [
        "Aggregating results for sample 27\n",
        "Performing execute_matrix_multiplication sample 28\n"
       ]
      },
      {
       "output_type": "stream",
       "stream": "stdout",
       "text": [
        "Aggregating results for sample 28\n",
        "Performing execute_matrix_multiplication sample 29\n"
       ]
      },
      {
       "output_type": "stream",
       "stream": "stdout",
       "text": [
        "Aggregating results for sample 29\n",
        "Performing execute_matrix_multiplication sample 30\n"
       ]
      },
      {
       "output_type": "stream",
       "stream": "stdout",
       "text": [
        "Aggregating results for sample 30\n",
        "Performing execute_matrix_multiplication sample 31\n"
       ]
      },
      {
       "output_type": "stream",
       "stream": "stdout",
       "text": [
        "Aggregating results for sample 31\n",
        "Performing execute_matrix_multiplication sample 32\n"
       ]
      },
      {
       "output_type": "stream",
       "stream": "stdout",
       "text": [
        "Aggregating results for sample 32\n",
        "Performing execute_matrix_multiplication sample 33\n"
       ]
      },
      {
       "output_type": "stream",
       "stream": "stdout",
       "text": [
        "Aggregating results for sample 33\n",
        "Performing execute_matrix_multiplication sample 34\n"
       ]
      },
      {
       "output_type": "stream",
       "stream": "stdout",
       "text": [
        "Aggregating results for sample 34\n",
        "Performing execute_matrix_multiplication sample 35\n"
       ]
      },
      {
       "output_type": "stream",
       "stream": "stdout",
       "text": [
        "Aggregating results for sample 35\n",
        "Performing execute_matrix_multiplication sample 36\n"
       ]
      },
      {
       "output_type": "stream",
       "stream": "stdout",
       "text": [
        "Aggregating results for sample 36\n",
        "Performing execute_matrix_multiplication sample 37\n"
       ]
      },
      {
       "output_type": "stream",
       "stream": "stdout",
       "text": [
        "Aggregating results for sample 37\n",
        "Performing execute_matrix_multiplication sample 38\n"
       ]
      },
      {
       "output_type": "stream",
       "stream": "stdout",
       "text": [
        "Aggregating results for sample 38\n",
        "Performing execute_matrix_multiplication sample 39\n"
       ]
      },
      {
       "output_type": "stream",
       "stream": "stdout",
       "text": [
        "Aggregating results for sample 39\n",
        "Performing execute_matrix_multiplication sample 40\n"
       ]
      },
      {
       "output_type": "stream",
       "stream": "stdout",
       "text": [
        "Aggregating results for sample 40\n",
        "Performing execute_matrix_multiplication sample 41\n"
       ]
      },
      {
       "output_type": "stream",
       "stream": "stdout",
       "text": [
        "Aggregating results for sample 41\n",
        "Performing execute_matrix_multiplication sample 42\n"
       ]
      },
      {
       "output_type": "stream",
       "stream": "stdout",
       "text": [
        "Aggregating results for sample 42\n",
        "Performing execute_matrix_multiplication sample 43\n"
       ]
      },
      {
       "output_type": "stream",
       "stream": "stdout",
       "text": [
        "Aggregating results for sample 43\n",
        "Performing execute_matrix_multiplication sample 44\n"
       ]
      },
      {
       "output_type": "stream",
       "stream": "stdout",
       "text": [
        "Aggregating results for sample 44\n",
        "Performing execute_matrix_multiplication sample 45\n"
       ]
      },
      {
       "output_type": "stream",
       "stream": "stdout",
       "text": [
        "Aggregating results for sample 45\n",
        "Performing execute_matrix_multiplication sample 46\n"
       ]
      },
      {
       "output_type": "stream",
       "stream": "stdout",
       "text": [
        "Aggregating results for sample 46\n",
        "Performing execute_matrix_multiplication sample 47\n"
       ]
      },
      {
       "output_type": "stream",
       "stream": "stdout",
       "text": [
        "Aggregating results for sample 47\n",
        "Performing execute_matrix_multiplication sample 48\n"
       ]
      },
      {
       "output_type": "stream",
       "stream": "stdout",
       "text": [
        "Aggregating results for sample 48\n",
        "Performing execute_matrix_multiplication sample 49\n"
       ]
      },
      {
       "output_type": "stream",
       "stream": "stdout",
       "text": [
        "Aggregating results for sample 49\n",
        "Performing execute_matrix_multiplication sample 50\n"
       ]
      },
      {
       "output_type": "stream",
       "stream": "stdout",
       "text": [
        "Aggregating results for sample 50\n",
        "Performing execute_matrix_multiplication sample 51\n"
       ]
      },
      {
       "output_type": "stream",
       "stream": "stdout",
       "text": [
        "Aggregating results for sample 51\n",
        "Performing execute_matrix_multiplication sample 52\n"
       ]
      },
      {
       "output_type": "stream",
       "stream": "stdout",
       "text": [
        "Aggregating results for sample 52\n",
        "Performing execute_matrix_multiplication sample 53\n"
       ]
      },
      {
       "output_type": "stream",
       "stream": "stdout",
       "text": [
        "Aggregating results for sample 53\n",
        "Performing execute_matrix_multiplication sample 54\n"
       ]
      },
      {
       "output_type": "stream",
       "stream": "stdout",
       "text": [
        "Aggregating results for sample 54\n",
        "Performing execute_matrix_multiplication sample 55\n"
       ]
      },
      {
       "output_type": "stream",
       "stream": "stdout",
       "text": [
        "Aggregating results for sample 55\n",
        "Performing execute_matrix_multiplication sample 56\n"
       ]
      },
      {
       "output_type": "stream",
       "stream": "stdout",
       "text": [
        "Aggregating results for sample 56\n",
        "Performing execute_matrix_multiplication sample 57\n"
       ]
      },
      {
       "output_type": "stream",
       "stream": "stdout",
       "text": [
        "Aggregating results for sample 57\n",
        "Performing execute_matrix_multiplication sample 58\n"
       ]
      },
      {
       "output_type": "stream",
       "stream": "stdout",
       "text": [
        "Aggregating results for sample 58\n",
        "Performing execute_matrix_multiplication sample 59\n"
       ]
      },
      {
       "output_type": "stream",
       "stream": "stdout",
       "text": [
        "Aggregating results for sample 59\n",
        "Performing execute_matrix_multiplication sample 60\n"
       ]
      },
      {
       "output_type": "stream",
       "stream": "stdout",
       "text": [
        "Aggregating results for sample 60\n",
        "Performing execute_matrix_multiplication sample 61\n"
       ]
      },
      {
       "output_type": "stream",
       "stream": "stdout",
       "text": [
        "Aggregating results for sample 61\n",
        "Performing execute_matrix_multiplication sample 62\n"
       ]
      },
      {
       "output_type": "stream",
       "stream": "stdout",
       "text": [
        "Aggregating results for sample 62\n",
        "Performing execute_matrix_multiplication sample 63\n"
       ]
      },
      {
       "output_type": "stream",
       "stream": "stdout",
       "text": [
        "Aggregating results for sample 63\n",
        "Performing execute_matrix_multiplication sample 64\n"
       ]
      },
      {
       "output_type": "stream",
       "stream": "stdout",
       "text": [
        "Aggregating results for sample 64\n",
        "Performing execute_matrix_multiplication sample 65\n"
       ]
      },
      {
       "output_type": "stream",
       "stream": "stdout",
       "text": [
        "Aggregating results for sample 65\n",
        "Performing execute_matrix_multiplication sample 66\n"
       ]
      },
      {
       "output_type": "stream",
       "stream": "stdout",
       "text": [
        "Aggregating results for sample 66\n",
        "Performing execute_matrix_multiplication sample 67\n"
       ]
      },
      {
       "output_type": "stream",
       "stream": "stdout",
       "text": [
        "Aggregating results for sample 67\n",
        "Performing execute_matrix_multiplication sample 68\n"
       ]
      },
      {
       "output_type": "stream",
       "stream": "stdout",
       "text": [
        "Aggregating results for sample 68\n",
        "Performing execute_matrix_multiplication sample 69\n"
       ]
      },
      {
       "output_type": "stream",
       "stream": "stdout",
       "text": [
        "Aggregating results for sample 69\n",
        "Performing execute_matrix_multiplication sample 70\n"
       ]
      },
      {
       "output_type": "stream",
       "stream": "stdout",
       "text": [
        "Aggregating results for sample 70\n",
        "Performing execute_matrix_multiplication sample 71\n"
       ]
      },
      {
       "output_type": "stream",
       "stream": "stdout",
       "text": [
        "Aggregating results for sample 71\n",
        "Performing execute_matrix_multiplication sample 72\n"
       ]
      },
      {
       "output_type": "stream",
       "stream": "stdout",
       "text": [
        "Aggregating results for sample 72\n",
        "Performing execute_matrix_multiplication sample 73\n"
       ]
      },
      {
       "output_type": "stream",
       "stream": "stdout",
       "text": [
        "Aggregating results for sample 73\n",
        "Performing execute_matrix_multiplication sample 74\n"
       ]
      },
      {
       "output_type": "stream",
       "stream": "stdout",
       "text": [
        "Aggregating results for sample 74\n",
        "Performing execute_matrix_multiplication sample 75\n"
       ]
      },
      {
       "output_type": "stream",
       "stream": "stdout",
       "text": [
        "Aggregating results for sample 75\n",
        "Performing execute_matrix_multiplication sample 76\n"
       ]
      },
      {
       "output_type": "stream",
       "stream": "stdout",
       "text": [
        "Aggregating results for sample 76\n",
        "Performing execute_matrix_multiplication sample 77\n"
       ]
      },
      {
       "output_type": "stream",
       "stream": "stdout",
       "text": [
        "Aggregating results for sample 77\n",
        "Performing execute_matrix_multiplication sample 78\n"
       ]
      },
      {
       "output_type": "stream",
       "stream": "stdout",
       "text": [
        "Aggregating results for sample 78\n",
        "Performing execute_matrix_multiplication sample 79\n"
       ]
      },
      {
       "output_type": "stream",
       "stream": "stdout",
       "text": [
        "Aggregating results for sample 79\n",
        "Performing execute_matrix_multiplication sample 80\n"
       ]
      },
      {
       "output_type": "stream",
       "stream": "stdout",
       "text": [
        "Aggregating results for sample 80\n",
        "Performing execute_matrix_multiplication sample 81\n"
       ]
      },
      {
       "output_type": "stream",
       "stream": "stdout",
       "text": [
        "Aggregating results for sample 81\n",
        "Performing execute_matrix_multiplication sample 82\n"
       ]
      },
      {
       "output_type": "stream",
       "stream": "stdout",
       "text": [
        "Aggregating results for sample 82\n",
        "Performing execute_matrix_multiplication sample 83\n"
       ]
      },
      {
       "output_type": "stream",
       "stream": "stdout",
       "text": [
        "Aggregating results for sample 83\n",
        "Performing execute_matrix_multiplication sample 84\n"
       ]
      },
      {
       "output_type": "stream",
       "stream": "stdout",
       "text": [
        "Aggregating results for sample 84\n",
        "Performing execute_matrix_multiplication sample 85\n"
       ]
      },
      {
       "output_type": "stream",
       "stream": "stdout",
       "text": [
        "Aggregating results for sample 85\n",
        "Performing execute_matrix_multiplication sample 86\n"
       ]
      },
      {
       "output_type": "stream",
       "stream": "stdout",
       "text": [
        "Aggregating results for sample 86\n",
        "Performing execute_matrix_multiplication sample 87\n"
       ]
      },
      {
       "output_type": "stream",
       "stream": "stdout",
       "text": [
        "Aggregating results for sample 87\n",
        "Performing execute_matrix_multiplication sample 88\n"
       ]
      },
      {
       "output_type": "stream",
       "stream": "stdout",
       "text": [
        "Aggregating results for sample 88\n",
        "Performing execute_matrix_multiplication sample 89\n"
       ]
      },
      {
       "output_type": "stream",
       "stream": "stdout",
       "text": [
        "Aggregating results for sample 89\n",
        "Performing execute_matrix_multiplication sample 90\n"
       ]
      },
      {
       "output_type": "stream",
       "stream": "stdout",
       "text": [
        "Aggregating results for sample 90\n",
        "Performing execute_matrix_multiplication sample 91\n"
       ]
      },
      {
       "output_type": "stream",
       "stream": "stdout",
       "text": [
        "Aggregating results for sample 91\n",
        "Performing execute_matrix_multiplication sample 92\n"
       ]
      },
      {
       "output_type": "stream",
       "stream": "stdout",
       "text": [
        "Aggregating results for sample 92\n",
        "Performing execute_matrix_multiplication sample 93\n"
       ]
      },
      {
       "output_type": "stream",
       "stream": "stdout",
       "text": [
        "Aggregating results for sample 93\n",
        "Performing execute_matrix_multiplication sample 94\n"
       ]
      },
      {
       "output_type": "stream",
       "stream": "stdout",
       "text": [
        "Aggregating results for sample 94\n",
        "Performing execute_matrix_multiplication sample 95\n"
       ]
      },
      {
       "output_type": "stream",
       "stream": "stdout",
       "text": [
        "Aggregating results for sample 95\n",
        "Performing execute_matrix_multiplication sample 96\n"
       ]
      },
      {
       "output_type": "stream",
       "stream": "stdout",
       "text": [
        "Aggregating results for sample 96\n",
        "Performing execute_matrix_multiplication sample 97\n"
       ]
      },
      {
       "output_type": "stream",
       "stream": "stdout",
       "text": [
        "Aggregating results for sample 97\n",
        "Performing execute_matrix_multiplication sample 98\n"
       ]
      },
      {
       "output_type": "stream",
       "stream": "stdout",
       "text": [
        "Aggregating results for sample 98\n",
        "Performing execute_matrix_multiplication sample 99\n"
       ]
      },
      {
       "output_type": "stream",
       "stream": "stdout",
       "text": [
        "Aggregating results for sample 99\n",
        "Performing execute_matrix_multiplication sample 100\n"
       ]
      },
      {
       "output_type": "stream",
       "stream": "stdout",
       "text": [
        "Aggregating results for sample 100\n",
        "Performing execute_matrix_multiplication sample 101\n"
       ]
      },
      {
       "output_type": "stream",
       "stream": "stdout",
       "text": [
        "Aggregating results for sample 101\n",
        "Performing execute_matrix_multiplication sample 102\n"
       ]
      },
      {
       "output_type": "stream",
       "stream": "stdout",
       "text": [
        "Aggregating results for sample 102\n",
        "Performing execute_matrix_multiplication sample 103\n"
       ]
      },
      {
       "output_type": "stream",
       "stream": "stdout",
       "text": [
        "Aggregating results for sample 103\n",
        "Performing execute_matrix_multiplication sample 104\n"
       ]
      },
      {
       "output_type": "stream",
       "stream": "stdout",
       "text": [
        "Aggregating results for sample 104\n",
        "Performing execute_matrix_multiplication sample 105\n"
       ]
      },
      {
       "output_type": "stream",
       "stream": "stdout",
       "text": [
        "Aggregating results for sample 105\n",
        "Performing execute_matrix_multiplication sample 106\n"
       ]
      },
      {
       "output_type": "stream",
       "stream": "stdout",
       "text": [
        "Aggregating results for sample 106\n",
        "Performing execute_matrix_multiplication sample 107\n"
       ]
      },
      {
       "output_type": "stream",
       "stream": "stdout",
       "text": [
        "Aggregating results for sample 107\n",
        "Performing execute_matrix_multiplication sample 108\n"
       ]
      },
      {
       "output_type": "stream",
       "stream": "stdout",
       "text": [
        "Aggregating results for sample 108\n",
        "Performing execute_matrix_multiplication sample 109\n"
       ]
      },
      {
       "output_type": "stream",
       "stream": "stdout",
       "text": [
        "Aggregating results for sample 109\n",
        "Performing execute_matrix_multiplication sample 110\n"
       ]
      },
      {
       "output_type": "stream",
       "stream": "stdout",
       "text": [
        "Aggregating results for sample 110\n",
        "Performing execute_matrix_multiplication sample 111\n"
       ]
      },
      {
       "output_type": "stream",
       "stream": "stdout",
       "text": [
        "Aggregating results for sample 111\n",
        "Performing execute_matrix_multiplication sample 112\n"
       ]
      },
      {
       "output_type": "stream",
       "stream": "stdout",
       "text": [
        "Aggregating results for sample 112\n",
        "Performing execute_matrix_multiplication sample 113\n"
       ]
      },
      {
       "output_type": "stream",
       "stream": "stdout",
       "text": [
        "Aggregating results for sample 113\n",
        "Performing execute_matrix_multiplication sample 114\n"
       ]
      },
      {
       "output_type": "stream",
       "stream": "stdout",
       "text": [
        "Aggregating results for sample 114\n",
        "Performing execute_matrix_multiplication sample 115\n"
       ]
      },
      {
       "output_type": "stream",
       "stream": "stdout",
       "text": [
        "Aggregating results for sample 115\n",
        "Performing execute_matrix_multiplication sample 116\n"
       ]
      },
      {
       "output_type": "stream",
       "stream": "stdout",
       "text": [
        "Aggregating results for sample 116\n",
        "Performing execute_matrix_multiplication sample 117\n"
       ]
      },
      {
       "output_type": "stream",
       "stream": "stdout",
       "text": [
        "Aggregating results for sample 117\n",
        "Performing execute_matrix_multiplication sample 118\n"
       ]
      },
      {
       "output_type": "stream",
       "stream": "stdout",
       "text": [
        "Aggregating results for sample 118\n",
        "Performing execute_matrix_multiplication sample 119\n"
       ]
      },
      {
       "output_type": "stream",
       "stream": "stdout",
       "text": [
        "Aggregating results for sample 119\n",
        "Performing execute_matrix_multiplication sample 120\n"
       ]
      },
      {
       "output_type": "stream",
       "stream": "stdout",
       "text": [
        "Aggregating results for sample 120\n",
        "Performing execute_matrix_multiplication sample 121\n"
       ]
      },
      {
       "output_type": "stream",
       "stream": "stdout",
       "text": [
        "Aggregating results for sample 121\n",
        "Performing execute_matrix_multiplication sample 122\n"
       ]
      },
      {
       "output_type": "stream",
       "stream": "stdout",
       "text": [
        "Aggregating results for sample 122\n",
        "Performing execute_matrix_multiplication sample 123\n"
       ]
      },
      {
       "output_type": "stream",
       "stream": "stdout",
       "text": [
        "Aggregating results for sample 123\n",
        "Performing execute_matrix_multiplication sample 124\n"
       ]
      },
      {
       "output_type": "stream",
       "stream": "stdout",
       "text": [
        "Aggregating results for sample 124\n",
        "Performing execute_matrix_multiplication sample 125\n"
       ]
      },
      {
       "output_type": "stream",
       "stream": "stdout",
       "text": [
        "Aggregating results for sample 125\n",
        "Performing execute_matrix_multiplication sample 126\n"
       ]
      },
      {
       "output_type": "stream",
       "stream": "stdout",
       "text": [
        "Aggregating results for sample 126\n",
        "Performing execute_matrix_multiplication sample 127\n"
       ]
      },
      {
       "output_type": "stream",
       "stream": "stdout",
       "text": [
        "Aggregating results for sample 127\n",
        "Performing execute_matrix_multiplication sample 128\n"
       ]
      },
      {
       "output_type": "stream",
       "stream": "stdout",
       "text": [
        "Aggregating results for sample 128\n",
        "Performing execute_matrix_multiplication sample 129\n"
       ]
      },
      {
       "output_type": "stream",
       "stream": "stdout",
       "text": [
        "Aggregating results for sample 129\n",
        "Performing execute_matrix_multiplication sample 130\n"
       ]
      },
      {
       "output_type": "stream",
       "stream": "stdout",
       "text": [
        "Aggregating results for sample 130\n",
        "Performing execute_matrix_multiplication sample 131\n"
       ]
      },
      {
       "output_type": "stream",
       "stream": "stdout",
       "text": [
        "Aggregating results for sample 131\n",
        "Performing execute_matrix_multiplication sample 132\n"
       ]
      },
      {
       "output_type": "stream",
       "stream": "stdout",
       "text": [
        "Aggregating results for sample 132\n",
        "Performing execute_matrix_multiplication sample 133\n"
       ]
      },
      {
       "output_type": "stream",
       "stream": "stdout",
       "text": [
        "Aggregating results for sample 133\n",
        "Performing execute_matrix_multiplication sample 134\n"
       ]
      },
      {
       "output_type": "stream",
       "stream": "stdout",
       "text": [
        "Aggregating results for sample 134\n",
        "Performing execute_matrix_multiplication sample 135\n"
       ]
      },
      {
       "output_type": "stream",
       "stream": "stdout",
       "text": [
        "Aggregating results for sample 135\n",
        "Performing execute_matrix_multiplication sample 136\n"
       ]
      },
      {
       "output_type": "stream",
       "stream": "stdout",
       "text": [
        "Aggregating results for sample 136\n",
        "Performing execute_matrix_multiplication sample 137\n"
       ]
      },
      {
       "output_type": "stream",
       "stream": "stdout",
       "text": [
        "Aggregating results for sample 137\n",
        "Performing execute_matrix_multiplication sample 138\n"
       ]
      },
      {
       "output_type": "stream",
       "stream": "stdout",
       "text": [
        "Aggregating results for sample 138\n",
        "Performing execute_matrix_multiplication sample 139\n"
       ]
      },
      {
       "output_type": "stream",
       "stream": "stdout",
       "text": [
        "Aggregating results for sample 139\n",
        "Performing execute_matrix_multiplication sample 140\n"
       ]
      },
      {
       "output_type": "stream",
       "stream": "stdout",
       "text": [
        "Aggregating results for sample 140\n",
        "Performing execute_matrix_multiplication sample 141\n"
       ]
      },
      {
       "output_type": "stream",
       "stream": "stdout",
       "text": [
        "Aggregating results for sample 141\n",
        "Performing execute_matrix_multiplication sample 142\n"
       ]
      },
      {
       "output_type": "stream",
       "stream": "stdout",
       "text": [
        "Aggregating results for sample 142\n",
        "Performing execute_matrix_multiplication sample 143\n"
       ]
      },
      {
       "output_type": "stream",
       "stream": "stdout",
       "text": [
        "Aggregating results for sample 143\n",
        "Performing execute_matrix_multiplication sample 144\n"
       ]
      },
      {
       "output_type": "stream",
       "stream": "stdout",
       "text": [
        "Aggregating results for sample 144\n",
        "Performing execute_matrix_multiplication sample 145\n"
       ]
      },
      {
       "output_type": "stream",
       "stream": "stdout",
       "text": [
        "Aggregating results for sample 145\n",
        "Performing execute_matrix_multiplication sample 146\n"
       ]
      },
      {
       "output_type": "stream",
       "stream": "stdout",
       "text": [
        "Aggregating results for sample 146\n",
        "Performing execute_matrix_multiplication sample 147\n"
       ]
      },
      {
       "output_type": "stream",
       "stream": "stdout",
       "text": [
        "Aggregating results for sample 147\n",
        "Performing execute_matrix_multiplication sample 148\n"
       ]
      },
      {
       "output_type": "stream",
       "stream": "stdout",
       "text": [
        "Aggregating results for sample 148\n",
        "Performing execute_matrix_multiplication sample 149\n"
       ]
      },
      {
       "output_type": "stream",
       "stream": "stdout",
       "text": [
        "Aggregating results for sample 149\n",
        "Performing execute_matrix_multiplication sample 150\n"
       ]
      },
      {
       "output_type": "stream",
       "stream": "stdout",
       "text": [
        "Aggregating results for sample 150\n",
        "Performing execute_matrix_multiplication sample 151\n"
       ]
      },
      {
       "output_type": "stream",
       "stream": "stdout",
       "text": [
        "Aggregating results for sample 151\n",
        "Performing execute_matrix_multiplication sample 152\n"
       ]
      },
      {
       "output_type": "stream",
       "stream": "stdout",
       "text": [
        "Aggregating results for sample 152\n",
        "Performing execute_matrix_multiplication sample 153\n"
       ]
      },
      {
       "output_type": "stream",
       "stream": "stdout",
       "text": [
        "Aggregating results for sample 153\n",
        "Performing execute_matrix_multiplication sample 154\n"
       ]
      },
      {
       "output_type": "stream",
       "stream": "stdout",
       "text": [
        "Aggregating results for sample 154\n",
        "Performing execute_matrix_multiplication sample 155\n"
       ]
      },
      {
       "output_type": "stream",
       "stream": "stdout",
       "text": [
        "Aggregating results for sample 155\n",
        "Performing execute_matrix_multiplication sample 156\n"
       ]
      },
      {
       "output_type": "stream",
       "stream": "stdout",
       "text": [
        "Aggregating results for sample 156\n",
        "Performing execute_matrix_multiplication sample 157\n"
       ]
      },
      {
       "output_type": "stream",
       "stream": "stdout",
       "text": [
        "Aggregating results for sample 157\n",
        "Performing execute_matrix_multiplication sample 158\n"
       ]
      },
      {
       "output_type": "stream",
       "stream": "stdout",
       "text": [
        "Aggregating results for sample 158\n",
        "Performing execute_matrix_multiplication sample 159\n"
       ]
      },
      {
       "output_type": "stream",
       "stream": "stdout",
       "text": [
        "Aggregating results for sample 159\n",
        "Performing execute_matrix_multiplication sample 160\n"
       ]
      },
      {
       "output_type": "stream",
       "stream": "stdout",
       "text": [
        "Aggregating results for sample 160\n",
        "Performing execute_matrix_multiplication sample 161\n"
       ]
      },
      {
       "output_type": "stream",
       "stream": "stdout",
       "text": [
        "Aggregating results for sample 161\n",
        "Performing execute_matrix_multiplication sample 162\n"
       ]
      },
      {
       "output_type": "stream",
       "stream": "stdout",
       "text": [
        "Aggregating results for sample 162\n",
        "Performing execute_matrix_multiplication sample 163\n"
       ]
      },
      {
       "output_type": "stream",
       "stream": "stdout",
       "text": [
        "Aggregating results for sample 163\n",
        "Performing execute_matrix_multiplication sample 164\n"
       ]
      },
      {
       "output_type": "stream",
       "stream": "stdout",
       "text": [
        "Aggregating results for sample 164\n",
        "Performing execute_matrix_multiplication sample 165\n"
       ]
      },
      {
       "output_type": "stream",
       "stream": "stdout",
       "text": [
        "Aggregating results for sample 165\n",
        "Performing execute_matrix_multiplication sample 166\n"
       ]
      },
      {
       "output_type": "stream",
       "stream": "stdout",
       "text": [
        "Aggregating results for sample 166\n",
        "Performing execute_matrix_multiplication sample 167\n"
       ]
      },
      {
       "output_type": "stream",
       "stream": "stdout",
       "text": [
        "Aggregating results for sample 167\n",
        "Performing execute_matrix_multiplication sample 168\n"
       ]
      },
      {
       "output_type": "stream",
       "stream": "stdout",
       "text": [
        "Aggregating results for sample 168\n",
        "Performing execute_matrix_multiplication sample 169\n"
       ]
      },
      {
       "output_type": "stream",
       "stream": "stdout",
       "text": [
        "Aggregating results for sample 169\n",
        "Performing execute_matrix_multiplication sample 170\n"
       ]
      },
      {
       "output_type": "stream",
       "stream": "stdout",
       "text": [
        "Aggregating results for sample 170\n",
        "Performing execute_matrix_multiplication sample 171\n"
       ]
      },
      {
       "output_type": "stream",
       "stream": "stdout",
       "text": [
        "Aggregating results for sample 171\n",
        "Performing execute_matrix_multiplication sample 172\n"
       ]
      },
      {
       "output_type": "stream",
       "stream": "stdout",
       "text": [
        "Aggregating results for sample 172\n",
        "Performing execute_matrix_multiplication sample 173\n"
       ]
      },
      {
       "output_type": "stream",
       "stream": "stdout",
       "text": [
        "Aggregating results for sample 173\n",
        "Performing execute_matrix_multiplication sample 174\n"
       ]
      },
      {
       "output_type": "stream",
       "stream": "stdout",
       "text": [
        "Aggregating results for sample 174\n",
        "Performing execute_matrix_multiplication sample 175\n"
       ]
      },
      {
       "output_type": "stream",
       "stream": "stdout",
       "text": [
        "Aggregating results for sample 175\n",
        "Performing execute_matrix_multiplication sample 176\n"
       ]
      },
      {
       "output_type": "stream",
       "stream": "stdout",
       "text": [
        "Aggregating results for sample 176\n",
        "Performing execute_matrix_multiplication sample 177\n"
       ]
      },
      {
       "output_type": "stream",
       "stream": "stdout",
       "text": [
        "Aggregating results for sample 177\n",
        "Performing execute_matrix_multiplication sample 178\n"
       ]
      },
      {
       "output_type": "stream",
       "stream": "stdout",
       "text": [
        "Aggregating results for sample 178\n",
        "Performing execute_matrix_multiplication sample 179\n"
       ]
      },
      {
       "output_type": "stream",
       "stream": "stdout",
       "text": [
        "Aggregating results for sample 179\n",
        "Performing execute_matrix_multiplication sample 180\n"
       ]
      },
      {
       "output_type": "stream",
       "stream": "stdout",
       "text": [
        "Aggregating results for sample 180\n",
        "Performing execute_matrix_multiplication sample 181\n"
       ]
      },
      {
       "output_type": "stream",
       "stream": "stdout",
       "text": [
        "Aggregating results for sample 181\n",
        "Performing execute_matrix_multiplication sample 182\n"
       ]
      },
      {
       "output_type": "stream",
       "stream": "stdout",
       "text": [
        "Aggregating results for sample 182\n",
        "Performing execute_matrix_multiplication sample 183\n"
       ]
      },
      {
       "output_type": "stream",
       "stream": "stdout",
       "text": [
        "Aggregating results for sample 183\n",
        "Performing execute_matrix_multiplication sample 184\n"
       ]
      },
      {
       "output_type": "stream",
       "stream": "stdout",
       "text": [
        "Aggregating results for sample 184\n",
        "Performing execute_matrix_multiplication sample 185\n"
       ]
      },
      {
       "output_type": "stream",
       "stream": "stdout",
       "text": [
        "Aggregating results for sample 185\n",
        "Performing execute_matrix_multiplication sample 186\n"
       ]
      },
      {
       "output_type": "stream",
       "stream": "stdout",
       "text": [
        "Aggregating results for sample 186\n",
        "Performing execute_matrix_multiplication sample 187\n"
       ]
      },
      {
       "output_type": "stream",
       "stream": "stdout",
       "text": [
        "Aggregating results for sample 187\n",
        "Performing execute_matrix_multiplication sample 188\n"
       ]
      },
      {
       "output_type": "stream",
       "stream": "stdout",
       "text": [
        "Aggregating results for sample 188\n",
        "Performing execute_matrix_multiplication sample 189\n"
       ]
      },
      {
       "output_type": "stream",
       "stream": "stdout",
       "text": [
        "Aggregating results for sample 189\n",
        "Performing execute_matrix_multiplication sample 190\n"
       ]
      },
      {
       "output_type": "stream",
       "stream": "stdout",
       "text": [
        "Aggregating results for sample 190\n",
        "Performing execute_matrix_multiplication sample 191\n"
       ]
      },
      {
       "output_type": "stream",
       "stream": "stdout",
       "text": [
        "Aggregating results for sample 191\n",
        "Performing execute_matrix_multiplication sample 192\n"
       ]
      },
      {
       "output_type": "stream",
       "stream": "stdout",
       "text": [
        "Aggregating results for sample 192\n",
        "Performing execute_matrix_multiplication sample 193\n"
       ]
      },
      {
       "output_type": "stream",
       "stream": "stdout",
       "text": [
        "Aggregating results for sample 193\n",
        "Performing execute_matrix_multiplication sample 194\n"
       ]
      },
      {
       "output_type": "stream",
       "stream": "stdout",
       "text": [
        "Aggregating results for sample 194\n",
        "Performing execute_matrix_multiplication sample 195\n"
       ]
      },
      {
       "output_type": "stream",
       "stream": "stdout",
       "text": [
        "Aggregating results for sample 195\n",
        "Performing execute_matrix_multiplication sample 196\n"
       ]
      },
      {
       "output_type": "stream",
       "stream": "stdout",
       "text": [
        "Aggregating results for sample 196\n",
        "Performing execute_matrix_multiplication sample 197\n"
       ]
      },
      {
       "output_type": "stream",
       "stream": "stdout",
       "text": [
        "Aggregating results for sample 197\n",
        "Performing execute_matrix_multiplication sample 198\n"
       ]
      },
      {
       "output_type": "stream",
       "stream": "stdout",
       "text": [
        "Aggregating results for sample 198\n",
        "Performing execute_matrix_multiplication sample 199\n"
       ]
      },
      {
       "output_type": "stream",
       "stream": "stdout",
       "text": [
        "Aggregating results for sample 199\n",
        "Performing execute_matrix_multiplication sample 200\n"
       ]
      },
      {
       "output_type": "stream",
       "stream": "stdout",
       "text": [
        "Aggregating results for sample 200\n",
        "Performing execute_matrix_multiplication sample 201\n"
       ]
      },
      {
       "output_type": "stream",
       "stream": "stdout",
       "text": [
        "Aggregating results for sample 201\n",
        "Performing execute_matrix_multiplication sample 202\n"
       ]
      },
      {
       "output_type": "stream",
       "stream": "stdout",
       "text": [
        "Aggregating results for sample 202\n",
        "Performing execute_matrix_multiplication sample 203\n"
       ]
      },
      {
       "output_type": "stream",
       "stream": "stdout",
       "text": [
        "Aggregating results for sample 203\n",
        "Performing execute_matrix_multiplication sample 204\n"
       ]
      },
      {
       "output_type": "stream",
       "stream": "stdout",
       "text": [
        "Aggregating results for sample 204\n",
        "Performing execute_matrix_multiplication sample 205\n"
       ]
      },
      {
       "output_type": "stream",
       "stream": "stdout",
       "text": [
        "Aggregating results for sample 205\n",
        "Performing execute_matrix_multiplication sample 206\n"
       ]
      },
      {
       "output_type": "stream",
       "stream": "stdout",
       "text": [
        "Aggregating results for sample 206\n",
        "Performing execute_matrix_multiplication sample 207\n"
       ]
      },
      {
       "output_type": "stream",
       "stream": "stdout",
       "text": [
        "Aggregating results for sample 207\n",
        "Performing execute_matrix_multiplication sample 208\n"
       ]
      },
      {
       "output_type": "stream",
       "stream": "stdout",
       "text": [
        "Aggregating results for sample 208\n",
        "Performing execute_matrix_multiplication sample 209\n"
       ]
      },
      {
       "output_type": "stream",
       "stream": "stdout",
       "text": [
        "Aggregating results for sample 209\n",
        "Performing execute_matrix_multiplication sample 210\n"
       ]
      },
      {
       "output_type": "stream",
       "stream": "stdout",
       "text": [
        "Aggregating results for sample 210\n",
        "Performing execute_matrix_multiplication sample 211\n"
       ]
      },
      {
       "output_type": "stream",
       "stream": "stdout",
       "text": [
        "Aggregating results for sample 211\n",
        "Performing execute_matrix_multiplication sample 212\n"
       ]
      },
      {
       "output_type": "stream",
       "stream": "stdout",
       "text": [
        "Aggregating results for sample 212\n",
        "Performing execute_matrix_multiplication sample 213\n"
       ]
      },
      {
       "output_type": "stream",
       "stream": "stdout",
       "text": [
        "Aggregating results for sample 213\n",
        "Performing execute_matrix_multiplication sample 214\n"
       ]
      },
      {
       "output_type": "stream",
       "stream": "stdout",
       "text": [
        "Aggregating results for sample 214\n",
        "Performing execute_matrix_multiplication sample 215\n"
       ]
      },
      {
       "output_type": "stream",
       "stream": "stdout",
       "text": [
        "Aggregating results for sample 215\n",
        "Performing execute_matrix_multiplication sample 216\n"
       ]
      },
      {
       "output_type": "stream",
       "stream": "stdout",
       "text": [
        "Aggregating results for sample 216\n",
        "Performing execute_matrix_multiplication sample 217\n"
       ]
      },
      {
       "output_type": "stream",
       "stream": "stdout",
       "text": [
        "Aggregating results for sample 217\n",
        "Performing execute_matrix_multiplication sample 218\n"
       ]
      },
      {
       "output_type": "stream",
       "stream": "stdout",
       "text": [
        "Aggregating results for sample 218\n",
        "Performing execute_matrix_multiplication sample 219\n"
       ]
      },
      {
       "output_type": "stream",
       "stream": "stdout",
       "text": [
        "Aggregating results for sample 219\n",
        "Performing execute_matrix_multiplication sample 220\n"
       ]
      },
      {
       "output_type": "stream",
       "stream": "stdout",
       "text": [
        "Aggregating results for sample 220\n",
        "Performing execute_matrix_multiplication sample 221\n"
       ]
      },
      {
       "output_type": "stream",
       "stream": "stdout",
       "text": [
        "Aggregating results for sample 221\n",
        "Performing execute_matrix_multiplication sample 222\n"
       ]
      },
      {
       "output_type": "stream",
       "stream": "stdout",
       "text": [
        "Aggregating results for sample 222\n",
        "Performing execute_matrix_multiplication sample 223\n"
       ]
      },
      {
       "output_type": "stream",
       "stream": "stdout",
       "text": [
        "Aggregating results for sample 223\n",
        "Performing execute_matrix_multiplication sample 224\n"
       ]
      },
      {
       "output_type": "stream",
       "stream": "stdout",
       "text": [
        "Aggregating results for sample 224\n",
        "Performing execute_matrix_multiplication sample 225\n"
       ]
      },
      {
       "output_type": "stream",
       "stream": "stdout",
       "text": [
        "Aggregating results for sample 225\n",
        "Performing execute_matrix_multiplication sample 226\n"
       ]
      },
      {
       "output_type": "stream",
       "stream": "stdout",
       "text": [
        "Aggregating results for sample 226\n",
        "Performing execute_matrix_multiplication sample 227\n"
       ]
      },
      {
       "output_type": "stream",
       "stream": "stdout",
       "text": [
        "Aggregating results for sample 227\n",
        "Performing execute_matrix_multiplication sample 228\n"
       ]
      },
      {
       "output_type": "stream",
       "stream": "stdout",
       "text": [
        "Aggregating results for sample 228\n",
        "Performing execute_matrix_multiplication sample 229\n"
       ]
      },
      {
       "output_type": "stream",
       "stream": "stdout",
       "text": [
        "Aggregating results for sample 229\n",
        "Performing execute_matrix_multiplication sample 230\n"
       ]
      },
      {
       "output_type": "stream",
       "stream": "stdout",
       "text": [
        "Aggregating results for sample 230\n",
        "Performing execute_matrix_multiplication sample 231\n"
       ]
      },
      {
       "output_type": "stream",
       "stream": "stdout",
       "text": [
        "Aggregating results for sample 231\n",
        "Performing execute_matrix_multiplication sample 232\n"
       ]
      },
      {
       "output_type": "stream",
       "stream": "stdout",
       "text": [
        "Aggregating results for sample 232\n",
        "Performing execute_matrix_multiplication sample 233\n"
       ]
      },
      {
       "output_type": "stream",
       "stream": "stdout",
       "text": [
        "Aggregating results for sample 233\n",
        "Performing execute_matrix_multiplication sample 234\n"
       ]
      },
      {
       "output_type": "stream",
       "stream": "stdout",
       "text": [
        "Aggregating results for sample 234\n",
        "Performing execute_matrix_multiplication sample 235\n"
       ]
      },
      {
       "output_type": "stream",
       "stream": "stdout",
       "text": [
        "Aggregating results for sample 235\n",
        "Performing execute_matrix_multiplication sample 236\n"
       ]
      },
      {
       "output_type": "stream",
       "stream": "stdout",
       "text": [
        "Aggregating results for sample 236\n",
        "Performing execute_matrix_multiplication sample 237\n"
       ]
      },
      {
       "output_type": "stream",
       "stream": "stdout",
       "text": [
        "Aggregating results for sample 237\n",
        "Performing execute_matrix_multiplication sample 238\n"
       ]
      },
      {
       "output_type": "stream",
       "stream": "stdout",
       "text": [
        "Aggregating results for sample 238\n",
        "Performing execute_matrix_multiplication sample 239\n"
       ]
      },
      {
       "output_type": "stream",
       "stream": "stdout",
       "text": [
        "Aggregating results for sample 239\n",
        "Performing execute_matrix_multiplication sample 240\n"
       ]
      },
      {
       "output_type": "stream",
       "stream": "stdout",
       "text": [
        "Aggregating results for sample 240\n",
        "Performing execute_matrix_multiplication sample 241\n"
       ]
      },
      {
       "output_type": "stream",
       "stream": "stdout",
       "text": [
        "Aggregating results for sample 241\n",
        "Performing execute_matrix_multiplication sample 242\n"
       ]
      },
      {
       "output_type": "stream",
       "stream": "stdout",
       "text": [
        "Aggregating results for sample 242\n",
        "Performing execute_matrix_multiplication sample 243\n"
       ]
      },
      {
       "output_type": "stream",
       "stream": "stdout",
       "text": [
        "Aggregating results for sample 243\n",
        "Performing execute_matrix_multiplication sample 244\n"
       ]
      },
      {
       "output_type": "stream",
       "stream": "stdout",
       "text": [
        "Aggregating results for sample 244\n",
        "Performing execute_matrix_multiplication sample 245\n"
       ]
      },
      {
       "output_type": "stream",
       "stream": "stdout",
       "text": [
        "Aggregating results for sample 245\n",
        "Performing execute_matrix_multiplication sample 246\n"
       ]
      },
      {
       "output_type": "stream",
       "stream": "stdout",
       "text": [
        "Aggregating results for sample 246\n",
        "Performing execute_matrix_multiplication sample 247\n"
       ]
      },
      {
       "output_type": "stream",
       "stream": "stdout",
       "text": [
        "Aggregating results for sample 247\n",
        "Performing execute_matrix_multiplication sample 248\n"
       ]
      },
      {
       "output_type": "stream",
       "stream": "stdout",
       "text": [
        "Aggregating results for sample 248\n",
        "Performing execute_matrix_multiplication sample 249\n"
       ]
      },
      {
       "output_type": "stream",
       "stream": "stdout",
       "text": [
        "Aggregating results for sample 249\n",
        "Performing execute_matrix_multiplication sample 250\n"
       ]
      },
      {
       "output_type": "stream",
       "stream": "stdout",
       "text": [
        "Aggregating results for sample 250\n",
        "Performing execute_matrix_multiplication sample 251\n"
       ]
      },
      {
       "output_type": "stream",
       "stream": "stdout",
       "text": [
        "Aggregating results for sample 251\n",
        "Performing execute_matrix_multiplication sample 252\n"
       ]
      },
      {
       "output_type": "stream",
       "stream": "stdout",
       "text": [
        "Aggregating results for sample 252\n",
        "Performing execute_matrix_multiplication sample 253\n"
       ]
      },
      {
       "output_type": "stream",
       "stream": "stdout",
       "text": [
        "Aggregating results for sample 253\n",
        "Performing execute_matrix_multiplication sample 254\n"
       ]
      },
      {
       "output_type": "stream",
       "stream": "stdout",
       "text": [
        "Aggregating results for sample 254\n",
        "Performing execute_matrix_multiplication sample 255\n"
       ]
      },
      {
       "output_type": "stream",
       "stream": "stdout",
       "text": [
        "Aggregating results for sample 255\n",
        "Performing execute_matrix_multiplication sample 256\n"
       ]
      },
      {
       "output_type": "stream",
       "stream": "stdout",
       "text": [
        "Aggregating results for sample 256\n",
        "Performing execute_matrix_multiplication sample 257\n"
       ]
      },
      {
       "output_type": "stream",
       "stream": "stdout",
       "text": [
        "Aggregating results for sample 257\n",
        "Performing execute_matrix_multiplication sample 258\n"
       ]
      },
      {
       "output_type": "stream",
       "stream": "stdout",
       "text": [
        "Aggregating results for sample 258\n",
        "Performing execute_matrix_multiplication sample 259\n"
       ]
      },
      {
       "output_type": "stream",
       "stream": "stdout",
       "text": [
        "Aggregating results for sample 259\n",
        "Performing execute_matrix_multiplication sample 260\n"
       ]
      },
      {
       "output_type": "stream",
       "stream": "stdout",
       "text": [
        "Aggregating results for sample 260\n",
        "Performing execute_matrix_multiplication sample 261\n"
       ]
      },
      {
       "output_type": "stream",
       "stream": "stdout",
       "text": [
        "Aggregating results for sample 261\n",
        "Performing execute_matrix_multiplication sample 262\n"
       ]
      },
      {
       "output_type": "stream",
       "stream": "stdout",
       "text": [
        "Aggregating results for sample 262\n",
        "Performing execute_matrix_multiplication sample 263\n"
       ]
      },
      {
       "output_type": "stream",
       "stream": "stdout",
       "text": [
        "Aggregating results for sample 263\n",
        "Performing execute_matrix_multiplication sample 264\n"
       ]
      },
      {
       "output_type": "stream",
       "stream": "stdout",
       "text": [
        "Aggregating results for sample 264\n",
        "Performing execute_matrix_multiplication sample 265\n"
       ]
      },
      {
       "output_type": "stream",
       "stream": "stdout",
       "text": [
        "Aggregating results for sample 265\n",
        "Performing execute_matrix_multiplication sample 266\n"
       ]
      },
      {
       "output_type": "stream",
       "stream": "stdout",
       "text": [
        "Aggregating results for sample 266\n",
        "Performing execute_matrix_multiplication sample 267\n"
       ]
      },
      {
       "output_type": "stream",
       "stream": "stdout",
       "text": [
        "Aggregating results for sample 267\n",
        "Performing execute_matrix_multiplication sample 268\n"
       ]
      },
      {
       "output_type": "stream",
       "stream": "stdout",
       "text": [
        "Aggregating results for sample 268\n",
        "Performing execute_matrix_multiplication sample 269\n"
       ]
      },
      {
       "output_type": "stream",
       "stream": "stdout",
       "text": [
        "Aggregating results for sample 269\n",
        "Performing execute_matrix_multiplication sample 270\n"
       ]
      },
      {
       "output_type": "stream",
       "stream": "stdout",
       "text": [
        "Aggregating results for sample 270\n",
        "Performing execute_matrix_multiplication sample 271\n"
       ]
      },
      {
       "output_type": "stream",
       "stream": "stdout",
       "text": [
        "Aggregating results for sample 271\n",
        "Performing execute_matrix_multiplication sample 272\n"
       ]
      },
      {
       "output_type": "stream",
       "stream": "stdout",
       "text": [
        "Aggregating results for sample 272\n",
        "Performing execute_matrix_multiplication sample 273\n"
       ]
      },
      {
       "output_type": "stream",
       "stream": "stdout",
       "text": [
        "Aggregating results for sample 273\n",
        "Performing execute_matrix_multiplication sample 274\n"
       ]
      },
      {
       "output_type": "stream",
       "stream": "stdout",
       "text": [
        "Aggregating results for sample 274\n",
        "Performing execute_matrix_multiplication sample 275\n"
       ]
      },
      {
       "output_type": "stream",
       "stream": "stdout",
       "text": [
        "Aggregating results for sample 275\n",
        "Performing execute_matrix_multiplication sample 276\n"
       ]
      },
      {
       "output_type": "stream",
       "stream": "stdout",
       "text": [
        "Aggregating results for sample 276\n",
        "Performing execute_matrix_multiplication sample 277\n"
       ]
      },
      {
       "output_type": "stream",
       "stream": "stdout",
       "text": [
        "Aggregating results for sample 277\n",
        "Performing execute_matrix_multiplication sample 278\n"
       ]
      },
      {
       "output_type": "stream",
       "stream": "stdout",
       "text": [
        "Aggregating results for sample 278\n",
        "Performing execute_matrix_multiplication sample 279\n"
       ]
      },
      {
       "output_type": "stream",
       "stream": "stdout",
       "text": [
        "Aggregating results for sample 279\n",
        "Performing execute_matrix_multiplication sample 280\n"
       ]
      },
      {
       "output_type": "stream",
       "stream": "stdout",
       "text": [
        "Aggregating results for sample 280\n",
        "Performing execute_matrix_multiplication sample 281\n"
       ]
      },
      {
       "output_type": "stream",
       "stream": "stdout",
       "text": [
        "Aggregating results for sample 281\n",
        "Performing execute_matrix_multiplication sample 282\n"
       ]
      },
      {
       "output_type": "stream",
       "stream": "stdout",
       "text": [
        "Aggregating results for sample 282\n",
        "Performing execute_matrix_multiplication sample 283\n"
       ]
      },
      {
       "output_type": "stream",
       "stream": "stdout",
       "text": [
        "Aggregating results for sample 283\n",
        "Performing execute_matrix_multiplication sample 284\n"
       ]
      },
      {
       "output_type": "stream",
       "stream": "stdout",
       "text": [
        "Aggregating results for sample 284\n",
        "Performing execute_matrix_multiplication sample 285\n"
       ]
      },
      {
       "output_type": "stream",
       "stream": "stdout",
       "text": [
        "Aggregating results for sample 285\n",
        "Performing execute_matrix_multiplication sample 286\n"
       ]
      },
      {
       "output_type": "stream",
       "stream": "stdout",
       "text": [
        "Aggregating results for sample 286\n",
        "Performing execute_matrix_multiplication sample 287\n"
       ]
      },
      {
       "output_type": "stream",
       "stream": "stdout",
       "text": [
        "Aggregating results for sample 287\n",
        "Performing execute_matrix_multiplication sample 288\n"
       ]
      },
      {
       "output_type": "stream",
       "stream": "stdout",
       "text": [
        "Aggregating results for sample 288\n",
        "Performing execute_matrix_multiplication sample 289\n"
       ]
      },
      {
       "output_type": "stream",
       "stream": "stdout",
       "text": [
        "Aggregating results for sample 289\n",
        "Performing execute_matrix_multiplication sample 290\n"
       ]
      },
      {
       "output_type": "stream",
       "stream": "stdout",
       "text": [
        "Aggregating results for sample 290\n",
        "Performing execute_matrix_multiplication sample 291\n"
       ]
      },
      {
       "output_type": "stream",
       "stream": "stdout",
       "text": [
        "Aggregating results for sample 291\n",
        "Performing execute_matrix_multiplication sample 292\n"
       ]
      },
      {
       "output_type": "stream",
       "stream": "stdout",
       "text": [
        "Aggregating results for sample 292\n",
        "Performing execute_matrix_multiplication sample 293\n"
       ]
      },
      {
       "output_type": "stream",
       "stream": "stdout",
       "text": [
        "Aggregating results for sample 293\n",
        "Performing execute_matrix_multiplication sample 294\n"
       ]
      },
      {
       "output_type": "stream",
       "stream": "stdout",
       "text": [
        "Aggregating results for sample 294\n",
        "Performing execute_matrix_multiplication sample 295\n"
       ]
      },
      {
       "output_type": "stream",
       "stream": "stdout",
       "text": [
        "Aggregating results for sample 295\n",
        "Performing execute_matrix_multiplication sample 296\n"
       ]
      },
      {
       "output_type": "stream",
       "stream": "stdout",
       "text": [
        "Aggregating results for sample 296\n",
        "Performing execute_matrix_multiplication sample 297\n"
       ]
      },
      {
       "output_type": "stream",
       "stream": "stdout",
       "text": [
        "Aggregating results for sample 297\n",
        "Performing execute_matrix_multiplication sample 298\n"
       ]
      },
      {
       "output_type": "stream",
       "stream": "stdout",
       "text": [
        "Aggregating results for sample 298\n",
        "Performing execute_matrix_multiplication sample 299\n"
       ]
      },
      {
       "output_type": "stream",
       "stream": "stdout",
       "text": [
        "Aggregating results for sample 299\n",
        "Performing execute_matrix_multiplication sample 300\n"
       ]
      },
      {
       "output_type": "stream",
       "stream": "stdout",
       "text": [
        "Aggregating results for sample 300\n",
        "Performing execute_matrix_multiplication sample 301\n"
       ]
      },
      {
       "output_type": "stream",
       "stream": "stdout",
       "text": [
        "Aggregating results for sample 301\n",
        "Performing execute_matrix_multiplication sample 302\n"
       ]
      },
      {
       "output_type": "stream",
       "stream": "stdout",
       "text": [
        "Aggregating results for sample 302\n",
        "Performing execute_matrix_multiplication sample 303\n"
       ]
      },
      {
       "output_type": "stream",
       "stream": "stdout",
       "text": [
        "Aggregating results for sample 303\n",
        "Performing execute_matrix_multiplication sample 304\n"
       ]
      },
      {
       "output_type": "stream",
       "stream": "stdout",
       "text": [
        "Aggregating results for sample 304\n",
        "Performing execute_matrix_multiplication sample 305\n"
       ]
      },
      {
       "output_type": "stream",
       "stream": "stdout",
       "text": [
        "Aggregating results for sample 305\n",
        "Performing execute_matrix_multiplication sample 306\n"
       ]
      },
      {
       "output_type": "stream",
       "stream": "stdout",
       "text": [
        "Aggregating results for sample 306\n",
        "Performing execute_matrix_multiplication sample 307\n"
       ]
      },
      {
       "output_type": "stream",
       "stream": "stdout",
       "text": [
        "Aggregating results for sample 307\n",
        "Performing execute_matrix_multiplication sample 308\n"
       ]
      },
      {
       "output_type": "stream",
       "stream": "stdout",
       "text": [
        "Aggregating results for sample 308\n",
        "Performing execute_matrix_multiplication sample 309\n"
       ]
      },
      {
       "output_type": "stream",
       "stream": "stdout",
       "text": [
        "Aggregating results for sample 309\n",
        "Performing execute_matrix_multiplication sample 310\n"
       ]
      },
      {
       "output_type": "stream",
       "stream": "stdout",
       "text": [
        "Aggregating results for sample 310\n",
        "Performing execute_matrix_multiplication sample 311\n"
       ]
      },
      {
       "output_type": "stream",
       "stream": "stdout",
       "text": [
        "Aggregating results for sample 311\n",
        "Performing execute_matrix_multiplication sample 312\n"
       ]
      },
      {
       "output_type": "stream",
       "stream": "stdout",
       "text": [
        "Aggregating results for sample 312\n",
        "Performing execute_matrix_multiplication sample 313\n"
       ]
      },
      {
       "output_type": "stream",
       "stream": "stdout",
       "text": [
        "Aggregating results for sample 313\n",
        "Performing execute_matrix_multiplication sample 314\n"
       ]
      },
      {
       "output_type": "stream",
       "stream": "stdout",
       "text": [
        "Aggregating results for sample 314\n",
        "Performing execute_matrix_multiplication sample 315\n"
       ]
      },
      {
       "output_type": "stream",
       "stream": "stdout",
       "text": [
        "Aggregating results for sample 315\n",
        "Performing execute_matrix_multiplication sample 316\n"
       ]
      },
      {
       "output_type": "stream",
       "stream": "stdout",
       "text": [
        "Aggregating results for sample 316\n",
        "Performing execute_matrix_multiplication sample 317\n"
       ]
      },
      {
       "output_type": "stream",
       "stream": "stdout",
       "text": [
        "Aggregating results for sample 317\n",
        "Performing execute_matrix_multiplication sample 318\n"
       ]
      },
      {
       "output_type": "stream",
       "stream": "stdout",
       "text": [
        "Aggregating results for sample 318\n",
        "Performing execute_matrix_multiplication sample 319\n"
       ]
      },
      {
       "output_type": "stream",
       "stream": "stdout",
       "text": [
        "Aggregating results for sample 319\n",
        "Performing execute_matrix_multiplication sample 320\n"
       ]
      },
      {
       "output_type": "stream",
       "stream": "stdout",
       "text": [
        "Aggregating results for sample 320\n",
        "Performing execute_matrix_multiplication sample 321\n"
       ]
      },
      {
       "output_type": "stream",
       "stream": "stdout",
       "text": [
        "Aggregating results for sample 321\n",
        "Performing execute_matrix_multiplication sample 322\n"
       ]
      },
      {
       "output_type": "stream",
       "stream": "stdout",
       "text": [
        "Aggregating results for sample 322\n",
        "Performing execute_matrix_multiplication sample 323\n"
       ]
      },
      {
       "output_type": "stream",
       "stream": "stdout",
       "text": [
        "Aggregating results for sample 323\n",
        "Performing execute_matrix_multiplication sample 324\n"
       ]
      },
      {
       "output_type": "stream",
       "stream": "stdout",
       "text": [
        "Aggregating results for sample 324\n",
        "Performing execute_matrix_multiplication sample 325\n"
       ]
      },
      {
       "output_type": "stream",
       "stream": "stdout",
       "text": [
        "Aggregating results for sample 325\n",
        "Performing execute_matrix_multiplication sample 326\n"
       ]
      },
      {
       "output_type": "stream",
       "stream": "stdout",
       "text": [
        "Aggregating results for sample 326\n",
        "Performing execute_matrix_multiplication sample 327\n"
       ]
      },
      {
       "output_type": "stream",
       "stream": "stdout",
       "text": [
        "Aggregating results for sample 327\n",
        "Performing execute_matrix_multiplication sample 328\n"
       ]
      },
      {
       "output_type": "stream",
       "stream": "stdout",
       "text": [
        "Aggregating results for sample 328\n",
        "Performing execute_matrix_multiplication sample 329\n"
       ]
      },
      {
       "output_type": "stream",
       "stream": "stdout",
       "text": [
        "Aggregating results for sample 329\n",
        "Performing execute_matrix_multiplication sample 330\n"
       ]
      },
      {
       "output_type": "stream",
       "stream": "stdout",
       "text": [
        "Aggregating results for sample 330\n",
        "Performing execute_matrix_multiplication sample 331\n"
       ]
      },
      {
       "output_type": "stream",
       "stream": "stdout",
       "text": [
        "Aggregating results for sample 331\n",
        "Performing execute_matrix_multiplication sample 332\n"
       ]
      },
      {
       "output_type": "stream",
       "stream": "stdout",
       "text": [
        "Aggregating results for sample 332\n",
        "Performing execute_matrix_multiplication sample 333\n"
       ]
      },
      {
       "output_type": "stream",
       "stream": "stdout",
       "text": [
        "Aggregating results for sample 333\n",
        "Performing execute_matrix_multiplication sample 334\n"
       ]
      },
      {
       "output_type": "stream",
       "stream": "stdout",
       "text": [
        "Aggregating results for sample 334\n",
        "Performing execute_matrix_multiplication sample 335\n"
       ]
      },
      {
       "output_type": "stream",
       "stream": "stdout",
       "text": [
        "Aggregating results for sample 335\n",
        "Performing execute_matrix_multiplication sample 336\n"
       ]
      },
      {
       "output_type": "stream",
       "stream": "stdout",
       "text": [
        "Aggregating results for sample 336\n",
        "Performing execute_matrix_multiplication sample 337\n"
       ]
      },
      {
       "output_type": "stream",
       "stream": "stdout",
       "text": [
        "Aggregating results for sample 337\n",
        "Performing execute_matrix_multiplication sample 338\n"
       ]
      },
      {
       "output_type": "stream",
       "stream": "stdout",
       "text": [
        "Aggregating results for sample 338\n",
        "Performing execute_matrix_multiplication sample 339\n"
       ]
      },
      {
       "output_type": "stream",
       "stream": "stdout",
       "text": [
        "Aggregating results for sample 339\n",
        "Performing execute_matrix_multiplication sample 340\n"
       ]
      },
      {
       "output_type": "stream",
       "stream": "stdout",
       "text": [
        "Aggregating results for sample 340\n",
        "Performing execute_matrix_multiplication sample 341\n"
       ]
      },
      {
       "output_type": "stream",
       "stream": "stdout",
       "text": [
        "Aggregating results for sample 341\n",
        "Performing execute_matrix_multiplication sample 342\n"
       ]
      },
      {
       "output_type": "stream",
       "stream": "stdout",
       "text": [
        "Aggregating results for sample 342\n",
        "Performing execute_matrix_multiplication sample 343\n"
       ]
      },
      {
       "output_type": "stream",
       "stream": "stdout",
       "text": [
        "Aggregating results for sample 343\n",
        "Performing execute_matrix_multiplication sample 344\n"
       ]
      },
      {
       "output_type": "stream",
       "stream": "stdout",
       "text": [
        "Aggregating results for sample 344\n",
        "Performing execute_matrix_multiplication sample 345\n"
       ]
      },
      {
       "output_type": "stream",
       "stream": "stdout",
       "text": [
        "Aggregating results for sample 345\n",
        "Performing execute_matrix_multiplication sample 346\n"
       ]
      },
      {
       "output_type": "stream",
       "stream": "stdout",
       "text": [
        "Aggregating results for sample 346\n",
        "Performing execute_matrix_multiplication sample 347\n"
       ]
      },
      {
       "output_type": "stream",
       "stream": "stdout",
       "text": [
        "Aggregating results for sample 347\n",
        "Performing execute_matrix_multiplication sample 348\n"
       ]
      },
      {
       "output_type": "stream",
       "stream": "stdout",
       "text": [
        "Aggregating results for sample 348\n",
        "Performing execute_matrix_multiplication sample 349\n"
       ]
      },
      {
       "output_type": "stream",
       "stream": "stdout",
       "text": [
        "Aggregating results for sample 349\n",
        "Performing execute_matrix_multiplication sample 350\n"
       ]
      },
      {
       "output_type": "stream",
       "stream": "stdout",
       "text": [
        "Aggregating results for sample 350\n",
        "Performing execute_matrix_multiplication sample 351\n"
       ]
      },
      {
       "output_type": "stream",
       "stream": "stdout",
       "text": [
        "Aggregating results for sample 351\n",
        "Performing execute_matrix_multiplication sample 352\n"
       ]
      },
      {
       "output_type": "stream",
       "stream": "stdout",
       "text": [
        "Aggregating results for sample 352\n",
        "Performing execute_matrix_multiplication sample 353\n"
       ]
      },
      {
       "output_type": "stream",
       "stream": "stdout",
       "text": [
        "Aggregating results for sample 353\n",
        "Performing execute_matrix_multiplication sample 354\n"
       ]
      },
      {
       "output_type": "stream",
       "stream": "stdout",
       "text": [
        "Aggregating results for sample 354\n",
        "Performing execute_matrix_multiplication sample 355\n"
       ]
      },
      {
       "output_type": "stream",
       "stream": "stdout",
       "text": [
        "Aggregating results for sample 355\n",
        "Performing execute_matrix_multiplication sample 356\n"
       ]
      },
      {
       "output_type": "stream",
       "stream": "stdout",
       "text": [
        "Aggregating results for sample 356\n",
        "Performing execute_matrix_multiplication sample 357\n"
       ]
      },
      {
       "output_type": "stream",
       "stream": "stdout",
       "text": [
        "Aggregating results for sample 357\n",
        "Performing execute_matrix_multiplication sample 358\n"
       ]
      },
      {
       "output_type": "stream",
       "stream": "stdout",
       "text": [
        "Aggregating results for sample 358\n",
        "Performing execute_matrix_multiplication sample 359\n"
       ]
      },
      {
       "output_type": "stream",
       "stream": "stdout",
       "text": [
        "Aggregating results for sample 359\n",
        "Performing execute_matrix_multiplication sample 360\n"
       ]
      },
      {
       "output_type": "stream",
       "stream": "stdout",
       "text": [
        "Aggregating results for sample 360\n",
        "Performing execute_matrix_multiplication sample 361\n"
       ]
      },
      {
       "output_type": "stream",
       "stream": "stdout",
       "text": [
        "Aggregating results for sample 361\n",
        "Performing execute_matrix_multiplication sample 362\n"
       ]
      },
      {
       "output_type": "stream",
       "stream": "stdout",
       "text": [
        "Aggregating results for sample 362\n",
        "Performing execute_matrix_multiplication sample 363\n"
       ]
      },
      {
       "output_type": "stream",
       "stream": "stdout",
       "text": [
        "Aggregating results for sample 363\n",
        "Performing execute_matrix_multiplication sample 364\n"
       ]
      },
      {
       "output_type": "stream",
       "stream": "stdout",
       "text": [
        "Aggregating results for sample 364\n",
        "Performing execute_matrix_multiplication sample 365\n"
       ]
      },
      {
       "output_type": "stream",
       "stream": "stdout",
       "text": [
        "Aggregating results for sample 365\n",
        "Performing execute_matrix_multiplication sample 366\n"
       ]
      },
      {
       "output_type": "stream",
       "stream": "stdout",
       "text": [
        "Aggregating results for sample 366\n",
        "Performing execute_matrix_multiplication sample 367\n"
       ]
      },
      {
       "output_type": "stream",
       "stream": "stdout",
       "text": [
        "Aggregating results for sample 367\n",
        "Performing execute_matrix_multiplication sample 368\n"
       ]
      },
      {
       "output_type": "stream",
       "stream": "stdout",
       "text": [
        "Aggregating results for sample 368\n",
        "Performing execute_matrix_multiplication sample 369\n"
       ]
      },
      {
       "output_type": "stream",
       "stream": "stdout",
       "text": [
        "Aggregating results for sample 369\n",
        "Performing execute_matrix_multiplication sample 370\n"
       ]
      },
      {
       "output_type": "stream",
       "stream": "stdout",
       "text": [
        "Aggregating results for sample 370\n",
        "Performing execute_matrix_multiplication sample 371\n"
       ]
      },
      {
       "output_type": "stream",
       "stream": "stdout",
       "text": [
        "Aggregating results for sample 371\n",
        "Performing execute_matrix_multiplication sample 372\n"
       ]
      },
      {
       "output_type": "stream",
       "stream": "stdout",
       "text": [
        "Aggregating results for sample 372\n",
        "Performing execute_matrix_multiplication sample 373\n"
       ]
      },
      {
       "output_type": "stream",
       "stream": "stdout",
       "text": [
        "Aggregating results for sample 373\n",
        "Performing execute_matrix_multiplication sample 374\n"
       ]
      },
      {
       "output_type": "stream",
       "stream": "stdout",
       "text": [
        "Aggregating results for sample 374\n",
        "Performing execute_matrix_multiplication sample 375\n"
       ]
      },
      {
       "output_type": "stream",
       "stream": "stdout",
       "text": [
        "Aggregating results for sample 375\n",
        "Performing execute_matrix_multiplication sample 376\n"
       ]
      },
      {
       "output_type": "stream",
       "stream": "stdout",
       "text": [
        "Aggregating results for sample 376\n",
        "Performing execute_matrix_multiplication sample 377\n"
       ]
      },
      {
       "output_type": "stream",
       "stream": "stdout",
       "text": [
        "Aggregating results for sample 377\n",
        "Performing execute_matrix_multiplication sample 378\n"
       ]
      },
      {
       "output_type": "stream",
       "stream": "stdout",
       "text": [
        "Aggregating results for sample 378\n",
        "Performing execute_matrix_multiplication sample 379\n"
       ]
      },
      {
       "output_type": "stream",
       "stream": "stdout",
       "text": [
        "Aggregating results for sample 379\n",
        "Performing execute_matrix_multiplication sample 380\n"
       ]
      },
      {
       "output_type": "stream",
       "stream": "stdout",
       "text": [
        "Aggregating results for sample 380\n",
        "Performing execute_matrix_multiplication sample 381\n"
       ]
      },
      {
       "output_type": "stream",
       "stream": "stdout",
       "text": [
        "Aggregating results for sample 381\n",
        "Performing execute_matrix_multiplication sample 382\n"
       ]
      },
      {
       "output_type": "stream",
       "stream": "stdout",
       "text": [
        "Aggregating results for sample 382\n",
        "Performing execute_matrix_multiplication sample 383\n"
       ]
      },
      {
       "output_type": "stream",
       "stream": "stdout",
       "text": [
        "Aggregating results for sample 383\n",
        "Performing execute_matrix_multiplication sample 384\n"
       ]
      },
      {
       "output_type": "stream",
       "stream": "stdout",
       "text": [
        "Aggregating results for sample 384\n",
        "Performing execute_matrix_multiplication sample 385\n"
       ]
      },
      {
       "output_type": "stream",
       "stream": "stdout",
       "text": [
        "Aggregating results for sample 385\n",
        "Performing execute_matrix_multiplication sample 386\n"
       ]
      },
      {
       "output_type": "stream",
       "stream": "stdout",
       "text": [
        "Aggregating results for sample 386\n",
        "Performing execute_matrix_multiplication sample 387\n"
       ]
      },
      {
       "output_type": "stream",
       "stream": "stdout",
       "text": [
        "Aggregating results for sample 387\n",
        "Performing execute_matrix_multiplication sample 388\n"
       ]
      },
      {
       "output_type": "stream",
       "stream": "stdout",
       "text": [
        "Aggregating results for sample 388\n",
        "Performing execute_matrix_multiplication sample 389\n"
       ]
      },
      {
       "output_type": "stream",
       "stream": "stdout",
       "text": [
        "Aggregating results for sample 389\n",
        "Performing execute_matrix_multiplication sample 390\n"
       ]
      },
      {
       "output_type": "stream",
       "stream": "stdout",
       "text": [
        "Aggregating results for sample 390\n",
        "Performing execute_matrix_multiplication sample 391\n"
       ]
      },
      {
       "output_type": "stream",
       "stream": "stdout",
       "text": [
        "Aggregating results for sample 391\n",
        "Performing execute_matrix_multiplication sample 392\n"
       ]
      },
      {
       "output_type": "stream",
       "stream": "stdout",
       "text": [
        "Aggregating results for sample 392\n",
        "Performing execute_matrix_multiplication sample 393\n"
       ]
      },
      {
       "output_type": "stream",
       "stream": "stdout",
       "text": [
        "Aggregating results for sample 393\n",
        "Performing execute_matrix_multiplication sample 394\n"
       ]
      },
      {
       "output_type": "stream",
       "stream": "stdout",
       "text": [
        "Aggregating results for sample 394\n",
        "Performing execute_matrix_multiplication sample 395\n"
       ]
      },
      {
       "output_type": "stream",
       "stream": "stdout",
       "text": [
        "Aggregating results for sample 395\n",
        "Performing execute_matrix_multiplication sample 396\n"
       ]
      },
      {
       "output_type": "stream",
       "stream": "stdout",
       "text": [
        "Aggregating results for sample 396\n",
        "Performing execute_matrix_multiplication sample 397\n"
       ]
      },
      {
       "output_type": "stream",
       "stream": "stdout",
       "text": [
        "Aggregating results for sample 397\n",
        "Performing execute_matrix_multiplication sample 398\n"
       ]
      },
      {
       "output_type": "stream",
       "stream": "stdout",
       "text": [
        "Aggregating results for sample 398\n",
        "Performing execute_matrix_multiplication sample 399\n"
       ]
      },
      {
       "output_type": "stream",
       "stream": "stdout",
       "text": [
        "Aggregating results for sample 399\n",
        "Performing execute_matrix_multiplication sample 400\n"
       ]
      },
      {
       "output_type": "stream",
       "stream": "stdout",
       "text": [
        "Aggregating results for sample 400\n",
        "Performing execute_matrix_multiplication sample 401\n"
       ]
      },
      {
       "output_type": "stream",
       "stream": "stdout",
       "text": [
        "Aggregating results for sample 401\n",
        "Performing execute_matrix_multiplication sample 402\n"
       ]
      },
      {
       "output_type": "stream",
       "stream": "stdout",
       "text": [
        "Aggregating results for sample 402\n",
        "Performing execute_matrix_multiplication sample 403\n"
       ]
      },
      {
       "output_type": "stream",
       "stream": "stdout",
       "text": [
        "Aggregating results for sample 403\n",
        "Performing execute_matrix_multiplication sample 404\n"
       ]
      },
      {
       "output_type": "stream",
       "stream": "stdout",
       "text": [
        "Aggregating results for sample 404\n",
        "Performing execute_matrix_multiplication sample 405\n"
       ]
      },
      {
       "output_type": "stream",
       "stream": "stdout",
       "text": [
        "Aggregating results for sample 405\n",
        "Performing execute_matrix_multiplication sample 406\n"
       ]
      },
      {
       "output_type": "stream",
       "stream": "stdout",
       "text": [
        "Aggregating results for sample 406\n",
        "Performing execute_matrix_multiplication sample 407\n"
       ]
      },
      {
       "output_type": "stream",
       "stream": "stdout",
       "text": [
        "Aggregating results for sample 407\n",
        "Performing execute_matrix_multiplication sample 408\n"
       ]
      },
      {
       "output_type": "stream",
       "stream": "stdout",
       "text": [
        "Aggregating results for sample 408\n",
        "Performing execute_matrix_multiplication sample 409\n"
       ]
      },
      {
       "output_type": "stream",
       "stream": "stdout",
       "text": [
        "Aggregating results for sample 409\n",
        "Performing execute_matrix_multiplication sample 410\n"
       ]
      },
      {
       "output_type": "stream",
       "stream": "stdout",
       "text": [
        "Aggregating results for sample 410\n",
        "Performing execute_matrix_multiplication sample 411\n"
       ]
      },
      {
       "output_type": "stream",
       "stream": "stdout",
       "text": [
        "Aggregating results for sample 411\n",
        "Performing execute_matrix_multiplication sample 412\n"
       ]
      },
      {
       "output_type": "stream",
       "stream": "stdout",
       "text": [
        "Aggregating results for sample 412\n",
        "Performing execute_matrix_multiplication sample 413\n"
       ]
      },
      {
       "output_type": "stream",
       "stream": "stdout",
       "text": [
        "Aggregating results for sample 413\n",
        "Performing execute_matrix_multiplication sample 414\n"
       ]
      },
      {
       "output_type": "stream",
       "stream": "stdout",
       "text": [
        "Aggregating results for sample 414\n",
        "Performing execute_matrix_multiplication sample 415\n"
       ]
      },
      {
       "output_type": "stream",
       "stream": "stdout",
       "text": [
        "Aggregating results for sample 415\n",
        "Performing execute_matrix_multiplication sample 416\n"
       ]
      },
      {
       "output_type": "stream",
       "stream": "stdout",
       "text": [
        "Aggregating results for sample 416\n",
        "Performing execute_matrix_multiplication sample 417\n"
       ]
      },
      {
       "output_type": "stream",
       "stream": "stdout",
       "text": [
        "Aggregating results for sample 417\n",
        "Performing execute_matrix_multiplication sample 418\n"
       ]
      },
      {
       "output_type": "stream",
       "stream": "stdout",
       "text": [
        "Aggregating results for sample 418\n",
        "Performing execute_matrix_multiplication sample 419\n"
       ]
      },
      {
       "output_type": "stream",
       "stream": "stdout",
       "text": [
        "Aggregating results for sample 419\n",
        "Performing execute_matrix_multiplication sample 420\n"
       ]
      },
      {
       "output_type": "stream",
       "stream": "stdout",
       "text": [
        "Aggregating results for sample 420\n",
        "Performing execute_matrix_multiplication sample 421\n"
       ]
      },
      {
       "output_type": "stream",
       "stream": "stdout",
       "text": [
        "Aggregating results for sample 421\n",
        "Performing execute_matrix_multiplication sample 422\n"
       ]
      },
      {
       "output_type": "stream",
       "stream": "stdout",
       "text": [
        "Aggregating results for sample 422\n",
        "Performing execute_matrix_multiplication sample 423\n"
       ]
      },
      {
       "output_type": "stream",
       "stream": "stdout",
       "text": [
        "Aggregating results for sample 423\n",
        "Performing execute_matrix_multiplication sample 424\n"
       ]
      },
      {
       "output_type": "stream",
       "stream": "stdout",
       "text": [
        "Aggregating results for sample 424\n",
        "Performing execute_matrix_multiplication sample 425\n"
       ]
      },
      {
       "output_type": "stream",
       "stream": "stdout",
       "text": [
        "Aggregating results for sample 425\n",
        "Performing execute_matrix_multiplication sample 426\n"
       ]
      },
      {
       "output_type": "stream",
       "stream": "stdout",
       "text": [
        "Aggregating results for sample 426\n",
        "Performing execute_matrix_multiplication sample 427\n"
       ]
      },
      {
       "output_type": "stream",
       "stream": "stdout",
       "text": [
        "Aggregating results for sample 427\n",
        "Performing execute_matrix_multiplication sample 428\n"
       ]
      },
      {
       "output_type": "stream",
       "stream": "stdout",
       "text": [
        "Aggregating results for sample 428\n",
        "Performing execute_matrix_multiplication sample 429\n"
       ]
      },
      {
       "output_type": "stream",
       "stream": "stdout",
       "text": [
        "Aggregating results for sample 429\n",
        "Performing execute_matrix_multiplication sample 430\n"
       ]
      },
      {
       "output_type": "stream",
       "stream": "stdout",
       "text": [
        "Aggregating results for sample 430\n",
        "Performing execute_matrix_multiplication sample 431\n"
       ]
      },
      {
       "output_type": "stream",
       "stream": "stdout",
       "text": [
        "Aggregating results for sample 431\n",
        "Performing execute_matrix_multiplication sample 432\n"
       ]
      },
      {
       "output_type": "stream",
       "stream": "stdout",
       "text": [
        "Aggregating results for sample 432\n",
        "Performing execute_matrix_multiplication sample 433\n"
       ]
      },
      {
       "output_type": "stream",
       "stream": "stdout",
       "text": [
        "Aggregating results for sample 433\n",
        "Performing execute_matrix_multiplication sample 434\n"
       ]
      },
      {
       "output_type": "stream",
       "stream": "stdout",
       "text": [
        "Aggregating results for sample 434\n",
        "Performing execute_matrix_multiplication sample 435\n"
       ]
      },
      {
       "output_type": "stream",
       "stream": "stdout",
       "text": [
        "Aggregating results for sample 435\n",
        "Performing execute_matrix_multiplication sample 436\n"
       ]
      },
      {
       "output_type": "stream",
       "stream": "stdout",
       "text": [
        "Aggregating results for sample 436\n",
        "Performing execute_matrix_multiplication sample 437\n"
       ]
      },
      {
       "output_type": "stream",
       "stream": "stdout",
       "text": [
        "Aggregating results for sample 437\n",
        "Performing execute_matrix_multiplication sample 438\n"
       ]
      },
      {
       "output_type": "stream",
       "stream": "stdout",
       "text": [
        "Aggregating results for sample 438\n",
        "Performing execute_matrix_multiplication sample 439\n"
       ]
      },
      {
       "output_type": "stream",
       "stream": "stdout",
       "text": [
        "Aggregating results for sample 439\n",
        "Performing execute_matrix_multiplication sample 440\n"
       ]
      },
      {
       "output_type": "stream",
       "stream": "stdout",
       "text": [
        "Aggregating results for sample 440\n",
        "Performing execute_matrix_multiplication sample 441\n"
       ]
      },
      {
       "output_type": "stream",
       "stream": "stdout",
       "text": [
        "Aggregating results for sample 441\n",
        "Performing execute_matrix_multiplication sample 442\n"
       ]
      },
      {
       "output_type": "stream",
       "stream": "stdout",
       "text": [
        "Aggregating results for sample 442\n",
        "Performing execute_matrix_multiplication sample 443\n"
       ]
      },
      {
       "output_type": "stream",
       "stream": "stdout",
       "text": [
        "Aggregating results for sample 443\n",
        "Performing execute_matrix_multiplication sample 444\n"
       ]
      },
      {
       "output_type": "stream",
       "stream": "stdout",
       "text": [
        "Aggregating results for sample 444\n",
        "Performing execute_matrix_multiplication sample 445\n"
       ]
      },
      {
       "output_type": "stream",
       "stream": "stdout",
       "text": [
        "Aggregating results for sample 445\n",
        "Performing execute_matrix_multiplication sample 446\n"
       ]
      },
      {
       "output_type": "stream",
       "stream": "stdout",
       "text": [
        "Aggregating results for sample 446\n",
        "Performing execute_matrix_multiplication sample 447\n"
       ]
      },
      {
       "output_type": "stream",
       "stream": "stdout",
       "text": [
        "Aggregating results for sample 447\n",
        "Performing execute_matrix_multiplication sample 448\n"
       ]
      },
      {
       "output_type": "stream",
       "stream": "stdout",
       "text": [
        "Aggregating results for sample 448\n",
        "Performing execute_matrix_multiplication sample 449\n"
       ]
      },
      {
       "output_type": "stream",
       "stream": "stdout",
       "text": [
        "Aggregating results for sample 449\n",
        "Performing execute_matrix_multiplication sample 450\n"
       ]
      },
      {
       "output_type": "stream",
       "stream": "stdout",
       "text": [
        "Aggregating results for sample 450\n",
        "Performing execute_matrix_multiplication sample 451\n"
       ]
      },
      {
       "output_type": "stream",
       "stream": "stdout",
       "text": [
        "Aggregating results for sample 451\n",
        "Performing execute_matrix_multiplication sample 452\n"
       ]
      },
      {
       "output_type": "stream",
       "stream": "stdout",
       "text": [
        "Aggregating results for sample 452\n",
        "Performing execute_matrix_multiplication sample 453\n"
       ]
      },
      {
       "output_type": "stream",
       "stream": "stdout",
       "text": [
        "Aggregating results for sample 453\n",
        "Performing execute_matrix_multiplication sample 454\n"
       ]
      },
      {
       "output_type": "stream",
       "stream": "stdout",
       "text": [
        "Aggregating results for sample 454\n",
        "Performing execute_matrix_multiplication sample 455\n"
       ]
      },
      {
       "output_type": "stream",
       "stream": "stdout",
       "text": [
        "Aggregating results for sample 455\n",
        "Performing execute_matrix_multiplication sample 456\n"
       ]
      },
      {
       "output_type": "stream",
       "stream": "stdout",
       "text": [
        "Aggregating results for sample 456\n",
        "Performing execute_matrix_multiplication sample 457\n"
       ]
      },
      {
       "output_type": "stream",
       "stream": "stdout",
       "text": [
        "Aggregating results for sample 457\n",
        "Performing execute_matrix_multiplication sample 458\n"
       ]
      },
      {
       "output_type": "stream",
       "stream": "stdout",
       "text": [
        "Aggregating results for sample 458\n",
        "Performing execute_matrix_multiplication sample 459\n"
       ]
      },
      {
       "output_type": "stream",
       "stream": "stdout",
       "text": [
        "Aggregating results for sample 459\n",
        "Performing execute_matrix_multiplication sample 460\n"
       ]
      },
      {
       "output_type": "stream",
       "stream": "stdout",
       "text": [
        "Aggregating results for sample 460\n",
        "Performing execute_matrix_multiplication sample 461\n"
       ]
      },
      {
       "output_type": "stream",
       "stream": "stdout",
       "text": [
        "Aggregating results for sample 461\n",
        "Performing execute_matrix_multiplication sample 462\n"
       ]
      },
      {
       "output_type": "stream",
       "stream": "stdout",
       "text": [
        "Aggregating results for sample 462\n",
        "Performing execute_matrix_multiplication sample 463\n"
       ]
      },
      {
       "output_type": "stream",
       "stream": "stdout",
       "text": [
        "Aggregating results for sample 463\n",
        "Performing execute_matrix_multiplication sample 464\n"
       ]
      },
      {
       "output_type": "stream",
       "stream": "stdout",
       "text": [
        "Aggregating results for sample 464\n",
        "Performing execute_matrix_multiplication sample 465\n"
       ]
      },
      {
       "output_type": "stream",
       "stream": "stdout",
       "text": [
        "Aggregating results for sample 465\n",
        "Performing execute_matrix_multiplication sample 466\n"
       ]
      },
      {
       "output_type": "stream",
       "stream": "stdout",
       "text": [
        "Aggregating results for sample 466\n",
        "Performing execute_matrix_multiplication sample 467\n"
       ]
      },
      {
       "output_type": "stream",
       "stream": "stdout",
       "text": [
        "Aggregating results for sample 467\n",
        "Performing execute_matrix_multiplication sample 468\n"
       ]
      },
      {
       "output_type": "stream",
       "stream": "stdout",
       "text": [
        "Aggregating results for sample 468\n",
        "Performing execute_matrix_multiplication sample 469\n"
       ]
      },
      {
       "output_type": "stream",
       "stream": "stdout",
       "text": [
        "Aggregating results for sample 469\n",
        "Performing execute_matrix_multiplication sample 470\n"
       ]
      },
      {
       "output_type": "stream",
       "stream": "stdout",
       "text": [
        "Aggregating results for sample 470\n",
        "Performing execute_matrix_multiplication sample 471\n"
       ]
      },
      {
       "output_type": "stream",
       "stream": "stdout",
       "text": [
        "Aggregating results for sample 471\n",
        "Performing execute_matrix_multiplication sample 472\n"
       ]
      },
      {
       "output_type": "stream",
       "stream": "stdout",
       "text": [
        "Aggregating results for sample 472\n",
        "Performing execute_matrix_multiplication sample 473\n"
       ]
      },
      {
       "output_type": "stream",
       "stream": "stdout",
       "text": [
        "Aggregating results for sample 473\n",
        "Performing execute_matrix_multiplication sample 474\n"
       ]
      },
      {
       "output_type": "stream",
       "stream": "stdout",
       "text": [
        "Aggregating results for sample 474\n",
        "Performing execute_matrix_multiplication sample 475\n"
       ]
      },
      {
       "output_type": "stream",
       "stream": "stdout",
       "text": [
        "Aggregating results for sample 475\n",
        "Performing execute_matrix_multiplication sample 476\n"
       ]
      },
      {
       "output_type": "stream",
       "stream": "stdout",
       "text": [
        "Aggregating results for sample 476\n",
        "Performing execute_matrix_multiplication sample 477\n"
       ]
      },
      {
       "output_type": "stream",
       "stream": "stdout",
       "text": [
        "Aggregating results for sample 477\n",
        "Performing execute_matrix_multiplication sample 478\n"
       ]
      },
      {
       "output_type": "stream",
       "stream": "stdout",
       "text": [
        "Aggregating results for sample 478\n",
        "Performing execute_matrix_multiplication sample 479\n"
       ]
      },
      {
       "output_type": "stream",
       "stream": "stdout",
       "text": [
        "Aggregating results for sample 479\n",
        "Performing execute_matrix_multiplication sample 480\n"
       ]
      },
      {
       "output_type": "stream",
       "stream": "stdout",
       "text": [
        "Aggregating results for sample 480\n",
        "Performing execute_matrix_multiplication sample 481\n"
       ]
      },
      {
       "output_type": "stream",
       "stream": "stdout",
       "text": [
        "Aggregating results for sample 481\n",
        "Performing execute_matrix_multiplication sample 482\n"
       ]
      },
      {
       "output_type": "stream",
       "stream": "stdout",
       "text": [
        "Aggregating results for sample 482\n",
        "Performing execute_matrix_multiplication sample 483\n"
       ]
      },
      {
       "output_type": "stream",
       "stream": "stdout",
       "text": [
        "Aggregating results for sample 483\n",
        "Performing execute_matrix_multiplication sample 484\n"
       ]
      },
      {
       "output_type": "stream",
       "stream": "stdout",
       "text": [
        "Aggregating results for sample 484\n",
        "Performing execute_matrix_multiplication sample 485\n"
       ]
      },
      {
       "output_type": "stream",
       "stream": "stdout",
       "text": [
        "Aggregating results for sample 485\n",
        "Performing execute_matrix_multiplication sample 486\n"
       ]
      },
      {
       "output_type": "stream",
       "stream": "stdout",
       "text": [
        "Aggregating results for sample 486\n",
        "Performing execute_matrix_multiplication sample 487\n"
       ]
      },
      {
       "output_type": "stream",
       "stream": "stdout",
       "text": [
        "Aggregating results for sample 487\n",
        "Performing execute_matrix_multiplication sample 488\n"
       ]
      },
      {
       "output_type": "stream",
       "stream": "stdout",
       "text": [
        "Aggregating results for sample 488\n",
        "Performing execute_matrix_multiplication sample 489\n"
       ]
      },
      {
       "output_type": "stream",
       "stream": "stdout",
       "text": [
        "Aggregating results for sample 489\n",
        "Performing execute_matrix_multiplication sample 490\n"
       ]
      },
      {
       "output_type": "stream",
       "stream": "stdout",
       "text": [
        "Aggregating results for sample 490\n",
        "Performing execute_matrix_multiplication sample 491\n"
       ]
      },
      {
       "output_type": "stream",
       "stream": "stdout",
       "text": [
        "Aggregating results for sample 491\n",
        "Performing execute_matrix_multiplication sample 492\n"
       ]
      },
      {
       "output_type": "stream",
       "stream": "stdout",
       "text": [
        "Aggregating results for sample 492\n",
        "Performing execute_matrix_multiplication sample 493\n"
       ]
      },
      {
       "output_type": "stream",
       "stream": "stdout",
       "text": [
        "Aggregating results for sample 493\n",
        "Performing execute_matrix_multiplication sample 494\n"
       ]
      },
      {
       "output_type": "stream",
       "stream": "stdout",
       "text": [
        "Aggregating results for sample 494\n",
        "Performing execute_matrix_multiplication sample 495\n"
       ]
      },
      {
       "output_type": "stream",
       "stream": "stdout",
       "text": [
        "Aggregating results for sample 495\n",
        "Performing execute_matrix_multiplication sample 496\n"
       ]
      },
      {
       "output_type": "stream",
       "stream": "stdout",
       "text": [
        "Aggregating results for sample 496\n",
        "Performing execute_matrix_multiplication sample 497\n"
       ]
      },
      {
       "output_type": "stream",
       "stream": "stdout",
       "text": [
        "Aggregating results for sample 497\n",
        "Performing execute_matrix_multiplication sample 498\n"
       ]
      },
      {
       "output_type": "stream",
       "stream": "stdout",
       "text": [
        "Aggregating results for sample 498\n",
        "Performing execute_matrix_multiplication sample 499\n"
       ]
      },
      {
       "output_type": "stream",
       "stream": "stdout",
       "text": [
        "Aggregating results for sample 499\n",
        "Performing execute_matrix_multiplication sample 500\n"
       ]
      },
      {
       "output_type": "stream",
       "stream": "stdout",
       "text": [
        "Aggregating results for sample 500\n"
       ]
      },
      {
       "metadata": {},
       "output_type": "display_data",
       "png": "[encoded data removed]",
       "text": [
        "<matplotlib.figure.Figure at 0x7f7a7b27fe90>"
       ]
      }
     ],
     "prompt_number": 17
    },
    {
     "cell_type": "markdown",
     "metadata": {},
     "source": [
      "**BONUS** Now repeat the past two problems but instead of computing the matrix product, compute a matrix's [determinant](http://en.wikipedia.org/wiki/Determinant).  Measure performance for matricies of various sizes and discuss the results.  Determinant may get impractical to calculate for not too huge of matricies, so no need to goto 1000x1000 matricies."
     ]
    },
    {
     "cell_type": "markdown",
     "metadata": {},
     "source": [
      "###IO Exercises\n",
      "\n",
      "Below is a map of various datatypes in python that you have come across and their corresponding JSON equivalents.\n",
      "\n",
      "$$Datatypes=\\left[ \\begin{array}{cc} JSON & Python3 \\\\ object & dictionary \\\\ array & list \\\\ string & string \\\\ integer\t& integer \\\\ real number & float \\\\ true & True \\\\ false & False \\\\ null & None  \\end{array} \\right]$$\n",
      "\n",
      "\n",
      "There are atleast two very important python datatypes missing in the above list. \n",
      "Can you find the same?  [list the two mising python datatypes in this markdown cell below]\n",
      "\n",
      "1. set\n",
      "2. tuple\n",
      "\n",
      "Now We can save the above map as a dictionary with Key-value pairs \n",
      "1. create a python dictionary named dataypes, having the above map as the Key-value pairs with Python datatypes as values and JSON equivalents as keys.\n",
      "2. Save it as a pickle called datatypes and gzip the same.\n",
      "3. Reload this pickle, and read the file contents and output the data in the following formatted way as given in this example - \"The JSON equivalent for the Python datatype Dictionary is Object\". Output similarly for the rest of the key-value pairs.\n",
      "4. Save this data as a JSON but using Python datatypes as keys and JSON equivalent as values this time. "
     ]
    },
    {
     "cell_type": "code",
     "collapsed": false,
     "input": [
      "#1\n",
      "datatypes= dict([ \n",
      "    (\"object\", \"dictionary\"), \n",
      "    (\"array\", \"list\"), \n",
      "    (\"string\", \"string\"), \n",
      "    (\"integer\", \"integer\"),\n",
      "    (\"realnumber\", \"float\"),\n",
      "    (\"true\", \"True\"),\n",
      "    (\"false\", \"False\"),\n",
      "    (\"null\", \"None\")\n",
      "])\n",
      "print datatypes"
     ],
     "language": "python",
     "metadata": {},
     "outputs": [
      {
       "output_type": "stream",
       "stream": "stdout",
       "text": [
        "{'false': 'False', 'string': 'string', 'object': 'dictionary', 'integer': 'integer', 'array': 'list', 'null': 'None', 'true': 'True', 'realnumber': 'float'}\n"
       ]
      }
     ],
     "prompt_number": 16
    },
    {
     "cell_type": "code",
     "collapsed": false,
     "input": [
      "#2\n",
      "import pickle\n",
      "import gzip\n",
      "\n",
      "pickle.dump(datatypes,gzip.open('pickle.pkl','wb'))\n",
      "!ls -ltr"
     ],
     "language": "python",
     "metadata": {},
     "outputs": [
      {
       "output_type": "stream",
       "stream": "stdout",
       "text": [
        "total 36\r\n",
        "-rw-rw-r-- 1 dyerke dyerke  156 Oct 25 21:50 json.json\r\n",
        "-rw-r--r-- 1 dyerke dyerke 3072 Oct 25 22:54 Datatype\r\n",
        "-rw-rw-r-- 1 dyerke dyerke  168 Oct 26 09:46 pickle.pkl\r\n"
       ]
      }
     ],
     "prompt_number": 17
    },
    {
     "cell_type": "code",
     "collapsed": false,
     "input": [
      "#3\n",
      "r_datatypes=pickle.load(gzip.open('pickle.pkl','rb'))\n",
      "\n",
      "for k, v in r_datatypes.iteritems():\n",
      "    print \"The JSON equivalent for the Python datatype {} is {}\".format(v, k)"
     ],
     "language": "python",
     "metadata": {},
     "outputs": [
      {
       "output_type": "stream",
       "stream": "stdout",
       "text": [
        "The JSON equivalent for the Python datatype False is false\n",
        "The JSON equivalent for the Python datatype string is string\n",
        "The JSON equivalent for the Python datatype dictionary is object\n",
        "The JSON equivalent for the Python datatype integer is integer\n",
        "The JSON equivalent for the Python datatype list is array\n",
        "The JSON equivalent for the Python datatype None is null\n",
        "The JSON equivalent for the Python datatype True is true\n",
        "The JSON equivalent for the Python datatype float is realnumber\n"
       ]
      }
     ],
     "prompt_number": 18
    },
    {
     "cell_type": "code",
     "collapsed": false,
     "input": [
      "#4\n",
      "import json\n",
      "\n",
      "r_datatypes=pickle.load(gzip.open('pickle.pkl','rb'))\n",
      "\n",
      "json_datatypes= {}\n",
      "for k, v in r_datatypes.iteritems():\n",
      "    json_datatypes[v]= k\n",
      "\n",
      "print json_datatypes\n",
      "json.dump(json_datatypes,open('json.json','wb'))\n",
      "\n",
      "!ls -ltr\n",
      "!cat json.json"
     ],
     "language": "python",
     "metadata": {},
     "outputs": [
      {
       "output_type": "stream",
       "stream": "stdout",
       "text": [
        "{'None': 'null', 'False': 'false', 'string': 'string', 'dictionary': 'object', 'float': 'realnumber', 'list': 'array', 'integer': 'integer', 'True': 'true'}\n",
        "total 36\r\n",
        "-rw-r--r-- 1 dyerke dyerke 3072 Oct 25 22:54 Datatype\r\n",
        "-rw-rw-r-- 1 dyerke dyerke  168 Oct 26 09:46 pickle.pkl\r\n",
        "-rw-rw-r-- 1 dyerke dyerke  156 Oct 26 09:46 json.json\r\n"
       ]
      },
      {
       "output_type": "stream",
       "stream": "stdout",
       "text": [
        "{\"None\": \"null\", \"False\": \"false\", \"string\": \"string\", \"dictionary\": \"object\", \"float\": \"realnumber\", \"list\": \"array\", \"integer\": \"integer\", \"True\": \"true\"}"
       ]
      }
     ],
     "prompt_number": 19
    },
    {
     "cell_type": "markdown",
     "metadata": {},
     "source": [
      "###SQL Exercises\n",
      "1. Create a database \"Datatype\", having a table \"datatypes\"\n",
      "2. Save the above datatype pickle in the table datatypes\n",
      "3. Create another table named \"missing_datatypes\"\n",
      "4. Add the 2 missing datatypes that you just wrote in the above markdown cell in the new sql table\n",
      "5. Write a SQL query to merge table mising_datatypes into table datatypes\n",
      "6. Write a SQL query to sort the merged table based on the values in python column and output the sorted table\n"
     ]
    },
    {
     "cell_type": "code",
     "collapsed": false,
     "input": [
      "import sqlite3"
     ],
     "language": "python",
     "metadata": {},
     "outputs": [],
     "prompt_number": 20
    },
    {
     "cell_type": "code",
     "collapsed": false,
     "input": [
      "!ls -ltr"
     ],
     "language": "python",
     "metadata": {},
     "outputs": [
      {
       "output_type": "stream",
       "stream": "stdout",
       "text": [
        "total 36\r\n",
        "-rw-r--r-- 1 dyerke dyerke 3072 Oct 25 22:54 Datatype\r\n",
        "-rw-rw-r-- 1 dyerke dyerke  168 Oct 26 09:46 pickle.pkl\r\n",
        "-rw-rw-r-- 1 dyerke dyerke  156 Oct 26 09:46 json.json\r\n"
       ]
      }
     ],
     "prompt_number": 21
    },
    {
     "cell_type": "code",
     "collapsed": false,
     "input": [
      "#1\n",
      "conn= None\n",
      "try:\n",
      "    conn= sqlite3.connect(\"Datatype\")\n",
      "    c= conn.cursor()\n",
      "    # drop and create table\n",
      "    c.execute(\"drop table if exists datatypes\")\n",
      "    c.execute(\"create table datatypes (jsondatatype text, pythondatatype text)\")\n",
      "    #\n",
      "    conn.commit()\n",
      "finally:\n",
      "    if conn is not None:\n",
      "        conn.close()"
     ],
     "language": "python",
     "metadata": {},
     "outputs": [],
     "prompt_number": 22
    },
    {
     "cell_type": "code",
     "collapsed": false,
     "input": [
      "#2\n",
      "conn= None\n",
      "try:\n",
      "    conn= sqlite3.connect(\"Datatype\")\n",
      "    c= conn.cursor()\n",
      "    # ensure clean table\n",
      "    c.execute(\"delete from datatypes\")\n",
      "    conn.commit()\n",
      "    # insert json and python datatypes in table\n",
      "    r_datatypes=pickle.load(gzip.open('pickle.pkl','rb'))\n",
      "    m_insert_parameters= []\n",
      "    for k, v in r_datatypes.iteritems():\n",
      "        m_insert_parameters.append((k,v))\n",
      "    c.executemany(\"insert into datatypes values (?,?)\", m_insert_parameters)\n",
      "    #\n",
      "    conn.commit()\n",
      "finally:\n",
      "    if conn is not None:\n",
      "        conn.close()\n",
      "\n",
      "# verify data exists exists\n",
      "conn= None\n",
      "try:\n",
      "    conn= sqlite3.connect(\"Datatype\")\n",
      "    c= conn.cursor()\n",
      "    # insert json and python datatypes in table\n",
      "    for row in c.execute(\"select * from datatypes\"):\n",
      "        print type(row), row\n",
      "    #\n",
      "    conn.commit()\n",
      "finally:\n",
      "    if conn is not None:\n",
      "        conn.close()"
     ],
     "language": "python",
     "metadata": {},
     "outputs": [
      {
       "output_type": "stream",
       "stream": "stdout",
       "text": [
        "<type 'tuple'> (u'false', u'False')\n",
        "<type 'tuple'> (u'string', u'string')\n",
        "<type 'tuple'> (u'object', u'dictionary')\n",
        "<type 'tuple'> (u'integer', u'integer')\n",
        "<type 'tuple'> (u'array', u'list')\n",
        "<type 'tuple'> (u'null', u'None')\n",
        "<type 'tuple'> (u'true', u'True')\n",
        "<type 'tuple'> (u'realnumber', u'float')\n"
       ]
      }
     ],
     "prompt_number": 23
    },
    {
     "cell_type": "code",
     "collapsed": false,
     "input": [
      "#3\n",
      "conn= None\n",
      "try:\n",
      "    conn= sqlite3.connect(\"Datatype\")\n",
      "    c= conn.cursor()\n",
      "    # drop and create table\n",
      "    c.execute(\"drop table if exists missing_datatypes\")\n",
      "    c.execute(\"create table missing_datatypes (jsondatatype text, pythondatatype text)\")\n",
      "    #\n",
      "    conn.commit()\n",
      "finally:\n",
      "    if conn is not None:\n",
      "        conn.close()"
     ],
     "language": "python",
     "metadata": {},
     "outputs": [],
     "prompt_number": 24
    },
    {
     "cell_type": "code",
     "collapsed": false,
     "input": [
      "#4\n",
      "m_missing_python_datatypes= [(\"set\",), (\"tuple\",)]\n",
      "\n",
      "conn= None\n",
      "try:\n",
      "    conn= sqlite3.connect(\"Datatype\")\n",
      "    c= conn.cursor()\n",
      "    # ensure clean table\n",
      "    c.execute(\"delete from missing_datatypes\")\n",
      "    conn.commit()\n",
      "    # insert python datatypes in table\n",
      "    c.executemany(\"insert into missing_datatypes (pythondatatype) values (?)\", m_missing_python_datatypes)\n",
      "    #\n",
      "    conn.commit()\n",
      "finally:\n",
      "    if conn is not None:\n",
      "        conn.close()\n",
      "\n",
      "# verify data exists exists\n",
      "conn= None\n",
      "try:\n",
      "    conn= sqlite3.connect(\"Datatype\")\n",
      "    c= conn.cursor()\n",
      "    # insert json and python datatypes in table\n",
      "    for row in c.execute(\"select * from missing_datatypes\"):\n",
      "        print type(row), row\n",
      "    #\n",
      "    conn.commit()\n",
      "finally:\n",
      "    if conn is not None:\n",
      "        conn.close()"
     ],
     "language": "python",
     "metadata": {},
     "outputs": [
      {
       "output_type": "stream",
       "stream": "stdout",
       "text": [
        "<type 'tuple'> (None, u'set')\n",
        "<type 'tuple'> (None, u'tuple')\n"
       ]
      }
     ],
     "prompt_number": 25
    },
    {
     "cell_type": "code",
     "collapsed": false,
     "input": [
      "#5\n",
      "conn= None\n",
      "try:\n",
      "    conn= sqlite3.connect(\"Datatype\")\n",
      "    c= conn.cursor()\n",
      "    # insert json and python datatypes in table\n",
      "    c.execute(\"\"\" \n",
      "        insert into datatypes (jsondatatype, pythondatatype)\n",
      "        select jsondatatype, pythondatatype\n",
      "        from missing_datatypes\n",
      "        where pythondatatype not in (\n",
      "            select pythondatatype\n",
      "            from datatypes\n",
      "        )\n",
      "    \"\"\")\n",
      "    #\n",
      "    conn.commit()\n",
      "finally:\n",
      "    if conn is not None:\n",
      "        conn.close()\n",
      "\n",
      "# verify merge occurred\n",
      "conn= None\n",
      "try:\n",
      "    conn= sqlite3.connect(\"Datatype\")\n",
      "    c= conn.cursor()\n",
      "    # insert json and python datatypes in table\n",
      "    for row in c.execute(\"select * from datatypes\"):\n",
      "        print type(row), row\n",
      "    #\n",
      "    conn.commit()\n",
      "finally:\n",
      "    if conn is not None:\n",
      "        conn.close()"
     ],
     "language": "python",
     "metadata": {},
     "outputs": [
      {
       "output_type": "stream",
       "stream": "stdout",
       "text": [
        "<type 'tuple'> (u'false', u'False')\n",
        "<type 'tuple'> (u'string', u'string')\n",
        "<type 'tuple'> (u'object', u'dictionary')\n",
        "<type 'tuple'> (u'integer', u'integer')\n",
        "<type 'tuple'> (u'array', u'list')\n",
        "<type 'tuple'> (u'null', u'None')\n",
        "<type 'tuple'> (u'true', u'True')\n",
        "<type 'tuple'> (u'realnumber', u'float')\n",
        "<type 'tuple'> (None, u'set')\n",
        "<type 'tuple'> (None, u'tuple')\n"
       ]
      }
     ],
     "prompt_number": 65
    },
    {
     "cell_type": "code",
     "collapsed": false,
     "input": [
      "#6\n",
      "# verify merge occurred\n",
      "conn= None\n",
      "try:\n",
      "    conn= sqlite3.connect(\"Datatype\")\n",
      "    c= conn.cursor()\n",
      "    # insert json and python datatypes in table\n",
      "    for row in c.execute(\"select * from datatypes order by pythondatatype\"):\n",
      "        print type(row), row\n",
      "    #\n",
      "    conn.commit()\n",
      "finally:\n",
      "    if conn is not None:\n",
      "        conn.close()"
     ],
     "language": "python",
     "metadata": {},
     "outputs": [
      {
       "output_type": "stream",
       "stream": "stdout",
       "text": [
        "<type 'tuple'> (u'false', u'False')\n",
        "<type 'tuple'> (u'null', u'None')\n",
        "<type 'tuple'> (u'true', u'True')\n",
        "<type 'tuple'> (u'object', u'dictionary')\n",
        "<type 'tuple'> (u'realnumber', u'float')\n",
        "<type 'tuple'> (u'integer', u'integer')\n",
        "<type 'tuple'> (u'array', u'list')\n",
        "<type 'tuple'> (u'string', u'string')\n"
       ]
      }
     ],
     "prompt_number": 26
    },
    {
     "cell_type": "markdown",
     "metadata": {},
     "source": [
      "##Regular Expression\n",
      "We have a file regex_test which has number of lines, each line containing one data element of various kinds (dates, numbers, phone numbers, etc).  Your task is to construct a python array containing all instances of each of the specified data types via python regular expressions.\n",
      "\n",
      "Here are the data types:\n",
      "\n",
      "1. Dates of one of these formats: mm/dd/yyyy, yyyymmdd, yyyy-mm-dd\n",
      "2. US phone numbers: 10 digits, area code can be surounded by () or seperated by one dash and some spaces, prefix/line number can be seperated by one dash and some spaces.  Example valid numbers are 123-456-7890, (123)   456 -7890, 1234567890, 123- 4567890, etc\n",
      "3. Raw decimal numbers (IE somthing that \"float(x)\" would not crash on). \n",
      "4. US Dollar amounts (\\$ddd.cc)\n",
      "5. Basic email addresses.  Should conform to http://en.wikipedia.org/wiki/Email_address but with only aphanumeric usernames/domains, only com, co.uk, edu, and ru tlds are used\n",
      "\n",
      "Please create a list of the valid elements for each of these types and report the number of valid elements of each type in a markdown field."
     ]
    },
    {
     "cell_type": "code",
     "collapsed": false,
     "input": [
      "import re"
     ],
     "language": "python",
     "metadata": {},
     "outputs": [],
     "prompt_number": 29
    },
    {
     "cell_type": "code",
     "collapsed": false,
     "input": [
      "#1\n",
      "def date_match(s):\n",
      "    patterns = []\n",
      "    # mm/dd/yyyy\n",
      "    patterns.append(re.compile(r'(\\A([0][0-9])|\\A([1][0-2]))/[0-3][0-9]'))\n",
      "    #patterns.append(re.compile(r'\\A([0][0-9])/'))\n",
      "    #patterns.append(re.compile(r'[0-9]{2}\\/[0-9]{2}\\/[0-9]{4}'))\n",
      "    #patterns.append(re.compile(r'\\b[0-9]{8}\\b'))\n",
      "    for pattern in patterns:\n",
      "        print \"checking pattern: \", pattern.pattern\n",
      "        match= re.search(pattern, s)\n",
      "        if match:\n",
      "            result= match.group()\n",
      "            print \"match found: \", result\n",
      "            return True\n",
      "        else:\n",
      "            print 'no match.'\n",
      "    return False\n",
      "\n",
      "Text = \"\"\"\n",
      "    15\n",
      "    27\n",
      "    12\n",
      "    09\n",
      "    89\n",
      "    97\n",
      "    09/07/2014\n",
      "    20140914\n",
      "    2014-09-07\n",
      "    10/07/2014\n",
      "    12/07/2014\n",
      "    12/37/2014\n",
      "    13/07/2014\n",
      "    HelloWorld\n",
      "    89/45/2014\n",
      "    1234567890\n",
      "    aword\n",
      "    \"\"\"\n",
      "for c in \"\\t \":\n",
      "    Text = Text.replace(c, \"\")\n",
      "s_arr = Text.split(\"\\n\");\n",
      "for s in s_arr:\n",
      "    if len(s) == 0:\n",
      "        continue;\n",
      "    print \"\\nprocessing\", s\n",
      "    date_match(s)"
     ],
     "language": "python",
     "metadata": {},
     "outputs": [
      {
       "output_type": "stream",
       "stream": "stdout",
       "text": [
        "\n",
        "processing 15\n",
        "checking pattern:  (\\A([0][0-9])|\\A([1][0-2]))/[0-3][0-9]\n",
        "no match.\n",
        "\n",
        "processing 27\n",
        "checking pattern:  (\\A([0][0-9])|\\A([1][0-2]))/[0-3][0-9]\n",
        "no match.\n",
        "\n",
        "processing 12\n",
        "checking pattern:  (\\A([0][0-9])|\\A([1][0-2]))/[0-3][0-9]\n",
        "no match.\n",
        "\n",
        "processing 09\n",
        "checking pattern:  (\\A([0][0-9])|\\A([1][0-2]))/[0-3][0-9]\n",
        "no match.\n",
        "\n",
        "processing 89\n",
        "checking pattern:  (\\A([0][0-9])|\\A([1][0-2]))/[0-3][0-9]\n",
        "no match.\n",
        "\n",
        "processing 97\n",
        "checking pattern:  (\\A([0][0-9])|\\A([1][0-2]))/[0-3][0-9]\n",
        "no match.\n",
        "\n",
        "processing 09/07/2014\n",
        "checking pattern:  (\\A([0][0-9])|\\A([1][0-2]))/[0-3][0-9]\n",
        "match found:  09/07\n",
        "\n",
        "processing 20140914\n",
        "checking pattern:  (\\A([0][0-9])|\\A([1][0-2]))/[0-3][0-9]\n",
        "no match.\n",
        "\n",
        "processing 2014-09-07\n",
        "checking pattern:  (\\A([0][0-9])|\\A([1][0-2]))/[0-3][0-9]\n",
        "no match.\n",
        "\n",
        "processing 10/07/2014\n",
        "checking pattern:  (\\A([0][0-9])|\\A([1][0-2]))/[0-3][0-9]\n",
        "match found:  10/07\n",
        "\n",
        "processing 12/07/2014\n",
        "checking pattern:  (\\A([0][0-9])|\\A([1][0-2]))/[0-3][0-9]\n",
        "match found:  12/07\n",
        "\n",
        "processing 12/37/2014\n",
        "checking pattern:  (\\A([0][0-9])|\\A([1][0-2]))/[0-3][0-9]\n",
        "match found:  12/37\n",
        "\n",
        "processing 13/07/2014\n",
        "checking pattern:  (\\A([0][0-9])|\\A([1][0-2]))/[0-3][0-9]\n",
        "no match.\n",
        "\n",
        "processing HelloWorld\n",
        "checking pattern:  (\\A([0][0-9])|\\A([1][0-2]))/[0-3][0-9]\n",
        "no match.\n",
        "\n",
        "processing 89/45/2014\n",
        "checking pattern:  (\\A([0][0-9])|\\A([1][0-2]))/[0-3][0-9]\n",
        "no match.\n",
        "\n",
        "processing 1234567890\n",
        "checking pattern:  (\\A([0][0-9])|\\A([1][0-2]))/[0-3][0-9]\n",
        "no match.\n",
        "\n",
        "processing aword\n",
        "checking pattern:  (\\A([0][0-9])|\\A([1][0-2]))/[0-3][0-9]\n",
        "no match.\n"
       ]
      }
     ],
     "prompt_number": 55
    },
    {
     "cell_type": "markdown",
     "metadata": {},
     "source": [
      "##Pandas Data Analysis\n",
      "Pandas gives us a nice set of tools to work with columnar data (similar to R's dataframe). \n",
      "To learn how to use this it makes the most sense to use a real data set.\n",
      "For this assignment we'll use the KDD Cup 1998 dataset, which can be sourced from http://kdd.ics.uci.edu/databases/kddcup98/kddcup98.html .\n",
      "\n",
      "\n",
      "###Acquiring Data\n",
      "First we pull the README file from the dataset into this notebook via the unix \"curl\" command.  Remember you can hide/minimize output cells via the button on the left of the output."
     ]
    },
    {
     "cell_type": "code",
     "collapsed": false,
     "input": [
      "!curl http://kdd.ics.uci.edu/databases/kddcup98/epsilon_mirror/readme"
     ],
     "language": "python",
     "metadata": {},
     "outputs": [
      {
       "output_type": "stream",
       "stream": "stdout",
       "text": [
        "+--------------------------------------------------------------------+\r",
        "\r\n",
        "| NOTE TO ALL DOWN-LOADERS                                           |\r",
        "\r\n",
        "+--------------------------------------------------------------------+\r",
        "\r\n",
        "\r",
        "\r\n",
        "The KDD-CUP-98 data set and the accompanying documentation are now \r",
        "\r\n",
        "available for general use with the following restrictions: \r",
        "\r\n",
        "\r",
        "\r\n",
        "  (1) The users of the data must notify \r",
        "\r\n",
        "\r",
        "\r\n",
        "\tIsmail Parsa\t(iparsa@epsilon.com) and\r",
        "\r\n",
        "\tKen Howes\t(khowes@epsilon.com) \r",
        "\r\n",
        "\r",
        "\r\n",
        "  in the event they produce results, visuals or tables, etc. from the \r",
        "\r\n",
        "  data and send a note that includes a summary of the final result. \r",
        "\r\n",
        "\r",
        "\r\n",
        "  (2) The authors of published and/or unpublished articles that use \r",
        "\r\n",
        "  the KDD-Cup-98 data set must also notify the individuals listed \r",
        "\r\n",
        "  above and send a copy of their published and/or unpublished work. \r",
        "\r\n",
        "\r",
        "\r\n",
        "  (3) If you intend to use this data set for training or educational\r",
        "\r\n",
        "  purposes, you must not reveal the name of the sponsor PVA \r",
        "\r\n",
        "  (Paralyzed Veterans of America) to the trainees or students. You \r",
        "\r\n",
        "  are allowed to say \"a national veterans organization\"...\r",
        "\r\n",
        "\r",
        "\r\n",
        "\r",
        "\r\n",
        "For more information regarding the KDD-Cup (including the list of the \r",
        "\r\n",
        "participants and the results), please visit the KDD-Cup-98 web page at\r",
        "\r\n",
        "\r",
        "\r\n",
        "\thttp://www.epsilon.com/new\r",
        "\r\n",
        "\r",
        "\r\n",
        "While there, scroll down to Data Mining Presentations where you will \r",
        "\r\n",
        "find the KDD-Cup-98 web page. \r",
        "\r\n",
        "\r",
        "\r\n",
        "\r",
        "\r\n",
        "Ismail Parsa \r",
        "\r\n",
        "Epsilon \r",
        "\r\n",
        "50 Cambridge Street \r",
        "\r\n",
        "Burlington MA 01803 USA \r",
        "\r\n",
        "\r",
        "\r\n",
        "TEL: (781) 685-6734 \r",
        "\r\n",
        "FAX: (781) 685-0806 \r",
        "\r\n",
        "\r",
        "\r\n",
        "+--------------------------------------------------------------------+\r",
        "\r\n",
        "| LISTING of the FILES (README FILE)                                 |\r",
        "\r\n",
        "+--------------------------------------------------------------------+\r",
        "\r\n",
        "\r",
        "\r\n",
        "File Naming Conventions: \r",
        "\r\n",
        "\r",
        "\r\n",
        "o cup98               : KDD-CUP-98 \r",
        "\r\n",
        "o      QUE            : QUEstionnaire \r",
        "\r\n",
        "o      DOC            : DOCumentation\r",
        "\r\n",
        "o      DIC            : DICtionary\r",
        "\r\n",
        "o      LRN            : LeaRNing data set \r",
        "\r\n",
        "o      VAL            : VALidation data set \r",
        "\r\n",
        "o      VALtargt       : TARGeT fields for VALidation data set\r",
        "\r\n",
        "o              .txt   : plain ascii text files\r",
        "\r\n",
        "o              .zip   : PKZIP compressed files\r",
        "\r\n",
        "o              .txt.Z : UNIX COMPRESSED files\r",
        "\r\n",
        "\r",
        "\r\n",
        "FILE NAME       DESCRIPTION\r",
        "\r\n",
        "--------------- ------------------------------------------------------\r",
        "\r\n",
        "\r",
        "\r\n",
        "README          This list, listing the files in the FTP server and \r",
        "\r\n",
        "                their contents.\r",
        "\r\n",
        "\r",
        "\r\n",
        "cup98NDA.txt    The Non-Disclosure Agreement. MUST BE SIGNED BY ALL \r",
        "\r\n",
        "                PARTICIPANTS AND MAILED BACK TO ISMAIL PARSA \r",
        "\r\n",
        "                <iparsa@epsilon.com> BEFORE DOWNLOADING THE DATA SETS.\r",
        "\r\n",
        "\r",
        "\r\n",
        "cup98DOC.txt    This file, an overview and pointer to more detailed \r",
        "\r\n",
        "                information about the competition\r",
        "\r\n",
        "\r",
        "\r\n",
        "cup98DIC.txt    Data dictionary to accompany the analysis data set. \r",
        "\r\n",
        "\r",
        "\r\n",
        "cup98QUE.txt    KDD-CUP questionnaire. PARTICIPANTS ARE REQUIRED TO\r",
        "\r\n",
        "                FILL-OUT THE QUESTIONNAIRE and turned in\r",
        "\r\n",
        "                with the results. \r",
        "\r\n",
        "\r",
        "\r\n",
        "cup98LRN.zip    PKZIP compressed raw LEARNING data set. \r",
        "\r\n",
        "                Internal name: cup98LRN.txt \r",
        "\r\n",
        "                File size: 36,468,735 bytes zipped. 117,167,952 bytes \r",
        "\r\n",
        "                unzipped.\r",
        "\r\n",
        "                Number of Records: 95412.\r",
        "\r\n",
        "                Number of Fields: 481.\r",
        "\r\n",
        "\r",
        "\r\n",
        "cup98VAL.zip    PKZIP compressed raw VALIDATION data set. \r",
        "\r\n",
        "                Internal name: cup98VAL.txt \r",
        "\r\n",
        "                File size: 36,763,018 bytes zipped. 117,943,347 bytes \r",
        "\r\n",
        "                unzipped.\r",
        "\r\n",
        "                Number of Records: 96367.\r",
        "\r\n",
        "                Number of Fields: 479.\r",
        "\r\n",
        " \r",
        "\r\n",
        "cup98LRN.txt.Z  UNIX COMPRESSed raw LEARNING data set. \r",
        "\r\n",
        "                Internal name: cup98LRN.txt \r",
        "\r\n",
        "                File size: 36,579,127 bytes compressed. 117,167,952 \r",
        "\r\n",
        "                bytes uncompressed.\r",
        "\r\n",
        "                Number of Records: 95412.\r",
        "\r\n",
        "                Number of Fields: 481.\r",
        "\r\n",
        "\r",
        "\r\n",
        "cup98VAL.txt.Z  UNIX COMPRESSed raw VALIDATION data set. \r",
        "\r\n",
        "                Internal name: cup98VAL.txt \r",
        "\r\n",
        "                File size: 36,903,761 bytes compressed. 117,943,347 \r",
        "\r\n",
        "                bytes uncompressed.\r",
        "\r\n",
        "                Number of Records: 96367.\r",
        "\r\n",
        "                Number of Fields: 479.\r",
        "\r\n"
       ]
      }
     ],
     "prompt_number": 4
    },
    {
     "cell_type": "markdown",
     "metadata": {},
     "source": [
      "As you can see this README describes several files which may be of use.  In particular there are two more documentation files (DOC and DIC) we should read to get an idea of the data format.  Bring these files into the notebook."
     ]
    },
    {
     "cell_type": "code",
     "collapsed": false,
     "input": [
      "!rm -rf cup98*\n",
      "!wget http://kdd.ics.uci.edu/databases/kddcup98/epsilon_mirror/cup98doc.txt\n",
      "!wget http://kdd.ics.uci.edu/databases/kddcup98/epsilon_mirror/cup98dic.txt\n",
      "!ls -ltr"
     ],
     "language": "python",
     "metadata": {},
     "outputs": [
      {
       "output_type": "stream",
       "stream": "stdout",
       "text": [
        "--2014-10-26 12:44:39--  http://kdd.ics.uci.edu/databases/kddcup98/epsilon_mirror/cup98doc.txt\r\n",
        "Resolving kdd.ics.uci.edu (kdd.ics.uci.edu)... 128.195.1.87\r\n",
        "Connecting to kdd.ics.uci.edu (kdd.ics.uci.edu)|128.195.1.87|:80... connected.\r\n",
        "HTTP request sent, awaiting response... 200 OK\r\n",
        "Length: 62956 (61K) [text/plain]\r\n",
        "Saving to: \u2018cup98doc.txt\u2019\r\n",
        "\r\n",
        "\r",
        " 0% [                                       ] 0           --.-K/s              "
       ]
      },
      {
       "output_type": "stream",
       "stream": "stdout",
       "text": [
        "\r",
        "100%[======================================>] 62,956      --.-K/s   in 0.06s   \r\n",
        "\r\n",
        "2014-10-26 12:44:40 (974 KB/s) - \u2018cup98doc.txt\u2019 saved [62956/62956]\r\n",
        "\r\n"
       ]
      },
      {
       "output_type": "stream",
       "stream": "stdout",
       "text": [
        "--2014-10-26 12:44:40--  http://kdd.ics.uci.edu/databases/kddcup98/epsilon_mirror/cup98dic.txt\r\n",
        "Resolving kdd.ics.uci.edu (kdd.ics.uci.edu)... 128.195.1.87\r\n",
        "Connecting to kdd.ics.uci.edu (kdd.ics.uci.edu)|128.195.1.87|:80... connected.\r\n",
        "HTTP request sent, awaiting response... 200 OK\r\n",
        "Length: 56987 (56K) [text/plain]\r\n",
        "Saving to: \u2018cup98dic.txt\u2019\r\n",
        "\r\n",
        "\r",
        " 0% [                                       ] 0           --.-K/s              "
       ]
      },
      {
       "output_type": "stream",
       "stream": "stdout",
       "text": [
        "\r",
        "100%[======================================>] 56,987      --.-K/s   in 0.07s   \r\n",
        "\r\n",
        "2014-10-26 12:44:40 (814 KB/s) - \u2018cup98dic.txt\u2019 saved [56987/56987]\r\n",
        "\r\n"
       ]
      },
      {
       "output_type": "stream",
       "stream": "stdout",
       "text": [
        "total 172\r\n",
        "-rw-rw-r-- 1 dyerke dyerke 56987 Feb  5  1999 cup98dic.txt\r\n",
        "-rw-rw-r-- 1 dyerke dyerke 62956 Feb  5  1999 cup98doc.txt\r\n",
        "-rw-rw-r-- 1 dyerke dyerke   168 Oct 26 09:46 pickle.pkl\r\n",
        "-rw-rw-r-- 1 dyerke dyerke   156 Oct 26 09:46 json.json\r\n",
        "-rw-r--r-- 1 dyerke dyerke  3072 Oct 26 09:48 Datatype\r\n"
       ]
      }
     ],
     "prompt_number": 11
    },
    {
     "cell_type": "markdown",
     "metadata": {},
     "source": [
      "Now we wish to download the cup98lrn.zip file and unzip it into a new subdirectory called \"data\".  \n",
      "However, since this file is pretty big we don't want to store it on github.  \n",
      "Luckily git provides the [.gitignore](http://git-scm.com/docs/gitignore) file which allows us to specify files we don't want to put into our git repository.\n",
      "\n",
      "Please do the following steps:\n",
      "\n",
      "1. Add the directory \"data\" to the .gitignore file\n",
      "2. Commit the new .gitignore file\n",
      "3. Create a new directory \"data\"\n",
      "4. Download http://kdd.ics.uci.edu/databases/kddcup98/epsilon_mirror/cup98lrn.zip into the data directory\n",
      "5. Unzip the cup98lrn.zip (we will only be using the unzipped version, so feel free to remove the zip file)\n",
      "6. Run \"git status\" to show that the data directory is not an untracked file (this indicates it is ignored)\n",
      "\n",
      "**NOTE:** These steps only need to be run once, it is advised you comment all the lines out by putting a # at the start of each line after they have run.  This will save you time in the future when you have to rerun all cells/don't want to spend a few minutes downloading the data file."
     ]
    },
    {
     "cell_type": "code",
     "collapsed": false,
     "input": [
      "!mkdir -p /home/dyerke/Documents/DSE/DSE200-notebooks/lecture_2_github_io_numpy_pandas/data\n",
      "!echo \"./lecture_2_github_io_numpy_pandas/data\" >> /home/dyerke/Documents/DSE/DSE200-notebooks/.gitignore\n",
      "!pwd\n",
      "!ls -ltr"
     ],
     "language": "python",
     "metadata": {},
     "outputs": [
      {
       "output_type": "stream",
       "stream": "stdout",
       "text": [
        "/home/dyerke/Documents/DSE/DSE200-notebooks/lecture_2_github_io_numpy_pandas/working\r\n"
       ]
      },
      {
       "output_type": "stream",
       "stream": "stdout",
       "text": [
        "total 172\r\n",
        "-rw-rw-r-- 1 dyerke dyerke 56987 Feb  5  1999 cup98dic.txt\r\n",
        "-rw-rw-r-- 1 dyerke dyerke 62956 Feb  5  1999 cup98doc.txt\r\n",
        "-rw-rw-r-- 1 dyerke dyerke   168 Oct 26 09:46 pickle.pkl\r\n",
        "-rw-rw-r-- 1 dyerke dyerke   156 Oct 26 09:46 json.json\r\n",
        "-rw-r--r-- 1 dyerke dyerke  3072 Oct 26 09:48 Datatype\r\n"
       ]
      }
     ],
     "prompt_number": 15
    },
    {
     "cell_type": "markdown",
     "metadata": {},
     "source": [
      "Now perform some basic sanity checks on the data.  Using a combination of unix/basic python answer the following questions:\n",
      "\n",
      "1. How many lines are there?  \n",
      "2. Is the file character seperated or fixed width format?\n",
      "3. Is there a header?  If so how many fields are in it?\n",
      "4. Do all rows have the same number of fields as the header?\n",
      "5. Does anyhting in 1-4 disagree with the readme file or indicate erroneous data?"
     ]
    },
    {
     "cell_type": "code",
     "collapsed": false,
     "input": [],
     "language": "python",
     "metadata": {},
     "outputs": []
    },
    {
     "cell_type": "markdown",
     "metadata": {},
     "source": [
      "Give answers to questions 1-4 in this markdown cell:\n",
      "\n",
      "1. \n",
      "2. \n",
      "3. \n",
      "4. \n",
      "\n",
      "Now load the data file into a pandas data frame called \"learn\".  To save some time, we've loaded the data dictionary into col_types.  \n",
      "\n",
      "Finally split learn into two data frames, learn_y: the targets (two columns described in the documentation) and learn_x: the predictors (everything but the targets)"
     ]
    },
    {
     "cell_type": "code",
     "collapsed": false,
     "input": [
      "dict_file = open(\"dict.dat\")\n",
      "col_types = [ (x.split(\"\\t\")[0], x.strip().split(\"\\t\")[1]) for x in dict_file.readlines() ]"
     ],
     "language": "python",
     "metadata": {},
     "outputs": []
    },
    {
     "cell_type": "code",
     "collapsed": false,
     "input": [],
     "language": "python",
     "metadata": {},
     "outputs": []
    },
    {
     "cell_type": "markdown",
     "metadata": {},
     "source": [
      "###Summarizing Data\n",
      "Now that we have loaded data into the learn table, we wish to to summarize the data.  \n",
      "Write a function called summary which takes a pandas data frame and prints a summary of each column containing the following:\n",
      "\n",
      "If the column is numeric:\n",
      "\n",
      "1. Mean\n",
      "2. Standard Deviation\n",
      "3. Min/Max\n",
      "4. Number of missing values (NaN, Inf, NA)\n",
      "\n",
      "If the column is non alphabetical:\n",
      "\n",
      "1. Number of distinct values\n",
      "2. Number of missing values (NaN, INF, NA, blank/all spaces)\n",
      "3. The frequency of the 3 most common values and 3 least common values\n",
      "\n",
      "Format the output to be human readable.\n",
      "\n",
      "For example:\n",
      "> Field_1  \n",
      "> mean: 50  \n",
      "> std_dev: 25  \n",
      "> min: 0  \n",
      "> max: 100  \n",
      "> missing: 5\n",
      ">  \n",
      "> Field_2  \n",
      "> distinct_values: 100  \n",
      "> missing: 10  \n",
      ">  \n",
      "> 3 most common:  \n",
      ">   the: 1000  \n",
      ">   cat: 950  \n",
      ">   meows: 900  \n",
      ">  \n",
      "> 3 least common:  \n",
      ">   dogs: 5  \n",
      ">   lizards: 4  \n",
      ">   eggs: 1  "
     ]
    },
    {
     "cell_type": "code",
     "collapsed": false,
     "input": [
      " "
     ],
     "language": "python",
     "metadata": {},
     "outputs": []
    },
    {
     "cell_type": "markdown",
     "metadata": {},
     "source": [
      "###Feature Engineering\n",
      "\n",
      "As you should have seen, there are a number of columns which are encoded as text.  To perform modeling we must convert these to somthing more numeric or throw them away.  There are a number of ways to do this which are useful in different situations.  For each of the following methods described, write a function that will take a data frame, the column you want to process, any other needed arguements and will return a data frame with the target column removed and new columns added for the described features.\n",
      "\n",
      "1. Hot 1 encoding: takes a column \"Field\" with n unique values and adds n new columns \"Field_x\" with x being each unique value of the field.  A record will have Field_x = 1 if Field = x in the original record.\n",
      "2. Risk table: If a record contains x in Field, replace x with the percent of all records containing x that are taged as positive.  IE if there are 100 records with the zip code 92110 10 of which are positive, replace 92110 in the zip field with 0.1.\n",
      "3. Regex contains: similar to hot one, but instead allow the user to specify some regex patterns x and set Field_x to 1 if the regex pattern x matches the value in Field.  An example usage might be to standardize occupations to student/employed/unemployed.\n",
      "4. Erase feature: remove the feature and don't add any features\n",
      "5. **BONUS:** One unique featureization idea of your choosing.  \n",
      "\n",
      "After this, apply one of your featurizers for each of the 75 non numeric columns.  Since there are so many columns you should use the summary statisitics to choose hot 1, risk table, or erase for most of them.  Come up with a basic heuristic to choose one of them (*Hint: you don't want to generate a ton of mostly constant features*).  Use the regex contains featureizer on at least 2 columns to extract some interesting meaning.  "
     ]
    },
    {
     "cell_type": "code",
     "collapsed": false,
     "input": [],
     "language": "python",
     "metadata": {},
     "outputs": []
    },
    {
     "cell_type": "markdown",
     "metadata": {},
     "source": [
      "Now that learn_y contains *only* numeric columns, we wish to normalize all features so that they all have similar ranges of values.  To do this we apply the [Z-transform](http://en.wikipedia.org/wiki/Standard_score).  Apply this independently to all columns in the data set.  This is the whitening transofrm used by the PCA model in the iris notebook."
     ]
    },
    {
     "cell_type": "code",
     "collapsed": false,
     "input": [],
     "language": "python",
     "metadata": {},
     "outputs": []
    },
    {
     "cell_type": "markdown",
     "metadata": {},
     "source": [
      "###Modeling\n",
      "\n",
      "Note that there are two labeles for this dataset: weather a person donated or not and how much they donated if they donated.  To accurately model this we would need more complicated techniques you will learn in later coursework.  However, for now we can do some exploratory analysis similar to the housing/iris notebooks we saw in class friday.\n",
      "\n",
      "Do the following steps:\n",
      "\n",
      "**Unsupervised Modeling**\n",
      "1. Use PCA to project the features onto a 2 dimensional subspace, join with the labels and plot each point using the doner/non doner to color points.  Do the labels look cleanly seperated in this 2 dimensional subspace?\n",
      "2. Cluster the raw features into 2 clusters.  Compute the percentage of donors in each cluster.  Do one of the clusters have a higher donor rate than the other?  Plot the two features which seem to seperate the clusters the most, coloring the points by the labels.\n",
      "\n",
      "**Supervised Modeling**\n",
      "1. Build a regression model on the set of known donors to predict the donation amount from all features.\n",
      "2. Compute the mean error and plot the true donation size vs predicted donation size.\n",
      "3. Print a list of features/weights for hte linear regression model sorted by absolute weight.  Do the highest weight features seem like things that would affect donation size?"
     ]
    }
   ],
   "metadata": {}
  }
 ]
}